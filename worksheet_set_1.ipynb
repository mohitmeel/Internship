{
 "cells": [
  {
   "cell_type": "code",
   "execution_count": 1,
   "id": "41dd3640",
   "metadata": {},
   "outputs": [
    {
     "data": {
      "text/plain": [
       "0"
      ]
     },
     "execution_count": 1,
     "metadata": {},
     "output_type": "execute_result"
    }
   ],
   "source": [
    "2//3"
   ]
  },
  {
   "cell_type": "code",
   "execution_count": 5,
   "id": "c223c582",
   "metadata": {},
   "outputs": [
    {
     "data": {
      "text/plain": [
       "24"
      ]
     },
     "execution_count": 5,
     "metadata": {},
     "output_type": "execute_result"
    }
   ],
   "source": [
    "6<<2"
   ]
  },
  {
   "cell_type": "code",
   "execution_count": 6,
   "id": "dc07ea22",
   "metadata": {},
   "outputs": [
    {
     "data": {
      "text/plain": [
       "2"
      ]
     },
     "execution_count": 6,
     "metadata": {},
     "output_type": "execute_result"
    }
   ],
   "source": [
    "6&2"
   ]
  },
  {
   "cell_type": "code",
   "execution_count": 7,
   "id": "de16f14b",
   "metadata": {},
   "outputs": [
    {
     "data": {
      "text/plain": [
       "6"
      ]
     },
     "execution_count": 7,
     "metadata": {},
     "output_type": "execute_result"
    }
   ],
   "source": [
    "6|2"
   ]
  },
  {
   "cell_type": "markdown",
   "id": "c344eed3",
   "metadata": {},
   "source": [
    "python assignment"
   ]
  },
  {
   "cell_type": "markdown",
   "id": "ae791c00",
   "metadata": {},
   "source": [
    "Ans11)\n",
    "factorial of number is 5"
   ]
  },
  {
   "cell_type": "code",
   "execution_count": 33,
   "id": "f76e29d7",
   "metadata": {},
   "outputs": [
    {
     "name": "stdout",
     "output_type": "stream",
     "text": [
      "enter the number5\n",
      "factorial of 5 is 1\n",
      "factorial of 5 is 2\n",
      "factorial of 5 is 6\n",
      "factorial of 5 is 24\n",
      "factorial of 5 is 120\n"
     ]
    }
   ],
   "source": [
    "num=int(input('enter the number'))\n",
    "fact=1\n",
    "for i in range(1,num+1):\n",
    "    fact=fact*i\n",
    "    print('factorial of',num,'is',fact)"
   ]
  },
  {
   "cell_type": "markdown",
   "id": "22acd58b",
   "metadata": {},
   "source": [
    "Ans12)"
   ]
  },
  {
   "cell_type": "code",
   "execution_count": 15,
   "id": "0a641070",
   "metadata": {},
   "outputs": [
    {
     "name": "stdout",
     "output_type": "stream",
     "text": [
      "enter the number25\n",
      "25 is not the prime number\n"
     ]
    }
   ],
   "source": [
    "num=int(input('enter the number'))\n",
    "if num > 1:\n",
    "    for i in range(2,num):\n",
    "        if num % i == 0:\n",
    "            print(num,'is not the prime number')\n",
    "            break\n",
    "    else:\n",
    "        print(num,'is the prime number')\n",
    "if num == 0 or num == 1:\n",
    "        print(num,'is not prime.it is composite')\n",
    "        \n"
   ]
  },
  {
   "cell_type": "markdown",
   "id": "b4e8d110",
   "metadata": {},
   "source": [
    "Ans13)"
   ]
  },
  {
   "cell_type": "code",
   "execution_count": 18,
   "id": "98a8661d",
   "metadata": {},
   "outputs": [
    {
     "name": "stdout",
     "output_type": "stream",
     "text": [
      "enter the wordhisar\n",
      "no\n"
     ]
    }
   ],
   "source": [
    "x=input('enter the word')\n",
    "y=''\n",
    "for i in x:\n",
    "    y=i+y\n",
    "if x==y:\n",
    "    print('yes')\n",
    "else:\n",
    "    print('no')\n",
    "    "
   ]
  },
  {
   "cell_type": "markdown",
   "id": "09726291",
   "metadata": {},
   "source": [
    "Ans14)"
   ]
  },
  {
   "cell_type": "code",
   "execution_count": 5,
   "id": "424905f6",
   "metadata": {
    "scrolled": true
   },
   "outputs": [
    {
     "name": "stdout",
     "output_type": "stream",
     "text": [
      "the length of one side8\n",
      "length of second side6\n",
      "100\n",
      "the length of third side is 10.0\n"
     ]
    }
   ],
   "source": [
    "a=int(input('the length of one side'))\n",
    "b=int(input('length of second side'))\n",
    "c=a**2 + b**2\n",
    "print(c)\n",
    "d=c**(1/2)\n",
    "print('the length of third side is',d)"
   ]
  },
  {
   "cell_type": "markdown",
   "id": "dd6394c5",
   "metadata": {},
   "source": [
    "Ans15)"
   ]
  },
  {
   "cell_type": "code",
   "execution_count": 8,
   "id": "ed6413ed",
   "metadata": {},
   "outputs": [
    {
     "name": "stdout",
     "output_type": "stream",
     "text": [
      "the string malayalam\n",
      "frequency of each character :\n",
      " {'m': 2, 'a': 4, 'l': 2, 'y': 1}\n"
     ]
    }
   ],
   "source": [
    "g='malayalam'\n",
    "print('the string',g)\n",
    "res={}\n",
    "for i in g:\n",
    "    res[i]=res.get(i,0)+1\n",
    "print('frequency of each character :\\n',res)    "
   ]
  },
  {
   "cell_type": "code",
   "execution_count": null,
   "id": "e825b434",
   "metadata": {},
   "outputs": [],
   "source": []
  },
  {
   "cell_type": "code",
   "execution_count": null,
   "id": "887bf3ac",
   "metadata": {},
   "outputs": [],
   "source": []
  },
  {
   "cell_type": "code",
   "execution_count": null,
   "id": "ea0ec4f4",
   "metadata": {},
   "outputs": [],
   "source": []
  }
 ],
 "metadata": {
  "kernelspec": {
   "display_name": "Python 3 (ipykernel)",
   "language": "python",
   "name": "python3"
  },
  "language_info": {
   "codemirror_mode": {
    "name": "ipython",
    "version": 3
   },
   "file_extension": ".py",
   "mimetype": "text/x-python",
   "name": "python",
   "nbconvert_exporter": "python",
   "pygments_lexer": "ipython3",
   "version": "3.9.7"
  }
 },
 "nbformat": 4,
 "nbformat_minor": 5
}
