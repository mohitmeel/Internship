{
 "cells": [
  {
   "cell_type": "markdown",
   "id": "eb5c873b",
   "metadata": {},
   "source": [
    "ans1)"
   ]
  },
  {
   "cell_type": "code",
   "execution_count": 1,
   "id": "94249de5",
   "metadata": {},
   "outputs": [
    {
     "name": "stdout",
     "output_type": "stream",
     "text": [
      "Collecting Selenium\n",
      "  Downloading selenium-4.1.3-py3-none-any.whl (968 kB)\n",
      "Collecting trio~=0.17\n",
      "  Downloading trio-0.20.0-py3-none-any.whl (359 kB)\n",
      "Requirement already satisfied: urllib3[secure,socks]~=1.26 in c:\\users\\hp\\anaconda3\\lib\\site-packages (from Selenium) (1.26.7)\n",
      "Collecting trio-websocket~=0.9\n",
      "  Downloading trio_websocket-0.9.2-py3-none-any.whl (16 kB)\n",
      "Requirement already satisfied: async-generator>=1.9 in c:\\users\\hp\\anaconda3\\lib\\site-packages (from trio~=0.17->Selenium) (1.10)\n",
      "Requirement already satisfied: sniffio in c:\\users\\hp\\anaconda3\\lib\\site-packages (from trio~=0.17->Selenium) (1.2.0)\n",
      "Collecting outcome\n",
      "  Downloading outcome-1.1.0-py2.py3-none-any.whl (9.7 kB)\n",
      "Requirement already satisfied: sortedcontainers in c:\\users\\hp\\anaconda3\\lib\\site-packages (from trio~=0.17->Selenium) (2.4.0)\n",
      "Requirement already satisfied: idna in c:\\users\\hp\\anaconda3\\lib\\site-packages (from trio~=0.17->Selenium) (3.2)\n",
      "Requirement already satisfied: cffi>=1.14 in c:\\users\\hp\\anaconda3\\lib\\site-packages (from trio~=0.17->Selenium) (1.14.6)\n",
      "Requirement already satisfied: attrs>=19.2.0 in c:\\users\\hp\\anaconda3\\lib\\site-packages (from trio~=0.17->Selenium) (21.2.0)\n",
      "Requirement already satisfied: pycparser in c:\\users\\hp\\anaconda3\\lib\\site-packages (from cffi>=1.14->trio~=0.17->Selenium) (2.20)\n",
      "Collecting wsproto>=0.14\n",
      "  Downloading wsproto-1.1.0-py3-none-any.whl (24 kB)\n",
      "Requirement already satisfied: PySocks!=1.5.7,<2.0,>=1.5.6 in c:\\users\\hp\\anaconda3\\lib\\site-packages (from urllib3[secure,socks]~=1.26->Selenium) (1.7.1)\n",
      "Requirement already satisfied: pyOpenSSL>=0.14 in c:\\users\\hp\\anaconda3\\lib\\site-packages (from urllib3[secure,socks]~=1.26->Selenium) (21.0.0)\n",
      "Requirement already satisfied: cryptography>=1.3.4 in c:\\users\\hp\\anaconda3\\lib\\site-packages (from urllib3[secure,socks]~=1.26->Selenium) (3.4.8)\n",
      "Requirement already satisfied: certifi in c:\\users\\hp\\anaconda3\\lib\\site-packages (from urllib3[secure,socks]~=1.26->Selenium) (2021.10.8)\n",
      "Requirement already satisfied: six>=1.5.2 in c:\\users\\hp\\anaconda3\\lib\\site-packages (from pyOpenSSL>=0.14->urllib3[secure,socks]~=1.26->Selenium) (1.16.0)\n",
      "Collecting h11<1,>=0.9.0\n",
      "  Downloading h11-0.13.0-py3-none-any.whl (58 kB)\n",
      "Installing collected packages: outcome, h11, wsproto, trio, trio-websocket, Selenium\n",
      "Successfully installed Selenium-4.1.3 h11-0.13.0 outcome-1.1.0 trio-0.20.0 trio-websocket-0.9.2 wsproto-1.1.0\n"
     ]
    }
   ],
   "source": [
    "!pip install Selenium"
   ]
  },
  {
   "cell_type": "code",
   "execution_count": 1,
   "id": "c0b4b6cf",
   "metadata": {},
   "outputs": [],
   "source": [
    "import selenium\n",
    "from selenium import webdriver\n",
    "import pandas as pd\n",
    "import warnings\n",
    "warnings.filterwarnings('ignore')"
   ]
  },
  {
   "cell_type": "code",
   "execution_count": 61,
   "id": "f9585072",
   "metadata": {},
   "outputs": [],
   "source": [
    "driver=webdriver.Chrome('chromedriver.exe')"
   ]
  },
  {
   "cell_type": "code",
   "execution_count": 62,
   "id": "fb554559",
   "metadata": {},
   "outputs": [],
   "source": [
    "url=('https://www.amazon.in/')\n",
    "driver.get(url)"
   ]
  },
  {
   "cell_type": "code",
   "execution_count": 63,
   "id": "c61b0de7",
   "metadata": {},
   "outputs": [
    {
     "data": {
      "text/plain": [
       "<selenium.webdriver.remote.webelement.WebElement (session=\"f7e25717ffa48bf6cf27835704330ab4\", element=\"5c1720e3-33f8-4903-9a5a-3fb4f7a26f55\")>"
      ]
     },
     "execution_count": 63,
     "metadata": {},
     "output_type": "execute_result"
    }
   ],
   "source": [
    "search=driver.find_element_by_xpath('/html/body/div[1]/header/div/div[1]/div[2]/div/form/div[2]/div[1]/input')\n",
    "search"
   ]
  },
  {
   "cell_type": "code",
   "execution_count": 64,
   "id": "9ae566ca",
   "metadata": {},
   "outputs": [],
   "source": [
    "search.send_keys('dogs clothes')"
   ]
  },
  {
   "cell_type": "code",
   "execution_count": 65,
   "id": "adf54b50",
   "metadata": {},
   "outputs": [
    {
     "data": {
      "text/plain": [
       "<selenium.webdriver.remote.webelement.WebElement (session=\"f7e25717ffa48bf6cf27835704330ab4\", element=\"2b81a1de-7027-4ec0-964f-1a835e31316b\")>"
      ]
     },
     "execution_count": 65,
     "metadata": {},
     "output_type": "execute_result"
    }
   ],
   "source": [
    "searchbt=driver.find_element_by_xpath('/html/body/div[1]/header/div/div[1]/div[2]/div/form/div[3]/div')\n",
    "searchbt"
   ]
  },
  {
   "cell_type": "code",
   "execution_count": 66,
   "id": "01e4dad5",
   "metadata": {},
   "outputs": [],
   "source": [
    "searchbt.click()"
   ]
  },
  {
   "cell_type": "markdown",
   "id": "6a473392",
   "metadata": {},
   "source": [
    "ans2)"
   ]
  },
  {
   "cell_type": "code",
   "execution_count": 67,
   "id": "b863d8c0",
   "metadata": {},
   "outputs": [
    {
     "data": {
      "text/plain": [
       "[<selenium.webdriver.remote.webelement.WebElement (session=\"f7e25717ffa48bf6cf27835704330ab4\", element=\"e757052e-1dfb-41b7-9230-179a84575056\")>,\n",
       " <selenium.webdriver.remote.webelement.WebElement (session=\"f7e25717ffa48bf6cf27835704330ab4\", element=\"c750b137-457e-4c2c-8f21-f781889820e2\")>]"
      ]
     },
     "execution_count": 67,
     "metadata": {},
     "output_type": "execute_result"
    }
   ],
   "source": [
    "productname=driver.find_elements_by_xpath('//span[@class=\"a-size-base-plus a-color-base a-text-normal\"]')\n",
    "productname[0:2]"
   ]
  },
  {
   "cell_type": "code",
   "execution_count": 68,
   "id": "f93d61c7",
   "metadata": {},
   "outputs": [
    {
     "data": {
      "text/plain": [
       "['Oz International Dog Shirt with Collar | Pet Apparels for Puppy, Small Dogs & Cats|Cotton Interlocked Fabric Shirts',\n",
       " 'Myartbucket Summer Dog T-Shirt Apni Hati to Sabki Fati Printed Pets Round Neck Sleeveless Vest Tank/Tees/Apparel/Clothes for Dogs (Blue) (Extra-Small)',\n",
       " 'Myartbucket Summer Dog T-Shirt apni chalti to sabki jalti Printed Pets Round Neck Sleeveless Vest Tank/Tees/Apparel/Clothes for Dogs(Yellow) (Extra-Small)',\n",
       " 'Myartbucket Pets Puppy Clothes Dog Summer Shirt Dress | Dogs Clothes, Dress Cute Skirt Outfit Set Adorable Dog Sling Skirt Dog Neck Belt Vest Tanks Tops Tees (Silver-Blue Color) (Large)',\n",
       " 'Ruse Pet Good Boy Jersey No.5 Printed Round Neck Sleeveless Dog Vest Tank T-Shirt/Tees Apparel/Clothes/Tees Gift for Dogs(Black) Medium (Chubby Pugs, Beagle etc.)',\n",
       " 'Ruse Summer Dog T-Shirt Troublemaker Printed Pets Round Neck Sleeveless Vest Tank/Tees/Apparel/Clothes for Dogs Poppy Red/Large (Full Grown Desi/Stray, Doberman etc.)',\n",
       " \"Emily Pets Pet Dog Hawaiian Costume, Includes Puppy Dog's Cool T-Shirts Summer Clothes, Funny Cute Dogs Retro Fashion for Small to Extra Large (XL,White)\",\n",
       " 'FETCHER Blue & Black Premium Dog T-Shirts (Set of 2)',\n",
       " 'Ruse Pet Good Boy Jersey No.1 Printed Round Neck Sleeveless Dog Vest Tank T-Shirt/Tees Apparel/Clothes/Tees Gift for Dogs(Red) Small (Apso, Shih Tzu etc.)',\n",
       " 'Sage Square Premium Dog Winter Ultra Warm Camouflage Army Coat Thicker Fleece Dog Hoodie Vest for Cold Weather (Size: Medium) (16 Inches)',\n",
       " 'Emily Pets Daaisy Printed Pet Shirts Dog T-Shirts Summer Puppy Pullovers Cute Dog Sweatshirts Soft Breathable Pet Apparels for Small to Medium Dogs Puppy(M,Blue)',\n",
       " 'Sage Square Premium Dog Winter Ultra Warm Camouflage Army Coat Thicker Fleece Dog Hoodie Vest for Cold Weather (1 Piece) (26Inch (XXL))',\n",
       " 'Emily Pets Cute Tutu Princess Puppy Dresses for Girl Dogs Skirt Embroidery Dog Wedding Net Hosiery Febric Frill Ruffle Sleeveless Summer Dress Elegant Pet Apparel(S,Neon)',\n",
       " 'Fetcher Dog T Shirt Sleeveless Muscle Tee Sando Vest for Dogs and Cats (Set of 2) (14\" Small)',\n",
       " \"FETCHER Dark-Blue 'I Woof You So Much' Dry Fit Hoodie for Small Dogs (Large)………\",\n",
       " 'Lulala Pet Dress Bobby Print Shirt with Contrast Stitching Cute Dog Sundress Dog Dress Puppy Summer Apparel Clothes Dog Skirt Shirt with Polka Dot Denim Dress for Dogs Cats Puppy(S,Navy Blue)',\n",
       " 'TBOP Dog Clothes Hooded Dog Sweater Cartoon Pet Clothing Supplies Sportswear (Rose Red_XL)(Color May Vary)',\n",
       " 'Kitty & The Woof Gang Red Stretchable and Soft Material with Gold top and a Patch T-Shirt - Jersey for Dog, Cat and Puppies | Please Check The Size Chart Before Ordering | Size 2XL',\n",
       " 'Jainsons Pet Products Soft Comfortable Sweatshirt for Dogs | Dog Clothes for Small Dogs | Dogs Winter Clothes | Dogs Winter Wear | Puppy Clothes for Winter | Clothes for Puppies | Pet Clothes for Dogs (16 inch, Red)',\n",
       " 'Kitty & The Woof Gang Hot Sauce - Red Dog Summer Clothes Dress T-Shirt Tees | Dog Clothes for Small Dogs | Puppy Clothes Dog Dress Cat Clothes | Comfortable Pet Clothes (12In-S)',\n",
       " 'Puptail Dog Suit or Dog Tuxedo and Bandana Set, Dogs Wedding Party Suit, Dog Wedding Bow Tie Shirt Formal Dog Weeding Attire for Large and Medium Dogs Golden Retriever, Labrador (Small)',\n",
       " 'Ruse. Pet Bosspup Round Neck Sleeveless Vest Tank T-Shirt/Tees for Dog Clothes Summer Apparel.',\n",
       " 'The Pawpstar Co. by Aditya Birla New Age T-Shirts for Dogs (XL, Green)',\n",
       " 'Lulala Dog Shirt Soft Pet Clothes Breathable Puppy Apparel Dog Blank T-Shirt for Dogs and Other Pets(S,Green)',\n",
       " 'Lulala Dog Shirt Soft Pet Clothes Breathable Puppy Apparel Dog Blank T-Shirt for Dogs and Other Pets(XS,Green)',\n",
       " 'Ruse Summer Dog T-Shirt I Love My Human Foil Edition Printed Pets Round Neck Sleeveless Vest Tank/Tees/Apparel/Clothes for Dogs Poppy Red/Golden/Small (Apso, Shih Tzu etc.)',\n",
       " 'Best Dogista Winter Dog Coat Jacket with Army Print Cloth Warm & Wind Proof 24 Inch Large',\n",
       " 'Kitty & The Woof Gang Neon Orange Dog Summer Clothes Dress T-Shirt Apparel Tees Hoodie | Dog Clothes for Small Dogs | Puppy Clothes Dog Dress Cat Clothes | Comfortable Pet Clothes (14In-M)',\n",
       " 'Sage Square Comfort Cotton Dog T-Shirt, Sleeveless Vest for Dog Clothes, Puppy Tank Top Fashion Apparel (Black) (Large) (20inche)',\n",
       " 'Sage Square Premium Dog Winter Ultra Warm Camouflage Army Coat Thicker Fleece Dog Hoodie Vest for Cold Weather (Size: Medium) (16\")',\n",
       " 'Kitty & The Woof Gang Blue Velvet Winter Jacket | Warm and Cozy Coat, Jacket, Cloth with White Faux Fur Collar and Soft and Warm Lining for Dogs, Cats and Puppies | Size L',\n",
       " 'Emily Pets Pet Summer Shirts Girl Boy Dog Clothes Cute Bowknot Love is a Four-lagged Word Patch T Shirt for Dogs,Cats,Rabbits(XS,White)',\n",
       " 'Sage Square Premium Dog Winter Ultra Warm Camouflage Army Coat Thicker Fleece Dog Hoodie Vest for Cold Weather (Size: Medium) (18 Inches)',\n",
       " 'CHOOSTIX Summer Dog & Cat, Designer T-Shirt, Black with Pink Crane, 2XL, 200g, Medium, 200 g',\n",
       " 'Sage Square Premium Dog Winter Ultra Warm Camouflage Army Coat Thicker Fleece Dog Hoodie Vest for Cold Weather (Size: Small Medium) (14 Inches)',\n",
       " 'Jainsons Pet Products® Soft Comfortable Pet Sweatshirt Dog Winter Warm Cloth (Print and Color May Vary) (20 inch, Blue)',\n",
       " 'Bowandmeow by zenuss Pet Bee Halloween Costume Bee Hoodie Pet Costume Cat Holiday Cosplay Warm Clothes Puppy Funny Cosplay Dress Clothes for Small and Medium Dog Cat Dog Clothes Pet Hoodies Costume',\n",
       " \"Dogista Winter Coat Super Poly with Heavy Fur 16'', Medium, 260 g\",\n",
       " 'Ruse Set of 2 Summer Dog T-Shirt Jumper & Pooper Printed Pets Round Neck Sleeveless Combo Vest Tank/Tees/Apparel/Clothes for Dogs Salmon/White/X-Small (New Born Puppy)',\n",
       " 'Papa Pawsome 25g Soft Paws Cream for Dogs/Puppies Moisturizes, Nourishes, Dry Chappy Cracked Elbow Snout Paws Enriched with Castor Oil | Beeswax | Tea Tree Oil | Vitamin E, 1 Piece',\n",
       " 'Emily Pets Elegant Lace Princess Tutu Dresses for Girls Dogs Clothes Cupcake Apparel Small Cats Puppy Flower(Pink,S)',\n",
       " 'Kitty & The Woof Gang Neon Orange Dog Summer Clothes Dress T-Shirt Apparel Tees Hoodie | Dog Clothes for Small Dogs | Puppy Clothes Dog Dress Cat Clothes | Comfortable Pet Clothes (12In-S)',\n",
       " 'Lulala Dog Printed Teddy T-Shirt Dog Shirt Breathable Pet Apparel Colorful Puppy Sweatshirt Dog Clothes for Small to Medium Dogs Puppy(XL,White-Sky Blue)',\n",
       " 'Ruse. Pet I Love My Human Foil Edition Round Neck Sleeveless Vest Tank T-Shirt/Tees for Dog Clothes Summer Apparel./Small (Apso, Shih Tzu etc.)',\n",
       " 'Best Dogista Winter Dog Coat Jacket with Heavy Fur Ultra Warm Wind & Water Proof in Quilted Stich Line Cloth Color May Very 12 inch Small',\n",
       " 'Sage Square Premium Dog Winter Ultra Warm Camouflage Army Coat Thicker Fleece Dog Hoodie Vest for Cold Weather (Size: XXXLarge) (30 Inches)',\n",
       " 'Puptail Dog Suit or Dog Tuxedo and Bandana Set, Dogs Wedding Party Suit, Dog Wedding Bow Tie Shirt Formal Dog Weeding Attire for Large and Medium Dogs Golden Retriever, Labrador (XX-Large)',\n",
       " 'FETCHER Printed Party Polo Dog & Cat T-Shirt for Small Breeds (Large)',\n",
       " 'Sage Square Premium Dog Winters Ultra Warm Camouflage Army Coat Thicker Fleece Dog Hoodie Vest for Cold Weather (22Inch (Large - Extra Large))',\n",
       " 'Kitty & The Woof Gang Frills - Orange Vibing Dog Summer Clothes Dress T-Shirt Tees | Dog Clothes for Small Dogs | Puppy Clothes Dog Dress Cat Clothes | Comfortable Pet Clothes (14In-M)',\n",
       " 'Kitty & The Woof Gang Back Embellished Blue Dog Summer Clothes Dress T-Shirt Tees | Dog Clothes for Small Dogs | Puppy Clothes Dog Dress Cat Clothes | Comfortable Pet Clothes (12In-S)',\n",
       " 'Kitty & The Woof Gang Black Spider Net Dress with Shantoon Lining and a Gold Lycra Bow for Dog, Cat and Puppies | Size XXL',\n",
       " 'Ruse Basic Summer Dog T-Shirt BOSSPUP Printed Pets Crew Neck Half Sleeves Shirt/Apparel/Clothes/Tees Gift for Dogs(Yellow) /XXL (Full Grown Saint Bernard, Great Dane etc.)',\n",
       " 'Emily Pets Dog Shirt Printed Puppy Shirts Pet T-Shirt and Dog Vest Soft Puppy Dog Clothes Pet Outfits Cute Pet Sweatshirt for Small Dogs and Cats(S,White)',\n",
       " 'Sage Square Comfort Cotton Dog T-Shirt, Sleeveless Vest for Dog Clothes, Puppy Tank Top Fashion Apparel (Red) (Medium) (16inches)',\n",
       " 'Ruse. Pet Security Foil Edition Round Neck Sleeveless Vest Tank T-Shirt/Tees for Dog Clothes Summer Apparel./Large (Full Grown Desi/Stray, Doberman etc.)',\n",
       " 'Emily Pets Daisy Printed Pet Shirts Dog T-Shirts Summer Puppy Pullovers Cute Dog Sweatshirts Soft Breathable Pet Apparels for Small to Medium Dogs Puppy (Large, Blue)',\n",
       " 'FETCHER Blue & Black Premium Dog T-Shirt (Set of 2)',\n",
       " \"FETCHER Red 'Mumma's Joy' Premium Dog T-Shirt for Small Breeds (M (Medium))……\",\n",
       " 'FETCHER Grey & Wine Premium Dog T-Shirts for Small Breeds (Set of 2) (X-Small)']"
      ]
     },
     "execution_count": 68,
     "metadata": {},
     "output_type": "execute_result"
    }
   ],
   "source": [
    "productnames1=[]\n",
    "for i in productname:\n",
    "    productnames1.append(i.text)\n",
    "productnames1"
   ]
  },
  {
   "cell_type": "markdown",
   "id": "d5aaf5ba",
   "metadata": {},
   "source": [
    "productnames1.pop(10)"
   ]
  },
  {
   "cell_type": "code",
   "execution_count": 97,
   "id": "46629dab",
   "metadata": {},
   "outputs": [
    {
     "data": {
      "text/plain": [
       "60"
      ]
     },
     "execution_count": 97,
     "metadata": {},
     "output_type": "execute_result"
    }
   ],
   "source": [
    "len(productnames1)"
   ]
  },
  {
   "cell_type": "code",
   "execution_count": 71,
   "id": "7d7af140",
   "metadata": {},
   "outputs": [
    {
     "data": {
      "text/plain": [
       "[<selenium.webdriver.remote.webelement.WebElement (session=\"f7e25717ffa48bf6cf27835704330ab4\", element=\"906e42a3-fc2a-4642-b36f-7f15fccc386d\")>,\n",
       " <selenium.webdriver.remote.webelement.WebElement (session=\"f7e25717ffa48bf6cf27835704330ab4\", element=\"c0713110-130d-4834-893b-11bb7a3ff331\")>]"
      ]
     },
     "execution_count": 71,
     "metadata": {},
     "output_type": "execute_result"
    }
   ],
   "source": [
    "price=driver.find_elements_by_xpath('//span[@class=\"a-price-whole\"]')\n",
    "price[0:2]"
   ]
  },
  {
   "cell_type": "code",
   "execution_count": 72,
   "id": "9cadc906",
   "metadata": {},
   "outputs": [
    {
     "data": {
      "text/plain": [
       "['1,299',\n",
       " '499',\n",
       " '499',\n",
       " '1,450',\n",
       " '349',\n",
       " '680',\n",
       " '299',\n",
       " '680',\n",
       " '549',\n",
       " '349',\n",
       " '338',\n",
       " '299',\n",
       " '449',\n",
       " '299',\n",
       " '399',\n",
       " '575',\n",
       " '399',\n",
       " '548',\n",
       " '159',\n",
       " '350',\n",
       " '609',\n",
       " '1,290',\n",
       " '699',\n",
       " '599',\n",
       " '299',\n",
       " '299',\n",
       " '780',\n",
       " '425',\n",
       " '185',\n",
       " '239',\n",
       " '264',\n",
       " '419',\n",
       " '299',\n",
       " '349',\n",
       " '1,210',\n",
       " '298',\n",
       " '374',\n",
       " '449',\n",
       " '1,329',\n",
       " '200',\n",
       " '474',\n",
       " '327',\n",
       " '799',\n",
       " '418',\n",
       " '498',\n",
       " '1,690',\n",
       " '399',\n",
       " '335',\n",
       " '1,008',\n",
       " '280',\n",
       " '269',\n",
       " '680',\n",
       " '299',\n",
       " '239',\n",
       " '724',\n",
       " '299',\n",
       " '549',\n",
       " '359',\n",
       " '499',\n",
       " '5,474.',\n",
       " '4,989.',\n",
       " '13,479.',\n",
       " '6,328.',\n",
       " '2,999.',\n",
       " '690.',\n",
       " '275.',\n",
       " '699.',\n",
       " '269.',\n",
       " '1,799.',\n",
       " '251.',\n",
       " '1,599.',\n",
       " '169.',\n",
       " '1,449.',\n",
       " '275.',\n",
       " '399.',\n",
       " '799.',\n",
       " '849.']"
      ]
     },
     "execution_count": 72,
     "metadata": {},
     "output_type": "execute_result"
    }
   ],
   "source": [
    "prices1=[]\n",
    "for i in price:\n",
    "    prices1.append(i.text)\n",
    "prices1"
   ]
  },
  {
   "cell_type": "markdown",
   "id": "8384c6a4",
   "metadata": {},
   "source": [
    "prices1.pop()"
   ]
  },
  {
   "cell_type": "code",
   "execution_count": 101,
   "id": "ff475e13",
   "metadata": {},
   "outputs": [
    {
     "data": {
      "text/plain": [
       "['1,299',\n",
       " '499',\n",
       " '499',\n",
       " '1,450',\n",
       " '349',\n",
       " '680',\n",
       " '299',\n",
       " '549',\n",
       " '349',\n",
       " '338',\n",
       " '299',\n",
       " '449',\n",
       " '299',\n",
       " '399',\n",
       " '575',\n",
       " '399',\n",
       " '548',\n",
       " '159',\n",
       " '350',\n",
       " '609',\n",
       " '1,290',\n",
       " '699',\n",
       " '599',\n",
       " '299',\n",
       " '299',\n",
       " '780',\n",
       " '425',\n",
       " '185',\n",
       " '239',\n",
       " '264',\n",
       " '419',\n",
       " '299',\n",
       " '349',\n",
       " '1,210',\n",
       " '298',\n",
       " '_',\n",
       " '374',\n",
       " '449',\n",
       " '1,329',\n",
       " '200',\n",
       " '474',\n",
       " '_',\n",
       " '327',\n",
       " '799',\n",
       " '418',\n",
       " '498',\n",
       " '1,690',\n",
       " '399',\n",
       " '335',\n",
       " '1,008',\n",
       " '280',\n",
       " '269',\n",
       " '680',\n",
       " '299',\n",
       " '239',\n",
       " '724',\n",
       " '299',\n",
       " '549',\n",
       " '359',\n",
       " '499']"
      ]
     },
     "execution_count": 101,
     "metadata": {},
     "output_type": "execute_result"
    }
   ],
   "source": [
    "prices1"
   ]
  },
  {
   "cell_type": "markdown",
   "id": "a77ab118",
   "metadata": {},
   "source": [
    "prices1.insert(-24,'_')"
   ]
  },
  {
   "cell_type": "code",
   "execution_count": 100,
   "id": "6d7e4296",
   "metadata": {},
   "outputs": [
    {
     "data": {
      "text/plain": [
       "60"
      ]
     },
     "execution_count": 100,
     "metadata": {},
     "output_type": "execute_result"
    }
   ],
   "source": [
    "len(prices1)"
   ]
  },
  {
   "cell_type": "code",
   "execution_count": 102,
   "id": "8f71c199",
   "metadata": {},
   "outputs": [
    {
     "data": {
      "text/plain": [
       "[<selenium.webdriver.remote.webelement.WebElement (session=\"f7e25717ffa48bf6cf27835704330ab4\", element=\"faaf692a-f0c6-4132-b4f3-a6a7cedcf23e\")>,\n",
       " <selenium.webdriver.remote.webelement.WebElement (session=\"f7e25717ffa48bf6cf27835704330ab4\", element=\"dd0c2e62-2956-4444-ad69-4c04c8c6f6aa\")>]"
      ]
     },
     "execution_count": 102,
     "metadata": {},
     "output_type": "execute_result"
    }
   ],
   "source": [
    "expdel=driver.find_elements_by_xpath('//span[@class=\"a-color-base a-text-bold\"]')\n",
    "expdel[0:2]"
   ]
  },
  {
   "cell_type": "code",
   "execution_count": 105,
   "id": "b5370262",
   "metadata": {},
   "outputs": [
    {
     "data": {
      "text/plain": [
       "['Sunday, April 3',\n",
       " 'Tuesday, April 5',\n",
       " 'Tuesday, April 5',\n",
       " 'Tuesday, April 5',\n",
       " 'Friday, April 1',\n",
       " 'Friday, April 1',\n",
       " 'Friday, April 1',\n",
       " 'Friday, April 1',\n",
       " 'Tomorrow, March 31',\n",
       " 'Friday, April 1',\n",
       " 'Friday, April 1',\n",
       " 'Friday, April 1',\n",
       " 'Friday, April 1',\n",
       " 'Friday, April 1',\n",
       " 'Tomorrow, March 31',\n",
       " 'Tomorrow, March 31',\n",
       " 'Tomorrow, March 31',\n",
       " 'Saturday, April 2',\n",
       " 'Tomorrow, March 31',\n",
       " 'Friday, April 1',\n",
       " 'Tomorrow, March 31',\n",
       " 'Thursday, April 7',\n",
       " 'Friday, April 1',\n",
       " 'Sunday, April 3',\n",
       " 'Sunday, April 3',\n",
       " 'Friday, April 1',\n",
       " 'Friday, April 1',\n",
       " 'Tomorrow, March 31',\n",
       " 'Tomorrow, March 31',\n",
       " 'Friday, April 1',\n",
       " 'Friday, April 1',\n",
       " 'Tomorrow, March 31',\n",
       " 'Tomorrow, March 31',\n",
       " 'Friday, April 1',\n",
       " 'Tomorrow, March 31',\n",
       " 'Friday, April 1',\n",
       " 'Friday, April 1',\n",
       " 'Tomorrow, March 31',\n",
       " 'Friday, April 1',\n",
       " 'Monday, April 4',\n",
       " 'Friday, April 1',\n",
       " 'Tomorrow, March 31',\n",
       " 'Friday, April 1',\n",
       " 'Tomorrow, March 31',\n",
       " 'Friday, April 1',\n",
       " 'Thursday, April 7',\n",
       " 'Tomorrow, March 31',\n",
       " 'Friday, April 1',\n",
       " 'Tomorrow, March 31',\n",
       " 'Tomorrow, March 31',\n",
       " 'Tomorrow, March 31',\n",
       " 'Friday, April 1',\n",
       " 'Tomorrow, March 31',\n",
       " 'Friday, April 1',\n",
       " 'Friday, April 1',\n",
       " 'Friday, April 1',\n",
       " 'Tomorrow, March 31',\n",
       " 'Tomorrow, March 31',\n",
       " 'Tomorrow, March 31']"
      ]
     },
     "execution_count": 105,
     "metadata": {},
     "output_type": "execute_result"
    }
   ],
   "source": [
    "expdels1=[]\n",
    "for i in expdel:\n",
    "    expdels1.append(i.text)\n",
    "expdels1"
   ]
  },
  {
   "cell_type": "markdown",
   "id": "3f913255",
   "metadata": {},
   "source": [
    "expdels1.pop(8)"
   ]
  },
  {
   "cell_type": "markdown",
   "id": "fe115982",
   "metadata": {},
   "source": [
    "expdels1.insert(-24,'-')"
   ]
  },
  {
   "cell_type": "code",
   "execution_count": 111,
   "id": "e9aedb69",
   "metadata": {},
   "outputs": [
    {
     "data": {
      "text/plain": [
       "60"
      ]
     },
     "execution_count": 111,
     "metadata": {},
     "output_type": "execute_result"
    }
   ],
   "source": [
    "len(expdels1)"
   ]
  },
  {
   "cell_type": "code",
   "execution_count": 112,
   "id": "692855c2",
   "metadata": {},
   "outputs": [
    {
     "data": {
      "text/plain": [
       "[<selenium.webdriver.remote.webelement.WebElement (session=\"f7e25717ffa48bf6cf27835704330ab4\", element=\"5eecc3ff-fd95-46ee-9717-52f4bb31c375\")>,\n",
       " <selenium.webdriver.remote.webelement.WebElement (session=\"f7e25717ffa48bf6cf27835704330ab4\", element=\"4b1236fb-630c-47e1-8427-86908131572a\")>]"
      ]
     },
     "execution_count": 112,
     "metadata": {},
     "output_type": "execute_result"
    }
   ],
   "source": [
    "producturl=driver.find_elements_by_xpath('//a[@class=\"a-link-normal s-underline-text s-underline-link-text s-link-style a-text-normal\"]')\n",
    "producturl[0:2]"
   ]
  },
  {
   "cell_type": "code",
   "execution_count": 113,
   "id": "3adc73a9",
   "metadata": {},
   "outputs": [
    {
     "data": {
      "text/plain": [
       "['https://www.amazon.in/gp/slredirect/picassoRedirect.html/ref=pa_sp_atf_aps_sr_pg1_1?ie=UTF8&adId=A09525362XL739O0NZFZH&url=%2FInternational-Collar-Apparels-Cotton-Interlocked%2Fdp%2FB09SVH2RRR%2Fref%3Dsr_1_1_sspa%3Fcrid%3D1KBV80T90MV9Z%26keywords%3Ddogs%2Bclothes%26qid%3D1648639939%26sprefix%3Ddogs%2Bclothes%252Caps%252C593%26sr%3D8-1-spons%26psc%3D1&qualifier=1648639939&id=2249856475729882&widgetName=sp_atf',\n",
       " 'https://www.amazon.in/gp/slredirect/picassoRedirect.html/ref=pa_sp_atf_aps_sr_pg1_1?ie=UTF8&adId=A0467655194XPM69NQ6CU&url=%2FMyartbucket-T-Shirt-Printed-Sleeveless-Extra-Small%2Fdp%2FB09WF21422%2Fref%3Dsr_1_2_sspa%3Fcrid%3D1KBV80T90MV9Z%26keywords%3Ddogs%2Bclothes%26qid%3D1648639939%26sprefix%3Ddogs%2Bclothes%252Caps%252C593%26sr%3D8-2-spons%26psc%3D1&qualifier=1648639939&id=2249856475729882&widgetName=sp_atf',\n",
       " 'https://www.amazon.in/gp/slredirect/picassoRedirect.html/ref=pa_sp_atf_aps_sr_pg1_1?ie=UTF8&adId=A04678112R7SZF7UQ28LG&url=%2FMyartbucket-T-Shirt-Printed-Sleeveless-Extra-Small%2Fdp%2FB09WDZ91ZM%2Fref%3Dsr_1_3_sspa%3Fcrid%3D1KBV80T90MV9Z%26keywords%3Ddogs%2Bclothes%26qid%3D1648639939%26sprefix%3Ddogs%2Bclothes%252Caps%252C593%26sr%3D8-3-spons%26psc%3D1&qualifier=1648639939&id=2249856475729882&widgetName=sp_atf',\n",
       " 'https://www.amazon.in/gp/slredirect/picassoRedirect.html/ref=pa_sp_atf_aps_sr_pg1_1?ie=UTF8&adId=A03505732VCIXCQX3RGM8&url=%2FMyartbucket-Clothes-Summer-Adorable-Silver-Blue%2Fdp%2FB09WN3HW56%2Fref%3Dsr_1_4_sspa%3Fcrid%3D1KBV80T90MV9Z%26keywords%3Ddogs%2Bclothes%26qid%3D1648639939%26sprefix%3Ddogs%2Bclothes%252Caps%252C593%26sr%3D8-4-spons%26psc%3D1&qualifier=1648639939&id=2249856475729882&widgetName=sp_atf',\n",
       " 'https://www.amazon.in/Ruse-Printed-Sleeveless-T-Shirt-Apparel/dp/B09DSYDPRK/ref=sr_1_5?crid=1KBV80T90MV9Z&keywords=dogs+clothes&qid=1648639939&sprefix=dogs+clothes%2Caps%2C593&sr=8-5',\n",
       " 'https://www.amazon.in/Ruse-T-Shirt-Troublemaker-Printed-Sleeveless/dp/B08WH4DCD5/ref=sr_1_6?crid=1KBV80T90MV9Z&keywords=dogs+clothes&qid=1648639939&sprefix=dogs+clothes%2Caps%2C593&sr=8-6',\n",
       " 'https://www.amazon.in/Hawaiian-Costume-T-Shirts-Clothes-Fashion/dp/B09H36GKBR/ref=sr_1_7?crid=1KBV80T90MV9Z&keywords=dogs+clothes&qid=1648639939&sprefix=dogs+clothes%2Caps%2C593&sr=8-7',\n",
       " 'https://www.amazon.in/FETCHER-Blue-Black-Premium-T-Shirts/dp/B08LKZZKS2/ref=sr_1_8?crid=1KBV80T90MV9Z&keywords=dogs+clothes&qid=1648639939&sprefix=dogs+clothes%2Caps%2C593&sr=8-8',\n",
       " 'https://www.amazon.in/Ruse-Printed-Sleeveless-T-Shirt-Apparel/dp/B09DSWKBHT/ref=sr_1_9?crid=1KBV80T90MV9Z&keywords=dogs+clothes&qid=1648639939&sprefix=dogs+clothes%2Caps%2C593&sr=8-9',\n",
       " 'https://www.amazon.in/Sage-Square-Camouflage-Thicker-Weather/dp/B07QH1TXYY/ref=sr_1_10?crid=1KBV80T90MV9Z&keywords=dogs+clothes&qid=1648639939&sprefix=dogs+clothes%2Caps%2C593&sr=8-10',\n",
       " 'https://www.amazon.in/T-Shirts-Pullovers-Sweatshirts-Breathable-Apparels/dp/B09CTM3918/ref=sr_1_11?crid=1KBV80T90MV9Z&keywords=dogs+clothes&qid=1648639939&sprefix=dogs+clothes%2Caps%2C593&sr=8-11',\n",
       " 'https://www.amazon.in/Sage-Square-Camouflage-Thicker-Weather/dp/B07WRL92FH/ref=sr_1_12?crid=1KBV80T90MV9Z&keywords=dogs+clothes&qid=1648639939&sprefix=dogs+clothes%2Caps%2C593&sr=8-12',\n",
       " 'https://www.amazon.in/Princess-Dresses-Embroidery-Wedding-Sleeveless/dp/B09CTJZVML/ref=sr_1_13?crid=1KBV80T90MV9Z&keywords=dogs+clothes&qid=1648639939&sprefix=dogs+clothes%2Caps%2C593&sr=8-13',\n",
       " 'https://www.amazon.in/Fetcher-Shirt-Sleeveless-Muscle-Sando/dp/B09GS673Q1/ref=sr_1_14?crid=1KBV80T90MV9Z&keywords=dogs+clothes&qid=1648639939&sprefix=dogs+clothes%2Caps%2C593&sr=8-14',\n",
       " 'https://www.amazon.in/FETCHER-Dark-Blue-Hoodie-Small-Large/dp/B08R921LVT/ref=sr_1_15?crid=1KBV80T90MV9Z&keywords=dogs+clothes&qid=1648639939&sprefix=dogs+clothes%2Caps%2C593&sr=8-15',\n",
       " 'https://www.amazon.in/Lulala-Contrast-Stitching-Sundress-Apparel/dp/B09PDM13XF/ref=sr_1_16?crid=1KBV80T90MV9Z&keywords=dogs+clothes&qid=1648639939&sprefix=dogs+clothes%2Caps%2C593&sr=8-16',\n",
       " 'https://www.amazon.in/TBOP-Clothes-Clothing-Supplies-Sportswear/dp/B082Q115QX/ref=sr_1_17?crid=1KBV80T90MV9Z&keywords=dogs+clothes&qid=1648639939&sprefix=dogs+clothes%2Caps%2C593&sr=8-17',\n",
       " 'https://www.amazon.in/Kitty-Woof-Gang-Handmade-T-Shirt/dp/B07XCWNJJ7/ref=sr_1_18?crid=1KBV80T90MV9Z&keywords=dogs+clothes&qid=1648639939&sprefix=dogs+clothes%2Caps%2C593&sr=8-18',\n",
       " 'https://www.amazon.in/Jainsons-Products-Comfortable-Sweatshirt-Clothes/dp/B09NJW5MXD/ref=sr_1_19?crid=1KBV80T90MV9Z&keywords=dogs+clothes&qid=1648639939&sprefix=dogs+clothes%2Caps%2C593&sr=8-19',\n",
       " 'https://www.amazon.in/Kitty-Woof-Gang-Hot-Sauce/dp/B08XXTR4CS/ref=sr_1_20?crid=1KBV80T90MV9Z&keywords=dogs+clothes&qid=1648639939&sprefix=dogs+clothes%2Caps%2C593&sr=8-20',\n",
       " 'https://www.amazon.in/gp/slredirect/picassoRedirect.html/ref=pa_sp_mtf_aps_sr_pg1_1?ie=UTF8&adId=A011651136GQ02B2UFXS3&url=%2FPuptail-Bandana-Wedding-Retriever-Labrador%2Fdp%2FB09H3HRLGX%2Fref%3Dsr_1_21_sspa%3Fcrid%3D1KBV80T90MV9Z%26keywords%3Ddogs%2Bclothes%26qid%3D1648639939%26sprefix%3Ddogs%2Bclothes%252Caps%252C593%26sr%3D8-21-spons%26psc%3D1&qualifier=1648639939&id=2249856475729882&widgetName=sp_mtf',\n",
       " 'https://www.amazon.in/gp/slredirect/picassoRedirect.html/ref=pa_sp_mtf_aps_sr_pg1_1?ie=UTF8&adId=A060095739ESLCW8M35M4&url=%2FRuse-Bosspup-Sleeveless-T-Shirt-Apparel%2Fdp%2FB07QFGSNWM%2Fref%3Dsr_1_22_sspa%3Fcrid%3D1KBV80T90MV9Z%26keywords%3Ddogs%2Bclothes%26qid%3D1648639939%26sprefix%3Ddogs%2Bclothes%252Caps%252C593%26sr%3D8-22-spons%26psc%3D1%26smid%3DA1UJ3WHUCSL0VY&qualifier=1648639939&id=2249856475729882&widgetName=sp_mtf',\n",
       " 'https://www.amazon.in/gp/slredirect/picassoRedirect.html/ref=pa_sp_mtf_aps_sr_pg1_1?ie=UTF8&adId=A09849992IA0WZ3ZPVLOM&url=%2FPawpstar-Aditya-Birla-T-Shirts-Green%2Fdp%2FB09C25SDTY%2Fref%3Dsr_1_23_sspa%3Fcrid%3D1KBV80T90MV9Z%26keywords%3Ddogs%2Bclothes%26qid%3D1648639939%26sprefix%3Ddogs%2Bclothes%252Caps%252C593%26sr%3D8-23-spons%26psc%3D1&qualifier=1648639939&id=2249856475729882&widgetName=sp_mtf',\n",
       " 'https://www.amazon.in/gp/slredirect/picassoRedirect.html/ref=pa_sp_mtf_aps_sr_pg1_1?ie=UTF8&adId=A08797777L9VD2SUV0R0&url=%2FLulala-Clothes-Breathable-Apparel-T-Shirt%2Fdp%2FB09N3WWW49%2Fref%3Dsr_1_24_sspa%3Fcrid%3D1KBV80T90MV9Z%26keywords%3Ddogs%2Bclothes%26qid%3D1648639939%26sprefix%3Ddogs%2Bclothes%252Caps%252C593%26sr%3D8-24-spons%26psc%3D1&qualifier=1648639939&id=2249856475729882&widgetName=sp_mtf',\n",
       " 'https://www.amazon.in/Lulala-Clothes-Breathable-Apparel-T-Shirt/dp/B09N3X1X76/ref=sr_1_25?crid=1KBV80T90MV9Z&keywords=dogs+clothes&qid=1648639939&sprefix=dogs+clothes%2Caps%2C593&sr=8-25',\n",
       " 'https://www.amazon.in/Ruse-T-Shirt-Printed-Sleeveless-Apparel/dp/B08S424LY8/ref=sr_1_26?crid=1KBV80T90MV9Z&keywords=dogs+clothes&qid=1648639939&sprefix=dogs+clothes%2Caps%2C593&sr=8-26',\n",
       " 'https://www.amazon.in/DOGISTA-PRODUCTS-Coat-Army-Large/dp/B081FH344D/ref=sr_1_27?crid=1KBV80T90MV9Z&keywords=dogs+clothes&qid=1648639939&sprefix=dogs+clothes%2Caps%2C593&sr=8-27',\n",
       " 'https://www.amazon.in/Kitty-Woof-Gang-Clothes-Comfortable/dp/B08XQBDW2T/ref=sr_1_28?crid=1KBV80T90MV9Z&keywords=dogs+clothes&qid=1648639939&sprefix=dogs+clothes%2Caps%2C593&sr=8-28',\n",
       " 'https://www.amazon.in/Sage-Square-Comfort-T-Shirt-Sleeveless/dp/B09SDG23DK/ref=sr_1_29?crid=1KBV80T90MV9Z&keywords=dogs+clothes&qid=1648639939&sprefix=dogs+clothes%2Caps%2C593&sr=8-29',\n",
       " 'https://www.amazon.in/Sage-Square-Camouflage-Thicker-Weather/dp/B07QFXFGX5/ref=sr_1_30?crid=1KBV80T90MV9Z&keywords=dogs+clothes&qid=1648639939&sprefix=dogs+clothes%2Caps%2C593&sr=8-30',\n",
       " 'https://www.amazon.in/Kitty-Woof-Gang-Velvet-Puppies/dp/B08HQZHN7B/ref=sr_1_31?crid=1KBV80T90MV9Z&keywords=dogs+clothes&qid=1648639939&sprefix=dogs+clothes%2Caps%2C593&sr=8-31',\n",
       " 'https://www.amazon.in/Summer-Clothes-Bowknot-Four-lagged-Rabbits/dp/B09H36VBW1/ref=sr_1_32?crid=1KBV80T90MV9Z&keywords=dogs+clothes&qid=1648639939&sprefix=dogs+clothes%2Caps%2C593&sr=8-32',\n",
       " 'https://www.amazon.in/Sage-Square-Camouflage-Thicker-Weather/dp/B07QFX4TJ4/ref=sr_1_33?crid=1KBV80T90MV9Z&keywords=dogs+clothes&qid=1648639939&sprefix=dogs+clothes%2Caps%2C593&sr=8-33',\n",
       " 'https://www.amazon.in/CHOOSTIX-Summer-Designer-T-Shirt-Medium/dp/B085W5T32M/ref=sr_1_34?crid=1KBV80T90MV9Z&keywords=dogs+clothes&qid=1648639939&sprefix=dogs+clothes%2Caps%2C593&sr=8-34',\n",
       " 'https://www.amazon.in/Sage-Square-Camouflage-Thicker-Weather/dp/B081RNMJYK/ref=sr_1_35?crid=1KBV80T90MV9Z&keywords=dogs+clothes&qid=1648639939&sprefix=dogs+clothes%2Caps%2C593&sr=8-35',\n",
       " 'https://www.amazon.in/Jainsons-Products-Comfortable-Sweatshirt-Winter/dp/B08P1VNMD2/ref=sr_1_36?crid=1KBV80T90MV9Z&keywords=dogs+clothes&qid=1648639939&sprefix=dogs+clothes%2Caps%2C593&sr=8-36',\n",
       " 'https://www.amazon.in/Bowandmeow-Halloween-Costume-Holiday-Cosplay/dp/B09RPJDDWQ/ref=sr_1_37?crid=1KBV80T90MV9Z&keywords=dogs+clothes&qid=1648639939&sprefix=dogs+clothes%2Caps%2C593&sr=8-37',\n",
       " 'https://www.amazon.in/Dogista-Winter-Super-Heavy-Medium/dp/B08HP42PGY/ref=sr_1_38?crid=1KBV80T90MV9Z&keywords=dogs+clothes&qid=1648639939&sprefix=dogs+clothes%2Caps%2C593&sr=8-38',\n",
       " 'https://www.amazon.in/Ruse-T-Shirt-Printed-Sleeveless-Apparel/dp/B08ZDR91YQ/ref=sr_1_39?crid=1KBV80T90MV9Z&keywords=dogs+clothes&qid=1648639939&sprefix=dogs+clothes%2Caps%2C593&sr=8-39',\n",
       " 'https://www.amazon.in/Papa-Pawsome-Soft-Natural-Cream/dp/B07BGH33K9/ref=sr_1_40?crid=1KBV80T90MV9Z&keywords=dogs+clothes&qid=1648639939&sprefix=dogs+clothes%2Caps%2C593&sr=8-40',\n",
       " 'https://www.amazon.in/Elegant-Princess-Dresses-Clothes-Cupcake/dp/B099JZDC79/ref=sr_1_41?crid=1KBV80T90MV9Z&keywords=dogs+clothes&qid=1648639939&sprefix=dogs+clothes%2Caps%2C593&sr=8-41',\n",
       " 'https://www.amazon.in/Kitty-Woof-Gang-Clothes-Comfortable/dp/B08XQBCTJK/ref=sr_1_42?crid=1KBV80T90MV9Z&keywords=dogs+clothes&qid=1648639939&sprefix=dogs+clothes%2Caps%2C593&sr=8-42',\n",
       " 'https://www.amazon.in/Lulala-Breathable-Colorful-Sweatshirt-White-Sky/dp/B09N3XMY2J/ref=sr_1_43?crid=1KBV80T90MV9Z&keywords=dogs+clothes&qid=1648639939&sprefix=dogs+clothes%2Caps%2C593&sr=8-43',\n",
       " 'https://www.amazon.in/Ruse-Sleeveless-T-Shirt-Clothes-Apparel/dp/B07Q1JB39P/ref=sr_1_44?crid=1KBV80T90MV9Z&keywords=dogs+clothes&qid=1648639939&sprefix=dogs+clothes%2Caps%2C593&sr=8-44',\n",
       " 'https://www.amazon.in/Dogista-Winter-Quilted-Stitch-Heavy/dp/B08P7SWS5B/ref=sr_1_45?crid=1KBV80T90MV9Z&keywords=dogs+clothes&qid=1648639939&sprefix=dogs+clothes%2Caps%2C593&sr=8-45',\n",
       " 'https://www.amazon.in/Sage-Square-Camouflage-Thicker-Weather/dp/B07QJZPP22/ref=sr_1_46?crid=1KBV80T90MV9Z&keywords=dogs+clothes&qid=1648639939&sprefix=dogs+clothes%2Caps%2C593&sr=8-46',\n",
       " 'https://www.amazon.in/Puptail-Bandana-Retriever-Labrador-XX-Large/dp/B09H3K7345/ref=sr_1_47?crid=1KBV80T90MV9Z&keywords=dogs+clothes&qid=1648639939&sprefix=dogs+clothes%2Caps%2C593&sr=8-47',\n",
       " 'https://www.amazon.in/FETCHER-Printed-Party-T-Shirt-Breeds/dp/B097F8LLZC/ref=sr_1_48?crid=1KBV80T90MV9Z&keywords=dogs+clothes&qid=1648639939&sprefix=dogs+clothes%2Caps%2C593&sr=8-48',\n",
       " 'https://www.amazon.in/Sage-Square-Winters-Camouflage-Thicker/dp/B07WRKKR9P/ref=sr_1_49?crid=1KBV80T90MV9Z&keywords=dogs+clothes&qid=1648639939&sprefix=dogs+clothes%2Caps%2C593&sr=8-49',\n",
       " 'https://www.amazon.in/Kitty-Woof-Gang-Frills-Comfortable/dp/B08Y8L9KD4/ref=sr_1_50?crid=1KBV80T90MV9Z&keywords=dogs+clothes&qid=1648639939&sprefix=dogs+clothes%2Caps%2C593&sr=8-50',\n",
       " 'https://www.amazon.in/Kitty-Woof-Gang-Embellished-Comfortable/dp/B08XZHW7MC/ref=sr_1_51?crid=1KBV80T90MV9Z&keywords=dogs+clothes&qid=1648639939&sprefix=dogs+clothes%2Caps%2C593&sr=8-51',\n",
       " 'https://www.amazon.in/Kitty-Woof-Gang-Shantoon-Puppies/dp/B084WPHZM6/ref=sr_1_52?crid=1KBV80T90MV9Z&keywords=dogs+clothes&qid=1648639939&sprefix=dogs+clothes%2Caps%2C593&sr=8-52',\n",
       " 'https://www.amazon.in/Ruse-T-Shirt-BOSSPUP-Printed-Sleeves/dp/B0917L491X/ref=sr_1_53?crid=1KBV80T90MV9Z&keywords=dogs+clothes&qid=1648639939&sprefix=dogs+clothes%2Caps%2C593&sr=8-53',\n",
       " 'https://www.amazon.in/Printed-T-Shirt-Clothes-Outfits-Sweatshirt/dp/B09H377C8T/ref=sr_1_54?crid=1KBV80T90MV9Z&keywords=dogs+clothes&qid=1648639939&sprefix=dogs+clothes%2Caps%2C593&sr=8-54',\n",
       " 'https://www.amazon.in/Sage-Square-Comfort-Sleeveless-16inches/dp/B09BD4Q8GZ/ref=sr_1_55?crid=1KBV80T90MV9Z&keywords=dogs+clothes&qid=1648639939&sprefix=dogs+clothes%2Caps%2C593&sr=8-55',\n",
       " 'https://www.amazon.in/Ruse-Security-Sleeveless-T-Shirt-Apparel/dp/B07Q28YLW8/ref=sr_1_56?crid=1KBV80T90MV9Z&keywords=dogs+clothes&qid=1648639939&sprefix=dogs+clothes%2Caps%2C593&sr=8-56',\n",
       " 'https://www.amazon.in/gp/slredirect/picassoRedirect.html/ref=pa_sp_btf_aps_sr_pg1_1?ie=UTF8&adId=A00353182JF25GUZGR5ZC&url=%2FT-Shirts-Pullovers-Sweatshirts-Breathable-Apparels%2Fdp%2FB09CTJFPSN%2Fref%3Dsr_1_57_sspa%3Fcrid%3D1KBV80T90MV9Z%26keywords%3Ddogs%2Bclothes%26qid%3D1648639939%26sprefix%3Ddogs%2Bclothes%252Caps%252C593%26sr%3D8-57-spons%26psc%3D1&qualifier=1648639939&id=2249856475729882&widgetName=sp_btf',\n",
       " 'https://www.amazon.in/gp/slredirect/picassoRedirect.html/ref=pa_sp_btf_aps_sr_pg1_1?ie=UTF8&adId=A05802303OLT9HLT37VTU&url=%2FFETCHER-Blue-Black-Premium-T-Shirt%2Fdp%2FB08LKZ3YND%2Fref%3Dsr_1_58_sspa%3Fcrid%3D1KBV80T90MV9Z%26keywords%3Ddogs%2Bclothes%26qid%3D1648639939%26sprefix%3Ddogs%2Bclothes%252Caps%252C593%26sr%3D8-58-spons%26psc%3D1&qualifier=1648639939&id=2249856475729882&widgetName=sp_btf',\n",
       " 'https://www.amazon.in/gp/slredirect/picassoRedirect.html/ref=pa_sp_btf_aps_sr_pg1_1?ie=UTF8&adId=A0957201YKB6UOXSUV64&url=%2FFETCHER-Mummas-Premium-T-Shirt-Breeds%2Fdp%2FB08SMR7YH2%2Fref%3Dsr_1_59_sspa%3Fcrid%3D1KBV80T90MV9Z%26keywords%3Ddogs%2Bclothes%26qid%3D1648639939%26sprefix%3Ddogs%2Bclothes%252Caps%252C593%26sr%3D8-59-spons%26psc%3D1&qualifier=1648639939&id=2249856475729882&widgetName=sp_btf',\n",
       " 'https://www.amazon.in/gp/slredirect/picassoRedirect.html/ref=pa_sp_btf_aps_sr_pg1_1?ie=UTF8&adId=A0575338WKNX65AG6F23&url=%2FFETCHER-Premium-T-Shirts-Breeds-X-Small%2Fdp%2FB098P9MJL2%2Fref%3Dsr_1_60_sspa%3Fcrid%3D1KBV80T90MV9Z%26keywords%3Ddogs%2Bclothes%26qid%3D1648639939%26sprefix%3Ddogs%2Bclothes%252Caps%252C593%26sr%3D8-60-spons%26psc%3D1&qualifier=1648639939&id=2249856475729882&widgetName=sp_btf']"
      ]
     },
     "execution_count": 113,
     "metadata": {},
     "output_type": "execute_result"
    }
   ],
   "source": [
    "producturls1=[]\n",
    "for i in producturl:\n",
    "    producturls1.append(i.get_attribute('href'))\n",
    "producturls1"
   ]
  },
  {
   "cell_type": "code",
   "execution_count": 114,
   "id": "d23002d4",
   "metadata": {},
   "outputs": [
    {
     "data": {
      "text/plain": [
       "60"
      ]
     },
     "execution_count": 114,
     "metadata": {},
     "output_type": "execute_result"
    }
   ],
   "source": [
    "len(producturls1)"
   ]
  },
  {
   "cell_type": "code",
   "execution_count": 115,
   "id": "c1584d4c",
   "metadata": {},
   "outputs": [
    {
     "data": {
      "text/plain": [
       "<selenium.webdriver.remote.webelement.WebElement (session=\"f7e25717ffa48bf6cf27835704330ab4\", element=\"79bcf7f3-4e93-4435-8c55-a3a42ae1e3f8\")>"
      ]
     },
     "execution_count": 115,
     "metadata": {},
     "output_type": "execute_result"
    }
   ],
   "source": [
    "next=driver.find_element_by_xpath('/html/body/div[1]/div[2]/div[1]/div[1]/div/span[3]/div[2]/div[65]/div/div/span/a[1]')\n",
    "next"
   ]
  },
  {
   "cell_type": "code",
   "execution_count": 116,
   "id": "fa809a48",
   "metadata": {},
   "outputs": [],
   "source": [
    "next.click()"
   ]
  },
  {
   "cell_type": "code",
   "execution_count": 117,
   "id": "44cbbd6b",
   "metadata": {},
   "outputs": [
    {
     "data": {
      "text/plain": [
       "[<selenium.webdriver.remote.webelement.WebElement (session=\"f7e25717ffa48bf6cf27835704330ab4\", element=\"fd6b8d16-1fa4-439c-9a43-4c9d0ab29e2f\")>,\n",
       " <selenium.webdriver.remote.webelement.WebElement (session=\"f7e25717ffa48bf6cf27835704330ab4\", element=\"882a2bc6-7d01-4d81-b747-50c5a6f8b23c\")>]"
      ]
     },
     "execution_count": 117,
     "metadata": {},
     "output_type": "execute_result"
    }
   ],
   "source": [
    "productname=driver.find_elements_by_xpath('//span[@class=\"a-size-base-plus a-color-base a-text-normal\"]')\n",
    "productname[0:2]"
   ]
  },
  {
   "cell_type": "code",
   "execution_count": 118,
   "id": "a1aa857e",
   "metadata": {},
   "outputs": [
    {
     "data": {
      "text/plain": [
       "['Emily Pet Striped Dog T-Shirt Pet Breathable Soft Cotton Basic Shirt Clothes for Summer, Fit Small MediumLarge Extra Large Boy Girl Dogs, Puppies(XL,Purple)',\n",
       " 'KUTKUT Red Ball Print Dress for Small Dogs - Soft Breathable Dog Spring Clothes, Cooling Dog Shirt for Shih Tzu, Yorkie, Pug, Maltese etc. (Size: XL, Chest: 50 cm, Back Length: 40 cm)',\n",
       " 'Oz International Dog Shirt with Collar | Pet Apparels for Puppy, Small Dogs & Cats|Cotton Interlocked Fabric Shirts',\n",
       " 'Lana Paws Birthday Boy Dog Bandana Scarf (Red), S-M',\n",
       " 'The Pawpstar Co. by Aditya Birla New Age T-Shirts for Dogs (XXL, Orange)',\n",
       " 'Heads Up For Tails Sweatshirt for Dogs - Orange - L',\n",
       " 'Golden Tails Cotton Printed Round Neck Dogs T-Shirt |Pack of 2| |Red & Army Green, S|',\n",
       " 'FETCHER Red & Sea Green Premium Dog T-Shirts for Small Breeds (Set of 2) (M)…',\n",
       " 'FETCHER Grey & Wine Premium Dog T-Shirts for Small Breeds (Set of 2) (X-Large)',\n",
       " 'Kitty & The Woof Gang Orange Silver Lining Dog Summer Clothes Dress T-Shirt Tees | Dog Clothes for Medium Dogs | Puppy Clothes Dog Dress Cat Clothes | Comfortable Pet Clothes (16In-L)',\n",
       " 'Ruse Summer Dog T-Shirt Desi Bro Printed Pets Round Neck Sleeveless Vest Tank/Tees/Apparel/Clothes for Dogs Yellow/Large (Full Grown Desi/Stray, Doberman etc.)',\n",
       " 'Ruse. Pet I Just Want Foil Edition Round Neck Sleeveless Vest Tank T-Shirt/Tees for Dog Clothes Summer Apparel (Navy/Golden; /Large (Full Grown Desi/Stray, Doberman etc.)',\n",
       " 'Kitty & The Woof Gang Hot Sauce - Red Dog Summer Clothes Dress T-Shirt Tees | Dog Clothes for Puppy | Puppy Clothes Dog Dress Cat Clothes | Comfortable Pet Clothes (8In -XXS)',\n",
       " 'Kitty & The Woof Gang Orange Silver Lining Dog Summer Clothes Dress T-Shirt Tees | Dog Clothes for Large Dogs | Puppy Clothes Dog Dress Cat Clothes | Comfortable Pet Clothes (22In-2XL)',\n",
       " 'Ruse. Pet I Just Want Foil Edition Round Neck Sleeveless Vest Tank T-Shirt/Tees for Dog Clothes Summer Apparel./X-Large (Full Grown Retrievers, Labs etc.)',\n",
       " 'Kitty and The Woof Gang Black and White Check Winter Jacket with a Hood - Warm Lining for Dogs and Cats | Size XXL',\n",
       " 'Kitty & The Woof Gang Red Windcheater with a Hood and Neon Reflective Tape with D Chain Hook Winter Jacket - Coat with Black Warm Lining for Dogs and Cats | Size XL',\n",
       " 'Ruse. Pet Bosspup Round Neck Sleeveless Vest Tank T-Shirt/Tees for Dogs Clothes Summer Apparel (Black; XL)/X-Large (Full Grown Retrievers, Labs etc.)',\n",
       " 'Emily Pets Dog T Shirts Pet Summer Vests Dog Clothes with Fashion Printing Summer Vacation Dress with Coconut Tree Patch(M,White)',\n",
       " 'Ruse Pet Good Girl Jersey No.1 Printed Round Neck Sleeveless Dog Vest Tank T-Shirt/Tees Apparel/Clothes/Tees Gift for Dogs(Red) X-Large (Retrievers, Labs etc.)',\n",
       " \"Emily Pets Pet Dog Hawaiian Costume, Includes Puppy Dog's Cool T-Shirts Summer Clothes, Funny Cute Dogs Retro Fashion for Small to Extra Large (XL,White)\",\n",
       " 'The Pawpstar Co. by Aditya Birla New Age T-Shirts for Dogs (XXL, Green)',\n",
       " 'KUTKUT Cotton Striped Dog Shirts for Medium/Large Dogs | Breathable Stretchy Fashion Big Dogs Clothes for Beagle, Corgi, Husky, Labarador, Golden Retriver, Samoyed etc (Size: 2XL)',\n",
       " 'The Pawpstar Co. by Aditya Birla New Age Polo T-Shirts for Dogs (XS, Blue)',\n",
       " 'Kitty & The Woof Gang Hot Sauce - Red Dog Summer Clothes Dress T-Shirt Tees | Dog Clothes for Medium Dogs | Puppy Clothes Dog Dress Cat Clothes | Comfortable Pet Clothes (16In-L)',\n",
       " 'Kitty & The Woof Gang Hot Sauce - Orange Dog Summer Clothes Dress T-Shirt Tees | Dog Clothes for Puppy | Puppy Clothes Dog Dress Cat Clothes | Comfortable Pet Clothes (8In -XXS)',\n",
       " 'Kitty & The Woof Gang Baby Yellow T-Shirt/Tees for Dog Clothes Summer Apparel | Dog Summer T-Shirt | T-Shirt for Dog | Please Check The Size Chart Before Ordering | Size XS',\n",
       " 'Kitty & The Woof Gang Hot Sauce - Orange Dog Summer Clothes Dress T-Shirt Tees | Dog Clothes for Small Dogs | Puppy Clothes Dog Dress Cat Clothes | Comfortable Pet Clothes (14In-M)',\n",
       " 'Kitty & The Woof Gang Frills - Red Vibing Dog Summer Clothes Dress T-Shirt Tees | Dog Clothes for Puppy | Puppy Clothes Dog Dress Cat Clothes | Comfortable Pet Clothes (10In-XS)',\n",
       " 'Kitty & The Woof Gang Baby Blue Floral Dog Summer Clothes Dress T-Shirt Tees | Dog Clothes for Puppy | Puppy Clothes Dog Dress Cat Clothes | Comfortable Pet Clothes (8In -XXS)',\n",
       " 'Sage Square Comfort Cotton Dog T-Shirt, Sleeveless Vest for Dog Clothes, Puppy Tank Top Fashion Apparel (Red) (Small) (14inche)',\n",
       " 'Lulala Ethnic Wear Dog Outfit-Sherwani Indian Dog Outfit,Dog Collars,Dog Tuxedo,pet Outfit,Male Dog Clothes,pet Costume,Embroidery,Cute Indian Dog Outfits, Sherwani,Kurtas(M,Cream)',\n",
       " 'That Dog In Tuxedo Dog Dress Retro Polka Dress Clothes for Dogs/Cats (26)',\n",
       " 'Ruse. Pet I Love My Human Foil Edition Round Neck Sleeveless Vest Tank T-Shirt/Tees for Dog Clothes Summer Apparel./X-Large (Full Grown Retrievers, Labs etc.)',\n",
       " \"Lana Paws Adjustable Comfortable Mom's Favourite Child Bandana/Scarf for Dog (Red)\",\n",
       " 'Petsplanet Dog Winter Clothes Reversible Dog Jacket Red Color Design Warm Dog Coat Windproof Pets Cold Weather Wearing (XXS, 10 Inch)',\n",
       " 'Ruse. Pet Fur Baby Foil Edition Round Neck Sleeveless Vest Tank T-Shirt/Tees for Dog Clothes Summer Apparel./Large (Full Grown Desi/Stray, Doberman etc.)',\n",
       " 'Pets Empire Pet Cat Dog Fashion Sunglasses UV Sun Glasses Eye Protection Wear-1 Piece Color May Vary',\n",
       " 'Lana Paws Adjustable Tuxedo Dog Bandana/Scarf (Size M-L)',\n",
       " 'Ruse Summer Dog T-Shirt Bosspup Printed Pets Round Neck Sleeveless Vest Tank/Tees/Apparel/Clothes for Dogs Ecru/XX-Small (Chihuahuas, Papillons)',\n",
       " 'Ruse. Pet Rockstar Loin Printed Round Neck Sleeveless Vest Tank T-Shirt/Tees for Dog Clothes Summer Apparel./Large (Full Grown Desi/Stray, Doberman etc.)',\n",
       " 'Emily Pets Cotton Puppy Clothes Summer Dog Shirt Dress - Dogs Clothes Dress Cute Skirt Outfits Floral Print Adorable Dog Sling Skirt Dog Vest Tanks Tops Tees for Small Dogs(Black,XL)',\n",
       " 'Kitty & The Woof Gang Red Check with Hood Dog Summer Apparel/T-Shirt/Tees/Hoodie | Dog Clothes for Medium Dogs | Puppy Clothes Dog Dress Cat Clothes | Comfortable Pet Clothes (18In-XL)',\n",
       " 'Summer Dog T-Shirt, Say Cheese, Royal Blue, 16\", 150g',\n",
       " 'Kitty & The Woof Gang Hot Sauce - Yellow Dog Summer Clothes Dress T-Shirt Tees | Dog Clothes for Puppy | Puppy Clothes Dog Dress Cat Clothes | Comfortable Pet Clothes (10In-XS)',\n",
       " 'Kitty & The Woof Gang Hot Sauce - Red Dog Summer Clothes Dress T-Shirt Tees | Dog Clothes for Puppy | Puppy Clothes Dog Dress Cat Clothes | Comfortable Pet Clothes (10In-XS)',\n",
       " 'Lana Paws Gentleman Tuxedo Adjustable Dog Bandana Scarf - Blue (M-L)',\n",
       " 'Kitty & The Woof Gang Brown Carpet Fur with Light Brown Faux Fur Collar and Bottom Strip Premium Winter Jacket - Coat with Black Velvet Warm Lining for Dogs and Cats | Size S',\n",
       " 'FETCHER Royal Blue \\'Main Paida Hi Cute Hua Tha\\' Printed Premium Warm Fleece Hoodie for Dogs and Cats | Winter wear (14\" Small)',\n",
       " 'Kitty & The Woof Gang Black Velvet Winter Jacket | Warm and Cozy Coat, Jacket, cloth with White Faux Fur Collar and soft and warm Lining for Dogs, Cats and Puppies | Please check the Size Chart before ordering | Size M',\n",
       " 'Kitty & The Woof Gang Baby Blue Floral Dog Summer Clothes Dress T-Shirt Tees | Dog Clothes for Puppy | Puppy Clothes Dog Dress Cat Clothes | Comfortable Pet Clothes (10In-XS)',\n",
       " 'Sage Square Comfort Cotton Dog T-Shirt, Sleeveless Vest for Dog Clothes, Puppy Tank Top Fashion Apparel (Black) (XSmall - 12inch, Black)',\n",
       " 'Sage Square Premium Reversible Double Sided Dog Coat | Ultra Warm Windproof Winter Vest | Thicker Fleece Jacket for Cold Weather. (Medium- 20 Inches, Navy Blue & Grey)',\n",
       " 'FETCHER Purple Cute Printed Premium Warm Fleece Sweatshirt for Dogs and Cats | Winter wear (16\" Medium)',\n",
       " 'KUTKUT Pack of 2 Rainbow Dog Shirt for Small Dogs | 100% Cotton Cute Summer Girl Boy T-Shirt | Clothes Outfit for ShishTzu, Yorkie, Pug Apparel (Size: XL, Chest 50 cm, Neck 36cm, Back Length 40cm, Pet Weight 6kg - 8.5kg)',\n",
       " 'Kitty & The Woof Gang Pink Velvet Winter Dog Jacket with Silver Faux Leather | Winter Dog Sweater Dog Clothes for Dogs Puppy Clothes Cat Dress Cat Clothes Dog Dress Coat Pet Clothes | 30-4XL',\n",
       " 'Lulala Pet Dress Bobby Print Shirt with Contrast Stitching Cute Dog Sundress Dog Dress Puppy Summer Apparel Clothes Dog Skirt Shirt with Polka Dot Denim Dress for Dogs Cats Puppy(M,Navy Blue)',\n",
       " 'Lana Paws Adjustable Tuxedo Dog Bandana/Scarf (Size M-L)',\n",
       " 'PetVogue Classic Cosy Dog Sweater',\n",
       " 'Oz International Windproof British Style Cold Weather Winter Dog Coat Dog Jacket Fleece Lined for Cats Rabbit Small Dogs Beagle Spitz Shihtzu Apso Pomeranian Chihuahua Poodle Dachshund, Pug.']"
      ]
     },
     "execution_count": 118,
     "metadata": {},
     "output_type": "execute_result"
    }
   ],
   "source": [
    "productnames2=[]\n",
    "for i in productname:\n",
    "    productnames2.append(i.text)\n",
    "productnames2"
   ]
  },
  {
   "cell_type": "code",
   "execution_count": 119,
   "id": "643d18b7",
   "metadata": {},
   "outputs": [
    {
     "data": {
      "text/plain": [
       "60"
      ]
     },
     "execution_count": 119,
     "metadata": {},
     "output_type": "execute_result"
    }
   ],
   "source": [
    "len(productnames2)"
   ]
  },
  {
   "cell_type": "code",
   "execution_count": 120,
   "id": "d5e5129c",
   "metadata": {},
   "outputs": [
    {
     "data": {
      "text/plain": [
       "[<selenium.webdriver.remote.webelement.WebElement (session=\"f7e25717ffa48bf6cf27835704330ab4\", element=\"34253f48-ad34-4423-988d-7e21de880603\")>,\n",
       " <selenium.webdriver.remote.webelement.WebElement (session=\"f7e25717ffa48bf6cf27835704330ab4\", element=\"5ef2c93a-92fe-4eed-857c-ac4384e80127\")>]"
      ]
     },
     "execution_count": 120,
     "metadata": {},
     "output_type": "execute_result"
    }
   ],
   "source": [
    "price=driver.find_elements_by_xpath('//span[@class=\"a-price-whole\"]')\n",
    "price[0:2]"
   ]
  },
  {
   "cell_type": "code",
   "execution_count": 121,
   "id": "7dbf4169",
   "metadata": {},
   "outputs": [
    {
     "data": {
      "text/plain": [
       "['299',\n",
       " '798',\n",
       " '1,299',\n",
       " '430',\n",
       " '599',\n",
       " '1,099',\n",
       " '529',\n",
       " '589',\n",
       " '549',\n",
       " '301',\n",
       " '699',\n",
       " '724',\n",
       " '535',\n",
       " '251',\n",
       " '799',\n",
       " '386',\n",
       " '358',\n",
       " '699',\n",
       " '299',\n",
       " '479',\n",
       " '299',\n",
       " '599',\n",
       " '1,098',\n",
       " '599',\n",
       " '230',\n",
       " '700',\n",
       " '143',\n",
       " '294',\n",
       " '375',\n",
       " '502',\n",
       " '179',\n",
       " '899',\n",
       " '1,399',\n",
       " '799',\n",
       " '440',\n",
       " '271',\n",
       " '780',\n",
       " '289',\n",
       " '440',\n",
       " '699',\n",
       " '680',\n",
       " '902',\n",
       " '480',\n",
       " '502',\n",
       " '685',\n",
       " '445',\n",
       " '270',\n",
       " '545',\n",
       " '361',\n",
       " '996',\n",
       " '179',\n",
       " '469',\n",
       " '579',\n",
       " '849',\n",
       " '493',\n",
       " '399',\n",
       " '440',\n",
       " '557',\n",
       " '1,199',\n",
       " '5,474.',\n",
       " '4,989.',\n",
       " '13,479.',\n",
       " '6,328.',\n",
       " '2,999.',\n",
       " '690.',\n",
       " '275.',\n",
       " '699.',\n",
       " '269.',\n",
       " '1,799.',\n",
       " '251.',\n",
       " '1,599.',\n",
       " '169.',\n",
       " '1,449.',\n",
       " '275.',\n",
       " '399.',\n",
       " '799.',\n",
       " '849.']"
      ]
     },
     "execution_count": 121,
     "metadata": {},
     "output_type": "execute_result"
    }
   ],
   "source": [
    "prices2=[]\n",
    "for i in price:\n",
    "    prices2.append(i.text)\n",
    "prices2"
   ]
  },
  {
   "cell_type": "markdown",
   "id": "83ec2660",
   "metadata": {},
   "source": [
    "prices2.pop()"
   ]
  },
  {
   "cell_type": "code",
   "execution_count": 144,
   "id": "01f585d2",
   "metadata": {},
   "outputs": [
    {
     "data": {
      "text/plain": [
       "['299',\n",
       " '798',\n",
       " '1,299',\n",
       " '430',\n",
       " '599',\n",
       " '1,099',\n",
       " '529',\n",
       " '589',\n",
       " '549',\n",
       " '301',\n",
       " '699',\n",
       " '724',\n",
       " '535',\n",
       " '251',\n",
       " '799',\n",
       " '386',\n",
       " '358',\n",
       " '699',\n",
       " '299',\n",
       " '479',\n",
       " '299',\n",
       " '599',\n",
       " '1,098',\n",
       " '599',\n",
       " '230',\n",
       " '700',\n",
       " '143',\n",
       " '294',\n",
       " '375',\n",
       " '502',\n",
       " '179',\n",
       " '899',\n",
       " '1,399',\n",
       " '799',\n",
       " '440',\n",
       " '271',\n",
       " '780',\n",
       " '289',\n",
       " '440',\n",
       " '699',\n",
       " '680',\n",
       " '-',\n",
       " '902',\n",
       " '480',\n",
       " '502',\n",
       " '685',\n",
       " '445',\n",
       " '270',\n",
       " '545',\n",
       " '361',\n",
       " '996',\n",
       " '179',\n",
       " '469',\n",
       " '579',\n",
       " '849',\n",
       " '493',\n",
       " '399',\n",
       " '440',\n",
       " '557',\n",
       " '1,199']"
      ]
     },
     "execution_count": 144,
     "metadata": {},
     "output_type": "execute_result"
    }
   ],
   "source": [
    "prices2"
   ]
  },
  {
   "cell_type": "markdown",
   "id": "17af77ae",
   "metadata": {},
   "source": [
    "prices2.insert(-18,'-')"
   ]
  },
  {
   "cell_type": "code",
   "execution_count": 143,
   "id": "29735963",
   "metadata": {},
   "outputs": [
    {
     "data": {
      "text/plain": [
       "60"
      ]
     },
     "execution_count": 143,
     "metadata": {},
     "output_type": "execute_result"
    }
   ],
   "source": [
    "len(prices2)"
   ]
  },
  {
   "cell_type": "code",
   "execution_count": 145,
   "id": "829b4348",
   "metadata": {},
   "outputs": [
    {
     "data": {
      "text/plain": [
       "[<selenium.webdriver.remote.webelement.WebElement (session=\"f7e25717ffa48bf6cf27835704330ab4\", element=\"43a9b284-f67a-4454-8c07-d7bfc2eec3df\")>,\n",
       " <selenium.webdriver.remote.webelement.WebElement (session=\"f7e25717ffa48bf6cf27835704330ab4\", element=\"44f25c0e-c8f7-4a77-876a-1328e00ac521\")>]"
      ]
     },
     "execution_count": 145,
     "metadata": {},
     "output_type": "execute_result"
    }
   ],
   "source": [
    "expdel=driver.find_elements_by_xpath('//span[@class=\"a-color-base a-text-bold\"]')\n",
    "expdel[0:2]"
   ]
  },
  {
   "cell_type": "code",
   "execution_count": 148,
   "id": "713029e8",
   "metadata": {},
   "outputs": [
    {
     "data": {
      "text/plain": [
       "['Tomorrow, March 31',\n",
       " 'Friday, April 1',\n",
       " 'Sunday, April 3',\n",
       " 'Tomorrow, March 31',\n",
       " 'Sunday, April 3',\n",
       " 'Sunday, April 3',\n",
       " 'Tomorrow, March 31',\n",
       " 'Tomorrow, March 31',\n",
       " 'Tomorrow, March 31',\n",
       " 'Tomorrow, March 31',\n",
       " 'Friday, April 1',\n",
       " 'Friday, April 1',\n",
       " 'Tomorrow, March 31',\n",
       " 'Tomorrow, March 31',\n",
       " 'Friday, April 1',\n",
       " 'Tomorrow, March 31',\n",
       " 'Tomorrow, March 31',\n",
       " 'Friday, April 1',\n",
       " 'Friday, April 1',\n",
       " 'Friday, April 1',\n",
       " 'Friday, April 1',\n",
       " 'Sunday, April 3',\n",
       " 'Friday, April 1',\n",
       " 'Sunday, April 3',\n",
       " 'Tomorrow, March 31',\n",
       " 'Tomorrow, March 31',\n",
       " 'Tomorrow, March 31',\n",
       " 'Tomorrow, March 31',\n",
       " 'Tomorrow, March 31',\n",
       " 'Tomorrow, March 31',\n",
       " 'Friday, April 1',\n",
       " 'Friday, April 1',\n",
       " 'Sunday, April 3',\n",
       " 'Friday, April 1',\n",
       " 'Tomorrow, March 31',\n",
       " 'Friday, April 1',\n",
       " 'Friday, April 1',\n",
       " 'Friday, April 1',\n",
       " 'Tomorrow, March 31',\n",
       " 'Friday, April 1',\n",
       " 'Friday, April 1',\n",
       " 'Tomorrow, March 31',\n",
       " 'Tomorrow, March 31',\n",
       " 'Tomorrow, March 31',\n",
       " 'Tomorrow, March 31',\n",
       " 'Tomorrow, March 31',\n",
       " 'Tomorrow, March 31',\n",
       " 'Tomorrow, March 31',\n",
       " 'Tomorrow, March 31',\n",
       " 'Tomorrow, March 31',\n",
       " 'Friday, April 1',\n",
       " 'Friday, April 1',\n",
       " 'Tomorrow, March 31',\n",
       " 'Tomorrow, March 31',\n",
       " 'Tomorrow, March 31',\n",
       " 'Sunday, April 3',\n",
       " 'Tomorrow, March 31',\n",
       " 'Friday, April 1',\n",
       " 'Tomorrow, March 31']"
      ]
     },
     "execution_count": 148,
     "metadata": {},
     "output_type": "execute_result"
    }
   ],
   "source": [
    "expdels2=[]\n",
    "for i in expdel:\n",
    "    expdels2.append(i.text)\n",
    "expdels2"
   ]
  },
  {
   "cell_type": "code",
   "execution_count": 150,
   "id": "111786ad",
   "metadata": {},
   "outputs": [],
   "source": [
    "expdels2.insert(-18,'-')"
   ]
  },
  {
   "cell_type": "code",
   "execution_count": 151,
   "id": "ee980728",
   "metadata": {},
   "outputs": [
    {
     "data": {
      "text/plain": [
       "60"
      ]
     },
     "execution_count": 151,
     "metadata": {},
     "output_type": "execute_result"
    }
   ],
   "source": [
    "len(expdels2)"
   ]
  },
  {
   "cell_type": "code",
   "execution_count": 152,
   "id": "183b17a4",
   "metadata": {},
   "outputs": [],
   "source": [
    "producturl=driver.find_elements_by_xpath('//a[@class=\"a-link-normal s-underline-text s-underline-link-text s-link-style a-text-normal\"]')"
   ]
  },
  {
   "cell_type": "code",
   "execution_count": 153,
   "id": "4ac43caf",
   "metadata": {},
   "outputs": [
    {
     "data": {
      "text/plain": [
       "['https://www.amazon.in/gp/slredirect/picassoRedirect.html/ref=pa_sp_atf_next_aps_sr_pg2_1?ie=UTF8&adId=A00418981YST5QHPCG25T&url=%2FStriped-T-Shirt-Breathable-Clothes-MediumLarge%2Fdp%2FB09H37FJY5%2Fref%3Dsr_1_49_sspa%3Fcrid%3D1KBV80T90MV9Z%26keywords%3Ddogs%2Bclothes%26qid%3D1648641199%26sprefix%3Ddogs%2Bclothes%252Caps%252C593%26sr%3D8-49-spons%26psc%3D1&qualifier=1648641199&id=1346628011664830&widgetName=sp_atf_next',\n",
       " 'https://www.amazon.in/gp/slredirect/picassoRedirect.html/ref=pa_sp_atf_next_aps_sr_pg2_1?ie=UTF8&adId=A0552100V4L5RYMO8XM9&url=%2FKUTKUT-Ball-Print-Dress-Small%2Fdp%2FB0995KHTSJ%2Fref%3Dsr_1_50_sspa%3Fcrid%3D1KBV80T90MV9Z%26keywords%3Ddogs%2Bclothes%26qid%3D1648641199%26sprefix%3Ddogs%2Bclothes%252Caps%252C593%26sr%3D8-50-spons%26psc%3D1&qualifier=1648641199&id=1346628011664830&widgetName=sp_atf_next',\n",
       " 'https://www.amazon.in/gp/slredirect/picassoRedirect.html/ref=pa_sp_atf_next_aps_sr_pg2_1?ie=UTF8&adId=A09523802U2L3QIMLHQJP&url=%2FInternational-Collar-Apparels-Cotton-Interlocked%2Fdp%2FB09SVJ7D9G%2Fref%3Dsr_1_51_sspa%3Fcrid%3D1KBV80T90MV9Z%26keywords%3Ddogs%2Bclothes%26qid%3D1648641199%26sprefix%3Ddogs%2Bclothes%252Caps%252C593%26sr%3D8-51-spons%26psc%3D1&qualifier=1648641199&id=1346628011664830&widgetName=sp_atf_next',\n",
       " 'https://www.amazon.in/gp/slredirect/picassoRedirect.html/ref=pa_sp_atf_next_aps_sr_pg2_1?ie=UTF8&adId=A05276982LTVH17B0ZY20&url=%2FPaws-Birthday-Handmade-Embroidered-Adjustable%2Fdp%2FB07R39FKBT%2Fref%3Dsr_1_52_sspa%3Fcrid%3D1KBV80T90MV9Z%26keywords%3Ddogs%2Bclothes%26qid%3D1648641199%26sprefix%3Ddogs%2Bclothes%252Caps%252C593%26sr%3D8-52-spons%26psc%3D1&qualifier=1648641199&id=1346628011664830&widgetName=sp_atf_next',\n",
       " 'https://www.amazon.in/Pawpstar-Aditya-Birla-T-Shirts-Orange/dp/B09C25X18X/ref=sr_1_53?crid=1KBV80T90MV9Z&keywords=dogs+clothes&qid=1648641199&sprefix=dogs+clothes%2Caps%2C593&sr=8-53',\n",
       " 'https://www.amazon.in/Heads-Up-Tails-Sweatshirt-Dogs/dp/B09K781ZD1/ref=sr_1_54?crid=1KBV80T90MV9Z&keywords=dogs+clothes&qid=1648641199&sprefix=dogs+clothes%2Caps%2C593&sr=8-54',\n",
       " 'https://www.amazon.in/Golden-Tails-Cotton-Printed-T-Shirt/dp/B09RK5Q14T/ref=sr_1_55?crid=1KBV80T90MV9Z&keywords=dogs+clothes&qid=1648641199&sprefix=dogs+clothes%2Caps%2C593&sr=8-55',\n",
       " 'https://www.amazon.in/FETCHER-Green-Premium-T-Shirts-Breeds/dp/B08VN5WLG7/ref=sr_1_56?crid=1KBV80T90MV9Z&keywords=dogs+clothes&qid=1648641199&sprefix=dogs+clothes%2Caps%2C593&sr=8-56',\n",
       " 'https://www.amazon.in/FETCHER-Premium-T-Shirts-Breeds-X-Large/dp/B098PBRLGJ/ref=sr_1_57?crid=1KBV80T90MV9Z&keywords=dogs+clothes&qid=1648641199&sprefix=dogs+clothes%2Caps%2C593&sr=8-57',\n",
       " 'https://www.amazon.in/Kitty-Woof-Gang-Clothes-Comfortable/dp/B08XYXLMS2/ref=sr_1_58?crid=1KBV80T90MV9Z&keywords=dogs+clothes&qid=1648641199&sprefix=dogs+clothes%2Caps%2C593&sr=8-58',\n",
       " 'https://www.amazon.in/Ruse-T-Shirt-Printed-Sleeveless-Apparel/dp/B08S43DSRX/ref=sr_1_59?crid=1KBV80T90MV9Z&keywords=dogs+clothes&qid=1648641199&sprefix=dogs+clothes%2Caps%2C593&sr=8-59',\n",
       " 'https://www.amazon.in/Ruse-Sleeveless-T-Shirt-Clothes-Apparel/dp/B07Q29GHNB/ref=sr_1_60?crid=1KBV80T90MV9Z&keywords=dogs+clothes&qid=1648641199&sprefix=dogs+clothes%2Caps%2C593&sr=8-60',\n",
       " 'https://www.amazon.in/Kitty-Woof-Gang-Hot-Sauce/dp/B08XXST368/ref=sr_1_61?crid=1KBV80T90MV9Z&keywords=dogs+clothes&qid=1648641199&sprefix=dogs+clothes%2Caps%2C593&sr=8-61',\n",
       " 'https://www.amazon.in/Kitty-Woof-Gang-Comfortable-22In-2XL/dp/B08XYXVV9C/ref=sr_1_62?crid=1KBV80T90MV9Z&keywords=dogs+clothes&qid=1648641199&sprefix=dogs+clothes%2Caps%2C593&sr=8-62',\n",
       " 'https://www.amazon.in/Ruse-Sleeveless-T-Shirt-Clothes-Apparel/dp/B07PX349N6/ref=sr_1_63?crid=1KBV80T90MV9Z&keywords=dogs+clothes&qid=1648641199&sprefix=dogs+clothes%2Caps%2C593&sr=8-63',\n",
       " 'https://www.amazon.in/Kitty-Woof-Gang-Winter-Jacket/dp/B08FBL3L8R/ref=sr_1_64?crid=1KBV80T90MV9Z&keywords=dogs+clothes&qid=1648641199&sprefix=dogs+clothes%2Caps%2C593&sr=8-64',\n",
       " 'https://www.amazon.in/Kitty-Woof-Gang-Windcheater-Reflective/dp/B081SW8KZB/ref=sr_1_65?crid=1KBV80T90MV9Z&keywords=dogs+clothes&qid=1648641199&sprefix=dogs+clothes%2Caps%2C593&sr=8-65',\n",
       " 'https://www.amazon.in/Ruse-Bosspup-Sleeveless-T-Shirt-Clothes/dp/B07QGL8NSJ/ref=sr_1_66?crid=1KBV80T90MV9Z&keywords=dogs+clothes&qid=1648641199&sprefix=dogs+clothes%2Caps%2C593&sr=8-66',\n",
       " 'https://www.amazon.in/Clothes-Fashion-Printing-Vacation-Coconut/dp/B09H376GYH/ref=sr_1_67?crid=1KBV80T90MV9Z&keywords=dogs+clothes&qid=1648641199&sprefix=dogs+clothes%2Caps%2C593&sr=8-67',\n",
       " 'https://www.amazon.in/Ruse-Printed-Sleeveless-T-Shirt-Retrievers/dp/B09DTBK1T1/ref=sr_1_68?crid=1KBV80T90MV9Z&keywords=dogs+clothes&qid=1648641199&sprefix=dogs+clothes%2Caps%2C593&sr=8-68',\n",
       " 'https://www.amazon.in/gp/slredirect/picassoRedirect.html/ref=pa_sp_mtf_aps_sr_pg2_1?ie=UTF8&adId=A0048674U2PZBDYZVWD9&url=%2FHawaiian-Costume-T-Shirts-Clothes-Fashion%2Fdp%2FB09H36GKBR%2Fref%3Dsr_1_69_sspa%3Fcrid%3D1KBV80T90MV9Z%26keywords%3Ddogs%2Bclothes%26qid%3D1648641199%26sprefix%3Ddogs%2Bclothes%252Caps%252C593%26sr%3D8-69-spons%26psc%3D1%26smid%3DAJVO1W99Z7UAC&qualifier=1648641199&id=1346628011664830&widgetName=sp_mtf',\n",
       " 'https://www.amazon.in/gp/slredirect/picassoRedirect.html/ref=pa_sp_mtf_aps_sr_pg2_1?ie=UTF8&adId=A098481920BRT4MO18A01&url=%2FPawpstar-Aditya-Birla-T-Shirts-Green%2Fdp%2FB09C258P9H%2Fref%3Dsr_1_70_sspa%3Fcrid%3D1KBV80T90MV9Z%26keywords%3Ddogs%2Bclothes%26qid%3D1648641199%26sprefix%3Ddogs%2Bclothes%252Caps%252C593%26sr%3D8-70-spons%26psc%3D1&qualifier=1648641199&id=1346628011664830&widgetName=sp_mtf',\n",
       " 'https://www.amazon.in/gp/slredirect/picassoRedirect.html/ref=pa_sp_mtf_aps_sr_pg2_1?ie=UTF8&adId=A0010294KTQFHFJ2I0N1&url=%2FKUTKUT-Breathable-Stretchy-Labarador-Retriver%2Fdp%2FB09J2NLQQL%2Fref%3Dsr_1_71_sspa%3Fcrid%3D1KBV80T90MV9Z%26keywords%3Ddogs%2Bclothes%26qid%3D1648641199%26sprefix%3Ddogs%2Bclothes%252Caps%252C593%26sr%3D8-71-spons%26psc%3D1&qualifier=1648641199&id=1346628011664830&widgetName=sp_mtf',\n",
       " 'https://www.amazon.in/gp/slredirect/picassoRedirect.html/ref=pa_sp_mtf_aps_sr_pg2_1?ie=UTF8&adId=A0987127138VV8R7VWF84&url=%2FPawpstar-Aditya-Birla-Polo-T-Shirts%2Fdp%2FB09C2GTS97%2Fref%3Dsr_1_72_sspa%3Fcrid%3D1KBV80T90MV9Z%26keywords%3Ddogs%2Bclothes%26qid%3D1648641199%26sprefix%3Ddogs%2Bclothes%252Caps%252C593%26sr%3D8-72-spons%26psc%3D1&qualifier=1648641199&id=1346628011664830&widgetName=sp_mtf',\n",
       " 'https://www.amazon.in/Kitty-Woof-Gang-Hot-Sauce/dp/B08XXWGP8R/ref=sr_1_73?crid=1KBV80T90MV9Z&keywords=dogs+clothes&qid=1648641199&sprefix=dogs+clothes%2Caps%2C593&sr=8-73',\n",
       " 'https://www.amazon.in/Kitty-Woof-Gang-Hot-Sauce/dp/B08XXWN682/ref=sr_1_74?crid=1KBV80T90MV9Z&keywords=dogs+clothes&qid=1648641199&sprefix=dogs+clothes%2Caps%2C593&sr=8-74',\n",
       " 'https://www.amazon.in/Kitty-Woof-Gang-T-Shirt-Clothes/dp/B07QLLXVL6/ref=sr_1_75?crid=1KBV80T90MV9Z&keywords=dogs+clothes&qid=1648641199&sprefix=dogs+clothes%2Caps%2C593&sr=8-75',\n",
       " 'https://www.amazon.in/Kitty-Woof-Gang-Hot-Sauce/dp/B08XXWDPC7/ref=sr_1_76?crid=1KBV80T90MV9Z&keywords=dogs+clothes&qid=1648641199&sprefix=dogs+clothes%2Caps%2C593&sr=8-76',\n",
       " 'https://www.amazon.in/Kitty-Woof-Gang-Frills-Comfortable/dp/B08Y8JFWXK/ref=sr_1_77?crid=1KBV80T90MV9Z&keywords=dogs+clothes&qid=1648641199&sprefix=dogs+clothes%2Caps%2C593&sr=8-77',\n",
       " 'https://www.amazon.in/Kitty-Woof-Gang-Clothes-Comfortable/dp/B08XYSHMJQ/ref=sr_1_78?crid=1KBV80T90MV9Z&keywords=dogs+clothes&qid=1648641199&sprefix=dogs+clothes%2Caps%2C593&sr=8-78',\n",
       " 'https://www.amazon.in/Sage-Square-Comfort-T-Shirt-Sleeveless/dp/B09SDCCW53/ref=sr_1_79?crid=1KBV80T90MV9Z&keywords=dogs+clothes&qid=1648641199&sprefix=dogs+clothes%2Caps%2C593&sr=8-79',\n",
       " 'https://www.amazon.in/Lulala-Outfit-Sherwani-Collars-Embroidery-Sherwani/dp/B09S3M74LG/ref=sr_1_80?crid=1KBV80T90MV9Z&keywords=dogs+clothes&qid=1648641199&sprefix=dogs+clothes%2Caps%2C593&sr=8-80',\n",
       " 'https://www.amazon.in/That-Dog-Tuxedo-Dress-Clothes/dp/B09SHJRW43/ref=sr_1_81?crid=1KBV80T90MV9Z&keywords=dogs+clothes&qid=1648641199&sprefix=dogs+clothes%2Caps%2C593&sr=8-81',\n",
       " 'https://www.amazon.in/Ruse-Sleeveless-T-Shirt-Clothes-Apparel/dp/B07NRPJFNX/ref=sr_1_82?crid=1KBV80T90MV9Z&keywords=dogs+clothes&qid=1648641199&sprefix=dogs+clothes%2Caps%2C593&sr=8-82',\n",
       " 'https://www.amazon.in/Paws-Sloppy-Comfortable-Bandana-Adjustable/dp/B07RHKPFJ5/ref=sr_1_83?crid=1KBV80T90MV9Z&keywords=dogs+clothes&qid=1648641199&sprefix=dogs+clothes%2Caps%2C593&sr=8-83',\n",
       " 'https://www.amazon.in/Petsplanet-Clothes-Reversible-Windproof-Pets/dp/B09MDGL1TZ/ref=sr_1_84?crid=1KBV80T90MV9Z&keywords=dogs+clothes&qid=1648641199&sprefix=dogs+clothes%2Caps%2C593&sr=8-84',\n",
       " 'https://www.amazon.in/Ruse-Sleeveless-T-Shirt-Clothes-Apparel/dp/B07PX35C9G/ref=sr_1_85?crid=1KBV80T90MV9Z&keywords=dogs+clothes&qid=1648641199&sprefix=dogs+clothes%2Caps%2C593&sr=8-85',\n",
       " 'https://www.amazon.in/Pets-Empire-Fashion-Glasses-Protection/dp/B07GWSZGDW/ref=sr_1_86?crid=1KBV80T90MV9Z&keywords=dogs+clothes&qid=1648641199&sprefix=dogs+clothes%2Caps%2C593&sr=8-86',\n",
       " 'https://www.amazon.in/LANA-Paws-Tuxedo-Bandana-Adjustable/dp/B07TKDWX7Z/ref=sr_1_87?crid=1KBV80T90MV9Z&keywords=dogs+clothes&qid=1648641199&sprefix=dogs+clothes%2Caps%2C593&sr=8-87',\n",
       " 'https://www.amazon.in/Ruse-T-Shirt-Bosspup-Sleeveless-XX-Small/dp/B08S419S56/ref=sr_1_88?crid=1KBV80T90MV9Z&keywords=dogs+clothes&qid=1648641199&sprefix=dogs+clothes%2Caps%2C593&sr=8-88',\n",
       " 'https://www.amazon.in/Cotton-Sleeveles-Printed-Rockstar-T-Shirt/dp/B07FQPDKY1/ref=sr_1_89?crid=1KBV80T90MV9Z&keywords=dogs+clothes&qid=1648641199&sprefix=dogs+clothes%2Caps%2C593&sr=8-89',\n",
       " 'https://www.amazon.in/Emily-Cotton-Clothes-Summer-Dress/dp/B099K49KZT/ref=sr_1_90?crid=1KBV80T90MV9Z&keywords=dogs+clothes&qid=1648641199&sprefix=dogs+clothes%2Caps%2C593&sr=8-90',\n",
       " 'https://www.amazon.in/Kitty-Woof-Gang-Apparel-Comfortable/dp/B08XBPDB2F/ref=sr_1_91?crid=1KBV80T90MV9Z&keywords=dogs+clothes&qid=1648641199&sprefix=dogs+clothes%2Caps%2C593&sr=8-91',\n",
       " 'https://www.amazon.in/Summer-T-Shirt-Cheese-Royal-Blue/dp/B08WQ3Y2QP/ref=sr_1_92?crid=1KBV80T90MV9Z&keywords=dogs+clothes&qid=1648641199&sprefix=dogs+clothes%2Caps%2C593&sr=8-92',\n",
       " 'https://www.amazon.in/Kitty-Woof-Gang-Hot-Sauce/dp/B08XXVCZFX/ref=sr_1_93?crid=1KBV80T90MV9Z&keywords=dogs+clothes&qid=1648641199&sprefix=dogs+clothes%2Caps%2C593&sr=8-93',\n",
       " 'https://www.amazon.in/Kitty-Woof-Gang-Hot-Sauce/dp/B08XXV1RKT/ref=sr_1_94?crid=1KBV80T90MV9Z&keywords=dogs+clothes&qid=1648641199&sprefix=dogs+clothes%2Caps%2C593&sr=8-94',\n",
       " 'https://www.amazon.in/Lana-Paws-Gentleman-Adjustable-Bandana/dp/B09KCRJ1K8/ref=sr_1_95?crid=1KBV80T90MV9Z&keywords=dogs+clothes&qid=1648641199&sprefix=dogs+clothes%2Caps%2C593&sr=8-95',\n",
       " 'https://www.amazon.in/Kitty-Woof-Gang-Carpet-Collar/dp/B081SS1795/ref=sr_1_96?crid=1KBV80T90MV9Z&keywords=dogs+clothes&qid=1648641199&sprefix=dogs+clothes%2Caps%2C593&sr=8-96',\n",
       " 'https://www.amazon.in/FETCHER-Printed-Premium-Fleece-Hoodie/dp/B09GYLPPGJ/ref=sr_1_97?crid=1KBV80T90MV9Z&keywords=dogs+clothes&qid=1648641199&sprefix=dogs+clothes%2Caps%2C593&sr=8-97',\n",
       " 'https://www.amazon.in/Kitty-Woof-Gang-Puppies-ordering/dp/B08HQWFXCP/ref=sr_1_98?crid=1KBV80T90MV9Z&keywords=dogs+clothes&qid=1648641199&sprefix=dogs+clothes%2Caps%2C593&sr=8-98',\n",
       " 'https://www.amazon.in/Kitty-Woof-Gang-Clothes-Comfortable/dp/B08XYXXBRJ/ref=sr_1_99?crid=1KBV80T90MV9Z&keywords=dogs+clothes&qid=1648641199&sprefix=dogs+clothes%2Caps%2C593&sr=8-99',\n",
       " 'https://www.amazon.in/Sage-Square-Comfort-T-Shirt-Sleeveless/dp/B09BD1ZLSJ/ref=sr_1_100?crid=1KBV80T90MV9Z&keywords=dogs+clothes&qid=1648641199&sprefix=dogs+clothes%2Caps%2C593&sr=8-100',\n",
       " 'https://www.amazon.in/Sage-Square-Reversible-Windproof-Weather/dp/B09NFWBK8H/ref=sr_1_101?crid=1KBV80T90MV9Z&keywords=dogs+clothes&qid=1648641199&sprefix=dogs+clothes%2Caps%2C593&sr=8-101',\n",
       " 'https://www.amazon.in/FETCHER-Purple-Printed-Premium-Sweatshirt/dp/B09JM513CN/ref=sr_1_102?crid=1KBV80T90MV9Z&keywords=dogs+clothes&qid=1648641199&sprefix=dogs+clothes%2Caps%2C593&sr=8-102',\n",
       " 'https://www.amazon.in/KUTKUT-Rainbow-Breathable-Sleeveless-T-Shirt/dp/B08XVMJGQ4/ref=sr_1_103?crid=1KBV80T90MV9Z&keywords=dogs+clothes&qid=1648641199&sprefix=dogs+clothes%2Caps%2C593&sr=8-103',\n",
       " 'https://www.amazon.in/Kitty-Woof-Gang-Leather-Sweater/dp/B08NDTV1CX/ref=sr_1_104?crid=1KBV80T90MV9Z&keywords=dogs+clothes&qid=1648641199&sprefix=dogs+clothes%2Caps%2C593&sr=8-104',\n",
       " 'https://www.amazon.in/gp/slredirect/picassoRedirect.html/ref=pa_sp_btf_aps_sr_pg2_1?ie=UTF8&adId=A08545453UJNJV8GRBNLS&url=%2FLulala-Contrast-Stitching-Sundress-Apparel%2Fdp%2FB09PDPF4B5%2Fref%3Dsr_1_105_sspa%3Fcrid%3D1KBV80T90MV9Z%26keywords%3Ddogs%2Bclothes%26qid%3D1648641199%26sprefix%3Ddogs%2Bclothes%252Caps%252C593%26sr%3D8-105-spons%26psc%3D1&qualifier=1648641199&id=1346628011664830&widgetName=sp_btf',\n",
       " 'https://www.amazon.in/gp/slredirect/picassoRedirect.html/ref=pa_sp_btf_aps_sr_pg2_1?ie=UTF8&adId=A062767236GE2JK025BN3&url=%2FLANA-Paws-Tuxedo-Bandana-Adjustable%2Fdp%2FB07TKDWX7Z%2Fref%3Dsr_1_106_sspa%3Fcrid%3D1KBV80T90MV9Z%26keywords%3Ddogs%2Bclothes%26qid%3D1648641199%26sprefix%3Ddogs%2Bclothes%252Caps%252C593%26sr%3D8-106-spons%26psc%3D1&qualifier=1648641199&id=1346628011664830&widgetName=sp_btf',\n",
       " 'https://www.amazon.in/gp/slredirect/picassoRedirect.html/ref=pa_sp_btf_aps_sr_pg2_1?ie=UTF8&adId=A00145431ZHWJSTFFHKDE&url=%2FPetVogue-Classic-Cosy-Sweater-XX-Small%2Fdp%2FB0839B88WJ%2Fref%3Dsr_1_107_sspa%3Fcrid%3D1KBV80T90MV9Z%26keywords%3Ddogs%2Bclothes%26qid%3D1648641199%26sprefix%3Ddogs%2Bclothes%252Caps%252C593%26sr%3D8-107-spons%26psc%3D1&qualifier=1648641199&id=1346628011664830&widgetName=sp_btf',\n",
       " 'https://www.amazon.in/gp/slredirect/picassoRedirect.html/ref=pa_sp_btf_aps_sr_pg2_1?ie=UTF8&adId=A02785772J1S3RBYWKJDP&url=%2FInternational-Windproof-Pomeranian-Chihuahua-Dachshund%2Fdp%2FB09NRXJK9J%2Fref%3Dsr_1_108_sspa%3Fcrid%3D1KBV80T90MV9Z%26keywords%3Ddogs%2Bclothes%26qid%3D1648641199%26sprefix%3Ddogs%2Bclothes%252Caps%252C593%26sr%3D8-108-spons%26psc%3D1&qualifier=1648641199&id=1346628011664830&widgetName=sp_btf']"
      ]
     },
     "execution_count": 153,
     "metadata": {},
     "output_type": "execute_result"
    }
   ],
   "source": [
    "producturls2=[]\n",
    "for i in producturl:\n",
    "    producturls2.append(i.get_attribute('href'))\n",
    "producturls2"
   ]
  },
  {
   "cell_type": "code",
   "execution_count": 154,
   "id": "0fdcd7d8",
   "metadata": {},
   "outputs": [
    {
     "data": {
      "text/plain": [
       "60"
      ]
     },
     "execution_count": 154,
     "metadata": {},
     "output_type": "execute_result"
    }
   ],
   "source": [
    "len(producturls2)"
   ]
  },
  {
   "cell_type": "code",
   "execution_count": 159,
   "id": "9646eeb0",
   "metadata": {},
   "outputs": [],
   "source": [
    "from selenium.webdriver.support.ui import WebDriverWait\n",
    "from selenium.webdriver.support import expected_conditions as EC\n",
    "from selenium.webdriver.common.by import By"
   ]
  },
  {
   "cell_type": "code",
   "execution_count": 168,
   "id": "c2eff7fe",
   "metadata": {},
   "outputs": [
    {
     "data": {
      "text/plain": [
       "<selenium.webdriver.remote.webelement.WebElement (session=\"f7e25717ffa48bf6cf27835704330ab4\", element=\"15c54d69-30f6-476b-b4e6-b0668503827e\")>"
      ]
     },
     "execution_count": 168,
     "metadata": {},
     "output_type": "execute_result"
    }
   ],
   "source": [
    "next=driver.find_element_by_xpath('/html/body/div[1]/div[2]/div[1]/div[1]/div/span[3]/div[2]/div[64]/div/div/span/a[3]')\n",
    "next"
   ]
  },
  {
   "cell_type": "code",
   "execution_count": 169,
   "id": "01ab449e",
   "metadata": {},
   "outputs": [],
   "source": [
    "next.click()"
   ]
  },
  {
   "cell_type": "code",
   "execution_count": 170,
   "id": "2de0de41",
   "metadata": {},
   "outputs": [
    {
     "data": {
      "text/plain": [
       "[<selenium.webdriver.remote.webelement.WebElement (session=\"f7e25717ffa48bf6cf27835704330ab4\", element=\"736ee1e0-7cee-4886-a668-6b407d05a658\")>,\n",
       " <selenium.webdriver.remote.webelement.WebElement (session=\"f7e25717ffa48bf6cf27835704330ab4\", element=\"f8fc097a-dede-49a9-ace1-08cae2ec2482\")>]"
      ]
     },
     "execution_count": 170,
     "metadata": {},
     "output_type": "execute_result"
    }
   ],
   "source": [
    "productname=driver.find_elements_by_xpath('//span[@class=\"a-size-base-plus a-color-base a-text-normal\"]')\n",
    "productname[0:2]"
   ]
  },
  {
   "cell_type": "code",
   "execution_count": 171,
   "id": "739f9152",
   "metadata": {},
   "outputs": [
    {
     "data": {
      "text/plain": [
       "['FETCHER Printed Party Polo Dog & Cat T-Shirt for Small Breeds (X-Large)',\n",
       " \"FETCHER Red 'Mumma's Joy' Premium Dog T-Shirt for Small Breeds (14 (Small))\",\n",
       " 'FETCHER Blue & Black Premium Dog T-Shirts (Set of 2)',\n",
       " \"FETCHER Wine 'I'll Be There for You' Premium Dog T-Shirt for Small Breeds (XXS)\",\n",
       " 'Kitty & The Woof Gang Embellished Navy Blue Dog Summer Clothes Dress T-Shirt Tees | Dog Clothes for Puppy | Puppy Clothes Dog Dress Cat Clothes | Comfortable Pet Clothes (8In -XXS)',\n",
       " 'Kitty & The Woof Gang Active Sports Yellow Dog Summer Clothes Dress T-Shirt Tees | Dog Clothes for Small Dogs | Puppy Clothes Dog Dress Cat Clothes | Comfortable Pet Clothes (12In-S)',\n",
       " 'Kitty & The Woof Gang Red Windcheater Neon Reflective Tape Winter Safety Dog Jacket | Winter Dog Sweater Dog Clothes for Dogs Dog Dress Puppy Clothes Cat Dress Cat Clothes Pet Clothes | 30-4XL',\n",
       " 'Foodie Puppies Hoodie Red-Black Winter Ultra Warm Cotton Padded Reversible Jackets for Puppies, Cats & Kittens (Size-12 inch)',\n",
       " 'TBOP Dog Clothes Fall/Winter Sweater Denim Pocket Two Legged Dog Cat Clothes Supplies(Orange_XXL)(Color May Vary)',\n",
       " 'Kitty & The Woof Gang Bloomingdale Dog Summer Clothes Dress T-Shirt Tees | Dog Clothes for Small Dogs | Puppy Clothes Dog Dress Cat Clothes | Comfortable Pet Clothes (14In-M)',\n",
       " 'Kitty & The Woof Gang Summertime Neon Floral - Lemon Green Dog Summer Clothes Dress T-Shirt Tees | Dog Clothes for Small Dogs | Puppy Clothes Dog Dress Cat Clothes | Comfortable Pet Clothes (14In-M)',\n",
       " 'Kitty & The Woof Gang Black Velvet Winter Dog Jacket for Pets | Winter Dog Sweater Dog Clothes for Dogs Puppy Clothes Cat Dress Cat Clothes Dog Dress Coat Comfortable Pet Clothes | 18- XL',\n",
       " \"FETCHER Red 'Mumma's Joy' Premium Dog T-Shirt for Small Breeds (14 (Small))\",\n",
       " 'PetVogue UltraWarm Cosy Dog Sweater for Puppies',\n",
       " 'Oz International Dog Clothes Dog Tee Shirts Camouflage Or Stripe Hood Or Lapel Collar T Shirts Pet Apparels for Puppy Small Medium Large Dogs Cotton Interlocked Fabric Tee Shirts (32\", Black Wag Tail)',\n",
       " 'Lulala Dog Summer Layer Frill Sweetie Dress with drizzled Multi Color dots Pet Summer Clothes Spaghetti Pet Summer Cool Sleeveless Dress for Dog Cat Dog Summer Frock Pullover(M,Pink)',\n",
       " 'FETCHER Neon Peach \\'I Am Not Lazy\\' Premium Dog, Puppy, Kitten and Cat T-Shirt for Small Breeds (12\" X-Small)',\n",
       " 'Kitty & The Woof Gang White Black Winter Jacket, Pet Winter Clothes for Dog and Cat | Size XS',\n",
       " 'Emily Pets Dog Shirt Striped Cotton Shirt,Pet Breathable Soft Basic Clothes for Small Medium Larg Boy Girl Dogs Bowknot Love is k Four-lagged Word Patch T Shirt for Dogs,Cats,Rabbits(M,White)',\n",
       " 'Kitty & The Woof Gang Blue Denim Shirt with Silver Lycra top | Ribbed All Around with Patch | Party Dress for Small Medium Large Dog, cat & Puppies Female Male | Size XXL',\n",
       " 'The Pawpstar Co. by Aditya Birla New Age T-Shirts for Dogs (XXL, Orange)',\n",
       " 'Lana Paws Adjustable Tuxedo Dog Bandana/Scarf (Size M-L)',\n",
       " 'Lana Paws Crimson Red Silk Dog Bow Tie/Bowtie, M-L',\n",
       " 'Oz International Dog Shirt with Collar | Pet Apparels for Puppy, Small Dogs & Cats|Cotton Interlocked Fabric Shirts',\n",
       " 'TBOP Dog Clothes Autumn/Winter Double Layer Four Legged Sweater Dog Cat Clothes Supplies(Thick Red Corduroy with Hoods on Legs_XXL)(Color May Vary)',\n",
       " 'Pets Empire Dog Cat Hoodie Sweatshirt Winter Pet Clothes Dogs Coat Jacket Dogs Pets Clothing Suit 1 Piece (Pattern May Vary) (24 Inch, Dark Grey)',\n",
       " 'Ruse. Pet I Love My Human Foil Edition Round Neck Sleeveless Vest Tank T-Shirt/Tees for Dog Clothes Summer Apparel./X-Large (Full Grown Retrievers, Labs etc.)',\n",
       " 'FETCHER Pink & Red Printed Flannel Dog Costume Dog Cold Weather Coats Cat Apparel Doggie Clothes Pet High Collar Fleece Sweater Outfit Dog Thickened Warm Flannel Clothes (14\" Small)',\n",
       " 'Kitty & The Woof Gang Frills - Orange Vibing Dog Summer Clothes Dress T-Shirt Tees | Dog Clothes for Puppy | Puppy Clothes Dog Dress Cat Clothes | Comfortable Pet Clothes (8In -XXS)',\n",
       " 'FETCHER Red Cute Cartoon Printed Premium Warm Fleece Sweatshirt for Dogs and Cats | Winter wear Sweatshirt Sweater (12\" X-Small)',\n",
       " 'Kitty & The Woof Gang Hot Sauce - Yellow Dog Summer Clothes Dress T-Shirt Tees | Dog Clothes for Puppy | Puppy Clothes Dog Dress Cat Clothes | Comfortable Pet Clothes (8In -XXS)',\n",
       " 'Kitty & The Woof Gang Red Check with Bow Dog Summer Apparel/T-Shirt/Tees/Hoodie | Dog Clothes for Puppy | Puppy Clothes Dog Dress Cat Clothes | Comfortable Pet Clothes (8In -XXS)',\n",
       " 'The DDS Store Warm Dog Hoodie, Soft Fleece Puppy Clothes Doggie Shirt Winter Outfits Sweatshirt for Small Pets Dogs Cats Chihuahua Teddy Pup (14 Inch, Black Star Hoodie)',\n",
       " 'Pets Empire Dog Cat Hoodie Sweatshirt Winter Pet Clothes Dogs French Bulldog Pug Coat Jacket Dogs Pets Clothing Suit 1 Piece (Pattern May Vary) (10 Inch, Black)',\n",
       " 'Ruse Pet The Dogfather Printed Round Neck Sleeveless Dog Vest Tank T-Shirt/Tees Apparel/Clothes/Tees Gift for Dogs(Poppy Red)/Medium (Chubby Pugs, Beagle etc.)',\n",
       " 'Ruse Basic Crew Neck Good Boy Jersey No.1 Printed Half Sleeves Dog T-Shirt/Apparel/Clothes/Tees Gift for Dogs.(Red) Medium (Chubby Pugs, Beagle etc.)',\n",
       " 'CHOOSTIX Summer Dog & Cat, Designer T-Shirt, Light Blue with Circles Pattern, 2XL, 200g, Medium, 200 g',\n",
       " 'Sage Square Comfort Cotton Dog T-Shirt, Sleeveless Vest for Dog Clothes, Puppy Tank Top Fashion Apparel (Red) (XXSmall) (10inches)',\n",
       " 'Puptail Dog Dress with Lovely Bow Puppy Dress Pet Apparel Dog Clothes for Small and Large Dogs and Cats (XL)',\n",
       " 'Nootie Summer Dog/Puppies T-Shirt | Premium Printed Pets Round Neck Sleeveless Shirt/Apparel/Clothes/Tees Gift for Dogs Pets (12\", Black)',\n",
       " 'Pets Empire Dog Cat Hoodie Sweatshirt Winter Pet Clothes Dogs French Bulldog Pug Coat Jacket Dogs Pets Clothing Suit 1 Piece (Pattern May Vary) (18 Inch, Dark Grey)',\n",
       " 'Sage Square Comfortable Cotton Dog T-Shirt ll Soft & Breathable Sleeveless Vest Dog Clothes ll Puppy Tank Top Fashion Apparel (Black) (XXSmall - 10inches, Black)',\n",
       " 'Ruse Pet Set of 2 Mini Pooper & Classy Mother Pupper Round Neck Sleeveless Dog Vest Tank T-Shirt Combo/Tees Apparel/Clothes/Tees Gift for Dogs(Yellow/Navy) Medium',\n",
       " 'Kitty & The Woof Gang Hot Fiesta Sauce - Red Dog Summer Clothes Dress T-Shirt Tees | Dog Clothes for Small Dogs | Puppy Clothes Dog Dress Cat Clothes | Comfortable Pet Clothes (12In-S)',\n",
       " 'Goofy Tails X Design Chefz Abstract Flora Bow + Bandana Combo for Dogs & Cats (Multicolor) (Medium)',\n",
       " 'Kitty & The Woof Gang Red Velvet Winter Dog Jacket with Black Lycra top | Winter Dog Sweater Dog Clothes for Dogs Dog Dress Puppy Clothes Cat Dress Cat Clothes Pet Clothes | 8- XXS',\n",
       " 'Ruse. Pet I Just Want Foil Edition Round Neck Sleeveless Vest Tank T-Shirt/Tees for Dog Clothes Summer Apparel (Navy/Golden; /Large (Full Grown Desi/Stray, Doberman etc.)',\n",
       " 'FETCHER Star Royal Blue Color Flannel Dog Costume Dog Cold Weather Coats Cat Apparel Doggie Clothes Pet High Collar Fleece Sweater Outfit Dog Thickened Warm Flannel Clothes (20\" X-Large)',\n",
       " 'For The Fur Kids Dog Bow Tie: Cute Polka Bow Tie for Pets, Dog Accessory (Red), 1 Piece',\n",
       " 'KUTKUT Sun Flowers Decor Eelgant Lace Princess Dress for Small Dogs | Sweetie Summer Skirt Dress for ShishTzu, King Charls, Pug etc (Size: XL, Adjustable Bust: 48-52cm, Back Length: 40cm)',\n",
       " 'Ruse Basic Crew Neck The Birthday Dude Printed Half Sleeves/Apparel/Clothes/T-Shirt Gift for Dogs.Colour-Black//Large (Full Grown Desi/Stray, Doberman etc.)',\n",
       " 'Sage Square Dog Winter Ultra Comfortable Warm Coat, Thicker Fleece Dog Hoodie Vest for Cold Weather (Large - 24 Inch, Design 1)',\n",
       " 'Ruse.Pet Troublemaker Round Neck Sleeveless Vest Tank T-Shirt/Tees for Dog Clothes Summer Apparel./X-Large (Full Grown Retrievers, Labs etc.)',\n",
       " 'Pet Clothes for Dogs – Cute Dog Clothes for Small, Medium and Large Dogs – Premium Skin-Friendly Fabric – Comfortable and Modern Pet Hoodie – Perfect for Photo Shoot, Everyday Wear (4XL, Black)',\n",
       " 'Ruse Pet Scar Glasses Printed Round Neck Sleeveless Dog Vest Tank T-Shirt/Tees Apparel/Clothes/Tees Gift for Dogs(Poppy Red)/Medium (Chubby Pugs, Beagle etc.)',\n",
       " 'Ruse. Pet I Love My Human Foil Edition Round Neck Sleeveless Vest Tank T-Shirt/Tees for Dog Clothes Summer Apparel./Small (Apso, Shih Tzu etc.)',\n",
       " 'PetVogue Classic Cosy Dog Sweater',\n",
       " 'FETCHER Grey & Red Premium Dog T-Shirts for Small Breeds (Set of 2) (Medium)…',\n",
       " 'FETCHER Grey & Wine Premium Dog T-Shirts for Small Breeds (Set of 2) (Medium)',\n",
       " 'Oz International Windproof British Style Cold Weather Winter Dog Coat Dog Jacket Fleece Lined for Cats Rabbit Small Dogs Beagle Spitz Shihtzu Apso Pomeranian Chihuahua Poodle Dachshund, Pug.']"
      ]
     },
     "execution_count": 171,
     "metadata": {},
     "output_type": "execute_result"
    }
   ],
   "source": [
    "productnames3=[]\n",
    "for i in productname:\n",
    "    productnames3.append(i.text)\n",
    "productnames3"
   ]
  },
  {
   "cell_type": "code",
   "execution_count": 172,
   "id": "e66a09b2",
   "metadata": {},
   "outputs": [
    {
     "data": {
      "text/plain": [
       "60"
      ]
     },
     "execution_count": 172,
     "metadata": {},
     "output_type": "execute_result"
    }
   ],
   "source": [
    "len(productnames3)"
   ]
  },
  {
   "cell_type": "code",
   "execution_count": 173,
   "id": "cd52396e",
   "metadata": {},
   "outputs": [
    {
     "data": {
      "text/plain": [
       "[<selenium.webdriver.remote.webelement.WebElement (session=\"f7e25717ffa48bf6cf27835704330ab4\", element=\"98b5b7c8-d11a-4383-ae44-db9ddac778e9\")>,\n",
       " <selenium.webdriver.remote.webelement.WebElement (session=\"f7e25717ffa48bf6cf27835704330ab4\", element=\"fd8a9eda-3078-4e98-b557-8e5820e1e0e7\")>]"
      ]
     },
     "execution_count": 173,
     "metadata": {},
     "output_type": "execute_result"
    }
   ],
   "source": [
    "price=driver.find_elements_by_xpath('//span[@class=\"a-price-whole\"]')\n",
    "price[0:2]"
   ]
  },
  {
   "cell_type": "code",
   "execution_count": 174,
   "id": "22883e49",
   "metadata": {},
   "outputs": [
    {
     "data": {
      "text/plain": [
       "['429',\n",
       " '359',\n",
       " '549',\n",
       " '329',\n",
       " '253',\n",
       " '201',\n",
       " '340',\n",
       " '499',\n",
       " '538',\n",
       " '425',\n",
       " '301',\n",
       " '315',\n",
       " '359',\n",
       " '699',\n",
       " '710',\n",
       " '399',\n",
       " '329',\n",
       " '607',\n",
       " '299',\n",
       " '1,321',\n",
       " '599',\n",
       " '440',\n",
       " '440',\n",
       " '1,299',\n",
       " '948',\n",
       " '875',\n",
       " '799',\n",
       " '499',\n",
       " '208',\n",
       " '549',\n",
       " '231',\n",
       " '142',\n",
       " '499',\n",
       " '379',\n",
       " '699',\n",
       " '399',\n",
       " '1,226',\n",
       " '159',\n",
       " '1,290',\n",
       " '299',\n",
       " '699',\n",
       " '198',\n",
       " '525',\n",
       " '550',\n",
       " '500',\n",
       " '235',\n",
       " '724',\n",
       " '599',\n",
       " '399',\n",
       " '998',\n",
       " '699',\n",
       " '429',\n",
       " '680',\n",
       " '799',\n",
       " '680',\n",
       " '799',\n",
       " '557',\n",
       " '549',\n",
       " '529',\n",
       " '1,199',\n",
       " '5,474.',\n",
       " '4,989.',\n",
       " '13,479.',\n",
       " '6,328.',\n",
       " '275.',\n",
       " '699.',\n",
       " '269.',\n",
       " '1,799.',\n",
       " '251.',\n",
       " '1,599.',\n",
       " '169.',\n",
       " '1,449.']"
      ]
     },
     "execution_count": 174,
     "metadata": {},
     "output_type": "execute_result"
    }
   ],
   "source": [
    "prices3=[]\n",
    "for i in price:\n",
    "    prices3.append(i.text)\n",
    "prices3"
   ]
  },
  {
   "cell_type": "markdown",
   "id": "9b8b689c",
   "metadata": {},
   "source": [
    "prices3.pop()"
   ]
  },
  {
   "cell_type": "code",
   "execution_count": 187,
   "id": "26bcc8a0",
   "metadata": {},
   "outputs": [
    {
     "data": {
      "text/plain": [
       "['429',\n",
       " '359',\n",
       " '549',\n",
       " '329',\n",
       " '253',\n",
       " '201',\n",
       " '340',\n",
       " '499',\n",
       " '538',\n",
       " '425',\n",
       " '301',\n",
       " '315',\n",
       " '359',\n",
       " '699',\n",
       " '710',\n",
       " '399',\n",
       " '329',\n",
       " '607',\n",
       " '299',\n",
       " '1,321',\n",
       " '599',\n",
       " '440',\n",
       " '440',\n",
       " '1,299',\n",
       " '948',\n",
       " '875',\n",
       " '799',\n",
       " '499',\n",
       " '208',\n",
       " '549',\n",
       " '231',\n",
       " '142',\n",
       " '499',\n",
       " '379',\n",
       " '699',\n",
       " '399',\n",
       " '1,226',\n",
       " '159',\n",
       " '1,290',\n",
       " '299',\n",
       " '699',\n",
       " '198',\n",
       " '525',\n",
       " '550',\n",
       " '500',\n",
       " '235',\n",
       " '724',\n",
       " '599',\n",
       " '399',\n",
       " '998',\n",
       " '699',\n",
       " '429',\n",
       " '680',\n",
       " '799',\n",
       " '680',\n",
       " '799',\n",
       " '557',\n",
       " '549',\n",
       " '529',\n",
       " '1,199']"
      ]
     },
     "execution_count": 187,
     "metadata": {},
     "output_type": "execute_result"
    }
   ],
   "source": [
    "prices3"
   ]
  },
  {
   "cell_type": "code",
   "execution_count": 188,
   "id": "1f3f4395",
   "metadata": {},
   "outputs": [
    {
     "data": {
      "text/plain": [
       "60"
      ]
     },
     "execution_count": 188,
     "metadata": {},
     "output_type": "execute_result"
    }
   ],
   "source": [
    "len(prices3)"
   ]
  },
  {
   "cell_type": "code",
   "execution_count": 189,
   "id": "afec221a",
   "metadata": {},
   "outputs": [
    {
     "data": {
      "text/plain": [
       "[<selenium.webdriver.remote.webelement.WebElement (session=\"f7e25717ffa48bf6cf27835704330ab4\", element=\"b4035fa5-79ea-44cb-b511-839363212aae\")>,\n",
       " <selenium.webdriver.remote.webelement.WebElement (session=\"f7e25717ffa48bf6cf27835704330ab4\", element=\"297ee7d3-0279-46a3-b0c2-8c109ebbbcc9\")>]"
      ]
     },
     "execution_count": 189,
     "metadata": {},
     "output_type": "execute_result"
    }
   ],
   "source": [
    "expdel=driver.find_elements_by_xpath('//span[@class=\"a-color-base a-text-bold\"]')\n",
    "expdel[0:2]"
   ]
  },
  {
   "cell_type": "code",
   "execution_count": 190,
   "id": "169d0fbd",
   "metadata": {},
   "outputs": [
    {
     "data": {
      "text/plain": [
       "['Tomorrow, March 31',\n",
       " 'Tomorrow, March 31',\n",
       " 'Tomorrow, March 31',\n",
       " 'Tomorrow, March 31',\n",
       " 'Tomorrow, March 31',\n",
       " 'Tomorrow, March 31',\n",
       " 'Tomorrow, March 31',\n",
       " 'Friday, April 1',\n",
       " 'Saturday, April 2',\n",
       " 'Tomorrow, March 31',\n",
       " 'Tomorrow, March 31',\n",
       " 'Tomorrow, March 31',\n",
       " 'Tomorrow, March 31',\n",
       " 'Friday, April 1',\n",
       " 'Tomorrow, March 31',\n",
       " 'Tomorrow, March 31',\n",
       " 'Tomorrow, March 31',\n",
       " 'Tomorrow, March 31',\n",
       " 'Friday, April 1',\n",
       " 'Tomorrow, March 31',\n",
       " 'Sunday, April 3',\n",
       " 'Tomorrow, March 31',\n",
       " 'Tomorrow, March 31',\n",
       " 'Sunday, April 3',\n",
       " 'Saturday, April 2',\n",
       " 'Friday, April 1',\n",
       " 'Friday, April 1',\n",
       " 'Tomorrow, March 31',\n",
       " 'Tomorrow, March 31',\n",
       " 'Tomorrow, March 31',\n",
       " 'Tomorrow, March 31',\n",
       " 'Tomorrow, March 31',\n",
       " 'Friday, April 1',\n",
       " 'Friday, April 1',\n",
       " 'Friday, April 1',\n",
       " 'Friday, April 1',\n",
       " 'Tomorrow, March 31',\n",
       " 'Friday, April 1',\n",
       " 'Thursday, April 7',\n",
       " 'Friday, April 1',\n",
       " 'Friday, April 1',\n",
       " 'Friday, April 1',\n",
       " 'Friday, April 1',\n",
       " 'Saturday, April 2',\n",
       " 'Friday, April 1',\n",
       " 'Tomorrow, March 31',\n",
       " 'Friday, April 1',\n",
       " 'Tomorrow, March 31',\n",
       " 'Tomorrow, March 31',\n",
       " 'Friday, April 1',\n",
       " 'Friday, April 1',\n",
       " 'Friday, April 1',\n",
       " 'Friday, April 1',\n",
       " 'Monday, April 4',\n",
       " 'Friday, April 1',\n",
       " 'Friday, April 1',\n",
       " 'Friday, April 1',\n",
       " 'Tomorrow, March 31',\n",
       " 'Tomorrow, March 31',\n",
       " 'Tomorrow, March 31']"
      ]
     },
     "execution_count": 190,
     "metadata": {},
     "output_type": "execute_result"
    }
   ],
   "source": [
    "expdels3=[]\n",
    "for i in expdel:\n",
    "    expdels3.append(i.text)\n",
    "expdels3"
   ]
  },
  {
   "cell_type": "code",
   "execution_count": 191,
   "id": "029eaddd",
   "metadata": {},
   "outputs": [
    {
     "data": {
      "text/plain": [
       "60"
      ]
     },
     "execution_count": 191,
     "metadata": {},
     "output_type": "execute_result"
    }
   ],
   "source": [
    "len(expdels3)"
   ]
  },
  {
   "cell_type": "code",
   "execution_count": 192,
   "id": "62b133eb",
   "metadata": {},
   "outputs": [
    {
     "data": {
      "text/plain": [
       "[<selenium.webdriver.remote.webelement.WebElement (session=\"f7e25717ffa48bf6cf27835704330ab4\", element=\"a6ac7b23-25b1-41a7-9818-974f78ec2d69\")>,\n",
       " <selenium.webdriver.remote.webelement.WebElement (session=\"f7e25717ffa48bf6cf27835704330ab4\", element=\"2b561320-be1c-42db-b5f9-faf4a262b106\")>]"
      ]
     },
     "execution_count": 192,
     "metadata": {},
     "output_type": "execute_result"
    }
   ],
   "source": [
    "producturl=driver.find_elements_by_xpath('//a[@class=\"a-link-normal s-underline-text s-underline-link-text s-link-style a-text-normal\"]')\n",
    "producturl[0:2]"
   ]
  },
  {
   "cell_type": "code",
   "execution_count": 193,
   "id": "84e25eae",
   "metadata": {},
   "outputs": [
    {
     "data": {
      "text/plain": [
       "['https://www.amazon.in/gp/slredirect/picassoRedirect.html/ref=pa_sp_atf_next_aps_sr_pg3_1?ie=UTF8&adId=A09787011QV4GGYD9YVYV&url=%2FFETCHER-Printed-T-Shirt-Breeds-X-Large%2Fdp%2FB097F968SM%2Fref%3Dsr_1_97_sspa%3Fcrid%3D1KBV80T90MV9Z%26keywords%3Ddogs%2Bclothes%26qid%3D1648642124%26sprefix%3Ddogs%2Bclothes%252Caps%252C593%26sr%3D8-97-spons%26psc%3D1&qualifier=1648642124&id=2022548321089812&widgetName=sp_atf_next',\n",
       " 'https://www.amazon.in/gp/slredirect/picassoRedirect.html/ref=pa_sp_atf_next_aps_sr_pg3_1?ie=UTF8&adId=A085105830L54JEJXW7IM&url=%2FFETCHER-Red-Premium-T-Shirt-Small%2Fdp%2FB08MFGKWQ5%2Fref%3Dsr_1_98_sspa%3Fcrid%3D1KBV80T90MV9Z%26keywords%3Ddogs%2Bclothes%26qid%3D1648642124%26sprefix%3Ddogs%2Bclothes%252Caps%252C593%26sr%3D8-98-spons%26psc%3D1&qualifier=1648642124&id=2022548321089812&widgetName=sp_atf_next',\n",
       " 'https://www.amazon.in/gp/slredirect/picassoRedirect.html/ref=pa_sp_atf_next_aps_sr_pg3_1?ie=UTF8&adId=A05766541H9WMEQR3DEE3&url=%2FFETCHER-Blue-Black-Premium-T-Shirts%2Fdp%2FB08LKZZKS2%2Fref%3Dsr_1_99_sspa%3Fcrid%3D1KBV80T90MV9Z%26keywords%3Ddogs%2Bclothes%26qid%3D1648642124%26sprefix%3Ddogs%2Bclothes%252Caps%252C593%26sr%3D8-99-spons%26psc%3D1&qualifier=1648642124&id=2022548321089812&widgetName=sp_atf_next',\n",
       " 'https://www.amazon.in/gp/slredirect/picassoRedirect.html/ref=pa_sp_atf_next_aps_sr_pg3_1?ie=UTF8&adId=A01237812BFJJWJJB537L&url=%2FFETCHER-There-Premium-T-Shirt-Breeds%2Fdp%2FB09BBFXDQZ%2Fref%3Dsr_1_100_sspa%3Fcrid%3D1KBV80T90MV9Z%26keywords%3Ddogs%2Bclothes%26qid%3D1648642124%26sprefix%3Ddogs%2Bclothes%252Caps%252C593%26sr%3D8-100-spons%26psc%3D1&qualifier=1648642124&id=2022548321089812&widgetName=sp_atf_next',\n",
       " 'https://www.amazon.in/Kitty-Woof-Gang-Embellished-Comfortable/dp/B08XZJZBW3/ref=sr_1_101?crid=1KBV80T90MV9Z&keywords=dogs+clothes&qid=1648642124&sprefix=dogs+clothes%2Caps%2C593&sr=8-101',\n",
       " 'https://www.amazon.in/Kitty-Woof-Gang-Clothes-Comfortable/dp/B08XWKV22B/ref=sr_1_102?crid=1KBV80T90MV9Z&keywords=dogs+clothes&qid=1648642124&sprefix=dogs+clothes%2Caps%2C593&sr=8-102',\n",
       " 'https://www.amazon.in/Kitty-Woof-Gang-Windcheater-Reflective/dp/B08NDK47N5/ref=sr_1_103?crid=1KBV80T90MV9Z&keywords=dogs+clothes&qid=1648642124&sprefix=dogs+clothes%2Caps%2C593&sr=8-103',\n",
       " 'https://www.amazon.in/Foodie-Puppies-Red-Black-Reversible-Jackets/dp/B09K5613PQ/ref=sr_1_104?crid=1KBV80T90MV9Z&keywords=dogs+clothes&qid=1648642124&sprefix=dogs+clothes%2Caps%2C593&sr=8-104',\n",
       " 'https://www.amazon.in/TBOP-Clothes-Sweater-Supplies-Orange_XXL/dp/B08NYGG3V2/ref=sr_1_105?crid=1KBV80T90MV9Z&keywords=dogs+clothes&qid=1648642124&sprefix=dogs+clothes%2Caps%2C593&sr=8-105',\n",
       " 'https://www.amazon.in/Kitty-Woof-Gang-Bloomingdale-Comfortable/dp/B08XYVY6BP/ref=sr_1_106?crid=1KBV80T90MV9Z&keywords=dogs+clothes&qid=1648642124&sprefix=dogs+clothes%2Caps%2C593&sr=8-106',\n",
       " 'https://www.amazon.in/Kitty-Woof-Gang-Summertime-Floral/dp/B08Y29KW2P/ref=sr_1_107?crid=1KBV80T90MV9Z&keywords=dogs+clothes&qid=1648642124&sprefix=dogs+clothes%2Caps%2C593&sr=8-107',\n",
       " 'https://www.amazon.in/Kitty-Woof-Gang-Sweater-Comfortable/dp/B08NF2247D/ref=sr_1_108?crid=1KBV80T90MV9Z&keywords=dogs+clothes&qid=1648642124&sprefix=dogs+clothes%2Caps%2C593&sr=8-108',\n",
       " 'https://www.amazon.in/FETCHER-Red-Premium-T-Shirt-Small/dp/B08MFGKWQ5/ref=sr_1_109?crid=1KBV80T90MV9Z&keywords=dogs+clothes&qid=1648642124&sprefix=dogs+clothes%2Caps%2C593&sr=8-109',\n",
       " 'https://www.amazon.in/PetVogue-Ultra-Sweater-Puppies-Small/dp/B0839BGFM4/ref=sr_1_110?crid=1KBV80T90MV9Z&keywords=dogs+clothes&qid=1648642124&sprefix=dogs+clothes%2Caps%2C593&sr=8-110',\n",
       " 'https://www.amazon.in/Oz-International-Camouflage-Apparels-Interlocked/dp/B082X1YHGD/ref=sr_1_111?crid=1KBV80T90MV9Z&keywords=dogs+clothes&qid=1648642124&sprefix=dogs+clothes%2Caps%2C593&sr=8-111',\n",
       " 'https://www.amazon.in/Lulala-drizzled-Spaghetti-Sleeveless-Pullover/dp/B09P3L43Q6/ref=sr_1_112?crid=1KBV80T90MV9Z&keywords=dogs+clothes&qid=1648642124&sprefix=dogs+clothes%2Caps%2C593&sr=8-112',\n",
       " 'https://www.amazon.in/FETCHER-Premium-Kitten-T-Shirt-X-Small/dp/B09JM2VHZR/ref=sr_1_113?crid=1KBV80T90MV9Z&keywords=dogs+clothes&qid=1648642124&sprefix=dogs+clothes%2Caps%2C593&sr=8-113',\n",
       " 'https://www.amazon.in/Kitty-Woof-Gang-Checker-Clothes/dp/B07L98NSXR/ref=sr_1_114?crid=1KBV80T90MV9Z&keywords=dogs+clothes&qid=1648642124&sprefix=dogs+clothes%2Caps%2C593&sr=8-114',\n",
       " 'https://www.amazon.in/Striped-Breathable-Clothes-Bowknot-Four-lagged/dp/B09H36V2PN/ref=sr_1_115?crid=1KBV80T90MV9Z&keywords=dogs+clothes&qid=1648642124&sprefix=dogs+clothes%2Caps%2C593&sr=8-115',\n",
       " 'https://www.amazon.in/Kitty-Woof-Gang-Silver-Puppies/dp/B08S6598V9/ref=sr_1_116?crid=1KBV80T90MV9Z&keywords=dogs+clothes&qid=1648642124&sprefix=dogs+clothes%2Caps%2C593&sr=8-116',\n",
       " 'https://www.amazon.in/gp/slredirect/picassoRedirect.html/ref=pa_sp_mtf_aps_sr_pg3_1?ie=UTF8&adId=A09846632CIWKUFGQTNR3&url=%2FPawpstar-Aditya-Birla-T-Shirts-Orange%2Fdp%2FB09C25X18X%2Fref%3Dsr_1_117_sspa%3Fcrid%3D1KBV80T90MV9Z%26keywords%3Ddogs%2Bclothes%26qid%3D1648642124%26sprefix%3Ddogs%2Bclothes%252Caps%252C593%26sr%3D8-117-spons%26psc%3D1&qualifier=1648642124&id=2022548321089812&widgetName=sp_mtf',\n",
       " 'https://www.amazon.in/gp/slredirect/picassoRedirect.html/ref=pa_sp_mtf_aps_sr_pg3_1?ie=UTF8&adId=A062767236GE2JK025BN3&url=%2FLANA-Paws-Tuxedo-Bandana-Adjustable%2Fdp%2FB07TKDWX7Z%2Fref%3Dsr_1_118_sspa%3Fcrid%3D1KBV80T90MV9Z%26keywords%3Ddogs%2Bclothes%26qid%3D1648642124%26sprefix%3Ddogs%2Bclothes%252Caps%252C593%26sr%3D8-118-spons%26psc%3D1&qualifier=1648642124&id=2022548321089812&widgetName=sp_mtf',\n",
       " 'https://www.amazon.in/gp/slredirect/picassoRedirect.html/ref=pa_sp_mtf_aps_sr_pg3_1?ie=UTF8&adId=A05991338XGSTBUUMB8K&url=%2FLana-Paws-Quirky-Adjustable-Crimson%2Fdp%2FB078L24SFR%2Fref%3Dsr_1_119_sspa%3Fcrid%3D1KBV80T90MV9Z%26keywords%3Ddogs%2Bclothes%26qid%3D1648642124%26sprefix%3Ddogs%2Bclothes%252Caps%252C593%26sr%3D8-119-spons%26psc%3D1&qualifier=1648642124&id=2022548321089812&widgetName=sp_mtf',\n",
       " 'https://www.amazon.in/gp/slredirect/picassoRedirect.html/ref=pa_sp_mtf_aps_sr_pg3_1?ie=UTF8&adId=A09523802U2L3QIMLHQJP&url=%2FInternational-Collar-Apparels-Cotton-Interlocked%2Fdp%2FB09SVJ7D9G%2Fref%3Dsr_1_120_sspa%3Fcrid%3D1KBV80T90MV9Z%26keywords%3Ddogs%2Bclothes%26qid%3D1648642124%26sprefix%3Ddogs%2Bclothes%252Caps%252C593%26sr%3D8-120-spons%26psc%3D1&qualifier=1648642124&id=2022548321089812&widgetName=sp_mtf',\n",
       " 'https://www.amazon.in/TBOP-Clothes-Supplies-Corduroy-Legs_XXL/dp/B08PBVSLC7/ref=sr_1_121?crid=1KBV80T90MV9Z&keywords=dogs+clothes&qid=1648642124&sprefix=dogs+clothes%2Caps%2C593&sr=8-121',\n",
       " 'https://www.amazon.in/Empire-Sweatshirt-Clothes-Clothing-Pattern/dp/B09P4ZXWZF/ref=sr_1_122?crid=1KBV80T90MV9Z&keywords=dogs+clothes&qid=1648642124&sprefix=dogs+clothes%2Caps%2C593&sr=8-122',\n",
       " 'https://www.amazon.in/Ruse-Sleeveless-T-Shirt-Clothes-Apparel/dp/B07NRPJFNX/ref=sr_1_123?crid=1KBV80T90MV9Z&keywords=dogs+clothes&qid=1648642124&sprefix=dogs+clothes%2Caps%2C593&sr=8-123',\n",
       " 'https://www.amazon.in/FETCHER-Printed-Flannel-Costume-Thickened/dp/B09PVJ6VK5/ref=sr_1_124?crid=1KBV80T90MV9Z&keywords=dogs+clothes&qid=1648642124&sprefix=dogs+clothes%2Caps%2C593&sr=8-124',\n",
       " 'https://www.amazon.in/Kitty-Woof-Gang-Frills-Comfortable/dp/B08Y8KYGGL/ref=sr_1_125?crid=1KBV80T90MV9Z&keywords=dogs+clothes&qid=1648642124&sprefix=dogs+clothes%2Caps%2C593&sr=8-125',\n",
       " 'https://www.amazon.in/FETCHER-Cartoon-Printed-Premium-Sweatshirt/dp/B09LSGF3P8/ref=sr_1_126?crid=1KBV80T90MV9Z&keywords=dogs+clothes&qid=1648642124&sprefix=dogs+clothes%2Caps%2C593&sr=8-126',\n",
       " 'https://www.amazon.in/Kitty-Woof-Gang-Hot-Sauce/dp/B08XXTW1H8/ref=sr_1_127?crid=1KBV80T90MV9Z&keywords=dogs+clothes&qid=1648642124&sprefix=dogs+clothes%2Caps%2C593&sr=8-127',\n",
       " 'https://www.amazon.in/Kitty-Woof-Gang-Apparel-Comfortable/dp/B08XB7L129/ref=sr_1_128?crid=1KBV80T90MV9Z&keywords=dogs+clothes&qid=1648642124&sprefix=dogs+clothes%2Caps%2C593&sr=8-128',\n",
       " 'https://www.amazon.in/DDS-Clothes-Outfits-Sweatshirt-Chihuahua/dp/B09LYGDKZT/ref=sr_1_129?crid=1KBV80T90MV9Z&keywords=dogs+clothes&qid=1648642124&sprefix=dogs+clothes%2Caps%2C593&sr=8-129',\n",
       " 'https://www.amazon.in/Sweatshirt-Clothes-Bulldog-Clothing-Pattern/dp/B09P4YFX8D/ref=sr_1_130?crid=1KBV80T90MV9Z&keywords=dogs+clothes&qid=1648642124&sprefix=dogs+clothes%2Caps%2C593&sr=8-130',\n",
       " 'https://www.amazon.in/Dogfather-Printed-Sleeveless-T-Shirt-Doberman/dp/B07NP2Z8GL/ref=sr_1_131?crid=1KBV80T90MV9Z&keywords=dogs+clothes&qid=1648642124&sprefix=dogs+clothes%2Caps%2C593&sr=8-131',\n",
       " 'https://www.amazon.in/Ruse-Printed-Sleeves-T-Shirt-Apparel/dp/B09G3HYPKX/ref=sr_1_132?crid=1KBV80T90MV9Z&keywords=dogs+clothes&qid=1648642124&sprefix=dogs+clothes%2Caps%2C593&sr=8-132',\n",
       " 'https://www.amazon.in/CHOOSTIX-Designer-T-Shirt-Circles-Pattern/dp/B085W5DY9W/ref=sr_1_133?crid=1KBV80T90MV9Z&keywords=dogs+clothes&qid=1648642124&sprefix=dogs+clothes%2Caps%2C593&sr=8-133',\n",
       " 'https://www.amazon.in/Sage-Square-Comfort-Sleeveless-10inches/dp/B09BD56TSF/ref=sr_1_134?crid=1KBV80T90MV9Z&keywords=dogs+clothes&qid=1648642124&sprefix=dogs+clothes%2Caps%2C593&sr=8-134',\n",
       " 'https://www.amazon.in/Puptail-Dress-Lovely-Apparel-Clothes/dp/B09TTN5T2D/ref=sr_1_135?crid=1KBV80T90MV9Z&keywords=dogs+clothes&qid=1648642124&sprefix=dogs+clothes%2Caps%2C593&sr=8-135',\n",
       " 'https://www.amazon.in/Nootie-Puppies-T-Shirt-Premium-Sleeveless/dp/B09SQ1VV38/ref=sr_1_136?crid=1KBV80T90MV9Z&keywords=dogs+clothes&qid=1648642124&sprefix=dogs+clothes%2Caps%2C593&sr=8-136',\n",
       " 'https://www.amazon.in/Sweatshirt-Clothes-Bulldog-Clothing-Pattern/dp/B09P51Y76Z/ref=sr_1_137?crid=1KBV80T90MV9Z&keywords=dogs+clothes&qid=1648642124&sprefix=dogs+clothes%2Caps%2C593&sr=8-137',\n",
       " 'https://www.amazon.in/Sage-Square-Comfortable-Breathable-Sleeveless/dp/B09SD9Y2ZG/ref=sr_1_138?crid=1KBV80T90MV9Z&keywords=dogs+clothes&qid=1648642124&sprefix=dogs+clothes%2Caps%2C593&sr=8-138',\n",
       " 'https://www.amazon.in/Ruse-Sleeveless-T-Shirt-Apparel-Clothes/dp/B09VTCL8H5/ref=sr_1_139?crid=1KBV80T90MV9Z&keywords=dogs+clothes&qid=1648642124&sprefix=dogs+clothes%2Caps%2C593&sr=8-139',\n",
       " 'https://www.amazon.in/Kitty-Woof-Gang-Fiesta-Sauce/dp/B08Y8L77S3/ref=sr_1_140?crid=1KBV80T90MV9Z&keywords=dogs+clothes&qid=1648642124&sprefix=dogs+clothes%2Caps%2C593&sr=8-140',\n",
       " 'https://www.amazon.in/Goofy-Tails-Abstract-Flora-Bandana/dp/B08T1PCQVT/ref=sr_1_141?crid=1KBV80T90MV9Z&keywords=dogs+clothes&qid=1648642124&sprefix=dogs+clothes%2Caps%2C593&sr=8-141',\n",
       " 'https://www.amazon.in/Kitty-Woof-Gang-Sweater-Clothes/dp/B08NC11CNP/ref=sr_1_142?crid=1KBV80T90MV9Z&keywords=dogs+clothes&qid=1648642124&sprefix=dogs+clothes%2Caps%2C593&sr=8-142',\n",
       " 'https://www.amazon.in/Ruse-Sleeveless-T-Shirt-Clothes-Apparel/dp/B07Q29GHNB/ref=sr_1_143?crid=1KBV80T90MV9Z&keywords=dogs+clothes&qid=1648642124&sprefix=dogs+clothes%2Caps%2C593&sr=8-143',\n",
       " 'https://www.amazon.in/FETCHER-Flannel-Costume-Weather-Thickened/dp/B09MM55F6X/ref=sr_1_144?crid=1KBV80T90MV9Z&keywords=dogs+clothes&qid=1648642124&sprefix=dogs+clothes%2Caps%2C593&sr=8-144',\n",
       " 'https://www.amazon.in/Fur-Kids-Polka-Dots-Dog/dp/B084142YM8/ref=sr_1_145?crid=1KBV80T90MV9Z&keywords=dogs+clothes&qid=1648642124&sprefix=dogs+clothes%2Caps%2C593&sr=8-145',\n",
       " 'https://www.amazon.in/KUTKUT-Flowers-Eelgant-Princess-ShishTzu/dp/B09NY9HVPR/ref=sr_1_146?crid=1KBV80T90MV9Z&keywords=dogs+clothes&qid=1648642124&sprefix=dogs+clothes%2Caps%2C593&sr=8-146',\n",
       " 'https://www.amazon.in/Ruse-Birthday-Printed-Dogs-Colour-Black-Doberman/dp/B09799MSTT/ref=sr_1_147?crid=1KBV80T90MV9Z&keywords=dogs+clothes&qid=1648642124&sprefix=dogs+clothes%2Caps%2C593&sr=8-147',\n",
       " 'https://www.amazon.in/Sage-Square-Comfortable-Thicker-Weather/dp/B08PBNCB9Q/ref=sr_1_148?crid=1KBV80T90MV9Z&keywords=dogs+clothes&qid=1648642124&sprefix=dogs+clothes%2Caps%2C593&sr=8-148',\n",
       " 'https://www.amazon.in/Ruse-Pet-Troublemaker-Sleeveless-T-Shirt-Apparel/dp/B07SD1971K/ref=sr_1_149?crid=1KBV80T90MV9Z&keywords=dogs+clothes&qid=1648642124&sprefix=dogs+clothes%2Caps%2C593&sr=8-149',\n",
       " 'https://www.amazon.in/Pet-Clothes-Dogs-Skin-Friendly-Comfortable/dp/B09L1GMFG4/ref=sr_1_150?crid=1KBV80T90MV9Z&keywords=dogs+clothes&qid=1648642124&sprefix=dogs+clothes%2Caps%2C593&sr=8-150',\n",
       " 'https://www.amazon.in/Glasses-Printed-Sleeveless-T-Shirt-Doberman/dp/B07NJMG8R5/ref=sr_1_151?crid=1KBV80T90MV9Z&keywords=dogs+clothes&qid=1648642124&sprefix=dogs+clothes%2Caps%2C593&sr=8-151',\n",
       " 'https://www.amazon.in/Ruse-Sleeveless-T-Shirt-Clothes-Apparel/dp/B07Q1JB39P/ref=sr_1_152?crid=1KBV80T90MV9Z&keywords=dogs+clothes&qid=1648642124&sprefix=dogs+clothes%2Caps%2C593&sr=8-152',\n",
       " 'https://www.amazon.in/gp/slredirect/picassoRedirect.html/ref=pa_sp_btf_aps_sr_pg3_1?ie=UTF8&adId=A00145431ZHWJSTFFHKDE&url=%2FPetVogue-Classic-Cosy-Sweater-XX-Small%2Fdp%2FB0839B88WJ%2Fref%3Dsr_1_153_sspa%3Fcrid%3D1KBV80T90MV9Z%26keywords%3Ddogs%2Bclothes%26qid%3D1648642124%26sprefix%3Ddogs%2Bclothes%252Caps%252C593%26sr%3D8-153-spons%26psc%3D1&qualifier=1648642124&id=2022548321089812&widgetName=sp_btf',\n",
       " 'https://www.amazon.in/gp/slredirect/picassoRedirect.html/ref=pa_sp_btf_aps_sr_pg3_1?ie=UTF8&adId=A09551172ETHFJCIPANML&url=%2FFETCHER-Premium-T-Shirts-Breeds-Medium%2Fdp%2FB092JQ6KSD%2Fref%3Dsr_1_154_sspa%3Fcrid%3D1KBV80T90MV9Z%26keywords%3Ddogs%2Bclothes%26qid%3D1648642124%26sprefix%3Ddogs%2Bclothes%252Caps%252C593%26sr%3D8-154-spons%26psc%3D1&qualifier=1648642124&id=2022548321089812&widgetName=sp_btf',\n",
       " 'https://www.amazon.in/gp/slredirect/picassoRedirect.html/ref=pa_sp_btf_aps_sr_pg3_1?ie=UTF8&adId=A05815223CNOGEWOYX4UA&url=%2FFETCHER-Premium-T-Shirts-Breeds-Medium%2Fdp%2FB098P9SJCM%2Fref%3Dsr_1_155_sspa%3Fcrid%3D1KBV80T90MV9Z%26keywords%3Ddogs%2Bclothes%26qid%3D1648642124%26sprefix%3Ddogs%2Bclothes%252Caps%252C593%26sr%3D8-155-spons%26psc%3D1&qualifier=1648642124&id=2022548321089812&widgetName=sp_btf',\n",
       " 'https://www.amazon.in/gp/slredirect/picassoRedirect.html/ref=pa_sp_btf_aps_sr_pg3_1?ie=UTF8&adId=A02785772J1S3RBYWKJDP&url=%2FInternational-Windproof-Pomeranian-Chihuahua-Dachshund%2Fdp%2FB09NRXJK9J%2Fref%3Dsr_1_156_sspa%3Fcrid%3D1KBV80T90MV9Z%26keywords%3Ddogs%2Bclothes%26qid%3D1648642124%26sprefix%3Ddogs%2Bclothes%252Caps%252C593%26sr%3D8-156-spons%26psc%3D1&qualifier=1648642124&id=2022548321089812&widgetName=sp_btf']"
      ]
     },
     "execution_count": 193,
     "metadata": {},
     "output_type": "execute_result"
    }
   ],
   "source": [
    "producturls3=[]\n",
    "for i in producturl:\n",
    "    producturls3.append(i.get_attribute('href'))\n",
    "producturls3"
   ]
  },
  {
   "cell_type": "code",
   "execution_count": 194,
   "id": "082f2658",
   "metadata": {},
   "outputs": [
    {
     "data": {
      "text/plain": [
       "60"
      ]
     },
     "execution_count": 194,
     "metadata": {},
     "output_type": "execute_result"
    }
   ],
   "source": [
    "len(producturls3)"
   ]
  },
  {
   "cell_type": "code",
   "execution_count": 195,
   "id": "3f0891ee",
   "metadata": {},
   "outputs": [
    {
     "name": "stdout",
     "output_type": "stream",
     "text": [
      "['1,299', '499', '499', '1,450', '349', '680', '299', '549', '349', '338', '299', '449', '299', '399', '575', '399', '548', '159', '350', '609', '1,290', '699', '599', '299', '299', '780', '425', '185', '239', '264', '419', '299', '349', '1,210', '298', '_', '374', '449', '1,329', '200', '474', '_', '327', '799', '418', '498', '1,690', '399', '335', '1,008', '280', '269', '680', '299', '239', '724', '299', '549', '359', '499', '299', '798', '1,299', '430', '599', '1,099', '529', '589', '549', '301', '699', '724', '535', '251', '799', '386', '358', '699', '299', '479', '299', '599', '1,098', '599', '230', '700', '143', '294', '375', '502', '179', '899', '1,399', '799', '440', '271', '780', '289', '440', '699', '680', '-', '902', '480', '502', '685', '445', '270', '545', '361', '996', '179', '469', '579', '849', '493', '399', '440', '557', '1,199', '429', '359', '549', '329', '253', '201', '340', '499', '538', '425', '301', '315', '359', '699', '710', '399', '329', '607', '299', '1,321', '599', '440', '440', '1,299', '948', '875', '799', '499', '208', '549', '231', '142', '499', '379', '699', '399', '1,226', '159', '1,290', '299', '699', '198', '525', '550', '500', '235', '724', '599', '399', '998', '699', '429', '680', '799', '680', '799', '557', '549', '529', '1,199']\n"
     ]
    }
   ],
   "source": [
    "prices=prices1+prices2+prices3\n",
    "print(prices)"
   ]
  },
  {
   "cell_type": "code",
   "execution_count": 196,
   "id": "18c95397",
   "metadata": {},
   "outputs": [
    {
     "data": {
      "text/plain": [
       "180"
      ]
     },
     "execution_count": 196,
     "metadata": {},
     "output_type": "execute_result"
    }
   ],
   "source": [
    "len(prices)"
   ]
  },
  {
   "cell_type": "code",
   "execution_count": 197,
   "id": "e9dc9fc0",
   "metadata": {},
   "outputs": [
    {
     "name": "stdout",
     "output_type": "stream",
     "text": [
      "['Oz International Dog Shirt with Collar | Pet Apparels for Puppy, Small Dogs & Cats|Cotton Interlocked Fabric Shirts', 'Myartbucket Summer Dog T-Shirt Apni Hati to Sabki Fati Printed Pets Round Neck Sleeveless Vest Tank/Tees/Apparel/Clothes for Dogs (Blue) (Extra-Small)', 'Myartbucket Summer Dog T-Shirt apni chalti to sabki jalti Printed Pets Round Neck Sleeveless Vest Tank/Tees/Apparel/Clothes for Dogs(Yellow) (Extra-Small)', 'Myartbucket Pets Puppy Clothes Dog Summer Shirt Dress | Dogs Clothes, Dress Cute Skirt Outfit Set Adorable Dog Sling Skirt Dog Neck Belt Vest Tanks Tops Tees (Silver-Blue Color) (Large)', 'Ruse Pet Good Boy Jersey No.5 Printed Round Neck Sleeveless Dog Vest Tank T-Shirt/Tees Apparel/Clothes/Tees Gift for Dogs(Black) Medium (Chubby Pugs, Beagle etc.)', 'Ruse Summer Dog T-Shirt Troublemaker Printed Pets Round Neck Sleeveless Vest Tank/Tees/Apparel/Clothes for Dogs Poppy Red/Large (Full Grown Desi/Stray, Doberman etc.)', \"Emily Pets Pet Dog Hawaiian Costume, Includes Puppy Dog's Cool T-Shirts Summer Clothes, Funny Cute Dogs Retro Fashion for Small to Extra Large (XL,White)\", 'FETCHER Blue & Black Premium Dog T-Shirts (Set of 2)', 'Ruse Pet Good Boy Jersey No.1 Printed Round Neck Sleeveless Dog Vest Tank T-Shirt/Tees Apparel/Clothes/Tees Gift for Dogs(Red) Small (Apso, Shih Tzu etc.)', 'Sage Square Premium Dog Winter Ultra Warm Camouflage Army Coat Thicker Fleece Dog Hoodie Vest for Cold Weather (Size: Medium) (16 Inches)', 'Emily Pets Daaisy Printed Pet Shirts Dog T-Shirts Summer Puppy Pullovers Cute Dog Sweatshirts Soft Breathable Pet Apparels for Small to Medium Dogs Puppy(M,Blue)', 'Sage Square Premium Dog Winter Ultra Warm Camouflage Army Coat Thicker Fleece Dog Hoodie Vest for Cold Weather (1 Piece) (26Inch (XXL))', 'Emily Pets Cute Tutu Princess Puppy Dresses for Girl Dogs Skirt Embroidery Dog Wedding Net Hosiery Febric Frill Ruffle Sleeveless Summer Dress Elegant Pet Apparel(S,Neon)', 'Fetcher Dog T Shirt Sleeveless Muscle Tee Sando Vest for Dogs and Cats (Set of 2) (14\" Small)', \"FETCHER Dark-Blue 'I Woof You So Much' Dry Fit Hoodie for Small Dogs (Large)………\", 'Lulala Pet Dress Bobby Print Shirt with Contrast Stitching Cute Dog Sundress Dog Dress Puppy Summer Apparel Clothes Dog Skirt Shirt with Polka Dot Denim Dress for Dogs Cats Puppy(S,Navy Blue)', 'TBOP Dog Clothes Hooded Dog Sweater Cartoon Pet Clothing Supplies Sportswear (Rose Red_XL)(Color May Vary)', 'Kitty & The Woof Gang Red Stretchable and Soft Material with Gold top and a Patch T-Shirt - Jersey for Dog, Cat and Puppies | Please Check The Size Chart Before Ordering | Size 2XL', 'Jainsons Pet Products Soft Comfortable Sweatshirt for Dogs | Dog Clothes for Small Dogs | Dogs Winter Clothes | Dogs Winter Wear | Puppy Clothes for Winter | Clothes for Puppies | Pet Clothes for Dogs (16 inch, Red)', 'Kitty & The Woof Gang Hot Sauce - Red Dog Summer Clothes Dress T-Shirt Tees | Dog Clothes for Small Dogs | Puppy Clothes Dog Dress Cat Clothes | Comfortable Pet Clothes (12In-S)', 'Puptail Dog Suit or Dog Tuxedo and Bandana Set, Dogs Wedding Party Suit, Dog Wedding Bow Tie Shirt Formal Dog Weeding Attire for Large and Medium Dogs Golden Retriever, Labrador (Small)', 'Ruse. Pet Bosspup Round Neck Sleeveless Vest Tank T-Shirt/Tees for Dog Clothes Summer Apparel.', 'The Pawpstar Co. by Aditya Birla New Age T-Shirts for Dogs (XL, Green)', 'Lulala Dog Shirt Soft Pet Clothes Breathable Puppy Apparel Dog Blank T-Shirt for Dogs and Other Pets(S,Green)', 'Lulala Dog Shirt Soft Pet Clothes Breathable Puppy Apparel Dog Blank T-Shirt for Dogs and Other Pets(XS,Green)', 'Ruse Summer Dog T-Shirt I Love My Human Foil Edition Printed Pets Round Neck Sleeveless Vest Tank/Tees/Apparel/Clothes for Dogs Poppy Red/Golden/Small (Apso, Shih Tzu etc.)', 'Best Dogista Winter Dog Coat Jacket with Army Print Cloth Warm & Wind Proof 24 Inch Large', 'Kitty & The Woof Gang Neon Orange Dog Summer Clothes Dress T-Shirt Apparel Tees Hoodie | Dog Clothes for Small Dogs | Puppy Clothes Dog Dress Cat Clothes | Comfortable Pet Clothes (14In-M)', 'Sage Square Comfort Cotton Dog T-Shirt, Sleeveless Vest for Dog Clothes, Puppy Tank Top Fashion Apparel (Black) (Large) (20inche)', 'Sage Square Premium Dog Winter Ultra Warm Camouflage Army Coat Thicker Fleece Dog Hoodie Vest for Cold Weather (Size: Medium) (16\")', 'Kitty & The Woof Gang Blue Velvet Winter Jacket | Warm and Cozy Coat, Jacket, Cloth with White Faux Fur Collar and Soft and Warm Lining for Dogs, Cats and Puppies | Size L', 'Emily Pets Pet Summer Shirts Girl Boy Dog Clothes Cute Bowknot Love is a Four-lagged Word Patch T Shirt for Dogs,Cats,Rabbits(XS,White)', 'Sage Square Premium Dog Winter Ultra Warm Camouflage Army Coat Thicker Fleece Dog Hoodie Vest for Cold Weather (Size: Medium) (18 Inches)', 'CHOOSTIX Summer Dog & Cat, Designer T-Shirt, Black with Pink Crane, 2XL, 200g, Medium, 200 g', 'Sage Square Premium Dog Winter Ultra Warm Camouflage Army Coat Thicker Fleece Dog Hoodie Vest for Cold Weather (Size: Small Medium) (14 Inches)', 'Jainsons Pet Products® Soft Comfortable Pet Sweatshirt Dog Winter Warm Cloth (Print and Color May Vary) (20 inch, Blue)', 'Bowandmeow by zenuss Pet Bee Halloween Costume Bee Hoodie Pet Costume Cat Holiday Cosplay Warm Clothes Puppy Funny Cosplay Dress Clothes for Small and Medium Dog Cat Dog Clothes Pet Hoodies Costume', \"Dogista Winter Coat Super Poly with Heavy Fur 16'', Medium, 260 g\", 'Ruse Set of 2 Summer Dog T-Shirt Jumper & Pooper Printed Pets Round Neck Sleeveless Combo Vest Tank/Tees/Apparel/Clothes for Dogs Salmon/White/X-Small (New Born Puppy)', 'Papa Pawsome 25g Soft Paws Cream for Dogs/Puppies Moisturizes, Nourishes, Dry Chappy Cracked Elbow Snout Paws Enriched with Castor Oil | Beeswax | Tea Tree Oil | Vitamin E, 1 Piece', 'Emily Pets Elegant Lace Princess Tutu Dresses for Girls Dogs Clothes Cupcake Apparel Small Cats Puppy Flower(Pink,S)', 'Kitty & The Woof Gang Neon Orange Dog Summer Clothes Dress T-Shirt Apparel Tees Hoodie | Dog Clothes for Small Dogs | Puppy Clothes Dog Dress Cat Clothes | Comfortable Pet Clothes (12In-S)', 'Lulala Dog Printed Teddy T-Shirt Dog Shirt Breathable Pet Apparel Colorful Puppy Sweatshirt Dog Clothes for Small to Medium Dogs Puppy(XL,White-Sky Blue)', 'Ruse. Pet I Love My Human Foil Edition Round Neck Sleeveless Vest Tank T-Shirt/Tees for Dog Clothes Summer Apparel./Small (Apso, Shih Tzu etc.)', 'Best Dogista Winter Dog Coat Jacket with Heavy Fur Ultra Warm Wind & Water Proof in Quilted Stich Line Cloth Color May Very 12 inch Small', 'Sage Square Premium Dog Winter Ultra Warm Camouflage Army Coat Thicker Fleece Dog Hoodie Vest for Cold Weather (Size: XXXLarge) (30 Inches)', 'Puptail Dog Suit or Dog Tuxedo and Bandana Set, Dogs Wedding Party Suit, Dog Wedding Bow Tie Shirt Formal Dog Weeding Attire for Large and Medium Dogs Golden Retriever, Labrador (XX-Large)', 'FETCHER Printed Party Polo Dog & Cat T-Shirt for Small Breeds (Large)', 'Sage Square Premium Dog Winters Ultra Warm Camouflage Army Coat Thicker Fleece Dog Hoodie Vest for Cold Weather (22Inch (Large - Extra Large))', 'Kitty & The Woof Gang Frills - Orange Vibing Dog Summer Clothes Dress T-Shirt Tees | Dog Clothes for Small Dogs | Puppy Clothes Dog Dress Cat Clothes | Comfortable Pet Clothes (14In-M)', 'Kitty & The Woof Gang Back Embellished Blue Dog Summer Clothes Dress T-Shirt Tees | Dog Clothes for Small Dogs | Puppy Clothes Dog Dress Cat Clothes | Comfortable Pet Clothes (12In-S)', 'Kitty & The Woof Gang Black Spider Net Dress with Shantoon Lining and a Gold Lycra Bow for Dog, Cat and Puppies | Size XXL', 'Ruse Basic Summer Dog T-Shirt BOSSPUP Printed Pets Crew Neck Half Sleeves Shirt/Apparel/Clothes/Tees Gift for Dogs(Yellow) /XXL (Full Grown Saint Bernard, Great Dane etc.)', 'Emily Pets Dog Shirt Printed Puppy Shirts Pet T-Shirt and Dog Vest Soft Puppy Dog Clothes Pet Outfits Cute Pet Sweatshirt for Small Dogs and Cats(S,White)', 'Sage Square Comfort Cotton Dog T-Shirt, Sleeveless Vest for Dog Clothes, Puppy Tank Top Fashion Apparel (Red) (Medium) (16inches)', 'Ruse. Pet Security Foil Edition Round Neck Sleeveless Vest Tank T-Shirt/Tees for Dog Clothes Summer Apparel./Large (Full Grown Desi/Stray, Doberman etc.)', 'Emily Pets Daisy Printed Pet Shirts Dog T-Shirts Summer Puppy Pullovers Cute Dog Sweatshirts Soft Breathable Pet Apparels for Small to Medium Dogs Puppy (Large, Blue)', 'FETCHER Blue & Black Premium Dog T-Shirt (Set of 2)', \"FETCHER Red 'Mumma's Joy' Premium Dog T-Shirt for Small Breeds (M (Medium))……\", 'FETCHER Grey & Wine Premium Dog T-Shirts for Small Breeds (Set of 2) (X-Small)', 'Emily Pet Striped Dog T-Shirt Pet Breathable Soft Cotton Basic Shirt Clothes for Summer, Fit Small MediumLarge Extra Large Boy Girl Dogs, Puppies(XL,Purple)', 'KUTKUT Red Ball Print Dress for Small Dogs - Soft Breathable Dog Spring Clothes, Cooling Dog Shirt for Shih Tzu, Yorkie, Pug, Maltese etc. (Size: XL, Chest: 50 cm, Back Length: 40 cm)', 'Oz International Dog Shirt with Collar | Pet Apparels for Puppy, Small Dogs & Cats|Cotton Interlocked Fabric Shirts', 'Lana Paws Birthday Boy Dog Bandana Scarf (Red), S-M', 'The Pawpstar Co. by Aditya Birla New Age T-Shirts for Dogs (XXL, Orange)', 'Heads Up For Tails Sweatshirt for Dogs - Orange - L', 'Golden Tails Cotton Printed Round Neck Dogs T-Shirt |Pack of 2| |Red & Army Green, S|', 'FETCHER Red & Sea Green Premium Dog T-Shirts for Small Breeds (Set of 2) (M)…', 'FETCHER Grey & Wine Premium Dog T-Shirts for Small Breeds (Set of 2) (X-Large)', 'Kitty & The Woof Gang Orange Silver Lining Dog Summer Clothes Dress T-Shirt Tees | Dog Clothes for Medium Dogs | Puppy Clothes Dog Dress Cat Clothes | Comfortable Pet Clothes (16In-L)', 'Ruse Summer Dog T-Shirt Desi Bro Printed Pets Round Neck Sleeveless Vest Tank/Tees/Apparel/Clothes for Dogs Yellow/Large (Full Grown Desi/Stray, Doberman etc.)', 'Ruse. Pet I Just Want Foil Edition Round Neck Sleeveless Vest Tank T-Shirt/Tees for Dog Clothes Summer Apparel (Navy/Golden; /Large (Full Grown Desi/Stray, Doberman etc.)', 'Kitty & The Woof Gang Hot Sauce - Red Dog Summer Clothes Dress T-Shirt Tees | Dog Clothes for Puppy | Puppy Clothes Dog Dress Cat Clothes | Comfortable Pet Clothes (8In -XXS)', 'Kitty & The Woof Gang Orange Silver Lining Dog Summer Clothes Dress T-Shirt Tees | Dog Clothes for Large Dogs | Puppy Clothes Dog Dress Cat Clothes | Comfortable Pet Clothes (22In-2XL)', 'Ruse. Pet I Just Want Foil Edition Round Neck Sleeveless Vest Tank T-Shirt/Tees for Dog Clothes Summer Apparel./X-Large (Full Grown Retrievers, Labs etc.)', 'Kitty and The Woof Gang Black and White Check Winter Jacket with a Hood - Warm Lining for Dogs and Cats | Size XXL', 'Kitty & The Woof Gang Red Windcheater with a Hood and Neon Reflective Tape with D Chain Hook Winter Jacket - Coat with Black Warm Lining for Dogs and Cats | Size XL', 'Ruse. Pet Bosspup Round Neck Sleeveless Vest Tank T-Shirt/Tees for Dogs Clothes Summer Apparel (Black; XL)/X-Large (Full Grown Retrievers, Labs etc.)', 'Emily Pets Dog T Shirts Pet Summer Vests Dog Clothes with Fashion Printing Summer Vacation Dress with Coconut Tree Patch(M,White)', 'Ruse Pet Good Girl Jersey No.1 Printed Round Neck Sleeveless Dog Vest Tank T-Shirt/Tees Apparel/Clothes/Tees Gift for Dogs(Red) X-Large (Retrievers, Labs etc.)', \"Emily Pets Pet Dog Hawaiian Costume, Includes Puppy Dog's Cool T-Shirts Summer Clothes, Funny Cute Dogs Retro Fashion for Small to Extra Large (XL,White)\", 'The Pawpstar Co. by Aditya Birla New Age T-Shirts for Dogs (XXL, Green)', 'KUTKUT Cotton Striped Dog Shirts for Medium/Large Dogs | Breathable Stretchy Fashion Big Dogs Clothes for Beagle, Corgi, Husky, Labarador, Golden Retriver, Samoyed etc (Size: 2XL)', 'The Pawpstar Co. by Aditya Birla New Age Polo T-Shirts for Dogs (XS, Blue)', 'Kitty & The Woof Gang Hot Sauce - Red Dog Summer Clothes Dress T-Shirt Tees | Dog Clothes for Medium Dogs | Puppy Clothes Dog Dress Cat Clothes | Comfortable Pet Clothes (16In-L)', 'Kitty & The Woof Gang Hot Sauce - Orange Dog Summer Clothes Dress T-Shirt Tees | Dog Clothes for Puppy | Puppy Clothes Dog Dress Cat Clothes | Comfortable Pet Clothes (8In -XXS)', 'Kitty & The Woof Gang Baby Yellow T-Shirt/Tees for Dog Clothes Summer Apparel | Dog Summer T-Shirt | T-Shirt for Dog | Please Check The Size Chart Before Ordering | Size XS', 'Kitty & The Woof Gang Hot Sauce - Orange Dog Summer Clothes Dress T-Shirt Tees | Dog Clothes for Small Dogs | Puppy Clothes Dog Dress Cat Clothes | Comfortable Pet Clothes (14In-M)', 'Kitty & The Woof Gang Frills - Red Vibing Dog Summer Clothes Dress T-Shirt Tees | Dog Clothes for Puppy | Puppy Clothes Dog Dress Cat Clothes | Comfortable Pet Clothes (10In-XS)', 'Kitty & The Woof Gang Baby Blue Floral Dog Summer Clothes Dress T-Shirt Tees | Dog Clothes for Puppy | Puppy Clothes Dog Dress Cat Clothes | Comfortable Pet Clothes (8In -XXS)', 'Sage Square Comfort Cotton Dog T-Shirt, Sleeveless Vest for Dog Clothes, Puppy Tank Top Fashion Apparel (Red) (Small) (14inche)', 'Lulala Ethnic Wear Dog Outfit-Sherwani Indian Dog Outfit,Dog Collars,Dog Tuxedo,pet Outfit,Male Dog Clothes,pet Costume,Embroidery,Cute Indian Dog Outfits, Sherwani,Kurtas(M,Cream)', 'That Dog In Tuxedo Dog Dress Retro Polka Dress Clothes for Dogs/Cats (26)', 'Ruse. Pet I Love My Human Foil Edition Round Neck Sleeveless Vest Tank T-Shirt/Tees for Dog Clothes Summer Apparel./X-Large (Full Grown Retrievers, Labs etc.)', \"Lana Paws Adjustable Comfortable Mom's Favourite Child Bandana/Scarf for Dog (Red)\", 'Petsplanet Dog Winter Clothes Reversible Dog Jacket Red Color Design Warm Dog Coat Windproof Pets Cold Weather Wearing (XXS, 10 Inch)', 'Ruse. Pet Fur Baby Foil Edition Round Neck Sleeveless Vest Tank T-Shirt/Tees for Dog Clothes Summer Apparel./Large (Full Grown Desi/Stray, Doberman etc.)', 'Pets Empire Pet Cat Dog Fashion Sunglasses UV Sun Glasses Eye Protection Wear-1 Piece Color May Vary', 'Lana Paws Adjustable Tuxedo Dog Bandana/Scarf (Size M-L)', 'Ruse Summer Dog T-Shirt Bosspup Printed Pets Round Neck Sleeveless Vest Tank/Tees/Apparel/Clothes for Dogs Ecru/XX-Small (Chihuahuas, Papillons)', 'Ruse. Pet Rockstar Loin Printed Round Neck Sleeveless Vest Tank T-Shirt/Tees for Dog Clothes Summer Apparel./Large (Full Grown Desi/Stray, Doberman etc.)', 'Emily Pets Cotton Puppy Clothes Summer Dog Shirt Dress - Dogs Clothes Dress Cute Skirt Outfits Floral Print Adorable Dog Sling Skirt Dog Vest Tanks Tops Tees for Small Dogs(Black,XL)', 'Kitty & The Woof Gang Red Check with Hood Dog Summer Apparel/T-Shirt/Tees/Hoodie | Dog Clothes for Medium Dogs | Puppy Clothes Dog Dress Cat Clothes | Comfortable Pet Clothes (18In-XL)', 'Summer Dog T-Shirt, Say Cheese, Royal Blue, 16\", 150g', 'Kitty & The Woof Gang Hot Sauce - Yellow Dog Summer Clothes Dress T-Shirt Tees | Dog Clothes for Puppy | Puppy Clothes Dog Dress Cat Clothes | Comfortable Pet Clothes (10In-XS)', 'Kitty & The Woof Gang Hot Sauce - Red Dog Summer Clothes Dress T-Shirt Tees | Dog Clothes for Puppy | Puppy Clothes Dog Dress Cat Clothes | Comfortable Pet Clothes (10In-XS)', 'Lana Paws Gentleman Tuxedo Adjustable Dog Bandana Scarf - Blue (M-L)', 'Kitty & The Woof Gang Brown Carpet Fur with Light Brown Faux Fur Collar and Bottom Strip Premium Winter Jacket - Coat with Black Velvet Warm Lining for Dogs and Cats | Size S', 'FETCHER Royal Blue \\'Main Paida Hi Cute Hua Tha\\' Printed Premium Warm Fleece Hoodie for Dogs and Cats | Winter wear (14\" Small)', 'Kitty & The Woof Gang Black Velvet Winter Jacket | Warm and Cozy Coat, Jacket, cloth with White Faux Fur Collar and soft and warm Lining for Dogs, Cats and Puppies | Please check the Size Chart before ordering | Size M', 'Kitty & The Woof Gang Baby Blue Floral Dog Summer Clothes Dress T-Shirt Tees | Dog Clothes for Puppy | Puppy Clothes Dog Dress Cat Clothes | Comfortable Pet Clothes (10In-XS)', 'Sage Square Comfort Cotton Dog T-Shirt, Sleeveless Vest for Dog Clothes, Puppy Tank Top Fashion Apparel (Black) (XSmall - 12inch, Black)', 'Sage Square Premium Reversible Double Sided Dog Coat | Ultra Warm Windproof Winter Vest | Thicker Fleece Jacket for Cold Weather. (Medium- 20 Inches, Navy Blue & Grey)', 'FETCHER Purple Cute Printed Premium Warm Fleece Sweatshirt for Dogs and Cats | Winter wear (16\" Medium)', 'KUTKUT Pack of 2 Rainbow Dog Shirt for Small Dogs | 100% Cotton Cute Summer Girl Boy T-Shirt | Clothes Outfit for ShishTzu, Yorkie, Pug Apparel (Size: XL, Chest 50 cm, Neck 36cm, Back Length 40cm, Pet Weight 6kg - 8.5kg)', 'Kitty & The Woof Gang Pink Velvet Winter Dog Jacket with Silver Faux Leather | Winter Dog Sweater Dog Clothes for Dogs Puppy Clothes Cat Dress Cat Clothes Dog Dress Coat Pet Clothes | 30-4XL', 'Lulala Pet Dress Bobby Print Shirt with Contrast Stitching Cute Dog Sundress Dog Dress Puppy Summer Apparel Clothes Dog Skirt Shirt with Polka Dot Denim Dress for Dogs Cats Puppy(M,Navy Blue)', 'Lana Paws Adjustable Tuxedo Dog Bandana/Scarf (Size M-L)', 'PetVogue Classic Cosy Dog Sweater', 'Oz International Windproof British Style Cold Weather Winter Dog Coat Dog Jacket Fleece Lined for Cats Rabbit Small Dogs Beagle Spitz Shihtzu Apso Pomeranian Chihuahua Poodle Dachshund, Pug.', 'FETCHER Printed Party Polo Dog & Cat T-Shirt for Small Breeds (X-Large)', \"FETCHER Red 'Mumma's Joy' Premium Dog T-Shirt for Small Breeds (14 (Small))\", 'FETCHER Blue & Black Premium Dog T-Shirts (Set of 2)', \"FETCHER Wine 'I'll Be There for You' Premium Dog T-Shirt for Small Breeds (XXS)\", 'Kitty & The Woof Gang Embellished Navy Blue Dog Summer Clothes Dress T-Shirt Tees | Dog Clothes for Puppy | Puppy Clothes Dog Dress Cat Clothes | Comfortable Pet Clothes (8In -XXS)', 'Kitty & The Woof Gang Active Sports Yellow Dog Summer Clothes Dress T-Shirt Tees | Dog Clothes for Small Dogs | Puppy Clothes Dog Dress Cat Clothes | Comfortable Pet Clothes (12In-S)', 'Kitty & The Woof Gang Red Windcheater Neon Reflective Tape Winter Safety Dog Jacket | Winter Dog Sweater Dog Clothes for Dogs Dog Dress Puppy Clothes Cat Dress Cat Clothes Pet Clothes | 30-4XL', 'Foodie Puppies Hoodie Red-Black Winter Ultra Warm Cotton Padded Reversible Jackets for Puppies, Cats & Kittens (Size-12 inch)', 'TBOP Dog Clothes Fall/Winter Sweater Denim Pocket Two Legged Dog Cat Clothes Supplies(Orange_XXL)(Color May Vary)', 'Kitty & The Woof Gang Bloomingdale Dog Summer Clothes Dress T-Shirt Tees | Dog Clothes for Small Dogs | Puppy Clothes Dog Dress Cat Clothes | Comfortable Pet Clothes (14In-M)', 'Kitty & The Woof Gang Summertime Neon Floral - Lemon Green Dog Summer Clothes Dress T-Shirt Tees | Dog Clothes for Small Dogs | Puppy Clothes Dog Dress Cat Clothes | Comfortable Pet Clothes (14In-M)', 'Kitty & The Woof Gang Black Velvet Winter Dog Jacket for Pets | Winter Dog Sweater Dog Clothes for Dogs Puppy Clothes Cat Dress Cat Clothes Dog Dress Coat Comfortable Pet Clothes | 18- XL', \"FETCHER Red 'Mumma's Joy' Premium Dog T-Shirt for Small Breeds (14 (Small))\", 'PetVogue UltraWarm Cosy Dog Sweater for Puppies', 'Oz International Dog Clothes Dog Tee Shirts Camouflage Or Stripe Hood Or Lapel Collar T Shirts Pet Apparels for Puppy Small Medium Large Dogs Cotton Interlocked Fabric Tee Shirts (32\", Black Wag Tail)', 'Lulala Dog Summer Layer Frill Sweetie Dress with drizzled Multi Color dots Pet Summer Clothes Spaghetti Pet Summer Cool Sleeveless Dress for Dog Cat Dog Summer Frock Pullover(M,Pink)', 'FETCHER Neon Peach \\'I Am Not Lazy\\' Premium Dog, Puppy, Kitten and Cat T-Shirt for Small Breeds (12\" X-Small)', 'Kitty & The Woof Gang White Black Winter Jacket, Pet Winter Clothes for Dog and Cat | Size XS', 'Emily Pets Dog Shirt Striped Cotton Shirt,Pet Breathable Soft Basic Clothes for Small Medium Larg Boy Girl Dogs Bowknot Love is k Four-lagged Word Patch T Shirt for Dogs,Cats,Rabbits(M,White)', 'Kitty & The Woof Gang Blue Denim Shirt with Silver Lycra top | Ribbed All Around with Patch | Party Dress for Small Medium Large Dog, cat & Puppies Female Male | Size XXL', 'The Pawpstar Co. by Aditya Birla New Age T-Shirts for Dogs (XXL, Orange)', 'Lana Paws Adjustable Tuxedo Dog Bandana/Scarf (Size M-L)', 'Lana Paws Crimson Red Silk Dog Bow Tie/Bowtie, M-L', 'Oz International Dog Shirt with Collar | Pet Apparels for Puppy, Small Dogs & Cats|Cotton Interlocked Fabric Shirts', 'TBOP Dog Clothes Autumn/Winter Double Layer Four Legged Sweater Dog Cat Clothes Supplies(Thick Red Corduroy with Hoods on Legs_XXL)(Color May Vary)', 'Pets Empire Dog Cat Hoodie Sweatshirt Winter Pet Clothes Dogs Coat Jacket Dogs Pets Clothing Suit 1 Piece (Pattern May Vary) (24 Inch, Dark Grey)', 'Ruse. Pet I Love My Human Foil Edition Round Neck Sleeveless Vest Tank T-Shirt/Tees for Dog Clothes Summer Apparel./X-Large (Full Grown Retrievers, Labs etc.)', 'FETCHER Pink & Red Printed Flannel Dog Costume Dog Cold Weather Coats Cat Apparel Doggie Clothes Pet High Collar Fleece Sweater Outfit Dog Thickened Warm Flannel Clothes (14\" Small)', 'Kitty & The Woof Gang Frills - Orange Vibing Dog Summer Clothes Dress T-Shirt Tees | Dog Clothes for Puppy | Puppy Clothes Dog Dress Cat Clothes | Comfortable Pet Clothes (8In -XXS)', 'FETCHER Red Cute Cartoon Printed Premium Warm Fleece Sweatshirt for Dogs and Cats | Winter wear Sweatshirt Sweater (12\" X-Small)', 'Kitty & The Woof Gang Hot Sauce - Yellow Dog Summer Clothes Dress T-Shirt Tees | Dog Clothes for Puppy | Puppy Clothes Dog Dress Cat Clothes | Comfortable Pet Clothes (8In -XXS)', 'Kitty & The Woof Gang Red Check with Bow Dog Summer Apparel/T-Shirt/Tees/Hoodie | Dog Clothes for Puppy | Puppy Clothes Dog Dress Cat Clothes | Comfortable Pet Clothes (8In -XXS)', 'The DDS Store Warm Dog Hoodie, Soft Fleece Puppy Clothes Doggie Shirt Winter Outfits Sweatshirt for Small Pets Dogs Cats Chihuahua Teddy Pup (14 Inch, Black Star Hoodie)', 'Pets Empire Dog Cat Hoodie Sweatshirt Winter Pet Clothes Dogs French Bulldog Pug Coat Jacket Dogs Pets Clothing Suit 1 Piece (Pattern May Vary) (10 Inch, Black)', 'Ruse Pet The Dogfather Printed Round Neck Sleeveless Dog Vest Tank T-Shirt/Tees Apparel/Clothes/Tees Gift for Dogs(Poppy Red)/Medium (Chubby Pugs, Beagle etc.)', 'Ruse Basic Crew Neck Good Boy Jersey No.1 Printed Half Sleeves Dog T-Shirt/Apparel/Clothes/Tees Gift for Dogs.(Red) Medium (Chubby Pugs, Beagle etc.)', 'CHOOSTIX Summer Dog & Cat, Designer T-Shirt, Light Blue with Circles Pattern, 2XL, 200g, Medium, 200 g', 'Sage Square Comfort Cotton Dog T-Shirt, Sleeveless Vest for Dog Clothes, Puppy Tank Top Fashion Apparel (Red) (XXSmall) (10inches)', 'Puptail Dog Dress with Lovely Bow Puppy Dress Pet Apparel Dog Clothes for Small and Large Dogs and Cats (XL)', 'Nootie Summer Dog/Puppies T-Shirt | Premium Printed Pets Round Neck Sleeveless Shirt/Apparel/Clothes/Tees Gift for Dogs Pets (12\", Black)', 'Pets Empire Dog Cat Hoodie Sweatshirt Winter Pet Clothes Dogs French Bulldog Pug Coat Jacket Dogs Pets Clothing Suit 1 Piece (Pattern May Vary) (18 Inch, Dark Grey)', 'Sage Square Comfortable Cotton Dog T-Shirt ll Soft & Breathable Sleeveless Vest Dog Clothes ll Puppy Tank Top Fashion Apparel (Black) (XXSmall - 10inches, Black)', 'Ruse Pet Set of 2 Mini Pooper & Classy Mother Pupper Round Neck Sleeveless Dog Vest Tank T-Shirt Combo/Tees Apparel/Clothes/Tees Gift for Dogs(Yellow/Navy) Medium', 'Kitty & The Woof Gang Hot Fiesta Sauce - Red Dog Summer Clothes Dress T-Shirt Tees | Dog Clothes for Small Dogs | Puppy Clothes Dog Dress Cat Clothes | Comfortable Pet Clothes (12In-S)', 'Goofy Tails X Design Chefz Abstract Flora Bow + Bandana Combo for Dogs & Cats (Multicolor) (Medium)', 'Kitty & The Woof Gang Red Velvet Winter Dog Jacket with Black Lycra top | Winter Dog Sweater Dog Clothes for Dogs Dog Dress Puppy Clothes Cat Dress Cat Clothes Pet Clothes | 8- XXS', 'Ruse. Pet I Just Want Foil Edition Round Neck Sleeveless Vest Tank T-Shirt/Tees for Dog Clothes Summer Apparel (Navy/Golden; /Large (Full Grown Desi/Stray, Doberman etc.)', 'FETCHER Star Royal Blue Color Flannel Dog Costume Dog Cold Weather Coats Cat Apparel Doggie Clothes Pet High Collar Fleece Sweater Outfit Dog Thickened Warm Flannel Clothes (20\" X-Large)', 'For The Fur Kids Dog Bow Tie: Cute Polka Bow Tie for Pets, Dog Accessory (Red), 1 Piece', 'KUTKUT Sun Flowers Decor Eelgant Lace Princess Dress for Small Dogs | Sweetie Summer Skirt Dress for ShishTzu, King Charls, Pug etc (Size: XL, Adjustable Bust: 48-52cm, Back Length: 40cm)', 'Ruse Basic Crew Neck The Birthday Dude Printed Half Sleeves/Apparel/Clothes/T-Shirt Gift for Dogs.Colour-Black//Large (Full Grown Desi/Stray, Doberman etc.)', 'Sage Square Dog Winter Ultra Comfortable Warm Coat, Thicker Fleece Dog Hoodie Vest for Cold Weather (Large - 24 Inch, Design 1)', 'Ruse.Pet Troublemaker Round Neck Sleeveless Vest Tank T-Shirt/Tees for Dog Clothes Summer Apparel./X-Large (Full Grown Retrievers, Labs etc.)', 'Pet Clothes for Dogs – Cute Dog Clothes for Small, Medium and Large Dogs – Premium Skin-Friendly Fabric – Comfortable and Modern Pet Hoodie – Perfect for Photo Shoot, Everyday Wear (4XL, Black)', 'Ruse Pet Scar Glasses Printed Round Neck Sleeveless Dog Vest Tank T-Shirt/Tees Apparel/Clothes/Tees Gift for Dogs(Poppy Red)/Medium (Chubby Pugs, Beagle etc.)', 'Ruse. Pet I Love My Human Foil Edition Round Neck Sleeveless Vest Tank T-Shirt/Tees for Dog Clothes Summer Apparel./Small (Apso, Shih Tzu etc.)', 'PetVogue Classic Cosy Dog Sweater', 'FETCHER Grey & Red Premium Dog T-Shirts for Small Breeds (Set of 2) (Medium)…', 'FETCHER Grey & Wine Premium Dog T-Shirts for Small Breeds (Set of 2) (Medium)', 'Oz International Windproof British Style Cold Weather Winter Dog Coat Dog Jacket Fleece Lined for Cats Rabbit Small Dogs Beagle Spitz Shihtzu Apso Pomeranian Chihuahua Poodle Dachshund, Pug.']\n"
     ]
    }
   ],
   "source": [
    "names=productnames1+productnames2+productnames3\n",
    "print(names)"
   ]
  },
  {
   "cell_type": "code",
   "execution_count": 198,
   "id": "6c6b889f",
   "metadata": {},
   "outputs": [
    {
     "data": {
      "text/plain": [
       "180"
      ]
     },
     "execution_count": 198,
     "metadata": {},
     "output_type": "execute_result"
    }
   ],
   "source": [
    "len(names)"
   ]
  },
  {
   "cell_type": "code",
   "execution_count": 199,
   "id": "e37c14a4",
   "metadata": {},
   "outputs": [
    {
     "name": "stdout",
     "output_type": "stream",
     "text": [
      "['Sunday, April 3', 'Tuesday, April 5', 'Tuesday, April 5', 'Tuesday, April 5', 'Friday, April 1', 'Friday, April 1', 'Friday, April 1', 'Friday, April 1', 'Friday, April 1', 'Friday, April 1', 'Friday, April 1', 'Friday, April 1', 'Friday, April 1', 'Tomorrow, March 31', 'Tomorrow, March 31', 'Tomorrow, March 31', 'Saturday, April 2', 'Tomorrow, March 31', 'Friday, April 1', 'Tomorrow, March 31', 'Thursday, April 7', 'Friday, April 1', 'Sunday, April 3', 'Sunday, April 3', 'Friday, April 1', 'Friday, April 1', 'Tomorrow, March 31', 'Tomorrow, March 31', 'Friday, April 1', 'Friday, April 1', 'Tomorrow, March 31', 'Tomorrow, March 31', 'Friday, April 1', 'Tomorrow, March 31', 'Friday, April 1', '-', 'Friday, April 1', 'Tomorrow, March 31', 'Friday, April 1', 'Monday, April 4', 'Friday, April 1', '-', 'Tomorrow, March 31', 'Friday, April 1', 'Tomorrow, March 31', 'Friday, April 1', 'Thursday, April 7', 'Tomorrow, March 31', 'Friday, April 1', 'Tomorrow, March 31', 'Tomorrow, March 31', 'Tomorrow, March 31', 'Friday, April 1', 'Tomorrow, March 31', 'Friday, April 1', 'Friday, April 1', 'Friday, April 1', 'Tomorrow, March 31', 'Tomorrow, March 31', 'Tomorrow, March 31', 'Tomorrow, March 31', 'Friday, April 1', 'Sunday, April 3', 'Tomorrow, March 31', 'Sunday, April 3', 'Sunday, April 3', 'Tomorrow, March 31', 'Tomorrow, March 31', 'Tomorrow, March 31', 'Tomorrow, March 31', 'Friday, April 1', 'Friday, April 1', 'Tomorrow, March 31', 'Tomorrow, March 31', 'Friday, April 1', 'Tomorrow, March 31', 'Tomorrow, March 31', 'Friday, April 1', 'Friday, April 1', 'Friday, April 1', 'Friday, April 1', 'Sunday, April 3', 'Friday, April 1', 'Sunday, April 3', 'Tomorrow, March 31', 'Tomorrow, March 31', 'Tomorrow, March 31', 'Tomorrow, March 31', 'Tomorrow, March 31', 'Tomorrow, March 31', 'Friday, April 1', 'Friday, April 1', 'Sunday, April 3', 'Friday, April 1', 'Tomorrow, March 31', 'Friday, April 1', 'Friday, April 1', 'Friday, April 1', 'Tomorrow, March 31', 'Friday, April 1', 'Friday, April 1', '-', 'Tomorrow, March 31', 'Tomorrow, March 31', 'Tomorrow, March 31', 'Tomorrow, March 31', 'Tomorrow, March 31', 'Tomorrow, March 31', 'Tomorrow, March 31', 'Tomorrow, March 31', 'Tomorrow, March 31', 'Friday, April 1', 'Friday, April 1', 'Tomorrow, March 31', 'Tomorrow, March 31', 'Tomorrow, March 31', 'Sunday, April 3', 'Tomorrow, March 31', 'Friday, April 1', 'Tomorrow, March 31', 'Tomorrow, March 31', 'Tomorrow, March 31', 'Tomorrow, March 31', 'Tomorrow, March 31', 'Tomorrow, March 31', 'Tomorrow, March 31', 'Tomorrow, March 31', 'Friday, April 1', 'Saturday, April 2', 'Tomorrow, March 31', 'Tomorrow, March 31', 'Tomorrow, March 31', 'Tomorrow, March 31', 'Friday, April 1', 'Tomorrow, March 31', 'Tomorrow, March 31', 'Tomorrow, March 31', 'Tomorrow, March 31', 'Friday, April 1', 'Tomorrow, March 31', 'Sunday, April 3', 'Tomorrow, March 31', 'Tomorrow, March 31', 'Sunday, April 3', 'Saturday, April 2', 'Friday, April 1', 'Friday, April 1', 'Tomorrow, March 31', 'Tomorrow, March 31', 'Tomorrow, March 31', 'Tomorrow, March 31', 'Tomorrow, March 31', 'Friday, April 1', 'Friday, April 1', 'Friday, April 1', 'Friday, April 1', 'Tomorrow, March 31', 'Friday, April 1', 'Thursday, April 7', 'Friday, April 1', 'Friday, April 1', 'Friday, April 1', 'Friday, April 1', 'Saturday, April 2', 'Friday, April 1', 'Tomorrow, March 31', 'Friday, April 1', 'Tomorrow, March 31', 'Tomorrow, March 31', 'Friday, April 1', 'Friday, April 1', 'Friday, April 1', 'Friday, April 1', 'Monday, April 4', 'Friday, April 1', 'Friday, April 1', 'Friday, April 1', 'Tomorrow, March 31', 'Tomorrow, March 31', 'Tomorrow, March 31']\n"
     ]
    }
   ],
   "source": [
    "expecteddel=expdels1+expdels2+expdels3\n",
    "print(expecteddel)"
   ]
  },
  {
   "cell_type": "code",
   "execution_count": 200,
   "id": "59abc957",
   "metadata": {},
   "outputs": [
    {
     "data": {
      "text/plain": [
       "180"
      ]
     },
     "execution_count": 200,
     "metadata": {},
     "output_type": "execute_result"
    }
   ],
   "source": [
    "len(expecteddel)"
   ]
  },
  {
   "cell_type": "code",
   "execution_count": 201,
   "id": "0f3ebfe1",
   "metadata": {},
   "outputs": [
    {
     "name": "stdout",
     "output_type": "stream",
     "text": [
      "['https://www.amazon.in/gp/slredirect/picassoRedirect.html/ref=pa_sp_atf_aps_sr_pg1_1?ie=UTF8&adId=A09525362XL739O0NZFZH&url=%2FInternational-Collar-Apparels-Cotton-Interlocked%2Fdp%2FB09SVH2RRR%2Fref%3Dsr_1_1_sspa%3Fcrid%3D1KBV80T90MV9Z%26keywords%3Ddogs%2Bclothes%26qid%3D1648639939%26sprefix%3Ddogs%2Bclothes%252Caps%252C593%26sr%3D8-1-spons%26psc%3D1&qualifier=1648639939&id=2249856475729882&widgetName=sp_atf', 'https://www.amazon.in/gp/slredirect/picassoRedirect.html/ref=pa_sp_atf_aps_sr_pg1_1?ie=UTF8&adId=A0467655194XPM69NQ6CU&url=%2FMyartbucket-T-Shirt-Printed-Sleeveless-Extra-Small%2Fdp%2FB09WF21422%2Fref%3Dsr_1_2_sspa%3Fcrid%3D1KBV80T90MV9Z%26keywords%3Ddogs%2Bclothes%26qid%3D1648639939%26sprefix%3Ddogs%2Bclothes%252Caps%252C593%26sr%3D8-2-spons%26psc%3D1&qualifier=1648639939&id=2249856475729882&widgetName=sp_atf', 'https://www.amazon.in/gp/slredirect/picassoRedirect.html/ref=pa_sp_atf_aps_sr_pg1_1?ie=UTF8&adId=A04678112R7SZF7UQ28LG&url=%2FMyartbucket-T-Shirt-Printed-Sleeveless-Extra-Small%2Fdp%2FB09WDZ91ZM%2Fref%3Dsr_1_3_sspa%3Fcrid%3D1KBV80T90MV9Z%26keywords%3Ddogs%2Bclothes%26qid%3D1648639939%26sprefix%3Ddogs%2Bclothes%252Caps%252C593%26sr%3D8-3-spons%26psc%3D1&qualifier=1648639939&id=2249856475729882&widgetName=sp_atf', 'https://www.amazon.in/gp/slredirect/picassoRedirect.html/ref=pa_sp_atf_aps_sr_pg1_1?ie=UTF8&adId=A03505732VCIXCQX3RGM8&url=%2FMyartbucket-Clothes-Summer-Adorable-Silver-Blue%2Fdp%2FB09WN3HW56%2Fref%3Dsr_1_4_sspa%3Fcrid%3D1KBV80T90MV9Z%26keywords%3Ddogs%2Bclothes%26qid%3D1648639939%26sprefix%3Ddogs%2Bclothes%252Caps%252C593%26sr%3D8-4-spons%26psc%3D1&qualifier=1648639939&id=2249856475729882&widgetName=sp_atf', 'https://www.amazon.in/Ruse-Printed-Sleeveless-T-Shirt-Apparel/dp/B09DSYDPRK/ref=sr_1_5?crid=1KBV80T90MV9Z&keywords=dogs+clothes&qid=1648639939&sprefix=dogs+clothes%2Caps%2C593&sr=8-5', 'https://www.amazon.in/Ruse-T-Shirt-Troublemaker-Printed-Sleeveless/dp/B08WH4DCD5/ref=sr_1_6?crid=1KBV80T90MV9Z&keywords=dogs+clothes&qid=1648639939&sprefix=dogs+clothes%2Caps%2C593&sr=8-6', 'https://www.amazon.in/Hawaiian-Costume-T-Shirts-Clothes-Fashion/dp/B09H36GKBR/ref=sr_1_7?crid=1KBV80T90MV9Z&keywords=dogs+clothes&qid=1648639939&sprefix=dogs+clothes%2Caps%2C593&sr=8-7', 'https://www.amazon.in/FETCHER-Blue-Black-Premium-T-Shirts/dp/B08LKZZKS2/ref=sr_1_8?crid=1KBV80T90MV9Z&keywords=dogs+clothes&qid=1648639939&sprefix=dogs+clothes%2Caps%2C593&sr=8-8', 'https://www.amazon.in/Ruse-Printed-Sleeveless-T-Shirt-Apparel/dp/B09DSWKBHT/ref=sr_1_9?crid=1KBV80T90MV9Z&keywords=dogs+clothes&qid=1648639939&sprefix=dogs+clothes%2Caps%2C593&sr=8-9', 'https://www.amazon.in/Sage-Square-Camouflage-Thicker-Weather/dp/B07QH1TXYY/ref=sr_1_10?crid=1KBV80T90MV9Z&keywords=dogs+clothes&qid=1648639939&sprefix=dogs+clothes%2Caps%2C593&sr=8-10', 'https://www.amazon.in/T-Shirts-Pullovers-Sweatshirts-Breathable-Apparels/dp/B09CTM3918/ref=sr_1_11?crid=1KBV80T90MV9Z&keywords=dogs+clothes&qid=1648639939&sprefix=dogs+clothes%2Caps%2C593&sr=8-11', 'https://www.amazon.in/Sage-Square-Camouflage-Thicker-Weather/dp/B07WRL92FH/ref=sr_1_12?crid=1KBV80T90MV9Z&keywords=dogs+clothes&qid=1648639939&sprefix=dogs+clothes%2Caps%2C593&sr=8-12', 'https://www.amazon.in/Princess-Dresses-Embroidery-Wedding-Sleeveless/dp/B09CTJZVML/ref=sr_1_13?crid=1KBV80T90MV9Z&keywords=dogs+clothes&qid=1648639939&sprefix=dogs+clothes%2Caps%2C593&sr=8-13', 'https://www.amazon.in/Fetcher-Shirt-Sleeveless-Muscle-Sando/dp/B09GS673Q1/ref=sr_1_14?crid=1KBV80T90MV9Z&keywords=dogs+clothes&qid=1648639939&sprefix=dogs+clothes%2Caps%2C593&sr=8-14', 'https://www.amazon.in/FETCHER-Dark-Blue-Hoodie-Small-Large/dp/B08R921LVT/ref=sr_1_15?crid=1KBV80T90MV9Z&keywords=dogs+clothes&qid=1648639939&sprefix=dogs+clothes%2Caps%2C593&sr=8-15', 'https://www.amazon.in/Lulala-Contrast-Stitching-Sundress-Apparel/dp/B09PDM13XF/ref=sr_1_16?crid=1KBV80T90MV9Z&keywords=dogs+clothes&qid=1648639939&sprefix=dogs+clothes%2Caps%2C593&sr=8-16', 'https://www.amazon.in/TBOP-Clothes-Clothing-Supplies-Sportswear/dp/B082Q115QX/ref=sr_1_17?crid=1KBV80T90MV9Z&keywords=dogs+clothes&qid=1648639939&sprefix=dogs+clothes%2Caps%2C593&sr=8-17', 'https://www.amazon.in/Kitty-Woof-Gang-Handmade-T-Shirt/dp/B07XCWNJJ7/ref=sr_1_18?crid=1KBV80T90MV9Z&keywords=dogs+clothes&qid=1648639939&sprefix=dogs+clothes%2Caps%2C593&sr=8-18', 'https://www.amazon.in/Jainsons-Products-Comfortable-Sweatshirt-Clothes/dp/B09NJW5MXD/ref=sr_1_19?crid=1KBV80T90MV9Z&keywords=dogs+clothes&qid=1648639939&sprefix=dogs+clothes%2Caps%2C593&sr=8-19', 'https://www.amazon.in/Kitty-Woof-Gang-Hot-Sauce/dp/B08XXTR4CS/ref=sr_1_20?crid=1KBV80T90MV9Z&keywords=dogs+clothes&qid=1648639939&sprefix=dogs+clothes%2Caps%2C593&sr=8-20', 'https://www.amazon.in/gp/slredirect/picassoRedirect.html/ref=pa_sp_mtf_aps_sr_pg1_1?ie=UTF8&adId=A011651136GQ02B2UFXS3&url=%2FPuptail-Bandana-Wedding-Retriever-Labrador%2Fdp%2FB09H3HRLGX%2Fref%3Dsr_1_21_sspa%3Fcrid%3D1KBV80T90MV9Z%26keywords%3Ddogs%2Bclothes%26qid%3D1648639939%26sprefix%3Ddogs%2Bclothes%252Caps%252C593%26sr%3D8-21-spons%26psc%3D1&qualifier=1648639939&id=2249856475729882&widgetName=sp_mtf', 'https://www.amazon.in/gp/slredirect/picassoRedirect.html/ref=pa_sp_mtf_aps_sr_pg1_1?ie=UTF8&adId=A060095739ESLCW8M35M4&url=%2FRuse-Bosspup-Sleeveless-T-Shirt-Apparel%2Fdp%2FB07QFGSNWM%2Fref%3Dsr_1_22_sspa%3Fcrid%3D1KBV80T90MV9Z%26keywords%3Ddogs%2Bclothes%26qid%3D1648639939%26sprefix%3Ddogs%2Bclothes%252Caps%252C593%26sr%3D8-22-spons%26psc%3D1%26smid%3DA1UJ3WHUCSL0VY&qualifier=1648639939&id=2249856475729882&widgetName=sp_mtf', 'https://www.amazon.in/gp/slredirect/picassoRedirect.html/ref=pa_sp_mtf_aps_sr_pg1_1?ie=UTF8&adId=A09849992IA0WZ3ZPVLOM&url=%2FPawpstar-Aditya-Birla-T-Shirts-Green%2Fdp%2FB09C25SDTY%2Fref%3Dsr_1_23_sspa%3Fcrid%3D1KBV80T90MV9Z%26keywords%3Ddogs%2Bclothes%26qid%3D1648639939%26sprefix%3Ddogs%2Bclothes%252Caps%252C593%26sr%3D8-23-spons%26psc%3D1&qualifier=1648639939&id=2249856475729882&widgetName=sp_mtf', 'https://www.amazon.in/gp/slredirect/picassoRedirect.html/ref=pa_sp_mtf_aps_sr_pg1_1?ie=UTF8&adId=A08797777L9VD2SUV0R0&url=%2FLulala-Clothes-Breathable-Apparel-T-Shirt%2Fdp%2FB09N3WWW49%2Fref%3Dsr_1_24_sspa%3Fcrid%3D1KBV80T90MV9Z%26keywords%3Ddogs%2Bclothes%26qid%3D1648639939%26sprefix%3Ddogs%2Bclothes%252Caps%252C593%26sr%3D8-24-spons%26psc%3D1&qualifier=1648639939&id=2249856475729882&widgetName=sp_mtf', 'https://www.amazon.in/Lulala-Clothes-Breathable-Apparel-T-Shirt/dp/B09N3X1X76/ref=sr_1_25?crid=1KBV80T90MV9Z&keywords=dogs+clothes&qid=1648639939&sprefix=dogs+clothes%2Caps%2C593&sr=8-25', 'https://www.amazon.in/Ruse-T-Shirt-Printed-Sleeveless-Apparel/dp/B08S424LY8/ref=sr_1_26?crid=1KBV80T90MV9Z&keywords=dogs+clothes&qid=1648639939&sprefix=dogs+clothes%2Caps%2C593&sr=8-26', 'https://www.amazon.in/DOGISTA-PRODUCTS-Coat-Army-Large/dp/B081FH344D/ref=sr_1_27?crid=1KBV80T90MV9Z&keywords=dogs+clothes&qid=1648639939&sprefix=dogs+clothes%2Caps%2C593&sr=8-27', 'https://www.amazon.in/Kitty-Woof-Gang-Clothes-Comfortable/dp/B08XQBDW2T/ref=sr_1_28?crid=1KBV80T90MV9Z&keywords=dogs+clothes&qid=1648639939&sprefix=dogs+clothes%2Caps%2C593&sr=8-28', 'https://www.amazon.in/Sage-Square-Comfort-T-Shirt-Sleeveless/dp/B09SDG23DK/ref=sr_1_29?crid=1KBV80T90MV9Z&keywords=dogs+clothes&qid=1648639939&sprefix=dogs+clothes%2Caps%2C593&sr=8-29', 'https://www.amazon.in/Sage-Square-Camouflage-Thicker-Weather/dp/B07QFXFGX5/ref=sr_1_30?crid=1KBV80T90MV9Z&keywords=dogs+clothes&qid=1648639939&sprefix=dogs+clothes%2Caps%2C593&sr=8-30', 'https://www.amazon.in/Kitty-Woof-Gang-Velvet-Puppies/dp/B08HQZHN7B/ref=sr_1_31?crid=1KBV80T90MV9Z&keywords=dogs+clothes&qid=1648639939&sprefix=dogs+clothes%2Caps%2C593&sr=8-31', 'https://www.amazon.in/Summer-Clothes-Bowknot-Four-lagged-Rabbits/dp/B09H36VBW1/ref=sr_1_32?crid=1KBV80T90MV9Z&keywords=dogs+clothes&qid=1648639939&sprefix=dogs+clothes%2Caps%2C593&sr=8-32', 'https://www.amazon.in/Sage-Square-Camouflage-Thicker-Weather/dp/B07QFX4TJ4/ref=sr_1_33?crid=1KBV80T90MV9Z&keywords=dogs+clothes&qid=1648639939&sprefix=dogs+clothes%2Caps%2C593&sr=8-33', 'https://www.amazon.in/CHOOSTIX-Summer-Designer-T-Shirt-Medium/dp/B085W5T32M/ref=sr_1_34?crid=1KBV80T90MV9Z&keywords=dogs+clothes&qid=1648639939&sprefix=dogs+clothes%2Caps%2C593&sr=8-34', 'https://www.amazon.in/Sage-Square-Camouflage-Thicker-Weather/dp/B081RNMJYK/ref=sr_1_35?crid=1KBV80T90MV9Z&keywords=dogs+clothes&qid=1648639939&sprefix=dogs+clothes%2Caps%2C593&sr=8-35', 'https://www.amazon.in/Jainsons-Products-Comfortable-Sweatshirt-Winter/dp/B08P1VNMD2/ref=sr_1_36?crid=1KBV80T90MV9Z&keywords=dogs+clothes&qid=1648639939&sprefix=dogs+clothes%2Caps%2C593&sr=8-36', 'https://www.amazon.in/Bowandmeow-Halloween-Costume-Holiday-Cosplay/dp/B09RPJDDWQ/ref=sr_1_37?crid=1KBV80T90MV9Z&keywords=dogs+clothes&qid=1648639939&sprefix=dogs+clothes%2Caps%2C593&sr=8-37', 'https://www.amazon.in/Dogista-Winter-Super-Heavy-Medium/dp/B08HP42PGY/ref=sr_1_38?crid=1KBV80T90MV9Z&keywords=dogs+clothes&qid=1648639939&sprefix=dogs+clothes%2Caps%2C593&sr=8-38', 'https://www.amazon.in/Ruse-T-Shirt-Printed-Sleeveless-Apparel/dp/B08ZDR91YQ/ref=sr_1_39?crid=1KBV80T90MV9Z&keywords=dogs+clothes&qid=1648639939&sprefix=dogs+clothes%2Caps%2C593&sr=8-39', 'https://www.amazon.in/Papa-Pawsome-Soft-Natural-Cream/dp/B07BGH33K9/ref=sr_1_40?crid=1KBV80T90MV9Z&keywords=dogs+clothes&qid=1648639939&sprefix=dogs+clothes%2Caps%2C593&sr=8-40', 'https://www.amazon.in/Elegant-Princess-Dresses-Clothes-Cupcake/dp/B099JZDC79/ref=sr_1_41?crid=1KBV80T90MV9Z&keywords=dogs+clothes&qid=1648639939&sprefix=dogs+clothes%2Caps%2C593&sr=8-41', 'https://www.amazon.in/Kitty-Woof-Gang-Clothes-Comfortable/dp/B08XQBCTJK/ref=sr_1_42?crid=1KBV80T90MV9Z&keywords=dogs+clothes&qid=1648639939&sprefix=dogs+clothes%2Caps%2C593&sr=8-42', 'https://www.amazon.in/Lulala-Breathable-Colorful-Sweatshirt-White-Sky/dp/B09N3XMY2J/ref=sr_1_43?crid=1KBV80T90MV9Z&keywords=dogs+clothes&qid=1648639939&sprefix=dogs+clothes%2Caps%2C593&sr=8-43', 'https://www.amazon.in/Ruse-Sleeveless-T-Shirt-Clothes-Apparel/dp/B07Q1JB39P/ref=sr_1_44?crid=1KBV80T90MV9Z&keywords=dogs+clothes&qid=1648639939&sprefix=dogs+clothes%2Caps%2C593&sr=8-44', 'https://www.amazon.in/Dogista-Winter-Quilted-Stitch-Heavy/dp/B08P7SWS5B/ref=sr_1_45?crid=1KBV80T90MV9Z&keywords=dogs+clothes&qid=1648639939&sprefix=dogs+clothes%2Caps%2C593&sr=8-45', 'https://www.amazon.in/Sage-Square-Camouflage-Thicker-Weather/dp/B07QJZPP22/ref=sr_1_46?crid=1KBV80T90MV9Z&keywords=dogs+clothes&qid=1648639939&sprefix=dogs+clothes%2Caps%2C593&sr=8-46', 'https://www.amazon.in/Puptail-Bandana-Retriever-Labrador-XX-Large/dp/B09H3K7345/ref=sr_1_47?crid=1KBV80T90MV9Z&keywords=dogs+clothes&qid=1648639939&sprefix=dogs+clothes%2Caps%2C593&sr=8-47', 'https://www.amazon.in/FETCHER-Printed-Party-T-Shirt-Breeds/dp/B097F8LLZC/ref=sr_1_48?crid=1KBV80T90MV9Z&keywords=dogs+clothes&qid=1648639939&sprefix=dogs+clothes%2Caps%2C593&sr=8-48', 'https://www.amazon.in/Sage-Square-Winters-Camouflage-Thicker/dp/B07WRKKR9P/ref=sr_1_49?crid=1KBV80T90MV9Z&keywords=dogs+clothes&qid=1648639939&sprefix=dogs+clothes%2Caps%2C593&sr=8-49', 'https://www.amazon.in/Kitty-Woof-Gang-Frills-Comfortable/dp/B08Y8L9KD4/ref=sr_1_50?crid=1KBV80T90MV9Z&keywords=dogs+clothes&qid=1648639939&sprefix=dogs+clothes%2Caps%2C593&sr=8-50', 'https://www.amazon.in/Kitty-Woof-Gang-Embellished-Comfortable/dp/B08XZHW7MC/ref=sr_1_51?crid=1KBV80T90MV9Z&keywords=dogs+clothes&qid=1648639939&sprefix=dogs+clothes%2Caps%2C593&sr=8-51', 'https://www.amazon.in/Kitty-Woof-Gang-Shantoon-Puppies/dp/B084WPHZM6/ref=sr_1_52?crid=1KBV80T90MV9Z&keywords=dogs+clothes&qid=1648639939&sprefix=dogs+clothes%2Caps%2C593&sr=8-52', 'https://www.amazon.in/Ruse-T-Shirt-BOSSPUP-Printed-Sleeves/dp/B0917L491X/ref=sr_1_53?crid=1KBV80T90MV9Z&keywords=dogs+clothes&qid=1648639939&sprefix=dogs+clothes%2Caps%2C593&sr=8-53', 'https://www.amazon.in/Printed-T-Shirt-Clothes-Outfits-Sweatshirt/dp/B09H377C8T/ref=sr_1_54?crid=1KBV80T90MV9Z&keywords=dogs+clothes&qid=1648639939&sprefix=dogs+clothes%2Caps%2C593&sr=8-54', 'https://www.amazon.in/Sage-Square-Comfort-Sleeveless-16inches/dp/B09BD4Q8GZ/ref=sr_1_55?crid=1KBV80T90MV9Z&keywords=dogs+clothes&qid=1648639939&sprefix=dogs+clothes%2Caps%2C593&sr=8-55', 'https://www.amazon.in/Ruse-Security-Sleeveless-T-Shirt-Apparel/dp/B07Q28YLW8/ref=sr_1_56?crid=1KBV80T90MV9Z&keywords=dogs+clothes&qid=1648639939&sprefix=dogs+clothes%2Caps%2C593&sr=8-56', 'https://www.amazon.in/gp/slredirect/picassoRedirect.html/ref=pa_sp_btf_aps_sr_pg1_1?ie=UTF8&adId=A00353182JF25GUZGR5ZC&url=%2FT-Shirts-Pullovers-Sweatshirts-Breathable-Apparels%2Fdp%2FB09CTJFPSN%2Fref%3Dsr_1_57_sspa%3Fcrid%3D1KBV80T90MV9Z%26keywords%3Ddogs%2Bclothes%26qid%3D1648639939%26sprefix%3Ddogs%2Bclothes%252Caps%252C593%26sr%3D8-57-spons%26psc%3D1&qualifier=1648639939&id=2249856475729882&widgetName=sp_btf', 'https://www.amazon.in/gp/slredirect/picassoRedirect.html/ref=pa_sp_btf_aps_sr_pg1_1?ie=UTF8&adId=A05802303OLT9HLT37VTU&url=%2FFETCHER-Blue-Black-Premium-T-Shirt%2Fdp%2FB08LKZ3YND%2Fref%3Dsr_1_58_sspa%3Fcrid%3D1KBV80T90MV9Z%26keywords%3Ddogs%2Bclothes%26qid%3D1648639939%26sprefix%3Ddogs%2Bclothes%252Caps%252C593%26sr%3D8-58-spons%26psc%3D1&qualifier=1648639939&id=2249856475729882&widgetName=sp_btf', 'https://www.amazon.in/gp/slredirect/picassoRedirect.html/ref=pa_sp_btf_aps_sr_pg1_1?ie=UTF8&adId=A0957201YKB6UOXSUV64&url=%2FFETCHER-Mummas-Premium-T-Shirt-Breeds%2Fdp%2FB08SMR7YH2%2Fref%3Dsr_1_59_sspa%3Fcrid%3D1KBV80T90MV9Z%26keywords%3Ddogs%2Bclothes%26qid%3D1648639939%26sprefix%3Ddogs%2Bclothes%252Caps%252C593%26sr%3D8-59-spons%26psc%3D1&qualifier=1648639939&id=2249856475729882&widgetName=sp_btf', 'https://www.amazon.in/gp/slredirect/picassoRedirect.html/ref=pa_sp_btf_aps_sr_pg1_1?ie=UTF8&adId=A0575338WKNX65AG6F23&url=%2FFETCHER-Premium-T-Shirts-Breeds-X-Small%2Fdp%2FB098P9MJL2%2Fref%3Dsr_1_60_sspa%3Fcrid%3D1KBV80T90MV9Z%26keywords%3Ddogs%2Bclothes%26qid%3D1648639939%26sprefix%3Ddogs%2Bclothes%252Caps%252C593%26sr%3D8-60-spons%26psc%3D1&qualifier=1648639939&id=2249856475729882&widgetName=sp_btf', 'https://www.amazon.in/gp/slredirect/picassoRedirect.html/ref=pa_sp_atf_next_aps_sr_pg2_1?ie=UTF8&adId=A00418981YST5QHPCG25T&url=%2FStriped-T-Shirt-Breathable-Clothes-MediumLarge%2Fdp%2FB09H37FJY5%2Fref%3Dsr_1_49_sspa%3Fcrid%3D1KBV80T90MV9Z%26keywords%3Ddogs%2Bclothes%26qid%3D1648641199%26sprefix%3Ddogs%2Bclothes%252Caps%252C593%26sr%3D8-49-spons%26psc%3D1&qualifier=1648641199&id=1346628011664830&widgetName=sp_atf_next', 'https://www.amazon.in/gp/slredirect/picassoRedirect.html/ref=pa_sp_atf_next_aps_sr_pg2_1?ie=UTF8&adId=A0552100V4L5RYMO8XM9&url=%2FKUTKUT-Ball-Print-Dress-Small%2Fdp%2FB0995KHTSJ%2Fref%3Dsr_1_50_sspa%3Fcrid%3D1KBV80T90MV9Z%26keywords%3Ddogs%2Bclothes%26qid%3D1648641199%26sprefix%3Ddogs%2Bclothes%252Caps%252C593%26sr%3D8-50-spons%26psc%3D1&qualifier=1648641199&id=1346628011664830&widgetName=sp_atf_next', 'https://www.amazon.in/gp/slredirect/picassoRedirect.html/ref=pa_sp_atf_next_aps_sr_pg2_1?ie=UTF8&adId=A09523802U2L3QIMLHQJP&url=%2FInternational-Collar-Apparels-Cotton-Interlocked%2Fdp%2FB09SVJ7D9G%2Fref%3Dsr_1_51_sspa%3Fcrid%3D1KBV80T90MV9Z%26keywords%3Ddogs%2Bclothes%26qid%3D1648641199%26sprefix%3Ddogs%2Bclothes%252Caps%252C593%26sr%3D8-51-spons%26psc%3D1&qualifier=1648641199&id=1346628011664830&widgetName=sp_atf_next', 'https://www.amazon.in/gp/slredirect/picassoRedirect.html/ref=pa_sp_atf_next_aps_sr_pg2_1?ie=UTF8&adId=A05276982LTVH17B0ZY20&url=%2FPaws-Birthday-Handmade-Embroidered-Adjustable%2Fdp%2FB07R39FKBT%2Fref%3Dsr_1_52_sspa%3Fcrid%3D1KBV80T90MV9Z%26keywords%3Ddogs%2Bclothes%26qid%3D1648641199%26sprefix%3Ddogs%2Bclothes%252Caps%252C593%26sr%3D8-52-spons%26psc%3D1&qualifier=1648641199&id=1346628011664830&widgetName=sp_atf_next', 'https://www.amazon.in/Pawpstar-Aditya-Birla-T-Shirts-Orange/dp/B09C25X18X/ref=sr_1_53?crid=1KBV80T90MV9Z&keywords=dogs+clothes&qid=1648641199&sprefix=dogs+clothes%2Caps%2C593&sr=8-53', 'https://www.amazon.in/Heads-Up-Tails-Sweatshirt-Dogs/dp/B09K781ZD1/ref=sr_1_54?crid=1KBV80T90MV9Z&keywords=dogs+clothes&qid=1648641199&sprefix=dogs+clothes%2Caps%2C593&sr=8-54', 'https://www.amazon.in/Golden-Tails-Cotton-Printed-T-Shirt/dp/B09RK5Q14T/ref=sr_1_55?crid=1KBV80T90MV9Z&keywords=dogs+clothes&qid=1648641199&sprefix=dogs+clothes%2Caps%2C593&sr=8-55', 'https://www.amazon.in/FETCHER-Green-Premium-T-Shirts-Breeds/dp/B08VN5WLG7/ref=sr_1_56?crid=1KBV80T90MV9Z&keywords=dogs+clothes&qid=1648641199&sprefix=dogs+clothes%2Caps%2C593&sr=8-56', 'https://www.amazon.in/FETCHER-Premium-T-Shirts-Breeds-X-Large/dp/B098PBRLGJ/ref=sr_1_57?crid=1KBV80T90MV9Z&keywords=dogs+clothes&qid=1648641199&sprefix=dogs+clothes%2Caps%2C593&sr=8-57', 'https://www.amazon.in/Kitty-Woof-Gang-Clothes-Comfortable/dp/B08XYXLMS2/ref=sr_1_58?crid=1KBV80T90MV9Z&keywords=dogs+clothes&qid=1648641199&sprefix=dogs+clothes%2Caps%2C593&sr=8-58', 'https://www.amazon.in/Ruse-T-Shirt-Printed-Sleeveless-Apparel/dp/B08S43DSRX/ref=sr_1_59?crid=1KBV80T90MV9Z&keywords=dogs+clothes&qid=1648641199&sprefix=dogs+clothes%2Caps%2C593&sr=8-59', 'https://www.amazon.in/Ruse-Sleeveless-T-Shirt-Clothes-Apparel/dp/B07Q29GHNB/ref=sr_1_60?crid=1KBV80T90MV9Z&keywords=dogs+clothes&qid=1648641199&sprefix=dogs+clothes%2Caps%2C593&sr=8-60', 'https://www.amazon.in/Kitty-Woof-Gang-Hot-Sauce/dp/B08XXST368/ref=sr_1_61?crid=1KBV80T90MV9Z&keywords=dogs+clothes&qid=1648641199&sprefix=dogs+clothes%2Caps%2C593&sr=8-61', 'https://www.amazon.in/Kitty-Woof-Gang-Comfortable-22In-2XL/dp/B08XYXVV9C/ref=sr_1_62?crid=1KBV80T90MV9Z&keywords=dogs+clothes&qid=1648641199&sprefix=dogs+clothes%2Caps%2C593&sr=8-62', 'https://www.amazon.in/Ruse-Sleeveless-T-Shirt-Clothes-Apparel/dp/B07PX349N6/ref=sr_1_63?crid=1KBV80T90MV9Z&keywords=dogs+clothes&qid=1648641199&sprefix=dogs+clothes%2Caps%2C593&sr=8-63', 'https://www.amazon.in/Kitty-Woof-Gang-Winter-Jacket/dp/B08FBL3L8R/ref=sr_1_64?crid=1KBV80T90MV9Z&keywords=dogs+clothes&qid=1648641199&sprefix=dogs+clothes%2Caps%2C593&sr=8-64', 'https://www.amazon.in/Kitty-Woof-Gang-Windcheater-Reflective/dp/B081SW8KZB/ref=sr_1_65?crid=1KBV80T90MV9Z&keywords=dogs+clothes&qid=1648641199&sprefix=dogs+clothes%2Caps%2C593&sr=8-65', 'https://www.amazon.in/Ruse-Bosspup-Sleeveless-T-Shirt-Clothes/dp/B07QGL8NSJ/ref=sr_1_66?crid=1KBV80T90MV9Z&keywords=dogs+clothes&qid=1648641199&sprefix=dogs+clothes%2Caps%2C593&sr=8-66', 'https://www.amazon.in/Clothes-Fashion-Printing-Vacation-Coconut/dp/B09H376GYH/ref=sr_1_67?crid=1KBV80T90MV9Z&keywords=dogs+clothes&qid=1648641199&sprefix=dogs+clothes%2Caps%2C593&sr=8-67', 'https://www.amazon.in/Ruse-Printed-Sleeveless-T-Shirt-Retrievers/dp/B09DTBK1T1/ref=sr_1_68?crid=1KBV80T90MV9Z&keywords=dogs+clothes&qid=1648641199&sprefix=dogs+clothes%2Caps%2C593&sr=8-68', 'https://www.amazon.in/gp/slredirect/picassoRedirect.html/ref=pa_sp_mtf_aps_sr_pg2_1?ie=UTF8&adId=A0048674U2PZBDYZVWD9&url=%2FHawaiian-Costume-T-Shirts-Clothes-Fashion%2Fdp%2FB09H36GKBR%2Fref%3Dsr_1_69_sspa%3Fcrid%3D1KBV80T90MV9Z%26keywords%3Ddogs%2Bclothes%26qid%3D1648641199%26sprefix%3Ddogs%2Bclothes%252Caps%252C593%26sr%3D8-69-spons%26psc%3D1%26smid%3DAJVO1W99Z7UAC&qualifier=1648641199&id=1346628011664830&widgetName=sp_mtf', 'https://www.amazon.in/gp/slredirect/picassoRedirect.html/ref=pa_sp_mtf_aps_sr_pg2_1?ie=UTF8&adId=A098481920BRT4MO18A01&url=%2FPawpstar-Aditya-Birla-T-Shirts-Green%2Fdp%2FB09C258P9H%2Fref%3Dsr_1_70_sspa%3Fcrid%3D1KBV80T90MV9Z%26keywords%3Ddogs%2Bclothes%26qid%3D1648641199%26sprefix%3Ddogs%2Bclothes%252Caps%252C593%26sr%3D8-70-spons%26psc%3D1&qualifier=1648641199&id=1346628011664830&widgetName=sp_mtf', 'https://www.amazon.in/gp/slredirect/picassoRedirect.html/ref=pa_sp_mtf_aps_sr_pg2_1?ie=UTF8&adId=A0010294KTQFHFJ2I0N1&url=%2FKUTKUT-Breathable-Stretchy-Labarador-Retriver%2Fdp%2FB09J2NLQQL%2Fref%3Dsr_1_71_sspa%3Fcrid%3D1KBV80T90MV9Z%26keywords%3Ddogs%2Bclothes%26qid%3D1648641199%26sprefix%3Ddogs%2Bclothes%252Caps%252C593%26sr%3D8-71-spons%26psc%3D1&qualifier=1648641199&id=1346628011664830&widgetName=sp_mtf', 'https://www.amazon.in/gp/slredirect/picassoRedirect.html/ref=pa_sp_mtf_aps_sr_pg2_1?ie=UTF8&adId=A0987127138VV8R7VWF84&url=%2FPawpstar-Aditya-Birla-Polo-T-Shirts%2Fdp%2FB09C2GTS97%2Fref%3Dsr_1_72_sspa%3Fcrid%3D1KBV80T90MV9Z%26keywords%3Ddogs%2Bclothes%26qid%3D1648641199%26sprefix%3Ddogs%2Bclothes%252Caps%252C593%26sr%3D8-72-spons%26psc%3D1&qualifier=1648641199&id=1346628011664830&widgetName=sp_mtf', 'https://www.amazon.in/Kitty-Woof-Gang-Hot-Sauce/dp/B08XXWGP8R/ref=sr_1_73?crid=1KBV80T90MV9Z&keywords=dogs+clothes&qid=1648641199&sprefix=dogs+clothes%2Caps%2C593&sr=8-73', 'https://www.amazon.in/Kitty-Woof-Gang-Hot-Sauce/dp/B08XXWN682/ref=sr_1_74?crid=1KBV80T90MV9Z&keywords=dogs+clothes&qid=1648641199&sprefix=dogs+clothes%2Caps%2C593&sr=8-74', 'https://www.amazon.in/Kitty-Woof-Gang-T-Shirt-Clothes/dp/B07QLLXVL6/ref=sr_1_75?crid=1KBV80T90MV9Z&keywords=dogs+clothes&qid=1648641199&sprefix=dogs+clothes%2Caps%2C593&sr=8-75', 'https://www.amazon.in/Kitty-Woof-Gang-Hot-Sauce/dp/B08XXWDPC7/ref=sr_1_76?crid=1KBV80T90MV9Z&keywords=dogs+clothes&qid=1648641199&sprefix=dogs+clothes%2Caps%2C593&sr=8-76', 'https://www.amazon.in/Kitty-Woof-Gang-Frills-Comfortable/dp/B08Y8JFWXK/ref=sr_1_77?crid=1KBV80T90MV9Z&keywords=dogs+clothes&qid=1648641199&sprefix=dogs+clothes%2Caps%2C593&sr=8-77', 'https://www.amazon.in/Kitty-Woof-Gang-Clothes-Comfortable/dp/B08XYSHMJQ/ref=sr_1_78?crid=1KBV80T90MV9Z&keywords=dogs+clothes&qid=1648641199&sprefix=dogs+clothes%2Caps%2C593&sr=8-78', 'https://www.amazon.in/Sage-Square-Comfort-T-Shirt-Sleeveless/dp/B09SDCCW53/ref=sr_1_79?crid=1KBV80T90MV9Z&keywords=dogs+clothes&qid=1648641199&sprefix=dogs+clothes%2Caps%2C593&sr=8-79', 'https://www.amazon.in/Lulala-Outfit-Sherwani-Collars-Embroidery-Sherwani/dp/B09S3M74LG/ref=sr_1_80?crid=1KBV80T90MV9Z&keywords=dogs+clothes&qid=1648641199&sprefix=dogs+clothes%2Caps%2C593&sr=8-80', 'https://www.amazon.in/That-Dog-Tuxedo-Dress-Clothes/dp/B09SHJRW43/ref=sr_1_81?crid=1KBV80T90MV9Z&keywords=dogs+clothes&qid=1648641199&sprefix=dogs+clothes%2Caps%2C593&sr=8-81', 'https://www.amazon.in/Ruse-Sleeveless-T-Shirt-Clothes-Apparel/dp/B07NRPJFNX/ref=sr_1_82?crid=1KBV80T90MV9Z&keywords=dogs+clothes&qid=1648641199&sprefix=dogs+clothes%2Caps%2C593&sr=8-82', 'https://www.amazon.in/Paws-Sloppy-Comfortable-Bandana-Adjustable/dp/B07RHKPFJ5/ref=sr_1_83?crid=1KBV80T90MV9Z&keywords=dogs+clothes&qid=1648641199&sprefix=dogs+clothes%2Caps%2C593&sr=8-83', 'https://www.amazon.in/Petsplanet-Clothes-Reversible-Windproof-Pets/dp/B09MDGL1TZ/ref=sr_1_84?crid=1KBV80T90MV9Z&keywords=dogs+clothes&qid=1648641199&sprefix=dogs+clothes%2Caps%2C593&sr=8-84', 'https://www.amazon.in/Ruse-Sleeveless-T-Shirt-Clothes-Apparel/dp/B07PX35C9G/ref=sr_1_85?crid=1KBV80T90MV9Z&keywords=dogs+clothes&qid=1648641199&sprefix=dogs+clothes%2Caps%2C593&sr=8-85', 'https://www.amazon.in/Pets-Empire-Fashion-Glasses-Protection/dp/B07GWSZGDW/ref=sr_1_86?crid=1KBV80T90MV9Z&keywords=dogs+clothes&qid=1648641199&sprefix=dogs+clothes%2Caps%2C593&sr=8-86', 'https://www.amazon.in/LANA-Paws-Tuxedo-Bandana-Adjustable/dp/B07TKDWX7Z/ref=sr_1_87?crid=1KBV80T90MV9Z&keywords=dogs+clothes&qid=1648641199&sprefix=dogs+clothes%2Caps%2C593&sr=8-87', 'https://www.amazon.in/Ruse-T-Shirt-Bosspup-Sleeveless-XX-Small/dp/B08S419S56/ref=sr_1_88?crid=1KBV80T90MV9Z&keywords=dogs+clothes&qid=1648641199&sprefix=dogs+clothes%2Caps%2C593&sr=8-88', 'https://www.amazon.in/Cotton-Sleeveles-Printed-Rockstar-T-Shirt/dp/B07FQPDKY1/ref=sr_1_89?crid=1KBV80T90MV9Z&keywords=dogs+clothes&qid=1648641199&sprefix=dogs+clothes%2Caps%2C593&sr=8-89', 'https://www.amazon.in/Emily-Cotton-Clothes-Summer-Dress/dp/B099K49KZT/ref=sr_1_90?crid=1KBV80T90MV9Z&keywords=dogs+clothes&qid=1648641199&sprefix=dogs+clothes%2Caps%2C593&sr=8-90', 'https://www.amazon.in/Kitty-Woof-Gang-Apparel-Comfortable/dp/B08XBPDB2F/ref=sr_1_91?crid=1KBV80T90MV9Z&keywords=dogs+clothes&qid=1648641199&sprefix=dogs+clothes%2Caps%2C593&sr=8-91', 'https://www.amazon.in/Summer-T-Shirt-Cheese-Royal-Blue/dp/B08WQ3Y2QP/ref=sr_1_92?crid=1KBV80T90MV9Z&keywords=dogs+clothes&qid=1648641199&sprefix=dogs+clothes%2Caps%2C593&sr=8-92', 'https://www.amazon.in/Kitty-Woof-Gang-Hot-Sauce/dp/B08XXVCZFX/ref=sr_1_93?crid=1KBV80T90MV9Z&keywords=dogs+clothes&qid=1648641199&sprefix=dogs+clothes%2Caps%2C593&sr=8-93', 'https://www.amazon.in/Kitty-Woof-Gang-Hot-Sauce/dp/B08XXV1RKT/ref=sr_1_94?crid=1KBV80T90MV9Z&keywords=dogs+clothes&qid=1648641199&sprefix=dogs+clothes%2Caps%2C593&sr=8-94', 'https://www.amazon.in/Lana-Paws-Gentleman-Adjustable-Bandana/dp/B09KCRJ1K8/ref=sr_1_95?crid=1KBV80T90MV9Z&keywords=dogs+clothes&qid=1648641199&sprefix=dogs+clothes%2Caps%2C593&sr=8-95', 'https://www.amazon.in/Kitty-Woof-Gang-Carpet-Collar/dp/B081SS1795/ref=sr_1_96?crid=1KBV80T90MV9Z&keywords=dogs+clothes&qid=1648641199&sprefix=dogs+clothes%2Caps%2C593&sr=8-96', 'https://www.amazon.in/FETCHER-Printed-Premium-Fleece-Hoodie/dp/B09GYLPPGJ/ref=sr_1_97?crid=1KBV80T90MV9Z&keywords=dogs+clothes&qid=1648641199&sprefix=dogs+clothes%2Caps%2C593&sr=8-97', 'https://www.amazon.in/Kitty-Woof-Gang-Puppies-ordering/dp/B08HQWFXCP/ref=sr_1_98?crid=1KBV80T90MV9Z&keywords=dogs+clothes&qid=1648641199&sprefix=dogs+clothes%2Caps%2C593&sr=8-98', 'https://www.amazon.in/Kitty-Woof-Gang-Clothes-Comfortable/dp/B08XYXXBRJ/ref=sr_1_99?crid=1KBV80T90MV9Z&keywords=dogs+clothes&qid=1648641199&sprefix=dogs+clothes%2Caps%2C593&sr=8-99', 'https://www.amazon.in/Sage-Square-Comfort-T-Shirt-Sleeveless/dp/B09BD1ZLSJ/ref=sr_1_100?crid=1KBV80T90MV9Z&keywords=dogs+clothes&qid=1648641199&sprefix=dogs+clothes%2Caps%2C593&sr=8-100', 'https://www.amazon.in/Sage-Square-Reversible-Windproof-Weather/dp/B09NFWBK8H/ref=sr_1_101?crid=1KBV80T90MV9Z&keywords=dogs+clothes&qid=1648641199&sprefix=dogs+clothes%2Caps%2C593&sr=8-101', 'https://www.amazon.in/FETCHER-Purple-Printed-Premium-Sweatshirt/dp/B09JM513CN/ref=sr_1_102?crid=1KBV80T90MV9Z&keywords=dogs+clothes&qid=1648641199&sprefix=dogs+clothes%2Caps%2C593&sr=8-102', 'https://www.amazon.in/KUTKUT-Rainbow-Breathable-Sleeveless-T-Shirt/dp/B08XVMJGQ4/ref=sr_1_103?crid=1KBV80T90MV9Z&keywords=dogs+clothes&qid=1648641199&sprefix=dogs+clothes%2Caps%2C593&sr=8-103', 'https://www.amazon.in/Kitty-Woof-Gang-Leather-Sweater/dp/B08NDTV1CX/ref=sr_1_104?crid=1KBV80T90MV9Z&keywords=dogs+clothes&qid=1648641199&sprefix=dogs+clothes%2Caps%2C593&sr=8-104', 'https://www.amazon.in/gp/slredirect/picassoRedirect.html/ref=pa_sp_btf_aps_sr_pg2_1?ie=UTF8&adId=A08545453UJNJV8GRBNLS&url=%2FLulala-Contrast-Stitching-Sundress-Apparel%2Fdp%2FB09PDPF4B5%2Fref%3Dsr_1_105_sspa%3Fcrid%3D1KBV80T90MV9Z%26keywords%3Ddogs%2Bclothes%26qid%3D1648641199%26sprefix%3Ddogs%2Bclothes%252Caps%252C593%26sr%3D8-105-spons%26psc%3D1&qualifier=1648641199&id=1346628011664830&widgetName=sp_btf', 'https://www.amazon.in/gp/slredirect/picassoRedirect.html/ref=pa_sp_btf_aps_sr_pg2_1?ie=UTF8&adId=A062767236GE2JK025BN3&url=%2FLANA-Paws-Tuxedo-Bandana-Adjustable%2Fdp%2FB07TKDWX7Z%2Fref%3Dsr_1_106_sspa%3Fcrid%3D1KBV80T90MV9Z%26keywords%3Ddogs%2Bclothes%26qid%3D1648641199%26sprefix%3Ddogs%2Bclothes%252Caps%252C593%26sr%3D8-106-spons%26psc%3D1&qualifier=1648641199&id=1346628011664830&widgetName=sp_btf', 'https://www.amazon.in/gp/slredirect/picassoRedirect.html/ref=pa_sp_btf_aps_sr_pg2_1?ie=UTF8&adId=A00145431ZHWJSTFFHKDE&url=%2FPetVogue-Classic-Cosy-Sweater-XX-Small%2Fdp%2FB0839B88WJ%2Fref%3Dsr_1_107_sspa%3Fcrid%3D1KBV80T90MV9Z%26keywords%3Ddogs%2Bclothes%26qid%3D1648641199%26sprefix%3Ddogs%2Bclothes%252Caps%252C593%26sr%3D8-107-spons%26psc%3D1&qualifier=1648641199&id=1346628011664830&widgetName=sp_btf', 'https://www.amazon.in/gp/slredirect/picassoRedirect.html/ref=pa_sp_btf_aps_sr_pg2_1?ie=UTF8&adId=A02785772J1S3RBYWKJDP&url=%2FInternational-Windproof-Pomeranian-Chihuahua-Dachshund%2Fdp%2FB09NRXJK9J%2Fref%3Dsr_1_108_sspa%3Fcrid%3D1KBV80T90MV9Z%26keywords%3Ddogs%2Bclothes%26qid%3D1648641199%26sprefix%3Ddogs%2Bclothes%252Caps%252C593%26sr%3D8-108-spons%26psc%3D1&qualifier=1648641199&id=1346628011664830&widgetName=sp_btf', 'https://www.amazon.in/gp/slredirect/picassoRedirect.html/ref=pa_sp_atf_next_aps_sr_pg3_1?ie=UTF8&adId=A09787011QV4GGYD9YVYV&url=%2FFETCHER-Printed-T-Shirt-Breeds-X-Large%2Fdp%2FB097F968SM%2Fref%3Dsr_1_97_sspa%3Fcrid%3D1KBV80T90MV9Z%26keywords%3Ddogs%2Bclothes%26qid%3D1648642124%26sprefix%3Ddogs%2Bclothes%252Caps%252C593%26sr%3D8-97-spons%26psc%3D1&qualifier=1648642124&id=2022548321089812&widgetName=sp_atf_next', 'https://www.amazon.in/gp/slredirect/picassoRedirect.html/ref=pa_sp_atf_next_aps_sr_pg3_1?ie=UTF8&adId=A085105830L54JEJXW7IM&url=%2FFETCHER-Red-Premium-T-Shirt-Small%2Fdp%2FB08MFGKWQ5%2Fref%3Dsr_1_98_sspa%3Fcrid%3D1KBV80T90MV9Z%26keywords%3Ddogs%2Bclothes%26qid%3D1648642124%26sprefix%3Ddogs%2Bclothes%252Caps%252C593%26sr%3D8-98-spons%26psc%3D1&qualifier=1648642124&id=2022548321089812&widgetName=sp_atf_next', 'https://www.amazon.in/gp/slredirect/picassoRedirect.html/ref=pa_sp_atf_next_aps_sr_pg3_1?ie=UTF8&adId=A05766541H9WMEQR3DEE3&url=%2FFETCHER-Blue-Black-Premium-T-Shirts%2Fdp%2FB08LKZZKS2%2Fref%3Dsr_1_99_sspa%3Fcrid%3D1KBV80T90MV9Z%26keywords%3Ddogs%2Bclothes%26qid%3D1648642124%26sprefix%3Ddogs%2Bclothes%252Caps%252C593%26sr%3D8-99-spons%26psc%3D1&qualifier=1648642124&id=2022548321089812&widgetName=sp_atf_next', 'https://www.amazon.in/gp/slredirect/picassoRedirect.html/ref=pa_sp_atf_next_aps_sr_pg3_1?ie=UTF8&adId=A01237812BFJJWJJB537L&url=%2FFETCHER-There-Premium-T-Shirt-Breeds%2Fdp%2FB09BBFXDQZ%2Fref%3Dsr_1_100_sspa%3Fcrid%3D1KBV80T90MV9Z%26keywords%3Ddogs%2Bclothes%26qid%3D1648642124%26sprefix%3Ddogs%2Bclothes%252Caps%252C593%26sr%3D8-100-spons%26psc%3D1&qualifier=1648642124&id=2022548321089812&widgetName=sp_atf_next', 'https://www.amazon.in/Kitty-Woof-Gang-Embellished-Comfortable/dp/B08XZJZBW3/ref=sr_1_101?crid=1KBV80T90MV9Z&keywords=dogs+clothes&qid=1648642124&sprefix=dogs+clothes%2Caps%2C593&sr=8-101', 'https://www.amazon.in/Kitty-Woof-Gang-Clothes-Comfortable/dp/B08XWKV22B/ref=sr_1_102?crid=1KBV80T90MV9Z&keywords=dogs+clothes&qid=1648642124&sprefix=dogs+clothes%2Caps%2C593&sr=8-102', 'https://www.amazon.in/Kitty-Woof-Gang-Windcheater-Reflective/dp/B08NDK47N5/ref=sr_1_103?crid=1KBV80T90MV9Z&keywords=dogs+clothes&qid=1648642124&sprefix=dogs+clothes%2Caps%2C593&sr=8-103', 'https://www.amazon.in/Foodie-Puppies-Red-Black-Reversible-Jackets/dp/B09K5613PQ/ref=sr_1_104?crid=1KBV80T90MV9Z&keywords=dogs+clothes&qid=1648642124&sprefix=dogs+clothes%2Caps%2C593&sr=8-104', 'https://www.amazon.in/TBOP-Clothes-Sweater-Supplies-Orange_XXL/dp/B08NYGG3V2/ref=sr_1_105?crid=1KBV80T90MV9Z&keywords=dogs+clothes&qid=1648642124&sprefix=dogs+clothes%2Caps%2C593&sr=8-105', 'https://www.amazon.in/Kitty-Woof-Gang-Bloomingdale-Comfortable/dp/B08XYVY6BP/ref=sr_1_106?crid=1KBV80T90MV9Z&keywords=dogs+clothes&qid=1648642124&sprefix=dogs+clothes%2Caps%2C593&sr=8-106', 'https://www.amazon.in/Kitty-Woof-Gang-Summertime-Floral/dp/B08Y29KW2P/ref=sr_1_107?crid=1KBV80T90MV9Z&keywords=dogs+clothes&qid=1648642124&sprefix=dogs+clothes%2Caps%2C593&sr=8-107', 'https://www.amazon.in/Kitty-Woof-Gang-Sweater-Comfortable/dp/B08NF2247D/ref=sr_1_108?crid=1KBV80T90MV9Z&keywords=dogs+clothes&qid=1648642124&sprefix=dogs+clothes%2Caps%2C593&sr=8-108', 'https://www.amazon.in/FETCHER-Red-Premium-T-Shirt-Small/dp/B08MFGKWQ5/ref=sr_1_109?crid=1KBV80T90MV9Z&keywords=dogs+clothes&qid=1648642124&sprefix=dogs+clothes%2Caps%2C593&sr=8-109', 'https://www.amazon.in/PetVogue-Ultra-Sweater-Puppies-Small/dp/B0839BGFM4/ref=sr_1_110?crid=1KBV80T90MV9Z&keywords=dogs+clothes&qid=1648642124&sprefix=dogs+clothes%2Caps%2C593&sr=8-110', 'https://www.amazon.in/Oz-International-Camouflage-Apparels-Interlocked/dp/B082X1YHGD/ref=sr_1_111?crid=1KBV80T90MV9Z&keywords=dogs+clothes&qid=1648642124&sprefix=dogs+clothes%2Caps%2C593&sr=8-111', 'https://www.amazon.in/Lulala-drizzled-Spaghetti-Sleeveless-Pullover/dp/B09P3L43Q6/ref=sr_1_112?crid=1KBV80T90MV9Z&keywords=dogs+clothes&qid=1648642124&sprefix=dogs+clothes%2Caps%2C593&sr=8-112', 'https://www.amazon.in/FETCHER-Premium-Kitten-T-Shirt-X-Small/dp/B09JM2VHZR/ref=sr_1_113?crid=1KBV80T90MV9Z&keywords=dogs+clothes&qid=1648642124&sprefix=dogs+clothes%2Caps%2C593&sr=8-113', 'https://www.amazon.in/Kitty-Woof-Gang-Checker-Clothes/dp/B07L98NSXR/ref=sr_1_114?crid=1KBV80T90MV9Z&keywords=dogs+clothes&qid=1648642124&sprefix=dogs+clothes%2Caps%2C593&sr=8-114', 'https://www.amazon.in/Striped-Breathable-Clothes-Bowknot-Four-lagged/dp/B09H36V2PN/ref=sr_1_115?crid=1KBV80T90MV9Z&keywords=dogs+clothes&qid=1648642124&sprefix=dogs+clothes%2Caps%2C593&sr=8-115', 'https://www.amazon.in/Kitty-Woof-Gang-Silver-Puppies/dp/B08S6598V9/ref=sr_1_116?crid=1KBV80T90MV9Z&keywords=dogs+clothes&qid=1648642124&sprefix=dogs+clothes%2Caps%2C593&sr=8-116', 'https://www.amazon.in/gp/slredirect/picassoRedirect.html/ref=pa_sp_mtf_aps_sr_pg3_1?ie=UTF8&adId=A09846632CIWKUFGQTNR3&url=%2FPawpstar-Aditya-Birla-T-Shirts-Orange%2Fdp%2FB09C25X18X%2Fref%3Dsr_1_117_sspa%3Fcrid%3D1KBV80T90MV9Z%26keywords%3Ddogs%2Bclothes%26qid%3D1648642124%26sprefix%3Ddogs%2Bclothes%252Caps%252C593%26sr%3D8-117-spons%26psc%3D1&qualifier=1648642124&id=2022548321089812&widgetName=sp_mtf', 'https://www.amazon.in/gp/slredirect/picassoRedirect.html/ref=pa_sp_mtf_aps_sr_pg3_1?ie=UTF8&adId=A062767236GE2JK025BN3&url=%2FLANA-Paws-Tuxedo-Bandana-Adjustable%2Fdp%2FB07TKDWX7Z%2Fref%3Dsr_1_118_sspa%3Fcrid%3D1KBV80T90MV9Z%26keywords%3Ddogs%2Bclothes%26qid%3D1648642124%26sprefix%3Ddogs%2Bclothes%252Caps%252C593%26sr%3D8-118-spons%26psc%3D1&qualifier=1648642124&id=2022548321089812&widgetName=sp_mtf', 'https://www.amazon.in/gp/slredirect/picassoRedirect.html/ref=pa_sp_mtf_aps_sr_pg3_1?ie=UTF8&adId=A05991338XGSTBUUMB8K&url=%2FLana-Paws-Quirky-Adjustable-Crimson%2Fdp%2FB078L24SFR%2Fref%3Dsr_1_119_sspa%3Fcrid%3D1KBV80T90MV9Z%26keywords%3Ddogs%2Bclothes%26qid%3D1648642124%26sprefix%3Ddogs%2Bclothes%252Caps%252C593%26sr%3D8-119-spons%26psc%3D1&qualifier=1648642124&id=2022548321089812&widgetName=sp_mtf', 'https://www.amazon.in/gp/slredirect/picassoRedirect.html/ref=pa_sp_mtf_aps_sr_pg3_1?ie=UTF8&adId=A09523802U2L3QIMLHQJP&url=%2FInternational-Collar-Apparels-Cotton-Interlocked%2Fdp%2FB09SVJ7D9G%2Fref%3Dsr_1_120_sspa%3Fcrid%3D1KBV80T90MV9Z%26keywords%3Ddogs%2Bclothes%26qid%3D1648642124%26sprefix%3Ddogs%2Bclothes%252Caps%252C593%26sr%3D8-120-spons%26psc%3D1&qualifier=1648642124&id=2022548321089812&widgetName=sp_mtf', 'https://www.amazon.in/TBOP-Clothes-Supplies-Corduroy-Legs_XXL/dp/B08PBVSLC7/ref=sr_1_121?crid=1KBV80T90MV9Z&keywords=dogs+clothes&qid=1648642124&sprefix=dogs+clothes%2Caps%2C593&sr=8-121', 'https://www.amazon.in/Empire-Sweatshirt-Clothes-Clothing-Pattern/dp/B09P4ZXWZF/ref=sr_1_122?crid=1KBV80T90MV9Z&keywords=dogs+clothes&qid=1648642124&sprefix=dogs+clothes%2Caps%2C593&sr=8-122', 'https://www.amazon.in/Ruse-Sleeveless-T-Shirt-Clothes-Apparel/dp/B07NRPJFNX/ref=sr_1_123?crid=1KBV80T90MV9Z&keywords=dogs+clothes&qid=1648642124&sprefix=dogs+clothes%2Caps%2C593&sr=8-123', 'https://www.amazon.in/FETCHER-Printed-Flannel-Costume-Thickened/dp/B09PVJ6VK5/ref=sr_1_124?crid=1KBV80T90MV9Z&keywords=dogs+clothes&qid=1648642124&sprefix=dogs+clothes%2Caps%2C593&sr=8-124', 'https://www.amazon.in/Kitty-Woof-Gang-Frills-Comfortable/dp/B08Y8KYGGL/ref=sr_1_125?crid=1KBV80T90MV9Z&keywords=dogs+clothes&qid=1648642124&sprefix=dogs+clothes%2Caps%2C593&sr=8-125', 'https://www.amazon.in/FETCHER-Cartoon-Printed-Premium-Sweatshirt/dp/B09LSGF3P8/ref=sr_1_126?crid=1KBV80T90MV9Z&keywords=dogs+clothes&qid=1648642124&sprefix=dogs+clothes%2Caps%2C593&sr=8-126', 'https://www.amazon.in/Kitty-Woof-Gang-Hot-Sauce/dp/B08XXTW1H8/ref=sr_1_127?crid=1KBV80T90MV9Z&keywords=dogs+clothes&qid=1648642124&sprefix=dogs+clothes%2Caps%2C593&sr=8-127', 'https://www.amazon.in/Kitty-Woof-Gang-Apparel-Comfortable/dp/B08XB7L129/ref=sr_1_128?crid=1KBV80T90MV9Z&keywords=dogs+clothes&qid=1648642124&sprefix=dogs+clothes%2Caps%2C593&sr=8-128', 'https://www.amazon.in/DDS-Clothes-Outfits-Sweatshirt-Chihuahua/dp/B09LYGDKZT/ref=sr_1_129?crid=1KBV80T90MV9Z&keywords=dogs+clothes&qid=1648642124&sprefix=dogs+clothes%2Caps%2C593&sr=8-129', 'https://www.amazon.in/Sweatshirt-Clothes-Bulldog-Clothing-Pattern/dp/B09P4YFX8D/ref=sr_1_130?crid=1KBV80T90MV9Z&keywords=dogs+clothes&qid=1648642124&sprefix=dogs+clothes%2Caps%2C593&sr=8-130', 'https://www.amazon.in/Dogfather-Printed-Sleeveless-T-Shirt-Doberman/dp/B07NP2Z8GL/ref=sr_1_131?crid=1KBV80T90MV9Z&keywords=dogs+clothes&qid=1648642124&sprefix=dogs+clothes%2Caps%2C593&sr=8-131', 'https://www.amazon.in/Ruse-Printed-Sleeves-T-Shirt-Apparel/dp/B09G3HYPKX/ref=sr_1_132?crid=1KBV80T90MV9Z&keywords=dogs+clothes&qid=1648642124&sprefix=dogs+clothes%2Caps%2C593&sr=8-132', 'https://www.amazon.in/CHOOSTIX-Designer-T-Shirt-Circles-Pattern/dp/B085W5DY9W/ref=sr_1_133?crid=1KBV80T90MV9Z&keywords=dogs+clothes&qid=1648642124&sprefix=dogs+clothes%2Caps%2C593&sr=8-133', 'https://www.amazon.in/Sage-Square-Comfort-Sleeveless-10inches/dp/B09BD56TSF/ref=sr_1_134?crid=1KBV80T90MV9Z&keywords=dogs+clothes&qid=1648642124&sprefix=dogs+clothes%2Caps%2C593&sr=8-134', 'https://www.amazon.in/Puptail-Dress-Lovely-Apparel-Clothes/dp/B09TTN5T2D/ref=sr_1_135?crid=1KBV80T90MV9Z&keywords=dogs+clothes&qid=1648642124&sprefix=dogs+clothes%2Caps%2C593&sr=8-135', 'https://www.amazon.in/Nootie-Puppies-T-Shirt-Premium-Sleeveless/dp/B09SQ1VV38/ref=sr_1_136?crid=1KBV80T90MV9Z&keywords=dogs+clothes&qid=1648642124&sprefix=dogs+clothes%2Caps%2C593&sr=8-136', 'https://www.amazon.in/Sweatshirt-Clothes-Bulldog-Clothing-Pattern/dp/B09P51Y76Z/ref=sr_1_137?crid=1KBV80T90MV9Z&keywords=dogs+clothes&qid=1648642124&sprefix=dogs+clothes%2Caps%2C593&sr=8-137', 'https://www.amazon.in/Sage-Square-Comfortable-Breathable-Sleeveless/dp/B09SD9Y2ZG/ref=sr_1_138?crid=1KBV80T90MV9Z&keywords=dogs+clothes&qid=1648642124&sprefix=dogs+clothes%2Caps%2C593&sr=8-138', 'https://www.amazon.in/Ruse-Sleeveless-T-Shirt-Apparel-Clothes/dp/B09VTCL8H5/ref=sr_1_139?crid=1KBV80T90MV9Z&keywords=dogs+clothes&qid=1648642124&sprefix=dogs+clothes%2Caps%2C593&sr=8-139', 'https://www.amazon.in/Kitty-Woof-Gang-Fiesta-Sauce/dp/B08Y8L77S3/ref=sr_1_140?crid=1KBV80T90MV9Z&keywords=dogs+clothes&qid=1648642124&sprefix=dogs+clothes%2Caps%2C593&sr=8-140', 'https://www.amazon.in/Goofy-Tails-Abstract-Flora-Bandana/dp/B08T1PCQVT/ref=sr_1_141?crid=1KBV80T90MV9Z&keywords=dogs+clothes&qid=1648642124&sprefix=dogs+clothes%2Caps%2C593&sr=8-141', 'https://www.amazon.in/Kitty-Woof-Gang-Sweater-Clothes/dp/B08NC11CNP/ref=sr_1_142?crid=1KBV80T90MV9Z&keywords=dogs+clothes&qid=1648642124&sprefix=dogs+clothes%2Caps%2C593&sr=8-142', 'https://www.amazon.in/Ruse-Sleeveless-T-Shirt-Clothes-Apparel/dp/B07Q29GHNB/ref=sr_1_143?crid=1KBV80T90MV9Z&keywords=dogs+clothes&qid=1648642124&sprefix=dogs+clothes%2Caps%2C593&sr=8-143', 'https://www.amazon.in/FETCHER-Flannel-Costume-Weather-Thickened/dp/B09MM55F6X/ref=sr_1_144?crid=1KBV80T90MV9Z&keywords=dogs+clothes&qid=1648642124&sprefix=dogs+clothes%2Caps%2C593&sr=8-144', 'https://www.amazon.in/Fur-Kids-Polka-Dots-Dog/dp/B084142YM8/ref=sr_1_145?crid=1KBV80T90MV9Z&keywords=dogs+clothes&qid=1648642124&sprefix=dogs+clothes%2Caps%2C593&sr=8-145', 'https://www.amazon.in/KUTKUT-Flowers-Eelgant-Princess-ShishTzu/dp/B09NY9HVPR/ref=sr_1_146?crid=1KBV80T90MV9Z&keywords=dogs+clothes&qid=1648642124&sprefix=dogs+clothes%2Caps%2C593&sr=8-146', 'https://www.amazon.in/Ruse-Birthday-Printed-Dogs-Colour-Black-Doberman/dp/B09799MSTT/ref=sr_1_147?crid=1KBV80T90MV9Z&keywords=dogs+clothes&qid=1648642124&sprefix=dogs+clothes%2Caps%2C593&sr=8-147', 'https://www.amazon.in/Sage-Square-Comfortable-Thicker-Weather/dp/B08PBNCB9Q/ref=sr_1_148?crid=1KBV80T90MV9Z&keywords=dogs+clothes&qid=1648642124&sprefix=dogs+clothes%2Caps%2C593&sr=8-148', 'https://www.amazon.in/Ruse-Pet-Troublemaker-Sleeveless-T-Shirt-Apparel/dp/B07SD1971K/ref=sr_1_149?crid=1KBV80T90MV9Z&keywords=dogs+clothes&qid=1648642124&sprefix=dogs+clothes%2Caps%2C593&sr=8-149', 'https://www.amazon.in/Pet-Clothes-Dogs-Skin-Friendly-Comfortable/dp/B09L1GMFG4/ref=sr_1_150?crid=1KBV80T90MV9Z&keywords=dogs+clothes&qid=1648642124&sprefix=dogs+clothes%2Caps%2C593&sr=8-150', 'https://www.amazon.in/Glasses-Printed-Sleeveless-T-Shirt-Doberman/dp/B07NJMG8R5/ref=sr_1_151?crid=1KBV80T90MV9Z&keywords=dogs+clothes&qid=1648642124&sprefix=dogs+clothes%2Caps%2C593&sr=8-151', 'https://www.amazon.in/Ruse-Sleeveless-T-Shirt-Clothes-Apparel/dp/B07Q1JB39P/ref=sr_1_152?crid=1KBV80T90MV9Z&keywords=dogs+clothes&qid=1648642124&sprefix=dogs+clothes%2Caps%2C593&sr=8-152', 'https://www.amazon.in/gp/slredirect/picassoRedirect.html/ref=pa_sp_btf_aps_sr_pg3_1?ie=UTF8&adId=A00145431ZHWJSTFFHKDE&url=%2FPetVogue-Classic-Cosy-Sweater-XX-Small%2Fdp%2FB0839B88WJ%2Fref%3Dsr_1_153_sspa%3Fcrid%3D1KBV80T90MV9Z%26keywords%3Ddogs%2Bclothes%26qid%3D1648642124%26sprefix%3Ddogs%2Bclothes%252Caps%252C593%26sr%3D8-153-spons%26psc%3D1&qualifier=1648642124&id=2022548321089812&widgetName=sp_btf', 'https://www.amazon.in/gp/slredirect/picassoRedirect.html/ref=pa_sp_btf_aps_sr_pg3_1?ie=UTF8&adId=A09551172ETHFJCIPANML&url=%2FFETCHER-Premium-T-Shirts-Breeds-Medium%2Fdp%2FB092JQ6KSD%2Fref%3Dsr_1_154_sspa%3Fcrid%3D1KBV80T90MV9Z%26keywords%3Ddogs%2Bclothes%26qid%3D1648642124%26sprefix%3Ddogs%2Bclothes%252Caps%252C593%26sr%3D8-154-spons%26psc%3D1&qualifier=1648642124&id=2022548321089812&widgetName=sp_btf', 'https://www.amazon.in/gp/slredirect/picassoRedirect.html/ref=pa_sp_btf_aps_sr_pg3_1?ie=UTF8&adId=A05815223CNOGEWOYX4UA&url=%2FFETCHER-Premium-T-Shirts-Breeds-Medium%2Fdp%2FB098P9SJCM%2Fref%3Dsr_1_155_sspa%3Fcrid%3D1KBV80T90MV9Z%26keywords%3Ddogs%2Bclothes%26qid%3D1648642124%26sprefix%3Ddogs%2Bclothes%252Caps%252C593%26sr%3D8-155-spons%26psc%3D1&qualifier=1648642124&id=2022548321089812&widgetName=sp_btf', 'https://www.amazon.in/gp/slredirect/picassoRedirect.html/ref=pa_sp_btf_aps_sr_pg3_1?ie=UTF8&adId=A02785772J1S3RBYWKJDP&url=%2FInternational-Windproof-Pomeranian-Chihuahua-Dachshund%2Fdp%2FB09NRXJK9J%2Fref%3Dsr_1_156_sspa%3Fcrid%3D1KBV80T90MV9Z%26keywords%3Ddogs%2Bclothes%26qid%3D1648642124%26sprefix%3Ddogs%2Bclothes%252Caps%252C593%26sr%3D8-156-spons%26psc%3D1&qualifier=1648642124&id=2022548321089812&widgetName=sp_btf']\n"
     ]
    }
   ],
   "source": [
    "urls=producturls1+producturls2+producturls3\n",
    "print(urls)"
   ]
  },
  {
   "cell_type": "code",
   "execution_count": 202,
   "id": "da2b7436",
   "metadata": {},
   "outputs": [
    {
     "data": {
      "text/plain": [
       "180"
      ]
     },
     "execution_count": 202,
     "metadata": {},
     "output_type": "execute_result"
    }
   ],
   "source": [
    "len(urls)"
   ]
  },
  {
   "cell_type": "code",
   "execution_count": 203,
   "id": "2d0c5e79",
   "metadata": {},
   "outputs": [
    {
     "data": {
      "text/html": [
       "<div>\n",
       "<style scoped>\n",
       "    .dataframe tbody tr th:only-of-type {\n",
       "        vertical-align: middle;\n",
       "    }\n",
       "\n",
       "    .dataframe tbody tr th {\n",
       "        vertical-align: top;\n",
       "    }\n",
       "\n",
       "    .dataframe thead th {\n",
       "        text-align: right;\n",
       "    }\n",
       "</style>\n",
       "<table border=\"1\" class=\"dataframe\">\n",
       "  <thead>\n",
       "    <tr style=\"text-align: right;\">\n",
       "      <th></th>\n",
       "      <th>product name</th>\n",
       "      <th>price</th>\n",
       "      <th>expected delivery</th>\n",
       "      <th>product url</th>\n",
       "    </tr>\n",
       "  </thead>\n",
       "  <tbody>\n",
       "    <tr>\n",
       "      <th>0</th>\n",
       "      <td>Oz International Dog Shirt with Collar | Pet A...</td>\n",
       "      <td>1,299</td>\n",
       "      <td>Sunday, April 3</td>\n",
       "      <td>https://www.amazon.in/gp/slredirect/picassoRed...</td>\n",
       "    </tr>\n",
       "    <tr>\n",
       "      <th>1</th>\n",
       "      <td>Myartbucket Summer Dog T-Shirt Apni Hati to Sa...</td>\n",
       "      <td>499</td>\n",
       "      <td>Tuesday, April 5</td>\n",
       "      <td>https://www.amazon.in/gp/slredirect/picassoRed...</td>\n",
       "    </tr>\n",
       "    <tr>\n",
       "      <th>2</th>\n",
       "      <td>Myartbucket Summer Dog T-Shirt apni chalti to ...</td>\n",
       "      <td>499</td>\n",
       "      <td>Tuesday, April 5</td>\n",
       "      <td>https://www.amazon.in/gp/slredirect/picassoRed...</td>\n",
       "    </tr>\n",
       "    <tr>\n",
       "      <th>3</th>\n",
       "      <td>Myartbucket Pets Puppy Clothes Dog Summer Shir...</td>\n",
       "      <td>1,450</td>\n",
       "      <td>Tuesday, April 5</td>\n",
       "      <td>https://www.amazon.in/gp/slredirect/picassoRed...</td>\n",
       "    </tr>\n",
       "    <tr>\n",
       "      <th>4</th>\n",
       "      <td>Ruse Pet Good Boy Jersey No.5 Printed Round Ne...</td>\n",
       "      <td>349</td>\n",
       "      <td>Friday, April 1</td>\n",
       "      <td>https://www.amazon.in/Ruse-Printed-Sleeveless-...</td>\n",
       "    </tr>\n",
       "    <tr>\n",
       "      <th>...</th>\n",
       "      <td>...</td>\n",
       "      <td>...</td>\n",
       "      <td>...</td>\n",
       "      <td>...</td>\n",
       "    </tr>\n",
       "    <tr>\n",
       "      <th>175</th>\n",
       "      <td>Ruse. Pet I Love My Human Foil Edition Round N...</td>\n",
       "      <td>799</td>\n",
       "      <td>Friday, April 1</td>\n",
       "      <td>https://www.amazon.in/Ruse-Sleeveless-T-Shirt-...</td>\n",
       "    </tr>\n",
       "    <tr>\n",
       "      <th>176</th>\n",
       "      <td>PetVogue Classic Cosy Dog Sweater</td>\n",
       "      <td>557</td>\n",
       "      <td>Friday, April 1</td>\n",
       "      <td>https://www.amazon.in/gp/slredirect/picassoRed...</td>\n",
       "    </tr>\n",
       "    <tr>\n",
       "      <th>177</th>\n",
       "      <td>FETCHER Grey &amp; Red Premium Dog T-Shirts for Sm...</td>\n",
       "      <td>549</td>\n",
       "      <td>Tomorrow, March 31</td>\n",
       "      <td>https://www.amazon.in/gp/slredirect/picassoRed...</td>\n",
       "    </tr>\n",
       "    <tr>\n",
       "      <th>178</th>\n",
       "      <td>FETCHER Grey &amp; Wine Premium Dog T-Shirts for S...</td>\n",
       "      <td>529</td>\n",
       "      <td>Tomorrow, March 31</td>\n",
       "      <td>https://www.amazon.in/gp/slredirect/picassoRed...</td>\n",
       "    </tr>\n",
       "    <tr>\n",
       "      <th>179</th>\n",
       "      <td>Oz International Windproof British Style Cold ...</td>\n",
       "      <td>1,199</td>\n",
       "      <td>Tomorrow, March 31</td>\n",
       "      <td>https://www.amazon.in/gp/slredirect/picassoRed...</td>\n",
       "    </tr>\n",
       "  </tbody>\n",
       "</table>\n",
       "<p>180 rows × 4 columns</p>\n",
       "</div>"
      ],
      "text/plain": [
       "                                          product name  price  \\\n",
       "0    Oz International Dog Shirt with Collar | Pet A...  1,299   \n",
       "1    Myartbucket Summer Dog T-Shirt Apni Hati to Sa...    499   \n",
       "2    Myartbucket Summer Dog T-Shirt apni chalti to ...    499   \n",
       "3    Myartbucket Pets Puppy Clothes Dog Summer Shir...  1,450   \n",
       "4    Ruse Pet Good Boy Jersey No.5 Printed Round Ne...    349   \n",
       "..                                                 ...    ...   \n",
       "175  Ruse. Pet I Love My Human Foil Edition Round N...    799   \n",
       "176                  PetVogue Classic Cosy Dog Sweater    557   \n",
       "177  FETCHER Grey & Red Premium Dog T-Shirts for Sm...    549   \n",
       "178  FETCHER Grey & Wine Premium Dog T-Shirts for S...    529   \n",
       "179  Oz International Windproof British Style Cold ...  1,199   \n",
       "\n",
       "      expected delivery                                        product url  \n",
       "0       Sunday, April 3  https://www.amazon.in/gp/slredirect/picassoRed...  \n",
       "1      Tuesday, April 5  https://www.amazon.in/gp/slredirect/picassoRed...  \n",
       "2      Tuesday, April 5  https://www.amazon.in/gp/slredirect/picassoRed...  \n",
       "3      Tuesday, April 5  https://www.amazon.in/gp/slredirect/picassoRed...  \n",
       "4       Friday, April 1  https://www.amazon.in/Ruse-Printed-Sleeveless-...  \n",
       "..                  ...                                                ...  \n",
       "175     Friday, April 1  https://www.amazon.in/Ruse-Sleeveless-T-Shirt-...  \n",
       "176     Friday, April 1  https://www.amazon.in/gp/slredirect/picassoRed...  \n",
       "177  Tomorrow, March 31  https://www.amazon.in/gp/slredirect/picassoRed...  \n",
       "178  Tomorrow, March 31  https://www.amazon.in/gp/slredirect/picassoRed...  \n",
       "179  Tomorrow, March 31  https://www.amazon.in/gp/slredirect/picassoRed...  \n",
       "\n",
       "[180 rows x 4 columns]"
      ]
     },
     "execution_count": 203,
     "metadata": {},
     "output_type": "execute_result"
    }
   ],
   "source": [
    "df=pd.DataFrame()\n",
    "df['product name']=names\n",
    "df['price']=prices\n",
    "df['expected delivery']=expecteddel\n",
    "df['product url']=urls\n",
    "df"
   ]
  },
  {
   "cell_type": "code",
   "execution_count": 324,
   "id": "33df24bc",
   "metadata": {},
   "outputs": [],
   "source": [
    "df.to_csv('dogclothes.csv',index=False)"
   ]
  },
  {
   "cell_type": "markdown",
   "id": "cd1bb14f",
   "metadata": {},
   "source": [
    "ans3)"
   ]
  },
  {
   "cell_type": "code",
   "execution_count": 3,
   "id": "522eaa65",
   "metadata": {},
   "outputs": [],
   "source": [
    "driver2=webdriver.Chrome('chromedriver.exe')"
   ]
  },
  {
   "cell_type": "code",
   "execution_count": 4,
   "id": "5a413f3b",
   "metadata": {},
   "outputs": [],
   "source": [
    "url=('https://images.google.com/')\n",
    "driver2.get(url)"
   ]
  },
  {
   "cell_type": "code",
   "execution_count": 5,
   "id": "d2727f89",
   "metadata": {},
   "outputs": [
    {
     "data": {
      "text/plain": [
       "<selenium.webdriver.remote.webelement.WebElement (session=\"1d68042a4e1e414631f492246ba2facf\", element=\"ca474e83-8b65-4c02-8f3e-8f7bb9d8f309\")>"
      ]
     },
     "execution_count": 5,
     "metadata": {},
     "output_type": "execute_result"
    }
   ],
   "source": [
    "search=driver2.find_element_by_xpath('/html/body/div[1]/div[3]/form/div[1]/div[1]/div[1]/div/div[2]/input')\n",
    "search"
   ]
  },
  {
   "cell_type": "code",
   "execution_count": 6,
   "id": "383419b9",
   "metadata": {},
   "outputs": [],
   "source": [
    "search.send_keys('fruits')"
   ]
  },
  {
   "cell_type": "code",
   "execution_count": 7,
   "id": "df466292",
   "metadata": {},
   "outputs": [
    {
     "data": {
      "text/plain": [
       "<selenium.webdriver.remote.webelement.WebElement (session=\"1d68042a4e1e414631f492246ba2facf\", element=\"b80adc67-e47c-493c-89a3-5d4efb19f080\")>"
      ]
     },
     "execution_count": 7,
     "metadata": {},
     "output_type": "execute_result"
    }
   ],
   "source": [
    "searchbt=driver2.find_element_by_xpath('/html/body/div[1]/div[3]/form/div[1]/div[1]/div[1]/button/div/span')\n",
    "searchbt"
   ]
  },
  {
   "cell_type": "code",
   "execution_count": 8,
   "id": "448cc598",
   "metadata": {},
   "outputs": [],
   "source": [
    "searchbt.click()"
   ]
  },
  {
   "cell_type": "code",
   "execution_count": 8,
   "id": "7efd8924",
   "metadata": {},
   "outputs": [
    {
     "data": {
      "text/plain": [
       "[<selenium.webdriver.remote.webelement.WebElement (session=\"bdbcbadfc505a427519b28fb00290e28\", element=\"587f100c-2478-4d28-abae-e02bf815188d\")>,\n",
       " <selenium.webdriver.remote.webelement.WebElement (session=\"bdbcbadfc505a427519b28fb00290e28\", element=\"11cc18ee-e4ac-4f48-b73f-72cbed67e283\")>]"
      ]
     },
     "execution_count": 8,
     "metadata": {},
     "output_type": "execute_result"
    }
   ],
   "source": [
    "imageurl=driver2.find_elements_by_xpath('//img[@class=\"rg_i Q4LuWd\"]')\n",
    "imageurl[0:2]"
   ]
  },
  {
   "cell_type": "code",
   "execution_count": 9,
   "id": "24f04332",
   "metadata": {},
   "outputs": [
    {
     "data": {
      "text/plain": [
       "['data:image/jpeg;base64,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',\n",
       " 'data:image/jpeg;base64,/9j/4AAQSkZJRgABAQAAAQABAAD/2wCEAAkGBxMTEhUTExMWFhUXGB8cGBgYGCAcIBweIxgeGyAfGx4eHykhGyImHhwhIjIiKCosLy8vGyA0OTQuOCkuLywBCgoKDg0OHBAQHDMmIScxLiwwLy4zLjYwLjAxLi4wNjguMC4uLi4uMC4zLi4uMC4xLi4uLjAuLjAuLi4uMDAuLv/AABEIALcBEwMBIgACEQEDEQH/xAAcAAACAwEBAQEAAAAAAAAAAAAFBgMEBwABAgj/xAA+EAABAwIEBAQDBgUEAwADAQABAgMRACEEBRIxBkFRYRMicYEykaEHFEKxwfAjUmLR4RUzcoKSovEkY7IW/8QAGwEAAwEBAQEBAAAAAAAAAAAAAwQFAgYBAAf/xAA0EQACAgEDAgQDBwMFAQAAAAABAgADEQQSITFBBRMiUTJhcRSBkaGx0fEjwfAVM1Ji4UL/2gAMAwEAAhEDEQA/ABPGGBVhCBqKmlSEq5j+lUWmOfOKWMHnC2VEhUoMa2yVALgGPhINietMfE+b+M2UG+qD6Hcel6pZa64wwpzDsoU6gytRTqUEmR5Qd4tMbTSvhtZ+PoRHtbYceUeRjiKkOPLUlpClqVPlA1HvzkRRnFFKihplHmA06lKOpRiCVSdKR2AEdajez1etLqiPEKSlagmCRNpt0/Oh7eLJcWsbmq29R3zmTvL9xLH31xhd1AlKpCgQoKgRuLGAYrsbminxcqUo9b94AFS4LFpUhYUkK1RANzOwA9Z29K2HgngTD4dtClpC3olajeD0HYbCldTqfLGAc57Qy0gkFh98yVrJMSpBJYcAI/lN63DBcDsO4JhjFJ8QoQmFJJQpKtABKCkiNvfnV3NMYygGY96t5FnCH2UuIIIuLdjH6VLGt3ttbt7Qtum2KHAOJ85cVYYIZWor0phKzusC14tqiJ679gTcWCJEGdx1qpmDIcTvB/Ceh5H98iaHZdmG6VWIMKHQ/u/oRSp1BrfY3wnpMbcjIkOLa8Eyn/aP/oenp06bdKnZxVfeJjzTdCviB+U0Iw5Lay0ozF0nqnl7jY+nelG9DcdP0mviEIYtIB8Qf9x1HX1H1HoKi8eK5bsUBxWN8JZQraNSPTmP+p+hFL2sSTieLCuemcGE6U6S5ck7fEuRcXtHuaSvu5N5t8/n7fpRnKs3bxS14NxekrIWyr+oCCPdPLeNUXqk42pC1hyym1GZFjextBSCNt5lPSrmnJalc9hiX/DLQFKjrnP4zsqxyMO5qKFqUR5SmNQmATcEAWN79qp4rEeK6pUBBKiBPmA5eWU9BE/lUJOozttBgeu09Oo5p71IhB0FQImRE8udvp/ejlzjAlMUqH8w9TxPXcCSUCUpBUBMmRPOxkfnbYU+YrPG0Y44cqGs4dKx3HiLB/SlTIMrU7pfdhDDZ1KWSIhFyIOwkXPrSXmWdOYnMVYtEpBWBh1KEJGkaUoUdhrBNjeVRQ7ajZUyjjPSRvFLgXVM5xnPyz/E2bEZpaxoBm2LJBJNCcw4na1pbaStby7JaSklRI3tyHc2tNKHFWeYoEtusuMA2lQt7KHlPzqLTpL3PIx9eJLYBeshZzGcU4NwUhKfUEn9fpRf79CVCYiFEDmbx9Os0PwHB7wQ06skLcB8NqIVGk+ZZURoGnr/ADDnavj7wUKU05KHEGCFb9j0M2vPSr4QKox2man3AkyxjMQVfET8It0IH96p6Sff5dJmvXl9P36VEp1WlRSkkADUQPhEwJ97TWycCekc8z148psNz++ck0zfZY4k4le58t+8KIAA9d/+I60mO4kqhIgEm56DrWt/ZVlLbbCngmFPHeb6R5UgGfc9Sa9Re8De4+GPKX1H8J/KonH1Xsf39KjxT5RGmVSdh+49qruKWoQZQo9IJHc0UxadicxAgAwb9p3P5ih+IxJEJUSB1J35xvPtA25194tKyfIqFRabxfc9T/ahOWqe1L8RQK5EETBgdDzJmhtYQYPBJl7F5kEo8qVQL+VKjyPMD9/ll3FeOSmVNJ8PxCfETBSSq9yec3nv61pD2JN5UbCNPX9+nMUtcQtpfTodAIBBAnaCPcAm3cGtecVGZuu01OG7TJ1O966taw7OFCQPu7dh/KP7V1L/AGxPcQ3+rf8AX85n75SpaUTAm56Dmat4vF4dDJW0txTqVlCkrAAiYBTHYAn1oG6qCFCJBkgzBHS1yO3OreBU2kqdxOGcW1uhMqQlRMC0CNI3j9KpaNAqEd5i+4s4YQlw9kiX0HEvplMkJTy3ifpTCrCYYJlOGT4OxX4Y09rx3qzkeDUvCpR4Rb3htwFMpm0djRp/7+8nwVeChodBNvwgekVNsGXbcehiD2O7nJImb8Q5OMI80+2nUguJUhMfiB1aR2MWrZ8n8UspceBaUsTo3XHKRMJt1odlGEYXiAkgL+6J8RXZxUpRPKY1GOXlo84sqJKok1K12pwoB6y9pN5QbuvvBmZ5Gy+CFKdAI38lvY+lVOHsqdwS1JCw7hnLoWBBQvYpWnlIiCLSDtIk2Unpavtq1iJSqywdiOnqN6m1XkjbjEccsV2k5HtPtvFX0nnt6/8AwUIzz+EoYgfCLO/8eS/+p3/pPavVPaHFskypEEH+ZBulX0I9QatKeCkwYIO4P1BonmbgUsiLDYZ4jEak9aq46VJBT/uN3T3HMe4+sUJwLvguHDKJgDU0Tzbnb1QfKe2k86uOPQQrp+VZ3MPS38iYPXIk7eIC0BQMgilnjQksFaRK2jqjqn8Q/wDG/qBVw4sNulE+VzzJ9fxD5396+W8GcQ6W58v4qY09T2WrtGf2hkp35xMzxGJLq0eDqKwZ8oMjaIi9aTlmeqWgDMMM7KRAfSi5H9aefrB9KPrYweXtwEJ1RZIH1NI2ecSF1RMgDkByroGrFS7RHtHoyfXuIHv0/CHhgsC4ZRmDSUmTC41el1JgDpFW8HgMtU4ltOJL7mmSltUgxzJHwi8fEOQua+eDeG2Q394xCErcc8yUkWSDcSDuedT8TZkxhtLiW0BROmyQkkRJv0BAMn9aVa9EwTjJ7d4jf4pqMlFbgZGf45i79qq8R4QbQW0YRMJ8NuQSdxrtBFrAWB60pcM41MpROkK8oJEpJMbyIPz3FaPmGCQ9iG231ILAGvRJla9gFctIBNuZozmWLa8Mo0pDYTBSQNMd+UV8usVFy/vwOvETo1rVtkjOeuYvZMx92xJWyx4q1jQVBQSEiZMlU2JAuBy9KO5jh8wfTthMOP6peUf/AFSBQPC5u2Alxvfed7EcxzH7tV3FcQOLTaI/pI+tWvs6WYPadBdovOIYKPqf8xAGYcPgeL94xDj61p0nZIjWlRgGZkpHypfxmXt+GlDpWA2NLbyRJSkbJcAuQNgocrHaaZyhxfl0FU84t89hVnhpzDIcWl9IXfy/iEjlba9veivpq9mFGMdMRm3Q0nTkEZI5GOszDEMuDZ1Dkjy6VTqExMH5Wm9qdvspwCVt4t14pKDDZSq4gDUqR31AR2poz/OcvW8jDYhLKkpjSmxCDySroP8AFXziG2yA2kJSBMoA0xFvS9hY+kVDe3qpHecu+74ZnWY/Z9ifva04VA8GJSpa4CZN0c1KII3jaJrR8rbOEYabcADkBAAUPMYuBcTz5VZxmceCwt4oJDaNSwgAqMJ1GJjlffakbh7iD768MQtQB1q0t/yJHwgdbGT1JooZoJFJM0lHiG6lBI572H6n9+sOIUhE81mwnlP75jryvQ53HBPmJsP36Dn/AJmqGCxxUS6ZAEhIJ+vra315UXzBPiuIXcWEQJMm5t+pMATzPW1CMRiYcV/V8+m1uk8hXwvFyTf9ekc7z3oPmWIUClV4ChNupj235V9uBmdsv45SdOkqJPLnpm0Tz3I+U9ll3EhRUh7bmTsQT9Beiq+4/e9KHFONTrSgdyr0mwP50O3JQrMOs0XD45CUgaU2FdWSJzPTbxCI7qr2pv2e33/KL+S0OOZZg2C4Hytwm7YB0jT1JAuZHptRTFZ3h38MkuILi0+dPmgJKTIEC1iIMi9As2zFtbS0OMp1hZ0un4tMCBPLnt8qEnFNJw6GvAhcypzWQVz0ExHtXR6a0LUoYjJHJ9419mcAM+SflJsxzxTii54rheUCEgapSSbXmCBNgOfKjqcBmjo8NCnimACQecX81jvNCuAsMl7MGwoToCldrCB//U+1bnhsX4aIFvSpmqvTzdre2cyggDjcQM9oo/ZhlD2FGKZdQpC1hCk9TpJ1beoPvTnz/wAUu55m7iCHm/jQZAPMcwe0UYy3M2sY34zJn+ds/EhXQjn67RULWDzMuvOP0jfw8+/6whrQEzeSIjcbyN+dz2qouP8A7v8AXavAkkwB7D9zXmKWhhsvPKCEj8J3PYevSkvNtvIBXoMTSqE78mJP2hZx92x2EjYMw6OxUNM+l6Jox3wrSZSd/Tr7UjZlONxLmIcmVbJ6JGw/fWruXYw4YpZcJKFf7ayPmk9x+oqlfp1NasnxDqPl+8WtqsHL9O0ac8ZK0BaP9xs6kHvzSf6VCx9jyqgxmPiI1D3B3B5g+hr7wuJN0m4/D6dKCZs592c8SP4az5wOSv5vfnSaLvO3v2/aeIuOshzXEqOkD4krEHsd/pP0r5RnymZKVQedV8W4lSkOTCIKtW9vhmN/it3vQfM1FVzCauaH+muSMSroQmxu5/tLOLzhbpK1KJJ6mhbiydtyYA9a9weFU6tDbSSoqUEg3iT1OwA3rQHfs4DSNYxGp0DmkaAdzA+m5pqxwATEtb4jgbRPeEs6fX4eHMEDy+IQZAA2N4mBH96fXA0B5R6k7mq+BwjLTCW0IAhO/U9f1mkbM8ycWXEeKVN6iALARMEWFxyvUd8Ix2YJI6+053dnlo65StlLavDCYWSdQvzIt26AW6Ul8S4PUtxHiq8PcJsAOcGNwO9Usjzs4Vnw1NKUlJPhkH8MkwZ6Tynfa1DcM/icY8oBSUJWrcchtv2FrXPatJvZvUBgcAw1VLWnCyyUM4dLbSnVh0NpUfLqSQrkLi467V2Tu630JkAFY39amxuAVhYQ+kPNbBRspPdKviT/AIEyKA48eEQ624VtkghX4kGbBYGx6KFj22q7RrOx7TrdPrtqiuzj2PvNm4uwjLjSm1HzECCDMEXFvbasqx7brBGoQkWCk7f49D7TQ0568TJeWfUzU6s6UsaVKImxkageV+f0NL+fqEsyMEe0VrbV6c+n1L/nSfGHyNzE6ltoOiT5lkATN78/WtFwWOw+AyxnxQnUNQ0IuVr1qEj1n4jYfKvnG4CQyy2QlvypBH4RaTfe1VDk4Q+4wtWsJT/KACDcADsSa8axmBc4xIWo8SNr4ZfTnt1hXhbPn8SwfHwqdJQQShyNQIiyFC0g/wA1JT2SowhBQVIMb+34htPKvrKuI1tBSNXwqKSPRUVfzvFIxDQ82lwjyyYBPT5V7ZYtarnvOkr01NWXwCpgdHEanFBlXLc9u3aKZVZq2E2WAALCY+lZdiwtCpmFJmSedxTZw5wbjcYErdhlncFQ8yu4TyHc/I195ZPK95z+qdVcxqwHw6jYquf0obxDmbKGzqWncQJk7g8qvu8L4BmzrinF7HUsnt8IgfSvhGGwCZAbTA56R/airSR1Ig/L1FgylZI/CKeb8WiClnc7En9xSqnFSSpSgVHeetayw5gTu0n3QKnGQ5a9uy3PZOk/SK35WehEG9WoQeusiY7vfrXVravs/wAt6kdvEXb611feU8H5p/4N+EZ+HuE8K0ArQlbkSpxYBUT7/D6Cworj8E2RBSlQ6EA/nQZzHkc6gezGBc1xjagOmCMt7zpV07Z4PEGYvhxhl9GLYSG1onWlAhK0kQfLyI3BG8X7W3sclQBSoEG4I50NzLObEDaKR8lRjFvraww1JCpOowlE3ueXoJPaj0U2XKWduVHf2+s81FARQcdT2jnmj/lN7RzpSbweMU4HMKFtRs7qKB7c1D2Ip+wOQpSErfPiOd/hHon9TJ9NqvOqBHlFM0sa/hwfr+0+r02RgmLP/wDqczbTocfQT/OGxq9zsflQPGYh15Wp1xTiuqjt6DYe1M+b4ZsJ1urSgdVHf0G59qXsY4yhKy2sKWkSlKwUhXm0eWd4VaJkwbWppBv5/iGJppGO/wCct5BhipdhJ7U9P5Gw4z4LzYc/FFxpJESFAgpMcxSzk+Zstqbbc8RS1JSoaEpCSCqOVwASBJiZp2ZELJ3k1usspyRFrmF3HYRSz3JxhGfGQolCVDUFXKQTAg7kAkC8mOdVWcsVjwgIENq3V6G8eh/e5DTxg0lxgMzBfcQ2PTVqV8kJUfamDJsMhpIQlIASABHQcqHXp6zaD84MttTpBOF4Hw/hobcSHEtiEJXcJ3PlGwuTffvS9xF9nrKjLfkI2EAp+R29q0h12KE4569ULiqLwYKl2J56RAzLNGMOhKRob8OyUAQbf0i5qjnuc4teH8raGypMzqKjBtKbQD60W4yyhDqdceYX+VRqKFtgctNRjcvJJyR+En6vT+Ww2dDF/Cvv/dw194WRERYECOSgJ9qW2GcUStpgEpBImNjN4MTT7wZwS+6C466pLSiSlIABKZMSYkWrS8u4fZZSEoQABTFa2EnYoI9+0ylGPiMxxKNLKUup0KE2VaOsTuKFcO49KD5bJBMfO1q2vPcpadSQpINZFxnw6GVJcaJAKtKgPp/ahK2bPKfgnp7R3Sf0GLDkGXM3zlLiYUQaRcS4pK4bkkgykCQR3FPOEywBky2lRIMlQ76iEnkRMT/SapZVgGhiY8rZOoSrnCuc9RMHuO1UdPSKsnOZQ1ZZkAxj6Rf4Y4cdxjpaCg2QgkFc3Okx7agJ6A86bV/Z68lLxZV4pTZnZM2uSogAGdo5b71omXZb4GnSkEOFXiTNhEWG07CSL1OnDfxNSVqDXheGWySUkcjB5xYnnXj6jOcfdx2g0scLye0z/KswGJaWwpSRiGlaVCbakmAoTBKSRIqLEP8A3YO4nFuBTqpCQDyAsEjnMUx8Y5W0/h3AVlspIIUkHVIsDIvAn5TWPZzl7rS9DuomPKSSrUOoJ/d6xp7VuG3OPlJtvhWTvB4lMY0rUpRtrUVHtJmiWW5ohCk+INSR8NpIJ6eu1BlYYxPKnb7LeEvHeTiHRLaTKQecc+97fOnrEUrtMJbqmqrCkfICNfBPBPiOHHYtO5lppWyRuFKB/F0HL12O8Q8QaZQi0Wq5nmYq+BCSALCKScd5iZ3rZ/poFWUvCvDg7ebdyT+UpYrFajJ3JqBSSRArg35gD13NSl/wXGW3gUKWLggg6iU6TB5b2oCkkzpLHrpErJSqec1aw760XuP3/miWGbUAgLFy2XFKiLhaUpEdwon/AK1G6hCkyFAxMkbTJt7UQqw6RdL67B0g/wC/Krq+fu07T868oW8w/lVS69mCwZoZi8zWo32p5zXgB0JJZxBB6KSCPpBHzrMOJMBi8MqHUpj+ZIP96k1aTnBGD85ztfiCFcngwlgCp93w0nupXQf3PL/FP+XsIZQEISEgfU8yTuSetK/BeXeGwlZ+JwBaj67D2Ee80w4rFpaQXFzpHS59h1rLqC+1e3H3x4HcgZvr9Je0zf3nl70vucZ4dClIb0qckJSpSvKVk2EC+k7a/hBUJKZpd4p4kOIaDDXkCjKxErQASnzlKiFTIMDYEiDFBcLiEs/7alCQorKPLpUCFJS9qbA0nQVBIibDlelp9AMbrPwkfV+IEnZX095YxGaOK1IeeLi1LStQSQoABMhPwEgHyiNoCusmPD4dtC0gMKccWA4FLCg2hwXVEp/iQDJkaQeYiTLl2XBGlxdtUrCiVDcjw0JSUhBJhQCSdiRNiA98K8HKw6y7iHA64sTpAOlOq5SpE6ZCtKrAAFIpuxkVcdvYf+RGtHds/nI+C+HilQxKyNSgShCQUhEqN4gC6QIEc+wp3bTFRsoPO560E4s4jQ1GGQ6ht5xPxquGkm2tUd9h1vypBsufmZTSvbhV5gtWdh7Ng2ky3hkK93CQD/4jy+uqnhrF2BrC+HnG8NjBD3iJJKNZTAVJEKuZuRz61q7GLATE+lYtHkvtHTH5w5qOz1dYVxOP3JNUXcZq50Kx+KoerGxSF9rMOsESqjiF8WvUkpoHwRkDrz7/AIi1fdm3NKUWhRgKImJ0iYifyqROY/EegJ9gJJ+V/amjgt8DBtK5rBWfVRKv1rGjRiSGHBnliZrB7xxYQEpgCBXw+7AJ5UNdzC1qGY7NbG9XTcqpgRevTMxkuLxMTekHjh+WVGdiCPYg0ZxWbgzNqS+JscHIQkxqITYEm56C59Kl7d1ysB3jtlOxDmQ/6qRCrCDMX6QCbjvcf4qpmD7jytYKdQO1h+Ecz0jaTOqedA3cUttZRAUUe4tzgiLzeRz63qPDeIuUTpCiLxdMTF+kGO9WzWBzJ76lm4M2nhjGqU0HkyrUhK1DvpE/M1YdzxQbSS2mVK88SNPKUCkbKsXCUsQUeGlIkK1a+cna5VNogSIpkTPlUUncKE8/8Vz9rvUxTPGe/t8pYqrSxQ/WXsTjUaSpYKjpmEkSeXv6UIzvAtYpiFL8MaSUqidKhBE8yN7V684pRKnQNU3tAuZFulVM3zYttaUp/wBwRKkmIG8e20UvWD5g29c9YVwoSZh4anHRhwZJXpkfWJremcInB4VDQsqBJHLsOw2rOOB8sS5mrZKVAgayCPLGnykc/wANPPFyyp7TNr/QGumByNxHTj7zIWk041Otw/RZUdeUq+oj0ryCoX8wHMi/96FYfFKCrwBMb/ufSrGIxBHWT+/avNxPM6w07TgT5xWEB2+VD321agpalLKbArJUQAZgEkkCaNtYxFvEv3/e9c/gSfMhSVJPzHtQ8ntPg+DhxAKX3ARJJEzHX9/pX3g8SgDTNgFFR2udS1GOcrVAHT0qbFtQOQ5W/f0oVisOIj8vb9+9ehoVq1cZHXtL7StaUqmJSDHSwtty2rqX04YIGkBVu9dXuYLZZ7CfobGY8AVnfHWIbeZWkgSASKnez1TqihvzH8vU8qXOIcucj+I55eaUiJHqfzikmNlpyOnvOJqqcnMK5er+GgdEiPlVPirEkMaQ2HNagAkqULi4sgEqvB02Bi8gQa3C2NDjQQLFHkImdrC5ubRVji3LnVsoDaZVq/mKR/2gi3ehUrstG73nSag79P6O4iZleVLdXDGtZmVr/hoNkqkiT/DSFR+GfOBe0t2WcIOrbcS48tpM6D4iQkLRpE6NCgogXAEkbyKvZHlqGNKxHiAKBUkaQdSgownYXA6m29GU4mTNyepMn5mmrtaWOEPEnU+FEDc/WEWUNttobaTpSgCCQJtzEfDeT71ZbRO1VsEyVCTtQPNOIluuHCYCFvbOOm6Gh6/iV2HvQl9XAEY2BPSs84042RhE+EiFPq2G4QP5lfonn2FZdnTmGWpboL+tQB1KKVFSo82o2EE7ACwtaK0jB/Y+hQ1vvuOLUZUraTzPU+5qvnn2WYcDyuOJPUqmPYzTqDylyfvOJhSjAqMZ7cnI/tMxwGVvPqAaiQkuSSlISlNypR1eWI9accu4gVoSF2cjnYEdRO4PUULThcRlLni6kqCgUpURKSCCClQ5Wofl+bBeJS86hLoQZCVGE7k6R/TNovArdtVeoUYnqo1fBPJ7ZjQ7nZ1xFo5VG9jCohKRKlWApXbdUt4hoAa1HSmbDchIJ+Qnmav8KOOKzLDIcBR55IVYx4aliQdpEG/IilV8OJcA9PeS9RdtJAPIhzIHC+3jjNkYNz2UpMJ+gVRLgbiAKw7bc+ZICY77W96tcAZQ2pOag/A5iXGZB2bSFRB5CHOVR8KcLtJcxGMcTpY+FhtMAE6BqUUi0A2A66j0NONoh5YUdoOjxAV2EvyMQu5ngnST/ihGLzebcqSmc8TrcAMp1q0H+nUdP0ivsZolSoF+fyEn8qQelgcHtOlq1FOwMO8L43MbEz6Ve4WyxspL76hrWP4aVH4UkWMbyoGewtvNJWbZgIKRvRnD5lrbSZ5AR6cqJUmz1ERPVXhztBhVlLTbqfFAUnXeRskm1+YFj86bczODaQFpaRJFiAL1mOOxUySbAGfl+dTYLHKdZCCoWiCeUXops2jMnWIGYYlrOMySFOOpbkxpAJKdMwZiN42ojkecB5IUTOhIBk/CBYSOX5XpdwuC+8vJw6XAVuKKnFC+kC5Ue/bqRT2jKMvwoDXhpJULkp1kgGZWY2mOgBiIpe+pLRgZz/aaGv8AsxweR7So+/OpRUVJ2N5i1vSgvEGY6khKlDyqMeu2/S1G834ZQ4hSsMvTItp+ExcSBYiQDWfZVh9T8YqYQqFJ22Hpt36VmjQ+rkxuvxJNR6UHMZ/smzEqzFKVKJ8iwkE7WmB052p44ybIWTtBrOWMczhcW3iG06NDg220Gyh7Cta4nwwcSFpuFCZHpY1VZAFKiB0GdPrvWfiEz9GKKdiRIvB37EbHrB6VPggrwvMrUqR68z6Dfl26VQfSpKyDEXEE/qII+fK9fWMSWlDxU+YAKCTvfZSwDKeoB7mkwDOuuCE57/rLxVBk7C3WOvuDUqHyPhPtMfnvUP3kGUhSnUosFxpkchf5D5ncVYxCBp1DoNupPX8vQmvsZgt2cBh1nhx+uyx2kbj161Hisu8oKTqHbl6jlVVRvcX7fu9fAeWlUpURfl/ms/Wb2EfBx+k+PAVyH0rqJ/6mn8SETzrq1sX3mPOs9p5krvhIgi5Mq69ha9D+IszCoAknYQJk9uZN9r7igT+brVCE6lEmwSCVKMbJAkmBP1pq+zXK3Bi1O4xhxqEAsBxBTqVfUQVASpKRtvCiayxwPkJzJKVjHeecNfZ9j0hWJ8dvDqVcNKSV6gNg5BGj2kjttRrIM1VikKS4EJdaUpDiE7AhRAIkzBTBB2NMPEmdhCYQQBe2/wAulY3l2TuZhj3S0vwkhXmdTI0gAJITBEkwY+tCUDUkj27waXPV6uvymoow/IVUxGc4PDGHHka/5QQVe4Hw35mB3ojgeBsG2hPiB14gQS86tYPqidB/8aF5zwzgg4lKcMlBVsttOgJPL4bexBB52oiaAZ5MLZ4mzDAGIkcX8e4h6WGU+A2d7/xFXIhR/BMfCLwRe9aF9muWN4fDoH4leZauprPOK+G1IeQ4II1ISuBEiQkLjlYQQLCAdjbSMkxASgJnYWotm2raFm9KrWVsx68D7o343MylMp9KW3c7/ihCrkj0H7tSn9oGfYltCkNFIC0lPeDzRcEK78qWMJnjx0BQHlRonUSoxAEzyAvzJKpm9yO4ZMzKVBLApmjcSYVp9ooUJBHT8qxI5WUYn7vq/FE9RO/9/Q1rS8aPBBVIkfpWd4tIdxRWQrQlCp0xPmSUAybCJKyTslCjyoWmJ3kdjN64KtYJ6iExkPhYN51HnKFNPtORBU2RBHbSRrI9DzpixWUA5nhMUhPldDmvtDCtJPqDHsKuZNhV/dPu7kSypxp3oWvDITHWUFv5X51dwmI8JjDBwhRDKEqI/nCAk/8AsADVlRgCchZb6ix/kSvgX0YbAuoSYWta1K9dKQPnA96ov49f3AMtyXFBQSBfTKykG3/l6Jrlv4calrTrJVCUHY85PW527UMVnHhp0psZJhtIEk8haw2E9q9fHaIh2J6/KBcPwm215sQrSAJIsDHcmyB3gnpGwrYjGF4+Fg2kMtC2sJhSuXxXWT9fSiLGBVi30h8nSoz4aNhH5/8AIn2k1p2U5Th8OBoYSSOalfoBUTWawUts7ylSWYZJz+kUeHPswQUBx5RUo3hUj6Ag/MmnrL+CcI0SlLKCLmVJSTttJHpVs5yQICUp9B/c1X+/OOHdRPa35RU5/FKsgDLGNBW7mVc64FwTzakqbQgkWUgBKh3BHS1jINAeGfs3wSVltyXlASVE+UiRsAe/500LwgA1vGEjrcnsPWg+AzApxKHAYCjo0D+UiwjsQD8+tYbUuwAIKjrjPM1WzKwxC2N4ew2FT4jLSEqBAKki+km4+cUJxWJThsSh9Wrw3ElDliqeYt+Z6CmnM8UFNkHmIpCHFjLZLWJhBFpPwn35H1o2i1SmwqvSb1VTthxzJsY/h2sU2MIpBbeSStCL6YFiB+AG4IttS9nHCzj+PJbWEJKPN1ME7DlY7nt7WHeIcDhwpxtTalHYN+Yn5WT7kUrYXiZTqy4uygqQgfCRMgE8+h/SqiNmzcRxN+GU7rstxwcfMybi7hgNJ8rylqM2UBBjlINj0JkHtvTZ9lXFoca+4PmHkCGtVipP8t/xJ6dPQ0j5tmiifMoEyYAvF+XQdKqu4BtCG3W1qS6PMIN0kSZHv+ZpkncSV4xKOt0+SCrciadnXDLiNTm/mkCPz60qNKUjVqlUkk6hzP5dN+nSnHgDjVvHo+74ggYhI9A4B+JPfqPer+c8KJJCk2SLn970FqsjKyh4d4sjtsv4I4iWiFDSFyoiVSg+ZU/CmJkXAvHOpn8UpKFp0pWde5sobpI3hMncnaK9x+G8HUACSdj0M/vah6SdKUpSZuCReRsABEC8kk/pS5GDLxAccdPeXglRblaQFBRSqCIkEWF5MDnEdeVQqSYBB5nn8/7fOodQQ4G9OkpPwEEG0ADTvveK9XiVBJ1jTBgBQukdxvqMmx61nnExyvGQZ7qP7j+1dXzhm2VJClEgn9jn0r2vdpnnmJ/gjbwBlTGGZS+YLzyArUfwoPmSlM7WIJPM+gpjx2YF1pxCULWYsEjzdQRG1+fasWf4ifbWpsAqSmTpPlgTsTsNx860r7NOIEuYVXip0lS1BQnpEfSPnU++u1W3ucKTjM5VgqkoOSJn3GTmYtrKFoWllxZS28UmFJJtChYW52JiRHJ34JwAYYSgABSybdEb/Mjc9TRHizMEO4ZxqykoOoi1hq1JPeFR9KoZPjfFUFz+BMDoFJ1H32+VP6WxCMIMY9ovardTGzEv2t+G36UIefN4N+nv/avMRjY2gnpf8+lAF4oiCowspAN9p57A/h3ppjmYQYnmZYlKgpEDUNgTaYiJFoO1UcjzAk6YJKTFgT7G1feBwCsS9AOlA3jpMx3k/rTjpaYTobQC4SIQIlRJ3v8AUnoaXsG8bR1hV8S+zEqBnPUQDmwbcTCt++9LKcMhKrCnbMmkYltadOlxI8w2Uk1lb2bFsrbcnUhRSYHS3+aEK3U4Ijem8RS8EHgj3hrN8bCYm1BMkxetxGklK0u60rCj/uR5QUzABAiYm+8WoXmGZKXEC375Uy8GlTjiSpE6fwE7DdOkmSEyJ0z5SkEQCae01ZU+qTfFNTuXCn749ZaSkvslWpJZUW1G5IsEg906o9u1JuYZiqSne9hF5J2AHp+dOAbbTjEpdVpQSVIULXKZg9JAIr4Jwq8W4sFLQSnzEAXiEkA/h394qmDxOWYFs/WJzeCdUPMUp1H8Rk8hAA5/KpGcC1snEAn8RCREk2lU29PWiWZMMqWstAoSE2dUVLBkQYQCAN97d7UuYzCLSClGIK7WSlCUQeUkrsO8k9qWsc54Mcq04wMwxwtlgTjgpzGBQKSlIQDNymxBEBNtxvaYrXk5IjmpxRt+IR+VYDw9kjrmIAUoNzeZCirrJk0y4/Fv4YpQt4gKOlBSpUEjlA2qHrAht9QDGVV0zivf2mtu4bDNCV6ExzUoH87UFzLi/Dtj+F5z2sP36VmD75Cj4i0g/wBSwD7yZqk9m6E31aj/AECZ9Dt9aENxGK1AHyE+FZPEdMyztb3mUdthyHoNh73rzJgVuBfJEwf6iCPoCR79qT8uz5twnV5QnfUfzvt6UxHOVNI1ll3RFlBpemOytMEd6TvpsztxzGaKP/oxtxWOhMzWX5jgRiHFLWopRe8TBmJjnf5U24rKcyxTeptDTaTyUs647DTpn1NfXBn2fuuMkPuONIKlSi2tRkgmTZImeRnfYyT+GUrUS7cnpxHQyK2G6TKcbhNBgKlM77W9OVWl4NIaBB8xNv8ANaVxb9m7DaApl1wmQClwg6pMeUpSIPz25Ut4rgTEIAUBqAO29VRrqlyDPCKy2QOIOwvA7pbDynEhJ28wJ+XIUHXgnklSBBAHxA2gn92piwuJcQVodSYMygqIAvMwOVVvDU88hpi6lhSVGDCecm14AP0602r1PgLD2VoqZB6/mIJxuTLw6m1IeBVCVBSCQUHpJ2UP30rVOCftB1kYXHQh7ZLhslzpP8qj8jy3ilvOsmw6WUnxi44ZkatuUaeXpBoHnGYpfT/EA8qfKZG0bda0wxyOsDfoK2G4cfvNvzDJkLSYAg37j0pJzTBrRqSmdA5jcdelBuCPtEcw8MYslxn8LtypA6K5rSOu478tRLDGJQHEFKkqEhSSCD786yVFnyMHovE307bLeRM+Qp7SfCKFqJJLy0ecT8SvEJKgQLAiguIxBCyoOlSkq1aj5lBQIMqKgdR1flzpwzvI1NAlEwdxy+XWlz7ozp0qSEqNjOwHytb9aXdCODOjoepxvTBzx/Mr4T7sE/xWMW45Kipbb0JUSomQARG9+811SqwyPwoUBysv9TXV9z7fpPPsqfP8TFtGVuONrxL5ErBgHnaZtznai3DjgRh1KSogoVDiSZ1GB5knuIt2ihubZlKQmYSOVQ5Bkz+JlSPK3zPX0n86w6CxNpHE5e8PkFD6h/nMKHikJdKQ1rQpKkrCuaSkg6b7+tu3MM+SgNj4raUKCuoLaSJHIxv3ms7zDB+EqSYOrTBIPuPfn2NOmV4orQGx8QSNEWnnpP1I9e4rKotS8dO80C7n19YSxDknVq7DYjYD6ztQ3GvACNRKvKZKr9SO4mTzo9w5w0vFpKyfDaBICiJUozB0ja20/sXs74RY0ENvLSuIBMETPMACelYt1CV8seJpV3cQdwE8CXZ3ChN+RE0SwnEDDC8Q6fO6tYQ20ACvyiJ2lIPvaOsVmuGzd7A4lZUAdMBxANjJEFJ9Lj5GOTMxxxl8+JpPiG5/hnVYc4Gn60wj4GQM5kvUUuLCQIxZRrSh55+ErcUVkckiNp7AUi5JkTGLcfxbp1BTiihuSAQDpBVpIV0J5QfnJmGePZjKG0rbw4UA6qJVpJA80WSI/DMn0p6UwyyyyhhhZaSoedSISUp8x6FYVe5H4ib2la6xiDg4PSaoTYDnrA2P4LwhPiIWyEpEK0pEAxAKoVtJE+XkZr3LchdwDGtYw6vDlwaRCyNU+dZjUItHKOe9G84x7LrSksnxNOjUlCFFCQDqKdQTAMciflVkZzhQlASUjWCSiJVZW6emlXI9K8rdlYgnj3zNFqydp5iy9jQ2/qcZWoAFRCkzoVPS4jcgg9wYoNmOY4Jx2VsLSVDdMonukbLPW3zq3xWtbTi3WFrKEjYE/wAMaUqSNri52tfqbqGacQuKUkQkpUJKfLExBJESkk38qkxNoqlXcSIqdHhsg5E+c1S0lYl55aFXEiDEwQpGpCgR6EHcVSxDLKRIlSe0pUN/wqBBH/bpVvAYJ3EveED/AA5N3PMUpJtCvinbYgVq+S/Z4yhAMTb4lE3PptSt+s8s4UFj7D+8pU6TK5Y4EyfhHFobfkGReOW/Xoa0d7Nmg2mACo7A3IPbvVjOuF8GuC6jSAYLjcJUPU9OoNGMs4IwLJQsF1S0KCkqW4o3FxIEIj2qQxTWHzBxjqOJSNqUIEYZ9j7zNftG4Vcw7TWIUCSoDxuelZv/AI9qVpGgEGbX9a/RGfYFvEtqZdEtridJ5WO4uP7VmXHeRZZg2w2ylwYhweRAdUQBca1hRPlm0bk7bEirU+30RFbW3ZPUwT9meUtO4tC3kgpSCsA3BIiLdpn/AK1tT2dNmRsBz61hTOKXh9BPltIMH+3OjWW8ZLeIbbwy3HeiVCPUkjyj2NJalL2Y4EZKLgEx1zXiosjQ0gKWoeUmyRcjzHlR1jPUrbCknlBuDB5iRb3FLfDfCBccL+MVqUqwaQSEIHSxlW9yeZo+7whhmwTh0Fkq3LZInuQZST3IrH+m3GvAOIB9RVniLmcZ1LzcmwMgd/8AFN2ThLyNSrjlSRjOAnSsrTiFFX/7BqB7SLj2Bo5kWJcwzQbeTCxIsZBvYpPMR8udJ2UeQylxx3zDgrYvoPMXvtNyVsFLylFCAoBRSmYn3BEm03udqW8uxiG0KUlpxYSJlpBJB30rX/Kee0binHiF1vGqGD1DW8QDBuhCfMo9iAm08yKZ/uzOHw4ZaQEJFgBy79z1J3purWCpM498fSe7einrMPzbN23j4kqE30xtN+VqW8ao6xa3LvTpxrh2WcYdMJS4NUHYKmCfff1mg+V4dLz4TGoAWPL61WqvFlYsHeD1mowmWPSCFurUmAgnvFXOHeI8XgFamlEJJ8zaroV7cj3EGtKRw634ciB2IpUzjJYVYAi+1C+0Mp9QkGzX1tww4j9w5x7hMcA25/CeP4FmxP8AQrZXpY9qI5xkQUk+HF97A/KRb1F6wXF4COVHuH+O8XhISVeM1/Ks3H/Fe495ptbAw55/WNafUvSd1TZHsY5/cnRaNu6q6pGftNwRAKkugncaJj3m9eVrbX7/AJGU/wDXrP8AgYjZLl7ayXcSfIPgb5r7n+np19KOY/NxAQyA2gCAEn25UtZRg8RinktNS44rboBzUrkkDmfztWx5Fw5hsuTqc/jYrTq1FMhNoGgfhE2n4jf0pc1vmardW4UEn9ZmGM4Vx76QW8M6pI5kJQI7aymvtWCxDLel9lxpYESQQJBkHUPKT79K0h7FuOgnWrWCfjSQmwPwlKoA6fDM8zV3J8zU4PAIDsk3cAgI8sgkfFAPLcmLCsueMZjLaRlBf8R7SrwnxGtWGbUpxBRp0kRB8QG4N+e/vzmheeZy0i6iSVEBKbqUokmyUi6iSYimtjhHAt+J4belS/ihajG8DSVaQne0RvQrgnhnDsPPYlSlOOg6EeIdRbAHmCZuJMiegtY3j21ozgM2B/n4RdXwCQOYkY7gjMcSovFpDQUZ0uOAKgJhNkhUbkwTzvUOWcENpSsuqUp2YDYtMCTp31AG0mxiSLiNPzrNtIISZpVyXP2Eu4hLi0pKYC5SSSFBJAEX3i3PamKNSbGKJwoEDamF3t1l13HNfdTh8C0ohKQFaUJShOxUCpRELI3mdwT0M73FyXUlDLTin1JUnREpQdpXKgE3G83hUc6o5fxG02z4bwWwdSleZsjW2VKUIBgkAW5GBtVLIOIm23HFrSpCHV/w3A0pCEQlKAm+0hNwQBJtTaru59+snbzwc/Iw7lWeYdGH8FavBU0ka0OADXAnVa0E3lJInrzDcPZ+whUOynWtSm1qQdKQozA1DzAzqgWGqhfFGNZdxKCpxDjbaSXFBJIgx8QCSR6km3UmreaYpr7qpSBqIkpdsCozIKr/AFiLbV4F/KDyxOPbpJ3uIgUOsaS4lWtPiaJBncKSblJJM8hyN6zviPLEsFsJCrjVfmCEkR8z19eQaTj2kYdehaCVJkx+FYMDSQJv0pV4lxYeKVwUmwA69TE+W9471qksH+UPUCRkn5x0+zdCC0VmCSs/Sw/Kn5zMfKU6vasZ4OzJ1nUgIUpJMghJIk2IkC1OKM1kkat/zqPrK7VuYjvOm01QtrU+0MYnMQZRubirfATDoacU46pSQrShJiEgAXBibk7TAAERQFCVOnyhSlRsB9e3qY2q41gMzRhfBw5ZaUpalKWpRKgDEaISUg7yb8ooeiZKm5OJjxGoGsKOuY2M5g0t9bYcQXExqQCJEiQY3251iPGmALOYvhRUoFWoFRJJBEgaje2w9KIL4UxDC/EdBUQZ8RKio6uaiT5p71bx2XrxN1qUtQAEneOUndXqZqmNZWDkHI95JSlq2BMBY3HqeSkGSAIA68gB+VbVwbwm3gsMlEDxCNTiuqjuPQbD0rKuGMlWczwiFzpDmpQP9CSsfVIrfHNjVClha2/OR2nuu1AZQijEGlzTMcqi/wBaRcarjcbR86jxIPxEhIvvzjoffpQ13EqbSSSEnVAki97bW2vO5+lCbUNuwImlQxkw7hMWHNoKeRBqHFZUlSybp1fEQd/bY+4qHBv7GPNEkRAUOoHI1PmGLhIVyG9B1F2Km3jJHPSGqXLjbxBSeHcCw6HWsOhp0SQtEj4klJkA6SIPwkRN970DVmL7oWUsPEIUpJ0oJCiDBKD+If8Azevc1zeylDp+/wC1MOAzANYZpKj5ikT6m5+pqC1oty9vQfD+0pBDWML1mIZ8HH8TLjTjQHlSFpKT9eZp74ayBlCAopvvP96r8f5upK2loVBkgwd0xMKGyhMbz9anwHEg8MHwtcbhEA/KI/L9KorqbPKVlGB7SPradz7WaHnXhpsBS7mKkkEx26R61aczNkq1BLggRGkiOxGx9jVDOHkx5RzvBvavDqC7DIkfUaQ46xfxuESq0enOl/HZfzplfdEbRQrGKtFhTdLNnrF6hZWesXFYc11FFKBrqb8wx/7S01LhLBnCYJL0fx8UdSlWSUtxI0mLbhX/AGPQVzjI8yguUTPz3kcthb/IqxmuKXLbc6Q2huEbhUok9b26fpFHxmySBEcyE+oJiCSedvaK9Lhp3Ogo8usHHM+m8QUg7i1hsY6d78r+1qkyfHfd1FxRBJGnTvuQetvhH7ir+R4XCeA6675iCUifLeIEDkTPeIO0EUDbw7Qve5gklNrbWEH1AG8mKw6EjmNlkt3V4PseOv0hTE8RFRA5qPlCRKj2gST6Cr3+i49SvG1IQjRHhKJKzFwSR5U9Ik+0RQ/gXBtIcexCgPEB0JvOkRJIkcwQPY9aYMfxEkJICpqHalVZOTk9JGvQ12bE7TLM14qX4qmvDUlYn44+kG88j/8AKvcO4dlp9kOqCVuBRK1FJIctANyNybRzNU+IvAxDilKHnaSVKgEyi5O25SfNHRR5Cj2EyxpvBgKSCFo1qeGxURZC4tq1GJPsRaqmmRAg2DGesmawuTj25/CfXGOKSHMOolkrUo6yhUgtwowUxPw9jcjkKkzjPGVYZQbDJb5KCwDJAiEkAL369LUO4MwzQa+8KaLi9oFytN0gxuU8/WewqpiFN/fQiFIbSNRKpT4ZIgyFHc6oJNzpB3vTe046xItkZPeT5C5hkoDa0JU6B/EQoKTA0iT5oAUOtxAFxQR9Ta3VpKkobKpQAoEAwYnkSZk9ZonxXiGy3CGEIj8ZI1GxAgTPQzcn5ihWBxDIbXqSlRvMk+Sx2vPW0dL15ggfOfBB8OR9feSZo6y0po6AJutMyYiBMXvczHOg+HbOLxMm6R5Ujaw6x8/eo/vCUNKURLihpGoTysRPTf2FFuFh4aQob16ABz90seGUiyzLDgc4+c1LE4PCYTChKYU6UiDPP+1ZnmyVKxDfhAa3FBMcpJgE/P5UQx2LVczQfLsZ/wDltKP4Vz8qW1AG7cB0EvFfLqYEksec/tNs4fy5tltLafc81HmTRPFuNpSQBJ60uIzkBAgj2qhis8Eb1A87apULlj3PMm/Znd8mEcXid5vQTDFIcIA3nlz/AH+tDcxzw7DnzoXhMUpTqYUQSZJHIDp3rNGmbaS/AjVtSeUQY35KyPv7Tncj/wBFCtDJG08p/t+VZbjs3cbiHHCEQT5jcTeY36U/5XhwkBQg6gL9Rci/MXJ9zXQeEkeWVBz9eJzeq6iU88aXBKCARcTt/VPXy/sb1SwuEaIIgKUk3kWSqAQIN9oNHcxbJFt6XWsXoWUrK1JFgfLEmIQJMkzYCCdu5o1hCuczKqWTAk7OrXzEXA69SqDAHIelXnSICh8Ktx3r4LyFpkqO02NvfrtvVdvEJUI/ArmbGeUCT2rJQYwDz1/mDDnO4/SCsyylEHSkD0EUPcU5EEEhItHOmVAmx3Fv81G7gelYfSVXgEjpGF1D1n3mF5lma8Q8pagQEkpCP5YNwe87/wCKI4HHaRY+XeDuP71f4q4Ze/1NCGBBxA1dhBhRPaIPcnvTrleQYHByPCGIfHxLX8IVN4HKL7D3oWqaqpQp4x+U2tTXnd1iQM7SFFWrzc71WGZSdI9bVqn+qqKYLbOnpoEbbXNBsbw3g8TcIThnzOlTdkK/5JmBPX60lTfQzYnt2gYKSBM4ckmI9qqrbPceooxjcKvDuKadGlaTfnY7EHmCOdVcRiBsDMdbVYGzEhsjhsYgnR2rqu+MP5q8rfp95ra3tNY40AT4DnhtqlBSoqBJtAHPlJpbbxRWTHobARy7murqCScD6D9J+heG86dSfn+skURq0pVYC5veOtrjtEXr0vlQKSQPRAuReZtyB3ntXV1eljHColzhzLUKQ84tS0pQJITHQnVa8wDba9IZ4hddQop0oBMJJkqgkRPKdJ+Yrq6tCisgMVGf/ZzPiVjfaW+79JQyBtxeITDhEODzEk3M7j8QgERz2NqZsahaQG8O8tLTqgnQkm0jXCdZtI5TFx3rq6vbeOkjv6lOZYVkiUM+Nh3ChxKdagCsESeZJ0r7yPTYVTyjLGnmfFeK1JWY1kJJCwfxapMdAkEV1dXy9vugmQBhj5wGjDpL5ROoJumREknaJttHavMycb8RHk0gJGsC+5J3t1m011dRD1nw6GDc6eKlJM+WBA9LT29PTpVzLsw0CK6urTAYlfw9yrHEmezFSqlyJsqeCv5f1rq6lNTxWcR6+xj1jNiXi2SQYBqVGIQUHUmSRaurqlVgYDd4fTsXUAwTiMchKdESobAWHz6VNkjswYEnf99q6uo9v+3FNaxB2ie8R5r4bSzFydI+u/1NP32QZ6cRgEoVJWwfDJ6gAFJ7+Ugexr2uqh4coVOJGv6R2dvS3nOHVqC0KgiSJ2B0EAwO5711dRNao6zzTE5gzB4xJBheuFabpgLKQVKURyBSCdPcelTM4gGSsgqJInSBtYgQOXK9e11L0/F9091PHT3n23iICZJ1JISrnIO094IPzo+hAiurqNpfjaYs+EQfj20oWX48yGlBJ5jWpIt7gH2peCOc17XVz/jBPnGWNB/tzx7YRzP9/wC1VFu89hyrq6p6KMCUFgH7SMN4+Gw76CdaF+ErlqSUyJveIHzNIJy9yJOqPUf3rq6um01jeWsgapQLDifP3T+tVdXV1N7jAT//2Q==',\n",
       " 'data:image/jpeg;base64,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',\n",
       " 'data:image/jpeg;base64,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',\n",
       " 'data:image/jpeg;base64,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',\n",
       " 'data:image/jpeg;base64,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',\n",
       " 'data:image/jpeg;base64,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',\n",
       " 'data:image/jpeg;base64,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',\n",
       " 'data:image/jpeg;base64,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',\n",
       " 'data:image/jpeg;base64,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']"
      ]
     },
     "execution_count": 9,
     "metadata": {},
     "output_type": "execute_result"
    }
   ],
   "source": [
    "imageurls=[]\n",
    "for i in imageurl:\n",
    "    imageurls.append(i.get_attribute('src'))\n",
    "imageurls[0:10]"
   ]
  },
  {
   "cell_type": "code",
   "execution_count": 10,
   "id": "303d6605",
   "metadata": {},
   "outputs": [
    {
     "data": {
      "text/plain": [
       "48"
      ]
     },
     "execution_count": 10,
     "metadata": {},
     "output_type": "execute_result"
    }
   ],
   "source": [
    "len(imageurls)"
   ]
  },
  {
   "cell_type": "code",
   "execution_count": 9,
   "id": "a54f7978",
   "metadata": {},
   "outputs": [],
   "source": [
    "import requests"
   ]
  },
  {
   "cell_type": "code",
   "execution_count": 10,
   "id": "a20391b4",
   "metadata": {},
   "outputs": [],
   "source": [
    "for i in range(1000):\n",
    "    driver2.execute_script('window.scrollBy(0,1000000)')\n",
    "imageurl1=driver2.find_elements_by_xpath('//img[@class=\"rg_i Q4LuWd\"]')\n",
    "imageurls1=[]\n",
    "imagedata=[]\n",
    "for image in imageurls1:\n",
    "    source=image.get_attribute('src')\n",
    "    if source is not None:\n",
    "        if(source[0:4]=='http'):\n",
    "            imageurls1.append(source)\n",
    "len(imageurls1)\n",
    "\n",
    "for i in range(len(imageurls1)):\n",
    "    if i >= 100:\n",
    "        break\n",
    "    print(\"Downloading {0} of {1} images\" .format(i, 100))\n",
    "    response= requests.get(imageurls1[i])\n",
    "    file = open(r\"C:\\Users\\HP\\Pictures\\webscrapingimages\"+str(i)+\".jpg\", \"wb\")\n",
    "    file.write(response.content)"
   ]
  },
  {
   "cell_type": "markdown",
   "id": "a2c1fb6f",
   "metadata": {},
   "source": [
    "after trying a lot i can download images and also by getting the help from the teacher ,the code didnt work as the teacher told."
   ]
  },
  {
   "cell_type": "code",
   "execution_count": 15,
   "id": "614bdeff",
   "metadata": {},
   "outputs": [],
   "source": [
    "driver2=webdriver.Chrome('chromedriver.exe')"
   ]
  },
  {
   "cell_type": "code",
   "execution_count": 16,
   "id": "913ef5c7",
   "metadata": {},
   "outputs": [],
   "source": [
    "url=('https://images.google.com/?gws_rd=ssl')\n",
    "driver2.get(url)"
   ]
  },
  {
   "cell_type": "code",
   "execution_count": 17,
   "id": "9f108b92",
   "metadata": {},
   "outputs": [
    {
     "data": {
      "text/plain": [
       "<selenium.webdriver.remote.webelement.WebElement (session=\"c511c527b24ab8dbc1aa4d9479569760\", element=\"34ced6f9-eaaf-4031-9088-79c358d7ecf3\")>"
      ]
     },
     "execution_count": 17,
     "metadata": {},
     "output_type": "execute_result"
    }
   ],
   "source": [
    "search=driver2.find_element_by_xpath('/html/body/div[1]/div[3]/form/div[1]/div[1]/div[1]/div/div[2]/input')\n",
    "search"
   ]
  },
  {
   "cell_type": "code",
   "execution_count": 18,
   "id": "c05ae98d",
   "metadata": {},
   "outputs": [],
   "source": [
    "search.send_keys('cars')"
   ]
  },
  {
   "cell_type": "code",
   "execution_count": 19,
   "id": "76bb95ee",
   "metadata": {},
   "outputs": [
    {
     "data": {
      "text/plain": [
       "<selenium.webdriver.remote.webelement.WebElement (session=\"c511c527b24ab8dbc1aa4d9479569760\", element=\"da2e82e2-d4b7-4911-93ba-87abc04870d2\")>"
      ]
     },
     "execution_count": 19,
     "metadata": {},
     "output_type": "execute_result"
    }
   ],
   "source": [
    "searchbt=driver2.find_element_by_xpath('/html/body/div[1]/div[3]/form/div[1]/div[1]/div[1]/button/div/span')\n",
    "searchbt"
   ]
  },
  {
   "cell_type": "code",
   "execution_count": 20,
   "id": "e838def4",
   "metadata": {},
   "outputs": [],
   "source": [
    "searchbt.click()"
   ]
  },
  {
   "cell_type": "code",
   "execution_count": 21,
   "id": "67466a68",
   "metadata": {},
   "outputs": [
    {
     "data": {
      "text/plain": [
       "[<selenium.webdriver.remote.webelement.WebElement (session=\"c511c527b24ab8dbc1aa4d9479569760\", element=\"7ffa7cbe-f8f3-4db9-9b38-c2251747ae70\")>,\n",
       " <selenium.webdriver.remote.webelement.WebElement (session=\"c511c527b24ab8dbc1aa4d9479569760\", element=\"21fc770e-9b30-46d7-bc56-f9526157f536\")>]"
      ]
     },
     "execution_count": 21,
     "metadata": {},
     "output_type": "execute_result"
    }
   ],
   "source": [
    "imageurl=driver2.find_elements_by_xpath('//img[@class=\"rg_i Q4LuWd\"]')\n",
    "imageurl[0:2]"
   ]
  },
  {
   "cell_type": "code",
   "execution_count": 23,
   "id": "7a970711",
   "metadata": {},
   "outputs": [
    {
     "data": {
      "text/plain": [
       "['data:image/jpeg;base64,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',\n",
       " 'data:image/jpeg;base64,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',\n",
       " 'data:image/jpeg;base64,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',\n",
       " 'data:image/jpeg;base64,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',\n",
       " 'data:image/jpeg;base64,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',\n",
       " 'data:image/jpeg;base64,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',\n",
       " 'data:image/jpeg;base64,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',\n",
       " 'data:image/jpeg;base64,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',\n",
       " 'data:image/jpeg;base64,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',\n",
       " 'data:image/jpeg;base64,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']"
      ]
     },
     "execution_count": 23,
     "metadata": {},
     "output_type": "execute_result"
    }
   ],
   "source": [
    "imageurls=[]\n",
    "for i in imageurl:\n",
    "    imageurls.append(i.get_attribute('src'))\n",
    "imageurls[0:10]"
   ]
  },
  {
   "cell_type": "code",
   "execution_count": 24,
   "id": "4a54aef8",
   "metadata": {},
   "outputs": [],
   "source": [
    "driver2=webdriver.Chrome('chromedriver.exe')"
   ]
  },
  {
   "cell_type": "code",
   "execution_count": 25,
   "id": "beeb85b0",
   "metadata": {},
   "outputs": [],
   "source": [
    "url=('https://images.google.com/?gws_rd=ssl')\n",
    "driver2.get(url)"
   ]
  },
  {
   "cell_type": "code",
   "execution_count": 26,
   "id": "814a05f8",
   "metadata": {},
   "outputs": [
    {
     "data": {
      "text/plain": [
       "<selenium.webdriver.remote.webelement.WebElement (session=\"f2b7eb4045540e5601bcf8b0180a3398\", element=\"b814b8e4-10a6-4886-a061-ecae821700b8\")>"
      ]
     },
     "execution_count": 26,
     "metadata": {},
     "output_type": "execute_result"
    }
   ],
   "source": [
    "search=driver2.find_element_by_xpath('/html/body/div[1]/div[3]/form/div[1]/div[1]/div[1]/div/div[2]/input')\n",
    "search"
   ]
  },
  {
   "cell_type": "code",
   "execution_count": 28,
   "id": "e5db2dad",
   "metadata": {},
   "outputs": [],
   "source": [
    "search.send_keys('machine learning')"
   ]
  },
  {
   "cell_type": "code",
   "execution_count": 29,
   "id": "b0de2719",
   "metadata": {},
   "outputs": [
    {
     "data": {
      "text/plain": [
       "<selenium.webdriver.remote.webelement.WebElement (session=\"f2b7eb4045540e5601bcf8b0180a3398\", element=\"9ac4e963-6f38-42af-9b94-1d9e1df55cdf\")>"
      ]
     },
     "execution_count": 29,
     "metadata": {},
     "output_type": "execute_result"
    }
   ],
   "source": [
    "searchbt=driver2.find_element_by_xpath('/html/body/div[1]/div[3]/form/div[1]/div[1]/div[1]/button/div/span')\n",
    "searchbt"
   ]
  },
  {
   "cell_type": "code",
   "execution_count": 30,
   "id": "7550a939",
   "metadata": {},
   "outputs": [],
   "source": [
    "searchbt.click()"
   ]
  },
  {
   "cell_type": "code",
   "execution_count": 31,
   "id": "abd8e89d",
   "metadata": {},
   "outputs": [
    {
     "data": {
      "text/plain": [
       "[<selenium.webdriver.remote.webelement.WebElement (session=\"f2b7eb4045540e5601bcf8b0180a3398\", element=\"44db45c5-c87f-4245-9e37-a33a68f3c4f8\")>,\n",
       " <selenium.webdriver.remote.webelement.WebElement (session=\"f2b7eb4045540e5601bcf8b0180a3398\", element=\"b8f29126-bd95-4718-b2e1-9c22fd5f7d4f\")>]"
      ]
     },
     "execution_count": 31,
     "metadata": {},
     "output_type": "execute_result"
    }
   ],
   "source": [
    "imageurl=driver2.find_elements_by_xpath('//img[@class=\"rg_i Q4LuWd\"]')\n",
    "imageurl[0:2]"
   ]
  },
  {
   "cell_type": "code",
   "execution_count": 32,
   "id": "302469f6",
   "metadata": {},
   "outputs": [
    {
     "data": {
      "text/plain": [
       "['data:image/png;base64,iVBORw0KGgoAAAANSUhEUgAAAQoAAAC+CAMAAAD6ObEsAAABWVBMVEX///99eGrxfSHxXlEXnrAlquHkI1J5dGUApN/xWEoApd/xXE/wdgAAmaxxa1t7dmfwU0TwcQDwTz/87/HiAEL++vsAlalvaVjxexrd7fD0vMX41Nrzs7764OS83OL52+D2x8+npJzyq7f86+7+9vLP5ur0ucO+vLbHxcCTj4T607/0+frxorD74dP85tqt1dz6y8j2nph4w+niAD3S0M34xKj4vLji8PLwSTjybGH1lI33sKvjEUqbmI6y2/LF4ufU6veZ0O70hn7ukKHnT27mQGTl5OL5zbb97+jyhTaRyNL3qaOCx+ui1O/kKFVltsPzkU/1pHT3upfvl6fzenD5xMCBwcztgpZAqLiuq6T0nGT0i4RPteXydGnqbYTnSmvgACf0onDyi0T2sIfpZH1HrtCzyMmhWVvqQE9ZiYtyfWzTOVeLcGfKTGFeV0K0jnOmeFOaeV3vYADJ5s+jAAAfUklEQVR4nO19+UPiWpDusdVmUwRCFLJAJAY1LEEUEEUQsUFxoUXFpdV7u+2ZeTNv5r6Z+f9/eHVOFrawKV63+6EkOSSE81FVp6rOAkL/4AnIIBRpOfS3H34qKEpDkiLwyEgF5FfgXyLlmfzJrsnpu7uEqYgyPsLEyzRvUhxM0GO7xXBQ/H5FUaoBqVqFP8WfUfy4uGi12613nSfvTlvt1mOEqcgohULEH5CUjCT5A5lRbsm1Ha1tulybW53nJGwe1+bRaFV5LgooIikBBaqmRBSlEFEKuFp56zTAnmw/N9MszVSh/lJVQlJACUQahVFuGeVC0SDHngshONj2TAJcHbXmNx1Q6ll7VtWeg4yif7vTKqztapDUSv1YQQoRVIgUMgW/BDv+UW4TDTFsuMSxpSgc2HCdJx2e9lMubLh00rOE0HmI6rieizb3xVFu3AeRnnJtVytt320rvdOoyD//1rQYLeF6UEQooNLt5kIrdQWRQCEB5CjKh1guGhWuGAGFztGVUAIyo6EgGxKioed/HFT1AxmZCEYG/2UK0KCQL1iXit228+8MgiJKYDwtDa1VenOprdjlUAkKIuqcZQTuimMZ+GO4ENQ7HAyXgtHzUDjMsWGBEcLP/xh+P/IXwGRW4T9Tqzb8sBMIBHALcqyKRYfd1EpBbTKBiCIFIvDIgO3MFDKDNETggiypuhgmMk3rUv+DqILjov30LbXUhfcpROOH2p5orQop0bZjgaL4FUmSgA4JKRI8CgVoQkit7qzd+qEJC9YPTAXwhsDUNhSpimC3L0QGW8sgEMIxbIgNcSwfCoYEeGXJ4XI4Jj0dOr/kwkxsJsZTzxEgmZSd3N3Z7cftZbv2aat1GlsKaGgQkQoFZTIBPxroZpyL1Pm5GAUS+BLPlsKg+iFBbVWP7u9ttu320xMuh2czyz61QmPHsd3abldBTnqcOrAFoVma4kVKpCia5ime5hFPG0qC9myudkGftGWf8IFfDhHrNLgQuyfHyePjPJCSt4+j7TCDuGkDJyu4vQa4BIKOXJ63IxEERbs9Cf4lGEtwPadP7J1mdHxYs7m2XB4bhsuTTbtsP17qTk+F5l5obei0fST/ehQseSZVX4s0HLZJ19Lga/5OZKY78VJSwTsMHlS8ManYtXdRYZ9+kTvxng4mgIuLwZf9bYh0EfFSciF2MwFc7L3AnZ6IO1Mq7MXx3ylrwgTEH9uDr/x7kO9WD9XXHLvpTLvMmIAApDMifS2YEwFIDr52NLhMhQJU5G/MVkS6vGX/SV4rM7GZulgYVz0nNOXTl1p7edlDKLRgDIN+8aa1CkE6eMyBAo7PcUESZ/FUY5C09qLCrnqckaTVercLO/6eGhOkEfEZSSpC0N1Hsv3hcbk8aXKshqam1kKNxvgLj+c+OPbatwFicqWBlAIEl5laRI/BVed6+vj4OGnHjiZ2rZLqK0mcxlKzfBn93EgDaARKSdKj/f0FXuAEgWH5KATooRDepdgwjsH2iCSogeemw6Z7Vw6Htqe6GTaS8eQ3bS8fpCrAgoL8AYjRA0oGhxwq8vndXeuJNZ88LhYh/Cgmi8kkxCHJ4vHxSRLowJqV1BQIRWqBhtIowLtUC7X2UF1gxPOQgNNPDIM4eMBRlAEqqE21wtkEyyc8e9tHe8AGPPayR1myk73HBeBb0DS6VzN+DoQYTmjNdY0rl6dBavnwhnkAYbDa88l8sVi82y0CI/niSTI/fZI/OTmZ3gVZAOiGYxci/ICkSIVAwR9R2sWCQizNizRF8yF8QKEgxVMij0Nw3RoAsglPdntvK3t0v7aV2Lo/2jvKpn/sbf24OLq3eQCaxHh4FEUMExRYkC82zLLnQpBhnktHD3O3a9TPaoXIK2m/uwPfAusEbO/IBrZFO6FKZ213qDt2NItBLYtHqrp35PFs7yW2jtbWEkd7l1uTa9tH95dHR4mLS8yU3r54gijKR0GshOA5E2WFUDgcpVnO/H5DI4CqGUwH/hbBYuIOMkKPVrskaL0qIXbTZsSeBw3SM74D2xE6yhmpCCNBoZoE1xpFUYnNdHr7KJ3Yg8cliER66zK9vXaUTqezl9nLRIJVHTDcnFA8TYv8+TlN0yBfoohY/tmuRyOjNCT4DwQUqSFVJUWpYtnOkHB8mtSN5POKRTi0gjWFxx15DYP43qoIQXMTgTeDBigD9iPjB146mREFxMEXGQzzDMfyYZ5k8YKbNofDlcUcUVpobnOBumADYcDhIr43i7tEHJuX+htSY+00CyDgAOcmsbUjRlPJENE4vrvTHGvt658GmwlGs5jMY8t5gmVBy/Ltgh5hLzxSk3BquCpVC1Wgtqp0JLREjmUeBKYUDdECf05FGdKJIW7d32uOdS8PC/RH7SdKODweV3qc9R8NuGEFqTjJ55NFbC3hP5m/O276Fbj7FD9HqlJBCkhAZ0EpFAKBSGduL8ijoBikBFoAiym0ZPE0bPX0K4xMljjmxmI06DY0CQbzjmA6aZiHsSLh6eVtOsZ8p6fCPDB9idB0soeGvJnQdLeH520f+/CLHmLxZoQCGf5kO14i571nai08f39/UE+YqUjnMIPxwExFPH/z4Ir+mO6Si5dhAi05uuTC0zX45HVx12EvrC+QzVNx0Z7edGy+oh9hjnyrYFjvRhpQMhoubYar5bB5Ll7VkeiBvCYZdnty92XvdKlJhsu1ZTZK7U2gzcV8Uew5jNTV28SJfehg/JnAuT3XmxUJwAlWkL9HKnC8+sJZzCdDqtZmZ6cAs1O16ot1HmMIpX1v7ivAe/oQfXNWM1Kdmic8qJidv1Ze6E5U6as3R4jAyOXW/xjDULMxojrbwoPGxtSAMVdPQ2ndoEGH91R4iTs9CdJUFxEY89djD8eEr11EEDJ+v5GOwuq8GRFEMswGsT0DpXUzIoievAkL2ujJBAjGWC3Gg7cHE4B1YZx3ehoapsphcDFGg9GPCeDi1QenKX2ZAC7GpiOlvkwAF6/scEl9tEOzF2OynUIvO2HgdDw3eioGEQFU1MZyI9q06WhD7mEsd3oiqgPUg6jISHNheuFqMBVf11+xGYkMVA+M6zHcSRyoHlgs9sdwpydiGKEAFRmDWIBQ5AbLRZvlpLTxNxQy+qRpfWYEb/QgIdQ9NyJjZt4GmLyhmJiaGoO18Ob2Q6Y60lL2+1vuyrggmPVsZgkz5wIKcUgURIERRDYYDFIC4rggCxuK4gSKDTIs3RbUVatIIg8/7uHFM4IyqCD5Sd85yhTvit3BpjRfu4aKDiCiMTX/7EaE8Xrp3yGQCywc8O8lW6DBK3i146/r0YecV79A60gG40FdlcJ06Oo8FKXDLMsIYYZjUIgNiVcoyoe5aIgKM1S7wW1UCwUlAo+AogSquKs4oEQaBQVLd95qnzYZyl+dh7j8WpmHWIw8ZvGOvq1qB/OF2dln+1lXOaBi/duVt5TjuN+5fRb2Qufnuf2Hkpdjcr/heF8I/s55dcHXhhdkQTwQxTOUIIZZJAg8w/N8VIBCPsSEKY4XOBbxAt8e3BYykuJXMorf7y/AQwpIfj+eDhTRJ0p2D8O8niVUBAJKTaoF5gMNvzQbkK4LgapyreBBRopUa0iR+dlGzzqWV5YXdyYmJlYXF5c3yj1P+/b16zeR+yasiznqVDylvga/oX1QGWFf/CZ+y4mn7B/Uaeghl9MmEOoz7jbNwjRW5avFrgSHHnxQtJt3gc4DFfPXSmG+cO2fKswHqrWa4gfpmp+XClOBmjRLDgKzPYxF+WbC6bRYLHNzExNzsLU4LasrprpEQ/uR+5PfF/7kc+Kfod/01dWpuJ7LicE/xfUH6pQc/3kOVDy0U+GhEP28Frbj69f6xTtHpGZmp64z1cy1NF+oVRWQiYYiXfurDQnqDmUNpSFVa0oVTpsy4wFqDhy0Y87inFjpPpn3fvVSIWqdiqIcHaXWQeX3KSgTrtap34y4DwbxD4EDBfn6Tbti0lAQgTvngQ5GAGngRZ7mR0p7BUAr8HDCDB5fl2lKxUkHFdiruJ6avZ7CD/irVsFikH3ywrX6Kmzmu4hYdVo6aWiysdgpGgKEH6f7p19P//iWo0BZvPvfcrD5egp6k4Oy3D7+/wMO17UrEqrZTMC1UTEaCp/zXJQKiSGB40abagpfccBfwPZTgoZFH5rYMb8Y+TscrNlGr8akgwogokseWmFx7rTfimlGYjmqr7OlU4ESNodjEncO8DxieU4MsXyIxaMhgyNFsH5oR/yBgKQU/JEAUIF2rXaT/o3MUL5mNxU7/YlQyVjuQYV5GqubCsR7xtNNInUIQOQkae/q32hScX09PBUbPVWjnYyJlvZE8A5DA4bhWCBxTFSYoLtr3IhAZhsNzaEgPsXsVHVePTKoal606ByGCGIzmvaTV6nIhbq5+NZ+2IxCKBMqxPHEa0V718iqVipmlQA4FPMSWJnAlFKtBqbAw9CpaDamq0OJhArnjXGZah+80GoQz9LrBWfTi/9OQ16vV3M3MVlNz5vuooLPejx4KAYe96YajCcmvjJWez6Sz5/kdw3luW5SMV8DA3vtn83MN2rVmgScNKpGWme2ql1QnhhoJdqUZEe/0x8qFSJQ8BAM5YLB04dzfp9hS97SvsBe5RhBFZic0TyIly7bEds6I4Jy6etccKFwKIxn658LrMA8gY878L2tdjxS+a6osqEHprMNSan5GzVJus6AL64QKqb817qG6InvcrcjMYCLVe3epZxOBTjg/MPXKMQUX8HjotaFB+ZP8bxUutLOIKfzazaPa3LS5tq82DYcSW0GxaaIRz0znMAxPANkjN6hFEk2R09M21XH07Cb143G9XVjqla7BkccbGitNgu+laS3rbPaW4zKRFMuVLvpFf/EYdnvPwQIr65y++CHAxXcuviVFzSbQb7+H5vGRFSHyxi8pw1dcqXJmgUsD6EpRYnsyD0oux1juO132CM1jIFJ51hNUTr0YzTt0LhYVK/9ptoKkbqK8uwDxQgqFeB4PjDrVI5ShYKEIAlP2xAlhytLtVFxaVrBoZHvHo5o3UW7/9KvBW3SUyP6NIrFbMJJ2pGgZizARGJj6VUjdLCfJGZfF35fkUYmt0aj9GbnwDWbC3OxphHkWULt8yFGS5SbD8w8tk73o6KVFZCL5WFb0Q4slBH10D+dl7sSBCIW/8fmWjMZ2emw0QmbzeYhU4hAX66CDA/2UsQzRkQuCE4oMywTEfMhqqAyfcWilYupf30iE6BVUe8g1yrnVU9xTHaP3yNcOFyOzS3xh2czi9UjLFBcWGCjNB8FRsIMFx6ail4DlwFDUjE19STtULn4N9UODKADC4UZDRoX2RbvikdhikccFQap4IWgKIaivSs/hHqoBiM5kINr0qb++xNMpo7/+L9QzfWHQUTk/sj2mnsJFqJvDcVhfYveQnG3O7B7bDaCFNCPZzAxMfGfOe83dmD32CmNtntPvhzL4M4eloIAXg705WKWTKNp/PtzmJj4j/8iTmS0LxfYu1rqNUli0nE/DiqgIbWbzwxTMxj9uJhV82FLqs2c032sLl/L0teUzGlOZ6g3F7lT3ECmm1PpmlZC05BxzJ0q2u0nu/ljMheIPCBGxbPmjHGJ/m4HSyNCH3azbFFrtLxKOLAsL7ZzYbm5sfSjxKkF7EKvbiHvPqnp2iafmHSos8pgg/cmf5BpqA7POPrZk/bpvNWaLB4nk/lk5i4Pm+PkSTG5e2dkc2qmgjGvR2FIq+ci+N5qxTbaq+yMlIncWMrLplzoPieif5sJRs6rtQAXrvT2RTY9+SO9dXRxtLd3lN3Obt2nHWvb2bHMk9CpKBbv8nfFk2LxxHoCuyf5lsSWdN0pGLPzNSOC3XAaFYIq4wRVDyqc5ZUeYmGIt/Ct08vIrT/occS9hxc3E1vp9OXR1vbR5fbWj7QjnZhMJDxpzzjsJmhDMQ+CkM+DIOyCSBxbj48xJ205Pqk239ST2fnZRkvWfNGQimW0srCDVoAKi9NJ0llkC1QskMMFJxRYmq/oemTZaL4b+3vdGK2IvfBSM6C6d6UnE5dre4k9EInLrb3gxeVaOrF1mdhMj2Wi+rFdNZt2u24riMXMF4875gFJ1RqQALpS65g16TTEfGIF3aDyXyAnWOTBQJAc5s1CpFzGh87ysvMmskzkCL9Cr2pczO20vaFQ+g3C4P16+hBqy0tt2bK2e9feRTqxN2m7z2bvHRdQsue5d2Q9z0pgaTmaXmuW3NnNli3pXuhC1w9MxSpEFMiygDYWyiuLZWSx3KCV1eXlhQi6mYBDZ2QFGNiYuEGLzhu0vFpGur44uz8e3d0mbENwjp3vtTW8A5g0Hp4h17XI6AOR1RnBEj5KWq3Wuwie2tDbrei1Nlw7dFOIqZhzQoTqJN86aAo2EgtzFqIglh20qlKxMLcAelTe+Mu5oOuW0Yb0B69PYO9ytRyTwzEBvoEf9xnjBSSrSlXBy+dq63MkrT2XLDEmFw/CzlwLFROg/0CFxblTpoEVlSdsNkEHFhcIFUATUIHI2p43Oo1GzpfTV1rFznJnC9m5ZpaBzjUI+1ABTERqGUUKVAsBCWTEiDvs1rvjXmwMuayPLuQqFUTaN6DGO1gMiPbMmVER2QBLumBca6R8oxzDCSGIsIUQFw7iNGXLrY56ed62LaJOQ6aspNYlJYp69U8yvZf1GW6iXMRpQgVU+i+sIBtoZ8G5akKFcwW/cqP7YrrDiddwDuNFPkJRocQBJ+eMgOuXuMQr1u71mrQOTpZrm/7h8bjw+kBRhOkbNgTTqWhZaqBbKIYbQVI2pWIDlSOovDqHbUB5QaeCNqiwWIh12DGa05Z3pIO8OpZIN5wJcLg9W9tkIQNTJibXNvEKBzi9t4dQqcSE2WhUYDmuk49AVcIDkMkgZK0F8GvTwNRxBMdmXHQsxtsTLe7Ujv4Vr86Br+282YHWdGf5hhTgV8kWak+2+JU5w0Ff6HMHdflqnKfaRlsmgTr2ukV9si64nWEU5kKCEA1Fo50aEwhgW6HglX2qYD8LVb9We2MdPBMuhp5b3EKFXjFcQwg3SFQ2h+MOUuU5dTs3oR+3RiTONhHkGMNNEIy0vm0PV2yviwttQQv9rCMsTjwPbTHNok5vo5BBSkOJBICOQCEQkUhn1sk0eNvG/YudXAw/Wa6HLz0i2lpTmqN5ThBYlmHDIQ5pE0+13rC1jjyvTQs/mlQMDymgduG0fQ+77fOL74afEWUeYT2LClTiSyGBZa6iPJhOOttGBWIdLdbT5tnTlEBbdA6Iiba1wU8IWfN3VnXtK/w8wnUvIBVksBmuA40oikbbLtUiGK+msx4X9jdtLs+PpgpksVi4LnDGmwtybJgnuc2rIMvwI690nskXk8nkST5vH9ZkYmyMh4p+qZesy+GwtQVcYnp70gGxSOtVuDElPw3AsDzHCEyID56zAhdmQLJGoaENI829Hw8VzRYkqmbqSb+O3rdzlHXsdVrAbPf6HrSqDHgRLgoJNCsGeSooUtT5VeeZQ+PEbs/vDnuy4VcMSNsNgPF+pRDDgoDjlf3DQfzl9rhvtvMnI3qDenqKaxePaJ1Wx/kO9LNog4ry4kAuLD26mJveJl5WTrwCF4lhWUFgoqq3aQITqRg/ItqIPYRdkgJ2y/AqVxkc1prE6Mio3ODGxHBIu15oDjvBTmaQpvBTEImUSaxOkHY47smwNAE1R7SP/cdlTuyGa1GFv4DiryoF7JRAWGvSyBrOs0GF5kQavuScfjS3Wm5/xaBio/t9+wKHI6SDNETxYpgVWVbkmSCPDcRYONCgh6pJ/IspgUDVj50zKSPhpQJNTjdaU50K5+rOBPiaEzurJCyFHQg7oBAIsCzAv3MCv67m+kbKVzSRVjMXeFyJEA6GmTAnQNRBh9jz6FinmB33GOjcA4bd1Kgggdaic4e8BEYAZ38nEC4kOT8n2V20qDpRVrmYG/EjahGHbRsJYby4Ih8UBY5lgxQz3knsWqRKnIthotN2qbDg8HsFWZaXceLOsgo8LC5OQLDqpHHKE6KNyAQErs5VtLwaWVnoNBXDYa+Xl00J4514SFJc5Oejqq1zJwktJiu76KkoPWW1sbq6ipO6Tic8r6IdC6gBWBRnubyAqQBGQDqcN+gv+FclyjmqqdCWmAMvmx7zooKdACecLLYLtqIKtpL8mAxecrGqkJ/j6phzrOd5NSro8gYANCRSJlRAmzGnUhHRqLBgKlbRyqKuXBaTz9AXFAnR8M9lhIUSRSGaEmmRB189qP3Mhtir5XkyAiSmDxSUAkT6hUCDhPpK52BgQ0HwnAenmqqDb3z1rz5UWPCQtI2upnRY8DaPy3MB1WWiXCmEzjkwmOwDU6KiNOxf8WxpTAy0QRk48VxrQ9DG4uLizcQyWp5Y3djZiCxYiK3oQYUTrfyl5TZHbT8IggliIFmIYAUkMIJQCkMYFhIYjhGFEDWO35p6ClQxV/exzQS7MgFfOu4H6qYCaVSAfdjYwVx0dAg9FULrwfATg8YMtRV1Esxhj2LCOWeZALdi1TJHegPJMzgUc0Aa7iaccwIxNzcbpCPkSULxZtHhcave5Fy3V9mEEy0uOP/Cca1lPELxVrAy8gA9cLXLG2XSifTBfirUPMrqB+fiysYydtCXB7/7u0J59HGbeJbhXGt4/lEwuopowvHB1ANjcN7GDAujutzvAk8Z7+78aIZCw+izIJyje9zvA/TEiHLxYZlAo+rIR2YCT7cdmog5p8ns9I+E5cFTj1W0zbn9mCgPZTDmnB8r8OiB5cFTsS0TH9Kd6EZksS8Z4HB/UG/CDJGbXj2COGPxiYggWFl1dtExZ3Fadj68tTQBvbE4saD3f+H878LqzScxEaYobyz/v//+n//575uVPgsgfRo8zvh87vhrf4o3gUffly8zsdf+FG8C/1BhgFDxj4IgdCDfYirqsTf2c+cvifr376nOMvmnzz0DTAAXM+7Dx4Oui2KxjycuSz5oJ2YO28pSX1QaNPhm3N/bTcbBFzeUvStxkWX8jKthfId4B+pgfM+36nf/s+WidiJUNtzfWyRjyY1P8GH+xj4E4KWQqtMpuVJBB6lYKlWJp2BHho0sx+KxilyRY+jArdbVbVTpp7uLCJWMivG29Rn1GhnJlRiwQS9hdm9R/VUqORwqFajwoxyTYykZ2IihytKjLMfhEAoe47EUiutUaNK+dDhjRgQ55Ux/W1WSvsw8ohR6jNcrqVSqfhA7k7tMzhsCfFuxA9wExJYACNQlRseg6CBOH8SX4B9kXa2n5j8cfDEVCe2c79rb6lRgKauDYMQP5ArCIvJ6NR0HHokU+L64H+GA7scE1P0WX3FwqwmOu7thed+4dUN7eeabmfHJ6FdfJrCXAYbCDeeCYfW537JpeBrAooLtO4MaHg5gAuvE4YzPnUKpQ/d3+bU/+IshdugbyARw4XP/fFf+xNMwmAjA4WeIz2Luobh47Y/5d+B2CP0ADXnnLeYwWBpOKHy/XvuDvjxSM61ms7eEfDhvohu3M4+qu3WIn+o9uPB9Bg3x+eTHOjhPv84gAE/B0wx2pfAT2X5Rt79mfGeD3+t9AwLvg9jPw1jsOwRsdbmekus/IYSLQcmvWDwVn5Fjv+Kxs3hK9b4/MuJun5z6marXH+uV/5Xrt/B0dnaY+t/H1ONZ6vYxdSs/nsluOeX++M1pDGIQd/x7TP5Zr0CNYady9uiOy7/i8m3ltl45jMm3sRk5Jc98AirAJPp8xj8YB9iBQnJECsguWM7X/qgvjVjPlE0XXvujvjTiTQ+rg5SuZvW1P+pLo+lszuDUpc/4O7wlrpdBiO/DtyDIqOsM6MrM7czhL9+X718ODw+/f/nuI0caFY+v/UlfHEY0NiPPzIBfkYp9OUjB8209/lippAxb8gm8zZRRV9kNreptXf4lu1O/oCGNuVOP8pnOlPvjZ24MYzETk+t1+RH8ioq7/gvcK9kNvqcuNJ8hMm3RECP2AN8CdyN+ccdudQX5BPqhjiHohcOzT9GUgjMNzxWTntIWNNvSj5fy1xH34WEDFZzTvx3C4cRaAyoSq9ffX7o3RoNF1PqGSS9vO7ROcSDiV0zrKesHt4z7S77jbIb7Z+d7vXWkUigWT6H4knyAvqNK7ADJBzE4klEMxZb0TnHfIengGaZ3LPZLy/zNvDdf62elcvAYg6YRaiHXccd6pf4Yr4DTdFCvpNB3n1FHwNKAPlNVEHQPxE3TwCw6WEKGtL3p0RbxWFyOVeKyDJ86jipyTD5IyXAkx+X4QQydGZ3iBH250HvSaX0gQjx1UDmQsYDVcUd6fCkeg3eOwdvG3kkuONbS2ymr1TLS2P3GV+gKQTfHZNRTlZQMRqYOWndQj9flVKpC14m8vT+AGfThDuHWAjMiWkfdqE0NhKixVCyWiseXYgj0DVjAQ1pA2qD0XfYtV77/ah901mMsVkvjQ+MM14yvszl6f83rYKS+tElG9wg9PMDx47pa7YidzeCOEBKPuA/r78QIvhQO5NQv32E99ZlG8/bG2cfv/hkW/1Bh4B8qDPxDhY7Yoe9TjLwajEc3Hpz5Hj3ocSPWEZ18Yjwa4XtTMMhUCgi74PldBhlPRHN4fx3PdZBlPHmCTKmAyKuylIp/HtXR8lszKfQYq6dS9RjCTMiPBygVu42loPDTqI7aReSbgb0DtEQv4RlBsHms4xQpTlx9Ioc8RnqGOr/6N52yeznI8pswjv8fVEKpxYP26mkAAAAASUVORK5CYII=',\n",
       " 'data:image/jpeg;base64,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',\n",
       " 'data:image/jpeg;base64,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',\n",
       " 'data:image/jpeg;base64,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',\n",
       " 'data:image/jpeg;base64,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',\n",
       " 'data:image/jpeg;base64,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',\n",
       " 'data:image/jpeg;base64,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',\n",
       " 'data:image/jpeg;base64,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',\n",
       " 'data:image/jpeg;base64,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',\n",
       " 'data:image/jpeg;base64,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']"
      ]
     },
     "execution_count": 32,
     "metadata": {},
     "output_type": "execute_result"
    }
   ],
   "source": [
    "imageurls=[]\n",
    "for i in imageurl:\n",
    "    imageurls.append(i.get_attribute('src'))\n",
    "imageurls[0:10]"
   ]
  },
  {
   "cell_type": "code",
   "execution_count": 33,
   "id": "7aabb1a4",
   "metadata": {},
   "outputs": [],
   "source": [
    "driver2=webdriver.Chrome('chromedriver.exe')"
   ]
  },
  {
   "cell_type": "code",
   "execution_count": 34,
   "id": "70c75f9d",
   "metadata": {},
   "outputs": [],
   "source": [
    "url=('https://images.google.com/?gws_rd=ssl')\n",
    "driver2.get(url)"
   ]
  },
  {
   "cell_type": "code",
   "execution_count": 35,
   "id": "58d2b80c",
   "metadata": {},
   "outputs": [
    {
     "data": {
      "text/plain": [
       "<selenium.webdriver.remote.webelement.WebElement (session=\"289365a0680183b8cc7fca47c7e09f5b\", element=\"7fc5815a-291e-4018-b910-2eeb94ccb6c7\")>"
      ]
     },
     "execution_count": 35,
     "metadata": {},
     "output_type": "execute_result"
    }
   ],
   "source": [
    "search=driver2.find_element_by_xpath('/html/body/div[1]/div[3]/form/div[1]/div[1]/div[1]/div/div[2]/input')\n",
    "search"
   ]
  },
  {
   "cell_type": "code",
   "execution_count": 36,
   "id": "7286271a",
   "metadata": {},
   "outputs": [],
   "source": [
    "search.send_keys('guitar')"
   ]
  },
  {
   "cell_type": "code",
   "execution_count": 37,
   "id": "e8abf681",
   "metadata": {},
   "outputs": [
    {
     "data": {
      "text/plain": [
       "<selenium.webdriver.remote.webelement.WebElement (session=\"289365a0680183b8cc7fca47c7e09f5b\", element=\"57d269a5-e826-4740-8155-2ad50e22fc38\")>"
      ]
     },
     "execution_count": 37,
     "metadata": {},
     "output_type": "execute_result"
    }
   ],
   "source": [
    "searchbt=driver2.find_element_by_xpath('/html/body/div[1]/div[3]/form/div[1]/div[1]/div[1]/button/div/span')\n",
    "searchbt"
   ]
  },
  {
   "cell_type": "code",
   "execution_count": 38,
   "id": "9eca0c27",
   "metadata": {},
   "outputs": [],
   "source": [
    "searchbt.click()"
   ]
  },
  {
   "cell_type": "code",
   "execution_count": 39,
   "id": "781e893a",
   "metadata": {},
   "outputs": [
    {
     "data": {
      "text/plain": [
       "[<selenium.webdriver.remote.webelement.WebElement (session=\"289365a0680183b8cc7fca47c7e09f5b\", element=\"db7e0eb7-654e-4cba-b420-314550a0c4d9\")>,\n",
       " <selenium.webdriver.remote.webelement.WebElement (session=\"289365a0680183b8cc7fca47c7e09f5b\", element=\"6e68ac05-0c5b-4f60-a930-58a478ac5892\")>]"
      ]
     },
     "execution_count": 39,
     "metadata": {},
     "output_type": "execute_result"
    }
   ],
   "source": [
    "imageurl=driver2.find_elements_by_xpath('//img[@class=\"rg_i Q4LuWd\"]')\n",
    "imageurl[0:2]"
   ]
  },
  {
   "cell_type": "code",
   "execution_count": 40,
   "id": "cec0a716",
   "metadata": {},
   "outputs": [
    {
     "data": {
      "text/plain": [
       "['data:image/jpeg;base64,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',\n",
       " 'data:image/jpeg;base64,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',\n",
       " 'data:image/jpeg;base64,/9j/4AAQSkZJRgABAQAAAQABAAD/2wCEAAoHCBUVFRgWFRYYGRgaGBgcHBgaGRgZHBwaGRoZHBgYGBkcIS4lHB4vHxoaJzgmKy8xNTU1GiQ7QDs0Py40NTEBDAwMEA8QHxISHzQrJSw0NDQ0NDQxMTU1MTQ0NDE0NDQ0NDQ0MTQ0NDQ0NDQ0NDQ0NDQ0NDQ0NDQ0MTQ0NDQ0NP/AABEIAW4AigMBIgACEQEDEQH/xAAcAAEAAgMBAQEAAAAAAAAAAAAABgcBBAUCAwj/xABLEAACAQIDBAYFCQQIAwkAAAABAgADEQQSIQUGMUETIlFhcYEyQlKRoQcUIzNicoKSsSRTssE0Q3Sis9HS8BZEkxVUc4OjtMLh8f/EABgBAQEBAQEAAAAAAAAAAAAAAAADAgQB/8QAJREBAAICAgICAgIDAAAAAAAAAAECAxEhMRIyQVETImGxBHGB/9oADAMBAAIRAxEAPwC5oiICIiAiJ8MW5VHZRdgrEDjcgEgW8YEa+UckYJyCR16d7G2mcD/KVvseniapYUa7qUANhVqJe9/Ry/d+Im++9Zx+ExSotQrTFFnaoVGUmoMoUBjckg3GnCcvaTYU0QaBOdXpKdXuQ1Ni+e5ynrrplC2AIk7RztfHP66/lIcRs/abHK2LJA0BWs6g6A3JVQWGveeq3ZOHsypUGMoq7sWGJpKTmYnSqqsLnlxnEoMM65ycmYZrcct+tbvteSml0BxWHGFUF1rP1LuAcjXp5mdj1uqbkGx04TMxtTfjxP8AS5ZmV/8AJ9vecdVqKq1QqICxfLYMWso0YkE2bTuMsCWchERAREQEREBERAREQERPFQXBHC4OsCL759EcDihTyZggLZct+qwPWt4GU3hULIyrqxdDa4HtrqTw6zr75LaWzNqCljDjAtOmlB8pQIRVIOmuYkLZb8AdRwnLqba6XCVKOTLkGHRbMSvULu7qnBWIQ3PPneTutjmYj/rTr7HdEV6hClqoRUHWzaKWOdTltZhaxN+7S+9uKM20MOb3u7n3UqjfynOwe0C1eizC60iMqMWcBUJfKSxJIv8AAAcAJ3tl7QfGYyiEHRuq11V2Y1CbpVYZidctmy25A6EaWzERvhWZnU7+pXBh8luplt9m38p95Afk5XaBaq2NorRXKoRQCCxJJYkFm0AA/NJ9LOQiIgIiICIiAiIgIiICIiBFN49rU6uExSLe/wA3qkE2Aayn0dde2VPgNnVRRd2QhGTMrFluSQ6Icl8wUlyAxFjyJk3X5PHpfO6hrviFejXFGi2bqO1zTOrEMwHVBsOMh2ytrVXoOjv1KZwyqLAFafSare1zwJ1v60xdXHM64c3ZtMs4CgkmwAAuSXIQADvzW85K9yMHUo4+maq5BkqsDmRlsFZSQyEroQQRe4trIrs12Rs4OV0K27mBzAe9PhJZumr43FNTrkui0qwuBlyh20OZbENma4N76d2mK62raZ5+tLUwW0qdUkKTcC9iLaTekI3B3PrYE1Gr4hq7OFVRdyqqLltGPEm3u75N5ZykREBERAREQEREBERAREQMSnd6tjmjiMUEU5KrCooVSRcUqjMNO2oxPmJcUgO+20a1Oui06joOjqXCsQCQlwbDsOsxedQ3j3vhXVbBPmfqPq726ja2WplI0+18ZaPya7N6PDPUZSHq1HJuLHKjFVHhcMw+/I1/2viLfX1ODesfYQ/qT75YO7VZnw6MzFmOa5JuTZ2AufATGOYmW8m9OvERLIkREBERAREQEREBERAREQMSuN+1viF6yjqVeJP7te6WPKy39N8SB9ir/gqZPL6qYvZylQe2nBuZ/dp3Syd1P6MmoPWqajh9Y8rBeX4/8KnLN3Q/oqfeqf4jyWLtvL07kRE6UCIiAiIgIiICIiAiIgIiIGJWW+9a2KIAU9WpxUHhQQ8T4yzZV++lMHFtd1GlXQ5r64amOSkd/wDu0ll9VMXs5Yrm40T1/UX92ndLI3PfNhUOnpVOAAH1jchK1Wmt/TT1+T/u0+xLF3I/oiWYN1n1F7ekT6wB+Exh7by9JFEROhAiIgIiICIiAiIgIiICIiBiVXvqP2x//N/9rR/zlqSrt78Q4xdQB3AHSaBmA0w9A8Ae0k+JMll9VMXbjXA/v/4SSxPk/a+DTxb46yvMTXcAkVH4PwdxY5FsOPGWPuQzHCqWYsbnViSeA5mYxdt5OkjiInQgREQEREBERAREQEREBERAxKs3tcfO6vVU6VNSX/c0OxgOGnl4y05Vm9gT53VJL3s17IpH1dMcc4voBy7fGRy9Qri7cjEVFHqJxfS78kB5PLH3Ha+FFgF6x0FzyX2iTKzxGTMozPqz8ET2Bf15Ze41vm3VJIzHiAp9FeQJ/WZxdtZPVJYiJ0IEREBERAREQEREBERAREQMGVXvVTBxVY51GjaHPp1VGtltLUMqzeul+01TmUXVuLDtAkcvSuLtxa6ZnW9ROrnA0fQFBp6HbLF3CAGHYAg2qHUX9hO0CV0aHXJzp6Tet9lfdLB+TxbYd9VP0pN1Nx9XTmcfbWT1S2IidCBERAREQEREBERAREQEREDEqzemnfEVeso6rcWUeuO090tOVVvRTvXrHMo6rcSf3p46SOXqFcXbkVKeY2vSHXcaOgJso1brat/ICWD8n6ZcO4up+k9Vg39XT5jwldjDjOOunp1DxPMDulibgJlouLg/SA6X/dp2jumcfs1k6SyIidCBERAREQEREBERAREQEREDEqnedFNatd1HVbk+n057F8pa0qfeV16XEauLq4NgvD5wQRqe34SOXqFcXbl0qK5/TTR3HB/ZB9iWFuEAKVSxB644X9hRzA7JA8OUDsQXBDvrZfZANtZPNw8vRvlv6Q427D2TGP2byeqVxETpc5ERAREQEREBERATESObc3mWi3RUl6St7I4L94j9NO8ieTOnsRtI5r18ZTT03RPvMq/qZX2IGMrm9bEZF9ine1uzQhffn8Z8ae79EDrNUbxYL/Aq/GSnNWG4xynbbwYQf8xRPhUVv0MrXb2IRnqsFRg2Yg3fUHFGx0cceP8A9aTcxGx6Ci4RvOpVPwL2mntAuLhXUDIbDOgsBXsBa+nV07rWk7ZItxDdaeLXo1lzN1E+sqc6n+uTrcOoDTewA1GgLH2vaJ7JDUd7nrgdd/61Dz5WPwkk3IrN0uRnzZqTt6QYdR0HI/bPxnuP2L+qdxETpQIiICIiAiIgIiIHB3o2o1Cmq09atVsid2l3qHuVdfG3EmxjOBwi01sNWOrOfSc9p+NhymztSr0uLqMeFMCinuWpUZfFmVT/AOCPPKicea+58V8ddRsAmQNJ6UTJEio0cZwM4G0yl2vm9B/Z/wC8G/x+EkONHVM4G0XcF7Og6htdl0+nNvhYeM1V6+aMgPBvrG5rzM2tnbSOHZK9MEqlw4JGtNyc3AaWKqb8rXOgM+Jd831i/WH1h29wm3s65XrOG4cDe1yb30/3aU348szG40sLZm26FcXp1BfmhIDL4qdfPhNuvjaaC7uiDtZlX9TKvxO7KNrSfo/sMmdB9wZlZfDMQLCwE+VLdd/WxC219CjlbxzO7D+7LfmrpD8cpzjN88Kmiszn7C6fmawPlec6n8odAtlKMB2hkJHit5xqGwMOvpIammvSHOD4pol/BROk2FpspQohUixUopUjsK2taYn/ACI+Ib/GmmExSVVV0YMrC4I/3oZsyGbqKMPVNBLilUVnRb3CVEKhlUk3yspuF4L0bciAJlL1tFo3CUxqdMxETTwiIgV1hSc1XW5+cYvXwxNYAeQAHlN5RPGKTJiK6EAdcVFH2KozZj2XqLWH4Z7UzgyRq8ums/rDKzN5hZ8cTUyjiLkE3PAAasx7h/MDnMtNbaNUKpHE2vYcbdp7B3mR/aKEs/0aHqDXO2t61/b77+flN3FWZGZ2ypq3WOW4Gheo3IdnkF4XMZ2htanmdgGK9GjXAAupqJawYg8+YEpWunkW27pTrnqJ9afWPtcfTnD3mx1ehTpPSIp9ZgxQhweGUOGLAa5rcOJ4zNTbNPpCMr3+cMvBeOe3tcJ62XtfDvam3VL8OkACnVhlzXIUn7QyngeIm6xrmYZtzHbqbmb0nEXo1iOlAJVgAA6jjoNAw5jmNRwMlrCVbvJu+2GIxGHLKqtcgXDIyniOyxtdeHMdW4Wc7rbeXF0cxsKiWFRRprydR7LWNvAjlM5KRryr08rb4l2Cus9ZZ7YaxaQUe9npfEUPsu7HwFKop+LrJjIvu7QzV3qcqdPID9qoyu6nvCpSP45KJ3YY1WHNed2ZiIlWSIiBF97MLZqVceqeif7lUgI3DUioEHcKjmaCyWbQworUnpNcB1ZbjiMwIuDyI4gyG4OoWRWYWa3WA4Bxo6+TBh5Tlz15iy2Ofh9lnLxr5my3sGJzEckpXuO4lg5v9lZ1VnE4uL86K386iX/jYSFW7IfvntJmfoF0VMpcDgXtdU+6ikAd+Y8ZxcWeo+tv2al8Xpf5z47Tqlq9YtxNWrf87aeXCfXFnqv/AGXD/H5uf5zoiNQzLNRvpm1v+1N/GdJz6qgon3T/ABtN+t9a2n/NN/GZz6j9RPA/xGaE73N2icTRejUOZkCrdtcyN1UZu0q3UPari/CRalinwGMLIDZTYofXptYlD3jt5Ms2NxnIxLAc6Fa/4VDg/mVZ6+UBAMWbc1v/AOo5/nbyivc1+2bfa08HikqolRDmR1DKe49o5HkRyImw7AAkmwFyT2AcTKz+TrbmR/mznqOSUv6r21XuDAe8falkVaWcpT9t0UjtUm7j8geQtSYvpuLbrtJN38OUoKWBDPd2B4gvqFP3Vyr+GdWYmZ2xGnORET0IiIGJCFUBqoHDpq3xqOT/AHiZJNu7TGHotUOp4KvtOfRUDn2+AMiuBpFEVWN21LntdyWc+bMx85z554iFMcc7fcTj16dnHK4enfsNy9Pz66flPZOyJo4+iGBJ0BFifZtfK/gLkHuY9k5q9q2hVm+GCNPEu1rJVvUXxY9dfENmv4iauKbq1f7Lhf4cJLF2ls9MSjUqoIcG9wAWV7fWIPWBHpKOPEdshm2t3sRSWsQhdDh6CrUQZgxT5uD1RqvoE6jhOmloniWZc2s/0rf2pv4zOcx6i/i/Uf5zo1qbGq4CMT86fQKxNs51sBOpsjc+tUVGrg0UzN6Q+kcEJZUTiDodWGnYeE1Oo5lnbd+TvZxJqV20UjoVPbmIeqw+6ijX7XdOHvhi+kxTkerp5ks5HkXt5Sabe2pTwdAU0UKcpRKY1yi92DG+pJ1c+WpN5WLuSSSbkkkntJ1JPnFI3PkzafgRyCCCQQQQRxBBuCO8GXfuptdcQuErGwJqFXHJanR1VPvYi33xKOks3HxBfpsMDYuoqUzwy1qRDKb8r2X8k1eOp+nkT8P0ZE4W6u2xiqAY6VF6tReBDDnblex8CCOU7soyREQMREjO+G0WVFoUz9JWuL+zT9dj5ae+2tp5M6jb2I24uPxvzvEZgfoaJyp2PU0JfvA0I/Db1hNoCfDDUFRFReCiw7+ZJ7ybk95M+15w3t5Tt0VrqGRPJmQZiYaaOIwYPAaDgAbMv3CdLfZOg5EWnycupPBjkT1jTcmycyQCO+7cfKdKfV+BHKy/oJ75MzVy3q1QfQe2c/1qjS/bkA8r+cj28+2Hw1EOmTM7lBZixHVuc73JPDgGHHhxkwaglyci3zccov8ApIZ8qI/Z6PdXI99Nv8pTHqbRGmbROlc4nEu7F3Ysx5nsHAADQDuE+URO1Em7sfGdDXpVfYdSfu3s/wDdLTSnmr6J8D+k8mNi6quIbBYgYlbmlUIWso7WICsBw10/EAPXMsqhWV1VlIZWAKsOBBFwR5SDPTDoUcBgyZWB4EEWYT6bjY9qTtgqpJy3aizcXQ3JGml+JPeH4C0jivviVL11yncREuk8MQBc8pAKNfp6r4k8HOWn3UkNlt94jN7pId8sSVw+RTZ67rSB4EBgTUYd4pq58pxKShQFAsAAAByA0A90581tRpTHX5erTNoJicy4Jiau0NopQQvUbKosLgM3E2GignnOSN7sL7Z/JU/0xFbT1DyZiEgBn1J08l/QSNf8V4b2z+R/9M+9XebDqDd7WWmT1X4OqsvLsIiaW+jyh3CdfxThb5bLbE4VkUXdWDoO1l4qO8qWA7yJ5fejDBiC+ocr6L+kCbjhPqm8NJxdBUcAm5SjVbha/ooZqlbRzEPJmJ4UwR/+cwRxBHIxLC2rW2XiSXfOHPF0R0Y97ArlY95BnLwuw9n1XVExGJuxIAKLyBOpyAcAZ1xfjmJQmqIzsbr7HbE11UDqIytUbkFBvl8WtYDvJ5Se4TcLBpq3SVPvvYe5Avxklw2ESkmSmiogvZVAUeNhz75O+aNcN1xzvl6M521qTDJWpD6Wi2dbcWAtnTwYDh2gTpEzDTnrOp3CsxuNJjs3GrXpJVQ3Woisp7mF5tSJblVshrYY8FbpafH6uqTmUfdqB9BwDLJZO+s7jblniUQ3jq58Sq65aVO/cXqnX8Sog8qvu1FnlqmZ6rkWL1qnupt0SEdxSmp856E4stt2l00jVXq0XgmYk2kb34H7Mx7Cn8ayuksSNR75dBUGa9TBo3FFPiBLY8vjGtMWrudqowuM6Ji3R0ql7i1VXdRrxAV118bjunRxO8b2YImFQ5aKhhh6Taqiq/pK11DejceiNL2kwxm62Gf1Mh7U6vwGh9041bcYepVI+8gb9CJWM1Z7YmlnGqb14rrZcQUBckBERLIeA6qLr335cZpVdr4h75sTiH1OjVapFjfkW4acLet42kabinnWFu5Lf/OdLC7l0U1cu/cTYe5bH4z38tY6eeEoENBOju0hOJpWB9I30OgyNqZZGG2ZSQWREXwUD9JtpTA4CTtm3GtNxTTKcBPZmCInOowZgz0IIgfPD1OjxFCrwAfom+5XKqB/1BSPgDJ7K+xtEujopIZlYKw4hiOqw7wbHyk22djBWpU6q8KiI48HUMP1nXht+qGSOUHwD5qVNvaRGPi6hj8TNgCamy1K0KSnitNFPiqAEe8TcE5bdyvHTJmDDTM8esCYmZgQ8DFpmYE9ACZtMCejAzaBMzEPAzEzE8esCCZlZiejzecCjvkKCiiGAFMCmB3IMo/Sd9uEi/8AwgtX6XX6Tr8/X6385bF8sX+EkVMrVUJF0rVRYclZy9Nf+nUT9ec+gM3N4sNkrh/UrKAeFhUpg+8slvKjNNZjJXVpe0ndQzImDEw0QIvCzx6QIievATMwJkwPcxF5gw8DF5hjBh6ysw0CYMD44uqUR3AJKqWCjiSBcKO0ki3nJnsvBijRpUgdKdNEGvJFC/ykUwmH6WtSp8gwqPx0SkQy6975BbmM3YZOZ1Ya/qhknlobWwIrUmQmxNircSrKbqw7bEDTmLjnIdTZgSrLldDlZeNm46HmpFiDzBHhLAnF23sYVrOhC1lFgx9Fl49HUtyvcg8VJJFwWVt5KeUfy8rbxR1jpAM+BqkMUZSjr6SNxAPBhyZTY2YaGx5ggfZTOKYmJ5dETuCZBniegZ49erzF5iJ68ehMzyJm8DJmJgmZvANEwTPV4GFnitVCC7cNAABckkgKqjizEkAAcSRPNSsFIADM7GyoozMx7FX9SbADUkDWd7Y2wyjCtXsagvkQarSBFib+vUIJBfkDlUC7Fq0xzb/SdrRDZ3f2aaSl3A6V7Fra5QL5KYPMLc68yWPOw7MTM64jUaQ3siIno0No7Np11y1FvbVWBKsp7VYaj9DwNxI1jNiV6Wqjpk7VstQD7S6K/itj2LJnExakW7ai0x0rqniFYkA9YekpBV1++jWZfMCfUGTPH7No1h9LTV7cCQMy96txU94InJrbqKPqq1ROxXtVXxJfrn88hbBPxKsZftxLzF5vVd38Stspov2kmpS8wuWp7r+c4m0ccMOPpAeNup1v1yyU47Q35Q31MyTI2u91D2av5U/1zp4HaqVvq1a9x6Vh+hM8itpJmHSmDN2nsPEtxNFOw5qlXjzK5U92bzm7R3YXjUq1Hv6qkUl8inXH5zKRhtLM5IhH6tdVIBOp9FRcs33UF2bwAM38JsmvV5dCntOAXI+zTB6vi5uOamSfBbPpUQRSpqnMlQAT3s3Fj3mbkrXDWO+U7ZJnpztmbIpULlAS7AZqjHM7W4Bm5DjZRZRyAnSiJdMiIgf/2Q==',\n",
       " 'data:image/jpeg;base64,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',\n",
       " 'data:image/jpeg;base64,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',\n",
       " 'data:image/jpeg;base64,/9j/4AAQSkZJRgABAQAAAQABAAD/2wCEAAkGBxIHBhISEBISEBEVEx4SFxUSFxAQERQRGhgXGhUWFRcYHCogGB0mGxUVIT0hJSktLi8uGB8zOD8sNygtLisBCgoKDg0OGxAQGy0mHSUyMi0wLy8uLS8tLTI1Ly03LS0tLy0tMC82LS43LzUtNzUrLS0tLS0vLS0tLS0tLS0tLf/AABEIAQIAwwMBIgACEQEDEQH/xAAcAAEAAgIDAQAAAAAAAAAAAAAABgcFCAEDBAL/xAA9EAACAQIDBAcDCwIHAAAAAAAAAQIDEQQFIQYSMUETIkJRYXGBB5GhFCMyUmJyc4KxssEzkhUkNVNj0eH/xAAZAQEBAQEBAQAAAAAAAAAAAAAAAwQCAQX/xAAhEQEAAgICAQUBAAAAAAAAAAAAAQIDESExEgQiMkFRcf/aAAwDAQACEQMRAD8AvEAAAAAAAAAAAAAAAAAAAAAAAAAAAAAAAAAAAAAAAAAAAAAAAAAAAAAAAAAAAAAAAAAAAAAAAAAAAAAAAAAACs6m3uJjmNeN8JCnCrOEOkjWTlCMmou8Za6JFgZzQhisprU6lR0oVKcqcqkZKEoKScd6Mnomr6PvKInhZ1qqU5PdjHqdI7Nw3nGLiktW2krpau1yOa0xEaXwVid7WDs1tZisbtJ0WIlSVFU3NtQdOO7puyTk723mlr3lgQkpwTTTTV01qmuTRSmQZdhcfVxcczn0UHGNPrSUJqUpKcdx8nany5SfeXRhMPHC4WFOCtCEVCK42ilZfBHuLc15c5oiLah2gAqkAAAAAAAAAAAAAAAAAAAAAAAAAADDbXxw1TZ6rDGvdoTSjLrSg27pxSa1vdIpGVKosxpwlfpVTTtvK6aT3db6W+BfWcZVSznASo14KcJWdnraS1jJeKdmUdislxMcVK1GvJqKgpKFR71tG7252v6mfP8ATT6ee2a2MpZdPD9DmPR1KtTGR6KEm5SdanwknF6q9R68HrxRchHdmtlKOU5XQhUhCrVpy6XflGLcKzilJ09OrolG/ciRFaRqukclt2mYAAduAAAAAAAAAAAAAAAAAAAAAAAAAAAfNXSm/I1vyum3muGu4/1afbh9ePjqbG4p2w0/uv8AQ1xyyMI5rh+tLSrT7K+vD7RxbuHdWyYAO3AAAAAAAAAAAAAAAAAAAAAAAAAAAAAA6Mc7YKp9yX6M11wUkszw/Uj/AFKf19OtH7RsTmDtgKn4cv2s14o1GsZQfSduF9amq3o6cPP3k7fKFKdS2PABRMAAAAAAAAAAAAAAAAAAAAAAAAAAAAAeXNHbLK3P5qX7Wa7KDjVpvon9KPKrpaS14mw+cu2T1/wZ/tZrlVjGLi7S+HKSJ2+UK4+pbMgAokAAAAAAAAAAAAAAAAAAAAAAAAAAAAAPDnumR4j8CfDj9B8DXfEXinrVXHk/reZsPtB/oOJ/AqeHYlz5Gu+JX0rLimtJ0l2lw004cvHvJ27hXH02XBG9lNr6O0dWdOnGcJwipWnu9aPBtWb4O3vRJDutomNwnas1nUgAPXgAAAAAAAAAAAAAAAAAAAAAAAD5qVFSpuUnZJXbfBJcSLY7aeU6lqKUY/WkryfilwXrcyG11V08qSXamk/Kzf6pEPiusZM+W1Z8ar4qRMblzmubYivhpqVabi4tOKUEmrO6aildeBWmJp37K4yveFS1t/TgtCf5iv8ALT59V975Mr2tSvOXU5vjHELt/ZZzhtM9ypaIh8YfFSwc3OnWrU6jTV6VSdF2vdxvCztdLTwRsrg8RHF4SFSDvGcFNNc4ySafuZr5htnqWc4aNWhXiuU0rVIqS48H1X4E12dr4nIMv6COJlOC+inGnaHN7m8m7eDbXke0y1pvZkp560tQFI7TZljY4iL+WYhwldq03S3ZK11anZPj3E+9mWdVc2yWarzdSdKe7vv6UoNXW93taq/kXpmradQjbFNa7TAAFUgAAAAAAAAAAAAAAAAAAAABh9qqHTZQ2uxJT9NU/hIh0Cxq1JVqMoy4STi/JqzK5rwdKMlzV16q5i9TX3RLRhnjSN7S5pHC4WUpvq6xjHRuct1vRPwTfp76/r5ipVH1V2uxS5TXgZL2iSax+HXZVOtJd29u6/wRucrVX+b90SmONRw8tO5SPKa8ci3MbQk5YWpLo8RT4um76St3pte/uaLKTVSKkmmmrprVNPVNFU7JL5Rl2OpSfUlR3nw6srSs/wCfyokPsxzv5Xgnhaj69Jb1O/F0nxj+Vv3SXcSzU8o8vuHdLanT27X4lRqU4Lik5P1aS/ayxfZNgnhtmXUfGrVcl92NoL4xk/Up3N8V8rzWrPlvNL7sdF+l/U2KyXCLA5RRpR4QpRj7oq7KYK6kzT7Yj9e0AGplAAAAAAAAAAAAAAAAAAAAAHViq6w2HlOXCKv/AOFfTnvzbfFu/qzP7VY7fmqMXoutLz5L+fcR3gYfUX3bX404q6jaLbU5Esyw0oaRklJ0pO9k5QlFqVlwd9fFLwTguK2bxaxUoqi3xSalT3dZQ1vfTnxLgnFTunqeSpgouo+Ply4rlwOa5tPZptWWOpw2X2enQ3ozxWIVp7vCFPVW77JOS8XJ8kYDZ/MnlGdUa17KM+t403pP4Nv0R5MW3LGVHJtvfd29Xe7Opq6NsVjWmebc7TfE0nh8yqQfKbXnG94v1TT9S/dh85WdbO05X+cguiqLnvxSV/VWl6lK4rBvFbOYXFcZ9DCNTxVlaXv08n4GY9n+f/4JnCcnajUtCpfgl2Z/lb9zkZqX8bNd6+dOO4XiADYxAAAAAAAAAAAAAAAAAAAHXXqqhQlJ8Ipyfklc7DF7S1eiyiduLaj72r/BM5tOomXsRudIdVqutNylq5O782efGYiOFw0qk3aEY7zertFavRcTt5HnzDCLHYGdKTaU4ODatdJq11fmfLjmeW3+MYtp8LOKkqqSd7XU48Fd8V3Cef4bpX89TXm0ucf+0YfEbJ1cHh7YWvKMrNXleEmnbtR8u4wdXKs1VS2/WevFV5W5f8ngaIxYp6slN7x9PFtDs9SxOYzqYXE4a05Obp1KkYSjJ6vdeqabd9bWPnLvZ/isXOLlOjCm+3GfSvd74qKs/eZHD7GYrEz3qs47z4ucpVJN+LJ3k2CeX5bTpSak4qzaul6Hd8vjGqzt5FNzuYc0cHChgY0Uvm1BU7P6iW7Z+hCKuHeDxs6b7Lt5rk/VNE/IttbQ6PE06i7S3X5x1Xwb9xlrO+Gms6laXs7zZ5ps7GM3epRfQyb4tJLcl/a0r96ZKCqfZLjdzO61Lszpb/5oSSXwnL3FrH0cVvKsSxZa+N5gABRMAAAAAAAAAAAAAAAAMPtVG+U+U0/4/kzB5syw3yzAThza0+8tY/FI5vG6zD2s6mJQDkcB3Wj0fB+DOOR8ttcVOLOux2VOJ18wOUJaSOEJfSD18mC2tV8rT7qi/SRnCO7Z1t3AQhzlO/pFO/xkj2nyHr9lUnLa2Nv9qd/LT+bF0lVexrK5SxNbFNNRUegj3OTalO3koxX5mWqfRxRqrNnndwAFEQAAAAAAAAAAAAAAAAAARraPJnKTq0ld8ZxXF/aiub8CMN9UswxGaZBSx8nJXpzfajwb+1Hn8GZsuDfNVqZdcShE5anWmZjG7O18O9I9JHvhq/7Xr7rmIqUZ0X1oyj96Mo/qjHalo7heLRPQmcyfWPmnFzdknJ+CbfwMhhckxGKn1acorvqdRL36v0Qitp6h7MxHbF1Kipwbk7JatvRJGJy3ZzEba5kqiUqOEj1VVkrb0ebpJ/Sb7+CtrqrOyMBshRhZ4i1d8dxr5lPlePb/ADaeCJGluqy0RrxYNc2Rvm/HmyvL6eVYCFGjHdpwVkv1bfNt3d+9nqANTOAAAAAAAAAAAAAAAAAAAAAAAAAAAAAAAAAAAAAAAAAAAAAAAAAAAAAAAAAAAAAAAAAAAAAAAAAAAAAAAAAAAAAAAAAAAAAAAAAAAAAAAAAAAAAAAAAAD//Z',\n",
       " 'data:image/jpeg;base64,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',\n",
       " 'data:image/jpeg;base64,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',\n",
       " 'data:image/jpeg;base64,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',\n",
       " 'data:image/jpeg;base64,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']"
      ]
     },
     "execution_count": 40,
     "metadata": {},
     "output_type": "execute_result"
    }
   ],
   "source": [
    "imageurls=[]\n",
    "for i in imageurl:\n",
    "    imageurls.append(i.get_attribute('src'))\n",
    "imageurls[0:10]"
   ]
  },
  {
   "cell_type": "code",
   "execution_count": 41,
   "id": "7d2211fe",
   "metadata": {},
   "outputs": [],
   "source": [
    "driver2=webdriver.Chrome('chromedriver.exe')"
   ]
  },
  {
   "cell_type": "code",
   "execution_count": 42,
   "id": "86cfc8f2",
   "metadata": {},
   "outputs": [],
   "source": [
    "url=('https://images.google.com/?gws_rd=ssl')\n",
    "driver2.get(url)"
   ]
  },
  {
   "cell_type": "code",
   "execution_count": 43,
   "id": "87110073",
   "metadata": {},
   "outputs": [
    {
     "data": {
      "text/plain": [
       "<selenium.webdriver.remote.webelement.WebElement (session=\"eff90f3cf5714eea350a4e82f4bfbac8\", element=\"8225e352-7e2e-4e91-9c40-efcaa397ff84\")>"
      ]
     },
     "execution_count": 43,
     "metadata": {},
     "output_type": "execute_result"
    }
   ],
   "source": [
    "search=driver2.find_element_by_xpath('/html/body/div[1]/div[3]/form/div[1]/div[1]/div[1]/div/div[2]/input')\n",
    "search"
   ]
  },
  {
   "cell_type": "code",
   "execution_count": 44,
   "id": "0c1ab291",
   "metadata": {},
   "outputs": [],
   "source": [
    "search.send_keys('cakes')"
   ]
  },
  {
   "cell_type": "code",
   "execution_count": 45,
   "id": "d9e94192",
   "metadata": {},
   "outputs": [
    {
     "data": {
      "text/plain": [
       "<selenium.webdriver.remote.webelement.WebElement (session=\"eff90f3cf5714eea350a4e82f4bfbac8\", element=\"260f0951-dcb8-4694-9ab9-7ce2f107a6f2\")>"
      ]
     },
     "execution_count": 45,
     "metadata": {},
     "output_type": "execute_result"
    }
   ],
   "source": [
    "searchbt=driver2.find_element_by_xpath('/html/body/div[1]/div[3]/form/div[1]/div[1]/div[1]/button/div/span')\n",
    "searchbt"
   ]
  },
  {
   "cell_type": "code",
   "execution_count": 46,
   "id": "d5365efc",
   "metadata": {},
   "outputs": [],
   "source": [
    "searchbt.click()"
   ]
  },
  {
   "cell_type": "code",
   "execution_count": 47,
   "id": "3756254f",
   "metadata": {},
   "outputs": [
    {
     "data": {
      "text/plain": [
       "[<selenium.webdriver.remote.webelement.WebElement (session=\"eff90f3cf5714eea350a4e82f4bfbac8\", element=\"20ffe88f-2b84-4abe-963d-d6ba045c2a8d\")>,\n",
       " <selenium.webdriver.remote.webelement.WebElement (session=\"eff90f3cf5714eea350a4e82f4bfbac8\", element=\"59b3f766-06d2-44c9-95be-9349377f7784\")>]"
      ]
     },
     "execution_count": 47,
     "metadata": {},
     "output_type": "execute_result"
    }
   ],
   "source": [
    "imageurl=driver2.find_elements_by_xpath('//img[@class=\"rg_i Q4LuWd\"]')\n",
    "imageurl[0:2]"
   ]
  },
  {
   "cell_type": "code",
   "execution_count": 48,
   "id": "40f7d356",
   "metadata": {},
   "outputs": [
    {
     "data": {
      "text/plain": [
       "['data:image/jpeg;base64,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',\n",
       " 'data:image/jpeg;base64,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',\n",
       " 'data:image/jpeg;base64,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',\n",
       " 'data:image/jpeg;base64,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',\n",
       " 'data:image/jpeg;base64,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',\n",
       " 'data:image/jpeg;base64,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',\n",
       " 'data:image/jpeg;base64,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',\n",
       " 'data:image/jpeg;base64,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',\n",
       " 'data:image/jpeg;base64,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',\n",
       " 'data:image/jpeg;base64,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']"
      ]
     },
     "execution_count": 48,
     "metadata": {},
     "output_type": "execute_result"
    }
   ],
   "source": [
    "imageurls=[]\n",
    "for i in imageurl:\n",
    "    imageurls.append(i.get_attribute('src'))\n",
    "imageurls[0:10]"
   ]
  },
  {
   "cell_type": "markdown",
   "id": "6e6c2a7c",
   "metadata": {},
   "source": [
    "ans4)"
   ]
  },
  {
   "cell_type": "code",
   "execution_count": 292,
   "id": "f09db39e",
   "metadata": {},
   "outputs": [],
   "source": [
    "driver4=webdriver.Chrome('chromedriver.exe')"
   ]
  },
  {
   "cell_type": "code",
   "execution_count": 293,
   "id": "26dea337",
   "metadata": {},
   "outputs": [],
   "source": [
    "url=('https://www.flipkart.com/')\n",
    "driver4.get(url)"
   ]
  },
  {
   "cell_type": "code",
   "execution_count": 294,
   "id": "43c3a97a",
   "metadata": {},
   "outputs": [
    {
     "data": {
      "text/plain": [
       "<selenium.webdriver.remote.webelement.WebElement (session=\"5aa83ea9c22e35a6571ee33d6c315a5e\", element=\"571b0c51-2da7-465b-a1ff-35d7ad46d631\")>"
      ]
     },
     "execution_count": 294,
     "metadata": {},
     "output_type": "execute_result"
    }
   ],
   "source": [
    "close=driver4.find_element_by_xpath('/html/body/div[2]/div/div/button')\n",
    "close"
   ]
  },
  {
   "cell_type": "code",
   "execution_count": 295,
   "id": "e08dd404",
   "metadata": {},
   "outputs": [],
   "source": [
    "close.click()"
   ]
  },
  {
   "cell_type": "code",
   "execution_count": 296,
   "id": "24237810",
   "metadata": {},
   "outputs": [
    {
     "data": {
      "text/plain": [
       "<selenium.webdriver.remote.webelement.WebElement (session=\"5aa83ea9c22e35a6571ee33d6c315a5e\", element=\"1292da5d-fd73-4492-b1d1-1640ea096aca\")>"
      ]
     },
     "execution_count": 296,
     "metadata": {},
     "output_type": "execute_result"
    }
   ],
   "source": [
    "search=driver4.find_element_by_xpath('/html/body/div[1]/div/div[1]/div[1]/div[2]/div[2]/form/div/div/input')\n",
    "search"
   ]
  },
  {
   "cell_type": "code",
   "execution_count": 297,
   "id": "6ff73f9a",
   "metadata": {},
   "outputs": [],
   "source": [
    "search.send_keys('Poco F1')"
   ]
  },
  {
   "cell_type": "code",
   "execution_count": 298,
   "id": "15e8b9e2",
   "metadata": {},
   "outputs": [
    {
     "data": {
      "text/plain": [
       "<selenium.webdriver.remote.webelement.WebElement (session=\"5aa83ea9c22e35a6571ee33d6c315a5e\", element=\"0537599e-d460-4338-b348-bbbb01f8fea1\")>"
      ]
     },
     "execution_count": 298,
     "metadata": {},
     "output_type": "execute_result"
    }
   ],
   "source": [
    "searchbt=driver4.find_element_by_xpath('/html/body/div[1]/div/div[1]/div[1]/div[2]/div[2]/form/div/button')\n",
    "searchbt"
   ]
  },
  {
   "cell_type": "code",
   "execution_count": 299,
   "id": "5660d7d9",
   "metadata": {},
   "outputs": [],
   "source": [
    "searchbt.click()"
   ]
  },
  {
   "cell_type": "code",
   "execution_count": 300,
   "id": "794499c1",
   "metadata": {},
   "outputs": [
    {
     "data": {
      "text/plain": [
       "[<selenium.webdriver.remote.webelement.WebElement (session=\"5aa83ea9c22e35a6571ee33d6c315a5e\", element=\"12a793f0-0414-4107-8aaa-f836bc9a318b\")>,\n",
       " <selenium.webdriver.remote.webelement.WebElement (session=\"5aa83ea9c22e35a6571ee33d6c315a5e\", element=\"95b7cae4-ad64-4e00-bf8c-e8bad87e189c\")>,\n",
       " <selenium.webdriver.remote.webelement.WebElement (session=\"5aa83ea9c22e35a6571ee33d6c315a5e\", element=\"9eb0eee5-e7a9-4614-ae07-fd7d659ffde4\")>,\n",
       " <selenium.webdriver.remote.webelement.WebElement (session=\"5aa83ea9c22e35a6571ee33d6c315a5e\", element=\"119a9805-3f48-449a-ba11-fa9b1a1a48fc\")>,\n",
       " <selenium.webdriver.remote.webelement.WebElement (session=\"5aa83ea9c22e35a6571ee33d6c315a5e\", element=\"e99ca05a-d6c7-4961-99d4-193b947bb90b\")>,\n",
       " <selenium.webdriver.remote.webelement.WebElement (session=\"5aa83ea9c22e35a6571ee33d6c315a5e\", element=\"a0ad2d94-8158-4673-8e12-0640bb11e60a\")>,\n",
       " <selenium.webdriver.remote.webelement.WebElement (session=\"5aa83ea9c22e35a6571ee33d6c315a5e\", element=\"17500fa2-db70-4815-902a-151f612b0008\")>,\n",
       " <selenium.webdriver.remote.webelement.WebElement (session=\"5aa83ea9c22e35a6571ee33d6c315a5e\", element=\"3676121e-73e2-4431-a0f4-0f9eb5c650e7\")>,\n",
       " <selenium.webdriver.remote.webelement.WebElement (session=\"5aa83ea9c22e35a6571ee33d6c315a5e\", element=\"4b942718-58c0-462b-adc9-e405a8b204ef\")>,\n",
       " <selenium.webdriver.remote.webelement.WebElement (session=\"5aa83ea9c22e35a6571ee33d6c315a5e\", element=\"08fbfa72-c2e6-4a27-bbf7-75ab99925fff\")>,\n",
       " <selenium.webdriver.remote.webelement.WebElement (session=\"5aa83ea9c22e35a6571ee33d6c315a5e\", element=\"f81adc21-21be-4b3d-a1c7-aad10534df24\")>]"
      ]
     },
     "execution_count": 300,
     "metadata": {},
     "output_type": "execute_result"
    }
   ],
   "source": [
    "phonename=driver4.find_elements_by_xpath('//div[@class=\"_4rR01T\"]')\n",
    "phonename"
   ]
  },
  {
   "cell_type": "code",
   "execution_count": 301,
   "id": "3202b163",
   "metadata": {},
   "outputs": [
    {
     "data": {
      "text/plain": [
       "[['POCO', 'F1'],\n",
       " ['POCO', 'F1'],\n",
       " ['POCO', 'F1'],\n",
       " ['POCO', 'F1'],\n",
       " ['POCO', 'F1'],\n",
       " ['POCO', 'F1'],\n",
       " ['POCO', 'F1'],\n",
       " ['POCO', 'F1'],\n",
       " ['POCO', 'F1'],\n",
       " ['POCO', 'F1'],\n",
       " ['POCO', 'F1']]"
      ]
     },
     "execution_count": 301,
     "metadata": {},
     "output_type": "execute_result"
    }
   ],
   "source": [
    "phonenames=[]\n",
    "for i in phonename:\n",
    "    phonenames.append(i.text.split()[0:2])\n",
    "phonenames"
   ]
  },
  {
   "cell_type": "code",
   "execution_count": 302,
   "id": "3576f7ea",
   "metadata": {},
   "outputs": [
    {
     "data": {
      "text/plain": [
       "[<selenium.webdriver.remote.webelement.WebElement (session=\"5aa83ea9c22e35a6571ee33d6c315a5e\", element=\"12a793f0-0414-4107-8aaa-f836bc9a318b\")>,\n",
       " <selenium.webdriver.remote.webelement.WebElement (session=\"5aa83ea9c22e35a6571ee33d6c315a5e\", element=\"95b7cae4-ad64-4e00-bf8c-e8bad87e189c\")>,\n",
       " <selenium.webdriver.remote.webelement.WebElement (session=\"5aa83ea9c22e35a6571ee33d6c315a5e\", element=\"9eb0eee5-e7a9-4614-ae07-fd7d659ffde4\")>,\n",
       " <selenium.webdriver.remote.webelement.WebElement (session=\"5aa83ea9c22e35a6571ee33d6c315a5e\", element=\"119a9805-3f48-449a-ba11-fa9b1a1a48fc\")>,\n",
       " <selenium.webdriver.remote.webelement.WebElement (session=\"5aa83ea9c22e35a6571ee33d6c315a5e\", element=\"e99ca05a-d6c7-4961-99d4-193b947bb90b\")>,\n",
       " <selenium.webdriver.remote.webelement.WebElement (session=\"5aa83ea9c22e35a6571ee33d6c315a5e\", element=\"a0ad2d94-8158-4673-8e12-0640bb11e60a\")>,\n",
       " <selenium.webdriver.remote.webelement.WebElement (session=\"5aa83ea9c22e35a6571ee33d6c315a5e\", element=\"17500fa2-db70-4815-902a-151f612b0008\")>,\n",
       " <selenium.webdriver.remote.webelement.WebElement (session=\"5aa83ea9c22e35a6571ee33d6c315a5e\", element=\"3676121e-73e2-4431-a0f4-0f9eb5c650e7\")>,\n",
       " <selenium.webdriver.remote.webelement.WebElement (session=\"5aa83ea9c22e35a6571ee33d6c315a5e\", element=\"4b942718-58c0-462b-adc9-e405a8b204ef\")>,\n",
       " <selenium.webdriver.remote.webelement.WebElement (session=\"5aa83ea9c22e35a6571ee33d6c315a5e\", element=\"08fbfa72-c2e6-4a27-bbf7-75ab99925fff\")>,\n",
       " <selenium.webdriver.remote.webelement.WebElement (session=\"5aa83ea9c22e35a6571ee33d6c315a5e\", element=\"f81adc21-21be-4b3d-a1c7-aad10534df24\")>]"
      ]
     },
     "execution_count": 302,
     "metadata": {},
     "output_type": "execute_result"
    }
   ],
   "source": [
    "colour=driver4.find_elements_by_xpath('//div[@class=\"_4rR01T\"]')\n",
    "colour"
   ]
  },
  {
   "cell_type": "code",
   "execution_count": 303,
   "id": "6722415e",
   "metadata": {},
   "outputs": [
    {
     "data": {
      "text/plain": [
       "[['(Rosso', 'Red,'],\n",
       " ['(Steel', 'Blue,'],\n",
       " ['(Steel', 'Blue,'],\n",
       " ['(Rosso', 'Red,'],\n",
       " ['(Graphite', 'Black,'],\n",
       " ['(Armoured', 'Edition,'],\n",
       " ['(Steel', 'Blue,'],\n",
       " ['(Armoured', 'Edition,'],\n",
       " ['(Graphite', 'Black,'],\n",
       " ['(Graphite', 'Black,'],\n",
       " ['(Rosso', 'Red,']]"
      ]
     },
     "execution_count": 303,
     "metadata": {},
     "output_type": "execute_result"
    }
   ],
   "source": [
    "colours=[]\n",
    "for i in colour:\n",
    "    colours.append(i.text.split()[2:4])\n",
    "colours"
   ]
  },
  {
   "cell_type": "code",
   "execution_count": 304,
   "id": "21a26185",
   "metadata": {},
   "outputs": [
    {
     "data": {
      "text/plain": [
       "[<selenium.webdriver.remote.webelement.WebElement (session=\"5aa83ea9c22e35a6571ee33d6c315a5e\", element=\"a5bf5481-d550-4840-b38f-6c81f826b9a9\")>,\n",
       " <selenium.webdriver.remote.webelement.WebElement (session=\"5aa83ea9c22e35a6571ee33d6c315a5e\", element=\"963d55cc-f5b0-4b7e-84be-01f6aa4731e2\")>,\n",
       " <selenium.webdriver.remote.webelement.WebElement (session=\"5aa83ea9c22e35a6571ee33d6c315a5e\", element=\"c312eb50-77e2-4329-835d-705e16058b97\")>,\n",
       " <selenium.webdriver.remote.webelement.WebElement (session=\"5aa83ea9c22e35a6571ee33d6c315a5e\", element=\"cd91e076-9a68-4f99-ae2e-b32e1b927e74\")>,\n",
       " <selenium.webdriver.remote.webelement.WebElement (session=\"5aa83ea9c22e35a6571ee33d6c315a5e\", element=\"eb904b19-893b-4caa-b154-646bf6a8cfc7\")>,\n",
       " <selenium.webdriver.remote.webelement.WebElement (session=\"5aa83ea9c22e35a6571ee33d6c315a5e\", element=\"540d6ddd-6533-4db1-8697-5b94f621f0fb\")>,\n",
       " <selenium.webdriver.remote.webelement.WebElement (session=\"5aa83ea9c22e35a6571ee33d6c315a5e\", element=\"607459b3-d6d4-4401-b1cc-5ff9854e8500\")>,\n",
       " <selenium.webdriver.remote.webelement.WebElement (session=\"5aa83ea9c22e35a6571ee33d6c315a5e\", element=\"74d085d8-c95f-4f0c-9784-21da7340c513\")>,\n",
       " <selenium.webdriver.remote.webelement.WebElement (session=\"5aa83ea9c22e35a6571ee33d6c315a5e\", element=\"62eb8d06-9312-47f3-8056-85504641b74d\")>,\n",
       " <selenium.webdriver.remote.webelement.WebElement (session=\"5aa83ea9c22e35a6571ee33d6c315a5e\", element=\"d8341822-bd52-4c47-b7de-591bcd70463e\")>,\n",
       " <selenium.webdriver.remote.webelement.WebElement (session=\"5aa83ea9c22e35a6571ee33d6c315a5e\", element=\"bdcb5202-e83d-43a9-8f23-db1d7c70f774\")>,\n",
       " <selenium.webdriver.remote.webelement.WebElement (session=\"5aa83ea9c22e35a6571ee33d6c315a5e\", element=\"893b8ae2-91e3-4bb8-9d9e-02c4ccb42e31\")>,\n",
       " <selenium.webdriver.remote.webelement.WebElement (session=\"5aa83ea9c22e35a6571ee33d6c315a5e\", element=\"11971255-98f6-4ab8-b880-4edace8f5fba\")>,\n",
       " <selenium.webdriver.remote.webelement.WebElement (session=\"5aa83ea9c22e35a6571ee33d6c315a5e\", element=\"d69402ae-b054-49ec-9768-339eed971207\")>,\n",
       " <selenium.webdriver.remote.webelement.WebElement (session=\"5aa83ea9c22e35a6571ee33d6c315a5e\", element=\"6e1f8b40-e218-4f29-8ef4-89c7740a0080\")>,\n",
       " <selenium.webdriver.remote.webelement.WebElement (session=\"5aa83ea9c22e35a6571ee33d6c315a5e\", element=\"28edd59f-6fc2-4e34-8814-2879a83c93ab\")>,\n",
       " <selenium.webdriver.remote.webelement.WebElement (session=\"5aa83ea9c22e35a6571ee33d6c315a5e\", element=\"30709d56-5e73-407f-acde-f9eebb491812\")>,\n",
       " <selenium.webdriver.remote.webelement.WebElement (session=\"5aa83ea9c22e35a6571ee33d6c315a5e\", element=\"05ebd1c0-90fc-4d1a-b727-170f7ac1387e\")>,\n",
       " <selenium.webdriver.remote.webelement.WebElement (session=\"5aa83ea9c22e35a6571ee33d6c315a5e\", element=\"3639231d-f31a-4d87-b859-69a5c0b4883b\")>,\n",
       " <selenium.webdriver.remote.webelement.WebElement (session=\"5aa83ea9c22e35a6571ee33d6c315a5e\", element=\"cef7ab89-ec6d-4aae-bfb4-cb2b8224b0c1\")>,\n",
       " <selenium.webdriver.remote.webelement.WebElement (session=\"5aa83ea9c22e35a6571ee33d6c315a5e\", element=\"5cca632a-54f1-49f6-a484-4ec3a2a5f5a8\")>,\n",
       " <selenium.webdriver.remote.webelement.WebElement (session=\"5aa83ea9c22e35a6571ee33d6c315a5e\", element=\"b93d09a9-d387-4601-84b1-71efe873c147\")>,\n",
       " <selenium.webdriver.remote.webelement.WebElement (session=\"5aa83ea9c22e35a6571ee33d6c315a5e\", element=\"80c66b63-efc3-45c5-80b2-2a452cda2121\")>,\n",
       " <selenium.webdriver.remote.webelement.WebElement (session=\"5aa83ea9c22e35a6571ee33d6c315a5e\", element=\"060d8747-f08e-4e09-98a0-41d2ded0480f\")>,\n",
       " <selenium.webdriver.remote.webelement.WebElement (session=\"5aa83ea9c22e35a6571ee33d6c315a5e\", element=\"db1dd6fa-8b7b-4597-b270-a55bfcda04e2\")>,\n",
       " <selenium.webdriver.remote.webelement.WebElement (session=\"5aa83ea9c22e35a6571ee33d6c315a5e\", element=\"b9731b8d-5f17-4c56-84ea-7bc9eff1c6dc\")>,\n",
       " <selenium.webdriver.remote.webelement.WebElement (session=\"5aa83ea9c22e35a6571ee33d6c315a5e\", element=\"3bba9ff7-0595-4087-acd3-164172571b30\")>,\n",
       " <selenium.webdriver.remote.webelement.WebElement (session=\"5aa83ea9c22e35a6571ee33d6c315a5e\", element=\"9a2246f9-132f-4c83-827f-29717e4170cb\")>,\n",
       " <selenium.webdriver.remote.webelement.WebElement (session=\"5aa83ea9c22e35a6571ee33d6c315a5e\", element=\"5b3d3b89-195c-42ad-9996-f9a53f6cce41\")>,\n",
       " <selenium.webdriver.remote.webelement.WebElement (session=\"5aa83ea9c22e35a6571ee33d6c315a5e\", element=\"e26c5c35-436b-45af-9eb2-4e741247b39b\")>,\n",
       " <selenium.webdriver.remote.webelement.WebElement (session=\"5aa83ea9c22e35a6571ee33d6c315a5e\", element=\"ab8d4244-9d4d-42f9-8f65-540572ae0cc8\")>,\n",
       " <selenium.webdriver.remote.webelement.WebElement (session=\"5aa83ea9c22e35a6571ee33d6c315a5e\", element=\"8c734521-ee0a-40b4-85f3-780d498d7ebc\")>,\n",
       " <selenium.webdriver.remote.webelement.WebElement (session=\"5aa83ea9c22e35a6571ee33d6c315a5e\", element=\"69f18951-62e4-44b4-b827-e4e18a5be928\")>,\n",
       " <selenium.webdriver.remote.webelement.WebElement (session=\"5aa83ea9c22e35a6571ee33d6c315a5e\", element=\"ecc5cda5-5ff7-4971-a7e6-8f26b438ac82\")>,\n",
       " <selenium.webdriver.remote.webelement.WebElement (session=\"5aa83ea9c22e35a6571ee33d6c315a5e\", element=\"8fd06300-80ac-40ca-80f6-b73cf73d615d\")>,\n",
       " <selenium.webdriver.remote.webelement.WebElement (session=\"5aa83ea9c22e35a6571ee33d6c315a5e\", element=\"8f3f43ce-6041-44d5-a6af-4bb38b03a182\")>,\n",
       " <selenium.webdriver.remote.webelement.WebElement (session=\"5aa83ea9c22e35a6571ee33d6c315a5e\", element=\"b553700d-a391-4b96-9711-09a0f9b2964a\")>,\n",
       " <selenium.webdriver.remote.webelement.WebElement (session=\"5aa83ea9c22e35a6571ee33d6c315a5e\", element=\"337d66a4-79ce-4015-8edb-ff124db675ef\")>,\n",
       " <selenium.webdriver.remote.webelement.WebElement (session=\"5aa83ea9c22e35a6571ee33d6c315a5e\", element=\"6ba80540-164d-4a22-a3eb-4483edbe26f3\")>,\n",
       " <selenium.webdriver.remote.webelement.WebElement (session=\"5aa83ea9c22e35a6571ee33d6c315a5e\", element=\"b674a964-1f54-48d5-b3bf-e98343261f34\")>,\n",
       " <selenium.webdriver.remote.webelement.WebElement (session=\"5aa83ea9c22e35a6571ee33d6c315a5e\", element=\"5f1fe1b1-9883-4c18-b8f9-15869bbcf94a\")>,\n",
       " <selenium.webdriver.remote.webelement.WebElement (session=\"5aa83ea9c22e35a6571ee33d6c315a5e\", element=\"2fce4c85-5619-45bc-8571-f5eada9e903a\")>,\n",
       " <selenium.webdriver.remote.webelement.WebElement (session=\"5aa83ea9c22e35a6571ee33d6c315a5e\", element=\"3ec418a0-d495-4ea3-b1c8-c8255712c201\")>,\n",
       " <selenium.webdriver.remote.webelement.WebElement (session=\"5aa83ea9c22e35a6571ee33d6c315a5e\", element=\"043267e3-97de-4537-bb7e-cc262a66c97f\")>,\n",
       " <selenium.webdriver.remote.webelement.WebElement (session=\"5aa83ea9c22e35a6571ee33d6c315a5e\", element=\"bbf25a57-9659-44e8-976c-629615766b87\")>,\n",
       " <selenium.webdriver.remote.webelement.WebElement (session=\"5aa83ea9c22e35a6571ee33d6c315a5e\", element=\"0c78f4aa-ef0e-466a-95ff-5619e7c13efa\")>,\n",
       " <selenium.webdriver.remote.webelement.WebElement (session=\"5aa83ea9c22e35a6571ee33d6c315a5e\", element=\"a88dda8a-2b55-48f7-99d1-4fdc495c489d\")>,\n",
       " <selenium.webdriver.remote.webelement.WebElement (session=\"5aa83ea9c22e35a6571ee33d6c315a5e\", element=\"9a1aa60d-124a-491a-ad34-aad256c711de\")>,\n",
       " <selenium.webdriver.remote.webelement.WebElement (session=\"5aa83ea9c22e35a6571ee33d6c315a5e\", element=\"95d70309-4805-4928-993a-1c90163ed603\")>,\n",
       " <selenium.webdriver.remote.webelement.WebElement (session=\"5aa83ea9c22e35a6571ee33d6c315a5e\", element=\"edb3e7a8-0730-46c6-8e7a-9a418e214ad9\")>,\n",
       " <selenium.webdriver.remote.webelement.WebElement (session=\"5aa83ea9c22e35a6571ee33d6c315a5e\", element=\"53d76757-4b29-4223-adf7-a19c706abc26\")>,\n",
       " <selenium.webdriver.remote.webelement.WebElement (session=\"5aa83ea9c22e35a6571ee33d6c315a5e\", element=\"93a8b00b-f7d9-41a0-9ae1-8d4215c8effe\")>,\n",
       " <selenium.webdriver.remote.webelement.WebElement (session=\"5aa83ea9c22e35a6571ee33d6c315a5e\", element=\"bce9b8bf-bacf-491d-8cec-e740ae919a7d\")>,\n",
       " <selenium.webdriver.remote.webelement.WebElement (session=\"5aa83ea9c22e35a6571ee33d6c315a5e\", element=\"86e0c92f-77af-4bfb-bebf-671ad09184d5\")>,\n",
       " <selenium.webdriver.remote.webelement.WebElement (session=\"5aa83ea9c22e35a6571ee33d6c315a5e\", element=\"a2a5297a-ac5a-47d5-9eb4-bba110080a06\")>,\n",
       " <selenium.webdriver.remote.webelement.WebElement (session=\"5aa83ea9c22e35a6571ee33d6c315a5e\", element=\"42827354-6694-44d3-ad41-7b5819e504bd\")>,\n",
       " <selenium.webdriver.remote.webelement.WebElement (session=\"5aa83ea9c22e35a6571ee33d6c315a5e\", element=\"0089df6c-eec1-438a-ace3-76d30d58a6c8\")>,\n",
       " <selenium.webdriver.remote.webelement.WebElement (session=\"5aa83ea9c22e35a6571ee33d6c315a5e\", element=\"468a4d25-1f81-41da-89c0-6df35d812135\")>,\n",
       " <selenium.webdriver.remote.webelement.WebElement (session=\"5aa83ea9c22e35a6571ee33d6c315a5e\", element=\"3d352922-97ee-4b67-ae89-13570ba93d8a\")>,\n",
       " <selenium.webdriver.remote.webelement.WebElement (session=\"5aa83ea9c22e35a6571ee33d6c315a5e\", element=\"9cfcc2e1-fbbd-4f40-a93f-ed05460145db\")>,\n",
       " <selenium.webdriver.remote.webelement.WebElement (session=\"5aa83ea9c22e35a6571ee33d6c315a5e\", element=\"ac915fed-5e14-4813-bc4a-3e60b7a836d3\")>,\n",
       " <selenium.webdriver.remote.webelement.WebElement (session=\"5aa83ea9c22e35a6571ee33d6c315a5e\", element=\"e10220e9-ffd0-421a-b25a-8368c07485d0\")>,\n",
       " <selenium.webdriver.remote.webelement.WebElement (session=\"5aa83ea9c22e35a6571ee33d6c315a5e\", element=\"ed02473e-f786-430b-b780-d2be1db74be6\")>,\n",
       " <selenium.webdriver.remote.webelement.WebElement (session=\"5aa83ea9c22e35a6571ee33d6c315a5e\", element=\"709e9181-4711-4d6a-b8d7-bac25fd2285e\")>,\n",
       " <selenium.webdriver.remote.webelement.WebElement (session=\"5aa83ea9c22e35a6571ee33d6c315a5e\", element=\"3e83e7e3-3fbf-4c18-842b-c724de6312dc\")>,\n",
       " <selenium.webdriver.remote.webelement.WebElement (session=\"5aa83ea9c22e35a6571ee33d6c315a5e\", element=\"d150e9b5-7e7b-49a0-8194-7018265e1f1b\")>]"
      ]
     },
     "execution_count": 304,
     "metadata": {},
     "output_type": "execute_result"
    }
   ],
   "source": [
    "ram=driver4.find_elements_by_xpath('//li[@class=\"rgWa7D\"]')\n",
    "ram"
   ]
  },
  {
   "cell_type": "code",
   "execution_count": 305,
   "id": "c80152e7",
   "metadata": {},
   "outputs": [
    {
     "data": {
      "text/plain": [
       "['6 GB RAM | 128 GB ROM | Expandable Upto 256 GB',\n",
       " '15.7 cm (6.18 inch) Full HD+ Display',\n",
       " '12MP + 5MP | 20MP Front Camera',\n",
       " '4000 mAh Li-polymer Battery',\n",
       " 'Qualcomm Snapdragon 845 Processor',\n",
       " 'Brand Warranty of 1 Year Available for Mobile and 6 Months for Accessories',\n",
       " '8 GB RAM | 256 GB ROM | Expandable Upto 256 GB',\n",
       " '15.7 cm (6.18 inch) Full HD+ Display',\n",
       " '12MP + 5MP | 20MP Front Camera',\n",
       " '4000 mAh Li-polymer Battery',\n",
       " 'Qualcomm Snapdragon 845 Processor',\n",
       " 'Brand Warranty of 1 Year Available for Mobile and 6 Months for Accessories',\n",
       " '6 GB RAM | 64 GB ROM | Expandable Upto 256 GB',\n",
       " '15.7 cm (6.18 inch) Full HD+ Display',\n",
       " '12MP + 5MP | 20MP Front Camera',\n",
       " '4000 mAh Li-polymer Battery',\n",
       " 'Qualcomm Snapdragon 845 Processor',\n",
       " 'Brand Warranty of 1 Year Available for Mobile and 6 Months for Accessories',\n",
       " '6 GB RAM | 64 GB ROM | Expandable Upto 256 GB',\n",
       " '15.7 cm (6.18 inch) Full HD+ Display',\n",
       " '12MP + 5MP | 20MP Front Camera',\n",
       " '4000 mAh Li-polymer Battery',\n",
       " 'Qualcomm Snapdragon 845 Processor',\n",
       " 'Brand Warranty of 1 Year Available for Mobile and 6 Months for Accessories',\n",
       " '6 GB RAM | 128 GB ROM | Expandable Upto 256 GB',\n",
       " '15.7 cm (6.18 inch) Full HD+ Display',\n",
       " '12MP + 5MP | 20MP Front Camera',\n",
       " '4000 mAh Li-polymer Battery',\n",
       " 'Qualcomm Snapdragon 845 Processor',\n",
       " 'Brand Warranty of 1 Year Available for Mobile and 6 Months for Accessories',\n",
       " '8 GB RAM | 256 GB ROM | Expandable Upto 256 GB',\n",
       " '15.7 cm (6.18 inch) Full HD+ Display',\n",
       " '12MP + 5MP | 20MP Front Camera',\n",
       " '4000 mAh Li-polymer Battery',\n",
       " 'Qualcomm Snapdragon 845 Processor',\n",
       " 'Brand Warranty of 1 Year Available for Mobile and 6 Months for Accessories',\n",
       " '6 GB RAM | 128 GB ROM | Expandable Upto 256 GB',\n",
       " '15.7 cm (6.18 inch) Full HD+ Display',\n",
       " '12MP + 5MP | 20MP Front Camera',\n",
       " '4000 mAh Li-polymer Battery',\n",
       " 'Qualcomm Snapdragon 845 Processor',\n",
       " 'Brand Warranty of 1 Year Available for Mobile and 6 Months for Accessories',\n",
       " '6 GB RAM | 128 GB ROM | Expandable Upto 256 GB',\n",
       " '15.7 cm (6.18 inch) Full HD+ Display',\n",
       " '12MP + 5MP | 20MP Front Camera',\n",
       " '4000 mAh Li-polymer Battery',\n",
       " 'Qualcomm Snapdragon 845 Processor',\n",
       " 'Brand Warranty of 1 Year Available for Mobile and 6 Months for Accessories',\n",
       " '8 GB RAM | 256 GB ROM | Expandable Upto 256 GB',\n",
       " '15.7 cm (6.18 inch) Full HD+ Display',\n",
       " '12MP + 5MP | 20MP Front Camera',\n",
       " '4000 mAh Li-polymer Battery',\n",
       " 'Qualcomm Snapdragon 845 Processor',\n",
       " 'Brand Warranty of 1 Year Available for Mobile and 6 Months for Accessories',\n",
       " '6 GB RAM | 64 GB ROM | Expandable Upto 256 GB',\n",
       " '15.7 cm (6.18 inch) Full HD+ Display',\n",
       " '12MP + 5MP | 20MP Front Camera',\n",
       " '4000 mAh Li-polymer Battery',\n",
       " 'Qualcomm Snapdragon 845 Processor',\n",
       " 'Brand Warranty of 1 Year Available for Mobile and 6 Months for Accessories',\n",
       " '8 GB RAM | 256 GB ROM | Expandable Upto 256 GB',\n",
       " '15.7 cm (6.18 inch) Full HD+ Display',\n",
       " '12MP + 5MP | 20MP Front Camera',\n",
       " '4000 mAh Li-polymer Battery',\n",
       " 'Qualcomm Snapdragon 845 Processor',\n",
       " 'Brand Warranty of 1 Year Available for Mobile and 6 Months for Accessories']"
      ]
     },
     "execution_count": 305,
     "metadata": {},
     "output_type": "execute_result"
    }
   ],
   "source": [
    "rams=[]\n",
    "for i in ram:\n",
    "    rams.append(i.text)\n",
    "rams"
   ]
  },
  {
   "cell_type": "code",
   "execution_count": 306,
   "id": "4cba47a4",
   "metadata": {},
   "outputs": [
    {
     "data": {
      "text/plain": [
       "['6', '8', '6', '6', '6', '8', '6', '6', '8', '6', '8']"
      ]
     },
     "execution_count": 306,
     "metadata": {},
     "output_type": "execute_result"
    }
   ],
   "source": [
    "ramss=[]\n",
    "for i in range(0,66,6):\n",
    "    ramss.append(ram[i].text.replace('Expandable Upto 256 GB','').split()[0])\n",
    "ramss"
   ]
  },
  {
   "cell_type": "code",
   "execution_count": 307,
   "id": "c3c40081",
   "metadata": {},
   "outputs": [
    {
     "data": {
      "text/plain": [
       "[<selenium.webdriver.remote.webelement.WebElement (session=\"5aa83ea9c22e35a6571ee33d6c315a5e\", element=\"12a793f0-0414-4107-8aaa-f836bc9a318b\")>,\n",
       " <selenium.webdriver.remote.webelement.WebElement (session=\"5aa83ea9c22e35a6571ee33d6c315a5e\", element=\"95b7cae4-ad64-4e00-bf8c-e8bad87e189c\")>,\n",
       " <selenium.webdriver.remote.webelement.WebElement (session=\"5aa83ea9c22e35a6571ee33d6c315a5e\", element=\"9eb0eee5-e7a9-4614-ae07-fd7d659ffde4\")>,\n",
       " <selenium.webdriver.remote.webelement.WebElement (session=\"5aa83ea9c22e35a6571ee33d6c315a5e\", element=\"119a9805-3f48-449a-ba11-fa9b1a1a48fc\")>,\n",
       " <selenium.webdriver.remote.webelement.WebElement (session=\"5aa83ea9c22e35a6571ee33d6c315a5e\", element=\"e99ca05a-d6c7-4961-99d4-193b947bb90b\")>,\n",
       " <selenium.webdriver.remote.webelement.WebElement (session=\"5aa83ea9c22e35a6571ee33d6c315a5e\", element=\"a0ad2d94-8158-4673-8e12-0640bb11e60a\")>,\n",
       " <selenium.webdriver.remote.webelement.WebElement (session=\"5aa83ea9c22e35a6571ee33d6c315a5e\", element=\"17500fa2-db70-4815-902a-151f612b0008\")>,\n",
       " <selenium.webdriver.remote.webelement.WebElement (session=\"5aa83ea9c22e35a6571ee33d6c315a5e\", element=\"3676121e-73e2-4431-a0f4-0f9eb5c650e7\")>,\n",
       " <selenium.webdriver.remote.webelement.WebElement (session=\"5aa83ea9c22e35a6571ee33d6c315a5e\", element=\"4b942718-58c0-462b-adc9-e405a8b204ef\")>,\n",
       " <selenium.webdriver.remote.webelement.WebElement (session=\"5aa83ea9c22e35a6571ee33d6c315a5e\", element=\"08fbfa72-c2e6-4a27-bbf7-75ab99925fff\")>,\n",
       " <selenium.webdriver.remote.webelement.WebElement (session=\"5aa83ea9c22e35a6571ee33d6c315a5e\", element=\"f81adc21-21be-4b3d-a1c7-aad10534df24\")>]"
      ]
     },
     "execution_count": 307,
     "metadata": {},
     "output_type": "execute_result"
    }
   ],
   "source": [
    "rom=driver4.find_elements_by_xpath('//div[@class=\"_4rR01T\"]')\n",
    "rom"
   ]
  },
  {
   "cell_type": "code",
   "execution_count": 308,
   "id": "430b2ac1",
   "metadata": {},
   "outputs": [
    {
     "data": {
      "text/plain": [
       "['128', '256', '64', '64', '128', '256', '128', '128', '256', '64', '256']"
      ]
     },
     "execution_count": 308,
     "metadata": {},
     "output_type": "execute_result"
    }
   ],
   "source": [
    "roms=[]\n",
    "for i in rom:\n",
    "    roms.append(i.text.split()[4])\n",
    "roms"
   ]
  },
  {
   "cell_type": "code",
   "execution_count": 309,
   "id": "125f5785",
   "metadata": {},
   "outputs": [
    {
     "data": {
      "text/plain": [
       "[<selenium.webdriver.remote.webelement.WebElement (session=\"5aa83ea9c22e35a6571ee33d6c315a5e\", element=\"a5bf5481-d550-4840-b38f-6c81f826b9a9\")>,\n",
       " <selenium.webdriver.remote.webelement.WebElement (session=\"5aa83ea9c22e35a6571ee33d6c315a5e\", element=\"963d55cc-f5b0-4b7e-84be-01f6aa4731e2\")>,\n",
       " <selenium.webdriver.remote.webelement.WebElement (session=\"5aa83ea9c22e35a6571ee33d6c315a5e\", element=\"c312eb50-77e2-4329-835d-705e16058b97\")>,\n",
       " <selenium.webdriver.remote.webelement.WebElement (session=\"5aa83ea9c22e35a6571ee33d6c315a5e\", element=\"cd91e076-9a68-4f99-ae2e-b32e1b927e74\")>,\n",
       " <selenium.webdriver.remote.webelement.WebElement (session=\"5aa83ea9c22e35a6571ee33d6c315a5e\", element=\"eb904b19-893b-4caa-b154-646bf6a8cfc7\")>,\n",
       " <selenium.webdriver.remote.webelement.WebElement (session=\"5aa83ea9c22e35a6571ee33d6c315a5e\", element=\"540d6ddd-6533-4db1-8697-5b94f621f0fb\")>,\n",
       " <selenium.webdriver.remote.webelement.WebElement (session=\"5aa83ea9c22e35a6571ee33d6c315a5e\", element=\"607459b3-d6d4-4401-b1cc-5ff9854e8500\")>,\n",
       " <selenium.webdriver.remote.webelement.WebElement (session=\"5aa83ea9c22e35a6571ee33d6c315a5e\", element=\"74d085d8-c95f-4f0c-9784-21da7340c513\")>,\n",
       " <selenium.webdriver.remote.webelement.WebElement (session=\"5aa83ea9c22e35a6571ee33d6c315a5e\", element=\"62eb8d06-9312-47f3-8056-85504641b74d\")>,\n",
       " <selenium.webdriver.remote.webelement.WebElement (session=\"5aa83ea9c22e35a6571ee33d6c315a5e\", element=\"d8341822-bd52-4c47-b7de-591bcd70463e\")>,\n",
       " <selenium.webdriver.remote.webelement.WebElement (session=\"5aa83ea9c22e35a6571ee33d6c315a5e\", element=\"bdcb5202-e83d-43a9-8f23-db1d7c70f774\")>,\n",
       " <selenium.webdriver.remote.webelement.WebElement (session=\"5aa83ea9c22e35a6571ee33d6c315a5e\", element=\"893b8ae2-91e3-4bb8-9d9e-02c4ccb42e31\")>,\n",
       " <selenium.webdriver.remote.webelement.WebElement (session=\"5aa83ea9c22e35a6571ee33d6c315a5e\", element=\"11971255-98f6-4ab8-b880-4edace8f5fba\")>,\n",
       " <selenium.webdriver.remote.webelement.WebElement (session=\"5aa83ea9c22e35a6571ee33d6c315a5e\", element=\"d69402ae-b054-49ec-9768-339eed971207\")>,\n",
       " <selenium.webdriver.remote.webelement.WebElement (session=\"5aa83ea9c22e35a6571ee33d6c315a5e\", element=\"6e1f8b40-e218-4f29-8ef4-89c7740a0080\")>,\n",
       " <selenium.webdriver.remote.webelement.WebElement (session=\"5aa83ea9c22e35a6571ee33d6c315a5e\", element=\"28edd59f-6fc2-4e34-8814-2879a83c93ab\")>,\n",
       " <selenium.webdriver.remote.webelement.WebElement (session=\"5aa83ea9c22e35a6571ee33d6c315a5e\", element=\"30709d56-5e73-407f-acde-f9eebb491812\")>,\n",
       " <selenium.webdriver.remote.webelement.WebElement (session=\"5aa83ea9c22e35a6571ee33d6c315a5e\", element=\"05ebd1c0-90fc-4d1a-b727-170f7ac1387e\")>,\n",
       " <selenium.webdriver.remote.webelement.WebElement (session=\"5aa83ea9c22e35a6571ee33d6c315a5e\", element=\"3639231d-f31a-4d87-b859-69a5c0b4883b\")>,\n",
       " <selenium.webdriver.remote.webelement.WebElement (session=\"5aa83ea9c22e35a6571ee33d6c315a5e\", element=\"cef7ab89-ec6d-4aae-bfb4-cb2b8224b0c1\")>,\n",
       " <selenium.webdriver.remote.webelement.WebElement (session=\"5aa83ea9c22e35a6571ee33d6c315a5e\", element=\"5cca632a-54f1-49f6-a484-4ec3a2a5f5a8\")>,\n",
       " <selenium.webdriver.remote.webelement.WebElement (session=\"5aa83ea9c22e35a6571ee33d6c315a5e\", element=\"b93d09a9-d387-4601-84b1-71efe873c147\")>,\n",
       " <selenium.webdriver.remote.webelement.WebElement (session=\"5aa83ea9c22e35a6571ee33d6c315a5e\", element=\"80c66b63-efc3-45c5-80b2-2a452cda2121\")>,\n",
       " <selenium.webdriver.remote.webelement.WebElement (session=\"5aa83ea9c22e35a6571ee33d6c315a5e\", element=\"060d8747-f08e-4e09-98a0-41d2ded0480f\")>,\n",
       " <selenium.webdriver.remote.webelement.WebElement (session=\"5aa83ea9c22e35a6571ee33d6c315a5e\", element=\"db1dd6fa-8b7b-4597-b270-a55bfcda04e2\")>,\n",
       " <selenium.webdriver.remote.webelement.WebElement (session=\"5aa83ea9c22e35a6571ee33d6c315a5e\", element=\"b9731b8d-5f17-4c56-84ea-7bc9eff1c6dc\")>,\n",
       " <selenium.webdriver.remote.webelement.WebElement (session=\"5aa83ea9c22e35a6571ee33d6c315a5e\", element=\"3bba9ff7-0595-4087-acd3-164172571b30\")>,\n",
       " <selenium.webdriver.remote.webelement.WebElement (session=\"5aa83ea9c22e35a6571ee33d6c315a5e\", element=\"9a2246f9-132f-4c83-827f-29717e4170cb\")>,\n",
       " <selenium.webdriver.remote.webelement.WebElement (session=\"5aa83ea9c22e35a6571ee33d6c315a5e\", element=\"5b3d3b89-195c-42ad-9996-f9a53f6cce41\")>,\n",
       " <selenium.webdriver.remote.webelement.WebElement (session=\"5aa83ea9c22e35a6571ee33d6c315a5e\", element=\"e26c5c35-436b-45af-9eb2-4e741247b39b\")>,\n",
       " <selenium.webdriver.remote.webelement.WebElement (session=\"5aa83ea9c22e35a6571ee33d6c315a5e\", element=\"ab8d4244-9d4d-42f9-8f65-540572ae0cc8\")>,\n",
       " <selenium.webdriver.remote.webelement.WebElement (session=\"5aa83ea9c22e35a6571ee33d6c315a5e\", element=\"8c734521-ee0a-40b4-85f3-780d498d7ebc\")>,\n",
       " <selenium.webdriver.remote.webelement.WebElement (session=\"5aa83ea9c22e35a6571ee33d6c315a5e\", element=\"69f18951-62e4-44b4-b827-e4e18a5be928\")>,\n",
       " <selenium.webdriver.remote.webelement.WebElement (session=\"5aa83ea9c22e35a6571ee33d6c315a5e\", element=\"ecc5cda5-5ff7-4971-a7e6-8f26b438ac82\")>,\n",
       " <selenium.webdriver.remote.webelement.WebElement (session=\"5aa83ea9c22e35a6571ee33d6c315a5e\", element=\"8fd06300-80ac-40ca-80f6-b73cf73d615d\")>,\n",
       " <selenium.webdriver.remote.webelement.WebElement (session=\"5aa83ea9c22e35a6571ee33d6c315a5e\", element=\"8f3f43ce-6041-44d5-a6af-4bb38b03a182\")>,\n",
       " <selenium.webdriver.remote.webelement.WebElement (session=\"5aa83ea9c22e35a6571ee33d6c315a5e\", element=\"b553700d-a391-4b96-9711-09a0f9b2964a\")>,\n",
       " <selenium.webdriver.remote.webelement.WebElement (session=\"5aa83ea9c22e35a6571ee33d6c315a5e\", element=\"337d66a4-79ce-4015-8edb-ff124db675ef\")>,\n",
       " <selenium.webdriver.remote.webelement.WebElement (session=\"5aa83ea9c22e35a6571ee33d6c315a5e\", element=\"6ba80540-164d-4a22-a3eb-4483edbe26f3\")>,\n",
       " <selenium.webdriver.remote.webelement.WebElement (session=\"5aa83ea9c22e35a6571ee33d6c315a5e\", element=\"b674a964-1f54-48d5-b3bf-e98343261f34\")>,\n",
       " <selenium.webdriver.remote.webelement.WebElement (session=\"5aa83ea9c22e35a6571ee33d6c315a5e\", element=\"5f1fe1b1-9883-4c18-b8f9-15869bbcf94a\")>,\n",
       " <selenium.webdriver.remote.webelement.WebElement (session=\"5aa83ea9c22e35a6571ee33d6c315a5e\", element=\"2fce4c85-5619-45bc-8571-f5eada9e903a\")>,\n",
       " <selenium.webdriver.remote.webelement.WebElement (session=\"5aa83ea9c22e35a6571ee33d6c315a5e\", element=\"3ec418a0-d495-4ea3-b1c8-c8255712c201\")>,\n",
       " <selenium.webdriver.remote.webelement.WebElement (session=\"5aa83ea9c22e35a6571ee33d6c315a5e\", element=\"043267e3-97de-4537-bb7e-cc262a66c97f\")>,\n",
       " <selenium.webdriver.remote.webelement.WebElement (session=\"5aa83ea9c22e35a6571ee33d6c315a5e\", element=\"bbf25a57-9659-44e8-976c-629615766b87\")>,\n",
       " <selenium.webdriver.remote.webelement.WebElement (session=\"5aa83ea9c22e35a6571ee33d6c315a5e\", element=\"0c78f4aa-ef0e-466a-95ff-5619e7c13efa\")>,\n",
       " <selenium.webdriver.remote.webelement.WebElement (session=\"5aa83ea9c22e35a6571ee33d6c315a5e\", element=\"a88dda8a-2b55-48f7-99d1-4fdc495c489d\")>,\n",
       " <selenium.webdriver.remote.webelement.WebElement (session=\"5aa83ea9c22e35a6571ee33d6c315a5e\", element=\"9a1aa60d-124a-491a-ad34-aad256c711de\")>,\n",
       " <selenium.webdriver.remote.webelement.WebElement (session=\"5aa83ea9c22e35a6571ee33d6c315a5e\", element=\"95d70309-4805-4928-993a-1c90163ed603\")>,\n",
       " <selenium.webdriver.remote.webelement.WebElement (session=\"5aa83ea9c22e35a6571ee33d6c315a5e\", element=\"edb3e7a8-0730-46c6-8e7a-9a418e214ad9\")>,\n",
       " <selenium.webdriver.remote.webelement.WebElement (session=\"5aa83ea9c22e35a6571ee33d6c315a5e\", element=\"53d76757-4b29-4223-adf7-a19c706abc26\")>,\n",
       " <selenium.webdriver.remote.webelement.WebElement (session=\"5aa83ea9c22e35a6571ee33d6c315a5e\", element=\"93a8b00b-f7d9-41a0-9ae1-8d4215c8effe\")>,\n",
       " <selenium.webdriver.remote.webelement.WebElement (session=\"5aa83ea9c22e35a6571ee33d6c315a5e\", element=\"bce9b8bf-bacf-491d-8cec-e740ae919a7d\")>,\n",
       " <selenium.webdriver.remote.webelement.WebElement (session=\"5aa83ea9c22e35a6571ee33d6c315a5e\", element=\"86e0c92f-77af-4bfb-bebf-671ad09184d5\")>,\n",
       " <selenium.webdriver.remote.webelement.WebElement (session=\"5aa83ea9c22e35a6571ee33d6c315a5e\", element=\"a2a5297a-ac5a-47d5-9eb4-bba110080a06\")>,\n",
       " <selenium.webdriver.remote.webelement.WebElement (session=\"5aa83ea9c22e35a6571ee33d6c315a5e\", element=\"42827354-6694-44d3-ad41-7b5819e504bd\")>,\n",
       " <selenium.webdriver.remote.webelement.WebElement (session=\"5aa83ea9c22e35a6571ee33d6c315a5e\", element=\"0089df6c-eec1-438a-ace3-76d30d58a6c8\")>,\n",
       " <selenium.webdriver.remote.webelement.WebElement (session=\"5aa83ea9c22e35a6571ee33d6c315a5e\", element=\"468a4d25-1f81-41da-89c0-6df35d812135\")>,\n",
       " <selenium.webdriver.remote.webelement.WebElement (session=\"5aa83ea9c22e35a6571ee33d6c315a5e\", element=\"3d352922-97ee-4b67-ae89-13570ba93d8a\")>,\n",
       " <selenium.webdriver.remote.webelement.WebElement (session=\"5aa83ea9c22e35a6571ee33d6c315a5e\", element=\"9cfcc2e1-fbbd-4f40-a93f-ed05460145db\")>,\n",
       " <selenium.webdriver.remote.webelement.WebElement (session=\"5aa83ea9c22e35a6571ee33d6c315a5e\", element=\"ac915fed-5e14-4813-bc4a-3e60b7a836d3\")>,\n",
       " <selenium.webdriver.remote.webelement.WebElement (session=\"5aa83ea9c22e35a6571ee33d6c315a5e\", element=\"e10220e9-ffd0-421a-b25a-8368c07485d0\")>,\n",
       " <selenium.webdriver.remote.webelement.WebElement (session=\"5aa83ea9c22e35a6571ee33d6c315a5e\", element=\"ed02473e-f786-430b-b780-d2be1db74be6\")>,\n",
       " <selenium.webdriver.remote.webelement.WebElement (session=\"5aa83ea9c22e35a6571ee33d6c315a5e\", element=\"709e9181-4711-4d6a-b8d7-bac25fd2285e\")>,\n",
       " <selenium.webdriver.remote.webelement.WebElement (session=\"5aa83ea9c22e35a6571ee33d6c315a5e\", element=\"3e83e7e3-3fbf-4c18-842b-c724de6312dc\")>,\n",
       " <selenium.webdriver.remote.webelement.WebElement (session=\"5aa83ea9c22e35a6571ee33d6c315a5e\", element=\"d150e9b5-7e7b-49a0-8194-7018265e1f1b\")>]"
      ]
     },
     "execution_count": 309,
     "metadata": {},
     "output_type": "execute_result"
    }
   ],
   "source": [
    "primarycam=driver4.find_elements_by_xpath('//li[@class=\"rgWa7D\"]')\n",
    "primarycam"
   ]
  },
  {
   "cell_type": "code",
   "execution_count": 310,
   "id": "52733af1",
   "metadata": {},
   "outputs": [
    {
     "data": {
      "text/plain": [
       "['12 + 5',\n",
       " '12 + 5',\n",
       " '12 + 5',\n",
       " '12 + 5',\n",
       " '12 + 5',\n",
       " '12 + 5',\n",
       " '12 + 5',\n",
       " '12 + 5',\n",
       " '12 + 5',\n",
       " '12 + 5',\n",
       " '12 + 5']"
      ]
     },
     "execution_count": 310,
     "metadata": {},
     "output_type": "execute_result"
    }
   ],
   "source": [
    "primarycams=[]\n",
    "for i in range(2,66,6):\n",
    "    primarycams.append(primarycam[i].text.replace('12MP + 5MP | 20MP Front Camera','12 + 5'))\n",
    "primarycams"
   ]
  },
  {
   "cell_type": "code",
   "execution_count": 311,
   "id": "3d39aa96",
   "metadata": {},
   "outputs": [
    {
     "data": {
      "text/plain": [
       "['20', '20', '20', '20', '20', '20', '20', '20', '20', '20', '20']"
      ]
     },
     "execution_count": 311,
     "metadata": {},
     "output_type": "execute_result"
    }
   ],
   "source": [
    "secondarycam=[]\n",
    "for i in range(2,66,6):\n",
    "    secondarycam.append(primarycam[i].text.replace('12MP + 5MP | 20MP Front Camera','20'))\n",
    "secondarycam"
   ]
  },
  {
   "cell_type": "code",
   "execution_count": 312,
   "id": "6d6f4a81",
   "metadata": {},
   "outputs": [
    {
     "data": {
      "text/plain": [
       "['15.7',\n",
       " '15.7',\n",
       " '15.7',\n",
       " '15.7',\n",
       " '15.7',\n",
       " '15.7',\n",
       " '15.7',\n",
       " '15.7',\n",
       " '15.7',\n",
       " '15.7',\n",
       " '15.7']"
      ]
     },
     "execution_count": 312,
     "metadata": {},
     "output_type": "execute_result"
    }
   ],
   "source": [
    "displaysize=[]\n",
    "for i in range(1,66,6):\n",
    "    displaysize.append(ram[i].text.replace(' cm (6.18 inch) Full HD+ Display',''))\n",
    "displaysize"
   ]
  },
  {
   "cell_type": "code",
   "execution_count": 313,
   "id": "62fc96fc",
   "metadata": {},
   "outputs": [
    {
     "data": {
      "text/plain": [
       "['4000',\n",
       " '4000',\n",
       " '4000',\n",
       " '4000',\n",
       " '4000',\n",
       " '4000',\n",
       " '4000',\n",
       " '4000',\n",
       " '4000',\n",
       " '4000',\n",
       " '4000']"
      ]
     },
     "execution_count": 313,
     "metadata": {},
     "output_type": "execute_result"
    }
   ],
   "source": [
    "battery=[]\n",
    "for i in range(3,66,6):\n",
    "    battery.append(ram[i].text.replace(' mAh Li-polymer Battery',''))\n",
    "battery"
   ]
  },
  {
   "cell_type": "code",
   "execution_count": 314,
   "id": "3e5fe2f7",
   "metadata": {},
   "outputs": [
    {
     "data": {
      "text/plain": [
       "[<selenium.webdriver.remote.webelement.WebElement (session=\"5aa83ea9c22e35a6571ee33d6c315a5e\", element=\"a90c62db-24a1-4ad3-8298-7f634e289db9\")>,\n",
       " <selenium.webdriver.remote.webelement.WebElement (session=\"5aa83ea9c22e35a6571ee33d6c315a5e\", element=\"14c041d8-0d8a-4269-b7ba-d743a694a991\")>,\n",
       " <selenium.webdriver.remote.webelement.WebElement (session=\"5aa83ea9c22e35a6571ee33d6c315a5e\", element=\"30a1adca-5e91-4358-bc71-5806bf8386e3\")>,\n",
       " <selenium.webdriver.remote.webelement.WebElement (session=\"5aa83ea9c22e35a6571ee33d6c315a5e\", element=\"7bd9c297-4242-47da-b660-f9ab80220507\")>,\n",
       " <selenium.webdriver.remote.webelement.WebElement (session=\"5aa83ea9c22e35a6571ee33d6c315a5e\", element=\"2b664090-d33f-4165-bc15-637d45244ab5\")>,\n",
       " <selenium.webdriver.remote.webelement.WebElement (session=\"5aa83ea9c22e35a6571ee33d6c315a5e\", element=\"9bbb7fd6-2983-419c-bf78-77ae049ed38e\")>,\n",
       " <selenium.webdriver.remote.webelement.WebElement (session=\"5aa83ea9c22e35a6571ee33d6c315a5e\", element=\"866bfa1c-0b75-4531-be4a-ad29e69fa60b\")>,\n",
       " <selenium.webdriver.remote.webelement.WebElement (session=\"5aa83ea9c22e35a6571ee33d6c315a5e\", element=\"11291228-a7e1-4c83-8d76-4400e3c44eca\")>,\n",
       " <selenium.webdriver.remote.webelement.WebElement (session=\"5aa83ea9c22e35a6571ee33d6c315a5e\", element=\"753f4b1e-fb10-4d59-bfcb-2d882d678b3e\")>,\n",
       " <selenium.webdriver.remote.webelement.WebElement (session=\"5aa83ea9c22e35a6571ee33d6c315a5e\", element=\"843bb538-6d2a-4809-9931-226ac79bbb95\")>,\n",
       " <selenium.webdriver.remote.webelement.WebElement (session=\"5aa83ea9c22e35a6571ee33d6c315a5e\", element=\"694d921b-a9f0-46c0-9654-a45b82c68b1a\")>]"
      ]
     },
     "execution_count": 314,
     "metadata": {},
     "output_type": "execute_result"
    }
   ],
   "source": [
    "price=driver4.find_elements_by_xpath('//div[@class=\"_30jeq3 _1_WHN1\"]')\n",
    "price"
   ]
  },
  {
   "cell_type": "code",
   "execution_count": 315,
   "id": "d09ead41",
   "metadata": {},
   "outputs": [
    {
     "data": {
      "text/plain": [
       "['₹24,999',\n",
       " '₹30,999',\n",
       " '₹21,999',\n",
       " '₹21,999',\n",
       " '₹24,999',\n",
       " '₹30,999',\n",
       " '₹24,999',\n",
       " '₹16,999',\n",
       " '₹21,999',\n",
       " '₹15,990',\n",
       " '₹21,999']"
      ]
     },
     "execution_count": 315,
     "metadata": {},
     "output_type": "execute_result"
    }
   ],
   "source": [
    "prices=[]\n",
    "for i in price:\n",
    "    prices.append(i.text)\n",
    "prices"
   ]
  },
  {
   "cell_type": "code",
   "execution_count": 316,
   "id": "1712a120",
   "metadata": {},
   "outputs": [
    {
     "data": {
      "text/plain": [
       "[<selenium.webdriver.remote.webelement.WebElement (session=\"5aa83ea9c22e35a6571ee33d6c315a5e\", element=\"23c52d98-5116-42a4-803a-4c2704861cae\")>,\n",
       " <selenium.webdriver.remote.webelement.WebElement (session=\"5aa83ea9c22e35a6571ee33d6c315a5e\", element=\"3dc64578-9ca1-427c-92ab-0f86d3687b7a\")>]"
      ]
     },
     "execution_count": 316,
     "metadata": {},
     "output_type": "execute_result"
    }
   ],
   "source": [
    "producturl=driver4.find_elements_by_xpath('//a[@class=\"_1fQZEK\"]')\n",
    "producturl[0:2]"
   ]
  },
  {
   "cell_type": "code",
   "execution_count": 317,
   "id": "124aa4a4",
   "metadata": {},
   "outputs": [
    {
     "data": {
      "text/plain": [
       "['https://www.flipkart.com/poco-f1-rosso-red-128-gb/p/itmf9c3ndhnupfek?pid=MOBF9A67CBJRXFWQ&lid=LSTMOBF9A67CBJRXFWQ6OITSP&marketplace=FLIPKART&q=Poco+F1&store=tyy%2F4io&srno=s_1_1&otracker=search&otracker1=search&fm=Search&iid=046add9f-3b0b-400e-8b31-f303a1c2f0eb.MOBF9A67CBJRXFWQ.SEARCH&ppt=hp&ppn=homepage&ssid=cuhnna9ekg0000001648651410467&qH=8ef8091b1c115a56',\n",
       " 'https://www.flipkart.com/poco-f1-steel-blue-256-gb/p/itmf8qpcumze7msy?pid=MOBF85V7SSRXGFRZ&lid=LSTMOBF85V7SSRXGFRZYF68TE&marketplace=FLIPKART&q=Poco+F1&store=tyy%2F4io&srno=s_1_2&otracker=search&otracker1=search&fm=Search&iid=046add9f-3b0b-400e-8b31-f303a1c2f0eb.MOBF85V7SSRXGFRZ.SEARCH&ppt=hp&ppn=homepage&ssid=cuhnna9ekg0000001648651410467&qH=8ef8091b1c115a56',\n",
       " 'https://www.flipkart.com/poco-f1-steel-blue-64-gb/p/itmf8fyhgyg3aggg?pid=MOBF85V7ZJGSTXGN&lid=LSTMOBF85V7ZJGSTXGNLJF9CD&marketplace=FLIPKART&q=Poco+F1&store=tyy%2F4io&srno=s_1_3&otracker=search&otracker1=search&fm=Search&iid=046add9f-3b0b-400e-8b31-f303a1c2f0eb.MOBF85V7ZJGSTXGN.SEARCH&ppt=hp&ppn=homepage&ssid=cuhnna9ekg0000001648651410467&qH=8ef8091b1c115a56',\n",
       " 'https://www.flipkart.com/poco-f1-rosso-red-64-gb/p/itmf9c3nheykcepp?pid=MOBF9A67HZBXF8FH&lid=LSTMOBF9A67HZBXF8FHJP9JRC&marketplace=FLIPKART&q=Poco+F1&store=tyy%2F4io&srno=s_1_4&otracker=search&otracker1=search&fm=Search&iid=046add9f-3b0b-400e-8b31-f303a1c2f0eb.MOBF9A67HZBXF8FH.SEARCH&ppt=hp&ppn=homepage&ssid=cuhnna9ekg0000001648651410467&qH=8ef8091b1c115a56',\n",
       " 'https://www.flipkart.com/poco-f1-graphite-black-128-gb/p/itmf8ht2asd5zvm9?pid=MOBF85V7WEHZ2SFE&lid=LSTMOBF85V7WEHZ2SFE0ICEMQ&marketplace=FLIPKART&q=Poco+F1&store=tyy%2F4io&srno=s_1_5&otracker=search&otracker1=search&fm=Search&iid=046add9f-3b0b-400e-8b31-f303a1c2f0eb.MOBF85V7WEHZ2SFE.SEARCH&ppt=hp&ppn=homepage&ssid=cuhnna9ekg0000001648651410467&qH=8ef8091b1c115a56',\n",
       " 'https://www.flipkart.com/poco-f1-armoured-edition-256-gb/p/itmf85v7gng2eg2q?pid=MOBF85V7GGME7ARA&lid=LSTMOBF85V7GGME7ARAJM91D9&marketplace=FLIPKART&q=Poco+F1&store=tyy%2F4io&srno=s_1_6&otracker=search&otracker1=search&fm=Search&iid=046add9f-3b0b-400e-8b31-f303a1c2f0eb.MOBF85V7GGME7ARA.SEARCH&ppt=hp&ppn=homepage&ssid=cuhnna9ekg0000001648651410467&qH=8ef8091b1c115a56',\n",
       " 'https://www.flipkart.com/poco-f1-steel-blue-128-gb/p/itmf8hu3fb9bjqz4?pid=MOBF85V7KKANFFZX&lid=LSTMOBF85V7KKANFFZXRAN5AB&marketplace=FLIPKART&q=Poco+F1&store=tyy%2F4io&srno=s_1_7&otracker=search&otracker1=search&fm=Search&iid=046add9f-3b0b-400e-8b31-f303a1c2f0eb.MOBF85V7KKANFFZX.SEARCH&ppt=hp&ppn=homepage&ssid=cuhnna9ekg0000001648651410467&qH=8ef8091b1c115a56',\n",
       " 'https://www.flipkart.com/poco-f1-armoured-edition-128-gb/p/itmfbyd6nzexrpgk?pid=MOBFBYD6HGFZUNKS&lid=LSTMOBFBYD6HGFZUNKSXURBNR&marketplace=FLIPKART&q=Poco+F1&store=tyy%2F4io&srno=s_1_8&otracker=search&otracker1=search&fm=Search&iid=046add9f-3b0b-400e-8b31-f303a1c2f0eb.MOBFBYD6HGFZUNKS.SEARCH&ppt=hp&ppn=homepage&ssid=cuhnna9ekg0000001648651410467&qH=8ef8091b1c115a56',\n",
       " 'https://www.flipkart.com/poco-f1-graphite-black-256-gb/p/itmf8qpcrwtftp8q?pid=MOBF85V7XH4YJVAP&lid=LSTMOBF85V7XH4YJVAPWXZRDJ&marketplace=FLIPKART&q=Poco+F1&store=tyy%2F4io&srno=s_1_9&otracker=search&otracker1=search&fm=Search&iid=046add9f-3b0b-400e-8b31-f303a1c2f0eb.MOBF85V7XH4YJVAP.SEARCH&ppt=hp&ppn=homepage&ssid=cuhnna9ekg0000001648651410467&qH=8ef8091b1c115a56',\n",
       " 'https://www.flipkart.com/poco-f1-graphite-black-64-gb/p/itmf8fyjyssnt25c?pid=MOBF85V7A6PXETAX&lid=LSTMOBF85V7A6PXETAXAXEXRG&marketplace=FLIPKART&q=Poco+F1&store=tyy%2F4io&srno=s_1_10&otracker=search&otracker1=search&fm=Search&iid=046add9f-3b0b-400e-8b31-f303a1c2f0eb.MOBF85V7A6PXETAX.SEARCH&ppt=hp&ppn=homepage&ssid=cuhnna9ekg0000001648651410467&qH=8ef8091b1c115a56',\n",
       " 'https://www.flipkart.com/poco-f1-rosso-red-256-gb/p/itmf9a67ke8pvyca?pid=MOBF9A67BP8XSUVG&lid=LSTMOBF9A67BP8XSUVGLXBYXN&marketplace=FLIPKART&q=Poco+F1&store=tyy%2F4io&srno=s_1_11&otracker=search&otracker1=search&fm=Search&iid=046add9f-3b0b-400e-8b31-f303a1c2f0eb.MOBF9A67BP8XSUVG.SEARCH&ppt=hp&ppn=homepage&ssid=cuhnna9ekg0000001648651410467&qH=8ef8091b1c115a56']"
      ]
     },
     "execution_count": 317,
     "metadata": {},
     "output_type": "execute_result"
    }
   ],
   "source": [
    "producturls=[]\n",
    "for i in producturl:\n",
    "    producturls.append(i.get_attribute('href'))\n",
    "producturls"
   ]
  },
  {
   "cell_type": "code",
   "execution_count": 319,
   "id": "fff4a2d8",
   "metadata": {},
   "outputs": [
    {
     "data": {
      "text/html": [
       "<div>\n",
       "<style scoped>\n",
       "    .dataframe tbody tr th:only-of-type {\n",
       "        vertical-align: middle;\n",
       "    }\n",
       "\n",
       "    .dataframe tbody tr th {\n",
       "        vertical-align: top;\n",
       "    }\n",
       "\n",
       "    .dataframe thead th {\n",
       "        text-align: right;\n",
       "    }\n",
       "</style>\n",
       "<table border=\"1\" class=\"dataframe\">\n",
       "  <thead>\n",
       "    <tr style=\"text-align: right;\">\n",
       "      <th></th>\n",
       "      <th>smartphone_name</th>\n",
       "      <th>colour</th>\n",
       "      <th>RAM</th>\n",
       "      <th>ROM</th>\n",
       "      <th>primary_camera</th>\n",
       "      <th>scondary_camera</th>\n",
       "      <th>display_size</th>\n",
       "      <th>battery</th>\n",
       "      <th>price</th>\n",
       "      <th>url</th>\n",
       "    </tr>\n",
       "  </thead>\n",
       "  <tbody>\n",
       "    <tr>\n",
       "      <th>0</th>\n",
       "      <td>[POCO, F1]</td>\n",
       "      <td>[(Rosso, Red,]</td>\n",
       "      <td>6</td>\n",
       "      <td>128</td>\n",
       "      <td>12 + 5</td>\n",
       "      <td>20</td>\n",
       "      <td>15.7</td>\n",
       "      <td>4000</td>\n",
       "      <td>₹24,999</td>\n",
       "      <td>https://www.flipkart.com/poco-f1-rosso-red-128...</td>\n",
       "    </tr>\n",
       "    <tr>\n",
       "      <th>1</th>\n",
       "      <td>[POCO, F1]</td>\n",
       "      <td>[(Steel, Blue,]</td>\n",
       "      <td>8</td>\n",
       "      <td>256</td>\n",
       "      <td>12 + 5</td>\n",
       "      <td>20</td>\n",
       "      <td>15.7</td>\n",
       "      <td>4000</td>\n",
       "      <td>₹30,999</td>\n",
       "      <td>https://www.flipkart.com/poco-f1-steel-blue-25...</td>\n",
       "    </tr>\n",
       "    <tr>\n",
       "      <th>2</th>\n",
       "      <td>[POCO, F1]</td>\n",
       "      <td>[(Steel, Blue,]</td>\n",
       "      <td>6</td>\n",
       "      <td>64</td>\n",
       "      <td>12 + 5</td>\n",
       "      <td>20</td>\n",
       "      <td>15.7</td>\n",
       "      <td>4000</td>\n",
       "      <td>₹21,999</td>\n",
       "      <td>https://www.flipkart.com/poco-f1-steel-blue-64...</td>\n",
       "    </tr>\n",
       "    <tr>\n",
       "      <th>3</th>\n",
       "      <td>[POCO, F1]</td>\n",
       "      <td>[(Rosso, Red,]</td>\n",
       "      <td>6</td>\n",
       "      <td>64</td>\n",
       "      <td>12 + 5</td>\n",
       "      <td>20</td>\n",
       "      <td>15.7</td>\n",
       "      <td>4000</td>\n",
       "      <td>₹21,999</td>\n",
       "      <td>https://www.flipkart.com/poco-f1-rosso-red-64-...</td>\n",
       "    </tr>\n",
       "    <tr>\n",
       "      <th>4</th>\n",
       "      <td>[POCO, F1]</td>\n",
       "      <td>[(Graphite, Black,]</td>\n",
       "      <td>6</td>\n",
       "      <td>128</td>\n",
       "      <td>12 + 5</td>\n",
       "      <td>20</td>\n",
       "      <td>15.7</td>\n",
       "      <td>4000</td>\n",
       "      <td>₹24,999</td>\n",
       "      <td>https://www.flipkart.com/poco-f1-graphite-blac...</td>\n",
       "    </tr>\n",
       "    <tr>\n",
       "      <th>5</th>\n",
       "      <td>[POCO, F1]</td>\n",
       "      <td>[(Armoured, Edition,]</td>\n",
       "      <td>8</td>\n",
       "      <td>256</td>\n",
       "      <td>12 + 5</td>\n",
       "      <td>20</td>\n",
       "      <td>15.7</td>\n",
       "      <td>4000</td>\n",
       "      <td>₹30,999</td>\n",
       "      <td>https://www.flipkart.com/poco-f1-armoured-edit...</td>\n",
       "    </tr>\n",
       "    <tr>\n",
       "      <th>6</th>\n",
       "      <td>[POCO, F1]</td>\n",
       "      <td>[(Steel, Blue,]</td>\n",
       "      <td>6</td>\n",
       "      <td>128</td>\n",
       "      <td>12 + 5</td>\n",
       "      <td>20</td>\n",
       "      <td>15.7</td>\n",
       "      <td>4000</td>\n",
       "      <td>₹24,999</td>\n",
       "      <td>https://www.flipkart.com/poco-f1-steel-blue-12...</td>\n",
       "    </tr>\n",
       "    <tr>\n",
       "      <th>7</th>\n",
       "      <td>[POCO, F1]</td>\n",
       "      <td>[(Armoured, Edition,]</td>\n",
       "      <td>6</td>\n",
       "      <td>128</td>\n",
       "      <td>12 + 5</td>\n",
       "      <td>20</td>\n",
       "      <td>15.7</td>\n",
       "      <td>4000</td>\n",
       "      <td>₹16,999</td>\n",
       "      <td>https://www.flipkart.com/poco-f1-armoured-edit...</td>\n",
       "    </tr>\n",
       "    <tr>\n",
       "      <th>8</th>\n",
       "      <td>[POCO, F1]</td>\n",
       "      <td>[(Graphite, Black,]</td>\n",
       "      <td>8</td>\n",
       "      <td>256</td>\n",
       "      <td>12 + 5</td>\n",
       "      <td>20</td>\n",
       "      <td>15.7</td>\n",
       "      <td>4000</td>\n",
       "      <td>₹21,999</td>\n",
       "      <td>https://www.flipkart.com/poco-f1-graphite-blac...</td>\n",
       "    </tr>\n",
       "    <tr>\n",
       "      <th>9</th>\n",
       "      <td>[POCO, F1]</td>\n",
       "      <td>[(Graphite, Black,]</td>\n",
       "      <td>6</td>\n",
       "      <td>64</td>\n",
       "      <td>12 + 5</td>\n",
       "      <td>20</td>\n",
       "      <td>15.7</td>\n",
       "      <td>4000</td>\n",
       "      <td>₹15,990</td>\n",
       "      <td>https://www.flipkart.com/poco-f1-graphite-blac...</td>\n",
       "    </tr>\n",
       "    <tr>\n",
       "      <th>10</th>\n",
       "      <td>[POCO, F1]</td>\n",
       "      <td>[(Rosso, Red,]</td>\n",
       "      <td>8</td>\n",
       "      <td>256</td>\n",
       "      <td>12 + 5</td>\n",
       "      <td>20</td>\n",
       "      <td>15.7</td>\n",
       "      <td>4000</td>\n",
       "      <td>₹21,999</td>\n",
       "      <td>https://www.flipkart.com/poco-f1-rosso-red-256...</td>\n",
       "    </tr>\n",
       "  </tbody>\n",
       "</table>\n",
       "</div>"
      ],
      "text/plain": [
       "   smartphone_name                 colour RAM  ROM primary_camera  \\\n",
       "0       [POCO, F1]         [(Rosso, Red,]   6  128         12 + 5   \n",
       "1       [POCO, F1]        [(Steel, Blue,]   8  256         12 + 5   \n",
       "2       [POCO, F1]        [(Steel, Blue,]   6   64         12 + 5   \n",
       "3       [POCO, F1]         [(Rosso, Red,]   6   64         12 + 5   \n",
       "4       [POCO, F1]    [(Graphite, Black,]   6  128         12 + 5   \n",
       "5       [POCO, F1]  [(Armoured, Edition,]   8  256         12 + 5   \n",
       "6       [POCO, F1]        [(Steel, Blue,]   6  128         12 + 5   \n",
       "7       [POCO, F1]  [(Armoured, Edition,]   6  128         12 + 5   \n",
       "8       [POCO, F1]    [(Graphite, Black,]   8  256         12 + 5   \n",
       "9       [POCO, F1]    [(Graphite, Black,]   6   64         12 + 5   \n",
       "10      [POCO, F1]         [(Rosso, Red,]   8  256         12 + 5   \n",
       "\n",
       "   scondary_camera display_size battery    price  \\\n",
       "0               20         15.7    4000  ₹24,999   \n",
       "1               20         15.7    4000  ₹30,999   \n",
       "2               20         15.7    4000  ₹21,999   \n",
       "3               20         15.7    4000  ₹21,999   \n",
       "4               20         15.7    4000  ₹24,999   \n",
       "5               20         15.7    4000  ₹30,999   \n",
       "6               20         15.7    4000  ₹24,999   \n",
       "7               20         15.7    4000  ₹16,999   \n",
       "8               20         15.7    4000  ₹21,999   \n",
       "9               20         15.7    4000  ₹15,990   \n",
       "10              20         15.7    4000  ₹21,999   \n",
       "\n",
       "                                                  url  \n",
       "0   https://www.flipkart.com/poco-f1-rosso-red-128...  \n",
       "1   https://www.flipkart.com/poco-f1-steel-blue-25...  \n",
       "2   https://www.flipkart.com/poco-f1-steel-blue-64...  \n",
       "3   https://www.flipkart.com/poco-f1-rosso-red-64-...  \n",
       "4   https://www.flipkart.com/poco-f1-graphite-blac...  \n",
       "5   https://www.flipkart.com/poco-f1-armoured-edit...  \n",
       "6   https://www.flipkart.com/poco-f1-steel-blue-12...  \n",
       "7   https://www.flipkart.com/poco-f1-armoured-edit...  \n",
       "8   https://www.flipkart.com/poco-f1-graphite-blac...  \n",
       "9   https://www.flipkart.com/poco-f1-graphite-blac...  \n",
       "10  https://www.flipkart.com/poco-f1-rosso-red-256...  "
      ]
     },
     "execution_count": 319,
     "metadata": {},
     "output_type": "execute_result"
    }
   ],
   "source": [
    "df=pd.DataFrame()\n",
    "df['smartphone_name']=phonenames\n",
    "df['colour']=colours\n",
    "df['RAM']=ramss\n",
    "df['ROM']=roms\n",
    "df['primary_camera']=primarycams\n",
    "df['scondary_camera']=secondarycam\n",
    "df['display_size']=displaysize\n",
    "df['battery']=battery\n",
    "df['price']=prices\n",
    "df['url']=producturls\n",
    "df"
   ]
  },
  {
   "cell_type": "code",
   "execution_count": 323,
   "id": "0ed8d6c4",
   "metadata": {},
   "outputs": [],
   "source": [
    "df.to_csv('poco.csv',index=False)"
   ]
  },
  {
   "cell_type": "markdown",
   "id": "4ceba2d6",
   "metadata": {},
   "source": [
    "ans5)"
   ]
  },
  {
   "cell_type": "code",
   "execution_count": 22,
   "id": "94bc2abc",
   "metadata": {},
   "outputs": [],
   "source": [
    "driver5=webdriver.Chrome('chromedriver.exe')"
   ]
  },
  {
   "cell_type": "code",
   "execution_count": 23,
   "id": "69e2a60f",
   "metadata": {},
   "outputs": [],
   "source": [
    "url=('https://www.google.com/maps/')\n",
    "driver5.get(url)"
   ]
  },
  {
   "cell_type": "code",
   "execution_count": 24,
   "id": "a1047913",
   "metadata": {},
   "outputs": [
    {
     "data": {
      "text/plain": [
       "<selenium.webdriver.remote.webelement.WebElement (session=\"fe754863e43d5c28d90e8fb2769694cf\", element=\"97d8dead-9018-40d5-af21-ba8c4b591670\")>"
      ]
     },
     "execution_count": 24,
     "metadata": {},
     "output_type": "execute_result"
    }
   ],
   "source": [
    "gmap=driver5.find_element_by_xpath('/html/body/div[3]/div[9]/div[3]/div[1]/div[1]/div[1]/div[2]/form/div/div[3]/div/input[1]')\n",
    "gmap"
   ]
  },
  {
   "cell_type": "code",
   "execution_count": 25,
   "id": "8ee9d89d",
   "metadata": {},
   "outputs": [],
   "source": [
    "gmap.send_keys('Hisar,Haryana')"
   ]
  },
  {
   "cell_type": "code",
   "execution_count": 26,
   "id": "8798a149",
   "metadata": {},
   "outputs": [
    {
     "data": {
      "text/plain": [
       "<selenium.webdriver.remote.webelement.WebElement (session=\"fe754863e43d5c28d90e8fb2769694cf\", element=\"0ed789c3-b5b1-4d33-9e94-23c9aed88248\")>"
      ]
     },
     "execution_count": 26,
     "metadata": {},
     "output_type": "execute_result"
    }
   ],
   "source": [
    "searchbt=driver5.find_element_by_xpath('/html/body/div[3]/div[9]/div[3]/div[1]/div[1]/div[1]/div[2]/div[1]/button')\n",
    "searchbt"
   ]
  },
  {
   "cell_type": "code",
   "execution_count": 27,
   "id": "863755de",
   "metadata": {},
   "outputs": [],
   "source": [
    "searchbt.click()"
   ]
  },
  {
   "cell_type": "code",
   "execution_count": 33,
   "id": "8483f199",
   "metadata": {},
   "outputs": [
    {
     "name": "stdout",
     "output_type": "stream",
     "text": [
      "https://www.google.com/maps/place/Hisar,+Haryana/@29.1491875,75.581577,11z/data=!4m13!1m7!3m6!1s0x391232d8011d0c37:0x1d3f0df105af1178!2sHisar,+Haryana!3b1!8m2!3d29.1491875!4d75.7216527!3m4!1s0x391232d8011d0c37:0x1d3f0df105af1178!8m2!3d29.1491875!4d75.7216527\n"
     ]
    }
   ],
   "source": [
    "print(driver5.current_url)"
   ]
  },
  {
   "cell_type": "code",
   "execution_count": 35,
   "id": "fed070d0",
   "metadata": {},
   "outputs": [
    {
     "data": {
      "text/plain": [
       "'https://www.google.com/maps/place/Hisar,+Haryana/@29.1491875,75.581577,11z/data=!4m13!1m7!3m6!1s0x391232d8011d0c37:0x1d3f0df105af1178!2sHisar,+Haryana!3b1!8m2!3d29.1491875!4d75.7216527!3m4!1s0x391232d8011d0c37:0x1d3f0df105af1178!8m2!3d29.1491875!4d75.7216527'"
      ]
     },
     "execution_count": 35,
     "metadata": {},
     "output_type": "execute_result"
    }
   ],
   "source": [
    "list=driver5.current_url\n",
    "list"
   ]
  },
  {
   "cell_type": "code",
   "execution_count": 39,
   "id": "6b95ec23",
   "metadata": {},
   "outputs": [
    {
     "data": {
      "text/plain": [
       "'29.1491875!4d75.7216527'"
      ]
     },
     "execution_count": 39,
     "metadata": {},
     "output_type": "execute_result"
    }
   ],
   "source": [
    "list1=list.replace('https://www.google.com/maps/place/Hisar,+Haryana/@29.1491875,75.581577,11z/data=!4m13!1m7!3m6!1s0x391232d8011d0c37:0x1d3f0df105af1178!2sHisar,+Haryana!3b1!8m2!3d29.1491875!4d75.7216527!3m4!1s0x391232d8011d0c37:0x1d3f0df105af1178!8m2!3d','')\n",
    "list1"
   ]
  },
  {
   "cell_type": "code",
   "execution_count": 40,
   "id": "59fe696a",
   "metadata": {},
   "outputs": [
    {
     "data": {
      "text/plain": [
       "'29.1491875,75.7216527'"
      ]
     },
     "execution_count": 40,
     "metadata": {},
     "output_type": "execute_result"
    }
   ],
   "source": [
    "list1.replace('!4d',',')"
   ]
  },
  {
   "cell_type": "markdown",
   "id": "afc0908e",
   "metadata": {},
   "source": [
    "ans6)"
   ]
  },
  {
   "cell_type": "code",
   "execution_count": 236,
   "id": "37568a5a",
   "metadata": {},
   "outputs": [],
   "source": [
    "driver6=webdriver.Chrome('chromedriver.exe')"
   ]
  },
  {
   "cell_type": "code",
   "execution_count": 237,
   "id": "1dc59e31",
   "metadata": {},
   "outputs": [],
   "source": [
    "driver6.maximize_window()"
   ]
  },
  {
   "cell_type": "code",
   "execution_count": 238,
   "id": "d6493f23",
   "metadata": {},
   "outputs": [],
   "source": [
    "url=('https://trak.in/')\n",
    "driver6.get(url)"
   ]
  },
  {
   "cell_type": "code",
   "execution_count": 240,
   "id": "9b91e9e0",
   "metadata": {},
   "outputs": [
    {
     "data": {
      "text/plain": [
       "<selenium.webdriver.remote.webelement.WebElement (session=\"86ef6057b18cfc5875260b3b6250617a\", element=\"9b244582-848c-4dac-813c-9c24854446aa\")>"
      ]
     },
     "execution_count": 240,
     "metadata": {},
     "output_type": "execute_result"
    }
   ],
   "source": [
    "fd=driver6.find_element_by_xpath('/html/body/div[1]/header/div[2]/div/div/div/div/nav/ul/li[9]/a')\n",
    "fd"
   ]
  },
  {
   "cell_type": "code",
   "execution_count": 241,
   "id": "01d35e09",
   "metadata": {},
   "outputs": [],
   "source": [
    "fd.click()"
   ]
  },
  {
   "cell_type": "code",
   "execution_count": 67,
   "id": "b1ebc332",
   "metadata": {},
   "outputs": [
    {
     "data": {
      "text/plain": [
       "[<selenium.webdriver.remote.webelement.WebElement (session=\"c4adcf9aaabeec9ae92cfc27552859f3\", element=\"9f9cb2db-44c4-443f-b5d1-c98fd07631b4\")>,\n",
       " <selenium.webdriver.remote.webelement.WebElement (session=\"c4adcf9aaabeec9ae92cfc27552859f3\", element=\"bad93774-2d10-431f-bb1d-8b25f22fd1a0\")>,\n",
       " <selenium.webdriver.remote.webelement.WebElement (session=\"c4adcf9aaabeec9ae92cfc27552859f3\", element=\"a236cffb-75d5-4254-afd5-66a72bc5614b\")>]"
      ]
     },
     "execution_count": 67,
     "metadata": {},
     "output_type": "execute_result"
    }
   ],
   "source": [
    "date=driver6.find_elements_by_xpath('//td[@class=\"column-2\"]')\n",
    "date[0:3]"
   ]
  },
  {
   "cell_type": "code",
   "execution_count": 68,
   "id": "96717f79",
   "metadata": {},
   "outputs": [
    {
     "data": {
      "text/plain": [
       "['04/03/2021',\n",
       " '31/03/2021',\n",
       " '30/03/2021',\n",
       " '30/03/2021',\n",
       " '23/03/2021',\n",
       " '25/03/2021',\n",
       " '26/03/2021',\n",
       " '11/02/2021',\n",
       " '22/02/2021',\n",
       " '19/02/2021',\n",
       " '17/02/2021',\n",
       " '15/02/2021',\n",
       " '12/02/2021',\n",
       " '12/02/2021',\n",
       " '09/02/2021',\n",
       " '09/02/2021',\n",
       " '15/01/2021',\n",
       " '28/01/2021',\n",
       " '19/01/2021',\n",
       " '19/01/2021',\n",
       " '18/01/2021',\n",
       " '18/01/2021',\n",
       " '11/01/2021',\n",
       " '13/01/2021']"
      ]
     },
     "execution_count": 68,
     "metadata": {},
     "output_type": "execute_result"
    }
   ],
   "source": [
    "dates=[]\n",
    "for i in range(5,29):\n",
    "    dates.append(date[i].text)\n",
    "dates"
   ]
  },
  {
   "cell_type": "code",
   "execution_count": 69,
   "id": "3e97425b",
   "metadata": {},
   "outputs": [
    {
     "data": {
      "text/plain": [
       "24"
      ]
     },
     "execution_count": 69,
     "metadata": {},
     "output_type": "execute_result"
    }
   ],
   "source": [
    "len(dates)"
   ]
  },
  {
   "cell_type": "code",
   "execution_count": 64,
   "id": "f2787e49",
   "metadata": {},
   "outputs": [
    {
     "data": {
      "text/plain": [
       "[<selenium.webdriver.remote.webelement.WebElement (session=\"c4adcf9aaabeec9ae92cfc27552859f3\", element=\"43ba8d63-9b3c-46f2-9bc6-1014bc946174\")>,\n",
       " <selenium.webdriver.remote.webelement.WebElement (session=\"c4adcf9aaabeec9ae92cfc27552859f3\", element=\"e2010a3c-c8fd-499e-9631-9a9d8e8ee073\")>,\n",
       " <selenium.webdriver.remote.webelement.WebElement (session=\"c4adcf9aaabeec9ae92cfc27552859f3\", element=\"c6e13715-26c8-4c23-b7ff-3f441f74037d\")>]"
      ]
     },
     "execution_count": 64,
     "metadata": {},
     "output_type": "execute_result"
    }
   ],
   "source": [
    "company=driver6.find_elements_by_xpath('//td[@class=\"column-3\"]')\n",
    "company[0:3]"
   ]
  },
  {
   "cell_type": "code",
   "execution_count": 65,
   "id": "e38a3fc2",
   "metadata": {},
   "outputs": [
    {
     "data": {
      "text/plain": [
       "['DealShare',\n",
       " 'Uniphore',\n",
       " 'Dunzo',\n",
       " 'BYJU’S',\n",
       " 'SkilloVilla',\n",
       " 'CityMall',\n",
       " 'DotPe',\n",
       " 'Doubtnut',\n",
       " 'Zomato',\n",
       " 'Fingerlix',\n",
       " 'Zolve',\n",
       " 'KreditBee',\n",
       " 'Pepperfry',\n",
       " 'Grofers',\n",
       " 'Nothing',\n",
       " 'SplashLearn',\n",
       " 'Digit Insurance',\n",
       " 'Bombay Shaving Company',\n",
       " 'DeHaat',\n",
       " 'Darwinbox',\n",
       " 'mfine',\n",
       " 'Udayy',\n",
       " 'True Elements',\n",
       " 'Saveo']"
      ]
     },
     "execution_count": 65,
     "metadata": {},
     "output_type": "execute_result"
    }
   ],
   "source": [
    "companys=[]\n",
    "for i in range(5,29):\n",
    "    companys.append(company[i].text)\n",
    "companys"
   ]
  },
  {
   "cell_type": "code",
   "execution_count": 66,
   "id": "ce84c50c",
   "metadata": {},
   "outputs": [
    {
     "data": {
      "text/plain": [
       "24"
      ]
     },
     "execution_count": 66,
     "metadata": {},
     "output_type": "execute_result"
    }
   ],
   "source": [
    "len(companys)"
   ]
  },
  {
   "cell_type": "code",
   "execution_count": 72,
   "id": "3f725be2",
   "metadata": {},
   "outputs": [
    {
     "data": {
      "text/plain": [
       "[<selenium.webdriver.remote.webelement.WebElement (session=\"c4adcf9aaabeec9ae92cfc27552859f3\", element=\"b89188ed-dd9c-43e4-bad8-e90037316654\")>,\n",
       " <selenium.webdriver.remote.webelement.WebElement (session=\"c4adcf9aaabeec9ae92cfc27552859f3\", element=\"9f748d47-3dd6-4a53-8ab7-aee3b99713b6\")>,\n",
       " <selenium.webdriver.remote.webelement.WebElement (session=\"c4adcf9aaabeec9ae92cfc27552859f3\", element=\"62d1e54a-f1b5-4419-83fc-020121aff171\")>]"
      ]
     },
     "execution_count": 72,
     "metadata": {},
     "output_type": "execute_result"
    }
   ],
   "source": [
    "ind=driver6.find_elements_by_xpath('//td[@class=\"column-4\"]')\n",
    "ind[0:3]"
   ]
  },
  {
   "cell_type": "code",
   "execution_count": 71,
   "id": "9d1f8d71",
   "metadata": {},
   "outputs": [
    {
     "data": {
      "text/plain": [
       "['E-commerce',\n",
       " 'Technology',\n",
       " 'E-commerce',\n",
       " 'Edu-tech',\n",
       " 'Edu-tech',\n",
       " 'E-commerce',\n",
       " 'FinTech',\n",
       " 'Edu Tech',\n",
       " 'Hospitality',\n",
       " 'Hospitality',\n",
       " 'FinTech',\n",
       " 'Finance',\n",
       " 'E-commerce',\n",
       " 'E-Commerce',\n",
       " 'Technology',\n",
       " 'EdTech',\n",
       " 'Financial Services',\n",
       " 'Consumer Goods Company',\n",
       " 'AgriTech Startup',\n",
       " 'SaaS',\n",
       " 'Health Tech Startup',\n",
       " 'EdTech',\n",
       " 'Food Startup',\n",
       " 'B2B E-commerce']"
      ]
     },
     "execution_count": 71,
     "metadata": {},
     "output_type": "execute_result"
    }
   ],
   "source": [
    "inds=[]\n",
    "for i in range(5,29):\n",
    "    inds.append(ind[i].text)\n",
    "inds"
   ]
  },
  {
   "cell_type": "code",
   "execution_count": 73,
   "id": "9902ad13",
   "metadata": {},
   "outputs": [
    {
     "data": {
      "text/plain": [
       "[<selenium.webdriver.remote.webelement.WebElement (session=\"c4adcf9aaabeec9ae92cfc27552859f3\", element=\"6786f628-3067-4cc4-a888-bfa63c2b0966\")>,\n",
       " <selenium.webdriver.remote.webelement.WebElement (session=\"c4adcf9aaabeec9ae92cfc27552859f3\", element=\"047e651a-301f-4f08-a9b3-93dde9abd6f4\")>,\n",
       " <selenium.webdriver.remote.webelement.WebElement (session=\"c4adcf9aaabeec9ae92cfc27552859f3\", element=\"b0210dcd-adeb-4860-86bd-817c895c1710\")>]"
      ]
     },
     "execution_count": 73,
     "metadata": {},
     "output_type": "execute_result"
    }
   ],
   "source": [
    "subver=driver6.find_elements_by_xpath('//td[@class=\"column-5\"]')\n",
    "subver[0:3]"
   ]
  },
  {
   "cell_type": "code",
   "execution_count": 74,
   "id": "c02629da",
   "metadata": {},
   "outputs": [
    {
     "data": {
      "text/plain": [
       "['Online shopping platform',\n",
       " 'Conversational Service Automation (CSA)',\n",
       " 'Hyper-local delivery app',\n",
       " 'Online tutoring',\n",
       " 'Career and job-oriented upskilling.',\n",
       " 'Social ecommerce and online grocery platform',\n",
       " 'Commerce and payments platform to offline enterprise businesses.',\n",
       " 'E-Learning Platform',\n",
       " 'Online Food Delivery Platform',\n",
       " 'Semi-cooked food delivery app',\n",
       " 'Global Neobank Venture',\n",
       " 'Digital lending platform',\n",
       " 'Multi-brand furniture brand',\n",
       " 'Online supermarket',\n",
       " 'Consumer Technology Venture',\n",
       " 'Game-based learning programme',\n",
       " 'Insurance Services',\n",
       " 'Shave care, beard care, and skincare products',\n",
       " 'online marketplace for farm products and services',\n",
       " 'HR Tech',\n",
       " 'AI-powered telemedicine mobile app',\n",
       " 'Online learning platform for kids in class 1-5',\n",
       " 'Whole Food plant based Nashta',\n",
       " 'Pharmacies']"
      ]
     },
     "execution_count": 74,
     "metadata": {},
     "output_type": "execute_result"
    }
   ],
   "source": [
    "subvers=[]\n",
    "for i in range(5,29):\n",
    "    subvers.append(subver[i].text)\n",
    "subvers"
   ]
  },
  {
   "cell_type": "code",
   "execution_count": 77,
   "id": "0f7516ee",
   "metadata": {},
   "outputs": [
    {
     "data": {
      "text/plain": [
       "[<selenium.webdriver.remote.webelement.WebElement (session=\"c4adcf9aaabeec9ae92cfc27552859f3\", element=\"8e3dc4bb-4ae5-4477-ab78-a06d1bd2ae84\")>,\n",
       " <selenium.webdriver.remote.webelement.WebElement (session=\"c4adcf9aaabeec9ae92cfc27552859f3\", element=\"a2171e9d-eba7-4235-a968-533d7d029309\")>,\n",
       " <selenium.webdriver.remote.webelement.WebElement (session=\"c4adcf9aaabeec9ae92cfc27552859f3\", element=\"348a1514-b318-47f4-a9a7-036c476ed14a\")>]"
      ]
     },
     "execution_count": 77,
     "metadata": {},
     "output_type": "execute_result"
    }
   ],
   "source": [
    "city=driver6.find_elements_by_xpath('//td[@class=\"column-6\"]')\n",
    "city[0:3]"
   ]
  },
  {
   "cell_type": "code",
   "execution_count": 76,
   "id": "44669d33",
   "metadata": {},
   "outputs": [
    {
     "data": {
      "text/plain": [
       "['Jaipur, Rajasthan',\n",
       " 'Palo Alto',\n",
       " 'Bengaluru',\n",
       " 'Bengaluru',\n",
       " 'Bengaluru',\n",
       " 'Gurgaon',\n",
       " 'Gurgaon',\n",
       " 'Gurgaon',\n",
       " 'Gurgaon',\n",
       " 'Mumbai',\n",
       " 'Mumbai',\n",
       " 'Bengaluru',\n",
       " 'Mumbai',\n",
       " 'Gurgaon',\n",
       " 'London',\n",
       " 'Gurgaon',\n",
       " 'Bengaluru',\n",
       " 'New Delhi',\n",
       " 'Patna',\n",
       " 'Mumbai',\n",
       " 'Bengaluru',\n",
       " 'Gurgaon',\n",
       " 'Pune',\n",
       " 'Bengaluru']"
      ]
     },
     "execution_count": 76,
     "metadata": {},
     "output_type": "execute_result"
    }
   ],
   "source": [
    "citys=[]\n",
    "for i in range(5,29):\n",
    "    citys.append(city[i].text)\n",
    "citys"
   ]
  },
  {
   "cell_type": "code",
   "execution_count": 78,
   "id": "06a21aed",
   "metadata": {},
   "outputs": [
    {
     "data": {
      "text/plain": [
       "[<selenium.webdriver.remote.webelement.WebElement (session=\"c4adcf9aaabeec9ae92cfc27552859f3\", element=\"1626b40b-c079-4b6a-b9d4-db505bef6aaa\")>,\n",
       " <selenium.webdriver.remote.webelement.WebElement (session=\"c4adcf9aaabeec9ae92cfc27552859f3\", element=\"e011eb09-1ef2-4d4d-a207-d8d714e3ffbc\")>,\n",
       " <selenium.webdriver.remote.webelement.WebElement (session=\"c4adcf9aaabeec9ae92cfc27552859f3\", element=\"1d5ccb9a-30a3-412e-8f77-d1bcbbf9aa77\")>]"
      ]
     },
     "execution_count": 78,
     "metadata": {},
     "output_type": "execute_result"
    }
   ],
   "source": [
    "invname=driver6.find_elements_by_xpath('//td[@class=\"column-7\"]')\n",
    "invname[0:3]"
   ]
  },
  {
   "cell_type": "code",
   "execution_count": 80,
   "id": "202c2021",
   "metadata": {},
   "outputs": [
    {
     "data": {
      "text/plain": [
       "['Innoven Capital',\n",
       " 'Sorenson Capital Partners',\n",
       " 'Krishtal Advisors Pte Ltd',\n",
       " 'MC Global Edtech, B Capital, Baron, others',\n",
       " 'Titan Capital, others',\n",
       " 'Accel Partners',\n",
       " 'PayU',\n",
       " 'SIG Global, Sequoia Capital, WaterBridge Ventures and ON Mauritius',\n",
       " 'Tiger Global, Kora',\n",
       " 'Rhodium Trust, Accel Partners and Swiggy',\n",
       " 'Accel Partners and Lightspeed Venture Partners',\n",
       " 'Azim Premji’s PremjiInvest and South Korea’s Mirae Asset Venture',\n",
       " 'InnoVen Capital',\n",
       " 'SoftBank Vision Fund (SVF)',\n",
       " 'GV',\n",
       " 'Owl Ventures',\n",
       " 'A91 Partners, Faering Capital, TVS Capital Funds',\n",
       " 'Reckitt Benckiser',\n",
       " 'Prosus Ventures',\n",
       " 'Salesforce Ventures',\n",
       " 'Heritas Capital Management',\n",
       " 'Sequoia Capital',\n",
       " 'SIDBI Venture Capital',\n",
       " 'Matrix Partners India, RTP Global, others']"
      ]
     },
     "execution_count": 80,
     "metadata": {},
     "output_type": "execute_result"
    }
   ],
   "source": [
    "invnames=[]\n",
    "for i in range(5,29):\n",
    "    invnames.append(invname[i].text)\n",
    "invnames"
   ]
  },
  {
   "cell_type": "code",
   "execution_count": 81,
   "id": "1bce6fa4",
   "metadata": {},
   "outputs": [
    {
     "data": {
      "text/plain": [
       "[<selenium.webdriver.remote.webelement.WebElement (session=\"c4adcf9aaabeec9ae92cfc27552859f3\", element=\"ac959003-9b4e-4821-a24b-8885c7e4cc50\")>,\n",
       " <selenium.webdriver.remote.webelement.WebElement (session=\"c4adcf9aaabeec9ae92cfc27552859f3\", element=\"e910ddf8-24e0-4e75-9355-ece0b3a09f86\")>,\n",
       " <selenium.webdriver.remote.webelement.WebElement (session=\"c4adcf9aaabeec9ae92cfc27552859f3\", element=\"826f8ceb-1485-494e-aa51-d4506ac44869\")>]"
      ]
     },
     "execution_count": 81,
     "metadata": {},
     "output_type": "execute_result"
    }
   ],
   "source": [
    "invtype=driver6.find_elements_by_xpath('//td[@class=\"column-8\"]')\n",
    "invtype[0:3]"
   ]
  },
  {
   "cell_type": "code",
   "execution_count": 82,
   "id": "d94a5810",
   "metadata": {},
   "outputs": [
    {
     "data": {
      "text/plain": [
       "['Debt Financing',\n",
       " 'Series D',\n",
       " 'Series E',\n",
       " 'Series F',\n",
       " 'Seed',\n",
       " 'Series A',\n",
       " 'Series A',\n",
       " 'Series B',\n",
       " 'Venture',\n",
       " 'Series C',\n",
       " 'Seed',\n",
       " 'Series C',\n",
       " 'Debt Financing',\n",
       " 'Unspecified',\n",
       " 'Series A',\n",
       " 'Series C',\n",
       " 'Venture',\n",
       " 'Venture',\n",
       " 'Series C',\n",
       " 'Seed',\n",
       " 'Venture Round',\n",
       " 'Seed Funding',\n",
       " 'Series',\n",
       " 'Seed']"
      ]
     },
     "execution_count": 82,
     "metadata": {},
     "output_type": "execute_result"
    }
   ],
   "source": [
    "invtypes=[]\n",
    "for i in range(5,29):\n",
    "    invtypes.append(invtype[i].text)\n",
    "invtypes"
   ]
  },
  {
   "cell_type": "code",
   "execution_count": 83,
   "id": "d4f92c40",
   "metadata": {},
   "outputs": [
    {
     "data": {
      "text/plain": [
       "[<selenium.webdriver.remote.webelement.WebElement (session=\"c4adcf9aaabeec9ae92cfc27552859f3\", element=\"f512b317-a51a-4147-87ca-e7779239d8e7\")>,\n",
       " <selenium.webdriver.remote.webelement.WebElement (session=\"c4adcf9aaabeec9ae92cfc27552859f3\", element=\"a33bc9e0-0868-44e5-afb2-f8289d2a9c3f\")>,\n",
       " <selenium.webdriver.remote.webelement.WebElement (session=\"c4adcf9aaabeec9ae92cfc27552859f3\", element=\"7056948a-3c44-4f3f-bc35-b60c67f8b794\")>]"
      ]
     },
     "execution_count": 83,
     "metadata": {},
     "output_type": "execute_result"
    }
   ],
   "source": [
    "amount=driver6.find_elements_by_xpath('//td[@class=\"column-9\"]')\n",
    "amount[0:3]"
   ]
  },
  {
   "cell_type": "code",
   "execution_count": 84,
   "id": "142d1851",
   "metadata": {},
   "outputs": [
    {
     "data": {
      "text/plain": [
       "['250,000,000',\n",
       " '140,000,000',\n",
       " '8,000,000',\n",
       " '460,000,000',\n",
       " '300,000,000',\n",
       " '11,000,000',\n",
       " '27,500,000',\n",
       " '2,500,000',\n",
       " '250,000,000',\n",
       " '2,747,045.20',\n",
       " '1,50,00,000',\n",
       " '75,000,000',\n",
       " '4,773,958',\n",
       " '55,000,000',\n",
       " '15,000,000',\n",
       " '18,000,000',\n",
       " '1,80,00,000',\n",
       " '6,172,258.50',\n",
       " '30,000,000',\n",
       " '15,000,000',\n",
       " '16,000,000',\n",
       " '15,000,000',\n",
       " '100,000,000',\n",
       " '4,000,000']"
      ]
     },
     "execution_count": 84,
     "metadata": {},
     "output_type": "execute_result"
    }
   ],
   "source": [
    "amounts=[]\n",
    "for i in range(5,29):\n",
    "    amounts.append(amount[i].text)\n",
    "amounts"
   ]
  },
  {
   "cell_type": "markdown",
   "id": "9337c59b",
   "metadata": {},
   "source": [
    "ans7)"
   ]
  },
  {
   "cell_type": "code",
   "execution_count": 2,
   "id": "25a0a075",
   "metadata": {},
   "outputs": [],
   "source": [
    "driver7=webdriver.Chrome('chromedriver.exe')"
   ]
  },
  {
   "cell_type": "code",
   "execution_count": 3,
   "id": "41cb83c3",
   "metadata": {},
   "outputs": [],
   "source": [
    "url=('https://www.digit.in/')\n",
    "driver7.get(url)"
   ]
  },
  {
   "cell_type": "code",
   "execution_count": 4,
   "id": "9af51f09",
   "metadata": {},
   "outputs": [
    {
     "data": {
      "text/plain": [
       "<selenium.webdriver.remote.webelement.WebElement (session=\"77d3e051fffc03930e730135b88da064\", element=\"c90600f3-d4ee-4b7f-834c-5143adae9585\")>"
      ]
     },
     "execution_count": 4,
     "metadata": {},
     "output_type": "execute_result"
    }
   ],
   "source": [
    "laptop=driver7.find_element_by_xpath('/html/body/div[1]/div/div[4]/ul/li[3]')\n",
    "laptop"
   ]
  },
  {
   "cell_type": "code",
   "execution_count": 5,
   "id": "7d134b76",
   "metadata": {},
   "outputs": [],
   "source": [
    "laptop.click()"
   ]
  },
  {
   "cell_type": "code",
   "execution_count": 6,
   "id": "8e791748",
   "metadata": {},
   "outputs": [
    {
     "data": {
      "text/plain": [
       "<selenium.webdriver.remote.webelement.WebElement (session=\"77d3e051fffc03930e730135b88da064\", element=\"25a97000-cdc0-486b-adbe-5a50567cee7f\")>"
      ]
     },
     "execution_count": 6,
     "metadata": {},
     "output_type": "execute_result"
    }
   ],
   "source": [
    "bestgl=driver7.find_element_by_xpath('/html/body/div[6]/div/div[2]/div[2]/ul/li[10]')\n",
    "bestgl"
   ]
  },
  {
   "cell_type": "code",
   "execution_count": 7,
   "id": "2d99e74a",
   "metadata": {},
   "outputs": [],
   "source": [
    "bestgl.click()"
   ]
  },
  {
   "cell_type": "code",
   "execution_count": 8,
   "id": "e369915a",
   "metadata": {},
   "outputs": [
    {
     "data": {
      "text/plain": [
       "[<selenium.webdriver.remote.webelement.WebElement (session=\"77d3e051fffc03930e730135b88da064\", element=\"f9a56c0c-be77-4c2c-ab3c-bb7acfd00c41\")>,\n",
       " <selenium.webdriver.remote.webelement.WebElement (session=\"77d3e051fffc03930e730135b88da064\", element=\"24e34efb-662a-4ae3-a0a3-49bbdf7a347c\")>]"
      ]
     },
     "execution_count": 8,
     "metadata": {},
     "output_type": "execute_result"
    }
   ],
   "source": [
    "os=driver7.find_elements_by_xpath('//div[@class=\"Wrap-pop\"]')\n",
    "os[0:2]"
   ]
  },
  {
   "cell_type": "code",
   "execution_count": 9,
   "id": "bd0c8aff",
   "metadata": {},
   "outputs": [
    {
     "data": {
      "text/plain": [
       "['WINDOWS 10',\n",
       " 'WINDOWS 10 HOME',\n",
       " 'WINDOWS 10',\n",
       " 'WINDOWS 10',\n",
       " 'WINDOWS 10',\n",
       " 'WINDOWS 10 HOME',\n",
       " 'WINDOWS 10 HOME',\n",
       " 'WINDOWS 10 PRO',\n",
       " 'WINDOWS 10',\n",
       " 'WINDOWS 10 HOME']"
      ]
     },
     "execution_count": 9,
     "metadata": {},
     "output_type": "execute_result"
    }
   ],
   "source": [
    "oss=[]\n",
    "for i in range(0,39,4):\n",
    "    oss.append(os[i].text.replace('OS\\n',''))\n",
    "oss"
   ]
  },
  {
   "cell_type": "code",
   "execution_count": 105,
   "id": "4db57470",
   "metadata": {},
   "outputs": [
    {
     "data": {
      "text/plain": [
       "['16.1\" (1920 X 1200)',\n",
       " '15.6\" (1920 X 1080)',\n",
       " '15.6\" (1920 X 1080)',\n",
       " '15.6\" (1920 X 1080)',\n",
       " '15.6\" (2560 X 1440)',\n",
       " '15.6\" (1920 X 1080)',\n",
       " '14\" (1920 X 1080)',\n",
       " '15.6\" (1920 X 1080)',\n",
       " '15.6\" (3840 X 1100)',\n",
       " '15.6\" (1920 X 1080)']"
      ]
     },
     "execution_count": 105,
     "metadata": {},
     "output_type": "execute_result"
    }
   ],
   "source": [
    "display=[]\n",
    "for i in range(1,39,4):\n",
    "    display.append(os[i].text.replace('DISPLAY\\n',''))\n",
    "display"
   ]
  },
  {
   "cell_type": "code",
   "execution_count": 107,
   "id": "b3c516cc",
   "metadata": {},
   "outputs": [
    {
     "data": {
      "text/plain": [
       "['5TH GEN AMD RYZEN 7 5800H | 3.2GHZ',\n",
       " 'AMD RYZEN 7 OCTA CORE-5800H | 4.4 GHZ',\n",
       " 'AMD RYZEN 9 OCTA CORE | 2.4 GHZ',\n",
       " 'INTEL CORE I7 11TH GEN - 11375H | NA',\n",
       " 'AMD RYZEN 9 OCTA CORE - 5900HX | 3.3 GHZ',\n",
       " 'AMD RYZEN™ 9 5900HX | 3.3 GHZ',\n",
       " 'AMD 3RD GEN RYZEN 9 | 3.3 GHZ',\n",
       " '10TH GEN INTEL® CORE™ I5-10300H | 2.50 GHZ',\n",
       " 'INTEL CORE I7 10TH GEN 10875H | NA',\n",
       " 'AMD RYZEN™ 5-5500U HEXA-CORE | NA']"
      ]
     },
     "execution_count": 107,
     "metadata": {},
     "output_type": "execute_result"
    }
   ],
   "source": [
    "processor=[]\n",
    "for i in range(2,39,4):\n",
    "    processor.append(os[i].text.replace('PROCESSOR\\n',''))\n",
    "processor"
   ]
  },
  {
   "cell_type": "code",
   "execution_count": 109,
   "id": "b1d645cb",
   "metadata": {},
   "outputs": [
    {
     "data": {
      "text/plain": [
       "['512 GB SSD/16 GBGB DDR4',\n",
       " '1 TB SSD/16 GBGB DDR4',\n",
       " '1 TB HDD/16 GBGB DDR4',\n",
       " '1 TB SSD/16 GBGB DDR4',\n",
       " '2 TB SSD/32 GBGB DDR4',\n",
       " '1 TB SSD/16 GBGB DDR4',\n",
       " '1 TB SSD/16 GBGB DDR4',\n",
       " '1 TB SSD/16 GBGB DDR4',\n",
       " '512 GB SSD/4 GBGB DDR4']"
      ]
     },
     "execution_count": 109,
     "metadata": {},
     "output_type": "execute_result"
    }
   ],
   "source": [
    "memory=[]\n",
    "for i in range(3,39,4):\n",
    "    memory.append(os[i].text.replace('MEMORY\\n',''))\n",
    "memory"
   ]
  },
  {
   "cell_type": "code",
   "execution_count": 110,
   "id": "284c8e86",
   "metadata": {},
   "outputs": [
    {
     "data": {
      "text/plain": [
       "[<selenium.webdriver.remote.webelement.WebElement (session=\"3c622a7ecd9caa8c10fa49124da4a576\", element=\"b740a7f1-e80f-43b2-9318-80cef6b54131\")>,\n",
       " <selenium.webdriver.remote.webelement.WebElement (session=\"3c622a7ecd9caa8c10fa49124da4a576\", element=\"845fdf1d-72df-472e-a447-5dca3d73381b\")>]"
      ]
     },
     "execution_count": 110,
     "metadata": {},
     "output_type": "execute_result"
    }
   ],
   "source": [
    "price=driver7.find_elements_by_xpath('//td[@class=\"smprice\"]')\n",
    "price[0:2]"
   ]
  },
  {
   "cell_type": "code",
   "execution_count": 111,
   "id": "9aa13a21",
   "metadata": {},
   "outputs": [
    {
     "data": {
      "text/plain": [
       "['₹ 104,990',\n",
       " '₹ 110,790',\n",
       " '₹ 129,990',\n",
       " '₹ 134,990',\n",
       " '₹ 193,990',\n",
       " '₹ 215,990',\n",
       " '₹ 144,990',\n",
       " '₹ 76,988',\n",
       " '₹ 185,000',\n",
       " '₹ 53,490']"
      ]
     },
     "execution_count": 111,
     "metadata": {},
     "output_type": "execute_result"
    }
   ],
   "source": [
    "prices=[]\n",
    "for i in price:\n",
    "    prices.append(i.text)\n",
    "prices"
   ]
  },
  {
   "cell_type": "code",
   "execution_count": 13,
   "id": "39dfadf0",
   "metadata": {},
   "outputs": [
    {
     "data": {
      "text/plain": [
       "[<selenium.webdriver.remote.webelement.WebElement (session=\"77d3e051fffc03930e730135b88da064\", element=\"1dada095-b3a8-4b18-80a8-31b31e5d7436\")>,\n",
       " <selenium.webdriver.remote.webelement.WebElement (session=\"77d3e051fffc03930e730135b88da064\", element=\"3457309a-cbac-46ac-b05e-252b9ec45834\")>]"
      ]
     },
     "execution_count": 13,
     "metadata": {},
     "output_type": "execute_result"
    }
   ],
   "source": [
    "name=driver7.find_elements_by_xpath('//div[@class=\"TopNumbeHeading sticky-footer\"]')\n",
    "name[0:2]"
   ]
  },
  {
   "cell_type": "code",
   "execution_count": 16,
   "id": "99d99d20",
   "metadata": {},
   "outputs": [
    {
     "data": {
      "text/plain": [
       "['2. HP OMEN 15',\n",
       " '3. ACER NITRO 5',\n",
       " '4. MSI STEALTH 15M',\n",
       " '5. ASUS ROG STRIX SCAR 15',\n",
       " '6. ASUS ROG STRIX SCAR 15',\n",
       " '7. ASUS ZEPHYRUS G14',\n",
       " '8. LENOVO LEGION 5I',\n",
       " '9. ASUS ROG ZEPHYRUS DUO 15',\n",
       " '10. ACER ASPIRE 7 GAMING LAPTOP']"
      ]
     },
     "execution_count": 16,
     "metadata": {},
     "output_type": "execute_result"
    }
   ],
   "source": [
    "names=[]\n",
    "for i in name:\n",
    "    names.append(i.text.replace('\\n',' '))\n",
    "names"
   ]
  },
  {
   "cell_type": "code",
   "execution_count": 17,
   "id": "2023f5cb",
   "metadata": {},
   "outputs": [],
   "source": [
    "names.insert(0,'1. HP VICTUS 16')"
   ]
  },
  {
   "cell_type": "code",
   "execution_count": 18,
   "id": "9fc3d726",
   "metadata": {},
   "outputs": [
    {
     "data": {
      "text/plain": [
       "['1. HP VICTUS 16',\n",
       " '2. HP OMEN 15',\n",
       " '3. ACER NITRO 5',\n",
       " '4. MSI STEALTH 15M',\n",
       " '5. ASUS ROG STRIX SCAR 15',\n",
       " '6. ASUS ROG STRIX SCAR 15',\n",
       " '7. ASUS ZEPHYRUS G14',\n",
       " '8. LENOVO LEGION 5I',\n",
       " '9. ASUS ROG ZEPHYRUS DUO 15',\n",
       " '10. ACER ASPIRE 7 GAMING LAPTOP']"
      ]
     },
     "execution_count": 18,
     "metadata": {},
     "output_type": "execute_result"
    }
   ],
   "source": [
    "names"
   ]
  },
  {
   "cell_type": "markdown",
   "id": "83648da4",
   "metadata": {},
   "source": [
    "ans8)"
   ]
  },
  {
   "cell_type": "code",
   "execution_count": 3,
   "id": "226673b8",
   "metadata": {},
   "outputs": [],
   "source": [
    "driver8=webdriver.Chrome('chromedriver.exe')"
   ]
  },
  {
   "cell_type": "code",
   "execution_count": 4,
   "id": "235cf5da",
   "metadata": {},
   "outputs": [],
   "source": [
    "url=('https://www.forbes.com/')\n",
    "driver8.get(url)"
   ]
  },
  {
   "cell_type": "code",
   "execution_count": 5,
   "id": "d7162266",
   "metadata": {},
   "outputs": [
    {
     "data": {
      "text/plain": [
       "<selenium.webdriver.remote.webelement.WebElement (session=\"27451a992c2fc2353819fe78a98a4fbc\", element=\"4727f328-b3fb-411e-97b6-2b92c59dbc54\")>"
      ]
     },
     "execution_count": 5,
     "metadata": {},
     "output_type": "execute_result"
    }
   ],
   "source": [
    "menu=driver8.find_element_by_xpath('/html/body/div[1]/header/nav/div[1]/button[1]')\n",
    "menu"
   ]
  },
  {
   "cell_type": "code",
   "execution_count": 6,
   "id": "e3e3fce8",
   "metadata": {},
   "outputs": [],
   "source": [
    "menu.click()"
   ]
  },
  {
   "cell_type": "code",
   "execution_count": 13,
   "id": "4d2f5103",
   "metadata": {},
   "outputs": [
    {
     "data": {
      "text/plain": [
       "<selenium.webdriver.remote.webelement.WebElement (session=\"27451a992c2fc2353819fe78a98a4fbc\", element=\"047f9ed4-dd9d-4138-97ab-38adff136559\")>"
      ]
     },
     "execution_count": 13,
     "metadata": {},
     "output_type": "execute_result"
    }
   ],
   "source": [
    "search=driver8.find_element_by_xpath('/html/body/div[1]/header/nav/div[3]/ul/li[1]')\n",
    "search"
   ]
  },
  {
   "cell_type": "code",
   "execution_count": 14,
   "id": "0e97fc20",
   "metadata": {},
   "outputs": [],
   "source": [
    "search.click()"
   ]
  },
  {
   "cell_type": "code",
   "execution_count": 15,
   "id": "f9721987",
   "metadata": {},
   "outputs": [
    {
     "data": {
      "text/plain": [
       "<selenium.webdriver.remote.webelement.WebElement (session=\"27451a992c2fc2353819fe78a98a4fbc\", element=\"aa393215-227f-4d7a-8338-7cfdafa54ebd\")>"
      ]
     },
     "execution_count": 15,
     "metadata": {},
     "output_type": "execute_result"
    }
   ],
   "source": [
    "search1=driver8.find_element_by_xpath('/html/body/div[1]/header/nav/div[3]/ul/li[1]/div[2]/ul/li[2]')\n",
    "search1"
   ]
  },
  {
   "cell_type": "code",
   "execution_count": 16,
   "id": "6906729a",
   "metadata": {},
   "outputs": [],
   "source": [
    "search1.click()"
   ]
  },
  {
   "cell_type": "code",
   "execution_count": 17,
   "id": "2df1a3a1",
   "metadata": {},
   "outputs": [
    {
     "data": {
      "text/plain": [
       "[<selenium.webdriver.remote.webelement.WebElement (session=\"27451a992c2fc2353819fe78a98a4fbc\", element=\"fda67a51-148f-4548-ba32-de41a79f897c\")>,\n",
       " <selenium.webdriver.remote.webelement.WebElement (session=\"27451a992c2fc2353819fe78a98a4fbc\", element=\"714e7d5a-9684-416d-99b7-f038b28641c1\")>]"
      ]
     },
     "execution_count": 17,
     "metadata": {},
     "output_type": "execute_result"
    }
   ],
   "source": [
    "name=driver8.find_elements_by_xpath('//div[@class=\"personName\"]')\n",
    "name[0:2]"
   ]
  },
  {
   "cell_type": "code",
   "execution_count": 18,
   "id": "305a9e2c",
   "metadata": {},
   "outputs": [
    {
     "data": {
      "text/plain": [
       "['Jeff Bezos',\n",
       " 'Elon Musk',\n",
       " 'Bernard Arnault & family',\n",
       " 'Bill Gates',\n",
       " 'Mark Zuckerberg',\n",
       " 'Warren Buffett',\n",
       " 'Larry Ellison',\n",
       " 'Larry Page',\n",
       " 'Sergey Brin',\n",
       " 'Mukesh Ambani',\n",
       " 'Amancio Ortega',\n",
       " 'Francoise Bettencourt Meyers & family',\n",
       " 'Zhong Shanshan',\n",
       " 'Steve Ballmer',\n",
       " 'Ma Huateng',\n",
       " 'Carlos Slim Helu & family',\n",
       " 'Alice Walton',\n",
       " 'Jim Walton',\n",
       " 'Rob Walton',\n",
       " 'Michael Bloomberg',\n",
       " 'Colin Zheng Huang',\n",
       " 'MacKenzie Scott',\n",
       " 'Daniel Gilbert',\n",
       " 'Gautam Adani & family',\n",
       " 'Phil Knight & family',\n",
       " 'Jack Ma',\n",
       " 'Charles Koch',\n",
       " 'Julia Koch & family',\n",
       " 'Masayoshi Son',\n",
       " 'Michael Dell',\n",
       " 'Tadashi Yanai & family',\n",
       " 'François Pinault & family',\n",
       " 'David Thomson & family',\n",
       " 'Beate Heister & Karl Albrecht Jr. & family',\n",
       " 'Wang Wei',\n",
       " 'Miriam Adelson',\n",
       " 'He Xiangjian',\n",
       " 'Dieter Schwarz',\n",
       " 'Zhang Yiming',\n",
       " 'Giovanni Ferrero',\n",
       " 'Alain Wertheimer',\n",
       " 'Gerard Wertheimer',\n",
       " 'Li Ka-shing',\n",
       " 'Qin Yinglin & family',\n",
       " 'William Lei Ding',\n",
       " 'Len Blavatnik',\n",
       " 'Lee Shau Kee',\n",
       " 'Jacqueline Mars',\n",
       " 'John Mars',\n",
       " 'Yang Huiyan & family',\n",
       " 'Alexey Mordashov',\n",
       " 'Robin Zeng',\n",
       " 'Hui Ka Yan',\n",
       " 'Susanne Klatten',\n",
       " 'Vladimir Potanin',\n",
       " 'Dietrich Mateschitz',\n",
       " 'Pang Kang',\n",
       " 'Klaus-Michael Kuehne',\n",
       " 'Vladimir Lisin',\n",
       " 'Wang Xing',\n",
       " 'German Larrea Mota Velasco & family',\n",
       " 'Leonardo Del Vecchio & family',\n",
       " 'Takemitsu Takizaki',\n",
       " 'Leonard Lauder',\n",
       " 'Thomas Peterffy',\n",
       " 'Vagit Alekperov',\n",
       " 'Leonid Mikhelson',\n",
       " 'Jim Simons',\n",
       " 'Jiang Rensheng & family',\n",
       " 'Gina Rinehart',\n",
       " 'Rupert Murdoch & family',\n",
       " 'Shiv Nadar',\n",
       " 'Zhang Zhidong',\n",
       " 'Iris Fontbona & family',\n",
       " 'Lei Jun',\n",
       " 'Zhang Yong',\n",
       " 'Richard Qiangdong Liu',\n",
       " 'Gennady Timchenko',\n",
       " 'Stephen Schwarzman',\n",
       " 'Goh Cheng Liang',\n",
       " 'Stefan Quandt',\n",
       " 'Li Xiting',\n",
       " 'Pierre Omidyar',\n",
       " 'Stefan Persson',\n",
       " 'Abigail Johnson',\n",
       " 'R. Budi Hartono',\n",
       " 'Andrew Forrest',\n",
       " 'Ray Dalio',\n",
       " 'Michael Hartono',\n",
       " 'Li Shufu',\n",
       " 'Zhong Huijuan',\n",
       " 'Xu Hang',\n",
       " 'Lui Che Woo',\n",
       " 'Emmanuel Besnier',\n",
       " 'Laurene Powell Jobs & family',\n",
       " 'Eric Schmidt',\n",
       " 'Sun Piaoyang',\n",
       " 'Theo Albrecht, Jr. & family',\n",
       " 'Alisher Usmanov',\n",
       " 'Robert Pera',\n",
       " 'Wu Yajun',\n",
       " 'Fan Hongwei & family',\n",
       " 'Dhanin Chearavanont',\n",
       " 'Peter Woo',\n",
       " 'Chen Bang',\n",
       " 'Andrey Melnichenko',\n",
       " 'Dustin Moskovitz',\n",
       " 'Su Hua',\n",
       " 'Donald Newhouse',\n",
       " 'Petr Kellner',\n",
       " 'Lee Man Tat',\n",
       " 'Pavel Durov',\n",
       " 'James Ratcliffe',\n",
       " 'Jorge Paulo Lemann & family',\n",
       " 'Reinhold Wuerth & family',\n",
       " 'Charlene de Carvalho-Heineken & family',\n",
       " 'Radhakishan Damani',\n",
       " 'Wang Chuanfu',\n",
       " 'Steve Cohen',\n",
       " 'Ken Griffin',\n",
       " 'Chen Zhiping',\n",
       " 'Ernest Garcia, II.',\n",
       " 'Uday Kotak',\n",
       " 'Carl Icahn',\n",
       " 'Suleiman Kerimov & family',\n",
       " 'Thomas Frist, Jr. & family',\n",
       " 'Lukas Walton',\n",
       " 'Mikhail Fridman',\n",
       " 'Wei Jianjun & family',\n",
       " 'Zuo Hui',\n",
       " 'Zhou Qunfei & family',\n",
       " 'Donald Bren',\n",
       " 'Hinduja brothers',\n",
       " 'Lakshmi Mittal',\n",
       " 'Georg Schaeffler',\n",
       " 'Eric Yuan & family',\n",
       " 'Wang Jianlin',\n",
       " 'Kwong Siu-hing',\n",
       " 'Robin Li',\n",
       " 'Pallonji Mistry',\n",
       " 'Eduardo Saverin',\n",
       " 'Roman Abramovich',\n",
       " 'David Tepper',\n",
       " 'Gong Hongjia & family',\n",
       " 'Mike Cannon-Brookes',\n",
       " 'John Menard, Jr.',\n",
       " 'Seo Jung-jin',\n",
       " 'Cheng Yixiao',\n",
       " 'Liang Wengen',\n",
       " 'Scott Farquhar',\n",
       " 'Finn Rausing',\n",
       " 'Jorn Rausing',\n",
       " 'Kirsten Rausing',\n",
       " 'Brian Chesky',\n",
       " 'Joseph Lau',\n",
       " 'David Duffield',\n",
       " 'Charoen Sirivadhanabhakdi',\n",
       " 'Kim Jung-ju',\n",
       " 'Robert & Philip Ng',\n",
       " 'Zhang Bangxin',\n",
       " 'Anders Holch Povlsen',\n",
       " 'Wang Wenyin',\n",
       " 'Wang Liping & family',\n",
       " 'Tatyana Bakalchuk',\n",
       " 'Michael Platt',\n",
       " 'Huang Shilin',\n",
       " 'Ricardo Salinas Pliego & family',\n",
       " 'Kumar Birla',\n",
       " 'Dang Yanbao',\n",
       " 'Cyrus Poonawalla',\n",
       " 'Robert Kuok',\n",
       " 'Hank & Doug Meijer',\n",
       " 'Jack Dorsey',\n",
       " 'Lu Zhongfang',\n",
       " 'Ma Jianrong & family',\n",
       " 'Zhang Tao',\n",
       " 'Nathan Blecharczyk',\n",
       " 'John Doerr',\n",
       " 'Joe Gebbia',\n",
       " 'Forrest Li',\n",
       " 'Yu Renrong',\n",
       " 'Liu Yonghao & family',\n",
       " 'Gordon Moore',\n",
       " 'Jeff Yass',\n",
       " 'Bobby Murphy',\n",
       " 'Patrick Drahi',\n",
       " 'Jensen Huang',\n",
       " 'Alexander Otto',\n",
       " 'Cen Junda',\n",
       " 'Joseph Tsai',\n",
       " 'Aliko Dangote',\n",
       " 'Marcel Herrmann Telles',\n",
       " 'Mikhail Prokhorov',\n",
       " 'Jorge Moll Filho & family',\n",
       " 'Viktor Rashnikov',\n",
       " 'Harry Triguboff',\n",
       " 'Leonid Fedun',\n",
       " 'Eyal Ofer',\n",
       " 'Evan Spiegel',\n",
       " 'Luis Carlos Sarmiento']"
      ]
     },
     "execution_count": 18,
     "metadata": {},
     "output_type": "execute_result"
    }
   ],
   "source": [
    "names=[]\n",
    "for i in name:\n",
    "    names.append(i.text)\n",
    "names"
   ]
  },
  {
   "cell_type": "code",
   "execution_count": 21,
   "id": "f700c0ff",
   "metadata": {},
   "outputs": [
    {
     "data": {
      "text/plain": [
       "[<selenium.webdriver.remote.webelement.WebElement (session=\"27451a992c2fc2353819fe78a98a4fbc\", element=\"7b9b6067-6723-4ee9-a791-4ff3e16c8b95\")>,\n",
       " <selenium.webdriver.remote.webelement.WebElement (session=\"27451a992c2fc2353819fe78a98a4fbc\", element=\"46cede07-ad3f-4482-b008-9b79873c05a1\")>]"
      ]
     },
     "execution_count": 21,
     "metadata": {},
     "output_type": "execute_result"
    }
   ],
   "source": [
    "networth=driver8.find_elements_by_xpath('//div[@class=\"netWorth\"]')\n",
    "networth[0:2]"
   ]
  },
  {
   "cell_type": "code",
   "execution_count": 23,
   "id": "827a1fb6",
   "metadata": {},
   "outputs": [
    {
     "data": {
      "text/plain": [
       "['$177 Billion',\n",
       " '$151 Billion',\n",
       " '$150 Billion',\n",
       " '$124 Billion',\n",
       " '$97 Billion',\n",
       " '$96 Billion',\n",
       " '$93 Billion',\n",
       " '$91.5 Billion',\n",
       " '$89 Billion',\n",
       " '$84.5 Billion',\n",
       " '$77 Billion',\n",
       " '$73.6 Billion',\n",
       " '$68.9 Billion',\n",
       " '$68.7 Billion',\n",
       " '$65.8 Billion',\n",
       " '$62.8 Billion',\n",
       " '$61.8 Billion',\n",
       " '$60.2 Billion',\n",
       " '$59.5 Billion',\n",
       " '$59 Billion',\n",
       " '$55.3 Billion',\n",
       " '$53 Billion',\n",
       " '$51.9 Billion',\n",
       " '$50.5 Billion',\n",
       " '$49.9 Billion',\n",
       " '$48.4 Billion',\n",
       " '$46.4 Billion',\n",
       " '$46.4 Billion',\n",
       " '$45.4 Billion',\n",
       " '$45.1 Billion',\n",
       " '$44.1 Billion',\n",
       " '$42.3 Billion',\n",
       " '$41.8 Billion',\n",
       " '$39.2 Billion',\n",
       " '$39 Billion',\n",
       " '$38.2 Billion',\n",
       " '$37.7 Billion',\n",
       " '$36.9 Billion',\n",
       " '$35.6 Billion',\n",
       " '$35.1 Billion',\n",
       " '$34.5 Billion',\n",
       " '$34.5 Billion',\n",
       " '$33.7 Billion',\n",
       " '$33.5 Billion',\n",
       " '$33 Billion',\n",
       " '$32 Billion',\n",
       " '$31.7 Billion',\n",
       " '$31.3 Billion',\n",
       " '$31.3 Billion',\n",
       " '$29.6 Billion',\n",
       " '$29.1 Billion',\n",
       " '$28.4 Billion',\n",
       " '$27.7 Billion',\n",
       " '$27.7 Billion',\n",
       " '$27 Billion',\n",
       " '$26.9 Billion',\n",
       " '$26.4 Billion',\n",
       " '$26.3 Billion',\n",
       " '$26.2 Billion',\n",
       " '$26.1 Billion',\n",
       " '$25.9 Billion',\n",
       " '$25.8 Billion',\n",
       " '$25.8 Billion',\n",
       " '$25.5 Billion',\n",
       " '$25 Billion',\n",
       " '$24.9 Billion',\n",
       " '$24.9 Billion',\n",
       " '$24.6 Billion',\n",
       " '$24.4 Billion',\n",
       " '$23.6 Billion',\n",
       " '$23.5 Billion',\n",
       " '$23.5 Billion',\n",
       " '$23.4 Billion',\n",
       " '$23.3 Billion',\n",
       " '$23 Billion',\n",
       " '$23 Billion',\n",
       " '$22.4 Billion',\n",
       " '$22 Billion',\n",
       " '$21.9 Billion',\n",
       " '$21.7 Billion',\n",
       " '$21.6 Billion',\n",
       " '$21.5 Billion',\n",
       " '$21.4 Billion',\n",
       " '$21.3 Billion',\n",
       " '$20.9 Billion',\n",
       " '$20.5 Billion',\n",
       " '$20.4 Billion',\n",
       " '$20.3 Billion',\n",
       " '$19.7 Billion',\n",
       " '$19.7 Billion',\n",
       " '$19.7 Billion',\n",
       " '$19.5 Billion',\n",
       " '$19.4 Billion',\n",
       " '$19.1 Billion',\n",
       " '$19 Billion',\n",
       " '$18.9 Billion',\n",
       " '$18.9 Billion',\n",
       " '$18.8 Billion',\n",
       " '$18.4 Billion',\n",
       " '$18.3 Billion',\n",
       " '$18.3 Billion',\n",
       " '$18.2 Billion',\n",
       " '$18.1 Billion',\n",
       " '$18 Billion',\n",
       " '$17.9 Billion',\n",
       " '$17.9 Billion',\n",
       " '$17.8 Billion',\n",
       " '$17.8 Billion',\n",
       " '$17.6 Billion',\n",
       " '$17.5 Billion',\n",
       " '$17.4 Billion',\n",
       " '$17.2 Billion',\n",
       " '$17 Billion',\n",
       " '$16.9 Billion',\n",
       " '$16.8 Billion',\n",
       " '$16.7 Billion',\n",
       " '$16.5 Billion',\n",
       " '$16.3 Billion',\n",
       " '$16 Billion',\n",
       " '$16 Billion',\n",
       " '$15.9 Billion',\n",
       " '$15.9 Billion',\n",
       " '$15.9 Billion',\n",
       " '$15.8 Billion',\n",
       " '$15.8 Billion',\n",
       " '$15.7 Billion',\n",
       " '$15.6 Billion',\n",
       " '$15.5 Billion',\n",
       " '$15.5 Billion',\n",
       " '$15.5 Billion',\n",
       " '$15.4 Billion',\n",
       " '$15.3 Billion',\n",
       " '$14.9 Billion',\n",
       " '$14.9 Billion',\n",
       " '$14.9 Billion',\n",
       " '$14.9 Billion',\n",
       " '$14.8 Billion',\n",
       " '$14.7 Billion',\n",
       " '$14.7 Billion',\n",
       " '$14.6 Billion',\n",
       " '$14.6 Billion',\n",
       " '$14.5 Billion',\n",
       " '$14.5 Billion',\n",
       " '$14.4 Billion',\n",
       " '$14.2 Billion',\n",
       " '$14.2 Billion',\n",
       " '$14.2 Billion',\n",
       " '$14.1 Billion',\n",
       " '$14.1 Billion',\n",
       " '$14 Billion',\n",
       " '$13.9 Billion',\n",
       " '$13.9 Billion',\n",
       " '$13.9 Billion',\n",
       " '$13.7 Billion',\n",
       " '$13.6 Billion',\n",
       " '$13.5 Billion',\n",
       " '$13.5 Billion',\n",
       " '$13.3 Billion',\n",
       " '$13.3 Billion',\n",
       " '$13.3 Billion',\n",
       " '$13.2 Billion',\n",
       " '$13.2 Billion',\n",
       " '$13.1 Billion',\n",
       " '$13 Billion',\n",
       " '$13 Billion',\n",
       " '$12.9 Billion',\n",
       " '$12.9 Billion',\n",
       " '$12.8 Billion',\n",
       " '$12.7 Billion',\n",
       " '$12.7 Billion',\n",
       " '$12.6 Billion',\n",
       " '$12.6 Billion',\n",
       " '$12.5 Billion',\n",
       " '$12.5 Billion',\n",
       " '$12.5 Billion',\n",
       " '$12.5 Billion',\n",
       " '$12.4 Billion',\n",
       " '$12.4 Billion',\n",
       " '$12.4 Billion',\n",
       " '$12.4 Billion',\n",
       " '$12.3 Billion',\n",
       " '$12.1 Billion',\n",
       " '$12.1 Billion',\n",
       " '$12 Billion',\n",
       " '$11.9 Billion',\n",
       " '$11.8 Billion',\n",
       " '$11.8 Billion',\n",
       " '$11.8 Billion',\n",
       " '$11.6 Billion',\n",
       " '$11.6 Billion',\n",
       " '$11.5 Billion',\n",
       " '$11.5 Billion',\n",
       " '$11.4 Billion',\n",
       " '$11.3 Billion',\n",
       " '$11.2 Billion',\n",
       " '$11.2 Billion',\n",
       " '$11.1 Billion',\n",
       " '$11.1 Billion',\n",
       " '$11.1 Billion',\n",
       " '$11 Billion']"
      ]
     },
     "execution_count": 23,
     "metadata": {},
     "output_type": "execute_result"
    }
   ],
   "source": [
    "networths=[]\n",
    "for i in networth:\n",
    "    networths.append(i.text.replace(' B',' Billion'))\n",
    "networths"
   ]
  },
  {
   "cell_type": "code",
   "execution_count": 24,
   "id": "72553dbc",
   "metadata": {},
   "outputs": [
    {
     "data": {
      "text/plain": [
       "[<selenium.webdriver.remote.webelement.WebElement (session=\"27451a992c2fc2353819fe78a98a4fbc\", element=\"92d7de7f-1a37-42ac-8821-8f43b0fe2958\")>,\n",
       " <selenium.webdriver.remote.webelement.WebElement (session=\"27451a992c2fc2353819fe78a98a4fbc\", element=\"10cfbcf0-1c8b-462f-80ff-12a2fcd890ac\")>]"
      ]
     },
     "execution_count": 24,
     "metadata": {},
     "output_type": "execute_result"
    }
   ],
   "source": [
    "country=driver8.find_elements_by_xpath('//div[@class=\"countryOfCitizenship\"]')\n",
    "country[0:2]"
   ]
  },
  {
   "cell_type": "code",
   "execution_count": 25,
   "id": "a69b8a63",
   "metadata": {},
   "outputs": [
    {
     "data": {
      "text/plain": [
       "['United States',\n",
       " 'United States',\n",
       " 'France',\n",
       " 'United States',\n",
       " 'United States',\n",
       " 'United States',\n",
       " 'United States',\n",
       " 'United States',\n",
       " 'United States',\n",
       " 'India',\n",
       " 'Spain',\n",
       " 'France',\n",
       " 'China',\n",
       " 'United States',\n",
       " 'China',\n",
       " 'Mexico',\n",
       " 'United States',\n",
       " 'United States',\n",
       " 'United States',\n",
       " 'United States',\n",
       " 'China',\n",
       " 'United States',\n",
       " 'United States',\n",
       " 'India',\n",
       " 'United States',\n",
       " 'China',\n",
       " 'United States',\n",
       " 'United States',\n",
       " 'Japan',\n",
       " 'United States',\n",
       " 'Japan',\n",
       " 'France',\n",
       " 'Canada',\n",
       " 'Germany',\n",
       " 'China',\n",
       " 'United States',\n",
       " 'China',\n",
       " 'Germany',\n",
       " 'China',\n",
       " 'Italy',\n",
       " 'France',\n",
       " 'France',\n",
       " 'Hong Kong',\n",
       " 'China',\n",
       " 'China',\n",
       " 'United States',\n",
       " 'Hong Kong',\n",
       " 'United States',\n",
       " 'United States',\n",
       " 'China',\n",
       " 'Russia',\n",
       " 'Hong Kong',\n",
       " 'China',\n",
       " 'Germany',\n",
       " 'Russia',\n",
       " 'Austria',\n",
       " 'China',\n",
       " 'Germany',\n",
       " 'Russia',\n",
       " 'China',\n",
       " 'Mexico',\n",
       " 'Italy',\n",
       " 'Japan',\n",
       " 'United States',\n",
       " 'United States',\n",
       " 'Russia',\n",
       " 'Russia',\n",
       " 'United States',\n",
       " 'China',\n",
       " 'Australia',\n",
       " 'United States',\n",
       " 'India',\n",
       " 'China',\n",
       " 'Chile',\n",
       " 'China',\n",
       " 'Singapore',\n",
       " 'China',\n",
       " 'Russia',\n",
       " 'United States',\n",
       " 'Singapore',\n",
       " 'Germany',\n",
       " 'Singapore',\n",
       " 'United States',\n",
       " 'Sweden',\n",
       " 'United States',\n",
       " 'Indonesia',\n",
       " 'Australia',\n",
       " 'United States',\n",
       " 'Indonesia',\n",
       " 'China',\n",
       " 'China',\n",
       " 'Hong Kong',\n",
       " 'Hong Kong',\n",
       " 'France',\n",
       " 'United States',\n",
       " 'United States',\n",
       " 'China',\n",
       " 'Germany',\n",
       " 'Russia',\n",
       " 'United States',\n",
       " 'China',\n",
       " 'China',\n",
       " 'Thailand',\n",
       " 'Hong Kong',\n",
       " 'China',\n",
       " 'Russia',\n",
       " 'United States',\n",
       " 'China',\n",
       " 'United States',\n",
       " 'Czechia',\n",
       " 'Hong Kong',\n",
       " 'Russia',\n",
       " 'United Kingdom',\n",
       " 'Brazil',\n",
       " 'Germany',\n",
       " 'Netherlands',\n",
       " 'India',\n",
       " 'China',\n",
       " 'United States',\n",
       " 'United States',\n",
       " 'China',\n",
       " 'United States',\n",
       " 'India',\n",
       " 'United States',\n",
       " 'Russia',\n",
       " 'United States',\n",
       " 'United States',\n",
       " 'Russia',\n",
       " 'China',\n",
       " 'China',\n",
       " 'Hong Kong',\n",
       " 'United States',\n",
       " 'United Kingdom',\n",
       " 'India',\n",
       " 'Germany',\n",
       " 'United States',\n",
       " 'China',\n",
       " 'Hong Kong',\n",
       " 'China',\n",
       " 'Ireland',\n",
       " 'Brazil',\n",
       " 'Russia',\n",
       " 'United States',\n",
       " 'Hong Kong',\n",
       " 'Australia',\n",
       " 'United States',\n",
       " 'South Korea',\n",
       " 'China',\n",
       " 'China',\n",
       " 'Australia',\n",
       " 'Sweden',\n",
       " 'Sweden',\n",
       " 'Sweden',\n",
       " 'United States',\n",
       " 'Hong Kong',\n",
       " 'United States',\n",
       " 'Thailand',\n",
       " 'South Korea',\n",
       " 'Singapore',\n",
       " 'China',\n",
       " 'Denmark',\n",
       " 'China',\n",
       " 'China',\n",
       " 'Russia',\n",
       " 'United Kingdom',\n",
       " 'China',\n",
       " 'Mexico',\n",
       " 'India',\n",
       " 'China',\n",
       " 'India',\n",
       " 'Malaysia',\n",
       " 'United States',\n",
       " 'United States',\n",
       " 'China',\n",
       " 'China',\n",
       " 'China',\n",
       " 'United States',\n",
       " 'United States',\n",
       " 'United States',\n",
       " 'Singapore',\n",
       " 'China',\n",
       " 'China',\n",
       " 'United States',\n",
       " 'United States',\n",
       " 'United States',\n",
       " 'France',\n",
       " 'United States',\n",
       " 'Germany',\n",
       " 'China',\n",
       " 'Canada',\n",
       " 'Nigeria',\n",
       " 'Brazil',\n",
       " 'Russia',\n",
       " 'Brazil',\n",
       " 'Russia',\n",
       " 'Australia',\n",
       " 'Russia',\n",
       " 'Israel',\n",
       " 'United States',\n",
       " 'Colombia']"
      ]
     },
     "execution_count": 25,
     "metadata": {},
     "output_type": "execute_result"
    }
   ],
   "source": [
    "countrys=[]\n",
    "for i in country:\n",
    "    countrys.append(i.text)\n",
    "countrys"
   ]
  },
  {
   "cell_type": "code",
   "execution_count": 26,
   "id": "b48b7b63",
   "metadata": {},
   "outputs": [
    {
     "data": {
      "text/plain": [
       "[<selenium.webdriver.remote.webelement.WebElement (session=\"27451a992c2fc2353819fe78a98a4fbc\", element=\"2bd340b0-bd39-443a-bb6e-ad4b9cbe3885\")>,\n",
       " <selenium.webdriver.remote.webelement.WebElement (session=\"27451a992c2fc2353819fe78a98a4fbc\", element=\"dd78c3fb-4fb4-428a-a4b2-e3ee97b3c59e\")>]"
      ]
     },
     "execution_count": 26,
     "metadata": {},
     "output_type": "execute_result"
    }
   ],
   "source": [
    "source=driver8.find_elements_by_xpath('//div[@class=\"source\"]')\n",
    "source[0:2]"
   ]
  },
  {
   "cell_type": "code",
   "execution_count": 27,
   "id": "a3cfe8d2",
   "metadata": {},
   "outputs": [
    {
     "data": {
      "text/plain": [
       "['Amazon',\n",
       " 'Tesla, SpaceX',\n",
       " 'LVMH',\n",
       " 'Microsoft',\n",
       " 'Facebook',\n",
       " 'Berkshire Hathaway',\n",
       " 'software',\n",
       " 'Google',\n",
       " 'Google',\n",
       " 'diversified',\n",
       " 'Zara',\n",
       " \"L'Oréal\",\n",
       " 'beverages, pharmaceuticals',\n",
       " 'Microsoft',\n",
       " 'internet media',\n",
       " 'telecom',\n",
       " 'Walmart',\n",
       " 'Walmart',\n",
       " 'Walmart',\n",
       " 'Bloomberg LP',\n",
       " 'e-commerce',\n",
       " 'Amazon',\n",
       " 'Quicken Loans',\n",
       " 'infrastructure, commodities',\n",
       " 'Nike',\n",
       " 'e-commerce',\n",
       " 'Koch Industries',\n",
       " 'Koch Industries',\n",
       " 'internet, telecom',\n",
       " 'Dell computers',\n",
       " 'fashion retail',\n",
       " 'luxury goods',\n",
       " 'media',\n",
       " 'supermarkets',\n",
       " 'package delivery',\n",
       " 'casinos',\n",
       " 'home appliances',\n",
       " 'retail',\n",
       " 'TikTok',\n",
       " 'Nutella, chocolates',\n",
       " 'Chanel',\n",
       " 'Chanel',\n",
       " 'diversified',\n",
       " 'pig breeding',\n",
       " 'online games',\n",
       " 'music, chemicals',\n",
       " 'real estate',\n",
       " 'candy, pet food',\n",
       " 'candy, pet food',\n",
       " 'real estate',\n",
       " 'steel, investments',\n",
       " 'batteries',\n",
       " 'real estate',\n",
       " 'BMW, pharmaceuticals',\n",
       " 'metals',\n",
       " 'Red Bull',\n",
       " 'soy sauce',\n",
       " 'shipping',\n",
       " 'steel, transport',\n",
       " 'e-commerce',\n",
       " 'mining',\n",
       " 'eyeglasses',\n",
       " 'sensors',\n",
       " 'Estee Lauder',\n",
       " 'discount brokerage',\n",
       " 'oil',\n",
       " 'gas, chemicals',\n",
       " 'hedge funds',\n",
       " 'vaccines',\n",
       " 'mining',\n",
       " 'newspapers, TV network',\n",
       " 'software services',\n",
       " 'internet media',\n",
       " 'mining',\n",
       " 'smartphones',\n",
       " 'restaurants',\n",
       " 'e-commerce',\n",
       " 'oil, gas',\n",
       " 'investments',\n",
       " 'paints',\n",
       " 'BMW',\n",
       " 'medical devices',\n",
       " 'eBay, PayPal',\n",
       " 'H&M',\n",
       " 'money management',\n",
       " 'banking, tobacco',\n",
       " 'mining',\n",
       " 'hedge funds',\n",
       " 'banking, tobacco',\n",
       " 'automobiles',\n",
       " 'pharmaceuticals',\n",
       " 'medical devices',\n",
       " 'casinos/hotels',\n",
       " 'cheese',\n",
       " 'Apple, Disney',\n",
       " 'Google',\n",
       " 'pharmaceuticals',\n",
       " \"Aldi, Trader Joe's\",\n",
       " 'steel, telecom, investments',\n",
       " 'wireless networking gear',\n",
       " 'real estate',\n",
       " 'petrochemicals',\n",
       " 'diversified',\n",
       " 'real estate',\n",
       " 'hospitals',\n",
       " 'coal, fertilizers',\n",
       " 'Facebook',\n",
       " 'video streaming',\n",
       " 'media',\n",
       " 'finance, telecommunications',\n",
       " 'food',\n",
       " 'messaging app',\n",
       " 'chemicals',\n",
       " 'beer',\n",
       " 'fasteners',\n",
       " 'Heineken',\n",
       " 'retail, investments',\n",
       " 'batteries, automobiles',\n",
       " 'hedge funds',\n",
       " 'hedge funds',\n",
       " 'e-cigarettes',\n",
       " 'used cars',\n",
       " 'banking',\n",
       " 'investments',\n",
       " 'investments',\n",
       " 'hospitals',\n",
       " 'Walmart',\n",
       " 'oil, banking, telecom',\n",
       " 'automobiles',\n",
       " 'real estate services',\n",
       " 'smartphone screens',\n",
       " 'real estate',\n",
       " 'diversified',\n",
       " 'steel',\n",
       " 'auto parts',\n",
       " 'video conferencing',\n",
       " 'real estate',\n",
       " 'real estate',\n",
       " 'internet search',\n",
       " 'construction',\n",
       " 'Facebook',\n",
       " 'steel, investments',\n",
       " 'hedge funds',\n",
       " 'video surveillance',\n",
       " 'software',\n",
       " 'home improvement stores',\n",
       " 'biotech',\n",
       " 'video streaming app',\n",
       " 'construction equipment',\n",
       " 'software',\n",
       " 'packaging',\n",
       " 'packaging',\n",
       " 'packaging',\n",
       " 'Airbnb',\n",
       " 'real estate',\n",
       " 'business software',\n",
       " 'alcohol, real estate',\n",
       " 'online games',\n",
       " 'real estate',\n",
       " 'education',\n",
       " 'fashion retail',\n",
       " 'mining, copper products',\n",
       " 'hydraulic machinery',\n",
       " 'ecommerce',\n",
       " 'hedge funds',\n",
       " 'batteries',\n",
       " 'retail, media',\n",
       " 'commodities',\n",
       " 'coal',\n",
       " 'vaccines',\n",
       " 'palm oil, shipping, property',\n",
       " 'supermarkets',\n",
       " 'Twitter, Square',\n",
       " 'education',\n",
       " 'textiles, apparel',\n",
       " 'e-commerce',\n",
       " 'Airbnb',\n",
       " 'venture capital',\n",
       " 'Airbnb',\n",
       " 'gaming',\n",
       " 'semiconductors',\n",
       " 'agribusiness',\n",
       " 'Intel',\n",
       " 'trading, investments',\n",
       " 'Snapchat',\n",
       " 'telecom',\n",
       " 'semiconductors',\n",
       " 'real estate',\n",
       " 'pharmaceuticals',\n",
       " 'e-commerce',\n",
       " 'cement, sugar',\n",
       " 'beer',\n",
       " 'investments',\n",
       " 'hospitals',\n",
       " 'steel',\n",
       " 'real estate',\n",
       " 'oil',\n",
       " 'real estate, shipping',\n",
       " 'Snapchat',\n",
       " 'banking']"
      ]
     },
     "execution_count": 27,
     "metadata": {},
     "output_type": "execute_result"
    }
   ],
   "source": [
    "sources=[]\n",
    "for i in source:\n",
    "    sources.append(i.text)\n",
    "sources"
   ]
  },
  {
   "cell_type": "code",
   "execution_count": 28,
   "id": "4b7dc79d",
   "metadata": {},
   "outputs": [
    {
     "data": {
      "text/plain": [
       "[<selenium.webdriver.remote.webelement.WebElement (session=\"27451a992c2fc2353819fe78a98a4fbc\", element=\"ef7c6f4d-b351-40b6-8738-0d1e7debb87f\")>,\n",
       " <selenium.webdriver.remote.webelement.WebElement (session=\"27451a992c2fc2353819fe78a98a4fbc\", element=\"ed774fa1-0343-40f2-88f7-4254a06ef514\")>]"
      ]
     },
     "execution_count": 28,
     "metadata": {},
     "output_type": "execute_result"
    }
   ],
   "source": [
    "rank=driver8.find_elements_by_xpath('//div[@class=\"rank\"]')\n",
    "rank[0:2]"
   ]
  },
  {
   "cell_type": "code",
   "execution_count": 29,
   "id": "9c66652d",
   "metadata": {},
   "outputs": [
    {
     "data": {
      "text/plain": [
       "['1.',\n",
       " '2.',\n",
       " '3.',\n",
       " '4.',\n",
       " '5.',\n",
       " '6.',\n",
       " '7.',\n",
       " '8.',\n",
       " '9.',\n",
       " '10.',\n",
       " '11.',\n",
       " '12.',\n",
       " '13.',\n",
       " '14.',\n",
       " '15.',\n",
       " '16.',\n",
       " '17.',\n",
       " '18.',\n",
       " '19.',\n",
       " '20.',\n",
       " '21.',\n",
       " '22.',\n",
       " '23.',\n",
       " '24.',\n",
       " '25.',\n",
       " '26.',\n",
       " '27.',\n",
       " '27.',\n",
       " '29.',\n",
       " '30.',\n",
       " '31.',\n",
       " '32.',\n",
       " '33.',\n",
       " '34.',\n",
       " '35.',\n",
       " '36.',\n",
       " '37.',\n",
       " '38.',\n",
       " '39.',\n",
       " '40.',\n",
       " '41.',\n",
       " '41.',\n",
       " '43.',\n",
       " '44.',\n",
       " '45.',\n",
       " '46.',\n",
       " '47.',\n",
       " '48.',\n",
       " '48.',\n",
       " '50.',\n",
       " '51.',\n",
       " '52.',\n",
       " '53.',\n",
       " '53.',\n",
       " '55.',\n",
       " '56.',\n",
       " '57.',\n",
       " '58.',\n",
       " '59.',\n",
       " '60.',\n",
       " '61.',\n",
       " '62.',\n",
       " '62.',\n",
       " '64.',\n",
       " '65.',\n",
       " '66.',\n",
       " '66.',\n",
       " '68.',\n",
       " '69.',\n",
       " '70.',\n",
       " '71.',\n",
       " '71.',\n",
       " '73.',\n",
       " '74.',\n",
       " '75.',\n",
       " '75.',\n",
       " '77.',\n",
       " '78.',\n",
       " '79.',\n",
       " '80.',\n",
       " '81.',\n",
       " '82.',\n",
       " '83.',\n",
       " '84.',\n",
       " '85.',\n",
       " '86.',\n",
       " '87.',\n",
       " '88.',\n",
       " '89.',\n",
       " '89.',\n",
       " '89.',\n",
       " '92.',\n",
       " '93.',\n",
       " '94.',\n",
       " '95.',\n",
       " '96.',\n",
       " '96.',\n",
       " '98.',\n",
       " '99.',\n",
       " '100.',\n",
       " '100.',\n",
       " '102.',\n",
       " '103.',\n",
       " '104.',\n",
       " '105.',\n",
       " '105.',\n",
       " '107.',\n",
       " '107.',\n",
       " '109.',\n",
       " '110.',\n",
       " '111.',\n",
       " '112.',\n",
       " '113.',\n",
       " '114.',\n",
       " '115.',\n",
       " '116.',\n",
       " '117.',\n",
       " '118.',\n",
       " '119.',\n",
       " '119.',\n",
       " '121.',\n",
       " '121.',\n",
       " '121.',\n",
       " '124.',\n",
       " '124.',\n",
       " '126.',\n",
       " '127.',\n",
       " '128.',\n",
       " '128.',\n",
       " '128.',\n",
       " '131.',\n",
       " '132.',\n",
       " '133.',\n",
       " '133.',\n",
       " '133.',\n",
       " '133.',\n",
       " '137.',\n",
       " '138.',\n",
       " '138.',\n",
       " '140.',\n",
       " '140.',\n",
       " '142.',\n",
       " '142.',\n",
       " '144.',\n",
       " '145.',\n",
       " '145.',\n",
       " '145.',\n",
       " '148.',\n",
       " '148.',\n",
       " '150.',\n",
       " '151.',\n",
       " '151.',\n",
       " '151.',\n",
       " '154.',\n",
       " '155.',\n",
       " '156.',\n",
       " '156.',\n",
       " '158.',\n",
       " '158.',\n",
       " '158.',\n",
       " '161.',\n",
       " '161.',\n",
       " '163.',\n",
       " '164.',\n",
       " '164.',\n",
       " '166.',\n",
       " '166.',\n",
       " '168.',\n",
       " '169.',\n",
       " '169.',\n",
       " '171.',\n",
       " '171.',\n",
       " '173.',\n",
       " '173.',\n",
       " '173.',\n",
       " '173.',\n",
       " '177.',\n",
       " '177.',\n",
       " '177.',\n",
       " '177.',\n",
       " '181.',\n",
       " '182.',\n",
       " '182.',\n",
       " '184.',\n",
       " '185.',\n",
       " '186.',\n",
       " '186.',\n",
       " '186.',\n",
       " '189.',\n",
       " '189.',\n",
       " '191.',\n",
       " '191.',\n",
       " '193.',\n",
       " '194.',\n",
       " '195.',\n",
       " '195.',\n",
       " '197.',\n",
       " '197.',\n",
       " '197.',\n",
       " '200.']"
      ]
     },
     "execution_count": 29,
     "metadata": {},
     "output_type": "execute_result"
    }
   ],
   "source": [
    "ranks=[]\n",
    "for i in rank:\n",
    "    ranks.append(i.text)\n",
    "ranks"
   ]
  },
  {
   "cell_type": "markdown",
   "id": "b70bcb54",
   "metadata": {},
   "source": [
    "ans9)"
   ]
  },
  {
   "cell_type": "code",
   "execution_count": 269,
   "id": "c093cb59",
   "metadata": {},
   "outputs": [],
   "source": [
    "driver9=webdriver.Chrome('chromedriver.exe')"
   ]
  },
  {
   "cell_type": "code",
   "execution_count": 270,
   "id": "3fad96a1",
   "metadata": {},
   "outputs": [],
   "source": [
    "url=('https://www.youtube.com/')\n",
    "driver9.get(url)"
   ]
  },
  {
   "cell_type": "code",
   "execution_count": 271,
   "id": "7bee0e3c",
   "metadata": {},
   "outputs": [
    {
     "data": {
      "text/plain": [
       "<selenium.webdriver.remote.webelement.WebElement (session=\"7b1352fa391839ab814e3e3d6f58cf4b\", element=\"c79834d5-1eb3-4289-8aa7-9d99b50b6d1a\")>"
      ]
     },
     "execution_count": 271,
     "metadata": {},
     "output_type": "execute_result"
    }
   ],
   "source": [
    "search=driver9.find_element_by_xpath('/html/body/ytd-app/div[1]/div/ytd-masthead/div[3]/div[2]/ytd-searchbox/form/div[1]/div[1]/input')\n",
    "search"
   ]
  },
  {
   "cell_type": "code",
   "execution_count": 272,
   "id": "335b483b",
   "metadata": {},
   "outputs": [],
   "source": [
    "search.send_keys('Trakin Tech')"
   ]
  },
  {
   "cell_type": "code",
   "execution_count": 273,
   "id": "974d8c95",
   "metadata": {},
   "outputs": [
    {
     "data": {
      "text/plain": [
       "<selenium.webdriver.remote.webelement.WebElement (session=\"7b1352fa391839ab814e3e3d6f58cf4b\", element=\"ab3ccbc6-7817-47f7-b931-088dec89d56d\")>"
      ]
     },
     "execution_count": 273,
     "metadata": {},
     "output_type": "execute_result"
    }
   ],
   "source": [
    "searchbt=driver9.find_element_by_xpath('/html/body/ytd-app/div[1]/div/ytd-masthead/div[3]/div[2]/ytd-searchbox/button/yt-icon')\n",
    "searchbt"
   ]
  },
  {
   "cell_type": "code",
   "execution_count": 274,
   "id": "998c6612",
   "metadata": {},
   "outputs": [],
   "source": [
    "searchbt.click()"
   ]
  },
  {
   "cell_type": "code",
   "execution_count": 281,
   "id": "a02dafc5",
   "metadata": {},
   "outputs": [
    {
     "data": {
      "text/plain": [
       "<selenium.webdriver.remote.webelement.WebElement (session=\"7b1352fa391839ab814e3e3d6f58cf4b\", element=\"cf67949c-e191-4d2d-896a-b896a34d26c7\")>"
      ]
     },
     "execution_count": 281,
     "metadata": {},
     "output_type": "execute_result"
    }
   ],
   "source": [
    "video=driver9.find_element_by_xpath('/html/body/ytd-app/div[1]/ytd-page-manager/ytd-search/div[1]/ytd-two-column-search-results-renderer/div/ytd-section-list-renderer/div[2]/ytd-item-section-renderer/div[3]/ytd-shelf-renderer[1]/div[1]/div[2]/ytd-vertical-list-renderer/div[1]/ytd-video-renderer[2]/div[1]/ytd-thumbnail/a/yt-img-shadow')\n",
    "video"
   ]
  },
  {
   "cell_type": "code",
   "execution_count": 282,
   "id": "34c05527",
   "metadata": {},
   "outputs": [],
   "source": [
    "video.click()"
   ]
  },
  {
   "cell_type": "code",
   "execution_count": 283,
   "id": "7f094b61",
   "metadata": {},
   "outputs": [],
   "source": [
    "import time"
   ]
  },
  {
   "cell_type": "code",
   "execution_count": 286,
   "id": "ffcf335e",
   "metadata": {},
   "outputs": [],
   "source": [
    "last_height = driver9.execute_script('return document.body.scrollHeight')\n",
    "while True:\n",
    "    driver9.execute_script('window.scrollTo(0,document.body.scrollHeight)')\n",
    "    time.sleep(2)\n",
    "    new_height = driver9.execute_script('return document.body.scrollHeight')\n",
    "    try:\n",
    "        driver9.find_element_by_xpath('//*[@id=\"content-text\"]').click()\n",
    "        time.sleep(2)\n",
    "    except:\n",
    "        pass\n",
    "    if new_height == last_height:\n",
    "        break\n",
    "    last_height = new_height"
   ]
  },
  {
   "cell_type": "code",
   "execution_count": 289,
   "id": "ade5eaed",
   "metadata": {},
   "outputs": [],
   "source": [
    "comment=driver9.find_elements_by_xpath('//yt-formatted-string[@class=\"style-scope ytd-comment-renderer\"]')\n",
    "comment\n"
   ]
  },
  {
   "cell_type": "code",
   "execution_count": 290,
   "id": "04853f92",
   "metadata": {},
   "outputs": [
    {
     "data": {
      "text/plain": [
       "['',\n",
       " 'Doston aapke smartphone me kitne MP ka camera hain?',\n",
       " '',\n",
       " \"I love the grounded reality of this channel.. TA is all well and good but I find it truly baffling that all major crypto youtubers just look at pure TA and completely ignore the bigger narrative of why BTC is pumping and why the future outlook might not be as rosy as it seems. It's kinda irresponsible to ignore the fact that each ETF launch so far has caused a major dump at the peaks of BTC. We were already on shaky footing with historically low volume and almost pure whale pumps, narrowly avoiding a long-term bear market. This is the worst possible time in history to invest as so many don't back up their crypto assets. More emphasis should be put into day trading as it is less affected by the unpredictable nature of the market.I have made over 10.8btc 4rm day tradng with Nathan Hart, insights and signals in less than 4weeks, this is one of the best medium to backup your assets incase it goes bearish.\",\n",
       " '',\n",
       " \"Received stable  'Android 12'  update for Realme 8 today.\\n4.71 GB ( Beta ) on 23rd March 2022 + 1.08 GB ( Stable ) on 29th March 2022 \\nTotal update size = 5.79 GB\",\n",
       " '',\n",
       " 'He never disappoints us with his content ',\n",
       " '',\n",
       " 'Leica the unseen legend  xiaomi did great decision ️',\n",
       " '',\n",
       " 'Can 5G bands be upgraded through software update?',\n",
       " '',\n",
       " '64mp with ois(a52s 5g overall a nice midrange package',\n",
       " '',\n",
       " 'We can all agree that this man never disappoints us with his videos',\n",
       " '',\n",
       " 'My camera has 48 MP\\nAndroid user : oh no why!\\nApple user:  OMG',\n",
       " '',\n",
       " '️️One of the best thing about dude is that he never takes credit for himself when he achieves something. He always respect us, the audience and his team, and he is polite in all his videos. We congratulate ourselves on this achievement more to......',\n",
       " '',\n",
       " 'Finally mi pad 5 is coming ',\n",
       " '',\n",
       " \"I Respect Everyone who were involved in this , Seriously the best piece that I' ve ever seen on YouTube ,HATS OFF TO WELL ALL ! LOVE YOUR VIDEOS ️️...\",\n",
       " '',\n",
       " 'This man amaze us with new news',\n",
       " '',\n",
       " '#AskArun\\nSir as you said in the shorts video that if we bring mobile near to High Tension wires which has high magnetic field by which mobile can be damaged. What do you think about nowadays mobile charging is getting faster and Powerful so it will affect mobiles?',\n",
       " '',\n",
       " \"According to details provided by Samsung, the 200MP sensor can function as several different sensors thanks to the deep learning-based remosaicing algorithm.\\n\\nSamsung HP1 can do 2x2 pixel binning, which results in 50 MP resolution with an effective pixel size of 1.28 μm. There's also a 4x4 binning mode with 16 sensor pixels used to create one big image pixel with the equivalent of 12.5MP resolution and 2.56µm pixels. It can shoot up to 8K video at 30 fps with the field of view shrinking as little as possible.\",\n",
       " '',\n",
       " 'Sir make videos on home appliances also like ac refrigerator oven etc...',\n",
       " '',\n",
       " 'If He Was Our Computer Teacher Than Everybody Would Have Got Full Marks In Computer ',\n",
       " '',\n",
       " '',\n",
       " 'Vivo X Fold looks amazing!']"
      ]
     },
     "execution_count": 290,
     "metadata": {},
     "output_type": "execute_result"
    }
   ],
   "source": [
    "comments=[]\n",
    "for i in comment:\n",
    "    comments.append(i.text)\n",
    "comments"
   ]
  },
  {
   "cell_type": "code",
   "execution_count": null,
   "id": "4b450845",
   "metadata": {},
   "outputs": [],
   "source": []
  },
  {
   "cell_type": "markdown",
   "id": "95aa09c0",
   "metadata": {},
   "source": [
    "ans10)"
   ]
  },
  {
   "cell_type": "code",
   "execution_count": 12,
   "id": "64207c85",
   "metadata": {},
   "outputs": [],
   "source": [
    "driver10=webdriver.Chrome('chromedriver.exe')"
   ]
  },
  {
   "cell_type": "code",
   "execution_count": 13,
   "id": "f6a3a217",
   "metadata": {},
   "outputs": [],
   "source": [
    "url=('https://www.hostelworld.com/')\n",
    "driver10.get(url)"
   ]
  },
  {
   "cell_type": "code",
   "execution_count": 16,
   "id": "7ef3c9a5",
   "metadata": {},
   "outputs": [
    {
     "data": {
      "text/plain": [
       "<selenium.webdriver.remote.webelement.WebElement (session=\"d2f2622e6bb153c1b2d46f2e62155764\", element=\"57220108-a5ff-4109-8eb3-066e1693f457\")>"
      ]
     },
     "execution_count": 16,
     "metadata": {},
     "output_type": "execute_result"
    }
   ],
   "source": [
    "search=driver10.find_element_by_xpath('/html/body/div[3]/div/div/div[1]/div[2]/div/div[2]/div[4]/div/div[2]/div/div[1]/div/div/div/input')\n",
    "search"
   ]
  },
  {
   "cell_type": "code",
   "execution_count": 17,
   "id": "c781145b",
   "metadata": {},
   "outputs": [],
   "source": [
    "search.send_keys('london')"
   ]
  },
  {
   "cell_type": "code",
   "execution_count": 18,
   "id": "2075d0ac",
   "metadata": {},
   "outputs": [
    {
     "data": {
      "text/plain": [
       "<selenium.webdriver.remote.webelement.WebElement (session=\"d2f2622e6bb153c1b2d46f2e62155764\", element=\"cf2e9b4f-3e58-4d42-9976-d9b2c86d0208\")>"
      ]
     },
     "execution_count": 18,
     "metadata": {},
     "output_type": "execute_result"
    }
   ],
   "source": [
    "searchbt=driver10.find_element_by_xpath('/html/body/div[3]/div/div/div[1]/div[2]/div/div[2]/div[4]/div/div[2]/div/div[1]/div/div/ul/li[2]')\n",
    "searchbt"
   ]
  },
  {
   "cell_type": "code",
   "execution_count": 19,
   "id": "15c56f46",
   "metadata": {},
   "outputs": [],
   "source": [
    "searchbt.click()"
   ]
  },
  {
   "cell_type": "code",
   "execution_count": 20,
   "id": "a7f09d37",
   "metadata": {},
   "outputs": [
    {
     "data": {
      "text/plain": [
       "<selenium.webdriver.remote.webelement.WebElement (session=\"d2f2622e6bb153c1b2d46f2e62155764\", element=\"613d6973-9289-45c2-a35c-cd10dcbdc270\")>"
      ]
     },
     "execution_count": 20,
     "metadata": {},
     "output_type": "execute_result"
    }
   ],
   "source": [
    "button=driver10.find_element_by_xpath('/html/body/div[3]/div/div/div[1]/div[2]/div/div[2]/div[4]/div/div[2]/div/div[5]/button')\n",
    "button"
   ]
  },
  {
   "cell_type": "code",
   "execution_count": 22,
   "id": "34564bcd",
   "metadata": {},
   "outputs": [],
   "source": [
    "button.click()"
   ]
  },
  {
   "cell_type": "code",
   "execution_count": 65,
   "id": "64cb619f",
   "metadata": {},
   "outputs": [
    {
     "data": {
      "text/plain": [
       "[<selenium.webdriver.remote.webelement.WebElement (session=\"46b63d9e090d9d0c298531aaca355867\", element=\"b45e8cef-566c-426f-8f17-b9878bedcefa\")>,\n",
       " <selenium.webdriver.remote.webelement.WebElement (session=\"46b63d9e090d9d0c298531aaca355867\", element=\"e2367a29-74fb-4e68-b37a-82d2c6a0c163\")>]"
      ]
     },
     "execution_count": 65,
     "metadata": {},
     "output_type": "execute_result"
    }
   ],
   "source": [
    "hosname=driver10.find_elements_by_xpath('//h2[@class=\"title title-6\"]')\n",
    "hosname[0:2]"
   ]
  },
  {
   "cell_type": "code",
   "execution_count": 64,
   "id": "7a2ceebd",
   "metadata": {},
   "outputs": [
    {
     "data": {
      "text/plain": [
       "[\"St Christopher's Village\",\n",
       " 'Safestay London Elephant & Castle',\n",
       " 'Generator London',\n",
       " 'Urbany Hostel London',\n",
       " 'Pickwick Hall',\n",
       " 'Smart Camden Inn Hostel',\n",
       " 'No.8 Seven Sisters',\n",
       " 'London Backpackers',\n",
       " 'Smart Russell Square Hostel',\n",
       " 'YHA London Oxford Street',\n",
       " 'Barmy Badger Backpackers',\n",
       " 'Safestay London Kensington Holland Park',\n",
       " 'Prime Backpackers Angel',\n",
       " 'Smart Hyde Park View Hostel',\n",
       " \"Wombat's City Hostel London\",\n",
       " 'Queen Elizabeth Chelsea',\n",
       " 'Phoenix Hostel',\n",
       " 'New Cross Inn Hostel',\n",
       " 'Smart Hyde Park Inn Hostel',\n",
       " 'Strand Continental',\n",
       " 'PubLove @ The White Ferry, Victoria',\n",
       " \"St Christopher's Hammersmith\",\n",
       " 'The Dictionary Hostel',\n",
       " \"St Christopher's Camden\",\n",
       " 'Clink261',\n",
       " \"St Christopher's Shepherds Bush\",\n",
       " \"St Christopher's Oasis-Female Only\",\n",
       " 'Hostel One Notting Hill',\n",
       " \"St Christopher's Greenwich\",\n",
       " 'PubLove @ The Steam Engine, Waterloo']"
      ]
     },
     "execution_count": 64,
     "metadata": {},
     "output_type": "execute_result"
    }
   ],
   "source": [
    "hosnames=[]\n",
    "for i in hosname:\n",
    "    hosnames.append(i.text)\n",
    "hosnames"
   ]
  },
  {
   "cell_type": "code",
   "execution_count": 80,
   "id": "15a605be",
   "metadata": {},
   "outputs": [
    {
     "data": {
      "text/plain": [
       "30"
      ]
     },
     "execution_count": 80,
     "metadata": {},
     "output_type": "execute_result"
    }
   ],
   "source": [
    "len(hosnames)"
   ]
  },
  {
   "cell_type": "code",
   "execution_count": 67,
   "id": "7edcf8b8",
   "metadata": {},
   "outputs": [
    {
     "data": {
      "text/plain": [
       "[<selenium.webdriver.remote.webelement.WebElement (session=\"46b63d9e090d9d0c298531aaca355867\", element=\"5d5a0625-314d-475c-972d-45ef41080245\")>,\n",
       " <selenium.webdriver.remote.webelement.WebElement (session=\"46b63d9e090d9d0c298531aaca355867\", element=\"e444cfec-16cb-45b2-8be9-295250945014\")>]"
      ]
     },
     "execution_count": 67,
     "metadata": {},
     "output_type": "execute_result"
    }
   ],
   "source": [
    "distanceaway=driver10.find_elements_by_xpath('//span[@class=\"description\"]')\n",
    "distanceaway[0:2]"
   ]
  },
  {
   "cell_type": "code",
   "execution_count": 70,
   "id": "09020a7f",
   "metadata": {},
   "outputs": [
    {
     "data": {
      "text/plain": [
       "['1.8km',\n",
       " '1.7km',\n",
       " '3km',\n",
       " '5.4km',\n",
       " '2.3km',\n",
       " '4.4km',\n",
       " '9km',\n",
       " '11.9km',\n",
       " '2.6km',\n",
       " '2.1km',\n",
       " '5.5km',\n",
       " '5.9km',\n",
       " '3.6km',\n",
       " '5km',\n",
       " '3.6km',\n",
       " '5.7km',\n",
       " '4.2km',\n",
       " '6.1km',\n",
       " '5km',\n",
       " '1.3km',\n",
       " '2.4km',\n",
       " '7.5km',\n",
       " '4.1km',\n",
       " '4.3km',\n",
       " '3.2km',\n",
       " '7km',\n",
       " '1.8km',\n",
       " '5.5km',\n",
       " '7.6km',\n",
       " '0.5km']"
      ]
     },
     "execution_count": 70,
     "metadata": {},
     "output_type": "execute_result"
    }
   ],
   "source": [
    "distanceaways=[]\n",
    "for i in distanceaway:\n",
    "    distanceaways.append(i.text.replace('Hostel - ','').replace(' from city centre',''))\n",
    "distanceaways"
   ]
  },
  {
   "cell_type": "code",
   "execution_count": 71,
   "id": "f6588833",
   "metadata": {},
   "outputs": [
    {
     "data": {
      "text/plain": [
       "[<selenium.webdriver.remote.webelement.WebElement (session=\"46b63d9e090d9d0c298531aaca355867\", element=\"14a0520d-f94e-4a60-b1a0-54ec9aa7fad4\")>,\n",
       " <selenium.webdriver.remote.webelement.WebElement (session=\"46b63d9e090d9d0c298531aaca355867\", element=\"9933fb32-5be3-4772-bcd2-5da01aad9d92\")>]"
      ]
     },
     "execution_count": 71,
     "metadata": {},
     "output_type": "execute_result"
    }
   ],
   "source": [
    "rating=driver10.find_elements_by_xpath('//div[@class=\"score orange big\"]')\n",
    "rating[0:2]"
   ]
  },
  {
   "cell_type": "code",
   "execution_count": 72,
   "id": "2d1deac6",
   "metadata": {},
   "outputs": [
    {
     "data": {
      "text/plain": [
       "['8.0',\n",
       " '7.7',\n",
       " '7.8',\n",
       " '9.6',\n",
       " '9.0',\n",
       " '8.5',\n",
       " '6.8',\n",
       " '8.2',\n",
       " '6.8',\n",
       " '9.6',\n",
       " '9.3',\n",
       " '7.7',\n",
       " '9.0',\n",
       " '7.9',\n",
       " '8.9',\n",
       " '7.5',\n",
       " '7.9',\n",
       " '7.1',\n",
       " '6.8',\n",
       " '7.3',\n",
       " '8.4',\n",
       " '7.9',\n",
       " '7.1',\n",
       " '7.7',\n",
       " '7.4',\n",
       " '7.7',\n",
       " '8.0',\n",
       " '8.1',\n",
       " '7.5',\n",
       " '7.9']"
      ]
     },
     "execution_count": 72,
     "metadata": {},
     "output_type": "execute_result"
    }
   ],
   "source": [
    "ratings=[]\n",
    "for i in rating:\n",
    "    ratings.append(i.text)\n",
    "ratings"
   ]
  },
  {
   "cell_type": "code",
   "execution_count": 73,
   "id": "ba2dd39e",
   "metadata": {},
   "outputs": [
    {
     "data": {
      "text/plain": [
       "[<selenium.webdriver.remote.webelement.WebElement (session=\"46b63d9e090d9d0c298531aaca355867\", element=\"5c467fcf-4f19-4247-a297-079680a8f393\")>,\n",
       " <selenium.webdriver.remote.webelement.WebElement (session=\"46b63d9e090d9d0c298531aaca355867\", element=\"697f44b1-a6b0-4b8e-9fef-177692e73482\")>]"
      ]
     },
     "execution_count": 73,
     "metadata": {},
     "output_type": "execute_result"
    }
   ],
   "source": [
    "review=driver10.find_elements_by_xpath('//div[@class=\"reviews\"]')\n",
    "review[0:2]"
   ]
  },
  {
   "cell_type": "code",
   "execution_count": 75,
   "id": "b55461df",
   "metadata": {},
   "outputs": [
    {
     "data": {
      "text/plain": [
       "['11065',\n",
       " '4115',\n",
       " '6847',\n",
       " '225',\n",
       " '2298',\n",
       " '2775',\n",
       " '3719',\n",
       " '4200',\n",
       " '9593',\n",
       " '4509',\n",
       " '1709',\n",
       " '1139',\n",
       " '539',\n",
       " '4533',\n",
       " '13463',\n",
       " '3233',\n",
       " '3506',\n",
       " '1084',\n",
       " '6270',\n",
       " '816',\n",
       " '202',\n",
       " '3987',\n",
       " '36',\n",
       " '3747',\n",
       " '60',\n",
       " '651',\n",
       " '624',\n",
       " '1329',\n",
       " '3163',\n",
       " '246']"
      ]
     },
     "execution_count": 75,
     "metadata": {},
     "output_type": "execute_result"
    }
   ],
   "source": [
    "reviews=[]\n",
    "for i in review:\n",
    "    reviews.append(i.text.replace(' Total Reviews',''))\n",
    "reviews"
   ]
  },
  {
   "cell_type": "code",
   "execution_count": 76,
   "id": "ba335d6c",
   "metadata": {},
   "outputs": [
    {
     "data": {
      "text/plain": [
       "[<selenium.webdriver.remote.webelement.WebElement (session=\"46b63d9e090d9d0c298531aaca355867\", element=\"d5418a60-27c7-45aa-8a5f-e9ad71662969\")>,\n",
       " <selenium.webdriver.remote.webelement.WebElement (session=\"46b63d9e090d9d0c298531aaca355867\", element=\"0c92cce3-c4df-4698-bd01-7a23e3d3ab49\")>]"
      ]
     },
     "execution_count": 76,
     "metadata": {},
     "output_type": "execute_result"
    }
   ],
   "source": [
    "review1=driver10.find_elements_by_xpath('//div[@class=\"keyword\"]')\n",
    "review1[0:2]"
   ]
  },
  {
   "cell_type": "code",
   "execution_count": 77,
   "id": "ca48d683",
   "metadata": {},
   "outputs": [
    {
     "data": {
      "text/plain": [
       "['Fabulous',\n",
       " 'Fabulous',\n",
       " 'Very Good',\n",
       " 'Very Good',\n",
       " 'Superb',\n",
       " 'Superb',\n",
       " 'Fabulous',\n",
       " 'Good',\n",
       " 'Fabulous',\n",
       " 'Good',\n",
       " 'Superb',\n",
       " 'Superb',\n",
       " 'Very Good',\n",
       " 'Superb',\n",
       " 'Very Good',\n",
       " 'Fabulous',\n",
       " 'Very Good',\n",
       " 'Very Good',\n",
       " 'Very Good',\n",
       " 'Good',\n",
       " 'Very Good',\n",
       " 'Fabulous',\n",
       " 'Very Good',\n",
       " 'Very Good',\n",
       " 'Very Good',\n",
       " 'Very Good',\n",
       " 'Very Good',\n",
       " 'Fabulous',\n",
       " 'Fabulous',\n",
       " 'Very Good',\n",
       " 'Very Good']"
      ]
     },
     "execution_count": 77,
     "metadata": {},
     "output_type": "execute_result"
    }
   ],
   "source": [
    "reviews1=[]\n",
    "for i in review1:\n",
    "    reviews1.append(i.text.replace(' Total Reviews',''))\n",
    "reviews1"
   ]
  },
  {
   "cell_type": "code",
   "execution_count": 115,
   "id": "3448be36",
   "metadata": {},
   "outputs": [
    {
     "data": {
      "text/plain": [
       "[<selenium.webdriver.remote.webelement.WebElement (session=\"46b63d9e090d9d0c298531aaca355867\", element=\"5598af6d-fd29-46cd-b908-deb1b1cf9bb2\")>,\n",
       " <selenium.webdriver.remote.webelement.WebElement (session=\"46b63d9e090d9d0c298531aaca355867\", element=\"75ef4b5b-1809-40e4-a96f-5d555e4b8d72\")>]"
      ]
     },
     "execution_count": 115,
     "metadata": {},
     "output_type": "execute_result"
    }
   ],
   "source": [
    "privprice=driver10.find_elements_by_xpath('//div[@class=\"price title-5\"]')\n",
    "privprice[0:2]"
   ]
  },
  {
   "cell_type": "code",
   "execution_count": 116,
   "id": "1361092a",
   "metadata": {},
   "outputs": [
    {
     "data": {
      "text/plain": [
       "['Rs10867.34 Rs9781',\n",
       " 'Rs1726.49 Rs1554',\n",
       " 'Rs21579',\n",
       " 'Rs1948',\n",
       " 'Rs2694',\n",
       " 'Rs10138',\n",
       " 'Rs2748',\n",
       " 'Rs13187',\n",
       " 'Rs2119',\n",
       " 'Rs994',\n",
       " 'Rs1161',\n",
       " 'Rs4181',\n",
       " 'Rs1678',\n",
       " 'Rs13844',\n",
       " 'Rs1795',\n",
       " 'Rs8891',\n",
       " 'Rs7759',\n",
       " 'Rs2598',\n",
       " 'Rs1888',\n",
       " 'Rs2424',\n",
       " 'Rs10370',\n",
       " 'Rs2624',\n",
       " 'Rs22732.84 Rs17050',\n",
       " 'Rs3484.65 Rs2613',\n",
       " 'Rs1424',\n",
       " 'Rs1665.06 Rs1582',\n",
       " 'Rs11761.15 Rs8821',\n",
       " 'Rs3255.09 Rs2441',\n",
       " 'Rs13965',\n",
       " 'Rs1728',\n",
       " 'Rs8452',\n",
       " 'Rs2697',\n",
       " 'Rs2997',\n",
       " 'Rs1482.28 Rs1334',\n",
       " 'Rs2396.22 Rs2157',\n",
       " 'Rs1763.49 Rs1587',\n",
       " 'Rs8820',\n",
       " 'Rs1897',\n",
       " 'Rs1504.48 Rs1354',\n",
       " 'Rs7540.91 Rs6787',\n",
       " 'Rs2244.14 Rs2020',\n",
       " 'Rs9382.84 Rs8445',\n",
       " 'Rs2381.42 Rs2143',\n",
       " 'Rs5914.32 Rs5323',\n",
       " 'Rs1378.68 Rs1241']"
      ]
     },
     "execution_count": 116,
     "metadata": {},
     "output_type": "execute_result"
    }
   ],
   "source": [
    "privprices=[]\n",
    "for i in privprice:\n",
    "    privprices.append(i.text)\n",
    "privprices"
   ]
  },
  {
   "cell_type": "code",
   "execution_count": 81,
   "id": "196a5274",
   "metadata": {},
   "outputs": [
    {
     "data": {
      "text/plain": [
       "45"
      ]
     },
     "execution_count": 81,
     "metadata": {},
     "output_type": "execute_result"
    }
   ],
   "source": [
    "len(privprices)"
   ]
  },
  {
   "cell_type": "code",
   "execution_count": null,
   "id": "68d854bb",
   "metadata": {},
   "outputs": [],
   "source": []
  },
  {
   "cell_type": "code",
   "execution_count": null,
   "id": "7c3ef496",
   "metadata": {},
   "outputs": [],
   "source": [
    "dorprice=driver10.find_elements_by_xpath('//div[@class=\"price title-5\"]')\n",
    "dorprice[0:2]"
   ]
  },
  {
   "cell_type": "code",
   "execution_count": null,
   "id": "6b5fd6da",
   "metadata": {},
   "outputs": [],
   "source": [
    "dorprices=[]\n",
    "for i in dorprice:\n",
    "    dorprices.append(i.text)\n",
    "dorprices"
   ]
  },
  {
   "cell_type": "code",
   "execution_count": 26,
   "id": "974a7384",
   "metadata": {},
   "outputs": [
    {
     "data": {
      "text/plain": [
       "[<selenium.webdriver.remote.webelement.WebElement (session=\"d2f2622e6bb153c1b2d46f2e62155764\", element=\"1d50d8d2-30d0-456e-9948-65c49327af3b\")>,\n",
       " <selenium.webdriver.remote.webelement.WebElement (session=\"d2f2622e6bb153c1b2d46f2e62155764\", element=\"609f344e-8866-43d7-a846-71f03226e10d\")>]"
      ]
     },
     "execution_count": 26,
     "metadata": {},
     "output_type": "execute_result"
    }
   ],
   "source": [
    "facility=driver10.find_elements_by_xpath('//div[@class=\"facilities-label facilities\"]')\n",
    "facility[0:2]"
   ]
  },
  {
   "cell_type": "code",
   "execution_count": 27,
   "id": "ed463f2e",
   "metadata": {},
   "outputs": [
    {
     "data": {
      "text/plain": [
       "['Free WiFi,Follows Covid-19 sanitation guidance',\n",
       " 'Free WiFi,Follows Covid-19 sanitation guidance',\n",
       " 'Free WiFi,Follows Covid-19 sanitation guidance',\n",
       " 'Free WiFi,Follows Covid-19 sanitation guidance',\n",
       " 'Free WiFi,Follows Covid-19 sanitation guidance',\n",
       " 'Free WiFi,Free Breakfast,Follows Covid-19 sanitation guidance',\n",
       " 'Free WiFi,Follows Covid-19 sanitation guidance',\n",
       " 'Free WiFi,Follows Covid-19 sanitation guidance',\n",
       " 'Free WiFi',\n",
       " 'Free WiFi,Follows Covid-19 sanitation guidance',\n",
       " 'Free WiFi,Follows Covid-19 sanitation guidance',\n",
       " 'Free WiFi,Follows Covid-19 sanitation guidance',\n",
       " 'Free WiFi',\n",
       " 'Free WiFi,Follows Covid-19 sanitation guidance',\n",
       " 'Free WiFi,Free Breakfast',\n",
       " 'Free WiFi',\n",
       " 'Free WiFi,Follows Covid-19 sanitation guidance',\n",
       " 'Free WiFi,Follows Covid-19 sanitation guidance',\n",
       " 'Free WiFi,Follows Covid-19 sanitation guidance',\n",
       " 'Free WiFi,Follows Covid-19 sanitation guidance',\n",
       " 'Free WiFi,Follows Covid-19 sanitation guidance',\n",
       " 'Free WiFi',\n",
       " 'Free WiFi,Follows Covid-19 sanitation guidance',\n",
       " 'Free WiFi',\n",
       " '',\n",
       " 'Free WiFi,Free Breakfast',\n",
       " 'Follows Covid-19 sanitation guidance',\n",
       " 'Free WiFi,Follows Covid-19 sanitation guidance',\n",
       " 'Free WiFi,Free Breakfast,Follows Covid-19 sanitation guidance',\n",
       " 'Free WiFi,Follows Covid-19 sanitation guidance']"
      ]
     },
     "execution_count": 27,
     "metadata": {},
     "output_type": "execute_result"
    }
   ],
   "source": [
    "facilitys=[]\n",
    "for i in facility:\n",
    "    facilitys.append(i.text.replace('\\n',','))\n",
    "facilitys"
   ]
  },
  {
   "cell_type": "code",
   "execution_count": 28,
   "id": "3181af24",
   "metadata": {},
   "outputs": [
    {
     "data": {
      "text/plain": [
       "[<selenium.webdriver.remote.webelement.WebElement (session=\"d2f2622e6bb153c1b2d46f2e62155764\", element=\"21a9239a-8d4b-49e8-9678-535337a81e25\")>,\n",
       " <selenium.webdriver.remote.webelement.WebElement (session=\"d2f2622e6bb153c1b2d46f2e62155764\", element=\"272f935b-5ad1-42ff-98df-5c0c57cc33ce\")>]"
      ]
     },
     "execution_count": 28,
     "metadata": {},
     "output_type": "execute_result"
    }
   ],
   "source": [
    "des=driver10.find_elements_by_xpath('//span[@class=\"description\"]')\n",
    "des[0:2]"
   ]
  },
  {
   "cell_type": "code",
   "execution_count": 29,
   "id": "30922a48",
   "metadata": {},
   "outputs": [
    {
     "data": {
      "text/plain": [
       "['Hostel - 1.8km from city centre',\n",
       " 'Hostel - 1.7km from city centre',\n",
       " 'Hostel - 3km from city centre',\n",
       " 'Hostel - 5.4km from city centre',\n",
       " 'Hostel - 4.4km from city centre',\n",
       " 'Hostel - 11.9km from city centre',\n",
       " 'Hostel - 2.6km from city centre',\n",
       " 'Hostel - 2.1km from city centre',\n",
       " 'Hostel - 5.9km from city centre',\n",
       " 'Hostel - 5km from city centre',\n",
       " 'Hostel - 1.8km from city centre',\n",
       " 'Hostel - 3.6km from city centre',\n",
       " 'Hostel - 5.7km from city centre',\n",
       " 'Hostel - 4.2km from city centre',\n",
       " 'Hostel - 6.1km from city centre',\n",
       " 'Hostel - 5km from city centre',\n",
       " 'Hostel - 2.4km from city centre',\n",
       " 'Hostel - 7.5km from city centre',\n",
       " 'Hostel - 4.3km from city centre',\n",
       " 'Hostel - 2.9km from city centre',\n",
       " 'Hostel - 7km from city centre',\n",
       " 'Hostel - 5.5km from city centre',\n",
       " 'Hostel - 7.6km from city centre',\n",
       " 'Hostel - 5.5km from city centre',\n",
       " 'Hostel - 7.3km from city centre',\n",
       " 'Hostel - 5km from city centre',\n",
       " 'Hostel - 8.2km from city centre',\n",
       " 'Hostel - 4.3km from city centre',\n",
       " 'Hostel - 5.5km from city centre',\n",
       " 'Hostel - 9.8km from city centre']"
      ]
     },
     "execution_count": 29,
     "metadata": {},
     "output_type": "execute_result"
    }
   ],
   "source": [
    "dess=[]\n",
    "for i in des:\n",
    "    dess.append(i.text)\n",
    "dess"
   ]
  },
  {
   "cell_type": "code",
   "execution_count": null,
   "id": "f5372b5d",
   "metadata": {},
   "outputs": [],
   "source": []
  },
  {
   "cell_type": "code",
   "execution_count": null,
   "id": "a76d0af0",
   "metadata": {},
   "outputs": [],
   "source": []
  }
 ],
 "metadata": {
  "kernelspec": {
   "display_name": "Python 3 (ipykernel)",
   "language": "python",
   "name": "python3"
  },
  "language_info": {
   "codemirror_mode": {
    "name": "ipython",
    "version": 3
   },
   "file_extension": ".py",
   "mimetype": "text/x-python",
   "name": "python",
   "nbconvert_exporter": "python",
   "pygments_lexer": "ipython3",
   "version": "3.9.7"
  }
 },
 "nbformat": 4,
 "nbformat_minor": 5
}
