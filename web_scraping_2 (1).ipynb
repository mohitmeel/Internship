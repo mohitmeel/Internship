{
 "cells": [
  {
   "cell_type": "code",
   "execution_count": 1,
   "id": "1e585e95",
   "metadata": {},
   "outputs": [
    {
     "name": "stdout",
     "output_type": "stream",
     "text": [
      "Requirement already satisfied: Selenium in c:\\users\\acer\\anaconda3\\lib\\site-packages (4.1.3)\n",
      "Requirement already satisfied: trio-websocket~=0.9 in c:\\users\\acer\\anaconda3\\lib\\site-packages (from Selenium) (0.9.2)\n",
      "Requirement already satisfied: trio~=0.17 in c:\\users\\acer\\anaconda3\\lib\\site-packages (from Selenium) (0.20.0)\n",
      "Requirement already satisfied: urllib3[secure,socks]~=1.26 in c:\\users\\acer\\anaconda3\\lib\\site-packages (from Selenium) (1.26.7)\n",
      "Requirement already satisfied: outcome in c:\\users\\acer\\anaconda3\\lib\\site-packages (from trio~=0.17->Selenium) (1.1.0)\n",
      "Requirement already satisfied: async-generator>=1.9 in c:\\users\\acer\\anaconda3\\lib\\site-packages (from trio~=0.17->Selenium) (1.10)\n",
      "Requirement already satisfied: sortedcontainers in c:\\users\\acer\\anaconda3\\lib\\site-packages (from trio~=0.17->Selenium) (2.4.0)\n",
      "Requirement already satisfied: sniffio in c:\\users\\acer\\anaconda3\\lib\\site-packages (from trio~=0.17->Selenium) (1.2.0)\n",
      "Requirement already satisfied: attrs>=19.2.0 in c:\\users\\acer\\anaconda3\\lib\\site-packages (from trio~=0.17->Selenium) (21.2.0)\n",
      "Requirement already satisfied: cffi>=1.14 in c:\\users\\acer\\anaconda3\\lib\\site-packages (from trio~=0.17->Selenium) (1.14.6)\n",
      "Requirement already satisfied: idna in c:\\users\\acer\\anaconda3\\lib\\site-packages (from trio~=0.17->Selenium) (3.2)\n",
      "Requirement already satisfied: pycparser in c:\\users\\acer\\anaconda3\\lib\\site-packages (from cffi>=1.14->trio~=0.17->Selenium) (2.20)\n",
      "Requirement already satisfied: wsproto>=0.14 in c:\\users\\acer\\anaconda3\\lib\\site-packages (from trio-websocket~=0.9->Selenium) (1.1.0)\n",
      "Requirement already satisfied: pyOpenSSL>=0.14 in c:\\users\\acer\\anaconda3\\lib\\site-packages (from urllib3[secure,socks]~=1.26->Selenium) (21.0.0)\n",
      "Requirement already satisfied: cryptography>=1.3.4 in c:\\users\\acer\\anaconda3\\lib\\site-packages (from urllib3[secure,socks]~=1.26->Selenium) (3.4.8)\n",
      "Requirement already satisfied: certifi in c:\\users\\acer\\anaconda3\\lib\\site-packages (from urllib3[secure,socks]~=1.26->Selenium) (2021.10.8)\n",
      "Requirement already satisfied: PySocks!=1.5.7,<2.0,>=1.5.6 in c:\\users\\acer\\anaconda3\\lib\\site-packages (from urllib3[secure,socks]~=1.26->Selenium) (1.7.1)\n",
      "Requirement already satisfied: six>=1.5.2 in c:\\users\\acer\\anaconda3\\lib\\site-packages (from pyOpenSSL>=0.14->urllib3[secure,socks]~=1.26->Selenium) (1.16.0)\n",
      "Requirement already satisfied: h11<1,>=0.9.0 in c:\\users\\acer\\anaconda3\\lib\\site-packages (from wsproto>=0.14->trio-websocket~=0.9->Selenium) (0.13.0)\n"
     ]
    }
   ],
   "source": [
    "!pip install Selenium"
   ]
  },
  {
   "cell_type": "code",
   "execution_count": 1,
   "id": "76da6426",
   "metadata": {},
   "outputs": [],
   "source": [
    "import selenium\n",
    "from selenium import webdriver\n",
    "import pandas as pd\n",
    "import warnings\n",
    "warnings.filterwarnings('ignore')"
   ]
  },
  {
   "cell_type": "markdown",
   "id": "e17b6c00",
   "metadata": {},
   "source": [
    "ans1)"
   ]
  },
  {
   "cell_type": "code",
   "execution_count": 24,
   "id": "4ac034ad",
   "metadata": {},
   "outputs": [],
   "source": [
    "driver=webdriver.Chrome(r'C:/Users/ACER/Downloads/chromedriver_win32/chromedriver.exe')\n"
   ]
  },
  {
   "cell_type": "code",
   "execution_count": 25,
   "id": "aea8220a",
   "metadata": {},
   "outputs": [],
   "source": [
    "driver=webdriver.Chrome('chromedriver.exe')"
   ]
  },
  {
   "cell_type": "code",
   "execution_count": 26,
   "id": "d836f5c1",
   "metadata": {},
   "outputs": [],
   "source": [
    "url='https://www.naukri.com/'\n",
    "driver.get(url)"
   ]
  },
  {
   "cell_type": "code",
   "execution_count": 27,
   "id": "30344828",
   "metadata": {},
   "outputs": [
    {
     "data": {
      "text/plain": [
       "<selenium.webdriver.remote.webelement.WebElement (session=\"8333424ec27fe78e2478daf954a64ddc\", element=\"283fe0c6-a026-407d-8d2e-14e316efde67\")>"
      ]
     },
     "execution_count": 27,
     "metadata": {},
     "output_type": "execute_result"
    }
   ],
   "source": [
    "job=driver.find_element_by_class_name('suggestor-input')\n",
    "job"
   ]
  },
  {
   "cell_type": "code",
   "execution_count": 28,
   "id": "2790e192",
   "metadata": {},
   "outputs": [],
   "source": [
    "job.send_keys('Data Analyst')"
   ]
  },
  {
   "cell_type": "code",
   "execution_count": 29,
   "id": "dc643820",
   "metadata": {},
   "outputs": [
    {
     "data": {
      "text/plain": [
       "<selenium.webdriver.remote.webelement.WebElement (session=\"8333424ec27fe78e2478daf954a64ddc\", element=\"4e9cc55a-ef8e-4fd8-91d3-c25f8c0d8dfd\")>"
      ]
     },
     "execution_count": 29,
     "metadata": {},
     "output_type": "execute_result"
    }
   ],
   "source": [
    "location=driver.find_element_by_xpath('/html/body/div/div[2]/div[3]/div/div/div[3]/div/div/div/input')\n",
    "location"
   ]
  },
  {
   "cell_type": "code",
   "execution_count": 30,
   "id": "ac02edc2",
   "metadata": {},
   "outputs": [],
   "source": [
    "location.send_keys('Bangalore')"
   ]
  },
  {
   "cell_type": "code",
   "execution_count": 31,
   "id": "62226dc2",
   "metadata": {},
   "outputs": [
    {
     "data": {
      "text/plain": [
       "<selenium.webdriver.remote.webelement.WebElement (session=\"8333424ec27fe78e2478daf954a64ddc\", element=\"635bce1b-07fe-42c8-8a80-51c568a86cb3\")>"
      ]
     },
     "execution_count": 31,
     "metadata": {},
     "output_type": "execute_result"
    }
   ],
   "source": [
    "searchbt=driver.find_element_by_xpath('/html/body/div/div[2]/div[3]/div/div/div[6]')\n",
    "searchbt"
   ]
  },
  {
   "cell_type": "code",
   "execution_count": 32,
   "id": "fd71685c",
   "metadata": {},
   "outputs": [],
   "source": [
    "searchbt.click()"
   ]
  },
  {
   "cell_type": "code",
   "execution_count": 33,
   "id": "01c7fdc3",
   "metadata": {},
   "outputs": [
    {
     "data": {
      "text/plain": [
       "[<selenium.webdriver.remote.webelement.WebElement (session=\"8333424ec27fe78e2478daf954a64ddc\", element=\"1008ade5-0d44-489b-af73-ff7a8b0b14b0\")>,\n",
       " <selenium.webdriver.remote.webelement.WebElement (session=\"8333424ec27fe78e2478daf954a64ddc\", element=\"155da0ac-cf02-43dd-9e68-b46985a2c2b2\")>,\n",
       " <selenium.webdriver.remote.webelement.WebElement (session=\"8333424ec27fe78e2478daf954a64ddc\", element=\"fd7c5b23-896b-4d61-baca-9b93e30ecbe6\")>,\n",
       " <selenium.webdriver.remote.webelement.WebElement (session=\"8333424ec27fe78e2478daf954a64ddc\", element=\"d0be8021-6489-4588-b055-aae88d198a60\")>,\n",
       " <selenium.webdriver.remote.webelement.WebElement (session=\"8333424ec27fe78e2478daf954a64ddc\", element=\"07e3df4e-6967-41fa-9e5d-52d11478d5ac\")>,\n",
       " <selenium.webdriver.remote.webelement.WebElement (session=\"8333424ec27fe78e2478daf954a64ddc\", element=\"d22b9fd4-7f2d-4bf5-83ef-247fea540c72\")>,\n",
       " <selenium.webdriver.remote.webelement.WebElement (session=\"8333424ec27fe78e2478daf954a64ddc\", element=\"a25fbba6-f25f-482e-834b-33ead3e15e8d\")>,\n",
       " <selenium.webdriver.remote.webelement.WebElement (session=\"8333424ec27fe78e2478daf954a64ddc\", element=\"ffa161b0-c34b-4715-995a-3f3761144135\")>,\n",
       " <selenium.webdriver.remote.webelement.WebElement (session=\"8333424ec27fe78e2478daf954a64ddc\", element=\"db7f8269-c631-4944-9c7c-a1750ac6e9c0\")>,\n",
       " <selenium.webdriver.remote.webelement.WebElement (session=\"8333424ec27fe78e2478daf954a64ddc\", element=\"824c4683-5d6c-4491-bc2f-918c3c871195\")>]"
      ]
     },
     "execution_count": 33,
     "metadata": {},
     "output_type": "execute_result"
    }
   ],
   "source": [
    "title=driver.find_elements_by_xpath('//a[@class=\"title fw500 ellipsis\"]')\n",
    "title[0:10]"
   ]
  },
  {
   "cell_type": "code",
   "execution_count": 34,
   "id": "56f03dbb",
   "metadata": {},
   "outputs": [
    {
     "data": {
      "text/plain": [
       "['Data Analyst - IIM/ISB/MDI/FMS/SP Jain',\n",
       " 'Senior Data Analyst',\n",
       " 'Looking For Data Analyst',\n",
       " 'Data Analyst || Advance Excel || D Limit || Concatenate',\n",
       " 'Data Analyst (Python, SQL, Excel)',\n",
       " 'software developer & Testing / Business Analyst/Data Analyst/Python.',\n",
       " 'Staff Business Data Analyst - FDP',\n",
       " 'Senior Data Analyst',\n",
       " 'Senior Data Analyst',\n",
       " 'Data Analyst',\n",
       " 'Senior Data Analyst',\n",
       " 'Senior Data Analyst (Digital Services Analytics)',\n",
       " 'Tcs Hiring For Data Analyst / Data Engineer',\n",
       " 'Data Analyst / Data Source Engineer - SOQL/SOSL',\n",
       " 'Data Analyst',\n",
       " 'Data Analyst',\n",
       " 'Hiring For a Data Analyst with Permanent Opportunity',\n",
       " 'Data Analyst',\n",
       " 'Data Analyst For Text / Sentiment Analysis',\n",
       " 'Data Analyst / BI Analytics Consultant - Night Shift - NA']"
      ]
     },
     "execution_count": 34,
     "metadata": {},
     "output_type": "execute_result"
    }
   ],
   "source": [
    "titles=[]\n",
    "for i in title:\n",
    "    titles.append(i.text)\n",
    "titles"
   ]
  },
  {
   "cell_type": "code",
   "execution_count": 35,
   "id": "3740aa58",
   "metadata": {},
   "outputs": [
    {
     "data": {
      "text/plain": [
       "[<selenium.webdriver.remote.webelement.WebElement (session=\"8333424ec27fe78e2478daf954a64ddc\", element=\"84531161-c709-424c-a4fb-ed0759d64fb6\")>,\n",
       " <selenium.webdriver.remote.webelement.WebElement (session=\"8333424ec27fe78e2478daf954a64ddc\", element=\"7ed949d1-4118-4384-8a9f-33614ea9f25e\")>,\n",
       " <selenium.webdriver.remote.webelement.WebElement (session=\"8333424ec27fe78e2478daf954a64ddc\", element=\"e33df5a9-2677-4b7c-bf6e-aa6cd0932683\")>,\n",
       " <selenium.webdriver.remote.webelement.WebElement (session=\"8333424ec27fe78e2478daf954a64ddc\", element=\"ca2b8d1c-be42-4649-ae64-58b40c01725c\")>,\n",
       " <selenium.webdriver.remote.webelement.WebElement (session=\"8333424ec27fe78e2478daf954a64ddc\", element=\"46d9175d-10b6-426e-87a6-5d8e5081f1d4\")>,\n",
       " <selenium.webdriver.remote.webelement.WebElement (session=\"8333424ec27fe78e2478daf954a64ddc\", element=\"18256560-01e5-4274-baac-c3f96e34b764\")>,\n",
       " <selenium.webdriver.remote.webelement.WebElement (session=\"8333424ec27fe78e2478daf954a64ddc\", element=\"7a561022-6434-4f64-be64-3ad5bf365dfc\")>,\n",
       " <selenium.webdriver.remote.webelement.WebElement (session=\"8333424ec27fe78e2478daf954a64ddc\", element=\"0ad6392c-4461-49a3-8f90-ab96bbd641d9\")>,\n",
       " <selenium.webdriver.remote.webelement.WebElement (session=\"8333424ec27fe78e2478daf954a64ddc\", element=\"633586f5-1553-423a-a817-f50dada36038\")>,\n",
       " <selenium.webdriver.remote.webelement.WebElement (session=\"8333424ec27fe78e2478daf954a64ddc\", element=\"7a87a132-1c7d-4c22-8467-d28519e17314\")>]"
      ]
     },
     "execution_count": 35,
     "metadata": {},
     "output_type": "execute_result"
    }
   ],
   "source": [
    "location1=driver.find_elements_by_xpath('//li[@class=\"fleft grey-text br2 placeHolderLi location\"]')\n",
    "location1[0:10]"
   ]
  },
  {
   "cell_type": "code",
   "execution_count": 36,
   "id": "d5e8f4cb",
   "metadata": {},
   "outputs": [
    {
     "data": {
      "text/plain": [
       "['Bangalore/Bengaluru',\n",
       " 'Bangalore/Bengaluru',\n",
       " 'Ahmedabad, Bangalore/Bengaluru',\n",
       " 'Bangalore/Bengaluru',\n",
       " 'Bangalore/Bengaluru',\n",
       " 'Pune, Bangalore/Bengaluru(Shivaji Nagar), Mumbai (All Areas)\\n(WFH during Covid)',\n",
       " 'Bangalore/Bengaluru',\n",
       " 'Bangalore/Bengaluru',\n",
       " 'Bangalore/Bengaluru',\n",
       " 'Bangalore/Bengaluru',\n",
       " 'Remote',\n",
       " 'Bangalore/Bengaluru',\n",
       " 'Pune, Bangalore/Bengaluru, Delhi / NCR',\n",
       " 'Bangalore/Bengaluru',\n",
       " 'Noida, Bangalore/Bengaluru, Mumbai (All Areas)',\n",
       " 'Bangalore/Bengaluru',\n",
       " 'Hyderabad/Secunderabad, Chennai, Bangalore/Bengaluru',\n",
       " 'Bangalore/Bengaluru',\n",
       " 'Bangalore/Bengaluru(Hebbal Kempapura)\\n(WFH during Covid)',\n",
       " 'Hyderabad/Secunderabad, Bangalore/Bengaluru']"
      ]
     },
     "execution_count": 36,
     "metadata": {},
     "output_type": "execute_result"
    }
   ],
   "source": [
    "locations=[]\n",
    "for i in location1:\n",
    "    locations.append(i.text)\n",
    "locations"
   ]
  },
  {
   "cell_type": "code",
   "execution_count": 37,
   "id": "30ac0833",
   "metadata": {},
   "outputs": [
    {
     "data": {
      "text/plain": [
       "[<selenium.webdriver.remote.webelement.WebElement (session=\"8333424ec27fe78e2478daf954a64ddc\", element=\"808d1584-1fcf-43dc-b75f-8d8d332fbbf9\")>,\n",
       " <selenium.webdriver.remote.webelement.WebElement (session=\"8333424ec27fe78e2478daf954a64ddc\", element=\"fcabd3e4-0293-42f7-9991-416ff4eb50ca\")>,\n",
       " <selenium.webdriver.remote.webelement.WebElement (session=\"8333424ec27fe78e2478daf954a64ddc\", element=\"778cf01c-8c32-471b-9831-fd2641c34750\")>,\n",
       " <selenium.webdriver.remote.webelement.WebElement (session=\"8333424ec27fe78e2478daf954a64ddc\", element=\"7899458d-228d-4b21-a61c-c1df1b25c7a8\")>,\n",
       " <selenium.webdriver.remote.webelement.WebElement (session=\"8333424ec27fe78e2478daf954a64ddc\", element=\"d6f5c0ba-808c-47a0-b598-76c17625d60b\")>,\n",
       " <selenium.webdriver.remote.webelement.WebElement (session=\"8333424ec27fe78e2478daf954a64ddc\", element=\"f0f19bbb-0f59-4d60-be89-cafae6f05f89\")>,\n",
       " <selenium.webdriver.remote.webelement.WebElement (session=\"8333424ec27fe78e2478daf954a64ddc\", element=\"f595a48b-d493-4a66-9e29-51e2c25a3084\")>,\n",
       " <selenium.webdriver.remote.webelement.WebElement (session=\"8333424ec27fe78e2478daf954a64ddc\", element=\"8b08577c-0261-4827-8623-022b05d5a28e\")>,\n",
       " <selenium.webdriver.remote.webelement.WebElement (session=\"8333424ec27fe78e2478daf954a64ddc\", element=\"4781ead9-3a92-48e4-b065-08c0312cb3c0\")>,\n",
       " <selenium.webdriver.remote.webelement.WebElement (session=\"8333424ec27fe78e2478daf954a64ddc\", element=\"b9c02a13-ec4f-4670-8df9-4a088d3d58e8\")>,\n",
       " <selenium.webdriver.remote.webelement.WebElement (session=\"8333424ec27fe78e2478daf954a64ddc\", element=\"07134d3d-6d6d-4ee3-b7e2-7b1590c416b2\")>,\n",
       " <selenium.webdriver.remote.webelement.WebElement (session=\"8333424ec27fe78e2478daf954a64ddc\", element=\"6fa84e7f-ec12-4dec-8aa0-7c9ba4e25fa1\")>,\n",
       " <selenium.webdriver.remote.webelement.WebElement (session=\"8333424ec27fe78e2478daf954a64ddc\", element=\"8d780d96-7218-4886-a916-6498e438815a\")>,\n",
       " <selenium.webdriver.remote.webelement.WebElement (session=\"8333424ec27fe78e2478daf954a64ddc\", element=\"b9eb6ba8-3db7-4caa-a8c2-f5550470dc3c\")>,\n",
       " <selenium.webdriver.remote.webelement.WebElement (session=\"8333424ec27fe78e2478daf954a64ddc\", element=\"e2e20649-3ad9-47c7-8fc8-78f1de0563f7\")>,\n",
       " <selenium.webdriver.remote.webelement.WebElement (session=\"8333424ec27fe78e2478daf954a64ddc\", element=\"e7c4d0e8-9f64-47c3-afc6-fbf0116e16dd\")>,\n",
       " <selenium.webdriver.remote.webelement.WebElement (session=\"8333424ec27fe78e2478daf954a64ddc\", element=\"3183a1c0-11e6-4d0a-b602-b6b8d60fadff\")>,\n",
       " <selenium.webdriver.remote.webelement.WebElement (session=\"8333424ec27fe78e2478daf954a64ddc\", element=\"0fb145d1-6243-47e8-b35b-225ad56da3ad\")>,\n",
       " <selenium.webdriver.remote.webelement.WebElement (session=\"8333424ec27fe78e2478daf954a64ddc\", element=\"192a62b0-3325-4388-bdd5-87d94f2e7183\")>,\n",
       " <selenium.webdriver.remote.webelement.WebElement (session=\"8333424ec27fe78e2478daf954a64ddc\", element=\"be31f15c-e0e0-4d12-8fbb-728e1ac9b71d\")>]"
      ]
     },
     "execution_count": 37,
     "metadata": {},
     "output_type": "execute_result"
    }
   ],
   "source": [
    "name=driver.find_elements_by_xpath('//a[@class=\"subTitle ellipsis fleft\"]')\n",
    "name"
   ]
  },
  {
   "cell_type": "code",
   "execution_count": 38,
   "id": "d74cb9c9",
   "metadata": {},
   "outputs": [
    {
     "data": {
      "text/plain": [
       "['K12 Techno Services Pvt Ltd',\n",
       " 'Mobile Premier League',\n",
       " 'Trellance',\n",
       " 'Inspiration Manpower Consultancy Pvt. Ltd.',\n",
       " 'Flipkart',\n",
       " 'SECRET TECHNOLOGIES INDIA VMS GROUP',\n",
       " 'Intuit Inc.',\n",
       " 'Flipkart',\n",
       " 'Flipkart',\n",
       " 'Capillary Technologies',\n",
       " 'Liventus',\n",
       " 'Dell',\n",
       " 'TCS',\n",
       " 'Talent Placers',\n",
       " 'Kenko',\n",
       " 'SUGAR.FIT',\n",
       " 'NTT Data Business Solutions Pvt Ltd',\n",
       " 'Yulu Bikes',\n",
       " 'FUTURLYTIC PRIVATE LIMITED',\n",
       " 'Oracle']"
      ]
     },
     "execution_count": 38,
     "metadata": {},
     "output_type": "execute_result"
    }
   ],
   "source": [
    "names=[]\n",
    "for i in name:\n",
    "    names.append(i.text)\n",
    "names   "
   ]
  },
  {
   "cell_type": "code",
   "execution_count": 39,
   "id": "b43da716",
   "metadata": {},
   "outputs": [
    {
     "data": {
      "text/plain": [
       "[<selenium.webdriver.remote.webelement.WebElement (session=\"8333424ec27fe78e2478daf954a64ddc\", element=\"8a045173-d231-47c7-a7f6-275bfc537f7f\")>,\n",
       " <selenium.webdriver.remote.webelement.WebElement (session=\"8333424ec27fe78e2478daf954a64ddc\", element=\"c171fd91-174a-46b5-9d1d-d37a342d7cc1\")>,\n",
       " <selenium.webdriver.remote.webelement.WebElement (session=\"8333424ec27fe78e2478daf954a64ddc\", element=\"7be1fa0c-1aab-46e7-b705-97fadd1df65d\")>,\n",
       " <selenium.webdriver.remote.webelement.WebElement (session=\"8333424ec27fe78e2478daf954a64ddc\", element=\"2f355168-8239-4f3a-8864-262004da725c\")>,\n",
       " <selenium.webdriver.remote.webelement.WebElement (session=\"8333424ec27fe78e2478daf954a64ddc\", element=\"d9aa4c2c-5aad-46c4-a5eb-0151e03c2240\")>,\n",
       " <selenium.webdriver.remote.webelement.WebElement (session=\"8333424ec27fe78e2478daf954a64ddc\", element=\"d0bae78a-9bfc-4154-9671-a032b87c741b\")>,\n",
       " <selenium.webdriver.remote.webelement.WebElement (session=\"8333424ec27fe78e2478daf954a64ddc\", element=\"b9ec8b39-4ac7-43d0-aff3-177d5dec46fe\")>,\n",
       " <selenium.webdriver.remote.webelement.WebElement (session=\"8333424ec27fe78e2478daf954a64ddc\", element=\"553d0dd2-6bc6-46e3-aa0d-8ac5895eb356\")>,\n",
       " <selenium.webdriver.remote.webelement.WebElement (session=\"8333424ec27fe78e2478daf954a64ddc\", element=\"34deb5d9-b30a-4162-bf8e-d4f78fbf1f4e\")>,\n",
       " <selenium.webdriver.remote.webelement.WebElement (session=\"8333424ec27fe78e2478daf954a64ddc\", element=\"4f929e5c-c414-4617-a687-61b939343e1a\")>]"
      ]
     },
     "execution_count": 39,
     "metadata": {},
     "output_type": "execute_result"
    }
   ],
   "source": [
    "exp=driver.find_elements_by_xpath('//li[@class=\"fleft grey-text br2 placeHolderLi experience\"]')\n",
    "exp[0:10]"
   ]
  },
  {
   "cell_type": "code",
   "execution_count": 40,
   "id": "66f32e05",
   "metadata": {},
   "outputs": [
    {
     "data": {
      "text/plain": [
       "['4-9 Yrs',\n",
       " '3-6 Yrs',\n",
       " '0-2 Yrs',\n",
       " '2-4 Yrs',\n",
       " '0-4 Yrs',\n",
       " '5-7 Yrs',\n",
       " '3-6 Yrs',\n",
       " '3-7 Yrs',\n",
       " '1-3 Yrs',\n",
       " '5-8 Yrs',\n",
       " '1-6 Yrs',\n",
       " '3-8 Yrs',\n",
       " '2-7 Yrs',\n",
       " '2-7 Yrs',\n",
       " '2-5 Yrs',\n",
       " '2-7 Yrs',\n",
       " '1-4 Yrs',\n",
       " '0-1 Yrs',\n",
       " '2-7 Yrs']"
      ]
     },
     "execution_count": 40,
     "metadata": {},
     "output_type": "execute_result"
    }
   ],
   "source": [
    "exps=[]\n",
    "for i in exp:\n",
    "    exps.append(i.text)\n",
    "exps  "
   ]
  },
  {
   "cell_type": "code",
   "execution_count": 42,
   "id": "a3cd610a",
   "metadata": {},
   "outputs": [],
   "source": [
    "exps.insert(3,0)"
   ]
  },
  {
   "cell_type": "code",
   "execution_count": 43,
   "id": "396912d6",
   "metadata": {},
   "outputs": [
    {
     "data": {
      "text/plain": [
       "(20, 20, 20, 20)"
      ]
     },
     "execution_count": 43,
     "metadata": {},
     "output_type": "execute_result"
    }
   ],
   "source": [
    "len(titles),len(exps),len(locations),len(names)"
   ]
  },
  {
   "cell_type": "code",
   "execution_count": 44,
   "id": "f12cd9eb",
   "metadata": {},
   "outputs": [
    {
     "data": {
      "text/html": [
       "<div>\n",
       "<style scoped>\n",
       "    .dataframe tbody tr th:only-of-type {\n",
       "        vertical-align: middle;\n",
       "    }\n",
       "\n",
       "    .dataframe tbody tr th {\n",
       "        vertical-align: top;\n",
       "    }\n",
       "\n",
       "    .dataframe thead th {\n",
       "        text-align: right;\n",
       "    }\n",
       "</style>\n",
       "<table border=\"1\" class=\"dataframe\">\n",
       "  <thead>\n",
       "    <tr style=\"text-align: right;\">\n",
       "      <th></th>\n",
       "      <th>company</th>\n",
       "      <th>designation</th>\n",
       "      <th>place</th>\n",
       "      <th>experience_required</th>\n",
       "    </tr>\n",
       "  </thead>\n",
       "  <tbody>\n",
       "    <tr>\n",
       "      <th>0</th>\n",
       "      <td>K12 Techno Services Pvt Ltd</td>\n",
       "      <td>Data Analyst - IIM/ISB/MDI/FMS/SP Jain</td>\n",
       "      <td>Bangalore/Bengaluru</td>\n",
       "      <td>4-9 Yrs</td>\n",
       "    </tr>\n",
       "    <tr>\n",
       "      <th>1</th>\n",
       "      <td>Mobile Premier League</td>\n",
       "      <td>Senior Data Analyst</td>\n",
       "      <td>Bangalore/Bengaluru</td>\n",
       "      <td>3-6 Yrs</td>\n",
       "    </tr>\n",
       "    <tr>\n",
       "      <th>2</th>\n",
       "      <td>Trellance</td>\n",
       "      <td>Looking For Data Analyst</td>\n",
       "      <td>Ahmedabad, Bangalore/Bengaluru</td>\n",
       "      <td>0-2 Yrs</td>\n",
       "    </tr>\n",
       "    <tr>\n",
       "      <th>3</th>\n",
       "      <td>Inspiration Manpower Consultancy Pvt. Ltd.</td>\n",
       "      <td>Data Analyst || Advance Excel || D Limit || Co...</td>\n",
       "      <td>Bangalore/Bengaluru</td>\n",
       "      <td>0</td>\n",
       "    </tr>\n",
       "    <tr>\n",
       "      <th>4</th>\n",
       "      <td>Flipkart</td>\n",
       "      <td>Data Analyst (Python, SQL, Excel)</td>\n",
       "      <td>Bangalore/Bengaluru</td>\n",
       "      <td>2-4 Yrs</td>\n",
       "    </tr>\n",
       "    <tr>\n",
       "      <th>5</th>\n",
       "      <td>SECRET TECHNOLOGIES INDIA VMS GROUP</td>\n",
       "      <td>software developer &amp; Testing / Business Analys...</td>\n",
       "      <td>Pune, Bangalore/Bengaluru(Shivaji Nagar), Mumb...</td>\n",
       "      <td>0-4 Yrs</td>\n",
       "    </tr>\n",
       "    <tr>\n",
       "      <th>6</th>\n",
       "      <td>Intuit Inc.</td>\n",
       "      <td>Staff Business Data Analyst - FDP</td>\n",
       "      <td>Bangalore/Bengaluru</td>\n",
       "      <td>5-7 Yrs</td>\n",
       "    </tr>\n",
       "    <tr>\n",
       "      <th>7</th>\n",
       "      <td>Flipkart</td>\n",
       "      <td>Senior Data Analyst</td>\n",
       "      <td>Bangalore/Bengaluru</td>\n",
       "      <td>3-6 Yrs</td>\n",
       "    </tr>\n",
       "    <tr>\n",
       "      <th>8</th>\n",
       "      <td>Flipkart</td>\n",
       "      <td>Senior Data Analyst</td>\n",
       "      <td>Bangalore/Bengaluru</td>\n",
       "      <td>3-7 Yrs</td>\n",
       "    </tr>\n",
       "    <tr>\n",
       "      <th>9</th>\n",
       "      <td>Capillary Technologies</td>\n",
       "      <td>Data Analyst</td>\n",
       "      <td>Bangalore/Bengaluru</td>\n",
       "      <td>1-3 Yrs</td>\n",
       "    </tr>\n",
       "    <tr>\n",
       "      <th>10</th>\n",
       "      <td>Liventus</td>\n",
       "      <td>Senior Data Analyst</td>\n",
       "      <td>Remote</td>\n",
       "      <td>5-8 Yrs</td>\n",
       "    </tr>\n",
       "    <tr>\n",
       "      <th>11</th>\n",
       "      <td>Dell</td>\n",
       "      <td>Senior Data Analyst (Digital Services Analytics)</td>\n",
       "      <td>Bangalore/Bengaluru</td>\n",
       "      <td>1-6 Yrs</td>\n",
       "    </tr>\n",
       "    <tr>\n",
       "      <th>12</th>\n",
       "      <td>TCS</td>\n",
       "      <td>Tcs Hiring For Data Analyst / Data Engineer</td>\n",
       "      <td>Pune, Bangalore/Bengaluru, Delhi / NCR</td>\n",
       "      <td>3-8 Yrs</td>\n",
       "    </tr>\n",
       "    <tr>\n",
       "      <th>13</th>\n",
       "      <td>Talent Placers</td>\n",
       "      <td>Data Analyst / Data Source Engineer - SOQL/SOSL</td>\n",
       "      <td>Bangalore/Bengaluru</td>\n",
       "      <td>2-7 Yrs</td>\n",
       "    </tr>\n",
       "    <tr>\n",
       "      <th>14</th>\n",
       "      <td>Kenko</td>\n",
       "      <td>Data Analyst</td>\n",
       "      <td>Noida, Bangalore/Bengaluru, Mumbai (All Areas)</td>\n",
       "      <td>2-7 Yrs</td>\n",
       "    </tr>\n",
       "    <tr>\n",
       "      <th>15</th>\n",
       "      <td>SUGAR.FIT</td>\n",
       "      <td>Data Analyst</td>\n",
       "      <td>Bangalore/Bengaluru</td>\n",
       "      <td>2-5 Yrs</td>\n",
       "    </tr>\n",
       "    <tr>\n",
       "      <th>16</th>\n",
       "      <td>NTT Data Business Solutions Pvt Ltd</td>\n",
       "      <td>Hiring For a Data Analyst with Permanent Oppor...</td>\n",
       "      <td>Hyderabad/Secunderabad, Chennai, Bangalore/Ben...</td>\n",
       "      <td>2-7 Yrs</td>\n",
       "    </tr>\n",
       "    <tr>\n",
       "      <th>17</th>\n",
       "      <td>Yulu Bikes</td>\n",
       "      <td>Data Analyst</td>\n",
       "      <td>Bangalore/Bengaluru</td>\n",
       "      <td>1-4 Yrs</td>\n",
       "    </tr>\n",
       "    <tr>\n",
       "      <th>18</th>\n",
       "      <td>FUTURLYTIC PRIVATE LIMITED</td>\n",
       "      <td>Data Analyst For Text / Sentiment Analysis</td>\n",
       "      <td>Bangalore/Bengaluru(Hebbal Kempapura)\\n(WFH du...</td>\n",
       "      <td>0-1 Yrs</td>\n",
       "    </tr>\n",
       "    <tr>\n",
       "      <th>19</th>\n",
       "      <td>Oracle</td>\n",
       "      <td>Data Analyst / BI Analytics Consultant - Night...</td>\n",
       "      <td>Hyderabad/Secunderabad, Bangalore/Bengaluru</td>\n",
       "      <td>2-7 Yrs</td>\n",
       "    </tr>\n",
       "  </tbody>\n",
       "</table>\n",
       "</div>"
      ],
      "text/plain": [
       "                                       company  \\\n",
       "0                  K12 Techno Services Pvt Ltd   \n",
       "1                        Mobile Premier League   \n",
       "2                                    Trellance   \n",
       "3   Inspiration Manpower Consultancy Pvt. Ltd.   \n",
       "4                                     Flipkart   \n",
       "5          SECRET TECHNOLOGIES INDIA VMS GROUP   \n",
       "6                                  Intuit Inc.   \n",
       "7                                     Flipkart   \n",
       "8                                     Flipkart   \n",
       "9                       Capillary Technologies   \n",
       "10                                    Liventus   \n",
       "11                                        Dell   \n",
       "12                                         TCS   \n",
       "13                              Talent Placers   \n",
       "14                                       Kenko   \n",
       "15                                   SUGAR.FIT   \n",
       "16         NTT Data Business Solutions Pvt Ltd   \n",
       "17                                  Yulu Bikes   \n",
       "18                  FUTURLYTIC PRIVATE LIMITED   \n",
       "19                                      Oracle   \n",
       "\n",
       "                                          designation  \\\n",
       "0              Data Analyst - IIM/ISB/MDI/FMS/SP Jain   \n",
       "1                                 Senior Data Analyst   \n",
       "2                            Looking For Data Analyst   \n",
       "3   Data Analyst || Advance Excel || D Limit || Co...   \n",
       "4                   Data Analyst (Python, SQL, Excel)   \n",
       "5   software developer & Testing / Business Analys...   \n",
       "6                   Staff Business Data Analyst - FDP   \n",
       "7                                 Senior Data Analyst   \n",
       "8                                 Senior Data Analyst   \n",
       "9                                        Data Analyst   \n",
       "10                                Senior Data Analyst   \n",
       "11   Senior Data Analyst (Digital Services Analytics)   \n",
       "12        Tcs Hiring For Data Analyst / Data Engineer   \n",
       "13    Data Analyst / Data Source Engineer - SOQL/SOSL   \n",
       "14                                       Data Analyst   \n",
       "15                                       Data Analyst   \n",
       "16  Hiring For a Data Analyst with Permanent Oppor...   \n",
       "17                                       Data Analyst   \n",
       "18         Data Analyst For Text / Sentiment Analysis   \n",
       "19  Data Analyst / BI Analytics Consultant - Night...   \n",
       "\n",
       "                                                place experience_required  \n",
       "0                                 Bangalore/Bengaluru             4-9 Yrs  \n",
       "1                                 Bangalore/Bengaluru             3-6 Yrs  \n",
       "2                      Ahmedabad, Bangalore/Bengaluru             0-2 Yrs  \n",
       "3                                 Bangalore/Bengaluru                   0  \n",
       "4                                 Bangalore/Bengaluru             2-4 Yrs  \n",
       "5   Pune, Bangalore/Bengaluru(Shivaji Nagar), Mumb...             0-4 Yrs  \n",
       "6                                 Bangalore/Bengaluru             5-7 Yrs  \n",
       "7                                 Bangalore/Bengaluru             3-6 Yrs  \n",
       "8                                 Bangalore/Bengaluru             3-7 Yrs  \n",
       "9                                 Bangalore/Bengaluru             1-3 Yrs  \n",
       "10                                             Remote             5-8 Yrs  \n",
       "11                                Bangalore/Bengaluru             1-6 Yrs  \n",
       "12             Pune, Bangalore/Bengaluru, Delhi / NCR             3-8 Yrs  \n",
       "13                                Bangalore/Bengaluru             2-7 Yrs  \n",
       "14     Noida, Bangalore/Bengaluru, Mumbai (All Areas)             2-7 Yrs  \n",
       "15                                Bangalore/Bengaluru             2-5 Yrs  \n",
       "16  Hyderabad/Secunderabad, Chennai, Bangalore/Ben...             2-7 Yrs  \n",
       "17                                Bangalore/Bengaluru             1-4 Yrs  \n",
       "18  Bangalore/Bengaluru(Hebbal Kempapura)\\n(WFH du...             0-1 Yrs  \n",
       "19        Hyderabad/Secunderabad, Bangalore/Bengaluru             2-7 Yrs  "
      ]
     },
     "execution_count": 44,
     "metadata": {},
     "output_type": "execute_result"
    }
   ],
   "source": [
    "jobs=pd.DataFrame()\n",
    "jobs['company']=names\n",
    "jobs['designation']=titles\n",
    "jobs['place']=locations\n",
    "jobs['experience_required']=exps\n",
    "jobs"
   ]
  },
  {
   "cell_type": "code",
   "execution_count": 45,
   "id": "02ad62e9",
   "metadata": {},
   "outputs": [
    {
     "data": {
      "text/html": [
       "<div>\n",
       "<style scoped>\n",
       "    .dataframe tbody tr th:only-of-type {\n",
       "        vertical-align: middle;\n",
       "    }\n",
       "\n",
       "    .dataframe tbody tr th {\n",
       "        vertical-align: top;\n",
       "    }\n",
       "\n",
       "    .dataframe thead th {\n",
       "        text-align: right;\n",
       "    }\n",
       "</style>\n",
       "<table border=\"1\" class=\"dataframe\">\n",
       "  <thead>\n",
       "    <tr style=\"text-align: right;\">\n",
       "      <th></th>\n",
       "      <th>company</th>\n",
       "      <th>designation</th>\n",
       "      <th>place</th>\n",
       "      <th>experience_required</th>\n",
       "    </tr>\n",
       "  </thead>\n",
       "  <tbody>\n",
       "    <tr>\n",
       "      <th>0</th>\n",
       "      <td>K12 Techno Services Pvt Ltd</td>\n",
       "      <td>Data Analyst - IIM/ISB/MDI/FMS/SP Jain</td>\n",
       "      <td>Bangalore/Bengaluru</td>\n",
       "      <td>4-9 Yrs</td>\n",
       "    </tr>\n",
       "    <tr>\n",
       "      <th>1</th>\n",
       "      <td>Mobile Premier League</td>\n",
       "      <td>Senior Data Analyst</td>\n",
       "      <td>Bangalore/Bengaluru</td>\n",
       "      <td>3-6 Yrs</td>\n",
       "    </tr>\n",
       "    <tr>\n",
       "      <th>2</th>\n",
       "      <td>Trellance</td>\n",
       "      <td>Looking For Data Analyst</td>\n",
       "      <td>Ahmedabad, Bangalore/Bengaluru</td>\n",
       "      <td>0-2 Yrs</td>\n",
       "    </tr>\n",
       "    <tr>\n",
       "      <th>3</th>\n",
       "      <td>Inspiration Manpower Consultancy Pvt. Ltd.</td>\n",
       "      <td>Data Analyst || Advance Excel || D Limit || Co...</td>\n",
       "      <td>Bangalore/Bengaluru</td>\n",
       "      <td>0</td>\n",
       "    </tr>\n",
       "    <tr>\n",
       "      <th>4</th>\n",
       "      <td>Flipkart</td>\n",
       "      <td>Data Analyst (Python, SQL, Excel)</td>\n",
       "      <td>Bangalore/Bengaluru</td>\n",
       "      <td>2-4 Yrs</td>\n",
       "    </tr>\n",
       "    <tr>\n",
       "      <th>5</th>\n",
       "      <td>SECRET TECHNOLOGIES INDIA VMS GROUP</td>\n",
       "      <td>software developer &amp; Testing / Business Analys...</td>\n",
       "      <td>Pune, Bangalore/Bengaluru(Shivaji Nagar), Mumb...</td>\n",
       "      <td>0-4 Yrs</td>\n",
       "    </tr>\n",
       "    <tr>\n",
       "      <th>6</th>\n",
       "      <td>Intuit Inc.</td>\n",
       "      <td>Staff Business Data Analyst - FDP</td>\n",
       "      <td>Bangalore/Bengaluru</td>\n",
       "      <td>5-7 Yrs</td>\n",
       "    </tr>\n",
       "    <tr>\n",
       "      <th>7</th>\n",
       "      <td>Flipkart</td>\n",
       "      <td>Senior Data Analyst</td>\n",
       "      <td>Bangalore/Bengaluru</td>\n",
       "      <td>3-6 Yrs</td>\n",
       "    </tr>\n",
       "    <tr>\n",
       "      <th>8</th>\n",
       "      <td>Flipkart</td>\n",
       "      <td>Senior Data Analyst</td>\n",
       "      <td>Bangalore/Bengaluru</td>\n",
       "      <td>3-7 Yrs</td>\n",
       "    </tr>\n",
       "    <tr>\n",
       "      <th>9</th>\n",
       "      <td>Capillary Technologies</td>\n",
       "      <td>Data Analyst</td>\n",
       "      <td>Bangalore/Bengaluru</td>\n",
       "      <td>1-3 Yrs</td>\n",
       "    </tr>\n",
       "  </tbody>\n",
       "</table>\n",
       "</div>"
      ],
      "text/plain": [
       "                                      company  \\\n",
       "0                 K12 Techno Services Pvt Ltd   \n",
       "1                       Mobile Premier League   \n",
       "2                                   Trellance   \n",
       "3  Inspiration Manpower Consultancy Pvt. Ltd.   \n",
       "4                                    Flipkart   \n",
       "5         SECRET TECHNOLOGIES INDIA VMS GROUP   \n",
       "6                                 Intuit Inc.   \n",
       "7                                    Flipkart   \n",
       "8                                    Flipkart   \n",
       "9                      Capillary Technologies   \n",
       "\n",
       "                                         designation  \\\n",
       "0             Data Analyst - IIM/ISB/MDI/FMS/SP Jain   \n",
       "1                                Senior Data Analyst   \n",
       "2                           Looking For Data Analyst   \n",
       "3  Data Analyst || Advance Excel || D Limit || Co...   \n",
       "4                  Data Analyst (Python, SQL, Excel)   \n",
       "5  software developer & Testing / Business Analys...   \n",
       "6                  Staff Business Data Analyst - FDP   \n",
       "7                                Senior Data Analyst   \n",
       "8                                Senior Data Analyst   \n",
       "9                                       Data Analyst   \n",
       "\n",
       "                                               place experience_required  \n",
       "0                                Bangalore/Bengaluru             4-9 Yrs  \n",
       "1                                Bangalore/Bengaluru             3-6 Yrs  \n",
       "2                     Ahmedabad, Bangalore/Bengaluru             0-2 Yrs  \n",
       "3                                Bangalore/Bengaluru                   0  \n",
       "4                                Bangalore/Bengaluru             2-4 Yrs  \n",
       "5  Pune, Bangalore/Bengaluru(Shivaji Nagar), Mumb...             0-4 Yrs  \n",
       "6                                Bangalore/Bengaluru             5-7 Yrs  \n",
       "7                                Bangalore/Bengaluru             3-6 Yrs  \n",
       "8                                Bangalore/Bengaluru             3-7 Yrs  \n",
       "9                                Bangalore/Bengaluru             1-3 Yrs  "
      ]
     },
     "execution_count": 45,
     "metadata": {},
     "output_type": "execute_result"
    }
   ],
   "source": [
    "jobs.iloc[0:10,:]"
   ]
  },
  {
   "cell_type": "markdown",
   "id": "fd5b8111",
   "metadata": {},
   "source": [
    "ans2)"
   ]
  },
  {
   "cell_type": "code",
   "execution_count": 2,
   "id": "1527f451",
   "metadata": {},
   "outputs": [],
   "source": [
    "driver2=webdriver.Chrome('chromedriver.exe')"
   ]
  },
  {
   "cell_type": "code",
   "execution_count": 4,
   "id": "54aa053c",
   "metadata": {},
   "outputs": [],
   "source": [
    "url2='https://www.naukri.com/'\n",
    "driver2.get(url2)"
   ]
  },
  {
   "cell_type": "code",
   "execution_count": 5,
   "id": "44ee2a58",
   "metadata": {},
   "outputs": [
    {
     "data": {
      "text/plain": [
       "<selenium.webdriver.remote.webelement.WebElement (session=\"6c40cecc7e15d431570a16bfff0b1443\", element=\"3e6f8d44-9347-4996-82cb-e172c1a4313a\")>"
      ]
     },
     "execution_count": 5,
     "metadata": {},
     "output_type": "execute_result"
    }
   ],
   "source": [
    "job2=driver2.find_element_by_class_name('suggestor-input')\n",
    "job2"
   ]
  },
  {
   "cell_type": "code",
   "execution_count": 6,
   "id": "f98d95fa",
   "metadata": {},
   "outputs": [],
   "source": [
    "job2.send_keys('Data Scientist')"
   ]
  },
  {
   "cell_type": "code",
   "execution_count": 7,
   "id": "92cff116",
   "metadata": {},
   "outputs": [
    {
     "data": {
      "text/plain": [
       "<selenium.webdriver.remote.webelement.WebElement (session=\"6c40cecc7e15d431570a16bfff0b1443\", element=\"2a9f4a80-8893-454b-995d-5125df4065ff\")>"
      ]
     },
     "execution_count": 7,
     "metadata": {},
     "output_type": "execute_result"
    }
   ],
   "source": [
    "location2=driver2.find_element_by_xpath('/html/body/div/div[2]/div[3]/div/div/div[3]/div/div/div/input')\n",
    "location2"
   ]
  },
  {
   "cell_type": "code",
   "execution_count": 8,
   "id": "791e083e",
   "metadata": {},
   "outputs": [],
   "source": [
    "location2.send_keys('Bangalore')"
   ]
  },
  {
   "cell_type": "code",
   "execution_count": 9,
   "id": "278b1e11",
   "metadata": {},
   "outputs": [
    {
     "data": {
      "text/plain": [
       "<selenium.webdriver.remote.webelement.WebElement (session=\"6c40cecc7e15d431570a16bfff0b1443\", element=\"83658d7c-dbe5-4fc2-a53e-bfa9e65f68ff\")>"
      ]
     },
     "execution_count": 9,
     "metadata": {},
     "output_type": "execute_result"
    }
   ],
   "source": [
    "searchbt2=driver2.find_element_by_xpath('/html/body/div/div[2]/div[3]/div/div/div[6]')\n",
    "searchbt2"
   ]
  },
  {
   "cell_type": "code",
   "execution_count": 10,
   "id": "aaed24e2",
   "metadata": {},
   "outputs": [],
   "source": [
    "searchbt2.click()"
   ]
  },
  {
   "cell_type": "code",
   "execution_count": 11,
   "id": "81cd2d7e",
   "metadata": {},
   "outputs": [
    {
     "data": {
      "text/plain": [
       "[<selenium.webdriver.remote.webelement.WebElement (session=\"6c40cecc7e15d431570a16bfff0b1443\", element=\"6bf07f9e-a88e-4d56-b403-81818bbce2cf\")>,\n",
       " <selenium.webdriver.remote.webelement.WebElement (session=\"6c40cecc7e15d431570a16bfff0b1443\", element=\"03ed5197-dbee-4613-9932-895e08786cab\")>,\n",
       " <selenium.webdriver.remote.webelement.WebElement (session=\"6c40cecc7e15d431570a16bfff0b1443\", element=\"432fb423-bc43-4ba2-aa82-d4d55f92911e\")>,\n",
       " <selenium.webdriver.remote.webelement.WebElement (session=\"6c40cecc7e15d431570a16bfff0b1443\", element=\"7c83988e-4d38-4ce3-97d5-521cd9583c37\")>,\n",
       " <selenium.webdriver.remote.webelement.WebElement (session=\"6c40cecc7e15d431570a16bfff0b1443\", element=\"e76eabb4-f08d-43e1-84b1-7b9bfd2e7a6e\")>,\n",
       " <selenium.webdriver.remote.webelement.WebElement (session=\"6c40cecc7e15d431570a16bfff0b1443\", element=\"caf02b84-7c7e-432b-83d2-6d4bbdc9ba23\")>,\n",
       " <selenium.webdriver.remote.webelement.WebElement (session=\"6c40cecc7e15d431570a16bfff0b1443\", element=\"7ec93b87-16b3-4920-942f-c42c4934bc34\")>,\n",
       " <selenium.webdriver.remote.webelement.WebElement (session=\"6c40cecc7e15d431570a16bfff0b1443\", element=\"794d58fa-8aa0-49d0-88fe-4ca09eaa71f0\")>,\n",
       " <selenium.webdriver.remote.webelement.WebElement (session=\"6c40cecc7e15d431570a16bfff0b1443\", element=\"70c5ca80-8b93-40f3-903a-33cef73c7ddf\")>,\n",
       " <selenium.webdriver.remote.webelement.WebElement (session=\"6c40cecc7e15d431570a16bfff0b1443\", element=\"e84497a1-01cb-4d62-8e77-051e72ae01e8\")>]"
      ]
     },
     "execution_count": 11,
     "metadata": {},
     "output_type": "execute_result"
    }
   ],
   "source": [
    "title2=driver2.find_elements_by_xpath('//a[@class=\"title fw500 ellipsis\"]')\n",
    "title2[0:10]"
   ]
  },
  {
   "cell_type": "code",
   "execution_count": 12,
   "id": "96d75800",
   "metadata": {},
   "outputs": [
    {
     "data": {
      "text/plain": [
       "['Data Scientist / Analyst',\n",
       " 'Senior Data Scientist',\n",
       " 'Data Scientist II- Merchandise & Discovery',\n",
       " 'Forecasting Analyst/ Data Scientist (US Client)',\n",
       " 'Consultant - Junior Data Scientist',\n",
       " 'Data Scientist',\n",
       " 'Data Scientist',\n",
       " 'Principal Data Scientist',\n",
       " 'Excellent Opportunity For Freshers For AI/ML, Data Scientist, BI, QA',\n",
       " 'Junior Data Scientist',\n",
       " 'Data Scientist',\n",
       " 'Data Scientist',\n",
       " 'Data Scientist: Artificial Intelligence',\n",
       " 'Data Scientist - SQL/Python/Machine Learning Algorithms',\n",
       " 'Senior Data Scientist',\n",
       " 'Senior Data Scientist',\n",
       " 'Sr. Data Scientist, Digital Services Analytics',\n",
       " 'HCL Tech Opening - Senior Data Scientist',\n",
       " 'Cognitive/AI Senior Data Scientist',\n",
       " 'Sr. Product Data Scientist']"
      ]
     },
     "execution_count": 12,
     "metadata": {},
     "output_type": "execute_result"
    }
   ],
   "source": [
    "titles2=[]\n",
    "for i in title2:\n",
    "    titles2.append(i.text)\n",
    "titles2"
   ]
  },
  {
   "cell_type": "code",
   "execution_count": 14,
   "id": "76d27c45",
   "metadata": {},
   "outputs": [
    {
     "data": {
      "text/plain": [
       "[<selenium.webdriver.remote.webelement.WebElement (session=\"6c40cecc7e15d431570a16bfff0b1443\", element=\"016c9e3a-9f32-444f-9d9e-57dc9d278af9\")>,\n",
       " <selenium.webdriver.remote.webelement.WebElement (session=\"6c40cecc7e15d431570a16bfff0b1443\", element=\"96117572-fd62-47d9-8391-1d460b503639\")>,\n",
       " <selenium.webdriver.remote.webelement.WebElement (session=\"6c40cecc7e15d431570a16bfff0b1443\", element=\"82d32dcb-2725-4007-ab02-8905e85da7e3\")>,\n",
       " <selenium.webdriver.remote.webelement.WebElement (session=\"6c40cecc7e15d431570a16bfff0b1443\", element=\"bf469b46-c85d-48f1-a7e3-c23adfa7d995\")>,\n",
       " <selenium.webdriver.remote.webelement.WebElement (session=\"6c40cecc7e15d431570a16bfff0b1443\", element=\"60c14465-e300-4e5e-85ea-b58adb014e68\")>,\n",
       " <selenium.webdriver.remote.webelement.WebElement (session=\"6c40cecc7e15d431570a16bfff0b1443\", element=\"ddb15ffa-3bca-4b3d-a656-5953089561a9\")>,\n",
       " <selenium.webdriver.remote.webelement.WebElement (session=\"6c40cecc7e15d431570a16bfff0b1443\", element=\"3daa2cff-ad45-40c1-9c50-50890c32db89\")>,\n",
       " <selenium.webdriver.remote.webelement.WebElement (session=\"6c40cecc7e15d431570a16bfff0b1443\", element=\"2da40cc4-51a6-4769-b5a8-6a837a23a2d9\")>,\n",
       " <selenium.webdriver.remote.webelement.WebElement (session=\"6c40cecc7e15d431570a16bfff0b1443\", element=\"1cd18b1e-083f-4273-9d03-2ec4cf485df7\")>,\n",
       " <selenium.webdriver.remote.webelement.WebElement (session=\"6c40cecc7e15d431570a16bfff0b1443\", element=\"791fc226-b3e5-48f9-9686-31641947d970\")>]"
      ]
     },
     "execution_count": 14,
     "metadata": {},
     "output_type": "execute_result"
    }
   ],
   "source": [
    "location12=driver2.find_elements_by_xpath('//li[@class=\"fleft grey-text br2 placeHolderLi location\"]')\n",
    "location12[0:10]"
   ]
  },
  {
   "cell_type": "code",
   "execution_count": 15,
   "id": "a5149836",
   "metadata": {},
   "outputs": [
    {
     "data": {
      "text/plain": [
       "['Bangalore/Bengaluru',\n",
       " 'Bangalore/Bengaluru',\n",
       " 'Bangalore/Bengaluru',\n",
       " 'Gurgaon/Gurugram, Bangalore/Bengaluru\\n(WFH during Covid)',\n",
       " 'Navi Mumbai, New Delhi, Bangalore/Bengaluru',\n",
       " 'Chennai, Bangalore/Bengaluru\\n(WFH during Covid)',\n",
       " 'Bangalore/Bengaluru',\n",
       " 'Chennai, Bangalore/Bengaluru\\n(WFH during Covid)',\n",
       " 'Noida, Kolkata, Hyderabad/Secunderabad, Pune, Chennai, Bangalore/Bengaluru, Delhi / NCR, Mumbai (All Areas)\\n(WFH during Covid)',\n",
       " 'Bangalore/Bengaluru',\n",
       " 'Hyderabad/Secunderabad, Pune, Bangalore/Bengaluru',\n",
       " 'Bangalore/Bengaluru',\n",
       " 'Bangalore/Bengaluru',\n",
       " 'Bangalore/Bengaluru',\n",
       " 'Bangalore/Bengaluru',\n",
       " 'Noida, Pune, Bangalore/Bengaluru',\n",
       " 'Bangalore/Bengaluru',\n",
       " 'Noida, Kolkata, Hyderabad/Secunderabad, Pune, Chennai, Bangalore/Bengaluru',\n",
       " 'Bangalore/Bengaluru',\n",
       " 'Bangalore/Bengaluru']"
      ]
     },
     "execution_count": 15,
     "metadata": {},
     "output_type": "execute_result"
    }
   ],
   "source": [
    "locations2=[]\n",
    "for i in location12:\n",
    "    locations2.append(i.text)\n",
    "locations2"
   ]
  },
  {
   "cell_type": "code",
   "execution_count": 16,
   "id": "aafd28a7",
   "metadata": {},
   "outputs": [
    {
     "data": {
      "text/plain": [
       "[<selenium.webdriver.remote.webelement.WebElement (session=\"6c40cecc7e15d431570a16bfff0b1443\", element=\"36f534cf-7c4d-464b-ac10-31adb441fb17\")>,\n",
       " <selenium.webdriver.remote.webelement.WebElement (session=\"6c40cecc7e15d431570a16bfff0b1443\", element=\"b660af8c-46d1-4559-8384-5ce9c44686cc\")>,\n",
       " <selenium.webdriver.remote.webelement.WebElement (session=\"6c40cecc7e15d431570a16bfff0b1443\", element=\"f070432f-d3cd-4ebd-93d9-7c37c16398f2\")>,\n",
       " <selenium.webdriver.remote.webelement.WebElement (session=\"6c40cecc7e15d431570a16bfff0b1443\", element=\"fde42077-7e62-4afc-b995-b9453fd3df52\")>,\n",
       " <selenium.webdriver.remote.webelement.WebElement (session=\"6c40cecc7e15d431570a16bfff0b1443\", element=\"180c1eb4-3061-4700-969a-c5501768b9c9\")>,\n",
       " <selenium.webdriver.remote.webelement.WebElement (session=\"6c40cecc7e15d431570a16bfff0b1443\", element=\"80433451-d6c3-4323-854d-e1b9e652666e\")>,\n",
       " <selenium.webdriver.remote.webelement.WebElement (session=\"6c40cecc7e15d431570a16bfff0b1443\", element=\"b804f84d-cb64-49aa-a63b-7a2731e78c51\")>,\n",
       " <selenium.webdriver.remote.webelement.WebElement (session=\"6c40cecc7e15d431570a16bfff0b1443\", element=\"c32daa25-1151-4924-a8b7-a3cd26ff28ca\")>,\n",
       " <selenium.webdriver.remote.webelement.WebElement (session=\"6c40cecc7e15d431570a16bfff0b1443\", element=\"c2b29b88-ddce-4f78-b2ba-e33e611fa3cc\")>,\n",
       " <selenium.webdriver.remote.webelement.WebElement (session=\"6c40cecc7e15d431570a16bfff0b1443\", element=\"cd822df3-c198-4e08-bba0-50fba9b6c544\")>,\n",
       " <selenium.webdriver.remote.webelement.WebElement (session=\"6c40cecc7e15d431570a16bfff0b1443\", element=\"4df4b001-653c-4788-b912-91fbe48317dd\")>,\n",
       " <selenium.webdriver.remote.webelement.WebElement (session=\"6c40cecc7e15d431570a16bfff0b1443\", element=\"852777fb-a737-496a-b5dd-c94d967d7bc4\")>,\n",
       " <selenium.webdriver.remote.webelement.WebElement (session=\"6c40cecc7e15d431570a16bfff0b1443\", element=\"0b63a828-843e-4f84-83df-5e1dfb26e378\")>,\n",
       " <selenium.webdriver.remote.webelement.WebElement (session=\"6c40cecc7e15d431570a16bfff0b1443\", element=\"da63a86d-c11e-4fdb-a587-368f010f5516\")>,\n",
       " <selenium.webdriver.remote.webelement.WebElement (session=\"6c40cecc7e15d431570a16bfff0b1443\", element=\"06badcf1-263f-4faa-8e2b-1110ef7aee9d\")>,\n",
       " <selenium.webdriver.remote.webelement.WebElement (session=\"6c40cecc7e15d431570a16bfff0b1443\", element=\"2fec34e6-f547-4870-90f6-0b0a803523a0\")>,\n",
       " <selenium.webdriver.remote.webelement.WebElement (session=\"6c40cecc7e15d431570a16bfff0b1443\", element=\"40126dc8-1020-4a8a-9233-fbe510844b21\")>,\n",
       " <selenium.webdriver.remote.webelement.WebElement (session=\"6c40cecc7e15d431570a16bfff0b1443\", element=\"4499073b-536d-4761-b950-46693a681016\")>,\n",
       " <selenium.webdriver.remote.webelement.WebElement (session=\"6c40cecc7e15d431570a16bfff0b1443\", element=\"dfe1acb4-60ce-4f2b-966f-b47f1abc99f2\")>,\n",
       " <selenium.webdriver.remote.webelement.WebElement (session=\"6c40cecc7e15d431570a16bfff0b1443\", element=\"ca9d057e-53e2-4eea-b0fd-a7312c611a08\")>]"
      ]
     },
     "execution_count": 16,
     "metadata": {},
     "output_type": "execute_result"
    }
   ],
   "source": [
    "name2=driver2.find_elements_by_xpath('//a[@class=\"subTitle ellipsis fleft\"]')\n",
    "name2"
   ]
  },
  {
   "cell_type": "code",
   "execution_count": 17,
   "id": "eda99eaa",
   "metadata": {},
   "outputs": [
    {
     "data": {
      "text/plain": [
       "['open data fabric',\n",
       " 'newscorp',\n",
       " 'Swiggy',\n",
       " 'Concentrix',\n",
       " 'Flexing It',\n",
       " 'VANTAGEIQ TECHNOLOGIES (OPC) PRIVATE LIMITED',\n",
       " 'newscorp',\n",
       " 'VANTAGEIQ TECHNOLOGIES (OPC) PRIVATE LIMITED',\n",
       " 'NTT Data',\n",
       " 'Titan',\n",
       " 'Amazon',\n",
       " 'Hewlett-Packard (HP)',\n",
       " 'IBM',\n",
       " 'TalentStack',\n",
       " 'Walmart',\n",
       " 'Precisely',\n",
       " 'Dell',\n",
       " 'HCL',\n",
       " 'IBM',\n",
       " 'Uber']"
      ]
     },
     "execution_count": 17,
     "metadata": {},
     "output_type": "execute_result"
    }
   ],
   "source": [
    "names2=[]\n",
    "for i in name2:\n",
    "    names2.append(i.text)\n",
    "names2   "
   ]
  },
  {
   "cell_type": "code",
   "execution_count": 18,
   "id": "08ce5c80",
   "metadata": {},
   "outputs": [
    {
     "data": {
      "text/plain": [
       "(20, 20, 20)"
      ]
     },
     "execution_count": 18,
     "metadata": {},
     "output_type": "execute_result"
    }
   ],
   "source": [
    "len(titles2),len(locations2),len(names2)"
   ]
  },
  {
   "cell_type": "code",
   "execution_count": 20,
   "id": "37f543e4",
   "metadata": {},
   "outputs": [
    {
     "data": {
      "text/html": [
       "<div>\n",
       "<style scoped>\n",
       "    .dataframe tbody tr th:only-of-type {\n",
       "        vertical-align: middle;\n",
       "    }\n",
       "\n",
       "    .dataframe tbody tr th {\n",
       "        vertical-align: top;\n",
       "    }\n",
       "\n",
       "    .dataframe thead th {\n",
       "        text-align: right;\n",
       "    }\n",
       "</style>\n",
       "<table border=\"1\" class=\"dataframe\">\n",
       "  <thead>\n",
       "    <tr style=\"text-align: right;\">\n",
       "      <th></th>\n",
       "      <th>company</th>\n",
       "      <th>designation</th>\n",
       "      <th>place</th>\n",
       "    </tr>\n",
       "  </thead>\n",
       "  <tbody>\n",
       "    <tr>\n",
       "      <th>0</th>\n",
       "      <td>open data fabric</td>\n",
       "      <td>Data Scientist / Analyst</td>\n",
       "      <td>Bangalore/Bengaluru</td>\n",
       "    </tr>\n",
       "    <tr>\n",
       "      <th>1</th>\n",
       "      <td>newscorp</td>\n",
       "      <td>Senior Data Scientist</td>\n",
       "      <td>Bangalore/Bengaluru</td>\n",
       "    </tr>\n",
       "    <tr>\n",
       "      <th>2</th>\n",
       "      <td>Swiggy</td>\n",
       "      <td>Data Scientist II- Merchandise &amp; Discovery</td>\n",
       "      <td>Bangalore/Bengaluru</td>\n",
       "    </tr>\n",
       "    <tr>\n",
       "      <th>3</th>\n",
       "      <td>Concentrix</td>\n",
       "      <td>Forecasting Analyst/ Data Scientist (US Client)</td>\n",
       "      <td>Gurgaon/Gurugram, Bangalore/Bengaluru\\n(WFH du...</td>\n",
       "    </tr>\n",
       "    <tr>\n",
       "      <th>4</th>\n",
       "      <td>Flexing It</td>\n",
       "      <td>Consultant - Junior Data Scientist</td>\n",
       "      <td>Navi Mumbai, New Delhi, Bangalore/Bengaluru</td>\n",
       "    </tr>\n",
       "    <tr>\n",
       "      <th>5</th>\n",
       "      <td>VANTAGEIQ TECHNOLOGIES (OPC) PRIVATE LIMITED</td>\n",
       "      <td>Data Scientist</td>\n",
       "      <td>Chennai, Bangalore/Bengaluru\\n(WFH during Covid)</td>\n",
       "    </tr>\n",
       "    <tr>\n",
       "      <th>6</th>\n",
       "      <td>newscorp</td>\n",
       "      <td>Data Scientist</td>\n",
       "      <td>Bangalore/Bengaluru</td>\n",
       "    </tr>\n",
       "    <tr>\n",
       "      <th>7</th>\n",
       "      <td>VANTAGEIQ TECHNOLOGIES (OPC) PRIVATE LIMITED</td>\n",
       "      <td>Principal Data Scientist</td>\n",
       "      <td>Chennai, Bangalore/Bengaluru\\n(WFH during Covid)</td>\n",
       "    </tr>\n",
       "    <tr>\n",
       "      <th>8</th>\n",
       "      <td>NTT Data</td>\n",
       "      <td>Excellent Opportunity For Freshers For AI/ML, ...</td>\n",
       "      <td>Noida, Kolkata, Hyderabad/Secunderabad, Pune, ...</td>\n",
       "    </tr>\n",
       "    <tr>\n",
       "      <th>9</th>\n",
       "      <td>Titan</td>\n",
       "      <td>Junior Data Scientist</td>\n",
       "      <td>Bangalore/Bengaluru</td>\n",
       "    </tr>\n",
       "    <tr>\n",
       "      <th>10</th>\n",
       "      <td>Amazon</td>\n",
       "      <td>Data Scientist</td>\n",
       "      <td>Hyderabad/Secunderabad, Pune, Bangalore/Bengaluru</td>\n",
       "    </tr>\n",
       "    <tr>\n",
       "      <th>11</th>\n",
       "      <td>Hewlett-Packard (HP)</td>\n",
       "      <td>Data Scientist</td>\n",
       "      <td>Bangalore/Bengaluru</td>\n",
       "    </tr>\n",
       "    <tr>\n",
       "      <th>12</th>\n",
       "      <td>IBM</td>\n",
       "      <td>Data Scientist: Artificial Intelligence</td>\n",
       "      <td>Bangalore/Bengaluru</td>\n",
       "    </tr>\n",
       "    <tr>\n",
       "      <th>13</th>\n",
       "      <td>TalentStack</td>\n",
       "      <td>Data Scientist - SQL/Python/Machine Learning A...</td>\n",
       "      <td>Bangalore/Bengaluru</td>\n",
       "    </tr>\n",
       "    <tr>\n",
       "      <th>14</th>\n",
       "      <td>Walmart</td>\n",
       "      <td>Senior Data Scientist</td>\n",
       "      <td>Bangalore/Bengaluru</td>\n",
       "    </tr>\n",
       "    <tr>\n",
       "      <th>15</th>\n",
       "      <td>Precisely</td>\n",
       "      <td>Senior Data Scientist</td>\n",
       "      <td>Noida, Pune, Bangalore/Bengaluru</td>\n",
       "    </tr>\n",
       "    <tr>\n",
       "      <th>16</th>\n",
       "      <td>Dell</td>\n",
       "      <td>Sr. Data Scientist, Digital Services Analytics</td>\n",
       "      <td>Bangalore/Bengaluru</td>\n",
       "    </tr>\n",
       "    <tr>\n",
       "      <th>17</th>\n",
       "      <td>HCL</td>\n",
       "      <td>HCL Tech Opening - Senior Data Scientist</td>\n",
       "      <td>Noida, Kolkata, Hyderabad/Secunderabad, Pune, ...</td>\n",
       "    </tr>\n",
       "    <tr>\n",
       "      <th>18</th>\n",
       "      <td>IBM</td>\n",
       "      <td>Cognitive/AI Senior Data Scientist</td>\n",
       "      <td>Bangalore/Bengaluru</td>\n",
       "    </tr>\n",
       "    <tr>\n",
       "      <th>19</th>\n",
       "      <td>Uber</td>\n",
       "      <td>Sr. Product Data Scientist</td>\n",
       "      <td>Bangalore/Bengaluru</td>\n",
       "    </tr>\n",
       "  </tbody>\n",
       "</table>\n",
       "</div>"
      ],
      "text/plain": [
       "                                         company  \\\n",
       "0                               open data fabric   \n",
       "1                                       newscorp   \n",
       "2                                         Swiggy   \n",
       "3                                     Concentrix   \n",
       "4                                     Flexing It   \n",
       "5   VANTAGEIQ TECHNOLOGIES (OPC) PRIVATE LIMITED   \n",
       "6                                       newscorp   \n",
       "7   VANTAGEIQ TECHNOLOGIES (OPC) PRIVATE LIMITED   \n",
       "8                                       NTT Data   \n",
       "9                                          Titan   \n",
       "10                                        Amazon   \n",
       "11                          Hewlett-Packard (HP)   \n",
       "12                                           IBM   \n",
       "13                                   TalentStack   \n",
       "14                                       Walmart   \n",
       "15                                     Precisely   \n",
       "16                                          Dell   \n",
       "17                                           HCL   \n",
       "18                                           IBM   \n",
       "19                                          Uber   \n",
       "\n",
       "                                          designation  \\\n",
       "0                            Data Scientist / Analyst   \n",
       "1                               Senior Data Scientist   \n",
       "2          Data Scientist II- Merchandise & Discovery   \n",
       "3     Forecasting Analyst/ Data Scientist (US Client)   \n",
       "4                  Consultant - Junior Data Scientist   \n",
       "5                                      Data Scientist   \n",
       "6                                      Data Scientist   \n",
       "7                            Principal Data Scientist   \n",
       "8   Excellent Opportunity For Freshers For AI/ML, ...   \n",
       "9                               Junior Data Scientist   \n",
       "10                                     Data Scientist   \n",
       "11                                     Data Scientist   \n",
       "12            Data Scientist: Artificial Intelligence   \n",
       "13  Data Scientist - SQL/Python/Machine Learning A...   \n",
       "14                              Senior Data Scientist   \n",
       "15                              Senior Data Scientist   \n",
       "16     Sr. Data Scientist, Digital Services Analytics   \n",
       "17           HCL Tech Opening - Senior Data Scientist   \n",
       "18                 Cognitive/AI Senior Data Scientist   \n",
       "19                         Sr. Product Data Scientist   \n",
       "\n",
       "                                                place  \n",
       "0                                 Bangalore/Bengaluru  \n",
       "1                                 Bangalore/Bengaluru  \n",
       "2                                 Bangalore/Bengaluru  \n",
       "3   Gurgaon/Gurugram, Bangalore/Bengaluru\\n(WFH du...  \n",
       "4         Navi Mumbai, New Delhi, Bangalore/Bengaluru  \n",
       "5    Chennai, Bangalore/Bengaluru\\n(WFH during Covid)  \n",
       "6                                 Bangalore/Bengaluru  \n",
       "7    Chennai, Bangalore/Bengaluru\\n(WFH during Covid)  \n",
       "8   Noida, Kolkata, Hyderabad/Secunderabad, Pune, ...  \n",
       "9                                 Bangalore/Bengaluru  \n",
       "10  Hyderabad/Secunderabad, Pune, Bangalore/Bengaluru  \n",
       "11                                Bangalore/Bengaluru  \n",
       "12                                Bangalore/Bengaluru  \n",
       "13                                Bangalore/Bengaluru  \n",
       "14                                Bangalore/Bengaluru  \n",
       "15                   Noida, Pune, Bangalore/Bengaluru  \n",
       "16                                Bangalore/Bengaluru  \n",
       "17  Noida, Kolkata, Hyderabad/Secunderabad, Pune, ...  \n",
       "18                                Bangalore/Bengaluru  \n",
       "19                                Bangalore/Bengaluru  "
      ]
     },
     "execution_count": 20,
     "metadata": {},
     "output_type": "execute_result"
    }
   ],
   "source": [
    "jobs2=pd.DataFrame()\n",
    "jobs2['company']=names2\n",
    "jobs2['designation']=titles2\n",
    "jobs2['place']=locations2\n",
    "jobs2"
   ]
  },
  {
   "cell_type": "code",
   "execution_count": 21,
   "id": "b05dcc10",
   "metadata": {},
   "outputs": [
    {
     "data": {
      "text/html": [
       "<div>\n",
       "<style scoped>\n",
       "    .dataframe tbody tr th:only-of-type {\n",
       "        vertical-align: middle;\n",
       "    }\n",
       "\n",
       "    .dataframe tbody tr th {\n",
       "        vertical-align: top;\n",
       "    }\n",
       "\n",
       "    .dataframe thead th {\n",
       "        text-align: right;\n",
       "    }\n",
       "</style>\n",
       "<table border=\"1\" class=\"dataframe\">\n",
       "  <thead>\n",
       "    <tr style=\"text-align: right;\">\n",
       "      <th></th>\n",
       "      <th>company</th>\n",
       "      <th>designation</th>\n",
       "      <th>place</th>\n",
       "    </tr>\n",
       "  </thead>\n",
       "  <tbody>\n",
       "    <tr>\n",
       "      <th>0</th>\n",
       "      <td>open data fabric</td>\n",
       "      <td>Data Scientist / Analyst</td>\n",
       "      <td>Bangalore/Bengaluru</td>\n",
       "    </tr>\n",
       "    <tr>\n",
       "      <th>1</th>\n",
       "      <td>newscorp</td>\n",
       "      <td>Senior Data Scientist</td>\n",
       "      <td>Bangalore/Bengaluru</td>\n",
       "    </tr>\n",
       "    <tr>\n",
       "      <th>2</th>\n",
       "      <td>Swiggy</td>\n",
       "      <td>Data Scientist II- Merchandise &amp; Discovery</td>\n",
       "      <td>Bangalore/Bengaluru</td>\n",
       "    </tr>\n",
       "    <tr>\n",
       "      <th>3</th>\n",
       "      <td>Concentrix</td>\n",
       "      <td>Forecasting Analyst/ Data Scientist (US Client)</td>\n",
       "      <td>Gurgaon/Gurugram, Bangalore/Bengaluru\\n(WFH du...</td>\n",
       "    </tr>\n",
       "    <tr>\n",
       "      <th>4</th>\n",
       "      <td>Flexing It</td>\n",
       "      <td>Consultant - Junior Data Scientist</td>\n",
       "      <td>Navi Mumbai, New Delhi, Bangalore/Bengaluru</td>\n",
       "    </tr>\n",
       "    <tr>\n",
       "      <th>5</th>\n",
       "      <td>VANTAGEIQ TECHNOLOGIES (OPC) PRIVATE LIMITED</td>\n",
       "      <td>Data Scientist</td>\n",
       "      <td>Chennai, Bangalore/Bengaluru\\n(WFH during Covid)</td>\n",
       "    </tr>\n",
       "    <tr>\n",
       "      <th>6</th>\n",
       "      <td>newscorp</td>\n",
       "      <td>Data Scientist</td>\n",
       "      <td>Bangalore/Bengaluru</td>\n",
       "    </tr>\n",
       "    <tr>\n",
       "      <th>7</th>\n",
       "      <td>VANTAGEIQ TECHNOLOGIES (OPC) PRIVATE LIMITED</td>\n",
       "      <td>Principal Data Scientist</td>\n",
       "      <td>Chennai, Bangalore/Bengaluru\\n(WFH during Covid)</td>\n",
       "    </tr>\n",
       "    <tr>\n",
       "      <th>8</th>\n",
       "      <td>NTT Data</td>\n",
       "      <td>Excellent Opportunity For Freshers For AI/ML, ...</td>\n",
       "      <td>Noida, Kolkata, Hyderabad/Secunderabad, Pune, ...</td>\n",
       "    </tr>\n",
       "    <tr>\n",
       "      <th>9</th>\n",
       "      <td>Titan</td>\n",
       "      <td>Junior Data Scientist</td>\n",
       "      <td>Bangalore/Bengaluru</td>\n",
       "    </tr>\n",
       "  </tbody>\n",
       "</table>\n",
       "</div>"
      ],
      "text/plain": [
       "                                        company  \\\n",
       "0                              open data fabric   \n",
       "1                                      newscorp   \n",
       "2                                        Swiggy   \n",
       "3                                    Concentrix   \n",
       "4                                    Flexing It   \n",
       "5  VANTAGEIQ TECHNOLOGIES (OPC) PRIVATE LIMITED   \n",
       "6                                      newscorp   \n",
       "7  VANTAGEIQ TECHNOLOGIES (OPC) PRIVATE LIMITED   \n",
       "8                                      NTT Data   \n",
       "9                                         Titan   \n",
       "\n",
       "                                         designation  \\\n",
       "0                           Data Scientist / Analyst   \n",
       "1                              Senior Data Scientist   \n",
       "2         Data Scientist II- Merchandise & Discovery   \n",
       "3    Forecasting Analyst/ Data Scientist (US Client)   \n",
       "4                 Consultant - Junior Data Scientist   \n",
       "5                                     Data Scientist   \n",
       "6                                     Data Scientist   \n",
       "7                           Principal Data Scientist   \n",
       "8  Excellent Opportunity For Freshers For AI/ML, ...   \n",
       "9                              Junior Data Scientist   \n",
       "\n",
       "                                               place  \n",
       "0                                Bangalore/Bengaluru  \n",
       "1                                Bangalore/Bengaluru  \n",
       "2                                Bangalore/Bengaluru  \n",
       "3  Gurgaon/Gurugram, Bangalore/Bengaluru\\n(WFH du...  \n",
       "4        Navi Mumbai, New Delhi, Bangalore/Bengaluru  \n",
       "5   Chennai, Bangalore/Bengaluru\\n(WFH during Covid)  \n",
       "6                                Bangalore/Bengaluru  \n",
       "7   Chennai, Bangalore/Bengaluru\\n(WFH during Covid)  \n",
       "8  Noida, Kolkata, Hyderabad/Secunderabad, Pune, ...  \n",
       "9                                Bangalore/Bengaluru  "
      ]
     },
     "execution_count": 21,
     "metadata": {},
     "output_type": "execute_result"
    }
   ],
   "source": [
    "jobs2.iloc[0:10,:]"
   ]
  },
  {
   "cell_type": "markdown",
   "id": "178799a0",
   "metadata": {},
   "source": [
    "ans3)"
   ]
  },
  {
   "cell_type": "code",
   "execution_count": 22,
   "id": "f5002a2b",
   "metadata": {},
   "outputs": [],
   "source": [
    "driver3=webdriver.Chrome('chromedriver.exe')"
   ]
  },
  {
   "cell_type": "code",
   "execution_count": 24,
   "id": "5ea18c1b",
   "metadata": {},
   "outputs": [],
   "source": [
    "url3='https://www.naukri.com/'\n",
    "driver3.get(url3)"
   ]
  },
  {
   "cell_type": "code",
   "execution_count": 25,
   "id": "e9363bc3",
   "metadata": {},
   "outputs": [
    {
     "data": {
      "text/plain": [
       "<selenium.webdriver.remote.webelement.WebElement (session=\"e35aaf6f59fc1433ab041353bd7244a9\", element=\"452d113c-775d-429f-9f24-3ea16aabdae0\")>"
      ]
     },
     "execution_count": 25,
     "metadata": {},
     "output_type": "execute_result"
    }
   ],
   "source": [
    "job3=driver3.find_element_by_class_name('suggestor-input')\n",
    "job3"
   ]
  },
  {
   "cell_type": "code",
   "execution_count": 26,
   "id": "d462849d",
   "metadata": {},
   "outputs": [],
   "source": [
    "job3.send_keys('Data Scientist')"
   ]
  },
  {
   "cell_type": "code",
   "execution_count": 28,
   "id": "26f0731f",
   "metadata": {},
   "outputs": [
    {
     "data": {
      "text/plain": [
       "<selenium.webdriver.remote.webelement.WebElement (session=\"e35aaf6f59fc1433ab041353bd7244a9\", element=\"a0ff78f4-6f26-45fb-9842-dcafac7fbe3d\")>"
      ]
     },
     "execution_count": 28,
     "metadata": {},
     "output_type": "execute_result"
    }
   ],
   "source": [
    "searchbt3=driver3.find_element_by_xpath('/html/body/div/div[2]/div[3]/div/div/div[6]')\n",
    "searchbt3"
   ]
  },
  {
   "cell_type": "code",
   "execution_count": 29,
   "id": "bbd31e04",
   "metadata": {},
   "outputs": [],
   "source": [
    "searchbt3.click()"
   ]
  },
  {
   "cell_type": "code",
   "execution_count": 30,
   "id": "e34f0ba8",
   "metadata": {},
   "outputs": [
    {
     "data": {
      "text/plain": [
       "<selenium.webdriver.remote.webelement.WebElement (session=\"e35aaf6f59fc1433ab041353bd7244a9\", element=\"83c48b41-9e7c-423d-922e-642a3796599c\")>"
      ]
     },
     "execution_count": 30,
     "metadata": {},
     "output_type": "execute_result"
    }
   ],
   "source": [
    "location3=driver3.find_element_by_xpath('/html/body/div[1]/div[3]/div[2]/section[1]/div[2]/div[3]/div[2]/div[3]/label/p')\n",
    "location3"
   ]
  },
  {
   "cell_type": "code",
   "execution_count": 31,
   "id": "73cfeb0a",
   "metadata": {},
   "outputs": [],
   "source": [
    "location3.click() "
   ]
  },
  {
   "cell_type": "code",
   "execution_count": 32,
   "id": "d8b65ca4",
   "metadata": {},
   "outputs": [
    {
     "data": {
      "text/plain": [
       "<selenium.webdriver.remote.webelement.WebElement (session=\"e35aaf6f59fc1433ab041353bd7244a9\", element=\"0e336e22-0264-4f11-8e02-ac722088c00b\")>"
      ]
     },
     "execution_count": 32,
     "metadata": {},
     "output_type": "execute_result"
    }
   ],
   "source": [
    "salary3=driver3.find_element_by_xpath('/html/body/div[1]/div[3]/div[2]/section[1]/div[2]/div[4]/div[2]/div[2]/label/p')\n",
    "salary3"
   ]
  },
  {
   "cell_type": "code",
   "execution_count": 33,
   "id": "a3122032",
   "metadata": {},
   "outputs": [],
   "source": [
    "salary3.click()"
   ]
  },
  {
   "cell_type": "code",
   "execution_count": 34,
   "id": "af730d3a",
   "metadata": {},
   "outputs": [
    {
     "data": {
      "text/plain": [
       "[<selenium.webdriver.remote.webelement.WebElement (session=\"e35aaf6f59fc1433ab041353bd7244a9\", element=\"5a48cd27-a5b3-43a6-bf2a-1be1f84a271c\")>,\n",
       " <selenium.webdriver.remote.webelement.WebElement (session=\"e35aaf6f59fc1433ab041353bd7244a9\", element=\"9a27ea66-3a43-4687-b71f-06e4ddb4e07e\")>,\n",
       " <selenium.webdriver.remote.webelement.WebElement (session=\"e35aaf6f59fc1433ab041353bd7244a9\", element=\"12bb606c-5a30-42c0-ac57-32dff02d6b36\")>,\n",
       " <selenium.webdriver.remote.webelement.WebElement (session=\"e35aaf6f59fc1433ab041353bd7244a9\", element=\"d706760d-e58b-4b12-8b03-e828b2761e86\")>,\n",
       " <selenium.webdriver.remote.webelement.WebElement (session=\"e35aaf6f59fc1433ab041353bd7244a9\", element=\"f7f6278b-b980-4860-8455-4252b0e275b0\")>,\n",
       " <selenium.webdriver.remote.webelement.WebElement (session=\"e35aaf6f59fc1433ab041353bd7244a9\", element=\"04231261-cbde-4aa7-8ca2-12357e8f366a\")>,\n",
       " <selenium.webdriver.remote.webelement.WebElement (session=\"e35aaf6f59fc1433ab041353bd7244a9\", element=\"9cd5fe27-fbda-444d-bab5-d9c947838869\")>,\n",
       " <selenium.webdriver.remote.webelement.WebElement (session=\"e35aaf6f59fc1433ab041353bd7244a9\", element=\"8255c36f-0044-43ab-b2cc-d4793d9f2c67\")>,\n",
       " <selenium.webdriver.remote.webelement.WebElement (session=\"e35aaf6f59fc1433ab041353bd7244a9\", element=\"b4cd6764-668a-4c48-baf9-3796d473db51\")>,\n",
       " <selenium.webdriver.remote.webelement.WebElement (session=\"e35aaf6f59fc1433ab041353bd7244a9\", element=\"7f2abd03-ec18-4b84-9969-44052a499ea2\")>]"
      ]
     },
     "execution_count": 34,
     "metadata": {},
     "output_type": "execute_result"
    }
   ],
   "source": [
    "title3=driver3.find_elements_by_xpath('//a[@class=\"title fw500 ellipsis\"]')\n",
    "title3[0:10]"
   ]
  },
  {
   "cell_type": "code",
   "execution_count": 35,
   "id": "0224e9d8",
   "metadata": {},
   "outputs": [
    {
     "data": {
      "text/plain": [
       "['Excellent Opportunity For Freshers For AI/ML, Data Scientist, BI, QA',\n",
       " 'Junior Data Analyst/ Scientist- Fresher Position',\n",
       " 'Only Fresher / Python Data Scientist / Trainee / Analytics - MNC Jobs',\n",
       " 'Data Scientist',\n",
       " 'Data Scientist - MIND Infotech',\n",
       " 'Data Scientist - MIND Infotech',\n",
       " 'Hiring For Data Scientist',\n",
       " 'Lead Data Scientist',\n",
       " 'Urgent Requirement || Data Scientist || Noida',\n",
       " 'Data Analyst / Data Scientist / Business Analytics / Fresher - MNC',\n",
       " 'Data Scientist',\n",
       " 'Data Scientist',\n",
       " 'Senior Data Scientist',\n",
       " 'Lead Data Scientist - KYC/Fraud/Marketing',\n",
       " 'Open Project | IT Consulting | Data Scientist',\n",
       " 'Data Scientist',\n",
       " 'Data Scientist',\n",
       " 'Data Scientist',\n",
       " 'Data Scientist',\n",
       " 'Data Scientist']"
      ]
     },
     "execution_count": 35,
     "metadata": {},
     "output_type": "execute_result"
    }
   ],
   "source": [
    "titles3=[]\n",
    "for i in title3:\n",
    "    titles3.append(i.text)\n",
    "titles3"
   ]
  },
  {
   "cell_type": "code",
   "execution_count": 36,
   "id": "9ec68677",
   "metadata": {},
   "outputs": [
    {
     "data": {
      "text/plain": [
       "[<selenium.webdriver.remote.webelement.WebElement (session=\"e35aaf6f59fc1433ab041353bd7244a9\", element=\"e94bb776-db86-4c4e-9d97-7524e3038c0c\")>,\n",
       " <selenium.webdriver.remote.webelement.WebElement (session=\"e35aaf6f59fc1433ab041353bd7244a9\", element=\"91cb93ff-b4d1-42d7-8b43-8c4240a9a878\")>,\n",
       " <selenium.webdriver.remote.webelement.WebElement (session=\"e35aaf6f59fc1433ab041353bd7244a9\", element=\"2a2fa9a5-c4f1-44ff-b9c6-b6cccf749399\")>,\n",
       " <selenium.webdriver.remote.webelement.WebElement (session=\"e35aaf6f59fc1433ab041353bd7244a9\", element=\"f6edef08-e97e-49bf-96f5-3bcb5bc8803a\")>,\n",
       " <selenium.webdriver.remote.webelement.WebElement (session=\"e35aaf6f59fc1433ab041353bd7244a9\", element=\"32e62fe6-0217-48a7-ad34-bdbc5cf644ee\")>,\n",
       " <selenium.webdriver.remote.webelement.WebElement (session=\"e35aaf6f59fc1433ab041353bd7244a9\", element=\"f858c950-d1e1-428c-98da-02b11fd9bcd0\")>,\n",
       " <selenium.webdriver.remote.webelement.WebElement (session=\"e35aaf6f59fc1433ab041353bd7244a9\", element=\"0adb43f4-0411-4815-8015-e480a01e34f3\")>,\n",
       " <selenium.webdriver.remote.webelement.WebElement (session=\"e35aaf6f59fc1433ab041353bd7244a9\", element=\"f47b5dc7-2953-4a43-86a7-e6b706e1b0b5\")>,\n",
       " <selenium.webdriver.remote.webelement.WebElement (session=\"e35aaf6f59fc1433ab041353bd7244a9\", element=\"ce7fa7dc-5fa0-463d-a1e5-321f616f06db\")>,\n",
       " <selenium.webdriver.remote.webelement.WebElement (session=\"e35aaf6f59fc1433ab041353bd7244a9\", element=\"2bf8600f-23e0-407a-8fb7-d87077c5daf0\")>]"
      ]
     },
     "execution_count": 36,
     "metadata": {},
     "output_type": "execute_result"
    }
   ],
   "source": [
    "location13=driver3.find_elements_by_xpath('//li[@class=\"fleft grey-text br2 placeHolderLi location\"]')\n",
    "location13[0:10]"
   ]
  },
  {
   "cell_type": "code",
   "execution_count": 37,
   "id": "60506c76",
   "metadata": {},
   "outputs": [
    {
     "data": {
      "text/plain": [
       "['Noida, Kolkata, Hyderabad/Secunderabad, Pune, Chennai, Bangalore/Bengaluru, Delhi / NCR, Mumbai (All Areas)\\n(WFH during Covid)',\n",
       " 'Kolkata, Hyderabad/Secunderabad, Pune, Ahmedabad, Chennai, Bangalore/Bengaluru, Delhi / NCR, Mumbai (All Areas)\\n(WFH during Covid)',\n",
       " 'Noida, New Delhi, Gurgaon/Gurugram',\n",
       " 'Noida, Gurgaon/Gurugram',\n",
       " 'Noida',\n",
       " 'Noida',\n",
       " 'Noida, Pune, Mumbai (All Areas)',\n",
       " 'Delhi / NCR\\n(WFH during Covid)',\n",
       " 'Noida, Delhi / NCR',\n",
       " 'Noida, New Delhi, Delhi / NCR',\n",
       " 'New Delhi',\n",
       " 'Noida',\n",
       " 'Delhi',\n",
       " 'New Delhi',\n",
       " 'Noida, New Delhi, Bangalore Rural, Bangalore/Bengaluru, Delhi / NCR\\n(WFH during Covid)',\n",
       " 'Gurgaon, Bengaluru',\n",
       " 'Bharuch, Jaipur, Bhopal, Mumbai, Jhansi, Nagpur, Ghaziabad, Jaunpur, Kanpur, Delhi, Lucknow, Agra, Gurgaon, Rajkot, Bengaluru',\n",
       " 'Hyderabad/Secunderabad, Bangalore/Bengaluru, Delhi / NCR\\n(WFH during Covid)',\n",
       " 'Delhi',\n",
       " 'Delhi']"
      ]
     },
     "execution_count": 37,
     "metadata": {},
     "output_type": "execute_result"
    }
   ],
   "source": [
    "locations3=[]\n",
    "for i in location13:\n",
    "    locations3.append(i.text)\n",
    "locations3"
   ]
  },
  {
   "cell_type": "code",
   "execution_count": 38,
   "id": "821577ae",
   "metadata": {},
   "outputs": [
    {
     "data": {
      "text/plain": [
       "[<selenium.webdriver.remote.webelement.WebElement (session=\"e35aaf6f59fc1433ab041353bd7244a9\", element=\"f8f18c2f-1c5f-4e10-b920-ab4a8e44eb16\")>,\n",
       " <selenium.webdriver.remote.webelement.WebElement (session=\"e35aaf6f59fc1433ab041353bd7244a9\", element=\"5af0796f-ef62-4baa-83eb-3939c1cae2dd\")>,\n",
       " <selenium.webdriver.remote.webelement.WebElement (session=\"e35aaf6f59fc1433ab041353bd7244a9\", element=\"7a13eef0-37d8-4c1e-93b3-fbc738f94bef\")>,\n",
       " <selenium.webdriver.remote.webelement.WebElement (session=\"e35aaf6f59fc1433ab041353bd7244a9\", element=\"d138b33e-b1d6-4685-bcaf-cde833d07d8b\")>,\n",
       " <selenium.webdriver.remote.webelement.WebElement (session=\"e35aaf6f59fc1433ab041353bd7244a9\", element=\"3c191ca6-262e-4b42-8c25-d00fdbe8d178\")>,\n",
       " <selenium.webdriver.remote.webelement.WebElement (session=\"e35aaf6f59fc1433ab041353bd7244a9\", element=\"daaef081-d65f-48b4-9f57-1f83bcce9f79\")>,\n",
       " <selenium.webdriver.remote.webelement.WebElement (session=\"e35aaf6f59fc1433ab041353bd7244a9\", element=\"7551930f-1bdd-476e-a9b7-0b7dff94a48a\")>,\n",
       " <selenium.webdriver.remote.webelement.WebElement (session=\"e35aaf6f59fc1433ab041353bd7244a9\", element=\"0fad9528-6636-408f-bd98-5e7bb40839aa\")>,\n",
       " <selenium.webdriver.remote.webelement.WebElement (session=\"e35aaf6f59fc1433ab041353bd7244a9\", element=\"555e0c98-6590-4b16-b93e-71433d5d940d\")>,\n",
       " <selenium.webdriver.remote.webelement.WebElement (session=\"e35aaf6f59fc1433ab041353bd7244a9\", element=\"ac9ec39f-ff03-4c4e-b476-6c9bae4c241d\")>,\n",
       " <selenium.webdriver.remote.webelement.WebElement (session=\"e35aaf6f59fc1433ab041353bd7244a9\", element=\"d65869a4-5eb7-4988-9a44-6db3c7382291\")>,\n",
       " <selenium.webdriver.remote.webelement.WebElement (session=\"e35aaf6f59fc1433ab041353bd7244a9\", element=\"873deb9f-e626-4e86-9487-f0b928729e46\")>,\n",
       " <selenium.webdriver.remote.webelement.WebElement (session=\"e35aaf6f59fc1433ab041353bd7244a9\", element=\"cdeb263a-8934-4a27-a822-8abf3246c097\")>,\n",
       " <selenium.webdriver.remote.webelement.WebElement (session=\"e35aaf6f59fc1433ab041353bd7244a9\", element=\"51deed92-e03b-4c2b-a40e-4df8cc883de7\")>,\n",
       " <selenium.webdriver.remote.webelement.WebElement (session=\"e35aaf6f59fc1433ab041353bd7244a9\", element=\"62dffd05-7979-4b00-a7b3-c98dfb1031c1\")>,\n",
       " <selenium.webdriver.remote.webelement.WebElement (session=\"e35aaf6f59fc1433ab041353bd7244a9\", element=\"13118ee1-bbe3-4101-9711-4ef563552e03\")>,\n",
       " <selenium.webdriver.remote.webelement.WebElement (session=\"e35aaf6f59fc1433ab041353bd7244a9\", element=\"3df32a8b-d569-4486-a858-bb3d8a516cf5\")>,\n",
       " <selenium.webdriver.remote.webelement.WebElement (session=\"e35aaf6f59fc1433ab041353bd7244a9\", element=\"f0f902ca-738d-4846-a3f9-9cdc39c5b389\")>,\n",
       " <selenium.webdriver.remote.webelement.WebElement (session=\"e35aaf6f59fc1433ab041353bd7244a9\", element=\"9b146311-d05a-468b-9431-5a53d8fbb3bd\")>,\n",
       " <selenium.webdriver.remote.webelement.WebElement (session=\"e35aaf6f59fc1433ab041353bd7244a9\", element=\"abe9bf05-c751-4acf-a324-597da75b191d\")>]"
      ]
     },
     "execution_count": 38,
     "metadata": {},
     "output_type": "execute_result"
    }
   ],
   "source": [
    "name3=driver3.find_elements_by_xpath('//a[@class=\"subTitle ellipsis fleft\"]')\n",
    "name3"
   ]
  },
  {
   "cell_type": "code",
   "execution_count": 39,
   "id": "c1a8ad1e",
   "metadata": {},
   "outputs": [
    {
     "data": {
      "text/plain": [
       "['NTT Data',\n",
       " 'Sejal Consulting Hub',\n",
       " 'GABA Consultancy services',\n",
       " 'Optum',\n",
       " 'MOTHERSONSUMI INFOTECH & DESIGNS LIMITED',\n",
       " 'MOTHERSONSUMI INFOTECH & DESIGNS LIMITED',\n",
       " 'Lumiq.ai',\n",
       " 'Indihire HR Consultants Private Limited',\n",
       " 'HCL',\n",
       " 'GABA Consultancy services',\n",
       " 'Boston Consulting Group',\n",
       " 'Stefanini',\n",
       " 'iNICU',\n",
       " 'Tide Software',\n",
       " 'Virtuoso Staffing Solutions Pvt Ltd',\n",
       " 'BlackBuck',\n",
       " 'Country Veggie',\n",
       " 'NAVIKENZ INDIA PRIVATE LIMITED',\n",
       " 'Mahajan Imaging',\n",
       " 'Mahajan Imaging']"
      ]
     },
     "execution_count": 39,
     "metadata": {},
     "output_type": "execute_result"
    }
   ],
   "source": [
    "names3=[]\n",
    "for i in name3:\n",
    "    names3.append(i.text)\n",
    "names3   "
   ]
  },
  {
   "cell_type": "code",
   "execution_count": 40,
   "id": "ade3a18d",
   "metadata": {},
   "outputs": [
    {
     "data": {
      "text/plain": [
       "[<selenium.webdriver.remote.webelement.WebElement (session=\"e35aaf6f59fc1433ab041353bd7244a9\", element=\"203622bd-0a81-4492-8381-b4697f77267b\")>,\n",
       " <selenium.webdriver.remote.webelement.WebElement (session=\"e35aaf6f59fc1433ab041353bd7244a9\", element=\"fc717cec-86ba-4c49-88ed-8acd780f3b71\")>,\n",
       " <selenium.webdriver.remote.webelement.WebElement (session=\"e35aaf6f59fc1433ab041353bd7244a9\", element=\"529eb296-a53d-418d-aa1d-ebf93ec65725\")>,\n",
       " <selenium.webdriver.remote.webelement.WebElement (session=\"e35aaf6f59fc1433ab041353bd7244a9\", element=\"ed95c641-7530-4fb0-a1da-4b03094a2d80\")>,\n",
       " <selenium.webdriver.remote.webelement.WebElement (session=\"e35aaf6f59fc1433ab041353bd7244a9\", element=\"8d6bef67-5ecf-43ac-9668-d21945cc28b0\")>,\n",
       " <selenium.webdriver.remote.webelement.WebElement (session=\"e35aaf6f59fc1433ab041353bd7244a9\", element=\"1cb0a903-0323-4a45-b2a7-078c30141766\")>,\n",
       " <selenium.webdriver.remote.webelement.WebElement (session=\"e35aaf6f59fc1433ab041353bd7244a9\", element=\"c9fc3b65-6060-493d-abf1-a261896a8ac6\")>,\n",
       " <selenium.webdriver.remote.webelement.WebElement (session=\"e35aaf6f59fc1433ab041353bd7244a9\", element=\"5492147f-0dc7-401b-aa4f-695d11ffaacd\")>,\n",
       " <selenium.webdriver.remote.webelement.WebElement (session=\"e35aaf6f59fc1433ab041353bd7244a9\", element=\"b79fe5b3-7698-40fc-86aa-3c5a6f6d8f96\")>,\n",
       " <selenium.webdriver.remote.webelement.WebElement (session=\"e35aaf6f59fc1433ab041353bd7244a9\", element=\"c4f821c7-3320-4c41-973c-51ca210f13a9\")>]"
      ]
     },
     "execution_count": 40,
     "metadata": {},
     "output_type": "execute_result"
    }
   ],
   "source": [
    "exp3=driver3.find_elements_by_xpath('//li[@class=\"fleft grey-text br2 placeHolderLi experience\"]')\n",
    "exp3[0:10]"
   ]
  },
  {
   "cell_type": "code",
   "execution_count": 41,
   "id": "ff4b3c2c",
   "metadata": {},
   "outputs": [
    {
     "data": {
      "text/plain": [
       "['0-0 Yrs',\n",
       " '0-3 Yrs',\n",
       " '0-0 Yrs',\n",
       " '2-6 Yrs',\n",
       " '4-8 Yrs',\n",
       " '4-8 Yrs',\n",
       " '2-7 Yrs',\n",
       " '2-4 Yrs',\n",
       " '3-8 Yrs',\n",
       " '0-0 Yrs',\n",
       " '2-5 Yrs',\n",
       " '3-8 Yrs',\n",
       " '1-5 Yrs',\n",
       " '1-6 Yrs',\n",
       " '5-10 Yrs',\n",
       " '3-7 Yrs',\n",
       " '1-3 Yrs',\n",
       " '2-5 Yrs',\n",
       " '2-6 Yrs',\n",
       " '2-6 Yrs']"
      ]
     },
     "execution_count": 41,
     "metadata": {},
     "output_type": "execute_result"
    }
   ],
   "source": [
    "exps3=[]\n",
    "for i in exp3:\n",
    "    exps3.append(i.text)\n",
    "exps3  "
   ]
  },
  {
   "cell_type": "code",
   "execution_count": 42,
   "id": "74a2cad9",
   "metadata": {},
   "outputs": [
    {
     "data": {
      "text/plain": [
       "(20, 20, 20, 20)"
      ]
     },
     "execution_count": 42,
     "metadata": {},
     "output_type": "execute_result"
    }
   ],
   "source": [
    "len(titles3),len(exps3),len(locations3),len(names3)"
   ]
  },
  {
   "cell_type": "code",
   "execution_count": 43,
   "id": "9f9ef22e",
   "metadata": {},
   "outputs": [
    {
     "data": {
      "text/html": [
       "<div>\n",
       "<style scoped>\n",
       "    .dataframe tbody tr th:only-of-type {\n",
       "        vertical-align: middle;\n",
       "    }\n",
       "\n",
       "    .dataframe tbody tr th {\n",
       "        vertical-align: top;\n",
       "    }\n",
       "\n",
       "    .dataframe thead th {\n",
       "        text-align: right;\n",
       "    }\n",
       "</style>\n",
       "<table border=\"1\" class=\"dataframe\">\n",
       "  <thead>\n",
       "    <tr style=\"text-align: right;\">\n",
       "      <th></th>\n",
       "      <th>company</th>\n",
       "      <th>designation</th>\n",
       "      <th>place</th>\n",
       "      <th>experience_required</th>\n",
       "    </tr>\n",
       "  </thead>\n",
       "  <tbody>\n",
       "    <tr>\n",
       "      <th>0</th>\n",
       "      <td>NTT Data</td>\n",
       "      <td>Excellent Opportunity For Freshers For AI/ML, ...</td>\n",
       "      <td>Noida, Kolkata, Hyderabad/Secunderabad, Pune, ...</td>\n",
       "      <td>0-0 Yrs</td>\n",
       "    </tr>\n",
       "    <tr>\n",
       "      <th>1</th>\n",
       "      <td>Sejal Consulting Hub</td>\n",
       "      <td>Junior Data Analyst/ Scientist- Fresher Position</td>\n",
       "      <td>Kolkata, Hyderabad/Secunderabad, Pune, Ahmedab...</td>\n",
       "      <td>0-3 Yrs</td>\n",
       "    </tr>\n",
       "    <tr>\n",
       "      <th>2</th>\n",
       "      <td>GABA Consultancy services</td>\n",
       "      <td>Only Fresher / Python Data Scientist / Trainee...</td>\n",
       "      <td>Noida, New Delhi, Gurgaon/Gurugram</td>\n",
       "      <td>0-0 Yrs</td>\n",
       "    </tr>\n",
       "    <tr>\n",
       "      <th>3</th>\n",
       "      <td>Optum</td>\n",
       "      <td>Data Scientist</td>\n",
       "      <td>Noida, Gurgaon/Gurugram</td>\n",
       "      <td>2-6 Yrs</td>\n",
       "    </tr>\n",
       "    <tr>\n",
       "      <th>4</th>\n",
       "      <td>MOTHERSONSUMI INFOTECH &amp; DESIGNS LIMITED</td>\n",
       "      <td>Data Scientist - MIND Infotech</td>\n",
       "      <td>Noida</td>\n",
       "      <td>4-8 Yrs</td>\n",
       "    </tr>\n",
       "    <tr>\n",
       "      <th>5</th>\n",
       "      <td>MOTHERSONSUMI INFOTECH &amp; DESIGNS LIMITED</td>\n",
       "      <td>Data Scientist - MIND Infotech</td>\n",
       "      <td>Noida</td>\n",
       "      <td>4-8 Yrs</td>\n",
       "    </tr>\n",
       "    <tr>\n",
       "      <th>6</th>\n",
       "      <td>Lumiq.ai</td>\n",
       "      <td>Hiring For Data Scientist</td>\n",
       "      <td>Noida, Pune, Mumbai (All Areas)</td>\n",
       "      <td>2-7 Yrs</td>\n",
       "    </tr>\n",
       "    <tr>\n",
       "      <th>7</th>\n",
       "      <td>Indihire HR Consultants Private Limited</td>\n",
       "      <td>Lead Data Scientist</td>\n",
       "      <td>Delhi / NCR\\n(WFH during Covid)</td>\n",
       "      <td>2-4 Yrs</td>\n",
       "    </tr>\n",
       "    <tr>\n",
       "      <th>8</th>\n",
       "      <td>HCL</td>\n",
       "      <td>Urgent Requirement || Data Scientist || Noida</td>\n",
       "      <td>Noida, Delhi / NCR</td>\n",
       "      <td>3-8 Yrs</td>\n",
       "    </tr>\n",
       "    <tr>\n",
       "      <th>9</th>\n",
       "      <td>GABA Consultancy services</td>\n",
       "      <td>Data Analyst / Data Scientist / Business Analy...</td>\n",
       "      <td>Noida, New Delhi, Delhi / NCR</td>\n",
       "      <td>0-0 Yrs</td>\n",
       "    </tr>\n",
       "    <tr>\n",
       "      <th>10</th>\n",
       "      <td>Boston Consulting Group</td>\n",
       "      <td>Data Scientist</td>\n",
       "      <td>New Delhi</td>\n",
       "      <td>2-5 Yrs</td>\n",
       "    </tr>\n",
       "    <tr>\n",
       "      <th>11</th>\n",
       "      <td>Stefanini</td>\n",
       "      <td>Data Scientist</td>\n",
       "      <td>Noida</td>\n",
       "      <td>3-8 Yrs</td>\n",
       "    </tr>\n",
       "    <tr>\n",
       "      <th>12</th>\n",
       "      <td>iNICU</td>\n",
       "      <td>Senior Data Scientist</td>\n",
       "      <td>Delhi</td>\n",
       "      <td>1-5 Yrs</td>\n",
       "    </tr>\n",
       "    <tr>\n",
       "      <th>13</th>\n",
       "      <td>Tide Software</td>\n",
       "      <td>Lead Data Scientist - KYC/Fraud/Marketing</td>\n",
       "      <td>New Delhi</td>\n",
       "      <td>1-6 Yrs</td>\n",
       "    </tr>\n",
       "    <tr>\n",
       "      <th>14</th>\n",
       "      <td>Virtuoso Staffing Solutions Pvt Ltd</td>\n",
       "      <td>Open Project | IT Consulting | Data Scientist</td>\n",
       "      <td>Noida, New Delhi, Bangalore Rural, Bangalore/B...</td>\n",
       "      <td>5-10 Yrs</td>\n",
       "    </tr>\n",
       "    <tr>\n",
       "      <th>15</th>\n",
       "      <td>BlackBuck</td>\n",
       "      <td>Data Scientist</td>\n",
       "      <td>Gurgaon, Bengaluru</td>\n",
       "      <td>3-7 Yrs</td>\n",
       "    </tr>\n",
       "    <tr>\n",
       "      <th>16</th>\n",
       "      <td>Country Veggie</td>\n",
       "      <td>Data Scientist</td>\n",
       "      <td>Bharuch, Jaipur, Bhopal, Mumbai, Jhansi, Nagpu...</td>\n",
       "      <td>1-3 Yrs</td>\n",
       "    </tr>\n",
       "    <tr>\n",
       "      <th>17</th>\n",
       "      <td>NAVIKENZ INDIA PRIVATE LIMITED</td>\n",
       "      <td>Data Scientist</td>\n",
       "      <td>Hyderabad/Secunderabad, Bangalore/Bengaluru, D...</td>\n",
       "      <td>2-5 Yrs</td>\n",
       "    </tr>\n",
       "    <tr>\n",
       "      <th>18</th>\n",
       "      <td>Mahajan Imaging</td>\n",
       "      <td>Data Scientist</td>\n",
       "      <td>Delhi</td>\n",
       "      <td>2-6 Yrs</td>\n",
       "    </tr>\n",
       "    <tr>\n",
       "      <th>19</th>\n",
       "      <td>Mahajan Imaging</td>\n",
       "      <td>Data Scientist</td>\n",
       "      <td>Delhi</td>\n",
       "      <td>2-6 Yrs</td>\n",
       "    </tr>\n",
       "  </tbody>\n",
       "</table>\n",
       "</div>"
      ],
      "text/plain": [
       "                                     company  \\\n",
       "0                                   NTT Data   \n",
       "1                       Sejal Consulting Hub   \n",
       "2                  GABA Consultancy services   \n",
       "3                                      Optum   \n",
       "4   MOTHERSONSUMI INFOTECH & DESIGNS LIMITED   \n",
       "5   MOTHERSONSUMI INFOTECH & DESIGNS LIMITED   \n",
       "6                                   Lumiq.ai   \n",
       "7    Indihire HR Consultants Private Limited   \n",
       "8                                        HCL   \n",
       "9                  GABA Consultancy services   \n",
       "10                   Boston Consulting Group   \n",
       "11                                 Stefanini   \n",
       "12                                     iNICU   \n",
       "13                             Tide Software   \n",
       "14       Virtuoso Staffing Solutions Pvt Ltd   \n",
       "15                                 BlackBuck   \n",
       "16                            Country Veggie   \n",
       "17            NAVIKENZ INDIA PRIVATE LIMITED   \n",
       "18                           Mahajan Imaging   \n",
       "19                           Mahajan Imaging   \n",
       "\n",
       "                                          designation  \\\n",
       "0   Excellent Opportunity For Freshers For AI/ML, ...   \n",
       "1    Junior Data Analyst/ Scientist- Fresher Position   \n",
       "2   Only Fresher / Python Data Scientist / Trainee...   \n",
       "3                                      Data Scientist   \n",
       "4                      Data Scientist - MIND Infotech   \n",
       "5                      Data Scientist - MIND Infotech   \n",
       "6                           Hiring For Data Scientist   \n",
       "7                                 Lead Data Scientist   \n",
       "8       Urgent Requirement || Data Scientist || Noida   \n",
       "9   Data Analyst / Data Scientist / Business Analy...   \n",
       "10                                     Data Scientist   \n",
       "11                                     Data Scientist   \n",
       "12                              Senior Data Scientist   \n",
       "13          Lead Data Scientist - KYC/Fraud/Marketing   \n",
       "14      Open Project | IT Consulting | Data Scientist   \n",
       "15                                     Data Scientist   \n",
       "16                                     Data Scientist   \n",
       "17                                     Data Scientist   \n",
       "18                                     Data Scientist   \n",
       "19                                     Data Scientist   \n",
       "\n",
       "                                                place experience_required  \n",
       "0   Noida, Kolkata, Hyderabad/Secunderabad, Pune, ...             0-0 Yrs  \n",
       "1   Kolkata, Hyderabad/Secunderabad, Pune, Ahmedab...             0-3 Yrs  \n",
       "2                  Noida, New Delhi, Gurgaon/Gurugram             0-0 Yrs  \n",
       "3                             Noida, Gurgaon/Gurugram             2-6 Yrs  \n",
       "4                                               Noida             4-8 Yrs  \n",
       "5                                               Noida             4-8 Yrs  \n",
       "6                     Noida, Pune, Mumbai (All Areas)             2-7 Yrs  \n",
       "7                     Delhi / NCR\\n(WFH during Covid)             2-4 Yrs  \n",
       "8                                  Noida, Delhi / NCR             3-8 Yrs  \n",
       "9                       Noida, New Delhi, Delhi / NCR             0-0 Yrs  \n",
       "10                                          New Delhi             2-5 Yrs  \n",
       "11                                              Noida             3-8 Yrs  \n",
       "12                                              Delhi             1-5 Yrs  \n",
       "13                                          New Delhi             1-6 Yrs  \n",
       "14  Noida, New Delhi, Bangalore Rural, Bangalore/B...            5-10 Yrs  \n",
       "15                                 Gurgaon, Bengaluru             3-7 Yrs  \n",
       "16  Bharuch, Jaipur, Bhopal, Mumbai, Jhansi, Nagpu...             1-3 Yrs  \n",
       "17  Hyderabad/Secunderabad, Bangalore/Bengaluru, D...             2-5 Yrs  \n",
       "18                                              Delhi             2-6 Yrs  \n",
       "19                                              Delhi             2-6 Yrs  "
      ]
     },
     "execution_count": 43,
     "metadata": {},
     "output_type": "execute_result"
    }
   ],
   "source": [
    "jobs3=pd.DataFrame()\n",
    "jobs3['company']=names3\n",
    "jobs3['designation']=titles3\n",
    "jobs3['place']=locations3\n",
    "jobs3['experience_required']=exps3\n",
    "jobs3"
   ]
  },
  {
   "cell_type": "code",
   "execution_count": 46,
   "id": "784ab837",
   "metadata": {},
   "outputs": [
    {
     "data": {
      "text/html": [
       "<div>\n",
       "<style scoped>\n",
       "    .dataframe tbody tr th:only-of-type {\n",
       "        vertical-align: middle;\n",
       "    }\n",
       "\n",
       "    .dataframe tbody tr th {\n",
       "        vertical-align: top;\n",
       "    }\n",
       "\n",
       "    .dataframe thead th {\n",
       "        text-align: right;\n",
       "    }\n",
       "</style>\n",
       "<table border=\"1\" class=\"dataframe\">\n",
       "  <thead>\n",
       "    <tr style=\"text-align: right;\">\n",
       "      <th></th>\n",
       "      <th>company</th>\n",
       "      <th>designation</th>\n",
       "      <th>place</th>\n",
       "      <th>experience_required</th>\n",
       "    </tr>\n",
       "  </thead>\n",
       "  <tbody>\n",
       "    <tr>\n",
       "      <th>0</th>\n",
       "      <td>NTT Data</td>\n",
       "      <td>Excellent Opportunity For Freshers For AI/ML, ...</td>\n",
       "      <td>Noida, Kolkata, Hyderabad/Secunderabad, Pune, ...</td>\n",
       "      <td>0-0 Yrs</td>\n",
       "    </tr>\n",
       "    <tr>\n",
       "      <th>1</th>\n",
       "      <td>Sejal Consulting Hub</td>\n",
       "      <td>Junior Data Analyst/ Scientist- Fresher Position</td>\n",
       "      <td>Kolkata, Hyderabad/Secunderabad, Pune, Ahmedab...</td>\n",
       "      <td>0-3 Yrs</td>\n",
       "    </tr>\n",
       "    <tr>\n",
       "      <th>2</th>\n",
       "      <td>GABA Consultancy services</td>\n",
       "      <td>Only Fresher / Python Data Scientist / Trainee...</td>\n",
       "      <td>Noida, New Delhi, Gurgaon/Gurugram</td>\n",
       "      <td>0-0 Yrs</td>\n",
       "    </tr>\n",
       "    <tr>\n",
       "      <th>3</th>\n",
       "      <td>Optum</td>\n",
       "      <td>Data Scientist</td>\n",
       "      <td>Noida, Gurgaon/Gurugram</td>\n",
       "      <td>2-6 Yrs</td>\n",
       "    </tr>\n",
       "    <tr>\n",
       "      <th>4</th>\n",
       "      <td>MOTHERSONSUMI INFOTECH &amp; DESIGNS LIMITED</td>\n",
       "      <td>Data Scientist - MIND Infotech</td>\n",
       "      <td>Noida</td>\n",
       "      <td>4-8 Yrs</td>\n",
       "    </tr>\n",
       "    <tr>\n",
       "      <th>5</th>\n",
       "      <td>MOTHERSONSUMI INFOTECH &amp; DESIGNS LIMITED</td>\n",
       "      <td>Data Scientist - MIND Infotech</td>\n",
       "      <td>Noida</td>\n",
       "      <td>4-8 Yrs</td>\n",
       "    </tr>\n",
       "    <tr>\n",
       "      <th>6</th>\n",
       "      <td>Lumiq.ai</td>\n",
       "      <td>Hiring For Data Scientist</td>\n",
       "      <td>Noida, Pune, Mumbai (All Areas)</td>\n",
       "      <td>2-7 Yrs</td>\n",
       "    </tr>\n",
       "    <tr>\n",
       "      <th>7</th>\n",
       "      <td>Indihire HR Consultants Private Limited</td>\n",
       "      <td>Lead Data Scientist</td>\n",
       "      <td>Delhi / NCR\\n(WFH during Covid)</td>\n",
       "      <td>2-4 Yrs</td>\n",
       "    </tr>\n",
       "    <tr>\n",
       "      <th>8</th>\n",
       "      <td>HCL</td>\n",
       "      <td>Urgent Requirement || Data Scientist || Noida</td>\n",
       "      <td>Noida, Delhi / NCR</td>\n",
       "      <td>3-8 Yrs</td>\n",
       "    </tr>\n",
       "    <tr>\n",
       "      <th>9</th>\n",
       "      <td>GABA Consultancy services</td>\n",
       "      <td>Data Analyst / Data Scientist / Business Analy...</td>\n",
       "      <td>Noida, New Delhi, Delhi / NCR</td>\n",
       "      <td>0-0 Yrs</td>\n",
       "    </tr>\n",
       "  </tbody>\n",
       "</table>\n",
       "</div>"
      ],
      "text/plain": [
       "                                    company  \\\n",
       "0                                  NTT Data   \n",
       "1                      Sejal Consulting Hub   \n",
       "2                 GABA Consultancy services   \n",
       "3                                     Optum   \n",
       "4  MOTHERSONSUMI INFOTECH & DESIGNS LIMITED   \n",
       "5  MOTHERSONSUMI INFOTECH & DESIGNS LIMITED   \n",
       "6                                  Lumiq.ai   \n",
       "7   Indihire HR Consultants Private Limited   \n",
       "8                                       HCL   \n",
       "9                 GABA Consultancy services   \n",
       "\n",
       "                                         designation  \\\n",
       "0  Excellent Opportunity For Freshers For AI/ML, ...   \n",
       "1   Junior Data Analyst/ Scientist- Fresher Position   \n",
       "2  Only Fresher / Python Data Scientist / Trainee...   \n",
       "3                                     Data Scientist   \n",
       "4                     Data Scientist - MIND Infotech   \n",
       "5                     Data Scientist - MIND Infotech   \n",
       "6                          Hiring For Data Scientist   \n",
       "7                                Lead Data Scientist   \n",
       "8      Urgent Requirement || Data Scientist || Noida   \n",
       "9  Data Analyst / Data Scientist / Business Analy...   \n",
       "\n",
       "                                               place experience_required  \n",
       "0  Noida, Kolkata, Hyderabad/Secunderabad, Pune, ...             0-0 Yrs  \n",
       "1  Kolkata, Hyderabad/Secunderabad, Pune, Ahmedab...             0-3 Yrs  \n",
       "2                 Noida, New Delhi, Gurgaon/Gurugram             0-0 Yrs  \n",
       "3                            Noida, Gurgaon/Gurugram             2-6 Yrs  \n",
       "4                                              Noida             4-8 Yrs  \n",
       "5                                              Noida             4-8 Yrs  \n",
       "6                    Noida, Pune, Mumbai (All Areas)             2-7 Yrs  \n",
       "7                    Delhi / NCR\\n(WFH during Covid)             2-4 Yrs  \n",
       "8                                 Noida, Delhi / NCR             3-8 Yrs  \n",
       "9                      Noida, New Delhi, Delhi / NCR             0-0 Yrs  "
      ]
     },
     "execution_count": 46,
     "metadata": {},
     "output_type": "execute_result"
    }
   ],
   "source": [
    "jobs3.iloc[0:10,:]"
   ]
  },
  {
   "cell_type": "markdown",
   "id": "5eb2d196",
   "metadata": {},
   "source": [
    "ans4)"
   ]
  },
  {
   "cell_type": "code",
   "execution_count": 48,
   "id": "358f163f",
   "metadata": {},
   "outputs": [],
   "source": [
    "driver4=webdriver.Chrome('chromedriver.exe')"
   ]
  },
  {
   "cell_type": "code",
   "execution_count": 49,
   "id": "684f97df",
   "metadata": {},
   "outputs": [],
   "source": [
    "url4=('https://www.flipkart.com/')\n",
    "driver4.get(url4)"
   ]
  },
  {
   "cell_type": "code",
   "execution_count": 50,
   "id": "d98e530c",
   "metadata": {},
   "outputs": [
    {
     "data": {
      "text/plain": [
       "<selenium.webdriver.remote.webelement.WebElement (session=\"cd4f40b9f6198f8468e9e07a89d4daa4\", element=\"0503ea13-e2e4-4170-a296-926d11119c9b\")>"
      ]
     },
     "execution_count": 50,
     "metadata": {},
     "output_type": "execute_result"
    }
   ],
   "source": [
    "search4=driver4.find_element_by_xpath('/html/body/div[1]/div/div[1]/div[1]/div[2]/div[2]/form/div/div/input')\n",
    "search4"
   ]
  },
  {
   "cell_type": "code",
   "execution_count": 51,
   "id": "93c040f6",
   "metadata": {},
   "outputs": [],
   "source": [
    "search4.send_keys('Sunglasses')"
   ]
  },
  {
   "cell_type": "code",
   "execution_count": 53,
   "id": "a4aa7e99",
   "metadata": {},
   "outputs": [
    {
     "data": {
      "text/plain": [
       "<selenium.webdriver.remote.webelement.WebElement (session=\"cd4f40b9f6198f8468e9e07a89d4daa4\", element=\"26600efb-6802-463e-8824-9e242ac92992\")>"
      ]
     },
     "execution_count": 53,
     "metadata": {},
     "output_type": "execute_result"
    }
   ],
   "source": [
    "searchbt4=driver4.find_element_by_xpath('/html/body/div[1]/div/div[1]/div[1]/div[2]/div[2]/form/div/button')\n",
    "searchbt4"
   ]
  },
  {
   "cell_type": "code",
   "execution_count": 54,
   "id": "a84e28e9",
   "metadata": {},
   "outputs": [],
   "source": [
    "searchbt4.click()"
   ]
  },
  {
   "cell_type": "code",
   "execution_count": 56,
   "id": "721b1972",
   "metadata": {},
   "outputs": [
    {
     "data": {
      "text/plain": [
       "[<selenium.webdriver.remote.webelement.WebElement (session=\"cd4f40b9f6198f8468e9e07a89d4daa4\", element=\"5e4f3af2-1c73-44bf-872b-430a4975bd89\")>,\n",
       " <selenium.webdriver.remote.webelement.WebElement (session=\"cd4f40b9f6198f8468e9e07a89d4daa4\", element=\"03fee1e6-a95a-4b03-bcc4-44b5584cdf04\")>,\n",
       " <selenium.webdriver.remote.webelement.WebElement (session=\"cd4f40b9f6198f8468e9e07a89d4daa4\", element=\"19772e85-2d96-4050-9959-bfac58698ffa\")>,\n",
       " <selenium.webdriver.remote.webelement.WebElement (session=\"cd4f40b9f6198f8468e9e07a89d4daa4\", element=\"4ae677b1-372b-4bb5-8bcf-29b55583a332\")>,\n",
       " <selenium.webdriver.remote.webelement.WebElement (session=\"cd4f40b9f6198f8468e9e07a89d4daa4\", element=\"7ca606c1-79fd-406b-9149-797978fa6a6e\")>]"
      ]
     },
     "execution_count": 56,
     "metadata": {},
     "output_type": "execute_result"
    }
   ],
   "source": [
    "brand4=driver4.find_elements_by_xpath('//div[@class=\"_2WkVRV\"]')\n",
    "brand4[0:5]"
   ]
  },
  {
   "cell_type": "code",
   "execution_count": 57,
   "id": "956ba95d",
   "metadata": {},
   "outputs": [
    {
     "data": {
      "text/plain": [
       "['ROYAL SON',\n",
       " 'ROYAL SON',\n",
       " 'SRPM',\n",
       " 'SUNBEE',\n",
       " 'PIRASO',\n",
       " 'Elligator',\n",
       " 'New Specs',\n",
       " 'ROYAL SON',\n",
       " 'DEIXELS',\n",
       " 'Fastrack',\n",
       " 'Lee Topper',\n",
       " 'ROYAL SON',\n",
       " 'Fastrack',\n",
       " 'SHAAH COLLECTIONS',\n",
       " 'PIRASO',\n",
       " 'ROYAL SON',\n",
       " 'SUNBEE',\n",
       " 'kingsunglasses',\n",
       " 'PIRASO',\n",
       " 'ROYAL SON',\n",
       " 'SRPM',\n",
       " 'SHAAH COLLECTIONS',\n",
       " 'Lee Topper',\n",
       " 'ROYAL SON',\n",
       " 'ROYAL SON',\n",
       " 'ROZZETTA CRAFT',\n",
       " 'Elligator',\n",
       " 'ROYAL SON',\n",
       " 'PHENOMENAL',\n",
       " 'GANSTA',\n",
       " 'PIRASO',\n",
       " 'ROYAL SON',\n",
       " 'New Specs',\n",
       " 'kingsunglasses',\n",
       " 'PIRASO',\n",
       " 'ROYAL SON',\n",
       " 'kingsunglasses',\n",
       " 'kingsunglasses',\n",
       " 'kingsunglasses',\n",
       " 'ROYAL SON']"
      ]
     },
     "execution_count": 57,
     "metadata": {},
     "output_type": "execute_result"
    }
   ],
   "source": [
    "brands4=[]\n",
    "for i in brand4:\n",
    "    brands4.append(i.text)\n",
    "brands4    "
   ]
  },
  {
   "cell_type": "code",
   "execution_count": 58,
   "id": "4a15a550",
   "metadata": {},
   "outputs": [
    {
     "data": {
      "text/plain": [
       "[<selenium.webdriver.remote.webelement.WebElement (session=\"cd4f40b9f6198f8468e9e07a89d4daa4\", element=\"34cb37be-05be-4a80-ac27-1999effd45d9\")>,\n",
       " <selenium.webdriver.remote.webelement.WebElement (session=\"cd4f40b9f6198f8468e9e07a89d4daa4\", element=\"4cc63e7e-636d-44fe-b6eb-73daa0801e0d\")>,\n",
       " <selenium.webdriver.remote.webelement.WebElement (session=\"cd4f40b9f6198f8468e9e07a89d4daa4\", element=\"c193c0c0-f0f5-406d-8502-5e26b1068b69\")>,\n",
       " <selenium.webdriver.remote.webelement.WebElement (session=\"cd4f40b9f6198f8468e9e07a89d4daa4\", element=\"b901bef5-f62a-4b31-970b-cb5601e7df73\")>,\n",
       " <selenium.webdriver.remote.webelement.WebElement (session=\"cd4f40b9f6198f8468e9e07a89d4daa4\", element=\"0cd6ae0f-1d4e-4756-b714-300da3614829\")>]"
      ]
     },
     "execution_count": 58,
     "metadata": {},
     "output_type": "execute_result"
    }
   ],
   "source": [
    "productdes4=driver4.find_elements_by_xpath('//a[@class=\"IRpwTa\"]')\n",
    "productdes4[0:5]"
   ]
  },
  {
   "cell_type": "code",
   "execution_count": 59,
   "id": "8a4d994a",
   "metadata": {},
   "outputs": [
    {
     "data": {
      "text/plain": [
       "['UV Protection, Gradient Over-sized Sunglasses (56)',\n",
       " 'UV Protection, Gradient Over-sized Sunglasses (62)',\n",
       " 'UV Protection Wayfarer Sunglasses (50)',\n",
       " 'UV Protection, Polarized Wayfarer Sunglasses (Free Size...',\n",
       " 'UV Protection Aviator Sunglasses (54)',\n",
       " 'UV Protection Round Sunglasses (54)',\n",
       " 'UV Protection Rectangular Sunglasses (Free Size)',\n",
       " 'UV Protection, Gradient Over-sized Sunglasses (62)',\n",
       " 'UV Protection Aviator, Wayfarer Sunglasses (Free Size)',\n",
       " 'UV Protection Rectangular Sunglasses (Free Size)',\n",
       " 'Riding Glasses Wrap-around Sunglasses (Free Size)',\n",
       " 'Polarized, UV Protection Aviator Sunglasses (58)',\n",
       " 'Gradient, UV Protection Wayfarer Sunglasses (Free Size)',\n",
       " 'UV Protection, Polarized, Mirrored Rectangular Sunglass...',\n",
       " 'UV Protection Aviator Sunglasses (54)',\n",
       " 'UV Protection, Gradient Butterfly Sunglasses (52)',\n",
       " 'UV Protection, Polarized, Mirrored Round Sunglasses (Fr...',\n",
       " 'UV Protection, Riding Glasses, Mirrored Wayfarer Sungla...',\n",
       " 'UV Protection Wayfarer Sunglasses (32)',\n",
       " 'UV Protection, Gradient Butterfly, Over-sized Sunglasse...',\n",
       " 'Others Wayfarer, Retro Square Sunglasses (50)',\n",
       " 'UV Protection, Polarized, Mirrored Rectangular Sunglass...',\n",
       " 'UV Protection Rectangular Sunglasses (Free Size)',\n",
       " 'Polarized, UV Protection Wrap-around Sunglasses (62)',\n",
       " 'Mirrored Aviator Sunglasses (55)',\n",
       " 'Polarized, Night Vision, Riding Glasses Sports, Wrap-ar...',\n",
       " 'UV Protection Round Sunglasses (53)',\n",
       " 'UV Protection, Polarized Aviator Sunglasses (60)',\n",
       " 'UV Protection Retro Square Sunglasses (53)',\n",
       " 'UV Protection, Riding Glasses Wayfarer Sunglasses (53)',\n",
       " 'UV Protection Aviator Sunglasses (58)',\n",
       " 'Polarized, UV Protection Wrap-around Sunglasses (62)',\n",
       " 'Mirrored, UV Protection, Riding Glasses, Others Round S...',\n",
       " 'UV Protection Round Sunglasses (54)',\n",
       " 'UV Protection Aviator Sunglasses (54)',\n",
       " 'Polarized, UV Protection Sports Sunglasses (68)',\n",
       " 'Mirrored, UV Protection Wayfarer Sunglasses (Free Size)',\n",
       " 'Mirrored, UV Protection Wayfarer, Rectangular Sunglasse...',\n",
       " 'UV Protection Round Sunglasses (Free Size)',\n",
       " 'UV Protection Rectangular Sunglasses (64)']"
      ]
     },
     "execution_count": 59,
     "metadata": {},
     "output_type": "execute_result"
    }
   ],
   "source": [
    "productdess4=[]\n",
    "for i in productdes4:\n",
    "    productdess4.append(i.text)\n",
    "productdess4    "
   ]
  },
  {
   "cell_type": "code",
   "execution_count": 60,
   "id": "692e3b59",
   "metadata": {},
   "outputs": [
    {
     "data": {
      "text/plain": [
       "[<selenium.webdriver.remote.webelement.WebElement (session=\"cd4f40b9f6198f8468e9e07a89d4daa4\", element=\"b196f5ab-f799-4a93-9573-e1388f4bb7a9\")>,\n",
       " <selenium.webdriver.remote.webelement.WebElement (session=\"cd4f40b9f6198f8468e9e07a89d4daa4\", element=\"622204da-5de3-4a52-aa4f-bcea97889864\")>,\n",
       " <selenium.webdriver.remote.webelement.WebElement (session=\"cd4f40b9f6198f8468e9e07a89d4daa4\", element=\"bb9c1b99-885a-4f36-9294-9c4aa36365f9\")>,\n",
       " <selenium.webdriver.remote.webelement.WebElement (session=\"cd4f40b9f6198f8468e9e07a89d4daa4\", element=\"c3251e36-a6a3-4380-9a2a-5a86033693a2\")>,\n",
       " <selenium.webdriver.remote.webelement.WebElement (session=\"cd4f40b9f6198f8468e9e07a89d4daa4\", element=\"29a1c5e6-013f-4695-ae30-2db0394672d2\")>]"
      ]
     },
     "execution_count": 60,
     "metadata": {},
     "output_type": "execute_result"
    }
   ],
   "source": [
    "price4=driver4.find_elements_by_xpath('//div[@class=\"_30jeq3\"]')\n",
    "price4[0:5]"
   ]
  },
  {
   "cell_type": "code",
   "execution_count": 61,
   "id": "b8863b66",
   "metadata": {},
   "outputs": [
    {
     "data": {
      "text/plain": [
       "['₹614',\n",
       " '₹614',\n",
       " '₹148',\n",
       " '₹203',\n",
       " '₹179',\n",
       " '₹208',\n",
       " '₹182',\n",
       " '₹614',\n",
       " '₹152',\n",
       " '₹629',\n",
       " '₹225',\n",
       " '₹661',\n",
       " '₹629',\n",
       " '₹115',\n",
       " '₹175',\n",
       " '₹614',\n",
       " '₹234',\n",
       " '₹134',\n",
       " '₹175',\n",
       " '₹614',\n",
       " '₹128',\n",
       " '₹131',\n",
       " '₹149',\n",
       " '₹749',\n",
       " '₹329',\n",
       " '₹424',\n",
       " '₹139',\n",
       " '₹661',\n",
       " '₹239',\n",
       " '₹148',\n",
       " '₹299',\n",
       " '₹709',\n",
       " '₹213',\n",
       " '₹136',\n",
       " '₹175',\n",
       " '₹1,184',\n",
       " '₹189',\n",
       " '₹208',\n",
       " '₹239',\n",
       " '₹649']"
      ]
     },
     "execution_count": 61,
     "metadata": {},
     "output_type": "execute_result"
    }
   ],
   "source": [
    "prices4=[]\n",
    "for i in price4:\n",
    "    prices4.append(i.text)\n",
    "prices4    "
   ]
  },
  {
   "cell_type": "code",
   "execution_count": 62,
   "id": "7462f848",
   "metadata": {},
   "outputs": [
    {
     "data": {
      "text/plain": [
       "[<selenium.webdriver.remote.webelement.WebElement (session=\"cd4f40b9f6198f8468e9e07a89d4daa4\", element=\"9866c60e-6946-4a35-a686-c85fbc76af39\")>,\n",
       " <selenium.webdriver.remote.webelement.WebElement (session=\"cd4f40b9f6198f8468e9e07a89d4daa4\", element=\"3bf4c2ca-cdd5-4ae4-884e-41719cc8c1c4\")>,\n",
       " <selenium.webdriver.remote.webelement.WebElement (session=\"cd4f40b9f6198f8468e9e07a89d4daa4\", element=\"bef3bd8a-8ea1-46de-90bf-c29143940585\")>,\n",
       " <selenium.webdriver.remote.webelement.WebElement (session=\"cd4f40b9f6198f8468e9e07a89d4daa4\", element=\"6f4db0c9-5996-46e0-9d90-602f608c9ab2\")>,\n",
       " <selenium.webdriver.remote.webelement.WebElement (session=\"cd4f40b9f6198f8468e9e07a89d4daa4\", element=\"9751e960-057d-4a88-bf75-b983365924db\")>]"
      ]
     },
     "execution_count": 62,
     "metadata": {},
     "output_type": "execute_result"
    }
   ],
   "source": [
    "discount4=driver4.find_elements_by_xpath('//div[@class=\"_3Ay6Sb\"]')\n",
    "discount4[0:5]"
   ]
  },
  {
   "cell_type": "code",
   "execution_count": 63,
   "id": "ccd7362b",
   "metadata": {},
   "outputs": [
    {
     "data": {
      "text/plain": [
       "['69% off',\n",
       " '69% off',\n",
       " '88% off',\n",
       " '84% off',\n",
       " '88% off',\n",
       " '91% off',\n",
       " '92% off',\n",
       " '69% off',\n",
       " '87% off',\n",
       " '21% off',\n",
       " '90% off',\n",
       " '66% off',\n",
       " '30% off',\n",
       " '93% off',\n",
       " '89% off',\n",
       " '69% off',\n",
       " '86% off',\n",
       " '88% off',\n",
       " '89% off',\n",
       " '69% off',\n",
       " '87% off',\n",
       " '86% off',\n",
       " '85% off',\n",
       " '62% off',\n",
       " '78% off',\n",
       " '78% off',\n",
       " '86% off',\n",
       " '66% off',\n",
       " '76% off',\n",
       " '91% off',\n",
       " '88% off',\n",
       " '64% off',\n",
       " '84% off',\n",
       " '86% off',\n",
       " '89% off',\n",
       " '52% off',\n",
       " '90% off',\n",
       " '89% off',\n",
       " '85% off',\n",
       " '67% off']"
      ]
     },
     "execution_count": 63,
     "metadata": {},
     "output_type": "execute_result"
    }
   ],
   "source": [
    "discounts4=[]\n",
    "for i in discount4:\n",
    "    discounts4.append(i.text)\n",
    "discounts4    "
   ]
  },
  {
   "cell_type": "code",
   "execution_count": 64,
   "id": "52a4560a",
   "metadata": {},
   "outputs": [
    {
     "data": {
      "text/plain": [
       "<selenium.webdriver.remote.webelement.WebElement (session=\"cd4f40b9f6198f8468e9e07a89d4daa4\", element=\"b949bda4-df32-466e-8ec0-cfbf29a909ee\")>"
      ]
     },
     "execution_count": 64,
     "metadata": {},
     "output_type": "execute_result"
    }
   ],
   "source": [
    "next4=driver4.find_element_by_xpath('/html/body/div[1]/div/div[3]/div[1]/div[2]/div[12]/div/div/nav/a[2]')\n",
    "next4"
   ]
  },
  {
   "cell_type": "code",
   "execution_count": 65,
   "id": "56df3fd4",
   "metadata": {},
   "outputs": [],
   "source": [
    "next4.click()"
   ]
  },
  {
   "cell_type": "code",
   "execution_count": 66,
   "id": "a35e9c05",
   "metadata": {},
   "outputs": [
    {
     "data": {
      "text/plain": [
       "[<selenium.webdriver.remote.webelement.WebElement (session=\"cd4f40b9f6198f8468e9e07a89d4daa4\", element=\"76bb22d7-4f9c-4649-82d7-f0050707c7ae\")>,\n",
       " <selenium.webdriver.remote.webelement.WebElement (session=\"cd4f40b9f6198f8468e9e07a89d4daa4\", element=\"127b85b8-aa0c-48b4-bd44-a176b166bc41\")>,\n",
       " <selenium.webdriver.remote.webelement.WebElement (session=\"cd4f40b9f6198f8468e9e07a89d4daa4\", element=\"75b18f42-8955-4e02-99f7-ee671c64ebdb\")>,\n",
       " <selenium.webdriver.remote.webelement.WebElement (session=\"cd4f40b9f6198f8468e9e07a89d4daa4\", element=\"6fae06b4-50fd-41ca-a692-69af26c6e923\")>,\n",
       " <selenium.webdriver.remote.webelement.WebElement (session=\"cd4f40b9f6198f8468e9e07a89d4daa4\", element=\"ca508dab-a193-4544-bae6-7d76f9931a5a\")>]"
      ]
     },
     "execution_count": 66,
     "metadata": {},
     "output_type": "execute_result"
    }
   ],
   "source": [
    "brand14=driver4.find_elements_by_xpath('//div[@class=\"_2WkVRV\"]')\n",
    "brand14[0:5]"
   ]
  },
  {
   "cell_type": "code",
   "execution_count": 67,
   "id": "79bc3a4f",
   "metadata": {},
   "outputs": [
    {
     "data": {
      "text/plain": [
       "['PHENOMENAL',\n",
       " 'Rich Club',\n",
       " 'kingsunglasses',\n",
       " 'New Specs',\n",
       " 'Fastrack',\n",
       " 'Silver Kartz',\n",
       " 'DEIXELS',\n",
       " 'SRPM',\n",
       " 'PHENOMENAL',\n",
       " 'SUNBEE',\n",
       " 'ROZZETTA CRAFT',\n",
       " 'ROYAL SON',\n",
       " 'Fastrack',\n",
       " 'SHAAH COLLECTIONS',\n",
       " 'PIRASO',\n",
       " 'DEIXELS',\n",
       " 'New Specs',\n",
       " 'hipe',\n",
       " 'Rich Club',\n",
       " 'Lee Topper',\n",
       " 'Elligator',\n",
       " 'Lee Topper',\n",
       " 'PIRASO',\n",
       " 'Fastrack',\n",
       " 'ROYAL SON',\n",
       " 'PIRASO',\n",
       " 'ROZZETTA CRAFT',\n",
       " 'Rich Club',\n",
       " 'PHENOMENAL',\n",
       " 'IDEE',\n",
       " 'PHENOMENAL',\n",
       " 'kingsunglasses',\n",
       " 'PIRASO',\n",
       " 'Silver Kartz',\n",
       " 'ROYAL SON',\n",
       " 'Johaena',\n",
       " 'kingsunglasses',\n",
       " 'GANSTA',\n",
       " 'Mi',\n",
       " 'hipe']"
      ]
     },
     "execution_count": 67,
     "metadata": {},
     "output_type": "execute_result"
    }
   ],
   "source": [
    "brands14=[]\n",
    "for i in brand14:\n",
    "    brands14.append(i.text)\n",
    "brands14    "
   ]
  },
  {
   "cell_type": "code",
   "execution_count": 68,
   "id": "e651edc7",
   "metadata": {},
   "outputs": [
    {
     "data": {
      "text/plain": [
       "[<selenium.webdriver.remote.webelement.WebElement (session=\"cd4f40b9f6198f8468e9e07a89d4daa4\", element=\"7b7ccfdd-d89d-4003-bfcb-3103cca5e00f\")>,\n",
       " <selenium.webdriver.remote.webelement.WebElement (session=\"cd4f40b9f6198f8468e9e07a89d4daa4\", element=\"1684dc04-e348-49c6-b85f-69480dfc3b06\")>,\n",
       " <selenium.webdriver.remote.webelement.WebElement (session=\"cd4f40b9f6198f8468e9e07a89d4daa4\", element=\"8f89625c-5cfc-4cd7-8e04-1f94646fe45b\")>,\n",
       " <selenium.webdriver.remote.webelement.WebElement (session=\"cd4f40b9f6198f8468e9e07a89d4daa4\", element=\"2ef72026-c208-4472-87ce-e31fbf870d80\")>,\n",
       " <selenium.webdriver.remote.webelement.WebElement (session=\"cd4f40b9f6198f8468e9e07a89d4daa4\", element=\"4bdfe433-5209-4358-b273-b2b212a60c95\")>]"
      ]
     },
     "execution_count": 68,
     "metadata": {},
     "output_type": "execute_result"
    }
   ],
   "source": [
    "productdes14=driver4.find_elements_by_xpath('//a[@class=\"IRpwTa\"]')\n",
    "productdes14[0:5]"
   ]
  },
  {
   "cell_type": "code",
   "execution_count": 69,
   "id": "7414483f",
   "metadata": {},
   "outputs": [
    {
     "data": {
      "text/plain": [
       "['UV Protection Retro Square Sunglasses (Free Size)',\n",
       " 'Polarized Round Sunglasses (48)',\n",
       " 'UV Protection, Night Vision Wayfarer Sunglasses (Free S...',\n",
       " 'UV Protection, Mirrored Sports Sunglasses (Free Size)',\n",
       " 'Gradient, UV Protection Wayfarer Sunglasses (Free Size)',\n",
       " 'UV Protection Wayfarer Sunglasses (Free Size)',\n",
       " 'UV Protection Wayfarer Sunglasses (Free Size)',\n",
       " 'UV Protection Wayfarer Sunglasses (53)',\n",
       " 'UV Protection, Mirrored Retro Square Sunglasses (53)',\n",
       " 'UV Protection, Polarized, Mirrored Retro Square Sunglas...',\n",
       " 'UV Protection Retro Square Sunglasses (Free Size)',\n",
       " 'UV Protection Rectangular Sunglasses (58)',\n",
       " 'UV Protection Wayfarer Sunglasses (Free Size)',\n",
       " 'UV Protection Round Sunglasses (Free Size)',\n",
       " 'UV Protection Butterfly Sunglasses (65)',\n",
       " 'UV Protection Rectangular Sunglasses (Free Size)',\n",
       " 'UV Protection Aviator Sunglasses (Free Size)',\n",
       " 'UV Protection, Gradient, Mirrored, Riding Glasses Aviat...',\n",
       " 'UV Protection Round Sunglasses (48)',\n",
       " 'Riding Glasses, Night Vision Wrap-around Sunglasses (Fr...',\n",
       " 'UV Protection Aviator Sunglasses (55)',\n",
       " 'UV Protection, Riding Glasses Retro Square, Spectacle ...',\n",
       " 'UV Protection Butterfly Sunglasses (60)',\n",
       " 'Polarized Retro Square Sunglasses (Free Size)',\n",
       " 'Mirrored Aviator Sunglasses (Free Size)',\n",
       " 'UV Protection Aviator Sunglasses (Free Size)',\n",
       " 'UV Protection, Gradient Rectangular Sunglasses (Free Si...',\n",
       " 'Polarized Round Sunglasses (48)',\n",
       " 'UV Protection, Mirrored Retro Square Sunglasses (53)',\n",
       " 'UV Protection Over-sized Sunglasses (57)',\n",
       " 'UV Protection Clubmaster Sunglasses (Free Size)',\n",
       " 'UV Protection Rectangular Sunglasses (Free Size)',\n",
       " 'UV Protection Wayfarer Sunglasses (55)',\n",
       " 'UV Protection Aviator Sunglasses (88)',\n",
       " 'Mirrored Aviator Sunglasses (58)',\n",
       " 'Riding Glasses, UV Protection Oval Sunglasses (52)',\n",
       " 'Mirrored, UV Protection Aviator Sunglasses (56)',\n",
       " 'UV Protection Aviator Sunglasses (57)',\n",
       " 'Polarized Aviator Sunglasses (Free Size)',\n",
       " 'Mirrored, UV Protection, Gradient Round Sunglasses (55)']"
      ]
     },
     "execution_count": 69,
     "metadata": {},
     "output_type": "execute_result"
    }
   ],
   "source": [
    "productdess14=[]\n",
    "for i in productdes14:\n",
    "    productdess14.append(i.text)\n",
    "productdess14    "
   ]
  },
  {
   "cell_type": "code",
   "execution_count": 74,
   "id": "64cf9045",
   "metadata": {},
   "outputs": [
    {
     "data": {
      "text/plain": [
       "[<selenium.webdriver.remote.webelement.WebElement (session=\"cd4f40b9f6198f8468e9e07a89d4daa4\", element=\"06f3ce03-35de-46c4-8c94-145f860ffae7\")>,\n",
       " <selenium.webdriver.remote.webelement.WebElement (session=\"cd4f40b9f6198f8468e9e07a89d4daa4\", element=\"8f8ddfb6-2af1-466f-a1e4-84e586976db2\")>,\n",
       " <selenium.webdriver.remote.webelement.WebElement (session=\"cd4f40b9f6198f8468e9e07a89d4daa4\", element=\"be43db76-c47a-4d6b-9c02-bf06b19be830\")>,\n",
       " <selenium.webdriver.remote.webelement.WebElement (session=\"cd4f40b9f6198f8468e9e07a89d4daa4\", element=\"0c7fc32c-ee9c-4ea2-9cd9-371116892e43\")>,\n",
       " <selenium.webdriver.remote.webelement.WebElement (session=\"cd4f40b9f6198f8468e9e07a89d4daa4\", element=\"d1762959-ec4e-4eda-9c6b-a3044af36d50\")>]"
      ]
     },
     "execution_count": 74,
     "metadata": {},
     "output_type": "execute_result"
    }
   ],
   "source": [
    "price14=driver4.find_elements_by_xpath('//div[@class=\"_30jeq3\"]')\n",
    "price14[0:5]"
   ]
  },
  {
   "cell_type": "code",
   "execution_count": 75,
   "id": "6dbb96c6",
   "metadata": {},
   "outputs": [
    {
     "data": {
      "text/plain": [
       "['₹278',\n",
       " '₹125',\n",
       " '₹209',\n",
       " '₹108',\n",
       " '₹629',\n",
       " '₹183',\n",
       " '₹149',\n",
       " '₹170',\n",
       " '₹267',\n",
       " '₹180',\n",
       " '₹424',\n",
       " '₹424',\n",
       " '₹549',\n",
       " '₹226',\n",
       " '₹325',\n",
       " '₹149',\n",
       " '₹133',\n",
       " '₹159',\n",
       " '₹159',\n",
       " '₹226',\n",
       " '₹321',\n",
       " '₹325',\n",
       " '₹325',\n",
       " '₹548',\n",
       " '₹329',\n",
       " '₹249',\n",
       " '₹349',\n",
       " '₹115',\n",
       " '₹267',\n",
       " '₹929',\n",
       " '₹257',\n",
       " '₹130',\n",
       " '₹175',\n",
       " '₹192',\n",
       " '₹329',\n",
       " '₹127',\n",
       " '₹169',\n",
       " '₹234',\n",
       " '₹959',\n",
       " '₹139']"
      ]
     },
     "execution_count": 75,
     "metadata": {},
     "output_type": "execute_result"
    }
   ],
   "source": [
    "prices14=[]\n",
    "for i in price14:\n",
    "    prices14.append(i.text)\n",
    "prices14    "
   ]
  },
  {
   "cell_type": "code",
   "execution_count": 76,
   "id": "087d820a",
   "metadata": {},
   "outputs": [
    {
     "data": {
      "text/plain": [
       "[<selenium.webdriver.remote.webelement.WebElement (session=\"cd4f40b9f6198f8468e9e07a89d4daa4\", element=\"ea7f1010-a04c-485c-820f-1a6282d8b9d4\")>,\n",
       " <selenium.webdriver.remote.webelement.WebElement (session=\"cd4f40b9f6198f8468e9e07a89d4daa4\", element=\"e731d31b-f342-419a-a4e5-4b35ec72c016\")>,\n",
       " <selenium.webdriver.remote.webelement.WebElement (session=\"cd4f40b9f6198f8468e9e07a89d4daa4\", element=\"ed384568-52c3-4cdf-8083-b4f679150598\")>,\n",
       " <selenium.webdriver.remote.webelement.WebElement (session=\"cd4f40b9f6198f8468e9e07a89d4daa4\", element=\"3f545fd3-5bbd-4aab-b5c4-8f87cf3548e3\")>,\n",
       " <selenium.webdriver.remote.webelement.WebElement (session=\"cd4f40b9f6198f8468e9e07a89d4daa4\", element=\"35309eb6-1f33-4e85-990a-02edf7ddc98a\")>]"
      ]
     },
     "execution_count": 76,
     "metadata": {},
     "output_type": "execute_result"
    }
   ],
   "source": [
    "discount14=driver4.find_elements_by_xpath('//div[@class=\"_3Ay6Sb\"]')\n",
    "discount14[0:5]"
   ]
  },
  {
   "cell_type": "code",
   "execution_count": 77,
   "id": "6b7650b9",
   "metadata": {},
   "outputs": [
    {
     "data": {
      "text/plain": [
       "['86% off',\n",
       " '74% off',\n",
       " '87% off',\n",
       " '91% off',\n",
       " '21% off',\n",
       " '87% off',\n",
       " '70% off',\n",
       " '82% off',\n",
       " '86% off',\n",
       " '86% off',\n",
       " '80% off',\n",
       " '71% off',\n",
       " '31% off',\n",
       " '86% off',\n",
       " '87% off',\n",
       " '90% off',\n",
       " '91% off',\n",
       " '84% off',\n",
       " '80% off',\n",
       " '90% off',\n",
       " '83% off',\n",
       " '74% off',\n",
       " '87% off',\n",
       " '31% off',\n",
       " '78% off',\n",
       " '84% off',\n",
       " '82% off',\n",
       " '76% off',\n",
       " '86% off',\n",
       " '62% off',\n",
       " '87% off',\n",
       " '88% off',\n",
       " '89% off',\n",
       " '83% off',\n",
       " '78% off',\n",
       " '90% off',\n",
       " '86% off',\n",
       " '88% off',\n",
       " '20% off',\n",
       " '90% off']"
      ]
     },
     "execution_count": 77,
     "metadata": {},
     "output_type": "execute_result"
    }
   ],
   "source": [
    "discounts14=[]\n",
    "for i in discount14:\n",
    "    discounts14.append(i.text)\n",
    "discounts14    "
   ]
  },
  {
   "cell_type": "code",
   "execution_count": 81,
   "id": "4ecaf3e0",
   "metadata": {},
   "outputs": [
    {
     "data": {
      "text/plain": [
       "<selenium.webdriver.remote.webelement.WebElement (session=\"cd4f40b9f6198f8468e9e07a89d4daa4\", element=\"f8b1b119-2d81-441a-ae6c-ad1676be732c\")>"
      ]
     },
     "execution_count": 81,
     "metadata": {},
     "output_type": "execute_result"
    }
   ],
   "source": [
    "next24=driver4.find_element_by_xpath('/html/body/div[1]/div/div[3]/div[1]/div[2]/div[12]/div/div/nav/a[3]')\n",
    "next24"
   ]
  },
  {
   "cell_type": "code",
   "execution_count": 82,
   "id": "4152b4ea",
   "metadata": {},
   "outputs": [],
   "source": [
    "next24.click()"
   ]
  },
  {
   "cell_type": "code",
   "execution_count": 83,
   "id": "984106e0",
   "metadata": {},
   "outputs": [
    {
     "data": {
      "text/plain": [
       "[<selenium.webdriver.remote.webelement.WebElement (session=\"cd4f40b9f6198f8468e9e07a89d4daa4\", element=\"e142a450-b83e-4f6d-a664-777e8b57b393\")>,\n",
       " <selenium.webdriver.remote.webelement.WebElement (session=\"cd4f40b9f6198f8468e9e07a89d4daa4\", element=\"2231ed95-c527-4469-93c2-be6327640a1f\")>,\n",
       " <selenium.webdriver.remote.webelement.WebElement (session=\"cd4f40b9f6198f8468e9e07a89d4daa4\", element=\"6de01b2d-d4d3-4dae-ae5a-7621ced2fed4\")>,\n",
       " <selenium.webdriver.remote.webelement.WebElement (session=\"cd4f40b9f6198f8468e9e07a89d4daa4\", element=\"5d489879-3e5b-4913-924e-4e9fcb0384ef\")>,\n",
       " <selenium.webdriver.remote.webelement.WebElement (session=\"cd4f40b9f6198f8468e9e07a89d4daa4\", element=\"95a298ad-6722-46cb-b364-8bf9725bc54a\")>]"
      ]
     },
     "execution_count": 83,
     "metadata": {},
     "output_type": "execute_result"
    }
   ],
   "source": [
    "brand24=driver4.find_elements_by_xpath('//div[@class=\"_2WkVRV\"]')\n",
    "brand24[0:5]"
   ]
  },
  {
   "cell_type": "code",
   "execution_count": 93,
   "id": "95658fc3",
   "metadata": {},
   "outputs": [
    {
     "data": {
      "text/plain": [
       "['ROYAL SON',\n",
       " 'IDEE',\n",
       " 'povty',\n",
       " 'VINCENT CHASE',\n",
       " 'DEIXELS',\n",
       " 'Lee Topper',\n",
       " 'Fastrack',\n",
       " 'New Specs',\n",
       " 'NuVew',\n",
       " 'kingsunglasses',\n",
       " 'kingsunglasses',\n",
       " 'Fastrack',\n",
       " 'IDEE',\n",
       " 'Fravy',\n",
       " 'Elligator',\n",
       " 'ROYAL SON',\n",
       " 'ROYAL SON',\n",
       " 'Silver Kartz',\n",
       " 'ROZZETTA CRAFT',\n",
       " 'ROYAL SON']"
      ]
     },
     "execution_count": 93,
     "metadata": {},
     "output_type": "execute_result"
    }
   ],
   "source": [
    "brands24=[]\n",
    "for i in brand24:\n",
    "    brands24.append(i.text)\n",
    "brands24[0:20]   "
   ]
  },
  {
   "cell_type": "code",
   "execution_count": 85,
   "id": "fbf5b370",
   "metadata": {},
   "outputs": [
    {
     "data": {
      "text/plain": [
       "[<selenium.webdriver.remote.webelement.WebElement (session=\"cd4f40b9f6198f8468e9e07a89d4daa4\", element=\"603dcc69-9421-4172-afb4-6881a080db77\")>,\n",
       " <selenium.webdriver.remote.webelement.WebElement (session=\"cd4f40b9f6198f8468e9e07a89d4daa4\", element=\"b877ad95-1d16-4816-b0cf-908ec0256600\")>,\n",
       " <selenium.webdriver.remote.webelement.WebElement (session=\"cd4f40b9f6198f8468e9e07a89d4daa4\", element=\"4ec6f94a-6147-4e55-aab6-0410fc659aed\")>,\n",
       " <selenium.webdriver.remote.webelement.WebElement (session=\"cd4f40b9f6198f8468e9e07a89d4daa4\", element=\"d99cb8a1-d6b1-4be6-83d2-e8c008c42c04\")>,\n",
       " <selenium.webdriver.remote.webelement.WebElement (session=\"cd4f40b9f6198f8468e9e07a89d4daa4\", element=\"d5475832-4a01-49c9-93d3-edff8edcb89f\")>]"
      ]
     },
     "execution_count": 85,
     "metadata": {},
     "output_type": "execute_result"
    }
   ],
   "source": [
    "productdes24=driver4.find_elements_by_xpath('//a[@class=\"IRpwTa\"]')\n",
    "productdes24[0:5]"
   ]
  },
  {
   "cell_type": "code",
   "execution_count": 94,
   "id": "bd82588f",
   "metadata": {},
   "outputs": [
    {
     "data": {
      "text/plain": [
       "['UV Protection Retro Square Sunglasses (58)',\n",
       " 'UV Protection Rectangular Sunglasses (59)',\n",
       " 'UV Protection Retro Square Sunglasses (Free Size)',\n",
       " 'by Lenskart Polarized, UV Protection Wayfarer Sunglasse...',\n",
       " 'Polarized, UV Protection, Riding Glasses Wayfarer Sungl...',\n",
       " 'UV Protection Cat-eye Sunglasses (Free Size)',\n",
       " 'UV Protection Shield Sunglasses (Free Size)',\n",
       " 'UV Protection Rectangular Sunglasses (Free Size)',\n",
       " 'UV Protection Sports Sunglasses (62)',\n",
       " 'UV Protection, Mirrored Wayfarer Sunglasses (Free Size)',\n",
       " 'UV Protection Rectangular Sunglasses (55)',\n",
       " 'Gradient, UV Protection Wayfarer Sunglasses (Free Size)',\n",
       " 'UV Protection Cat-eye Sunglasses (17)',\n",
       " 'UV Protection, Gradient, Night Vision Retro Square Sung...',\n",
       " 'Mirrored Round Sunglasses (53)',\n",
       " 'Polarized Rectangular Sunglasses (60)',\n",
       " 'UV Protection Round Sunglasses (50)',\n",
       " 'UV Protection Oval Sunglasses (56)',\n",
       " 'UV Protection Aviator Sunglasses (62)',\n",
       " 'Polarized, UV Protection Wayfarer, Retro Square Sunglas...']"
      ]
     },
     "execution_count": 94,
     "metadata": {},
     "output_type": "execute_result"
    }
   ],
   "source": [
    "productdess24=[]\n",
    "for i in productdes24:\n",
    "    productdess24.append(i.text)\n",
    "productdess24[0:20]"
   ]
  },
  {
   "cell_type": "code",
   "execution_count": 87,
   "id": "3fa88930",
   "metadata": {},
   "outputs": [
    {
     "data": {
      "text/plain": [
       "[<selenium.webdriver.remote.webelement.WebElement (session=\"cd4f40b9f6198f8468e9e07a89d4daa4\", element=\"96b66018-cb4d-4973-8e93-3e8ca65ff373\")>,\n",
       " <selenium.webdriver.remote.webelement.WebElement (session=\"cd4f40b9f6198f8468e9e07a89d4daa4\", element=\"862afae6-8526-4ed5-abb9-3becc1f31f84\")>,\n",
       " <selenium.webdriver.remote.webelement.WebElement (session=\"cd4f40b9f6198f8468e9e07a89d4daa4\", element=\"ada60fa3-40bb-4d67-8cda-f05ebcd71bc2\")>,\n",
       " <selenium.webdriver.remote.webelement.WebElement (session=\"cd4f40b9f6198f8468e9e07a89d4daa4\", element=\"766801a5-dda6-4408-a9b5-215cf38d49d7\")>,\n",
       " <selenium.webdriver.remote.webelement.WebElement (session=\"cd4f40b9f6198f8468e9e07a89d4daa4\", element=\"ef3ffd8f-91a7-4974-9767-d840642d3229\")>]"
      ]
     },
     "execution_count": 87,
     "metadata": {},
     "output_type": "execute_result"
    }
   ],
   "source": [
    "price24=driver4.find_elements_by_xpath('//div[@class=\"_30jeq3\"]')\n",
    "price24[0:5]"
   ]
  },
  {
   "cell_type": "code",
   "execution_count": 92,
   "id": "48a0157f",
   "metadata": {},
   "outputs": [
    {
     "data": {
      "text/plain": [
       "['₹424',\n",
       " '₹929',\n",
       " '₹249',\n",
       " '₹749',\n",
       " '₹186',\n",
       " '₹231',\n",
       " '₹649',\n",
       " '₹113',\n",
       " '₹277',\n",
       " '₹111',\n",
       " '₹113',\n",
       " '₹649',\n",
       " '₹869',\n",
       " '₹170',\n",
       " '₹229',\n",
       " '₹614',\n",
       " '₹329',\n",
       " '₹219',\n",
       " '₹599',\n",
       " '₹614']"
      ]
     },
     "execution_count": 92,
     "metadata": {},
     "output_type": "execute_result"
    }
   ],
   "source": [
    "prices24=[]\n",
    "for i in price24:\n",
    "    prices24.append(i.text)\n",
    "prices24[0:20]"
   ]
  },
  {
   "cell_type": "code",
   "execution_count": 89,
   "id": "401d7784",
   "metadata": {},
   "outputs": [
    {
     "data": {
      "text/plain": [
       "[<selenium.webdriver.remote.webelement.WebElement (session=\"cd4f40b9f6198f8468e9e07a89d4daa4\", element=\"db0106c5-1ca1-45ca-a82e-0d18359a916e\")>,\n",
       " <selenium.webdriver.remote.webelement.WebElement (session=\"cd4f40b9f6198f8468e9e07a89d4daa4\", element=\"facb1ebc-1971-416c-8b9f-9e260465fb4f\")>,\n",
       " <selenium.webdriver.remote.webelement.WebElement (session=\"cd4f40b9f6198f8468e9e07a89d4daa4\", element=\"1cc430e0-4833-467e-af87-1667f2641e74\")>,\n",
       " <selenium.webdriver.remote.webelement.WebElement (session=\"cd4f40b9f6198f8468e9e07a89d4daa4\", element=\"e77e32bd-3b9a-4f78-8f2f-fd7fa515f041\")>,\n",
       " <selenium.webdriver.remote.webelement.WebElement (session=\"cd4f40b9f6198f8468e9e07a89d4daa4\", element=\"478abc20-2fe6-47f2-97d4-651aba24605f\")>]"
      ]
     },
     "execution_count": 89,
     "metadata": {},
     "output_type": "execute_result"
    }
   ],
   "source": [
    "discount24=driver4.find_elements_by_xpath('//div[@class=\"_3Ay6Sb\"]')\n",
    "discount24[0:5]"
   ]
  },
  {
   "cell_type": "code",
   "execution_count": 91,
   "id": "2966606f",
   "metadata": {},
   "outputs": [
    {
     "data": {
      "text/plain": [
       "['71% off',\n",
       " '62% off',\n",
       " '75% off',\n",
       " '70% off',\n",
       " '68% off',\n",
       " '82% off',\n",
       " '27% off',\n",
       " '92% off',\n",
       " '77% off',\n",
       " '88% off',\n",
       " '91% off',\n",
       " '35% off',\n",
       " '61% off',\n",
       " '91% off',\n",
       " '90% off',\n",
       " '69% off',\n",
       " '78% off',\n",
       " '81% off',\n",
       " '76% off',\n",
       " '69% off']"
      ]
     },
     "execution_count": 91,
     "metadata": {},
     "output_type": "execute_result"
    }
   ],
   "source": [
    "discounts24=[]\n",
    "for i in discount24:\n",
    "    discounts24.append(i.text)\n",
    "discounts24[0:20]"
   ]
  },
  {
   "cell_type": "markdown",
   "id": "6b78e78a",
   "metadata": {},
   "source": [
    "ans5)"
   ]
  },
  {
   "cell_type": "code",
   "execution_count": 2,
   "id": "c5eeb040",
   "metadata": {},
   "outputs": [
    {
     "data": {
      "text/plain": [
       "<selenium.webdriver.chrome.webdriver.WebDriver (session=\"a04a61f50dbd31a97285f6b2a4888edb\")>"
      ]
     },
     "execution_count": 2,
     "metadata": {},
     "output_type": "execute_result"
    }
   ],
   "source": [
    "driver5=webdriver.Chrome('chromedriver.exe')\n",
    "driver5"
   ]
  },
  {
   "cell_type": "code",
   "execution_count": 3,
   "id": "6371a56f",
   "metadata": {},
   "outputs": [],
   "source": [
    "url5=('https://www.flipkart.com/apple-iphone-11-black-64-gb-includes- earpods-power\u0002adapter/p/itm0f37c2240b217?pid=MOBFKCTSVZAXUHGR&lid=LSTMOBFKCTSVZAXUHGREPBFGI&marketplace')\n",
    "driver5.get(url5)"
   ]
  },
  {
   "cell_type": "code",
   "execution_count": 4,
   "id": "7c8c40b4",
   "metadata": {},
   "outputs": [
    {
     "data": {
      "text/plain": [
       "<selenium.webdriver.remote.webelement.WebElement (session=\"a04a61f50dbd31a97285f6b2a4888edb\", element=\"af7063a5-9d28-48d4-a4f2-212f1b6628e4\")>"
      ]
     },
     "execution_count": 4,
     "metadata": {},
     "output_type": "execute_result"
    }
   ],
   "source": [
    "searchreview=driver5.find_element_by_xpath('/html/body/div[1]/div/div[3]/div[1]/div[2]/div[8]/div/div/div[5]/div/a/div/span')\n",
    "searchreview"
   ]
  },
  {
   "cell_type": "code",
   "execution_count": 5,
   "id": "ebe7b093",
   "metadata": {},
   "outputs": [],
   "source": [
    "searchreview.click()"
   ]
  },
  {
   "cell_type": "markdown",
   "id": "4240ab2b",
   "metadata": {},
   "source": [
    "i tried a lot to understand how to solve this question but i am not able to solve this question as the issue which i faced in this question is that for scraping the data such as Rating,Review summary,Full review,was able to scrap but this task for every single attribute to be done for 10 times as in first page ,the each attributes is giving only 10 data .so to get 100 data means i have to perform the web scraping selenium technique for each attribute 10 times as it is a lengthy process .i asked for shortcut by raising ticket and as usually the teacher said use range function and she also told the process how to do but not shown the code cell how to write just verbally she told the process but i tried a lot to do but didnt helped with this issue so atlast i told the teacher that please give me the written format syntax of code cell to perform the task ,she told no i cant provide as first tell me how you are approaching with this question. i told her about it but till now there is no reply with regard to it.so atlast i am uploading my question without doing it ."
   ]
  },
  {
   "cell_type": "markdown",
   "id": "f8bcc775",
   "metadata": {},
   "source": [
    "ans6)"
   ]
  },
  {
   "cell_type": "code",
   "execution_count": 104,
   "id": "fcf27bb4",
   "metadata": {},
   "outputs": [
    {
     "data": {
      "text/plain": [
       "<selenium.webdriver.chrome.webdriver.WebDriver (session=\"89ffc44e8894508f360f04a89ad294d7\")>"
      ]
     },
     "execution_count": 104,
     "metadata": {},
     "output_type": "execute_result"
    }
   ],
   "source": [
    "driver6=webdriver.Chrome('chromedriver.exe')\n",
    "driver6"
   ]
  },
  {
   "cell_type": "code",
   "execution_count": 105,
   "id": "c4f8fa7e",
   "metadata": {},
   "outputs": [],
   "source": [
    "url6=('https://www.flipkart.com/')\n",
    "driver6.get(url6)"
   ]
  },
  {
   "cell_type": "code",
   "execution_count": 106,
   "id": "067a733b",
   "metadata": {},
   "outputs": [
    {
     "data": {
      "text/plain": [
       "<selenium.webdriver.remote.webelement.WebElement (session=\"89ffc44e8894508f360f04a89ad294d7\", element=\"8ec8f015-6354-4228-a54a-488bb985f572\")>"
      ]
     },
     "execution_count": 106,
     "metadata": {},
     "output_type": "execute_result"
    }
   ],
   "source": [
    "search6=driver6.find_element_by_xpath('/html/body/div[1]/div/div[1]/div[1]/div[2]/div[2]/form/div/div/input')\n",
    "search6"
   ]
  },
  {
   "cell_type": "code",
   "execution_count": 107,
   "id": "792807d7",
   "metadata": {},
   "outputs": [],
   "source": [
    "search6.send_keys('Sneakers')"
   ]
  },
  {
   "cell_type": "code",
   "execution_count": 108,
   "id": "5d9534c4",
   "metadata": {},
   "outputs": [
    {
     "data": {
      "text/plain": [
       "<selenium.webdriver.remote.webelement.WebElement (session=\"89ffc44e8894508f360f04a89ad294d7\", element=\"31e511de-8c81-4de7-9803-007690a34c0e\")>"
      ]
     },
     "execution_count": 108,
     "metadata": {},
     "output_type": "execute_result"
    }
   ],
   "source": [
    "searchbt6=driver6.find_element_by_xpath('/html/body/div[1]/div/div[1]/div[1]/div[2]/div[2]/form/div/button')\n",
    "searchbt6"
   ]
  },
  {
   "cell_type": "code",
   "execution_count": 109,
   "id": "40f5c97b",
   "metadata": {},
   "outputs": [],
   "source": [
    "searchbt6.click()"
   ]
  },
  {
   "cell_type": "code",
   "execution_count": 114,
   "id": "66c4cecb",
   "metadata": {},
   "outputs": [
    {
     "data": {
      "text/plain": [
       "[<selenium.webdriver.remote.webelement.WebElement (session=\"89ffc44e8894508f360f04a89ad294d7\", element=\"7e71b941-b05d-44dc-be9f-2dfe67db4e15\")>,\n",
       " <selenium.webdriver.remote.webelement.WebElement (session=\"89ffc44e8894508f360f04a89ad294d7\", element=\"7704c70d-7f00-444e-8a5a-5a0b2c788437\")>,\n",
       " <selenium.webdriver.remote.webelement.WebElement (session=\"89ffc44e8894508f360f04a89ad294d7\", element=\"4b0af487-e797-4a2e-b260-badc4b2aa2e9\")>,\n",
       " <selenium.webdriver.remote.webelement.WebElement (session=\"89ffc44e8894508f360f04a89ad294d7\", element=\"68092c51-cb22-4b18-b062-5b1ca1aa5431\")>,\n",
       " <selenium.webdriver.remote.webelement.WebElement (session=\"89ffc44e8894508f360f04a89ad294d7\", element=\"d8e6c602-f09a-4043-8a29-b1f656f11149\")>]"
      ]
     },
     "execution_count": 114,
     "metadata": {},
     "output_type": "execute_result"
    }
   ],
   "source": [
    "brand6=driver6.find_elements_by_xpath('//div[@class=\"_2WkVRV\"]')\n",
    "brand6[0:5]"
   ]
  },
  {
   "cell_type": "code",
   "execution_count": 115,
   "id": "e4c495e3",
   "metadata": {},
   "outputs": [
    {
     "data": {
      "text/plain": [
       "['RapidBox',\n",
       " 'aadi',\n",
       " 'Kzaara',\n",
       " 'Chevit',\n",
       " 'BRUTON',\n",
       " 'URBANBOX',\n",
       " 'World Wear Footwear',\n",
       " 'BRUTON',\n",
       " 'BRUTON',\n",
       " 'KWIK FIT',\n",
       " 'luxury fashion',\n",
       " 'Harway',\n",
       " 'corsac',\n",
       " 'World Wear Footwear',\n",
       " 'Kraasa',\n",
       " 'SHANE Internation',\n",
       " 'D-SNEAKERZ',\n",
       " 'Magnolia',\n",
       " 'Shoes Bank',\n",
       " 'Zixer',\n",
       " 'SWIGGY',\n",
       " 'Elevarse',\n",
       " 'BRUTON',\n",
       " 'BRUTON',\n",
       " 'BRUTON',\n",
       " 'Rzisbo',\n",
       " 'Labbin',\n",
       " 'aadi',\n",
       " 'India hub',\n",
       " 'aadi',\n",
       " 'Vellinto',\n",
       " 'CLYMB',\n",
       " 'Kraasa',\n",
       " 'BRUTON',\n",
       " 'CLYMB',\n",
       " 'BIRDE',\n",
       " 'SCATCHITE',\n",
       " 'Zsyto',\n",
       " 'Xtoon',\n",
       " 'Red Rose']"
      ]
     },
     "execution_count": 115,
     "metadata": {},
     "output_type": "execute_result"
    }
   ],
   "source": [
    "brands6=[]\n",
    "for i in brand6:\n",
    "    brands6.append(i.text)\n",
    "brands6    "
   ]
  },
  {
   "cell_type": "code",
   "execution_count": 116,
   "id": "3c5e50c8",
   "metadata": {},
   "outputs": [
    {
     "data": {
      "text/plain": [
       "[<selenium.webdriver.remote.webelement.WebElement (session=\"89ffc44e8894508f360f04a89ad294d7\", element=\"fb0ce547-088b-49e8-a102-be3f2c80ee2e\")>,\n",
       " <selenium.webdriver.remote.webelement.WebElement (session=\"89ffc44e8894508f360f04a89ad294d7\", element=\"7074413f-2786-4cc7-b0e3-2032a652c11e\")>,\n",
       " <selenium.webdriver.remote.webelement.WebElement (session=\"89ffc44e8894508f360f04a89ad294d7\", element=\"885c3f74-847e-4e77-81c2-d6b8ba9baeeb\")>,\n",
       " <selenium.webdriver.remote.webelement.WebElement (session=\"89ffc44e8894508f360f04a89ad294d7\", element=\"4848156a-753a-4603-b9cd-0bffb5729405\")>,\n",
       " <selenium.webdriver.remote.webelement.WebElement (session=\"89ffc44e8894508f360f04a89ad294d7\", element=\"7cef4eda-777b-4b2e-b9ca-86847778bf20\")>]"
      ]
     },
     "execution_count": 116,
     "metadata": {},
     "output_type": "execute_result"
    }
   ],
   "source": [
    "desc=driver6.find_elements_by_xpath('//a[@class=\"IRpwTa _2-ICcC\"]')\n",
    "desc[0:5]"
   ]
  },
  {
   "cell_type": "code",
   "execution_count": 117,
   "id": "bef07d80",
   "metadata": {},
   "outputs": [
    {
     "data": {
      "text/plain": [
       "['Sneakers For Men',\n",
       " 'Sneakers For Men',\n",
       " 'Sneakers Sneakers For Men',\n",
       " 'Sneakers For Men',\n",
       " 'STYLISH MENS BLACK AND WHITE SNEAKER Sneakers For Men',\n",
       " 'Sneakers For Men',\n",
       " \"Men's Streetwear Pro Style High Top Platform Fashion Sn...\",\n",
       " 'Sneakers For Men',\n",
       " 'Sneakers For Men']"
      ]
     },
     "execution_count": 117,
     "metadata": {},
     "output_type": "execute_result"
    }
   ],
   "source": [
    "descs=[]\n",
    "for i in desc:\n",
    "    descs.append(i.text)\n",
    "descs    "
   ]
  },
  {
   "cell_type": "code",
   "execution_count": 132,
   "id": "e201d5e7",
   "metadata": {},
   "outputs": [
    {
     "data": {
      "text/plain": [
       "[<selenium.webdriver.remote.webelement.WebElement (session=\"89ffc44e8894508f360f04a89ad294d7\", element=\"4cc9d993-795b-436c-ba6b-7b573cdcdb4c\")>,\n",
       " <selenium.webdriver.remote.webelement.WebElement (session=\"89ffc44e8894508f360f04a89ad294d7\", element=\"c383ba14-749e-4994-b9e7-bc57fbf79ff3\")>,\n",
       " <selenium.webdriver.remote.webelement.WebElement (session=\"89ffc44e8894508f360f04a89ad294d7\", element=\"4763dabf-82f5-493c-8eb4-f2f9313662ff\")>,\n",
       " <selenium.webdriver.remote.webelement.WebElement (session=\"89ffc44e8894508f360f04a89ad294d7\", element=\"000ac742-19ac-4963-bb90-32d0432ed448\")>,\n",
       " <selenium.webdriver.remote.webelement.WebElement (session=\"89ffc44e8894508f360f04a89ad294d7\", element=\"1bb48ea0-dbfc-4f8b-8483-299b9f04006d\")>]"
      ]
     },
     "execution_count": 132,
     "metadata": {},
     "output_type": "execute_result"
    }
   ],
   "source": [
    "desc1=driver6.find_elements_by_xpath('//a[@class=\"IRpwTa\"]')\n",
    "desc1[0:5]"
   ]
  },
  {
   "cell_type": "code",
   "execution_count": 133,
   "id": "831e6386",
   "metadata": {},
   "outputs": [
    {
     "data": {
      "text/plain": [
       "['Combo Pack Of 3 Latest Casual Shoes Sneakers For Men',\n",
       " 'Sneakers For Men',\n",
       " 'Super Stylish & Trendy Combo Pack of 02 Pairs Sneakers ...',\n",
       " 'Modern Trendy Sneakers Shoes Sneakers For Men',\n",
       " '5011-Latest Collection Stylish Casual Loafer Sneakers S...',\n",
       " 'Sneaker Sneakers For Men',\n",
       " 'Kwik FIT casual sneaker shoes and partywear shoes Casua...',\n",
       " 'Combo Pack Of 3 Loafer Shoes Sneakers For Men',\n",
       " 'Luxury Fashionable casual shoes Sneakers For Men',\n",
       " 'Sneakers For Men',\n",
       " 'Series 7 Sneakers For Men',\n",
       " 'Sneakers For Men',\n",
       " \"Casual , Partywear Sneakers Shoes For Men's And Boys Wh...\",\n",
       " \"White Sneaker For Men's/Boy's Sneakers For Men\",\n",
       " 'Stylish Comfortable Lightweight, Breathable Casual Shoe...',\n",
       " 'casual sneakers shoes For Mens Multicolor Combo(MR)-179...',\n",
       " 'Sneakers For Men',\n",
       " 'Modern & Trendy Collection Combo Pack of 02 Shoes for M...',\n",
       " 'Sneakers For Men',\n",
       " 'Combo Pack Of 4 Casual Shoes Loafer Shoes Sneakers For ...',\n",
       " 'Sneakers For Men',\n",
       " 'Sneakers For Men',\n",
       " 'Casual Shoes , Snekers Shoes,Lace-Up PVC Shoes For Men ...',\n",
       " 'Luxury Fashionable casual sneaker shoes Sneakers For Me...',\n",
       " 'Sneakers For Men',\n",
       " 'Casual Sneakrs For Men Sneakers For Men',\n",
       " 'Casual Loafers, Sneakers Shoes for Men Pack of 5 Combo(...',\n",
       " 'Shark-41 Sneakers For Men',\n",
       " 'Lattest Sneakers Shoe Sneakers For Men',\n",
       " 'Sneakers For Men',\n",
       " 'Combo pack of 2 casual sneaker shoes for men Sneakers F...',\n",
       " 'Sneakers For Men',\n",
       " \"white Casual shoes,Sneakers for men's Sneakers For Men\"]"
      ]
     },
     "execution_count": 133,
     "metadata": {},
     "output_type": "execute_result"
    }
   ],
   "source": [
    "descs1=[]\n",
    "for i in desc1:\n",
    "    descs1.append(i.text)\n",
    "descs1    "
   ]
  },
  {
   "cell_type": "code",
   "execution_count": 118,
   "id": "e749703d",
   "metadata": {},
   "outputs": [
    {
     "data": {
      "text/plain": [
       "[<selenium.webdriver.remote.webelement.WebElement (session=\"89ffc44e8894508f360f04a89ad294d7\", element=\"e514bfd3-1368-40d0-b92a-fcf9a1c66744\")>,\n",
       " <selenium.webdriver.remote.webelement.WebElement (session=\"89ffc44e8894508f360f04a89ad294d7\", element=\"7f015935-c561-470a-a27e-10324abc6c25\")>,\n",
       " <selenium.webdriver.remote.webelement.WebElement (session=\"89ffc44e8894508f360f04a89ad294d7\", element=\"ae5e295e-956e-4476-b81b-4550af6eb55c\")>,\n",
       " <selenium.webdriver.remote.webelement.WebElement (session=\"89ffc44e8894508f360f04a89ad294d7\", element=\"138b0dc8-8f3d-4860-946d-9eb2b0901931\")>,\n",
       " <selenium.webdriver.remote.webelement.WebElement (session=\"89ffc44e8894508f360f04a89ad294d7\", element=\"64e0349b-3a62-479e-99d6-485df087b046\")>]"
      ]
     },
     "execution_count": 118,
     "metadata": {},
     "output_type": "execute_result"
    }
   ],
   "source": [
    "price6=driver6.find_elements_by_xpath('//div[@class=\"_30jeq3\"]')\n",
    "price6[0:5]"
   ]
  },
  {
   "cell_type": "code",
   "execution_count": 119,
   "id": "04d648bc",
   "metadata": {},
   "outputs": [
    {
     "data": {
      "text/plain": [
       "['₹590',\n",
       " '₹249',\n",
       " '₹209',\n",
       " '₹469',\n",
       " '₹209',\n",
       " '₹197',\n",
       " '₹149',\n",
       " '₹397',\n",
       " '₹249',\n",
       " '₹349',\n",
       " '₹357',\n",
       " '₹330',\n",
       " '₹449',\n",
       " '₹190',\n",
       " '₹394',\n",
       " '₹4,249',\n",
       " '₹249',\n",
       " '₹327',\n",
       " '₹248',\n",
       " '₹549',\n",
       " '₹485',\n",
       " '₹349',\n",
       " '₹421',\n",
       " '₹421',\n",
       " '₹449',\n",
       " '₹499',\n",
       " '₹424',\n",
       " '₹349',\n",
       " '₹349',\n",
       " '₹269',\n",
       " '₹549',\n",
       " '₹199',\n",
       " '₹394',\n",
       " '₹249',\n",
       " '₹534',\n",
       " '₹370',\n",
       " '₹348',\n",
       " '₹261',\n",
       " '₹429',\n",
       " '₹424']"
      ]
     },
     "execution_count": 119,
     "metadata": {},
     "output_type": "execute_result"
    }
   ],
   "source": [
    "prices6=[]\n",
    "for i in price6:\n",
    "    prices6.append(i.text)\n",
    "prices6      "
   ]
  },
  {
   "cell_type": "code",
   "execution_count": 120,
   "id": "fe88945b",
   "metadata": {},
   "outputs": [
    {
     "data": {
      "text/plain": [
       "[<selenium.webdriver.remote.webelement.WebElement (session=\"89ffc44e8894508f360f04a89ad294d7\", element=\"2ada8374-7876-45a6-bf31-c7966038ee72\")>,\n",
       " <selenium.webdriver.remote.webelement.WebElement (session=\"89ffc44e8894508f360f04a89ad294d7\", element=\"b9d5c5f2-46f4-4e30-885b-dba1e1f29d2b\")>,\n",
       " <selenium.webdriver.remote.webelement.WebElement (session=\"89ffc44e8894508f360f04a89ad294d7\", element=\"47aea3d0-42e4-4a21-ac35-97fb21cf4aef\")>,\n",
       " <selenium.webdriver.remote.webelement.WebElement (session=\"89ffc44e8894508f360f04a89ad294d7\", element=\"a07e0360-ff9e-487c-b6af-5dcf03e27e0b\")>,\n",
       " <selenium.webdriver.remote.webelement.WebElement (session=\"89ffc44e8894508f360f04a89ad294d7\", element=\"83287f21-cdbe-4da0-a3d2-d581ef0a9cc4\")>]"
      ]
     },
     "execution_count": 120,
     "metadata": {},
     "output_type": "execute_result"
    }
   ],
   "source": [
    "dis=driver6.find_elements_by_xpath('//div[@class=\"_3Ay6Sb\"]')\n",
    "dis[0:5]"
   ]
  },
  {
   "cell_type": "code",
   "execution_count": 121,
   "id": "b52bb185",
   "metadata": {},
   "outputs": [
    {
     "data": {
      "text/plain": [
       "['40% off',\n",
       " '75% off',\n",
       " '79% off',\n",
       " '70% off',\n",
       " '83% off',\n",
       " '80% off',\n",
       " '70% off',\n",
       " '86% off',\n",
       " '80% off',\n",
       " '82% off',\n",
       " '72% off',\n",
       " '66% off',\n",
       " '70% off',\n",
       " '61% off',\n",
       " '60% off',\n",
       " '46% off',\n",
       " '62% off',\n",
       " '67% off',\n",
       " '75% off',\n",
       " '72% off',\n",
       " '51% off',\n",
       " '65% off',\n",
       " '83% off',\n",
       " '85% off',\n",
       " '87% off',\n",
       " '50% off',\n",
       " '57% off',\n",
       " '65% off',\n",
       " '82% off',\n",
       " '73% off',\n",
       " '57% off',\n",
       " '80% off',\n",
       " '60% off',\n",
       " '80% off',\n",
       " '64% off',\n",
       " '62% off',\n",
       " '65% off',\n",
       " '79% off',\n",
       " '71% off',\n",
       " '15% off']"
      ]
     },
     "execution_count": 121,
     "metadata": {},
     "output_type": "execute_result"
    }
   ],
   "source": [
    "diss=[]\n",
    "for i in dis:\n",
    "    diss.append(i.text)\n",
    "diss    "
   ]
  },
  {
   "cell_type": "code",
   "execution_count": 122,
   "id": "b8e3bf69",
   "metadata": {},
   "outputs": [
    {
     "data": {
      "text/plain": [
       "<selenium.webdriver.remote.webelement.WebElement (session=\"89ffc44e8894508f360f04a89ad294d7\", element=\"290f5d9c-e2b3-400c-8905-8d63962b0671\")>"
      ]
     },
     "execution_count": 122,
     "metadata": {},
     "output_type": "execute_result"
    }
   ],
   "source": [
    "next6=driver6.find_element_by_xpath('/html/body/div[1]/div/div[3]/div[1]/div[2]/div[12]/div/div/nav/a[2]')\n",
    "next6"
   ]
  },
  {
   "cell_type": "code",
   "execution_count": 123,
   "id": "b36b2f54",
   "metadata": {},
   "outputs": [],
   "source": [
    "next6.click()"
   ]
  },
  {
   "cell_type": "code",
   "execution_count": 124,
   "id": "ab42f87f",
   "metadata": {},
   "outputs": [
    {
     "data": {
      "text/plain": [
       "[<selenium.webdriver.remote.webelement.WebElement (session=\"89ffc44e8894508f360f04a89ad294d7\", element=\"33565d3f-9df6-4f91-be7b-bbbfc48329b2\")>,\n",
       " <selenium.webdriver.remote.webelement.WebElement (session=\"89ffc44e8894508f360f04a89ad294d7\", element=\"57e4395d-db42-40eb-a3b5-ce9e5507c5a2\")>,\n",
       " <selenium.webdriver.remote.webelement.WebElement (session=\"89ffc44e8894508f360f04a89ad294d7\", element=\"ea07a272-3f35-4d5f-b48a-077de1d81d38\")>,\n",
       " <selenium.webdriver.remote.webelement.WebElement (session=\"89ffc44e8894508f360f04a89ad294d7\", element=\"6ee0bdc1-fe73-4ad4-990b-59c8664e5664\")>,\n",
       " <selenium.webdriver.remote.webelement.WebElement (session=\"89ffc44e8894508f360f04a89ad294d7\", element=\"5474161f-3e27-4da9-93a8-9129010d42a2\")>]"
      ]
     },
     "execution_count": 124,
     "metadata": {},
     "output_type": "execute_result"
    }
   ],
   "source": [
    "brand6=driver6.find_elements_by_xpath('//div[@class=\"_2WkVRV\"]')\n",
    "brand6[0:5]"
   ]
  },
  {
   "cell_type": "code",
   "execution_count": 125,
   "id": "bd7436e7",
   "metadata": {},
   "outputs": [
    {
     "data": {
      "text/plain": [
       "['luxury fashion',\n",
       " 'RapidBox',\n",
       " 'India hub',\n",
       " 'BRUTON',\n",
       " 'TR',\n",
       " 'Echor',\n",
       " 'World Wear Footwear',\n",
       " 'RapidBox',\n",
       " 'World Wear Footwear',\n",
       " 'Stefano Rads',\n",
       " 'Airland',\n",
       " 'aadi',\n",
       " 'BRUTON',\n",
       " 'Robbie jones',\n",
       " 'CLYMB',\n",
       " 'BRUTON',\n",
       " 'Magnolia',\n",
       " \"LEVI'S\",\n",
       " 'CLYMB',\n",
       " 'SHANE Internation',\n",
       " 'Numenzo',\n",
       " 'D-SNEAKERZ',\n",
       " 'Ktiz',\n",
       " 'BRUTON',\n",
       " 'ASTEROID',\n",
       " 'PUMA',\n",
       " 'Zorth',\n",
       " 'aadi',\n",
       " 'Kraasa',\n",
       " 'Robbie jones',\n",
       " 'BAUCHHAAR',\n",
       " 'BIRDE',\n",
       " 'KNIGHT WALKERS',\n",
       " 'ASIAN',\n",
       " 'Echor',\n",
       " 'Red Rose',\n",
       " 'T-ROCK',\n",
       " 'Trendmode',\n",
       " 'Noztile',\n",
       " 'SWIGGY']"
      ]
     },
     "execution_count": 125,
     "metadata": {},
     "output_type": "execute_result"
    }
   ],
   "source": [
    "brands6=[]\n",
    "for i in brand6:\n",
    "    brands6.append(i.text)\n",
    "brands6    "
   ]
  },
  {
   "cell_type": "code",
   "execution_count": 130,
   "id": "0552e774",
   "metadata": {},
   "outputs": [
    {
     "data": {
      "text/plain": [
       "[<selenium.webdriver.remote.webelement.WebElement (session=\"89ffc44e8894508f360f04a89ad294d7\", element=\"319d8b3f-1287-4d55-af1f-4a748a8570cc\")>,\n",
       " <selenium.webdriver.remote.webelement.WebElement (session=\"89ffc44e8894508f360f04a89ad294d7\", element=\"487347d1-252f-4bd4-91b5-70b33bafaa94\")>,\n",
       " <selenium.webdriver.remote.webelement.WebElement (session=\"89ffc44e8894508f360f04a89ad294d7\", element=\"8b8cbe57-105c-41fa-8222-389600906237\")>,\n",
       " <selenium.webdriver.remote.webelement.WebElement (session=\"89ffc44e8894508f360f04a89ad294d7\", element=\"87c78d06-2a55-4bc6-90ba-fdf215b9c351\")>,\n",
       " <selenium.webdriver.remote.webelement.WebElement (session=\"89ffc44e8894508f360f04a89ad294d7\", element=\"813b5121-1030-4428-88a9-6ae3d18dd032\")>]"
      ]
     },
     "execution_count": 130,
     "metadata": {},
     "output_type": "execute_result"
    }
   ],
   "source": [
    "desc=driver6.find_elements_by_xpath('//a[@class=\"IRpwTa\"]')\n",
    "desc[0:5]"
   ]
  },
  {
   "cell_type": "code",
   "execution_count": 131,
   "id": "d0f6c0df",
   "metadata": {},
   "outputs": [
    {
     "data": {
      "text/plain": [
       "['Sneakers For Men',\n",
       " 'casual sneaker shoes for men kardam&sons Sneakers For M...',\n",
       " 'Combo Pack Of 4 Casual Shoes Loafer Shoes Sneakers For ...',\n",
       " 'Sneakers For Men',\n",
       " \"Men's Sneakers Fashion Lightweight Running Shoes Tennis...\",\n",
       " 'Men 5014 Latest Collection Stylish Casual Sports Loafer...',\n",
       " 'Latest Collection-1227 Stylish Casual Sports Sneakers F...',\n",
       " 'sneaker men red 1258 - 6 Sneakers For Men',\n",
       " 'Combo Pack Of 2 Latest Stylish Casual Shoes for Men Lac...',\n",
       " 'Sneakers For Men',\n",
       " \"Perfect Sports Shoes for Men's Running ,Cycling & Trekk...\",\n",
       " 'Combo Pack Of 3 Latest Casual Shoes Sneakers For Men',\n",
       " 'Sneakers For Men',\n",
       " 'INDI EXCLUSIVE Sneaker For Men',\n",
       " 'Sneakers For Men',\n",
       " '411 Casual Sneakers For Men',\n",
       " \"Casual , Partywear Sneakers Shoes For Men's And Boys Wh...\",\n",
       " 'Sneakers For Men',\n",
       " 'Combo Pack Of 3 Loafer Shoes Sneakers For Men',\n",
       " 'Rigel Sneakers For Men',\n",
       " 'Sneakers For Men',\n",
       " 'Casuals, Canvas, Partywear Sneakers For Men',\n",
       " 'Sneakers For Men',\n",
       " 'sports shoes for men | Latest Stylish Casual sneakers f...',\n",
       " 'Stylish Comfortable Lightweight, Breathable Casual Shoe...',\n",
       " 'Sneakers For Men',\n",
       " 'Skypy-31 Walking Shoes,Training Shoes,Sneakers,Loafers,...',\n",
       " \"Men's Sneakers Fashion Lightweight Running Shoes Tennis...\",\n",
       " 'Sneakers For Men',\n",
       " 'Stylish White Casual Sneakers shoes Men and Boys Sneake...',\n",
       " 'Sneakers For Men',\n",
       " 'Sneakers For Men',\n",
       " 'Casual Shoes , Snekers Shoes,Lace-Up PVC Shoes For Men ...']"
      ]
     },
     "execution_count": 131,
     "metadata": {},
     "output_type": "execute_result"
    }
   ],
   "source": [
    "descs=[]\n",
    "for i in desc:\n",
    "    descs.append(i.text)\n",
    "descs    "
   ]
  },
  {
   "cell_type": "code",
   "execution_count": 134,
   "id": "8c6b280e",
   "metadata": {},
   "outputs": [
    {
     "data": {
      "text/plain": [
       "[<selenium.webdriver.remote.webelement.WebElement (session=\"89ffc44e8894508f360f04a89ad294d7\", element=\"6800f7d5-7dbd-4a5b-a05e-96eea2c7f0b7\")>,\n",
       " <selenium.webdriver.remote.webelement.WebElement (session=\"89ffc44e8894508f360f04a89ad294d7\", element=\"42abfdb1-fcaa-4e69-9a05-afe31e304952\")>,\n",
       " <selenium.webdriver.remote.webelement.WebElement (session=\"89ffc44e8894508f360f04a89ad294d7\", element=\"09b17979-7191-4f48-9c12-bfe32fa49acc\")>,\n",
       " <selenium.webdriver.remote.webelement.WebElement (session=\"89ffc44e8894508f360f04a89ad294d7\", element=\"9a44af2c-1f1a-4f3a-9ee2-cee63a2a3238\")>,\n",
       " <selenium.webdriver.remote.webelement.WebElement (session=\"89ffc44e8894508f360f04a89ad294d7\", element=\"b1784d18-db6d-4f88-8718-8ef85cb66435\")>]"
      ]
     },
     "execution_count": 134,
     "metadata": {},
     "output_type": "execute_result"
    }
   ],
   "source": [
    "desc1=driver6.find_elements_by_xpath('//a[@class=\"IRpwTa _2-ICcC\"]')\n",
    "desc1[0:5]"
   ]
  },
  {
   "cell_type": "code",
   "execution_count": 135,
   "id": "2571cbf0",
   "metadata": {},
   "outputs": [
    {
     "data": {
      "text/plain": [
       "['Sneakers For Men',\n",
       " '494 Perfect Sports Shoes for Running Training Hikking &...',\n",
       " 'Classy Sneakers For Men',\n",
       " 'Sneakers For Men',\n",
       " 'Ever LoPro Sneakers For Men',\n",
       " '516 Trendy Star Perfect Sneakers For Men']"
      ]
     },
     "execution_count": 135,
     "metadata": {},
     "output_type": "execute_result"
    }
   ],
   "source": [
    "descs1=[]\n",
    "for i in desc1:\n",
    "    descs1.append(i.text)\n",
    "descs1   "
   ]
  },
  {
   "cell_type": "code",
   "execution_count": 138,
   "id": "0d51b1f6",
   "metadata": {},
   "outputs": [
    {
     "data": {
      "text/plain": [
       "[<selenium.webdriver.remote.webelement.WebElement (session=\"89ffc44e8894508f360f04a89ad294d7\", element=\"32789c90-bc48-4ebc-ba5b-9e4fc41cc32a\")>,\n",
       " <selenium.webdriver.remote.webelement.WebElement (session=\"89ffc44e8894508f360f04a89ad294d7\", element=\"24479574-e7e1-4109-9319-cd144d0df33a\")>,\n",
       " <selenium.webdriver.remote.webelement.WebElement (session=\"89ffc44e8894508f360f04a89ad294d7\", element=\"750d42d8-fbd8-4e38-a0e3-1eb9d97dafa3\")>,\n",
       " <selenium.webdriver.remote.webelement.WebElement (session=\"89ffc44e8894508f360f04a89ad294d7\", element=\"66be15f7-2428-4ac4-a699-cd6f6980bdab\")>,\n",
       " <selenium.webdriver.remote.webelement.WebElement (session=\"89ffc44e8894508f360f04a89ad294d7\", element=\"8bfc6803-4965-4370-8734-836aef914386\")>]"
      ]
     },
     "execution_count": 138,
     "metadata": {},
     "output_type": "execute_result"
    }
   ],
   "source": [
    "price6=driver6.find_elements_by_xpath('//div[@class=\"_30jeq3\"]')\n",
    "price6[0:5]"
   ]
  },
  {
   "cell_type": "code",
   "execution_count": 137,
   "id": "9704c111",
   "metadata": {},
   "outputs": [
    {
     "data": {
      "text/plain": [
       "['₹439',\n",
       " '₹630',\n",
       " '₹399',\n",
       " '₹327',\n",
       " '₹253',\n",
       " '₹424',\n",
       " '₹209',\n",
       " '₹208',\n",
       " '₹209',\n",
       " '₹190',\n",
       " '₹148',\n",
       " '₹369',\n",
       " '₹449',\n",
       " '₹424',\n",
       " '₹199',\n",
       " '₹209',\n",
       " '₹1,209',\n",
       " '₹349',\n",
       " '₹534',\n",
       " '₹209',\n",
       " '₹424',\n",
       " '₹334',\n",
       " '₹424',\n",
       " '₹714',\n",
       " '₹398',\n",
       " '₹1,377',\n",
       " '₹397',\n",
       " '₹4,538',\n",
       " '₹444',\n",
       " '₹424',\n",
       " '₹349',\n",
       " '₹2,049',\n",
       " '₹598',\n",
       " '₹498',\n",
       " '₹349',\n",
       " '₹1,749',\n",
       " '₹424',\n",
       " '₹349',\n",
       " '₹379',\n",
       " '₹209']"
      ]
     },
     "execution_count": 137,
     "metadata": {},
     "output_type": "execute_result"
    }
   ],
   "source": [
    "prices6=[]\n",
    "for i in price6:\n",
    "    prices6.append(i.text)\n",
    "prices6  "
   ]
  },
  {
   "cell_type": "code",
   "execution_count": 139,
   "id": "134ca514",
   "metadata": {},
   "outputs": [
    {
     "data": {
      "text/plain": [
       "[<selenium.webdriver.remote.webelement.WebElement (session=\"89ffc44e8894508f360f04a89ad294d7\", element=\"7a763bb5-c009-417d-abde-93264cdf9b0b\")>,\n",
       " <selenium.webdriver.remote.webelement.WebElement (session=\"89ffc44e8894508f360f04a89ad294d7\", element=\"34b80b19-8519-49f4-9c1b-6631aa9ab9d0\")>,\n",
       " <selenium.webdriver.remote.webelement.WebElement (session=\"89ffc44e8894508f360f04a89ad294d7\", element=\"9c1ae781-154e-411f-9a50-aa1fec8755c3\")>,\n",
       " <selenium.webdriver.remote.webelement.WebElement (session=\"89ffc44e8894508f360f04a89ad294d7\", element=\"7f80e651-9562-4dd4-ade8-1cec68325147\")>,\n",
       " <selenium.webdriver.remote.webelement.WebElement (session=\"89ffc44e8894508f360f04a89ad294d7\", element=\"52b4d61d-ef8c-4284-8e90-5b15d5718949\")>]"
      ]
     },
     "execution_count": 139,
     "metadata": {},
     "output_type": "execute_result"
    }
   ],
   "source": [
    "dis=driver6.find_elements_by_xpath('//div[@class=\"_3Ay6Sb\"]')\n",
    "dis[0:5]"
   ]
  },
  {
   "cell_type": "code",
   "execution_count": 140,
   "id": "3b4227cb",
   "metadata": {},
   "outputs": [
    {
     "data": {
      "text/plain": [
       "['78% off',\n",
       " '36% off',\n",
       " '69% off',\n",
       " '86% off',\n",
       " '74% off',\n",
       " '57% off',\n",
       " '58% off',\n",
       " '79% off',\n",
       " '58% off',\n",
       " '72% off',\n",
       " '70% off',\n",
       " '63% off',\n",
       " '82% off',\n",
       " '57% off',\n",
       " '80% off',\n",
       " '89% off',\n",
       " '56% off',\n",
       " '65% off',\n",
       " '64% off',\n",
       " '58% off',\n",
       " '78% off',\n",
       " '66% off',\n",
       " '78% off',\n",
       " '20% off',\n",
       " '60% off',\n",
       " '50% off',\n",
       " '60% off',\n",
       " '54% off',\n",
       " '55% off',\n",
       " '57% off',\n",
       " '65% off',\n",
       " '31% off',\n",
       " '60% off',\n",
       " '37% off',\n",
       " '65% off',\n",
       " '61% off',\n",
       " '57% off',\n",
       " '82% off',\n",
       " '70% off',\n",
       " '73% off']"
      ]
     },
     "execution_count": 140,
     "metadata": {},
     "output_type": "execute_result"
    }
   ],
   "source": [
    "diss=[]\n",
    "for i in dis:\n",
    "    diss.append(i.text)\n",
    "diss    "
   ]
  },
  {
   "cell_type": "code",
   "execution_count": 141,
   "id": "2d53be3e",
   "metadata": {},
   "outputs": [
    {
     "data": {
      "text/plain": [
       "<selenium.webdriver.remote.webelement.WebElement (session=\"89ffc44e8894508f360f04a89ad294d7\", element=\"704b626c-a938-49bb-b79e-5d86887adc73\")>"
      ]
     },
     "execution_count": 141,
     "metadata": {},
     "output_type": "execute_result"
    }
   ],
   "source": [
    "next61=driver6.find_element_by_xpath('/html/body/div[1]/div/div[3]/div[1]/div[2]/div[12]/div/div/nav/a[4]')\n",
    "next61"
   ]
  },
  {
   "cell_type": "code",
   "execution_count": 142,
   "id": "d8ffa091",
   "metadata": {},
   "outputs": [],
   "source": [
    "next61.click()"
   ]
  },
  {
   "cell_type": "code",
   "execution_count": 144,
   "id": "93099953",
   "metadata": {},
   "outputs": [
    {
     "data": {
      "text/plain": [
       "[<selenium.webdriver.remote.webelement.WebElement (session=\"89ffc44e8894508f360f04a89ad294d7\", element=\"f411f91f-a273-4b2f-9bac-3c065c25ba72\")>,\n",
       " <selenium.webdriver.remote.webelement.WebElement (session=\"89ffc44e8894508f360f04a89ad294d7\", element=\"5e82390c-2d0c-45fe-ad73-1b469b3a2852\")>,\n",
       " <selenium.webdriver.remote.webelement.WebElement (session=\"89ffc44e8894508f360f04a89ad294d7\", element=\"4251ff40-841e-46fb-b49c-4a24b2b6b06e\")>,\n",
       " <selenium.webdriver.remote.webelement.WebElement (session=\"89ffc44e8894508f360f04a89ad294d7\", element=\"0d6f1f57-eb2f-4214-b7f5-50bcd016e254\")>,\n",
       " <selenium.webdriver.remote.webelement.WebElement (session=\"89ffc44e8894508f360f04a89ad294d7\", element=\"4e897388-085f-47f1-8165-ed86d6d5f817\")>]"
      ]
     },
     "execution_count": 144,
     "metadata": {},
     "output_type": "execute_result"
    }
   ],
   "source": [
    "brand6=driver6.find_elements_by_xpath('//div[@class=\"_2WkVRV\"]')\n",
    "brand6[0:5]"
   ]
  },
  {
   "cell_type": "code",
   "execution_count": 145,
   "id": "4e4f3844",
   "metadata": {},
   "outputs": [
    {
     "data": {
      "text/plain": [
       "['Trendmode',\n",
       " 'WHITE WALKERS',\n",
       " 'DRESTA',\n",
       " 'BRUTON',\n",
       " 'Kraasa',\n",
       " 'SPARX',\n",
       " 'BIRDE',\n",
       " 'BRUTON',\n",
       " 'RapidBox',\n",
       " 'bluemaker',\n",
       " 'Arohi',\n",
       " 'RapidBox',\n",
       " 'EMPTILE',\n",
       " 'BIRDE',\n",
       " 'Extoes',\n",
       " 'SHANE Internation',\n",
       " 'Rzisbo',\n",
       " 'Zorth',\n",
       " 'LE GREEM',\n",
       " 'BRUTON',\n",
       " 'CAMPUS',\n",
       " 'BIRDE',\n",
       " 'Chevit',\n",
       " 'aadi',\n",
       " 'Dizzler',\n",
       " 'DUNKASTON',\n",
       " 'PUMA',\n",
       " 'BIRDE',\n",
       " 'URBANBOX',\n",
       " 'ESSENCE',\n",
       " 'SPARX',\n",
       " 'Red Rose',\n",
       " 'RODDICK SHOES',\n",
       " 'Hot & Knot',\n",
       " 'BRUTON',\n",
       " 'SWIGGY',\n",
       " 'Robbie jones',\n",
       " 'Magnolia',\n",
       " 'DUNKASTON',\n",
       " 'SWIGGY']"
      ]
     },
     "execution_count": 145,
     "metadata": {},
     "output_type": "execute_result"
    }
   ],
   "source": [
    "brands6=[]\n",
    "for i in brand6:\n",
    "    brands6.append(i.text)\n",
    "brands6    "
   ]
  },
  {
   "cell_type": "code",
   "execution_count": 147,
   "id": "10042c0e",
   "metadata": {},
   "outputs": [
    {
     "data": {
      "text/plain": [
       "[<selenium.webdriver.remote.webelement.WebElement (session=\"89ffc44e8894508f360f04a89ad294d7\", element=\"471c1533-4154-43db-8b58-56cb44e9383e\")>,\n",
       " <selenium.webdriver.remote.webelement.WebElement (session=\"89ffc44e8894508f360f04a89ad294d7\", element=\"2643b9fb-414a-47f6-93ea-8e358bd3a555\")>,\n",
       " <selenium.webdriver.remote.webelement.WebElement (session=\"89ffc44e8894508f360f04a89ad294d7\", element=\"bd05c0ca-de43-4a42-908a-ca2a7e1abd5d\")>,\n",
       " <selenium.webdriver.remote.webelement.WebElement (session=\"89ffc44e8894508f360f04a89ad294d7\", element=\"eacbfa54-9249-4aa8-b59c-7e8bd654b24c\")>,\n",
       " <selenium.webdriver.remote.webelement.WebElement (session=\"89ffc44e8894508f360f04a89ad294d7\", element=\"85867d7c-1952-4017-857d-508330c01871\")>]"
      ]
     },
     "execution_count": 147,
     "metadata": {},
     "output_type": "execute_result"
    }
   ],
   "source": [
    "desc=driver6.find_elements_by_xpath('//a[@class=\"IRpwTa\"]')\n",
    "desc[0:5]"
   ]
  },
  {
   "cell_type": "code",
   "execution_count": 148,
   "id": "4b9ad852",
   "metadata": {},
   "outputs": [
    {
     "data": {
      "text/plain": [
       "['Sneakers For Men',\n",
       " 'Stylish & Trending Outdoor Walking Comfortable Sneakers...',\n",
       " \"Original Luxury Branded Fashionable Men's Casual Walkin...\",\n",
       " 'Combo Pack Of 4 Casual Shoes Loafer Shoes Sneakers For ...',\n",
       " 'Shark-41 Sneakers For Men',\n",
       " 'Stylish Comfortable Lightweight, Breathable Casual Walk...',\n",
       " 'Combo Pack Of 3 Latest Casual Shoes Sneakers For Men',\n",
       " 'casual for men Sneakers For Men',\n",
       " 'all white heartbeat casual shoe Sneakers For Men',\n",
       " 'Sports Running Shoes Sneakers For Men',\n",
       " 'Sneakers For Men',\n",
       " 'Sneakers For Men',\n",
       " 'New Fashion Outdoor Trendy Lightweight Casual,Canvas St...',\n",
       " 'Comfortable & Ultra Light Weight Sneaker Sneakers For M...',\n",
       " 'Combo Pack Of 3 Loafer Shoes Sneakers For Men',\n",
       " 'Stylish and Trendy New Design Lightweight,Casual shoes ...',\n",
       " '516 Trendy Star Perfect Sneakers For Men',\n",
       " 'Sneakers For Men',\n",
       " 'BMW MMS Future Kart Cat Sneakers For Men',\n",
       " 'Stylish Comfortable Lightweight, Breathable Casual Shoe...',\n",
       " 'Sneakers For Men',\n",
       " 'Sneakers For Men',\n",
       " 'Fashion Outdoor Canvas Casual Light Weight Lace-up Even...',\n",
       " 'High Top Casual Party Wear Boot Stylish Sneakers For Me...',\n",
       " 'Modern & Trendy Collection Combo Pack of 02 Shoes for M...',\n",
       " 'Casual Shoes , Snekers Shoes,Lace-Up PVC Shoes For Men ...',\n",
       " 'Casual Sneakers White Shoes For Men Sneakers For Men',\n",
       " 'Sneakers For Men',\n",
       " 'Sneakers For Men',\n",
       " 'Casual Loafers, Sneakers Shoes for Men Pack of 5 Combo(...']"
      ]
     },
     "execution_count": 148,
     "metadata": {},
     "output_type": "execute_result"
    }
   ],
   "source": [
    "descs=[]\n",
    "for i in desc:\n",
    "    descs.append(i.text)\n",
    "descs    "
   ]
  },
  {
   "cell_type": "code",
   "execution_count": 151,
   "id": "15c8a138",
   "metadata": {},
   "outputs": [
    {
     "data": {
      "text/plain": [
       "[<selenium.webdriver.remote.webelement.WebElement (session=\"89ffc44e8894508f360f04a89ad294d7\", element=\"a77311c1-c398-475f-88a1-b9a3620a50a1\")>,\n",
       " <selenium.webdriver.remote.webelement.WebElement (session=\"89ffc44e8894508f360f04a89ad294d7\", element=\"847b046c-565a-4591-b6b0-a1e217880e52\")>,\n",
       " <selenium.webdriver.remote.webelement.WebElement (session=\"89ffc44e8894508f360f04a89ad294d7\", element=\"f5aad922-cfe0-412b-b517-848cdf13b8e6\")>,\n",
       " <selenium.webdriver.remote.webelement.WebElement (session=\"89ffc44e8894508f360f04a89ad294d7\", element=\"d5eaeb7d-3a45-4df2-930a-16dd895a534b\")>,\n",
       " <selenium.webdriver.remote.webelement.WebElement (session=\"89ffc44e8894508f360f04a89ad294d7\", element=\"c6551f66-9c85-4f65-b8f9-294baf3ea806\")>]"
      ]
     },
     "execution_count": 151,
     "metadata": {},
     "output_type": "execute_result"
    }
   ],
   "source": [
    "price6=driver6.find_elements_by_xpath('//div[@class=\"_30jeq3\"]')\n",
    "price6[0:5]"
   ]
  },
  {
   "cell_type": "code",
   "execution_count": 150,
   "id": "629309d7",
   "metadata": {},
   "outputs": [
    {
     "data": {
      "text/plain": [
       "['₹209',\n",
       " '₹549',\n",
       " '₹398',\n",
       " '₹449',\n",
       " '₹394',\n",
       " '₹799',\n",
       " '₹349',\n",
       " '₹397',\n",
       " '₹630',\n",
       " '₹424',\n",
       " '₹380',\n",
       " '₹590',\n",
       " '₹347',\n",
       " '₹249',\n",
       " '₹178',\n",
       " '₹4,249',\n",
       " '₹549',\n",
       " '₹385',\n",
       " '₹399',\n",
       " '₹421',\n",
       " '₹999',\n",
       " '₹269',\n",
       " '₹209',\n",
       " '₹349',\n",
       " '₹445',\n",
       " '₹309',\n",
       " '₹3,099',\n",
       " '₹370',\n",
       " '₹170',\n",
       " '₹349',\n",
       " '₹714',\n",
       " '₹424',\n",
       " '₹399',\n",
       " '₹539',\n",
       " '₹486',\n",
       " '₹209',\n",
       " '₹424',\n",
       " '₹327',\n",
       " '₹349',\n",
       " '₹714']"
      ]
     },
     "execution_count": 150,
     "metadata": {},
     "output_type": "execute_result"
    }
   ],
   "source": [
    "prices6=[]\n",
    "for i in price6:\n",
    "    prices6.append(i.text)\n",
    "prices6  "
   ]
  },
  {
   "cell_type": "code",
   "execution_count": 152,
   "id": "f4a59b2b",
   "metadata": {},
   "outputs": [
    {
     "data": {
      "text/plain": [
       "[<selenium.webdriver.remote.webelement.WebElement (session=\"89ffc44e8894508f360f04a89ad294d7\", element=\"0b6ef7b0-35f0-4adc-af0d-5a5f956d5364\")>,\n",
       " <selenium.webdriver.remote.webelement.WebElement (session=\"89ffc44e8894508f360f04a89ad294d7\", element=\"5263a609-62c9-42fe-8e1f-8e17d8476002\")>,\n",
       " <selenium.webdriver.remote.webelement.WebElement (session=\"89ffc44e8894508f360f04a89ad294d7\", element=\"ae06306c-18bb-48b6-be16-3702b421740a\")>,\n",
       " <selenium.webdriver.remote.webelement.WebElement (session=\"89ffc44e8894508f360f04a89ad294d7\", element=\"1b2dd0d7-92d2-4df1-b640-8db659c94660\")>,\n",
       " <selenium.webdriver.remote.webelement.WebElement (session=\"89ffc44e8894508f360f04a89ad294d7\", element=\"ad09ed36-6a56-47a8-8449-ce7960ff9804\")>]"
      ]
     },
     "execution_count": 152,
     "metadata": {},
     "output_type": "execute_result"
    }
   ],
   "source": [
    "dis=driver6.find_elements_by_xpath('//div[@class=\"_3Ay6Sb\"]')\n",
    "dis[0:5]"
   ]
  },
  {
   "cell_type": "code",
   "execution_count": 153,
   "id": "67c05a1a",
   "metadata": {},
   "outputs": [
    {
     "data": {
      "text/plain": [
       "['70% off',\n",
       " '54% off',\n",
       " '80% off',\n",
       " '87% off',\n",
       " '60% off',\n",
       " '5% off',\n",
       " '65% off',\n",
       " '86% off',\n",
       " '36% off',\n",
       " '57% off',\n",
       " '61% off',\n",
       " '40% off',\n",
       " '65% off',\n",
       " '50% off',\n",
       " '64% off',\n",
       " '46% off',\n",
       " '45% off',\n",
       " '61% off',\n",
       " '60% off',\n",
       " '85% off',\n",
       " '47% off',\n",
       " '46% off',\n",
       " '73% off',\n",
       " '65% off',\n",
       " '38% off',\n",
       " '79% off',\n",
       " '55% off',\n",
       " '62% off',\n",
       " '65% off',\n",
       " '65% off',\n",
       " '20% off',\n",
       " '15% off',\n",
       " '60% off',\n",
       " '46% off',\n",
       " '80% off',\n",
       " '58% off',\n",
       " '57% off',\n",
       " '67% off',\n",
       " '76% off',\n",
       " '71% off']"
      ]
     },
     "execution_count": 153,
     "metadata": {},
     "output_type": "execute_result"
    }
   ],
   "source": [
    "diss=[]\n",
    "for i in dis:\n",
    "    diss.append(i.text)\n",
    "diss    "
   ]
  },
  {
   "cell_type": "markdown",
   "id": "e37c1060",
   "metadata": {},
   "source": [
    "ans7)"
   ]
  },
  {
   "cell_type": "code",
   "execution_count": 154,
   "id": "8f98a416",
   "metadata": {},
   "outputs": [
    {
     "data": {
      "text/plain": [
       "<selenium.webdriver.chrome.webdriver.WebDriver (session=\"6a25f279bf5fe7206b8a4fe6d2fec094\")>"
      ]
     },
     "execution_count": 154,
     "metadata": {},
     "output_type": "execute_result"
    }
   ],
   "source": [
    "driver7=webdriver.Chrome('chromedriver.exe')\n",
    "driver7"
   ]
  },
  {
   "cell_type": "code",
   "execution_count": 155,
   "id": "b7395e46",
   "metadata": {},
   "outputs": [],
   "source": [
    "url7=('https://www.myntra.com/shoes')\n",
    "driver7.get(url7)"
   ]
  },
  {
   "cell_type": "code",
   "execution_count": 158,
   "id": "9d215791",
   "metadata": {},
   "outputs": [
    {
     "data": {
      "text/plain": [
       "<selenium.webdriver.remote.webelement.WebElement (session=\"6a25f279bf5fe7206b8a4fe6d2fec094\", element=\"13eacac5-c92c-48f3-8a31-2000c7b138af\")>"
      ]
     },
     "execution_count": 158,
     "metadata": {},
     "output_type": "execute_result"
    }
   ],
   "source": [
    "pricefilter=driver7.find_element_by_xpath('/html/body/div[2]/div/div[1]/main/div[3]/div[1]/section/div/div[5]/ul/li[2]/label/div')\n",
    "pricefilter"
   ]
  },
  {
   "cell_type": "code",
   "execution_count": 159,
   "id": "daa7d7df",
   "metadata": {},
   "outputs": [],
   "source": [
    "pricefilter.click()"
   ]
  },
  {
   "cell_type": "code",
   "execution_count": 160,
   "id": "ebfab6df",
   "metadata": {},
   "outputs": [
    {
     "data": {
      "text/plain": [
       "<selenium.webdriver.remote.webelement.WebElement (session=\"6a25f279bf5fe7206b8a4fe6d2fec094\", element=\"d759af50-58a2-4833-85b5-6459478062a0\")>"
      ]
     },
     "execution_count": 160,
     "metadata": {},
     "output_type": "execute_result"
    }
   ],
   "source": [
    "colourfilter=driver7.find_element_by_xpath('/html/body/div[2]/div/div[1]/main/div[3]/div[1]/section/div/div[6]/ul/li[1]/label/div')\n",
    "colourfilter"
   ]
  },
  {
   "cell_type": "code",
   "execution_count": 161,
   "id": "374aa96b",
   "metadata": {},
   "outputs": [],
   "source": [
    "colourfilter.click()"
   ]
  },
  {
   "cell_type": "code",
   "execution_count": 162,
   "id": "5a6b713e",
   "metadata": {},
   "outputs": [
    {
     "data": {
      "text/plain": [
       "[<selenium.webdriver.remote.webelement.WebElement (session=\"6a25f279bf5fe7206b8a4fe6d2fec094\", element=\"bb0e732b-778d-4f6e-b87d-589c76ac98fe\")>,\n",
       " <selenium.webdriver.remote.webelement.WebElement (session=\"6a25f279bf5fe7206b8a4fe6d2fec094\", element=\"91717bb0-a9c1-4b2f-9a90-1766c8174ef1\")>,\n",
       " <selenium.webdriver.remote.webelement.WebElement (session=\"6a25f279bf5fe7206b8a4fe6d2fec094\", element=\"e76db4ba-49e1-4dfa-a66e-ac0294bf45c0\")>,\n",
       " <selenium.webdriver.remote.webelement.WebElement (session=\"6a25f279bf5fe7206b8a4fe6d2fec094\", element=\"3a68322f-c80a-4576-80f8-a2a1c4884b53\")>,\n",
       " <selenium.webdriver.remote.webelement.WebElement (session=\"6a25f279bf5fe7206b8a4fe6d2fec094\", element=\"79698147-4ef4-4ffa-bbce-29f354dc88bb\")>]"
      ]
     },
     "execution_count": 162,
     "metadata": {},
     "output_type": "execute_result"
    }
   ],
   "source": [
    "brand=driver7.find_elements_by_xpath('//h3[@class=\"product-brand\"]')\n",
    "brand[0:5]"
   ]
  },
  {
   "cell_type": "code",
   "execution_count": 163,
   "id": "8dda24a8",
   "metadata": {},
   "outputs": [
    {
     "data": {
      "text/plain": [
       "['Nike',\n",
       " 'ALDO',\n",
       " 'Puma',\n",
       " 'ALDO',\n",
       " 'ALDO',\n",
       " 'Puma',\n",
       " 'Puma',\n",
       " 'Hush Puppies',\n",
       " 'Nike',\n",
       " 'Hush Puppies',\n",
       " 'Hush Puppies',\n",
       " 'Puma',\n",
       " 'Puma',\n",
       " 'Hush Puppies',\n",
       " 'ASICS',\n",
       " 'Clarks',\n",
       " 'Puma',\n",
       " 'Tommy Hilfiger',\n",
       " 'Columbia',\n",
       " 'Hush Puppies',\n",
       " 'Clarks',\n",
       " 'J.FONTINI',\n",
       " 'RARE RABBIT',\n",
       " 'DAVINCHI',\n",
       " 'ALDO',\n",
       " 'TRIBAN By Decathlon',\n",
       " 'Columbia',\n",
       " 'Saint G',\n",
       " 'Clarks',\n",
       " 'Saint G',\n",
       " 'Geox',\n",
       " 'Geox',\n",
       " 'J.FONTINI',\n",
       " 'Geox',\n",
       " 'Hush Puppies',\n",
       " 'ALDO',\n",
       " 'DAVINCHI',\n",
       " 'DAVINCHI',\n",
       " 'Saint G',\n",
       " 'Geox',\n",
       " 'Saint G',\n",
       " 'Saint G',\n",
       " 'Cole Haan',\n",
       " 'Geox',\n",
       " 'Sole To Soul',\n",
       " 'Sole To Soul',\n",
       " 'ROSSO BRUNELLO',\n",
       " 'Sole To Soul',\n",
       " 'FILA',\n",
       " 'Sole To Soul']"
      ]
     },
     "execution_count": 163,
     "metadata": {},
     "output_type": "execute_result"
    }
   ],
   "source": [
    "brands=[]\n",
    "for i in brand:\n",
    "    brands.append(i.text)\n",
    "brands    "
   ]
  },
  {
   "cell_type": "code",
   "execution_count": 164,
   "id": "8e14eae0",
   "metadata": {},
   "outputs": [
    {
     "data": {
      "text/plain": [
       "[<selenium.webdriver.remote.webelement.WebElement (session=\"6a25f279bf5fe7206b8a4fe6d2fec094\", element=\"9a41b047-c33f-44bd-9bdb-f157348c23ba\")>,\n",
       " <selenium.webdriver.remote.webelement.WebElement (session=\"6a25f279bf5fe7206b8a4fe6d2fec094\", element=\"a41926da-8159-4a91-8991-330522df4527\")>,\n",
       " <selenium.webdriver.remote.webelement.WebElement (session=\"6a25f279bf5fe7206b8a4fe6d2fec094\", element=\"fcc35b44-48a2-4eab-8335-8bb11679dd66\")>,\n",
       " <selenium.webdriver.remote.webelement.WebElement (session=\"6a25f279bf5fe7206b8a4fe6d2fec094\", element=\"0b3b8f07-773a-4712-bb5a-40d83c5c2701\")>,\n",
       " <selenium.webdriver.remote.webelement.WebElement (session=\"6a25f279bf5fe7206b8a4fe6d2fec094\", element=\"4f42c1a8-2c2f-41e7-a9c9-89f79530c606\")>]"
      ]
     },
     "execution_count": 164,
     "metadata": {},
     "output_type": "execute_result"
    }
   ],
   "source": [
    "desc=driver7.find_elements_by_xpath('//h4[@class=\"product-product\"]')\n",
    "desc[0:5]"
   ]
  },
  {
   "cell_type": "code",
   "execution_count": 165,
   "id": "61de5328",
   "metadata": {},
   "outputs": [
    {
     "data": {
      "text/plain": [
       "['Men Winflo 7 Running Shoes',\n",
       " 'Men Printed Sneakers',\n",
       " 'Electrify Nitro Running Shoes',\n",
       " 'Men Leather Driving Shoes',\n",
       " 'Men Woven Design Sneakers',\n",
       " 'Men Jamming 2.0 Running Shoes',\n",
       " 'Eternity Nitro Running Shoes',\n",
       " 'Men Solid Leather Formal Slip-Ons',\n",
       " 'Men Air Max Dawn Sneakers',\n",
       " 'Men Solid Leather Formal Slip-Ons',\n",
       " 'Men Formal Derbys',\n",
       " 'Women Eternity NITRO Shoes',\n",
       " 'Men Training or Gym Shoes',\n",
       " 'Men Solid Leather Formal Derbys',\n",
       " 'Women Running Shoes',\n",
       " 'Men Solid Formal Leather Derbys',\n",
       " 'Women Velocity NITRO Runners',\n",
       " 'Men Cleated Leather Sneakers',\n",
       " 'Men FACET OUTDRY Trekking Shoe',\n",
       " 'Men Solid Formal Slip-Ons',\n",
       " 'Men Solid Leather Formal Loafers',\n",
       " 'Men Solid Loafers',\n",
       " 'Men Leather Flat Boots',\n",
       " 'Men Textured Formal Leather Loafers',\n",
       " 'Wedge Sandals',\n",
       " 'Unisex Training or Gym Shoes',\n",
       " 'Women REDMOND V2 TrekkingShoe',\n",
       " 'Women Leather Block Heels',\n",
       " 'Men Leather Derbys',\n",
       " 'Men Mid-Top Chelsea Boots',\n",
       " 'Men Leather Loafers',\n",
       " 'Men Striped Leather Sneakers',\n",
       " 'Men Black Leather Loafers',\n",
       " 'Men Formal Derbys',\n",
       " 'Men Perforations Leather Slip-On Sneakers',\n",
       " 'Leather Slim Heels',\n",
       " 'Men Formal Leather Slip-Ons',\n",
       " 'Ustraa black',\n",
       " 'Leather Block Heeled Boots',\n",
       " 'Women Leather Pumps',\n",
       " 'Suede Party High-Top Block Heeled Boots',\n",
       " 'Striped Suede Flatform Heeled Boots',\n",
       " 'Women Leather Sneakers',\n",
       " 'Women Solid Leather Pumps',\n",
       " 'Suede High-Top Block Heeled Boots',\n",
       " 'High-Top Block Heeled Boots',\n",
       " 'Printed PU Kitten Sandals',\n",
       " 'Suede High-Top Block Heeled Boots',\n",
       " 'Women Leather Sneakers',\n",
       " 'High-Top Comfort Heeled Boots']"
      ]
     },
     "execution_count": 165,
     "metadata": {},
     "output_type": "execute_result"
    }
   ],
   "source": [
    "descs=[]\n",
    "for i in desc:\n",
    "    descs.append(i.text)\n",
    "descs    "
   ]
  },
  {
   "cell_type": "code",
   "execution_count": 166,
   "id": "b290c850",
   "metadata": {},
   "outputs": [
    {
     "data": {
      "text/plain": [
       "[<selenium.webdriver.remote.webelement.WebElement (session=\"6a25f279bf5fe7206b8a4fe6d2fec094\", element=\"938cc1e1-1f6f-4121-a5a1-352459ece22e\")>,\n",
       " <selenium.webdriver.remote.webelement.WebElement (session=\"6a25f279bf5fe7206b8a4fe6d2fec094\", element=\"7fced57e-73fb-4b82-a676-277f545dfe05\")>,\n",
       " <selenium.webdriver.remote.webelement.WebElement (session=\"6a25f279bf5fe7206b8a4fe6d2fec094\", element=\"0d94ac3d-491c-4a99-a576-6303b9a4d28a\")>,\n",
       " <selenium.webdriver.remote.webelement.WebElement (session=\"6a25f279bf5fe7206b8a4fe6d2fec094\", element=\"00e8c0ea-6356-4cf9-8ded-782483349f7a\")>,\n",
       " <selenium.webdriver.remote.webelement.WebElement (session=\"6a25f279bf5fe7206b8a4fe6d2fec094\", element=\"7587cd29-104e-48ad-bc93-d630ad199b35\")>]"
      ]
     },
     "execution_count": 166,
     "metadata": {},
     "output_type": "execute_result"
    }
   ],
   "source": [
    "price=driver7.find_elements_by_xpath('//div[@class=\"product-price\"]')\n",
    "price[0:5]"
   ]
  },
  {
   "cell_type": "code",
   "execution_count": 168,
   "id": "eba4da7b",
   "metadata": {},
   "outputs": [
    {
     "data": {
      "text/plain": [
       "['Rs. 7995',\n",
       " 'Rs. 9099Rs. 12999(30% OFF)',\n",
       " 'Rs. 9999',\n",
       " 'Rs. 12999',\n",
       " 'Rs. 13999',\n",
       " 'Rs. 12999',\n",
       " 'Rs. 12999',\n",
       " 'Rs. 7649Rs. 8999(15% OFF)',\n",
       " 'Rs. 10995',\n",
       " 'Rs. 8499Rs. 9999(15% OFF)',\n",
       " 'Rs. 8499Rs. 9999(15% OFF)',\n",
       " 'Rs. 9099Rs. 12999(30% OFF)',\n",
       " 'Rs. 7999',\n",
       " 'Rs. 8499Rs. 9999(15% OFF)',\n",
       " 'Rs. 7999',\n",
       " 'Rs. 9999',\n",
       " 'Rs. 7149Rs. 10999(35% OFF)',\n",
       " 'Rs. 8599',\n",
       " 'Rs. 12999',\n",
       " 'Rs. 8499Rs. 9999(15% OFF)',\n",
       " 'Rs. 7999',\n",
       " 'Rs. 8990',\n",
       " 'Rs. 8099Rs. 9999(19% OFF)',\n",
       " 'Rs. 8990',\n",
       " 'Rs. 7999',\n",
       " 'Rs. 8029Rs. 10999(27% OFF)',\n",
       " 'Rs. 7999',\n",
       " 'Rs. 7480Rs. 8500(12% OFF)',\n",
       " 'Rs. 7499',\n",
       " 'Rs. 10500Rs. 10900(Rs. 400 OFF)',\n",
       " 'Rs. 9999',\n",
       " 'Rs. 9990',\n",
       " 'Rs. 8490',\n",
       " 'Rs. 9990',\n",
       " 'Rs. 7999',\n",
       " 'Rs. 8399Rs. 11999(30% OFF)',\n",
       " 'Rs. 8990',\n",
       " 'Rs. 8990',\n",
       " 'Rs. 9265Rs. 10900(15% OFF)',\n",
       " 'Rs. 8999',\n",
       " 'Rs. 8925Rs. 10500(15% OFF)',\n",
       " 'Rs. 8415Rs. 9900(15% OFF)',\n",
       " 'Rs. 10999',\n",
       " 'Rs. 7999',\n",
       " 'Rs. 8900',\n",
       " 'Rs. 7900',\n",
       " 'Rs. 8499',\n",
       " 'Rs. 9500',\n",
       " 'Rs. 8499',\n",
       " 'Rs. 8900']"
      ]
     },
     "execution_count": 168,
     "metadata": {},
     "output_type": "execute_result"
    }
   ],
   "source": [
    "prices=[]\n",
    "for i in price:\n",
    "    prices.append(i.text)\n",
    "prices    "
   ]
  },
  {
   "cell_type": "code",
   "execution_count": 171,
   "id": "c406d242",
   "metadata": {},
   "outputs": [
    {
     "data": {
      "text/plain": [
       "<selenium.webdriver.remote.webelement.WebElement (session=\"6a25f279bf5fe7206b8a4fe6d2fec094\", element=\"4b2e6cf7-49d9-4c0c-bc0c-95c318884984\")>"
      ]
     },
     "execution_count": 171,
     "metadata": {},
     "output_type": "execute_result"
    }
   ],
   "source": [
    "next7=driver7.find_element_by_xpath('/html/body/div[2]/div/div[1]/main/div[3]/div[2]/div/div[2]/section/div[2]/ul/li[3]')\n",
    "next7"
   ]
  },
  {
   "cell_type": "code",
   "execution_count": 172,
   "id": "7db04402",
   "metadata": {},
   "outputs": [],
   "source": [
    "next7.click()"
   ]
  },
  {
   "cell_type": "code",
   "execution_count": 173,
   "id": "71233dc7",
   "metadata": {},
   "outputs": [
    {
     "data": {
      "text/plain": [
       "[<selenium.webdriver.remote.webelement.WebElement (session=\"6a25f279bf5fe7206b8a4fe6d2fec094\", element=\"74ca9965-3c7d-4143-8788-208c37550289\")>,\n",
       " <selenium.webdriver.remote.webelement.WebElement (session=\"6a25f279bf5fe7206b8a4fe6d2fec094\", element=\"67550142-492d-4d95-a2e9-7d0d629f4c7f\")>,\n",
       " <selenium.webdriver.remote.webelement.WebElement (session=\"6a25f279bf5fe7206b8a4fe6d2fec094\", element=\"98d30308-76db-439e-9837-4c2b8ee2bf15\")>,\n",
       " <selenium.webdriver.remote.webelement.WebElement (session=\"6a25f279bf5fe7206b8a4fe6d2fec094\", element=\"9064e6ca-086e-41d0-ba75-68849a2242f8\")>,\n",
       " <selenium.webdriver.remote.webelement.WebElement (session=\"6a25f279bf5fe7206b8a4fe6d2fec094\", element=\"8e6a5425-8225-43b2-b9fe-bc832679e378\")>]"
      ]
     },
     "execution_count": 173,
     "metadata": {},
     "output_type": "execute_result"
    }
   ],
   "source": [
    "brand=driver7.find_elements_by_xpath('//h3[@class=\"product-brand\"]')\n",
    "brand[0:5]"
   ]
  },
  {
   "cell_type": "code",
   "execution_count": 174,
   "id": "c4024564",
   "metadata": {},
   "outputs": [
    {
     "data": {
      "text/plain": [
       "['Sole To Soul',\n",
       " 'ROSSO BRUNELLO',\n",
       " 'Clarks',\n",
       " 'Clarks',\n",
       " 'New Balance',\n",
       " 'Columbia',\n",
       " 'Columbia',\n",
       " 'Bugatti',\n",
       " 'Churchill & Company',\n",
       " 'Bugatti',\n",
       " 'Bugatti',\n",
       " 'Geox',\n",
       " 'Cole Haan',\n",
       " 'Cole Haan',\n",
       " 'J.FONTINI',\n",
       " 'J.FONTINI',\n",
       " 'Cobblerz',\n",
       " 'Saint G',\n",
       " 'Xtep',\n",
       " 'Geox',\n",
       " 'Heel & Buckle London',\n",
       " 'Cole Haan',\n",
       " 'Cole Haan',\n",
       " 'Geox',\n",
       " 'Cole Haan',\n",
       " 'Royal Enfield',\n",
       " 'ASICS',\n",
       " 'Saint G',\n",
       " 'J.FONTINI',\n",
       " 'Saint G',\n",
       " 'Saint G',\n",
       " 'Saint G',\n",
       " 'Sole To Soul',\n",
       " 'J.FONTINI',\n",
       " 'Bugatti',\n",
       " 'Pavers England',\n",
       " 'Saint G',\n",
       " 'Saint G',\n",
       " 'Saint G',\n",
       " 'DAVINCHI',\n",
       " 'Saint G',\n",
       " 'Saint G',\n",
       " 'J.FONTINI',\n",
       " 'Saint G',\n",
       " 'J.FONTINI',\n",
       " 'Saint G',\n",
       " 'Saint G',\n",
       " 'DAVINCHI',\n",
       " 'DAVINCHI',\n",
       " 'Saint G']"
      ]
     },
     "execution_count": 174,
     "metadata": {},
     "output_type": "execute_result"
    }
   ],
   "source": [
    "brands=[]\n",
    "for i in brand:\n",
    "    brands.append(i.text)\n",
    "brands    "
   ]
  },
  {
   "cell_type": "code",
   "execution_count": 175,
   "id": "d8d7a8dc",
   "metadata": {},
   "outputs": [
    {
     "data": {
      "text/plain": [
       "[<selenium.webdriver.remote.webelement.WebElement (session=\"6a25f279bf5fe7206b8a4fe6d2fec094\", element=\"be6d4bcd-82d5-4c93-93c2-cc2297ad9fd4\")>,\n",
       " <selenium.webdriver.remote.webelement.WebElement (session=\"6a25f279bf5fe7206b8a4fe6d2fec094\", element=\"91b1216f-631c-4394-a880-8caee0f0901f\")>,\n",
       " <selenium.webdriver.remote.webelement.WebElement (session=\"6a25f279bf5fe7206b8a4fe6d2fec094\", element=\"931867e8-112e-48a0-86b0-2348a068117e\")>,\n",
       " <selenium.webdriver.remote.webelement.WebElement (session=\"6a25f279bf5fe7206b8a4fe6d2fec094\", element=\"f18df77d-ae0e-435b-af9b-a073f7d1106c\")>,\n",
       " <selenium.webdriver.remote.webelement.WebElement (session=\"6a25f279bf5fe7206b8a4fe6d2fec094\", element=\"c0ac012f-ec49-4158-9aaa-d184474b70ad\")>]"
      ]
     },
     "execution_count": 175,
     "metadata": {},
     "output_type": "execute_result"
    }
   ],
   "source": [
    "desc=driver7.find_elements_by_xpath('//h4[@class=\"product-product\"]')\n",
    "desc[0:5]"
   ]
  },
  {
   "cell_type": "code",
   "execution_count": 176,
   "id": "863dbc94",
   "metadata": {},
   "outputs": [
    {
     "data": {
      "text/plain": [
       "['High-Top Comfort Heeled Boots',\n",
       " 'PU Block Pumps with Buckles',\n",
       " 'Leather Slip-On Ballerinas',\n",
       " 'Women Solid Leather Ballerina',\n",
       " 'Women Woven Running Shoes',\n",
       " 'PEAKFREAK XCRSN Trekking Shoe',\n",
       " 'PEAKFREAK OUTDRY Trekking Shoe',\n",
       " 'Men Solid Formal Oxfords',\n",
       " 'Men Solid Leather Formal Monks',\n",
       " 'Men Walking Shoes',\n",
       " 'Men Solid Leather Formal Derbys',\n",
       " 'Men Leather Driving Shoes',\n",
       " 'Men Wingtip Oxford Sneakers',\n",
       " 'Men GENERATION ZEROGRAND STITCHLITE',\n",
       " 'Men Textured Leather Loafers',\n",
       " 'Men Textured Leather Loafers',\n",
       " 'Men Textured Leather Formal Derbys',\n",
       " 'Women Leather Mules',\n",
       " 'Men Running Shoes',\n",
       " 'Women Solid Leather Pumps',\n",
       " 'Men Formal Leather Derby',\n",
       " 'Women Open Toe Flats',\n",
       " 'Women Sneakers',\n",
       " 'Women Solid Leather Ballerinas',\n",
       " 'Women Solid Leather Ballerinas',\n",
       " 'Cabo WP Riding Boots',\n",
       " 'Men Colourblocked PU Sneakers',\n",
       " 'Women Leather Heeled Boots',\n",
       " 'Men Leather Formal Loafers',\n",
       " 'Women Leather Heeled Boots',\n",
       " 'Women Leather Heeled Boots',\n",
       " 'Women Leather Heeled Boots',\n",
       " 'Platform Peep Toes with Buckles',\n",
       " 'Men Leather Formal Loafers',\n",
       " 'Block Heeled Boots',\n",
       " 'Men Leather Driving Shoes',\n",
       " 'Leather Kitten Heeled Boots',\n",
       " 'Leather High-Top Block Heeled Boots',\n",
       " 'Leather Wedge Heeled Boots with Buckles',\n",
       " 'Solid Slip On Shoes',\n",
       " 'Printed Flatform Heeled Boots with Buckles',\n",
       " 'Leather Platform Heeled Boots',\n",
       " 'Men Solid Leather Formal Loafers',\n",
       " 'Leather Block Heeled Boots with Bows',\n",
       " 'Men Textured Leather Formal Loafers',\n",
       " 'Leather High-Top Heeled Boots',\n",
       " 'Suede High-Top Flatform Heeled Boots',\n",
       " 'Men Textured Formal Leather Loafers',\n",
       " 'Men Solid Leather Formal Derbys',\n",
       " 'Leather Boots with Buckles']"
      ]
     },
     "execution_count": 176,
     "metadata": {},
     "output_type": "execute_result"
    }
   ],
   "source": [
    "descs=[]\n",
    "for i in desc:\n",
    "    descs.append(i.text)\n",
    "descs    "
   ]
  },
  {
   "cell_type": "code",
   "execution_count": 177,
   "id": "a172797e",
   "metadata": {},
   "outputs": [
    {
     "data": {
      "text/plain": [
       "[<selenium.webdriver.remote.webelement.WebElement (session=\"6a25f279bf5fe7206b8a4fe6d2fec094\", element=\"eafe87b5-1c0f-42d6-8867-253995ee94f8\")>,\n",
       " <selenium.webdriver.remote.webelement.WebElement (session=\"6a25f279bf5fe7206b8a4fe6d2fec094\", element=\"0b177f20-5e7e-4883-8002-f76de29be1cb\")>,\n",
       " <selenium.webdriver.remote.webelement.WebElement (session=\"6a25f279bf5fe7206b8a4fe6d2fec094\", element=\"4b8ce6b0-5707-479c-9d4e-3d881fcb2392\")>,\n",
       " <selenium.webdriver.remote.webelement.WebElement (session=\"6a25f279bf5fe7206b8a4fe6d2fec094\", element=\"2c372f46-9efe-4f6a-bcec-b0213c6ba469\")>,\n",
       " <selenium.webdriver.remote.webelement.WebElement (session=\"6a25f279bf5fe7206b8a4fe6d2fec094\", element=\"2bc2be12-2e30-4472-aaf3-fa2e7eeee13b\")>]"
      ]
     },
     "execution_count": 177,
     "metadata": {},
     "output_type": "execute_result"
    }
   ],
   "source": [
    "price=driver7.find_elements_by_xpath('//div[@class=\"product-price\"]')\n",
    "price[0:5]"
   ]
  },
  {
   "cell_type": "code",
   "execution_count": 178,
   "id": "4ab41a47",
   "metadata": {},
   "outputs": [
    {
     "data": {
      "text/plain": [
       "['Rs. 8900',\n",
       " 'Rs. 7999',\n",
       " 'Rs. 7999',\n",
       " 'Rs. 9999',\n",
       " 'Rs. 7149Rs. 12999(45% OFF)',\n",
       " 'Rs. 9999',\n",
       " 'Rs. 9999',\n",
       " 'Rs. 8999',\n",
       " 'Rs. 7999',\n",
       " 'Rs. 7199Rs. 8999(20% OFF)',\n",
       " 'Rs. 9499',\n",
       " 'Rs. 9499',\n",
       " 'Rs. 12999',\n",
       " 'Rs. 11999',\n",
       " 'Rs. 7990',\n",
       " 'Rs. 8490',\n",
       " 'Rs. 8999Rs. 9999(Rs. 1000 OFF)',\n",
       " 'Rs. 7216Rs. 8200(12% OFF)',\n",
       " 'Rs. 7699',\n",
       " 'Rs. 10990',\n",
       " 'Rs. 7990',\n",
       " 'Rs. 11999',\n",
       " 'Rs. 12999',\n",
       " 'Rs. 8999',\n",
       " 'Rs. 13999',\n",
       " 'Rs. 8500',\n",
       " 'Rs. 9999',\n",
       " 'Rs. 12325Rs. 14500(15% OFF)',\n",
       " 'Rs. 7490',\n",
       " 'Rs. 12325Rs. 14500(15% OFF)',\n",
       " 'Rs. 11815Rs. 13900(15% OFF)',\n",
       " 'Rs. 14025Rs. 16500(15% OFF)',\n",
       " 'Rs. 7690',\n",
       " 'Rs. 7490',\n",
       " 'Rs. 7699Rs. 10999(30% OFF)',\n",
       " 'Rs. 7499',\n",
       " 'Rs. 8415Rs. 9900(15% OFF)',\n",
       " 'Rs. 14025Rs. 16500(15% OFF)',\n",
       " 'Rs. 12665Rs. 14900(15% OFF)',\n",
       " 'Rs. 7990',\n",
       " 'Rs. 8415Rs. 9900(15% OFF)',\n",
       " 'Rs. 9265Rs. 10900(15% OFF)',\n",
       " 'Rs. 9990',\n",
       " 'Rs. 11815Rs. 13900(15% OFF)',\n",
       " 'Rs. 8990',\n",
       " 'Rs. 10625Rs. 12500(15% OFF)',\n",
       " 'Rs. 11475Rs. 13500(15% OFF)',\n",
       " 'Rs. 8990',\n",
       " 'Rs. 9990',\n",
       " 'Rs. 8925Rs. 10500(15% OFF)']"
      ]
     },
     "execution_count": 178,
     "metadata": {},
     "output_type": "execute_result"
    }
   ],
   "source": [
    "prices=[]\n",
    "for i in price:\n",
    "    prices.append(i.text)\n",
    "prices    "
   ]
  },
  {
   "cell_type": "markdown",
   "id": "fe57f759",
   "metadata": {},
   "source": [
    "ans8)"
   ]
  },
  {
   "cell_type": "code",
   "execution_count": 3,
   "id": "363948d7",
   "metadata": {},
   "outputs": [
    {
     "data": {
      "text/plain": [
       "<selenium.webdriver.chrome.webdriver.WebDriver (session=\"938da76502018c31746ba425784851dd\")>"
      ]
     },
     "execution_count": 3,
     "metadata": {},
     "output_type": "execute_result"
    }
   ],
   "source": [
    "driver8=webdriver.Chrome('chromedriver.exe')\n",
    "driver8"
   ]
  },
  {
   "cell_type": "code",
   "execution_count": 4,
   "id": "005c3b00",
   "metadata": {},
   "outputs": [],
   "source": [
    "url8=('https://www.amazon.in/')\n",
    "driver8.get(url8)"
   ]
  },
  {
   "cell_type": "code",
   "execution_count": 5,
   "id": "2bd198bf",
   "metadata": {},
   "outputs": [
    {
     "data": {
      "text/plain": [
       "<selenium.webdriver.remote.webelement.WebElement (session=\"938da76502018c31746ba425784851dd\", element=\"fc59a1a4-9cf9-4d91-8220-ffa2b7bc2643\")>"
      ]
     },
     "execution_count": 5,
     "metadata": {},
     "output_type": "execute_result"
    }
   ],
   "source": [
    "search=driver8.find_element_by_xpath('/html/body/div[1]/header/div/div[1]/div[2]/div/form/div[2]/div[1]/input')\n",
    "search"
   ]
  },
  {
   "cell_type": "code",
   "execution_count": 6,
   "id": "e424290f",
   "metadata": {},
   "outputs": [],
   "source": [
    "search.send_keys('Laptop')"
   ]
  },
  {
   "cell_type": "code",
   "execution_count": 7,
   "id": "e0a768de",
   "metadata": {},
   "outputs": [
    {
     "data": {
      "text/plain": [
       "<selenium.webdriver.remote.webelement.WebElement (session=\"938da76502018c31746ba425784851dd\", element=\"a4412b93-9b10-4c2f-b9de-ed0e4ef7bc02\")>"
      ]
     },
     "execution_count": 7,
     "metadata": {},
     "output_type": "execute_result"
    }
   ],
   "source": [
    "searchbt=driver8.find_element_by_xpath('/html/body/div[1]/header/div/div[1]/div[2]/div/form/div[3]/div')\n",
    "searchbt"
   ]
  },
  {
   "cell_type": "code",
   "execution_count": 8,
   "id": "bb56246c",
   "metadata": {},
   "outputs": [],
   "source": [
    "searchbt.click()"
   ]
  },
  {
   "cell_type": "code",
   "execution_count": 9,
   "id": "30e1f539",
   "metadata": {},
   "outputs": [
    {
     "data": {
      "text/plain": [
       "<selenium.webdriver.remote.webelement.WebElement (session=\"938da76502018c31746ba425784851dd\", element=\"3a3164de-f663-4d86-b62c-6af46a9aca5a\")>"
      ]
     },
     "execution_count": 9,
     "metadata": {},
     "output_type": "execute_result"
    }
   ],
   "source": [
    "cpufilter=driver8.find_element_by_xpath('/html/body/div[1]/div[2]/div[1]/div[2]/div/div[3]/span/div[1]/div/div/div[6]/ul[4]/li[13]/span/a/div/label/i')\n",
    "cpufilter"
   ]
  },
  {
   "cell_type": "code",
   "execution_count": 10,
   "id": "e51ca134",
   "metadata": {},
   "outputs": [],
   "source": [
    "cpufilter.click()"
   ]
  },
  {
   "cell_type": "code",
   "execution_count": 11,
   "id": "dcadbdf4",
   "metadata": {},
   "outputs": [
    {
     "data": {
      "text/plain": [
       "[<selenium.webdriver.remote.webelement.WebElement (session=\"938da76502018c31746ba425784851dd\", element=\"ecb0700e-3569-4df2-80ab-b6965fe0907a\")>,\n",
       " <selenium.webdriver.remote.webelement.WebElement (session=\"938da76502018c31746ba425784851dd\", element=\"38dc7828-518f-4569-9e4e-54e31290eb3c\")>,\n",
       " <selenium.webdriver.remote.webelement.WebElement (session=\"938da76502018c31746ba425784851dd\", element=\"4e04e4f1-db63-4852-96cb-91d51f63a689\")>,\n",
       " <selenium.webdriver.remote.webelement.WebElement (session=\"938da76502018c31746ba425784851dd\", element=\"f40c1e62-fbb7-468c-9838-0abac4796384\")>,\n",
       " <selenium.webdriver.remote.webelement.WebElement (session=\"938da76502018c31746ba425784851dd\", element=\"6d14104a-4dcf-46b9-b48a-e9c6284f601d\")>]"
      ]
     },
     "execution_count": 11,
     "metadata": {},
     "output_type": "execute_result"
    }
   ],
   "source": [
    "title=driver8.find_elements_by_xpath('//span[@class=\"a-size-medium a-color-base a-text-normal\"]')\n",
    "title[0:5]"
   ]
  },
  {
   "cell_type": "code",
   "execution_count": 12,
   "id": "aeaf28b4",
   "metadata": {},
   "outputs": [
    {
     "data": {
      "text/plain": [
       "['LG Gram 16 Ultra-Light Intel Evo 11th Gen Core i7 16 inches Laptop (16 GB RAM, 512 GB SSD, Windows 10 Home, Iris Xe Graphics, Thunderbolt 4, USC -C x 2 (with Power), 1.19 kg, 16Z90P, Black)',\n",
       " 'Fujitsu UH-X 11th Gen Intel Core i7 13.3” FHD IPS 400Nits Thin & Light Laptop(16GB/512GB SSD/Windows 11/Office 2021/Iris Xe Graphics/Backlit Kb/Fingerprint Reader/2Yr Warranty/Black/878gms),4ZR1F38024',\n",
       " 'ASUS VivoBook 14 (2021), 14-inch (35.56 cms) FHD, Intel Core i7-1065G7 10th Gen, Thin and Light Laptop (16GB/512GB SSD/Integrated Graphics/Office 2021/Windows 11/Silver/1.6 Kg), X415JA-EK701WS',\n",
       " 'Mi Notebook Ultra 3.2K Resolution Display Intel Core i7-11370H 11th Gen 15.6-inch(39.62 cm) Thin and Light Laptop (16GB/512GB SSD/Iris Xe Graphic/Win 10/MS Office/Backlit KB/Fingerprint Sensor/1.7Kg)',\n",
       " 'LG Gram 16 inches Intel Evo 11th Gen Core i7 Ultra-Light Laptop (16 GB RAM, 512 GB SSD, New Windows 11 Home Preload, Iris Xe Graphics, USC -C x 2 (with Power), 1.19 kg, 16Z90P-G.AH85A2, Black)',\n",
       " 'LG Gram Intel Evo 11th Gen Core i7 17 inches Ultra-Light Laptop (16 GB RAM, 512 GB SSD, New Windows 11 Home Preload, Iris Xe Graphics, USC -C x 2 (with Power), 1.35 kg, 17Z90P-G.AH85A2, Black)',\n",
       " 'ASUS TUF Gaming F15 (2021), 15.6\" (39.62 cms) FHD 144Hz, Intel Core i7-11600H 11th Gen, 4GB RTX 3050 Graphics, Gaming Laptop (16GB/512GB SSD/Windows 10/Office 2019/Gray/2.3 Kg), FX566HCB-HN299TS',\n",
       " 'HP Pavilion 11th Gen Intel Core i7 15.6 inches FHD Gaming Laptop (16GB RAM/512GB SSD/144Hz/4GB NVIDIA GeForce GTX 1650 Graphics/Windows 10 Home/MS Office/Shadow Black/2.28 Kg), 15-dk2075tx',\n",
       " 'ASUS VivoBook K15 OLED (2021), 15.6-inch (39.62 cms) FHD OLED, Intel Core i7-1165G7 11th Gen, Thin and Light Laptop (16GB/512GB SSD/Iris Xe Graphics/Office 2021/Windows 11/Silver/1.8 Kg) K513EA-L712WS',\n",
       " 'ASUS ZenBook 13 OLED (2021) Intel Core i7-1165G7 11th Gen 13.3\" (33.78 cms) FHD Thin and Light Laptop (16GB/512GB SSD/Windows 10/Office 2019/Intel Iris Xᵉ Graphics/Pine Grey/1.14 kg), UX325EA-KG722TS']"
      ]
     },
     "execution_count": 12,
     "metadata": {},
     "output_type": "execute_result"
    }
   ],
   "source": [
    "titles=[]\n",
    "for i in title:\n",
    "    titles.append(i.text)\n",
    "titles[0:10]  "
   ]
  },
  {
   "cell_type": "markdown",
   "id": "0c06dfe6",
   "metadata": {},
   "source": [
    "the teacher told us that this is part of exception handling selenium ...we dont know about it .so in the next lecture it is going to be covered up"
   ]
  },
  {
   "cell_type": "code",
   "execution_count": 13,
   "id": "e07c881a",
   "metadata": {},
   "outputs": [
    {
     "data": {
      "text/plain": [
       "[]"
      ]
     },
     "execution_count": 13,
     "metadata": {},
     "output_type": "execute_result"
    }
   ],
   "source": [
    "rating=driver8.find_elements_by_xpath('//span[@class=\"a-size-base a-nowrap\"]//span')\n",
    "rating[0:5]"
   ]
  },
  {
   "cell_type": "code",
   "execution_count": 213,
   "id": "ea4406a9",
   "metadata": {},
   "outputs": [
    {
     "data": {
      "text/plain": [
       "['', '', '', '', '', '', '', '', '', '']"
      ]
     },
     "execution_count": 213,
     "metadata": {},
     "output_type": "execute_result"
    }
   ],
   "source": [
    "ratings=[]\n",
    "for i in rating:\n",
    "    ratings.append(i.text)\n",
    "ratings[0:10]    "
   ]
  },
  {
   "cell_type": "code",
   "execution_count": 208,
   "id": "0b0f4e3b",
   "metadata": {},
   "outputs": [
    {
     "data": {
      "text/plain": [
       "[<selenium.webdriver.remote.webelement.WebElement (session=\"d13104c5fc6ad0d40dd985a82d0fc045\", element=\"cda8f83b-300a-4630-b222-315229fe8b69\")>,\n",
       " <selenium.webdriver.remote.webelement.WebElement (session=\"d13104c5fc6ad0d40dd985a82d0fc045\", element=\"6124e2c0-3b96-4975-ae01-7db5804d9790\")>,\n",
       " <selenium.webdriver.remote.webelement.WebElement (session=\"d13104c5fc6ad0d40dd985a82d0fc045\", element=\"a7f7da46-5d02-43b2-ab95-69d0cf1e5f75\")>,\n",
       " <selenium.webdriver.remote.webelement.WebElement (session=\"d13104c5fc6ad0d40dd985a82d0fc045\", element=\"dd1ffcc3-f3f9-4990-86ec-9dbb5150b665\")>,\n",
       " <selenium.webdriver.remote.webelement.WebElement (session=\"d13104c5fc6ad0d40dd985a82d0fc045\", element=\"f7176ecf-fe8a-4688-a511-30d8c367361a\")>]"
      ]
     },
     "execution_count": 208,
     "metadata": {},
     "output_type": "execute_result"
    }
   ],
   "source": [
    "price=driver8.find_elements_by_xpath('//span[@class=\"a-price-whole\"]')\n",
    "price[0:5]"
   ]
  },
  {
   "cell_type": "code",
   "execution_count": 209,
   "id": "13196ca7",
   "metadata": {},
   "outputs": [
    {
     "data": {
      "text/plain": [
       "['86,999',\n",
       " '96,999',\n",
       " '77,999',\n",
       " '57,990',\n",
       " '89,999',\n",
       " '96,999',\n",
       " '89,990',\n",
       " '89,390',\n",
       " '86,290',\n",
       " '1,34,990']"
      ]
     },
     "execution_count": 209,
     "metadata": {},
     "output_type": "execute_result"
    }
   ],
   "source": [
    "prices=[]\n",
    "for i in price:\n",
    "    prices.append(i.text)\n",
    "prices[0:10]"
   ]
  },
  {
   "cell_type": "markdown",
   "id": "94a451a5",
   "metadata": {},
   "source": [
    "ans9)"
   ]
  },
  {
   "cell_type": "code",
   "execution_count": 2,
   "id": "029c62c8",
   "metadata": {},
   "outputs": [],
   "source": [
    "driver9=webdriver.Chrome('chromedriver.exe')"
   ]
  },
  {
   "cell_type": "code",
   "execution_count": 3,
   "id": "b9911097",
   "metadata": {},
   "outputs": [],
   "source": [
    "url9=('https://www.ambitionbox.com/')\n",
    "driver9.get(url9)"
   ]
  },
  {
   "cell_type": "code",
   "execution_count": 4,
   "id": "c175be8c",
   "metadata": {},
   "outputs": [
    {
     "data": {
      "text/plain": [
       "<selenium.webdriver.remote.webelement.WebElement (session=\"e01cf515243af51dd33a39fd55b5747b\", element=\"b74f1d1f-1b7e-40a0-ad67-a5dc60da7c68\")>"
      ]
     },
     "execution_count": 4,
     "metadata": {},
     "output_type": "execute_result"
    }
   ],
   "source": [
    "job1=driver9.find_element_by_xpath('/html/body/div[1]/nav/nav/a[6]')\n",
    "job1"
   ]
  },
  {
   "cell_type": "code",
   "execution_count": 5,
   "id": "64559afe",
   "metadata": {},
   "outputs": [],
   "source": [
    "job1.click()"
   ]
  },
  {
   "cell_type": "code",
   "execution_count": 6,
   "id": "7e757e71",
   "metadata": {},
   "outputs": [
    {
     "data": {
      "text/plain": [
       "<selenium.webdriver.remote.webelement.WebElement (session=\"e01cf515243af51dd33a39fd55b5747b\", element=\"43cd9d3d-3307-4c13-8f0e-c388fabccf5c\")>"
      ]
     },
     "execution_count": 6,
     "metadata": {},
     "output_type": "execute_result"
    }
   ],
   "source": [
    "search1=driver9.find_element_by_xpath('/html/body/div/div/div/div[2]/div[1]/div/div/div/div/span/input')\n",
    "search1"
   ]
  },
  {
   "cell_type": "code",
   "execution_count": 7,
   "id": "726dd280",
   "metadata": {},
   "outputs": [],
   "source": [
    "search1.send_keys('Data Scientist')"
   ]
  },
  {
   "cell_type": "code",
   "execution_count": 8,
   "id": "48e4e009",
   "metadata": {},
   "outputs": [
    {
     "data": {
      "text/plain": [
       "<selenium.webdriver.remote.webelement.WebElement (session=\"e01cf515243af51dd33a39fd55b5747b\", element=\"6881f7ec-a271-47e7-b73c-c1917cdf5b22\")>"
      ]
     },
     "execution_count": 8,
     "metadata": {},
     "output_type": "execute_result"
    }
   ],
   "source": [
    "searchbt=driver9.find_element_by_xpath('/html/body/div/div/div/div[2]/div[1]/div/div/div/button/span')\n",
    "searchbt"
   ]
  },
  {
   "cell_type": "code",
   "execution_count": 9,
   "id": "1f885161",
   "metadata": {},
   "outputs": [],
   "source": [
    "searchbt.click()"
   ]
  },
  {
   "cell_type": "code",
   "execution_count": 10,
   "id": "d5db9908",
   "metadata": {},
   "outputs": [
    {
     "data": {
      "text/plain": [
       "<selenium.webdriver.remote.webelement.WebElement (session=\"e01cf515243af51dd33a39fd55b5747b\", element=\"d2f7848a-6d68-4f2e-93b0-4dd6ba84fe1d\")>"
      ]
     },
     "execution_count": 10,
     "metadata": {},
     "output_type": "execute_result"
    }
   ],
   "source": [
    "location1=driver9.find_element_by_xpath('/html/body/div/div/div/div[2]/div[2]/div[1]/div/div/div/div[2]/div[1]/p')\n",
    "location1"
   ]
  },
  {
   "cell_type": "code",
   "execution_count": 11,
   "id": "787bd6e3",
   "metadata": {},
   "outputs": [],
   "source": [
    "location1.click()"
   ]
  },
  {
   "cell_type": "code",
   "execution_count": 12,
   "id": "ec27fa5b",
   "metadata": {},
   "outputs": [
    {
     "data": {
      "text/plain": [
       "<selenium.webdriver.remote.webelement.WebElement (session=\"e01cf515243af51dd33a39fd55b5747b\", element=\"89aeca19-248f-4661-864b-c377d8d6e88e\")>"
      ]
     },
     "execution_count": 12,
     "metadata": {},
     "output_type": "execute_result"
    }
   ],
   "source": [
    "searchloc=driver9.find_element_by_xpath('/html/body/div/div/div/div[2]/div[2]/div[1]/div/div/div/div[2]/div[2]/div/div[2]/input')\n",
    "searchloc"
   ]
  },
  {
   "cell_type": "code",
   "execution_count": 13,
   "id": "b8892047",
   "metadata": {},
   "outputs": [],
   "source": [
    "searchloc.send_keys('Noida')"
   ]
  },
  {
   "cell_type": "code",
   "execution_count": 14,
   "id": "a799810e",
   "metadata": {},
   "outputs": [
    {
     "data": {
      "text/plain": [
       "<selenium.webdriver.remote.webelement.WebElement (session=\"e01cf515243af51dd33a39fd55b5747b\", element=\"4cfb6587-2e94-48c1-a9f1-392867a9aac0\")>"
      ]
     },
     "execution_count": 14,
     "metadata": {},
     "output_type": "execute_result"
    }
   ],
   "source": [
    "select=driver9.find_element_by_xpath('/html/body/div/div/div/div[2]/div[2]/div[1]/div/div/div/div[2]/div[2]/div/div[3]/div[1]/div[1]/div/label')\n",
    "select"
   ]
  },
  {
   "cell_type": "code",
   "execution_count": 15,
   "id": "ed51a30b",
   "metadata": {},
   "outputs": [],
   "source": [
    "select.click()"
   ]
  },
  {
   "cell_type": "code",
   "execution_count": 16,
   "id": "ce2af799",
   "metadata": {},
   "outputs": [
    {
     "data": {
      "text/plain": [
       "[<selenium.webdriver.remote.webelement.WebElement (session=\"e01cf515243af51dd33a39fd55b5747b\", element=\"d897b830-9bfe-4ae6-8b14-d102fe80c54b\")>,\n",
       " <selenium.webdriver.remote.webelement.WebElement (session=\"e01cf515243af51dd33a39fd55b5747b\", element=\"008d06ca-a881-4c65-ad10-c4c51fc69d76\")>,\n",
       " <selenium.webdriver.remote.webelement.WebElement (session=\"e01cf515243af51dd33a39fd55b5747b\", element=\"4e28d752-6bed-4166-b99e-f43e05108558\")>,\n",
       " <selenium.webdriver.remote.webelement.WebElement (session=\"e01cf515243af51dd33a39fd55b5747b\", element=\"80f7f275-a1f3-44ef-a848-b6e1d427a291\")>,\n",
       " <selenium.webdriver.remote.webelement.WebElement (session=\"e01cf515243af51dd33a39fd55b5747b\", element=\"6033b443-f40e-4427-8c8c-9803a58b56f5\")>]"
      ]
     },
     "execution_count": 16,
     "metadata": {},
     "output_type": "execute_result"
    }
   ],
   "source": [
    "company=driver9.find_elements_by_xpath('//p[@class=\"company body-medium\"]')\n",
    "company[0:5]"
   ]
  },
  {
   "cell_type": "code",
   "execution_count": 17,
   "id": "a9a1be15",
   "metadata": {},
   "outputs": [
    {
     "data": {
      "text/plain": [
       "['', '', '', '', '', '', '', '', '', '']"
      ]
     },
     "execution_count": 17,
     "metadata": {},
     "output_type": "execute_result"
    }
   ],
   "source": [
    "companys=[]\n",
    "for i in company:\n",
    "    companys.append(i.text)\n",
    "companys[0:10]    "
   ]
  },
  {
   "cell_type": "code",
   "execution_count": 18,
   "id": "47bcba9e",
   "metadata": {},
   "outputs": [
    {
     "data": {
      "text/plain": [
       "[<selenium.webdriver.remote.webelement.WebElement (session=\"e01cf515243af51dd33a39fd55b5747b\", element=\"7cfc22ec-26b7-4db1-a6b8-7fdfa7cf8c9b\")>,\n",
       " <selenium.webdriver.remote.webelement.WebElement (session=\"e01cf515243af51dd33a39fd55b5747b\", element=\"29c35eb3-2dc5-457f-abfa-60c8b7ba4340\")>,\n",
       " <selenium.webdriver.remote.webelement.WebElement (session=\"e01cf515243af51dd33a39fd55b5747b\", element=\"fba25b60-80f0-4f1c-b52e-a29906448f2a\")>,\n",
       " <selenium.webdriver.remote.webelement.WebElement (session=\"e01cf515243af51dd33a39fd55b5747b\", element=\"bb3478f6-b718-4b93-a0a2-ac4027b65822\")>,\n",
       " <selenium.webdriver.remote.webelement.WebElement (session=\"e01cf515243af51dd33a39fd55b5747b\", element=\"4fb1805f-be7a-4ecd-8fe6-1a58be77544a\")>]"
      ]
     },
     "execution_count": 18,
     "metadata": {},
     "output_type": "execute_result"
    }
   ],
   "source": [
    "day=driver9.find_elements_by_xpath('//span[@class=\"body-small-l\"]')\n",
    "day[0:5]"
   ]
  },
  {
   "cell_type": "code",
   "execution_count": 20,
   "id": "c25ac64e",
   "metadata": {},
   "outputs": [
    {
     "data": {
      "text/plain": [
       "['10d ago',\n",
       " 'via naukri.com',\n",
       " '11d ago',\n",
       " 'via naukri.com',\n",
       " '11d ago',\n",
       " 'via naukri.com',\n",
       " '22d ago',\n",
       " 'via naukri.com',\n",
       " '19d ago',\n",
       " 'via naukri.com',\n",
       " '9d ago',\n",
       " 'via naukri.com',\n",
       " '26d ago',\n",
       " 'via naukri.com',\n",
       " '4d ago',\n",
       " 'via naukri.com',\n",
       " '11d ago',\n",
       " 'via naukri.com',\n",
       " '1mon ago',\n",
       " 'via naukri.com']"
      ]
     },
     "execution_count": 20,
     "metadata": {},
     "output_type": "execute_result"
    }
   ],
   "source": [
    "days=[]\n",
    "for i in day:\n",
    "    days.append(i.text)\n",
    "days"
   ]
  },
  {
   "cell_type": "code",
   "execution_count": 27,
   "id": "6d2ef505",
   "metadata": {},
   "outputs": [
    {
     "data": {
      "text/plain": [
       "['10d ago',\n",
       " '11d ago',\n",
       " '11d ago',\n",
       " '22d ago',\n",
       " '19d ago',\n",
       " '9d ago',\n",
       " '26d ago',\n",
       " '4d ago',\n",
       " '11d ago',\n",
       " '1mon ago']"
      ]
     },
     "execution_count": 27,
     "metadata": {},
     "output_type": "execute_result"
    }
   ],
   "source": [
    "daysago=[]\n",
    "for i in range(0,19,2):\n",
    "    daysago.append(day[i].text)\n",
    "daysago    "
   ]
  },
  {
   "cell_type": "code",
   "execution_count": 52,
   "id": "cc164b2b",
   "metadata": {},
   "outputs": [
    {
     "data": {
      "text/plain": [
       "[<selenium.webdriver.remote.webelement.WebElement (session=\"07da884b531ad38b230fda724b4a8283\", element=\"7ab93dc6-2c62-4210-b4a6-1f7ae2e63fab\")>,\n",
       " <selenium.webdriver.remote.webelement.WebElement (session=\"07da884b531ad38b230fda724b4a8283\", element=\"dc0e1cce-4dcd-4c2c-a95d-f8d245f45320\")>,\n",
       " <selenium.webdriver.remote.webelement.WebElement (session=\"07da884b531ad38b230fda724b4a8283\", element=\"47a5d8a6-281d-4aec-bf7f-6b64aed4b2f9\")>,\n",
       " <selenium.webdriver.remote.webelement.WebElement (session=\"07da884b531ad38b230fda724b4a8283\", element=\"85e19642-b18b-45d4-9624-cac7b08d80d6\")>,\n",
       " <selenium.webdriver.remote.webelement.WebElement (session=\"07da884b531ad38b230fda724b4a8283\", element=\"13cd87df-33ca-440c-986e-38c81c465eac\")>]"
      ]
     },
     "execution_count": 52,
     "metadata": {},
     "output_type": "execute_result"
    }
   ],
   "source": [
    "rating=driver9.find_elements_by_xpath('//span[@class=\"body-small\"]')\n",
    "rating[0:5]"
   ]
  },
  {
   "cell_type": "code",
   "execution_count": 54,
   "id": "ca4d0fb6",
   "metadata": {},
   "outputs": [
    {
     "data": {
      "text/plain": [
       "['3.9', '3.8', '4.1', '4.2', '4.2', '3.8', '3.9', '3.8', '3.7', '4.0']"
      ]
     },
     "execution_count": 54,
     "metadata": {},
     "output_type": "execute_result"
    }
   ],
   "source": [
    "ratings=[]\n",
    "for i in rating:\n",
    "    ratings.append(i.text)\n",
    "    i.text\n",
    "ratings[0:10]   "
   ]
  },
  {
   "cell_type": "markdown",
   "id": "c79f0760",
   "metadata": {},
   "source": [
    "ans10)"
   ]
  },
  {
   "cell_type": "code",
   "execution_count": 28,
   "id": "0b6198cc",
   "metadata": {},
   "outputs": [
    {
     "data": {
      "text/plain": [
       "<selenium.webdriver.chrome.webdriver.WebDriver (session=\"2bc76d60df6ff42cd0ef615280425bf5\")>"
      ]
     },
     "execution_count": 28,
     "metadata": {},
     "output_type": "execute_result"
    }
   ],
   "source": [
    "driver10=webdriver.Chrome('chromedriver.exe')\n",
    "driver10"
   ]
  },
  {
   "cell_type": "code",
   "execution_count": 29,
   "id": "b2f65326",
   "metadata": {},
   "outputs": [],
   "source": [
    "url10=('https://www.ambitionbox.com/')\n",
    "driver10.get(url10)"
   ]
  },
  {
   "cell_type": "code",
   "execution_count": 30,
   "id": "205a6439",
   "metadata": {},
   "outputs": [
    {
     "data": {
      "text/plain": [
       "<selenium.webdriver.remote.webelement.WebElement (session=\"2bc76d60df6ff42cd0ef615280425bf5\", element=\"b0b2bfa7-3153-4aa6-ab20-eb34e2713836\")>"
      ]
     },
     "execution_count": 30,
     "metadata": {},
     "output_type": "execute_result"
    }
   ],
   "source": [
    "sal=driver10.find_element_by_xpath('/html/body/div[1]/nav/nav/a[4]')\n",
    "sal"
   ]
  },
  {
   "cell_type": "code",
   "execution_count": 31,
   "id": "130de961",
   "metadata": {},
   "outputs": [],
   "source": [
    "sal.click()"
   ]
  },
  {
   "cell_type": "code",
   "execution_count": 36,
   "id": "20c27c78",
   "metadata": {},
   "outputs": [
    {
     "data": {
      "text/plain": [
       "<selenium.webdriver.remote.webelement.WebElement (session=\"2bc76d60df6ff42cd0ef615280425bf5\", element=\"6c732c57-8299-46d2-a7a1-5c3945506aee\")>"
      ]
     },
     "execution_count": 36,
     "metadata": {},
     "output_type": "execute_result"
    }
   ],
   "source": [
    "search=driver10.find_element_by_xpath('/html/body/div/div/div/main/section[1]/div[2]/div[1]/span/input')\n",
    "search"
   ]
  },
  {
   "cell_type": "code",
   "execution_count": 37,
   "id": "8f6c09a1",
   "metadata": {},
   "outputs": [],
   "source": [
    "search.send_keys('Data Scientist')"
   ]
  },
  {
   "cell_type": "code",
   "execution_count": 48,
   "id": "9eeb818e",
   "metadata": {},
   "outputs": [
    {
     "data": {
      "text/plain": [
       "<selenium.webdriver.remote.webelement.WebElement (session=\"2bc76d60df6ff42cd0ef615280425bf5\", element=\"9feed85c-b6dc-44b4-8e28-eb0023bc66cc\")>"
      ]
     },
     "execution_count": 48,
     "metadata": {},
     "output_type": "execute_result"
    }
   ],
   "source": [
    "searchbt10=driver10.find_element_by_xpath('/html/body/div/div/div/main/section[1]/div[2]/div[1]/span/div/div/div[1]/div/div/p')\n",
    "searchbt10"
   ]
  },
  {
   "cell_type": "code",
   "execution_count": 49,
   "id": "27101dd2",
   "metadata": {},
   "outputs": [
    {
     "ename": "ElementNotInteractableException",
     "evalue": "Message: element not interactable\n  (Session info: chrome=99.0.4844.74)\nStacktrace:\nBacktrace:\n\tOrdinal0 [0x00329943+2595139]\n\tOrdinal0 [0x002BC9F1+2148849]\n\tOrdinal0 [0x001B43F0+1065968]\n\tOrdinal0 [0x001E1F17+1253143]\n\tOrdinal0 [0x001D7AB3+1211059]\n\tOrdinal0 [0x001FB9EC+1358316]\n\tOrdinal0 [0x001D7474+1209460]\n\tOrdinal0 [0x001FBC04+1358852]\n\tOrdinal0 [0x0020BAF2+1424114]\n\tOrdinal0 [0x001FB806+1357830]\n\tOrdinal0 [0x001D6086+1204358]\n\tOrdinal0 [0x001D6F96+1208214]\n\tGetHandleVerifier [0x004CB232+1658114]\n\tGetHandleVerifier [0x0058312C+2411516]\n\tGetHandleVerifier [0x003BF261+560433]\n\tGetHandleVerifier [0x003BE366+556598]\n\tOrdinal0 [0x002C286B+2173035]\n\tOrdinal0 [0x002C75F8+2192888]\n\tOrdinal0 [0x002C76E5+2193125]\n\tOrdinal0 [0x002D11FC+2232828]\n\tBaseThreadInitThunk [0x76CBFA29+25]\n\tRtlGetAppContainerNamedObjectPath [0x77467A7E+286]\n\tRtlGetAppContainerNamedObjectPath [0x77467A4E+238]\n\t(No symbol) [0x00000000]\n",
     "output_type": "error",
     "traceback": [
      "\u001b[1;31m---------------------------------------------------------------------------\u001b[0m",
      "\u001b[1;31mElementNotInteractableException\u001b[0m           Traceback (most recent call last)",
      "\u001b[1;32m~\\AppData\\Local\\Temp/ipykernel_7584/1016888077.py\u001b[0m in \u001b[0;36m<module>\u001b[1;34m\u001b[0m\n\u001b[1;32m----> 1\u001b[1;33m \u001b[0msearchbt10\u001b[0m\u001b[1;33m.\u001b[0m\u001b[0mclick\u001b[0m\u001b[1;33m(\u001b[0m\u001b[1;33m)\u001b[0m\u001b[1;33m\u001b[0m\u001b[1;33m\u001b[0m\u001b[0m\n\u001b[0m",
      "\u001b[1;32m~\\anaconda3\\lib\\site-packages\\selenium\\webdriver\\remote\\webelement.py\u001b[0m in \u001b[0;36mclick\u001b[1;34m(self)\u001b[0m\n\u001b[0;32m     79\u001b[0m     \u001b[1;32mdef\u001b[0m \u001b[0mclick\u001b[0m\u001b[1;33m(\u001b[0m\u001b[0mself\u001b[0m\u001b[1;33m)\u001b[0m \u001b[1;33m->\u001b[0m \u001b[1;32mNone\u001b[0m\u001b[1;33m:\u001b[0m\u001b[1;33m\u001b[0m\u001b[1;33m\u001b[0m\u001b[0m\n\u001b[0;32m     80\u001b[0m         \u001b[1;34m\"\"\"Clicks the element.\"\"\"\u001b[0m\u001b[1;33m\u001b[0m\u001b[1;33m\u001b[0m\u001b[0m\n\u001b[1;32m---> 81\u001b[1;33m         \u001b[0mself\u001b[0m\u001b[1;33m.\u001b[0m\u001b[0m_execute\u001b[0m\u001b[1;33m(\u001b[0m\u001b[0mCommand\u001b[0m\u001b[1;33m.\u001b[0m\u001b[0mCLICK_ELEMENT\u001b[0m\u001b[1;33m)\u001b[0m\u001b[1;33m\u001b[0m\u001b[1;33m\u001b[0m\u001b[0m\n\u001b[0m\u001b[0;32m     82\u001b[0m \u001b[1;33m\u001b[0m\u001b[0m\n\u001b[0;32m     83\u001b[0m     \u001b[1;32mdef\u001b[0m \u001b[0msubmit\u001b[0m\u001b[1;33m(\u001b[0m\u001b[0mself\u001b[0m\u001b[1;33m)\u001b[0m\u001b[1;33m:\u001b[0m\u001b[1;33m\u001b[0m\u001b[1;33m\u001b[0m\u001b[0m\n",
      "\u001b[1;32m~\\anaconda3\\lib\\site-packages\\selenium\\webdriver\\remote\\webelement.py\u001b[0m in \u001b[0;36m_execute\u001b[1;34m(self, command, params)\u001b[0m\n\u001b[0;32m    708\u001b[0m             \u001b[0mparams\u001b[0m \u001b[1;33m=\u001b[0m \u001b[1;33m{\u001b[0m\u001b[1;33m}\u001b[0m\u001b[1;33m\u001b[0m\u001b[1;33m\u001b[0m\u001b[0m\n\u001b[0;32m    709\u001b[0m         \u001b[0mparams\u001b[0m\u001b[1;33m[\u001b[0m\u001b[1;34m'id'\u001b[0m\u001b[1;33m]\u001b[0m \u001b[1;33m=\u001b[0m \u001b[0mself\u001b[0m\u001b[1;33m.\u001b[0m\u001b[0m_id\u001b[0m\u001b[1;33m\u001b[0m\u001b[1;33m\u001b[0m\u001b[0m\n\u001b[1;32m--> 710\u001b[1;33m         \u001b[1;32mreturn\u001b[0m \u001b[0mself\u001b[0m\u001b[1;33m.\u001b[0m\u001b[0m_parent\u001b[0m\u001b[1;33m.\u001b[0m\u001b[0mexecute\u001b[0m\u001b[1;33m(\u001b[0m\u001b[0mcommand\u001b[0m\u001b[1;33m,\u001b[0m \u001b[0mparams\u001b[0m\u001b[1;33m)\u001b[0m\u001b[1;33m\u001b[0m\u001b[1;33m\u001b[0m\u001b[0m\n\u001b[0m\u001b[0;32m    711\u001b[0m \u001b[1;33m\u001b[0m\u001b[0m\n\u001b[0;32m    712\u001b[0m     \u001b[1;32mdef\u001b[0m \u001b[0mfind_element\u001b[0m\u001b[1;33m(\u001b[0m\u001b[0mself\u001b[0m\u001b[1;33m,\u001b[0m \u001b[0mby\u001b[0m\u001b[1;33m=\u001b[0m\u001b[0mBy\u001b[0m\u001b[1;33m.\u001b[0m\u001b[0mID\u001b[0m\u001b[1;33m,\u001b[0m \u001b[0mvalue\u001b[0m\u001b[1;33m=\u001b[0m\u001b[1;32mNone\u001b[0m\u001b[1;33m)\u001b[0m\u001b[1;33m:\u001b[0m\u001b[1;33m\u001b[0m\u001b[1;33m\u001b[0m\u001b[0m\n",
      "\u001b[1;32m~\\anaconda3\\lib\\site-packages\\selenium\\webdriver\\remote\\webdriver.py\u001b[0m in \u001b[0;36mexecute\u001b[1;34m(self, driver_command, params)\u001b[0m\n\u001b[0;32m    423\u001b[0m         \u001b[0mresponse\u001b[0m \u001b[1;33m=\u001b[0m \u001b[0mself\u001b[0m\u001b[1;33m.\u001b[0m\u001b[0mcommand_executor\u001b[0m\u001b[1;33m.\u001b[0m\u001b[0mexecute\u001b[0m\u001b[1;33m(\u001b[0m\u001b[0mdriver_command\u001b[0m\u001b[1;33m,\u001b[0m \u001b[0mparams\u001b[0m\u001b[1;33m)\u001b[0m\u001b[1;33m\u001b[0m\u001b[1;33m\u001b[0m\u001b[0m\n\u001b[0;32m    424\u001b[0m         \u001b[1;32mif\u001b[0m \u001b[0mresponse\u001b[0m\u001b[1;33m:\u001b[0m\u001b[1;33m\u001b[0m\u001b[1;33m\u001b[0m\u001b[0m\n\u001b[1;32m--> 425\u001b[1;33m             \u001b[0mself\u001b[0m\u001b[1;33m.\u001b[0m\u001b[0merror_handler\u001b[0m\u001b[1;33m.\u001b[0m\u001b[0mcheck_response\u001b[0m\u001b[1;33m(\u001b[0m\u001b[0mresponse\u001b[0m\u001b[1;33m)\u001b[0m\u001b[1;33m\u001b[0m\u001b[1;33m\u001b[0m\u001b[0m\n\u001b[0m\u001b[0;32m    426\u001b[0m             response['value'] = self._unwrap_value(\n\u001b[0;32m    427\u001b[0m                 response.get('value', None))\n",
      "\u001b[1;32m~\\anaconda3\\lib\\site-packages\\selenium\\webdriver\\remote\\errorhandler.py\u001b[0m in \u001b[0;36mcheck_response\u001b[1;34m(self, response)\u001b[0m\n\u001b[0;32m    245\u001b[0m                 \u001b[0malert_text\u001b[0m \u001b[1;33m=\u001b[0m \u001b[0mvalue\u001b[0m\u001b[1;33m[\u001b[0m\u001b[1;34m'alert'\u001b[0m\u001b[1;33m]\u001b[0m\u001b[1;33m.\u001b[0m\u001b[0mget\u001b[0m\u001b[1;33m(\u001b[0m\u001b[1;34m'text'\u001b[0m\u001b[1;33m)\u001b[0m\u001b[1;33m\u001b[0m\u001b[1;33m\u001b[0m\u001b[0m\n\u001b[0;32m    246\u001b[0m             \u001b[1;32mraise\u001b[0m \u001b[0mexception_class\u001b[0m\u001b[1;33m(\u001b[0m\u001b[0mmessage\u001b[0m\u001b[1;33m,\u001b[0m \u001b[0mscreen\u001b[0m\u001b[1;33m,\u001b[0m \u001b[0mstacktrace\u001b[0m\u001b[1;33m,\u001b[0m \u001b[0malert_text\u001b[0m\u001b[1;33m)\u001b[0m  \u001b[1;31m# type: ignore[call-arg]  # mypy is not smart enough here\u001b[0m\u001b[1;33m\u001b[0m\u001b[1;33m\u001b[0m\u001b[0m\n\u001b[1;32m--> 247\u001b[1;33m         \u001b[1;32mraise\u001b[0m \u001b[0mexception_class\u001b[0m\u001b[1;33m(\u001b[0m\u001b[0mmessage\u001b[0m\u001b[1;33m,\u001b[0m \u001b[0mscreen\u001b[0m\u001b[1;33m,\u001b[0m \u001b[0mstacktrace\u001b[0m\u001b[1;33m)\u001b[0m\u001b[1;33m\u001b[0m\u001b[1;33m\u001b[0m\u001b[0m\n\u001b[0m\u001b[0;32m    248\u001b[0m \u001b[1;33m\u001b[0m\u001b[0m\n\u001b[0;32m    249\u001b[0m     \u001b[1;32mdef\u001b[0m \u001b[0m_value_or_default\u001b[0m\u001b[1;33m(\u001b[0m\u001b[0mself\u001b[0m\u001b[1;33m,\u001b[0m \u001b[0mobj\u001b[0m\u001b[1;33m:\u001b[0m \u001b[0mMapping\u001b[0m\u001b[1;33m[\u001b[0m\u001b[0m_KT\u001b[0m\u001b[1;33m,\u001b[0m \u001b[0m_VT\u001b[0m\u001b[1;33m]\u001b[0m\u001b[1;33m,\u001b[0m \u001b[0mkey\u001b[0m\u001b[1;33m:\u001b[0m \u001b[0m_KT\u001b[0m\u001b[1;33m,\u001b[0m \u001b[0mdefault\u001b[0m\u001b[1;33m:\u001b[0m \u001b[0m_VT\u001b[0m\u001b[1;33m)\u001b[0m \u001b[1;33m->\u001b[0m \u001b[0m_VT\u001b[0m\u001b[1;33m:\u001b[0m\u001b[1;33m\u001b[0m\u001b[1;33m\u001b[0m\u001b[0m\n",
      "\u001b[1;31mElementNotInteractableException\u001b[0m: Message: element not interactable\n  (Session info: chrome=99.0.4844.74)\nStacktrace:\nBacktrace:\n\tOrdinal0 [0x00329943+2595139]\n\tOrdinal0 [0x002BC9F1+2148849]\n\tOrdinal0 [0x001B43F0+1065968]\n\tOrdinal0 [0x001E1F17+1253143]\n\tOrdinal0 [0x001D7AB3+1211059]\n\tOrdinal0 [0x001FB9EC+1358316]\n\tOrdinal0 [0x001D7474+1209460]\n\tOrdinal0 [0x001FBC04+1358852]\n\tOrdinal0 [0x0020BAF2+1424114]\n\tOrdinal0 [0x001FB806+1357830]\n\tOrdinal0 [0x001D6086+1204358]\n\tOrdinal0 [0x001D6F96+1208214]\n\tGetHandleVerifier [0x004CB232+1658114]\n\tGetHandleVerifier [0x0058312C+2411516]\n\tGetHandleVerifier [0x003BF261+560433]\n\tGetHandleVerifier [0x003BE366+556598]\n\tOrdinal0 [0x002C286B+2173035]\n\tOrdinal0 [0x002C75F8+2192888]\n\tOrdinal0 [0x002C76E5+2193125]\n\tOrdinal0 [0x002D11FC+2232828]\n\tBaseThreadInitThunk [0x76CBFA29+25]\n\tRtlGetAppContainerNamedObjectPath [0x77467A7E+286]\n\tRtlGetAppContainerNamedObjectPath [0x77467A4E+238]\n\t(No symbol) [0x00000000]\n"
     ]
    }
   ],
   "source": [
    "searchbt10.click()"
   ]
  },
  {
   "cell_type": "code",
   "execution_count": 38,
   "id": "fabfd0bb",
   "metadata": {},
   "outputs": [
    {
     "data": {
      "text/plain": [
       "[<selenium.webdriver.remote.webelement.WebElement (session=\"213cd959c9cec6bd818d704d57f85616\", element=\"01a36bcd-0e87-4772-bfe7-77e469171283\")>,\n",
       " <selenium.webdriver.remote.webelement.WebElement (session=\"213cd959c9cec6bd818d704d57f85616\", element=\"801acea6-08d6-4be4-a2e7-040f6812a7ea\")>,\n",
       " <selenium.webdriver.remote.webelement.WebElement (session=\"213cd959c9cec6bd818d704d57f85616\", element=\"49ec90fe-e7eb-45f1-8a15-654bfc35525d\")>,\n",
       " <selenium.webdriver.remote.webelement.WebElement (session=\"213cd959c9cec6bd818d704d57f85616\", element=\"814ebd19-b05d-40b7-8290-f98d248935b2\")>,\n",
       " <selenium.webdriver.remote.webelement.WebElement (session=\"213cd959c9cec6bd818d704d57f85616\", element=\"472e45b2-bf42-41ac-9954-baafd291a81f\")>]"
      ]
     },
     "execution_count": 38,
     "metadata": {},
     "output_type": "execute_result"
    }
   ],
   "source": [
    "company=driver10.find_elements_by_xpath('//div[@class=\"name\"]')\n",
    "company[0:5]"
   ]
  },
  {
   "cell_type": "code",
   "execution_count": 36,
   "id": "2eb7481c",
   "metadata": {},
   "outputs": [
    {
     "data": {
      "text/plain": [
       "[['Ab', 'Inbev'],\n",
       " ['ZS'],\n",
       " ['Optum'],\n",
       " ['Fractal', 'Analytics'],\n",
       " ['Tiger', 'Analytics'],\n",
       " ['UnitedHealth'],\n",
       " ['Verizon'],\n",
       " ['Ganit', 'Business', 'Solutions'],\n",
       " ['Ericsson'],\n",
       " ['Deloitte']]"
      ]
     },
     "execution_count": 36,
     "metadata": {},
     "output_type": "execute_result"
    }
   ],
   "source": [
    "companys=[]\n",
    "for i in company:\n",
    "    companys.append(i.text.replace('\\nbased on','').replace('salaries','').split()[:-1])\n",
    "companys    "
   ]
  },
  {
   "cell_type": "code",
   "execution_count": 37,
   "id": "60acf4a9",
   "metadata": {},
   "outputs": [
    {
     "data": {
      "text/plain": [
       "[<selenium.webdriver.remote.webelement.WebElement (session=\"213cd959c9cec6bd818d704d57f85616\", element=\"01a36bcd-0e87-4772-bfe7-77e469171283\")>,\n",
       " <selenium.webdriver.remote.webelement.WebElement (session=\"213cd959c9cec6bd818d704d57f85616\", element=\"801acea6-08d6-4be4-a2e7-040f6812a7ea\")>,\n",
       " <selenium.webdriver.remote.webelement.WebElement (session=\"213cd959c9cec6bd818d704d57f85616\", element=\"49ec90fe-e7eb-45f1-8a15-654bfc35525d\")>,\n",
       " <selenium.webdriver.remote.webelement.WebElement (session=\"213cd959c9cec6bd818d704d57f85616\", element=\"814ebd19-b05d-40b7-8290-f98d248935b2\")>,\n",
       " <selenium.webdriver.remote.webelement.WebElement (session=\"213cd959c9cec6bd818d704d57f85616\", element=\"472e45b2-bf42-41ac-9954-baafd291a81f\")>]"
      ]
     },
     "execution_count": 37,
     "metadata": {},
     "output_type": "execute_result"
    }
   ],
   "source": [
    "nosalary=driver10.find_elements_by_xpath('//div[@class=\"name\"]')\n",
    "nosalary[0:5]"
   ]
  },
  {
   "cell_type": "code",
   "execution_count": 44,
   "id": "1e8676b7",
   "metadata": {},
   "outputs": [
    {
     "data": {
      "text/plain": [
       "['28', '15', '25', '77', '33', '52', '14', '13', '43', '57']"
      ]
     },
     "execution_count": 44,
     "metadata": {},
     "output_type": "execute_result"
    }
   ],
   "source": [
    "nosalarys=[]\n",
    "for i in nosalary:\n",
    "    nosalarys.append(i.text.replace('\\nbased on','').replace('salaries','').split()[-1])\n",
    "nosalarys    "
   ]
  },
  {
   "cell_type": "code",
   "execution_count": 45,
   "id": "84b1f884",
   "metadata": {},
   "outputs": [
    {
     "data": {
      "text/plain": [
       "[<selenium.webdriver.remote.webelement.WebElement (session=\"213cd959c9cec6bd818d704d57f85616\", element=\"d5b6adbb-bd59-4785-978f-c5ae90797cca\")>,\n",
       " <selenium.webdriver.remote.webelement.WebElement (session=\"213cd959c9cec6bd818d704d57f85616\", element=\"67d1bb1f-a7fe-43a6-880a-6673a3fd0a25\")>,\n",
       " <selenium.webdriver.remote.webelement.WebElement (session=\"213cd959c9cec6bd818d704d57f85616\", element=\"f015c964-881a-43b1-b3df-768c548ecfde\")>,\n",
       " <selenium.webdriver.remote.webelement.WebElement (session=\"213cd959c9cec6bd818d704d57f85616\", element=\"5cc4f3e9-6f7b-46cc-b661-8f2755476fa2\")>,\n",
       " <selenium.webdriver.remote.webelement.WebElement (session=\"213cd959c9cec6bd818d704d57f85616\", element=\"fbf008ab-deaf-4666-947f-ae1cfeef7514\")>]"
      ]
     },
     "execution_count": 45,
     "metadata": {},
     "output_type": "execute_result"
    }
   ],
   "source": [
    "average=driver10.find_elements_by_xpath('//p[@class=\"averageCtc\"]')\n",
    "average[0:5]"
   ]
  },
  {
   "cell_type": "code",
   "execution_count": 46,
   "id": "0b3b9ed6",
   "metadata": {},
   "outputs": [
    {
     "data": {
      "text/plain": [
       "['₹ 20.3L',\n",
       " '₹ 15.3L',\n",
       " '₹ 15.1L',\n",
       " '₹ 15.1L',\n",
       " '₹ 14.4L',\n",
       " '₹ 13.9L',\n",
       " '₹ 12.7L',\n",
       " '₹ 12.4L',\n",
       " '₹ 11.9L',\n",
       " '₹ 11.7L']"
      ]
     },
     "execution_count": 46,
     "metadata": {},
     "output_type": "execute_result"
    }
   ],
   "source": [
    "averages=[]\n",
    "for i in average:\n",
    "    averages.append(i.text)\n",
    "averages    "
   ]
  },
  {
   "cell_type": "code",
   "execution_count": 60,
   "id": "342efdbb",
   "metadata": {},
   "outputs": [
    {
     "data": {
      "text/plain": [
       "[<selenium.webdriver.remote.webelement.WebElement (session=\"213cd959c9cec6bd818d704d57f85616\", element=\"dd7b226e-fd2c-4785-850b-f599c0f94a56\")>,\n",
       " <selenium.webdriver.remote.webelement.WebElement (session=\"213cd959c9cec6bd818d704d57f85616\", element=\"b468fb56-0dc4-4891-bdcf-eeb2d66d8583\")>,\n",
       " <selenium.webdriver.remote.webelement.WebElement (session=\"213cd959c9cec6bd818d704d57f85616\", element=\"9cc021be-4ef7-4a8e-9c3d-f6f0384d363f\")>,\n",
       " <selenium.webdriver.remote.webelement.WebElement (session=\"213cd959c9cec6bd818d704d57f85616\", element=\"353f2c29-dc1b-4d62-84dd-6ce6f8bdaeaa\")>,\n",
       " <selenium.webdriver.remote.webelement.WebElement (session=\"213cd959c9cec6bd818d704d57f85616\", element=\"3ed68a16-b98e-4f17-a8b0-c566871c4e39\")>]"
      ]
     },
     "execution_count": 60,
     "metadata": {},
     "output_type": "execute_result"
    }
   ],
   "source": [
    "mini=driver10.find_elements_by_xpath('//div[@class=\"salary-values\"]')\n",
    "mini[0:5]"
   ]
  },
  {
   "cell_type": "code",
   "execution_count": 72,
   "id": "80e02648",
   "metadata": {},
   "outputs": [
    {
     "data": {
      "text/plain": [
       "[['15.0L'],\n",
       " ['9.5L'],\n",
       " ['11.0L'],\n",
       " ['9.5L'],\n",
       " ['8.3L'],\n",
       " ['8.3L'],\n",
       " ['10.0L'],\n",
       " ['8.5L'],\n",
       " ['5.8L'],\n",
       " ['6.9L']]"
      ]
     },
     "execution_count": 72,
     "metadata": {},
     "output_type": "execute_result"
    }
   ],
   "source": [
    "\n",
    "minis=[]\n",
    "for i in mini:\n",
    "    minis.append(i.text.replace('\\n₹','').split()[1:2])\n",
    "minis"
   ]
  },
  {
   "cell_type": "code",
   "execution_count": 62,
   "id": "196cc6f5",
   "metadata": {},
   "outputs": [
    {
     "data": {
      "text/plain": [
       "[<selenium.webdriver.remote.webelement.WebElement (session=\"213cd959c9cec6bd818d704d57f85616\", element=\"dd7b226e-fd2c-4785-850b-f599c0f94a56\")>,\n",
       " <selenium.webdriver.remote.webelement.WebElement (session=\"213cd959c9cec6bd818d704d57f85616\", element=\"b468fb56-0dc4-4891-bdcf-eeb2d66d8583\")>,\n",
       " <selenium.webdriver.remote.webelement.WebElement (session=\"213cd959c9cec6bd818d704d57f85616\", element=\"9cc021be-4ef7-4a8e-9c3d-f6f0384d363f\")>,\n",
       " <selenium.webdriver.remote.webelement.WebElement (session=\"213cd959c9cec6bd818d704d57f85616\", element=\"353f2c29-dc1b-4d62-84dd-6ce6f8bdaeaa\")>,\n",
       " <selenium.webdriver.remote.webelement.WebElement (session=\"213cd959c9cec6bd818d704d57f85616\", element=\"3ed68a16-b98e-4f17-a8b0-c566871c4e39\")>]"
      ]
     },
     "execution_count": 62,
     "metadata": {},
     "output_type": "execute_result"
    }
   ],
   "source": [
    "maxi=driver10.find_elements_by_xpath('//div[@class=\"salary-values\"]')\n",
    "maxi[0:5]"
   ]
  },
  {
   "cell_type": "code",
   "execution_count": 75,
   "id": "c84e6d01",
   "metadata": {},
   "outputs": [
    {
     "data": {
      "text/plain": [
       "['25.5L',\n",
       " '20.0L',\n",
       " '21.3L',\n",
       " '22.0L',\n",
       " '20.0L',\n",
       " '20.5L',\n",
       " '21.0L',\n",
       " '15.0L',\n",
       " '24.0L',\n",
       " '23.4L']"
      ]
     },
     "execution_count": 75,
     "metadata": {},
     "output_type": "execute_result"
    }
   ],
   "source": [
    "maxis=[]\n",
    "for i in maxi:\n",
    "    maxis.append(i.text.replace('\\n₹','').split()[2])\n",
    "maxis    "
   ]
  },
  {
   "cell_type": "code",
   "execution_count": null,
   "id": "a61a8d9f",
   "metadata": {},
   "outputs": [],
   "source": []
  }
 ],
 "metadata": {
  "kernelspec": {
   "display_name": "Python 3 (ipykernel)",
   "language": "python",
   "name": "python3"
  },
  "language_info": {
   "codemirror_mode": {
    "name": "ipython",
    "version": 3
   },
   "file_extension": ".py",
   "mimetype": "text/x-python",
   "name": "python",
   "nbconvert_exporter": "python",
   "pygments_lexer": "ipython3",
   "version": "3.9.7"
  }
 },
 "nbformat": 4,
 "nbformat_minor": 5
}
